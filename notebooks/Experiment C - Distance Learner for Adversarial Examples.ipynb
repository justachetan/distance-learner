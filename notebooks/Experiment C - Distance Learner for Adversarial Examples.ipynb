{
 "cells": [
  {
   "cell_type": "code",
   "execution_count": 2,
   "metadata": {},
   "outputs": [],
   "source": [
    "import os\n",
    "os.chdir(\"../src/expB/\")"
   ]
  },
  {
   "cell_type": "markdown",
   "metadata": {},
   "source": [
    "# Distance Learner for Adversarial Examples\n",
    "\n",
    "Steps:\n",
    "\n",
    "1. Train distance function with multiple spheres.\n",
    "2. Construct a classifier which classifies based on the closest distance to the spheres.\n",
    "3. Compare this to a standard classifier which learns the classification task directly (instead of learning distance functions).\n",
    "4. Adversarial attacks can be detected as points which are at least a threshold distance from the closest manifold.\n",
    "5. Compare adversarial robustness via above method and current adversarial robustness methods on classifiers (e.g. Madry et.al’s adversarial training).\n",
    "6. Run above on different synthetic manifolds.Run above on real datasets: MNIST, Cifar."
   ]
  },
  {
   "cell_type": "markdown",
   "metadata": {},
   "source": [
    "## 1. Train distance function with multiple spheres."
   ]
  },
  {
   "cell_type": "markdown",
   "metadata": {},
   "source": [
    "### 1.1 Generate the dataset\n",
    "\n",
    "\n"
   ]
  },
  {
   "cell_type": "code",
   "execution_count": null,
   "metadata": {},
   "outputs": [],
   "source": [
    "%run spheres_v2.py --twospheres --config data_configs/2sphere_expC_config.json --save_dir /azuredrive/datasets/expC/2spheres\n",
    "\n",
    "\n",
    "\n",
    "\n"
   ]
  },
  {
   "cell_type": "markdown",
   "metadata": {},
   "source": [
    "### 1.2 Training a Distance Regressor on the generated 2spheres dataset"
   ]
  },
  {
   "cell_type": "code",
   "execution_count": 2,
   "metadata": {},
   "outputs": [
    {
     "name": "stderr",
     "output_type": "stream",
     "text": [
      "100%|██████████| 500/500 [58:46<00:00,  7.05s/it]\n"
     ]
    }
   ],
   "source": [
    "%run -i learn_mfld_distance.py --train --specs ./expt_specs/specs_distlearn_2spheres_expC_31052021.json\n",
    "\n",
    "\n"
   ]
  },
  {
   "cell_type": "markdown",
   "metadata": {},
   "source": [
    "## 2. Construct a classifier which classifies based on the closest distance to the spheres."
   ]
  },
  {
   "cell_type": "markdown",
   "metadata": {},
   "source": [
    "### 2.1 Compute and store logits from Distance Regressor"
   ]
  },
  {
   "cell_type": "code",
   "execution_count": 3,
   "metadata": {},
   "outputs": [
    {
     "name": "stdout",
     "output_type": "stream",
     "text": [
      "name: train\n",
      "MSE for the learned distances: 8.024667e-06\n",
      "MSE for the learned distances (on-manifold): 8.024749e-06\n",
      "name: val\n",
      "MSE for the learned distances: 9.055453e-06\n",
      "MSE for the learned distances (on-manifold): 9.055488e-06\n",
      "name: test\n",
      "MSE for the learned distances: 8.862155e-06\n",
      "MSE for the learned distances (on-manifold): 8.862197e-06\n"
     ]
    }
   ],
   "source": [
    "%run -i learn_mfld_distance.py --test --specs ./expt_specs/specs_distlearn_2spheres_expC_test_01062021.json\n",
    "\n",
    "\n"
   ]
  },
  {
   "cell_type": "code",
   "execution_count": 5,
   "metadata": {},
   "outputs": [
    {
     "name": "stdout",
     "output_type": "stream",
     "text": [
      ".  ..  logits.pt  specs.json  targets.pt\r\n"
     ]
    }
   ],
   "source": [
    "\n"
   ]
  },
  {
   "cell_type": "code",
   "execution_count": 9,
   "metadata": {},
   "outputs": [
    {
     "data": {
      "text/plain": [
       "'/azuredrive/dumps/expC_dist_learner_for_adv_ex/dist_learner/test_MLPwithNormalization_model{hidden_sizes=512x4,sigmoid_last,batch_norm}_data{2spheres_in_unit_cube;n=100;k=2}/31052021-192633'"
      ]
     },
     "execution_count": 9,
     "metadata": {},
     "output_type": "execute_result"
    }
   ],
   "source": []
  },
  {
   "cell_type": "markdown",
   "metadata": {},
   "source": [
    "### 2.2 Compute optimal threshold using training set"
   ]
  },
  {
   "cell_type": "code",
   "execution_count": null,
   "metadata": {},
   "outputs": [],
   "source": []
  },
  {
   "cell_type": "code",
   "execution_count": null,
   "metadata": {},
   "outputs": [],
   "source": []
  },
  {
   "cell_type": "code",
   "execution_count": null,
   "metadata": {},
   "outputs": [],
   "source": []
  },
  {
   "cell_type": "markdown",
   "metadata": {},
   "source": [
    "## 3. Compare this to a standard classifier which learns the classification task directly (instead of learning distance functions)."
   ]
  },
  {
   "cell_type": "markdown",
   "metadata": {},
   "source": [
    "### 3.1 Train a standard classifier on the same dataset"
   ]
  },
  {
   "cell_type": "code",
   "execution_count": 2,
   "metadata": {},
   "outputs": [
    {
     "name": "stderr",
     "output_type": "stream",
     "text": [
      "100%|██████████| 500/500 [43:08<00:00,  5.18s/it]\n"
     ]
    }
   ],
   "source": [
    "%run -i learn_mfld_distance.py --train --specs ./expt_specs/specs_stdclf_2spheres_expC_31052021.json\n",
    "\n",
    "\n"
   ]
  },
  {
   "cell_type": "markdown",
   "metadata": {},
   "source": [
    "### 3.2 Compute and store logits for standard classification"
   ]
  },
  {
   "cell_type": "code",
   "execution_count": null,
   "metadata": {},
   "outputs": [],
   "source": []
  }
 ],
 "metadata": {
  "kernelspec": {
   "display_name": "Python 3",
   "language": "python",
   "name": "python3"
  },
  "language_info": {
   "codemirror_mode": {
    "name": "ipython",
    "version": 3
   },
   "file_extension": ".py",
   "mimetype": "text/x-python",
   "name": "python",
   "nbconvert_exporter": "python",
   "pygments_lexer": "ipython3",
   "version": "3.6.9"
  }
 },
 "nbformat": 4,
 "nbformat_minor": 4
}
