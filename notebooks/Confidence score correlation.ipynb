{
 "cells": [
  {
   "cell_type": "code",
   "execution_count": 1,
   "metadata": {},
   "outputs": [
    {
     "name": "stderr",
     "output_type": "stream",
     "text": [
      "20-05-2022 19:51:37 -- [I] faiss.loader >> Loading faiss with AVX2 support.\n",
      "20-05-2022 19:51:37 -- [I] faiss.loader >> Successfully loaded faiss with AVX2 support.\n"
     ]
    }
   ],
   "source": [
    "import os\n",
    "os.chdir(\"/data/t-achetan/adv_geom/src/\")\n",
    "import matplotlib.pyplot as plt\n",
    "\n",
    "import torch\n",
    "from torch.utils.data import Dataset, TensorDataset, DataLoader\n",
    "import numpy as np\n",
    "\n",
    "\n",
    "from sklearn.calibration import calibration_curve, CalibrationDisplay\n",
    "\n",
    "import expB.learn_mfld_distance as lmd\n",
    "from expB.myNNs import MTMLPwithNormalisation\n",
    "from datagen.synthetic.multiple.concentricspheres import ConcentricSpheres"
   ]
  },
  {
   "cell_type": "code",
   "execution_count": null,
   "metadata": {},
   "outputs": [],
   "source": []
  },
  {
   "cell_type": "markdown",
   "metadata": {},
   "source": [
    "# Distance Learner"
   ]
  },
  {
   "cell_type": "code",
   "execution_count": null,
   "metadata": {},
   "outputs": [],
   "source": [
    "dump_dir = \"/data/t-achetan/dumps/expC_dist_learner_for_adv_ex/rdm_concspheres_test/rdm_concspheres_k50n500_noninfdist_moreoffmfldv3_bs4096_highmn40_inferred_maxtdelta_5e-3/2/logits/val/\"\n",
    "\n",
    "\n",
    "targets_fn = os.path.join(dump_dir, \"targets.pt\")\n",
    "targets = torch.load(targets_fn)\n",
    "logits_fn = os.path.join(dump_dir, \"logits.pt\")\n",
    "logits = torch.load(logits_fn)\n"
   ]
  },
  {
   "cell_type": "code",
   "execution_count": null,
   "metadata": {},
   "outputs": [],
   "source": [
    "gt_distance, gt_labels = torch.min(targets, dim=1)"
   ]
  },
  {
   "cell_type": "code",
   "execution_count": null,
   "metadata": {},
   "outputs": [],
   "source": [
    "pred_distance, pred_labels = torch.min(logits, dim=1)"
   ]
  },
  {
   "cell_type": "code",
   "execution_count": null,
   "metadata": {},
   "outputs": [],
   "source": [
    "label_name = 1\n",
    "thresh = 0.15\n",
    "\n",
    "chunks = np.arange(0.01, 1.01, 0.01)\n",
    "chunks_cumtot = np.zeros(chunks.shape[0])\n",
    "chunks_cumcor = np.zeros(chunks.shape[0])\n",
    "chunks_cumacc = np.zeros(chunks.shape[0])\n",
    "\n",
    "for i in range(len(chunks)):\n",
    "    \n",
    "    max_dist = chunks[i]\n",
    "    label_pred_dists = logits[:, label_name]\n",
    "    label_pred_labels = torch.zeros(label_pred_dists.shape[0]).long() + label_name\n",
    "    label_pred_labels[label_pred_dists > thresh] = 2\n",
    "    \n",
    "    label_gt_dists = targets[:, label_name]\n",
    "    label_gt_labels = torch.zeros(label_gt_dists.shape[0]).long() + label_name\n",
    "    label_gt_labels[label_gt_dists > thresh] = 2\n",
    "    \n",
    "    chunks_cumtot[i] = logits[(logits[:, label_name] <= chunks[i]) & (label_pred_labels == label_name)].shape[0]\n",
    "    \n",
    "    chunks_cumcor[i] = logits[(logits[:, label_name] <= chunks[i]) & (label_pred_labels == label_name) & (label_gt_labels == label_pred_labels)].shape[0]\n",
    "    chunks_cumacc[i] = chunks_cumcor[i] / (chunks_cumtot[i])\n",
    "    \n",
    "plt.plot(chunks, chunks_cumacc)\n",
    "plt.scatter(chunks, chunks_cumacc, s=0.01)\n",
    "plt.show()\n",
    "    "
   ]
  },
  {
   "cell_type": "code",
   "execution_count": null,
   "metadata": {},
   "outputs": [],
   "source": [
    "chunks_cumacc"
   ]
  },
  {
   "cell_type": "code",
   "execution_count": null,
   "metadata": {},
   "outputs": [],
   "source": [
    "chunks"
   ]
  },
  {
   "cell_type": "markdown",
   "metadata": {},
   "source": [
    "# Standard Classifier"
   ]
  },
  {
   "cell_type": "code",
   "execution_count": 6,
   "metadata": {},
   "outputs": [],
   "source": [
    "common_prefix = \"/data/t-achetan/dumps/expC_dist_learner_for_adv_ex/rdm_concspheres_test/\"\n",
    "name = \"rdm_concspheres_k50n500_noninfdist_moreoffmfld_advtraindebug_bs4096_eps=8e-2\"\n",
    "run_id = \"1\"\n",
    "model_fn = os.path.join(common_prefix, name, run_id, \"models\", \"ckpt.pth\")\n",
    "model_dump = torch.load(model_fn)"
   ]
  },
  {
   "cell_type": "code",
   "execution_count": 7,
   "metadata": {},
   "outputs": [
    {
     "data": {
      "text/plain": [
       "<All keys matched successfully>"
      ]
     },
     "execution_count": 7,
     "metadata": {},
     "output_type": "execute_result"
    }
   ],
   "source": [
    "model = MTMLPwithNormalisation(\n",
    "    input_size=500,\n",
    "    output_size=2,\n",
    "    use_tanh=False,\n",
    "    use_relu=False,\n",
    "    weight_norm=False\n",
    ")\n",
    "model.load_state_dict(model_dump[\"model_state_dict\"])"
   ]
  },
  {
   "cell_type": "code",
   "execution_count": 8,
   "metadata": {
    "scrolled": true
   },
   "outputs": [
    {
     "name": "stderr",
     "output_type": "stream",
     "text": [
      "20-05-2022 19:57:43 -- [I] root >> [ConcentricSpheres]: data attribute (_x_ck) loaded from file: /data/t-achetan/dumps/expC_dist_learner_for_adv_ex/rdm_concspheres_test/rdm_concspheres_k50n500_noninfdist_moreoffmfld_advtraindebug_bs4096_eps=8e-2/data/val/_x_ck.pkl\n",
      "20-05-2022 19:57:43 -- [I] root >> [ConcentricSpheres]: data attribute (_x_cn) loaded from file: /data/t-achetan/dumps/expC_dist_learner_for_adv_ex/rdm_concspheres_test/rdm_concspheres_k50n500_noninfdist_moreoffmfld_advtraindebug_bs4096_eps=8e-2/data/val/_x_cn.pkl\n",
      "20-05-2022 19:57:43 -- [I] root >> [ConcentricSpheres]: data attribute (_rotation) loaded from file: /data/t-achetan/dumps/expC_dist_learner_for_adv_ex/rdm_concspheres_test/rdm_concspheres_k50n500_noninfdist_moreoffmfld_advtraindebug_bs4096_eps=8e-2/data/val/_rotation.pkl\n",
      "20-05-2022 19:57:43 -- [I] root >> [ConcentricSpheres]: data attribute (_translation) loaded from file: /data/t-achetan/dumps/expC_dist_learner_for_adv_ex/rdm_concspheres_test/rdm_concspheres_k50n500_noninfdist_moreoffmfld_advtraindebug_bs4096_eps=8e-2/data/val/_translation.pkl\n",
      "20-05-2022 19:57:43 -- [I] root >> [ConcentricSpheres]: data attribute (_anchor) loaded from file: /data/t-achetan/dumps/expC_dist_learner_for_adv_ex/rdm_concspheres_test/rdm_concspheres_k50n500_noninfdist_moreoffmfld_advtraindebug_bs4096_eps=8e-2/data/val/_anchor.pkl\n",
      "20-05-2022 19:57:45 -- [I] root >> [ConcentricSpheres]: data attribute (all_points) loaded from file: /data/t-achetan/dumps/expC_dist_learner_for_adv_ex/rdm_concspheres_test/rdm_concspheres_k50n500_noninfdist_moreoffmfld_advtraindebug_bs4096_eps=8e-2/data/val/all_points.pkl\n",
      "20-05-2022 19:57:45 -- [I] root >> [ConcentricSpheres]: data attribute (all_distances) loaded from file: /data/t-achetan/dumps/expC_dist_learner_for_adv_ex/rdm_concspheres_test/rdm_concspheres_k50n500_noninfdist_moreoffmfld_advtraindebug_bs4096_eps=8e-2/data/val/all_distances.pkl\n",
      "20-05-2022 19:57:45 -- [I] root >> [ConcentricSpheres]: data attribute (all_actual_distances) loaded from file: /data/t-achetan/dumps/expC_dist_learner_for_adv_ex/rdm_concspheres_test/rdm_concspheres_k50n500_noninfdist_moreoffmfld_advtraindebug_bs4096_eps=8e-2/data/val/all_actual_distances.pkl\n",
      "20-05-2022 19:57:45 -- [I] root >> [ConcentricSpheres]: data attribute (all_smooth_distances) loaded from file: /data/t-achetan/dumps/expC_dist_learner_for_adv_ex/rdm_concspheres_test/rdm_concspheres_k50n500_noninfdist_moreoffmfld_advtraindebug_bs4096_eps=8e-2/data/val/all_smooth_distances.pkl\n",
      "20-05-2022 19:57:45 -- [I] root >> [ConcentricSpheres]: data attribute (class_labels) loaded from file: /data/t-achetan/dumps/expC_dist_learner_for_adv_ex/rdm_concspheres_test/rdm_concspheres_k50n500_noninfdist_moreoffmfld_advtraindebug_bs4096_eps=8e-2/data/val/class_labels.pkl\n",
      "20-05-2022 19:57:45 -- [I] root >> [ConcentricSpheres]: data attribute (pre_class_labels) loaded from file: /data/t-achetan/dumps/expC_dist_learner_for_adv_ex/rdm_concspheres_test/rdm_concspheres_k50n500_noninfdist_moreoffmfld_advtraindebug_bs4096_eps=8e-2/data/val/pre_class_labels.pkl\n",
      "20-05-2022 19:57:47 -- [I] root >> [ConcentricSpheres]: data attribute (normed_all_points) loaded from file: /data/t-achetan/dumps/expC_dist_learner_for_adv_ex/rdm_concspheres_test/rdm_concspheres_k50n500_noninfdist_moreoffmfld_advtraindebug_bs4096_eps=8e-2/data/val/normed_all_points.pkl\n",
      "20-05-2022 19:57:47 -- [I] root >> [ConcentricSpheres]: data attribute (normed_all_distances) loaded from file: /data/t-achetan/dumps/expC_dist_learner_for_adv_ex/rdm_concspheres_test/rdm_concspheres_k50n500_noninfdist_moreoffmfld_advtraindebug_bs4096_eps=8e-2/data/val/normed_all_distances.pkl\n",
      "20-05-2022 19:57:47 -- [I] root >> [ConcentricSpheres]: data attribute (normed_all_actual_distances) loaded from file: /data/t-achetan/dumps/expC_dist_learner_for_adv_ex/rdm_concspheres_test/rdm_concspheres_k50n500_noninfdist_moreoffmfld_advtraindebug_bs4096_eps=8e-2/data/val/normed_all_actual_distances.pkl\n",
      "20-05-2022 19:57:47 -- [I] root >> [ConcentricSpheres]: data attribute (normed_all_smooth_distances) loaded from file: /data/t-achetan/dumps/expC_dist_learner_for_adv_ex/rdm_concspheres_test/rdm_concspheres_k50n500_noninfdist_moreoffmfld_advtraindebug_bs4096_eps=8e-2/data/val/normed_all_smooth_distances.pkl\n",
      "20-05-2022 19:57:47 -- [I] root >> [ConcentricSpheres]: data attribute (fix_center) loaded from file: /data/t-achetan/dumps/expC_dist_learner_for_adv_ex/rdm_concspheres_test/rdm_concspheres_k50n500_noninfdist_moreoffmfld_advtraindebug_bs4096_eps=8e-2/data/val/fix_center.pkl\n",
      "20-05-2022 19:57:47 -- [I] root >> [RandomSphere]: data attribute (_rotation) loaded from file: /data/t-achetan/dumps/expC_dist_learner_for_adv_ex/rdm_concspheres_test/rdm_concspheres_k50n500_noninfdist_moreoffmfld_advtraindebug_bs4096_eps=8e-2/data/val/S1_dump/_rotation.pkl\n",
      "20-05-2022 19:57:47 -- [I] root >> [RandomSphere]: data attribute (_translation) loaded from file: /data/t-achetan/dumps/expC_dist_learner_for_adv_ex/rdm_concspheres_test/rdm_concspheres_k50n500_noninfdist_moreoffmfld_advtraindebug_bs4096_eps=8e-2/data/val/S1_dump/_translation.pkl\n",
      "20-05-2022 19:57:47 -- [I] root >> [RandomSphere]: data attribute (_anchor) loaded from file: /data/t-achetan/dumps/expC_dist_learner_for_adv_ex/rdm_concspheres_test/rdm_concspheres_k50n500_noninfdist_moreoffmfld_advtraindebug_bs4096_eps=8e-2/data/val/S1_dump/_anchor.pkl\n",
      "20-05-2022 19:57:47 -- [I] root >> [RandomSphere]: data attribute (points_k) loaded from file: /data/t-achetan/dumps/expC_dist_learner_for_adv_ex/rdm_concspheres_test/rdm_concspheres_k50n500_noninfdist_moreoffmfld_advtraindebug_bs4096_eps=8e-2/data/val/S1_dump/points_k.pkl\n",
      "20-05-2022 19:57:48 -- [I] root >> [RandomSphere]: data attribute (pre_images_k) loaded from file: /data/t-achetan/dumps/expC_dist_learner_for_adv_ex/rdm_concspheres_test/rdm_concspheres_k50n500_noninfdist_moreoffmfld_advtraindebug_bs4096_eps=8e-2/data/val/S1_dump/pre_images_k.pkl\n",
      "20-05-2022 19:57:50 -- [I] root >> [RandomSphere]: data attribute (points_n_trivial_) loaded from file: /data/t-achetan/dumps/expC_dist_learner_for_adv_ex/rdm_concspheres_test/rdm_concspheres_k50n500_noninfdist_moreoffmfld_advtraindebug_bs4096_eps=8e-2/data/val/S1_dump/points_n_trivial_.pkl\n",
      "20-05-2022 19:57:52 -- [I] root >> [RandomSphere]: data attribute (points_n_tr_) loaded from file: /data/t-achetan/dumps/expC_dist_learner_for_adv_ex/rdm_concspheres_test/rdm_concspheres_k50n500_noninfdist_moreoffmfld_advtraindebug_bs4096_eps=8e-2/data/val/S1_dump/points_n_tr_.pkl\n",
      "20-05-2022 19:57:54 -- [I] root >> [RandomSphere]: data attribute (points_n_rot_) loaded from file: /data/t-achetan/dumps/expC_dist_learner_for_adv_ex/rdm_concspheres_test/rdm_concspheres_k50n500_noninfdist_moreoffmfld_advtraindebug_bs4096_eps=8e-2/data/val/S1_dump/points_n_rot_.pkl\n",
      "20-05-2022 19:57:55 -- [I] root >> [RandomSphere]: data attribute (points_n) loaded from file: /data/t-achetan/dumps/expC_dist_learner_for_adv_ex/rdm_concspheres_test/rdm_concspheres_k50n500_noninfdist_moreoffmfld_advtraindebug_bs4096_eps=8e-2/data/val/S1_dump/points_n.pkl\n",
      "20-05-2022 19:57:55 -- [I] root >> [RandomSphere]: data attribute (actual_distances) loaded from file: /data/t-achetan/dumps/expC_dist_learner_for_adv_ex/rdm_concspheres_test/rdm_concspheres_k50n500_noninfdist_moreoffmfld_advtraindebug_bs4096_eps=8e-2/data/val/S1_dump/actual_distances.pkl\n",
      "20-05-2022 19:57:55 -- [I] root >> [RandomSphere]: data attribute (distances) loaded from file: /data/t-achetan/dumps/expC_dist_learner_for_adv_ex/rdm_concspheres_test/rdm_concspheres_k50n500_noninfdist_moreoffmfld_advtraindebug_bs4096_eps=8e-2/data/val/S1_dump/distances.pkl\n",
      "20-05-2022 19:57:55 -- [I] root >> [RandomSphere]: data attribute (fix_center) loaded from file: /data/t-achetan/dumps/expC_dist_learner_for_adv_ex/rdm_concspheres_test/rdm_concspheres_k50n500_noninfdist_moreoffmfld_advtraindebug_bs4096_eps=8e-2/data/val/S1_dump/fix_center.pkl\n",
      "20-05-2022 19:57:58 -- [I] root >> [RandomSphere]: data attribute (normed_points_n) loaded from file: /data/t-achetan/dumps/expC_dist_learner_for_adv_ex/rdm_concspheres_test/rdm_concspheres_k50n500_noninfdist_moreoffmfld_advtraindebug_bs4096_eps=8e-2/data/val/S1_dump/normed_points_n.pkl\n",
      "20-05-2022 19:57:58 -- [I] root >> [RandomSphere]: data attribute (normed_distances) loaded from file: /data/t-achetan/dumps/expC_dist_learner_for_adv_ex/rdm_concspheres_test/rdm_concspheres_k50n500_noninfdist_moreoffmfld_advtraindebug_bs4096_eps=8e-2/data/val/S1_dump/normed_distances.pkl\n"
     ]
    },
    {
     "name": "stderr",
     "output_type": "stream",
     "text": [
      "20-05-2022 19:57:58 -- [I] root >> [RandomSphere]: data attribute (normed_actual_distances) loaded from file: /data/t-achetan/dumps/expC_dist_learner_for_adv_ex/rdm_concspheres_test/rdm_concspheres_k50n500_noninfdist_moreoffmfld_advtraindebug_bs4096_eps=8e-2/data/val/S1_dump/normed_actual_distances.pkl\n",
      "20-05-2022 19:57:58 -- [I] root >> [RandomSphere]: data attribute (x_ck) loaded from file: /data/t-achetan/dumps/expC_dist_learner_for_adv_ex/rdm_concspheres_test/rdm_concspheres_k50n500_noninfdist_moreoffmfld_advtraindebug_bs4096_eps=8e-2/data/val/S1_dump/x_ck.pkl\n",
      "20-05-2022 19:57:58 -- [I] root >> [RandomSphere]: data attribute (x_cn_trivial_) loaded from file: /data/t-achetan/dumps/expC_dist_learner_for_adv_ex/rdm_concspheres_test/rdm_concspheres_k50n500_noninfdist_moreoffmfld_advtraindebug_bs4096_eps=8e-2/data/val/S1_dump/x_cn_trivial_.pkl\n",
      "20-05-2022 19:57:58 -- [I] root >> [RandomSphere]: data attribute (x_cn_tr_) loaded from file: /data/t-achetan/dumps/expC_dist_learner_for_adv_ex/rdm_concspheres_test/rdm_concspheres_k50n500_noninfdist_moreoffmfld_advtraindebug_bs4096_eps=8e-2/data/val/S1_dump/x_cn_tr_.pkl\n",
      "20-05-2022 19:57:58 -- [I] root >> [RandomSphere]: data attribute (x_cn_rot_) loaded from file: /data/t-achetan/dumps/expC_dist_learner_for_adv_ex/rdm_concspheres_test/rdm_concspheres_k50n500_noninfdist_moreoffmfld_advtraindebug_bs4096_eps=8e-2/data/val/S1_dump/x_cn_rot_.pkl\n",
      "20-05-2022 19:57:58 -- [I] root >> [RandomSphere]: data attribute (x_cn) loaded from file: /data/t-achetan/dumps/expC_dist_learner_for_adv_ex/rdm_concspheres_test/rdm_concspheres_k50n500_noninfdist_moreoffmfld_advtraindebug_bs4096_eps=8e-2/data/val/S1_dump/x_cn.pkl\n",
      "20-05-2022 19:57:58 -- [I] root >> [RandomSphere]: data attribute (normed_x_cn) loaded from file: /data/t-achetan/dumps/expC_dist_learner_for_adv_ex/rdm_concspheres_test/rdm_concspheres_k50n500_noninfdist_moreoffmfld_advtraindebug_bs4096_eps=8e-2/data/val/S1_dump/normed_x_cn.pkl\n",
      "20-05-2022 19:57:58 -- [I] root >> [RandomSphere]: data attribute (pre_images_k) loaded from file: /data/t-achetan/dumps/expC_dist_learner_for_adv_ex/rdm_concspheres_test/rdm_concspheres_k50n500_noninfdist_moreoffmfld_advtraindebug_bs4096_eps=8e-2/data/val/S1_dump/pre_images_k.pkl\n",
      "20-05-2022 19:57:58 -- [I] root >> [RandomSphere]: data attribute (_rotation) loaded from file: /data/t-achetan/dumps/expC_dist_learner_for_adv_ex/rdm_concspheres_test/rdm_concspheres_k50n500_noninfdist_moreoffmfld_advtraindebug_bs4096_eps=8e-2/data/val/S2_dump/_rotation.pkl\n",
      "20-05-2022 19:57:58 -- [I] root >> [RandomSphere]: data attribute (_translation) loaded from file: /data/t-achetan/dumps/expC_dist_learner_for_adv_ex/rdm_concspheres_test/rdm_concspheres_k50n500_noninfdist_moreoffmfld_advtraindebug_bs4096_eps=8e-2/data/val/S2_dump/_translation.pkl\n",
      "20-05-2022 19:57:58 -- [I] root >> [RandomSphere]: data attribute (_anchor) loaded from file: /data/t-achetan/dumps/expC_dist_learner_for_adv_ex/rdm_concspheres_test/rdm_concspheres_k50n500_noninfdist_moreoffmfld_advtraindebug_bs4096_eps=8e-2/data/val/S2_dump/_anchor.pkl\n",
      "20-05-2022 19:57:58 -- [I] root >> [RandomSphere]: data attribute (points_k) loaded from file: /data/t-achetan/dumps/expC_dist_learner_for_adv_ex/rdm_concspheres_test/rdm_concspheres_k50n500_noninfdist_moreoffmfld_advtraindebug_bs4096_eps=8e-2/data/val/S2_dump/points_k.pkl\n",
      "20-05-2022 19:57:58 -- [I] root >> [RandomSphere]: data attribute (pre_images_k) loaded from file: /data/t-achetan/dumps/expC_dist_learner_for_adv_ex/rdm_concspheres_test/rdm_concspheres_k50n500_noninfdist_moreoffmfld_advtraindebug_bs4096_eps=8e-2/data/val/S2_dump/pre_images_k.pkl\n",
      "20-05-2022 19:58:00 -- [I] root >> [RandomSphere]: data attribute (points_n_trivial_) loaded from file: /data/t-achetan/dumps/expC_dist_learner_for_adv_ex/rdm_concspheres_test/rdm_concspheres_k50n500_noninfdist_moreoffmfld_advtraindebug_bs4096_eps=8e-2/data/val/S2_dump/points_n_trivial_.pkl\n",
      "20-05-2022 19:58:02 -- [I] root >> [RandomSphere]: data attribute (points_n_tr_) loaded from file: /data/t-achetan/dumps/expC_dist_learner_for_adv_ex/rdm_concspheres_test/rdm_concspheres_k50n500_noninfdist_moreoffmfld_advtraindebug_bs4096_eps=8e-2/data/val/S2_dump/points_n_tr_.pkl\n",
      "20-05-2022 19:58:05 -- [I] root >> [RandomSphere]: data attribute (points_n_rot_) loaded from file: /data/t-achetan/dumps/expC_dist_learner_for_adv_ex/rdm_concspheres_test/rdm_concspheres_k50n500_noninfdist_moreoffmfld_advtraindebug_bs4096_eps=8e-2/data/val/S2_dump/points_n_rot_.pkl\n",
      "20-05-2022 19:58:06 -- [I] root >> [RandomSphere]: data attribute (points_n) loaded from file: /data/t-achetan/dumps/expC_dist_learner_for_adv_ex/rdm_concspheres_test/rdm_concspheres_k50n500_noninfdist_moreoffmfld_advtraindebug_bs4096_eps=8e-2/data/val/S2_dump/points_n.pkl\n",
      "20-05-2022 19:58:06 -- [I] root >> [RandomSphere]: data attribute (actual_distances) loaded from file: /data/t-achetan/dumps/expC_dist_learner_for_adv_ex/rdm_concspheres_test/rdm_concspheres_k50n500_noninfdist_moreoffmfld_advtraindebug_bs4096_eps=8e-2/data/val/S2_dump/actual_distances.pkl\n",
      "20-05-2022 19:58:06 -- [I] root >> [RandomSphere]: data attribute (distances) loaded from file: /data/t-achetan/dumps/expC_dist_learner_for_adv_ex/rdm_concspheres_test/rdm_concspheres_k50n500_noninfdist_moreoffmfld_advtraindebug_bs4096_eps=8e-2/data/val/S2_dump/distances.pkl\n",
      "20-05-2022 19:58:06 -- [I] root >> [RandomSphere]: data attribute (fix_center) loaded from file: /data/t-achetan/dumps/expC_dist_learner_for_adv_ex/rdm_concspheres_test/rdm_concspheres_k50n500_noninfdist_moreoffmfld_advtraindebug_bs4096_eps=8e-2/data/val/S2_dump/fix_center.pkl\n",
      "20-05-2022 19:58:08 -- [I] root >> [RandomSphere]: data attribute (normed_points_n) loaded from file: /data/t-achetan/dumps/expC_dist_learner_for_adv_ex/rdm_concspheres_test/rdm_concspheres_k50n500_noninfdist_moreoffmfld_advtraindebug_bs4096_eps=8e-2/data/val/S2_dump/normed_points_n.pkl\n",
      "20-05-2022 19:58:08 -- [I] root >> [RandomSphere]: data attribute (normed_distances) loaded from file: /data/t-achetan/dumps/expC_dist_learner_for_adv_ex/rdm_concspheres_test/rdm_concspheres_k50n500_noninfdist_moreoffmfld_advtraindebug_bs4096_eps=8e-2/data/val/S2_dump/normed_distances.pkl\n",
      "20-05-2022 19:58:08 -- [I] root >> [RandomSphere]: data attribute (normed_actual_distances) loaded from file: /data/t-achetan/dumps/expC_dist_learner_for_adv_ex/rdm_concspheres_test/rdm_concspheres_k50n500_noninfdist_moreoffmfld_advtraindebug_bs4096_eps=8e-2/data/val/S2_dump/normed_actual_distances.pkl\n",
      "20-05-2022 19:58:08 -- [I] root >> [RandomSphere]: data attribute (x_ck) loaded from file: /data/t-achetan/dumps/expC_dist_learner_for_adv_ex/rdm_concspheres_test/rdm_concspheres_k50n500_noninfdist_moreoffmfld_advtraindebug_bs4096_eps=8e-2/data/val/S2_dump/x_ck.pkl\n",
      "20-05-2022 19:58:08 -- [I] root >> [RandomSphere]: data attribute (x_cn_trivial_) loaded from file: /data/t-achetan/dumps/expC_dist_learner_for_adv_ex/rdm_concspheres_test/rdm_concspheres_k50n500_noninfdist_moreoffmfld_advtraindebug_bs4096_eps=8e-2/data/val/S2_dump/x_cn_trivial_.pkl\n",
      "20-05-2022 19:58:08 -- [I] root >> [RandomSphere]: data attribute (x_cn_tr_) loaded from file: /data/t-achetan/dumps/expC_dist_learner_for_adv_ex/rdm_concspheres_test/rdm_concspheres_k50n500_noninfdist_moreoffmfld_advtraindebug_bs4096_eps=8e-2/data/val/S2_dump/x_cn_tr_.pkl\n",
      "20-05-2022 19:58:08 -- [I] root >> [RandomSphere]: data attribute (x_cn_rot_) loaded from file: /data/t-achetan/dumps/expC_dist_learner_for_adv_ex/rdm_concspheres_test/rdm_concspheres_k50n500_noninfdist_moreoffmfld_advtraindebug_bs4096_eps=8e-2/data/val/S2_dump/x_cn_rot_.pkl\n",
      "20-05-2022 19:58:08 -- [I] root >> [RandomSphere]: data attribute (x_cn) loaded from file: /data/t-achetan/dumps/expC_dist_learner_for_adv_ex/rdm_concspheres_test/rdm_concspheres_k50n500_noninfdist_moreoffmfld_advtraindebug_bs4096_eps=8e-2/data/val/S2_dump/x_cn.pkl\n",
      "20-05-2022 19:58:08 -- [I] root >> [RandomSphere]: data attribute (normed_x_cn) loaded from file: /data/t-achetan/dumps/expC_dist_learner_for_adv_ex/rdm_concspheres_test/rdm_concspheres_k50n500_noninfdist_moreoffmfld_advtraindebug_bs4096_eps=8e-2/data/val/S2_dump/normed_x_cn.pkl\n",
      "20-05-2022 19:58:08 -- [I] root >> [RandomSphere]: data attribute (pre_images_k) loaded from file: /data/t-achetan/dumps/expC_dist_learner_for_adv_ex/rdm_concspheres_test/rdm_concspheres_k50n500_noninfdist_moreoffmfld_advtraindebug_bs4096_eps=8e-2/data/val/S2_dump/pre_images_k.pkl\n"
     ]
    }
   ],
   "source": [
    "data_dir = os.path.join(common_prefix, name, \"data\", \"val\")\n",
    "dset = ConcentricSpheres()\n",
    "dset.load_data(data_dir)"
   ]
  },
  {
   "cell_type": "code",
   "execution_count": 6,
   "metadata": {},
   "outputs": [],
   "source": [
    "new_data_config_1 = {\n",
    "    \"N\": 200000,\n",
    "    \"num_neg\": 100000,\n",
    "    \"n\": 500,\n",
    "    \"k\": 50,\n",
    "    \"r\": 2.0,\n",
    "    \"g\": 0.3,\n",
    "    \"D\": 0.07,\n",
    "    \"max_norm\": 0.1,\n",
    "    \"mu\": 0,\n",
    "    \"sigma\": 1,\n",
    "    \"seed\": 191919,\n",
    "    \"normalize\": True,\n",
    "    \"norm_factor\": 1,\n",
    "    \"bp\": 0.09,\n",
    "    \"M\": 1,\n",
    "    \"inferred\": False,\n",
    "    \"online\": False,\n",
    "    \"off_online\": False,\n",
    "    \"augment\": False,\n",
    "    \"gamma\": 0,\n",
    "    \"cache_dir\": \"/mnt/t-achetan/data_cache/train/\",\n",
    "    \"translation\": dset.translation,\n",
    "    \"rotation\": dset.rotation,\n",
    "    \"x_ck\": dset.x_ck\n",
    "    \n",
    "}\n",
    "\n",
    "new_dset_1 = ConcentricSpheres(**new_data_config_1)"
   ]
  },
  {
   "cell_type": "code",
   "execution_count": 7,
   "metadata": {},
   "outputs": [
    {
     "name": "stderr",
     "output_type": "stream",
     "text": [
      "13-05-2022 16:37:46 -- [I] root >> [RandomSphere]: generated centre\n",
      "13-05-2022 16:37:46 -- [I] root >> [RandomSphere]: generated points in k-dim\n",
      "13-05-2022 16:37:46 -- [I] root >> [RandomSphere]: pre-images generated\n",
      "13-05-2022 16:37:48 -- [I] root >> [RandomSphere]: embedded the sphere in n-dim space\n",
      "13-05-2022 16:37:49 -- [I] root >> [RandomSphere]: normalization complete\n",
      "13-05-2022 16:37:49 -- [I] root >> [ConcentricSpheres]: Generated S1\n",
      "13-05-2022 16:37:49 -- [I] root >> [RandomSphere]: generated centre\n",
      "13-05-2022 16:37:49 -- [I] root >> [RandomSphere]: generated points in k-dim\n",
      "13-05-2022 16:37:49 -- [I] root >> [RandomSphere]: pre-images generated\n",
      "13-05-2022 16:37:53 -- [I] root >> [RandomSphere]: embedded the sphere in n-dim space\n",
      "13-05-2022 16:37:55 -- [I] root >> [RandomSphere]: normalization complete\n",
      "13-05-2022 16:37:55 -- [I] root >> [ConcentricSpheres]: Generated S2\n",
      "13-05-2022 16:37:57 -- [I] root >> [ConcentricSpheres]: Overall noramalization done\n"
     ]
    }
   ],
   "source": [
    "new_dset_1.compute_points()"
   ]
  },
  {
   "cell_type": "code",
   "execution_count": 9,
   "metadata": {},
   "outputs": [],
   "source": [
    "dloader_1 = DataLoader(dset, batch_size=4096, num_workers=8, shuffle=False)\n",
    "\n",
    "acc_1, f1_1, all_targets_1, all_logits_1 = lmd.test(\n",
    "    model,\n",
    "    dloader_1,\n",
    "    task=\"clf\",\n",
    "    feature_name=\"normed_points\",\n",
    "    target_name=\"classes\",\n",
    "    device=torch.device(\"cuda:0\")\n",
    ")\n"
   ]
  },
  {
   "cell_type": "code",
   "execution_count": 10,
   "metadata": {},
   "outputs": [
    {
     "name": "stderr",
     "output_type": "stream",
     "text": [
      "13-05-2022 16:38:51 -- [I] root >> [RandomSphere]: generated centre\n",
      "13-05-2022 16:38:51 -- [I] root >> [RandomSphere]: generated points in k-dim\n",
      "13-05-2022 16:38:51 -- [I] root >> [RandomSphere]: pre-images generated\n",
      "13-05-2022 16:38:54 -- [I] root >> [RandomSphere]: embedded the sphere in n-dim space\n",
      "13-05-2022 16:38:55 -- [I] root >> [RandomSphere]: normalization complete\n",
      "13-05-2022 16:38:55 -- [I] root >> [ConcentricSpheres]: Generated S1\n",
      "13-05-2022 16:38:55 -- [I] root >> [RandomSphere]: generated centre\n",
      "13-05-2022 16:38:55 -- [I] root >> [RandomSphere]: generated points in k-dim\n",
      "13-05-2022 16:38:56 -- [I] root >> [RandomSphere]: pre-images generated\n",
      "13-05-2022 16:38:58 -- [I] root >> [RandomSphere]: embedded the sphere in n-dim space\n",
      "13-05-2022 16:38:59 -- [I] root >> [RandomSphere]: normalization complete\n",
      "13-05-2022 16:38:59 -- [I] root >> [ConcentricSpheres]: Generated S2\n",
      "13-05-2022 16:39:01 -- [I] root >> [ConcentricSpheres]: Overall noramalization done\n"
     ]
    }
   ],
   "source": [
    "new_data_config_2 = {\n",
    "    \"N\": 200000,\n",
    "    \"num_neg\": 100000,\n",
    "    \"n\": 500,\n",
    "    \"k\": 50,\n",
    "    \"r\": 0.7,\n",
    "    \"g\": 0.3,\n",
    "    \"D\": 0.07,\n",
    "    \"max_norm\": 0.15,\n",
    "    \"mu\": 0,\n",
    "    \"sigma\": 1,\n",
    "    \"seed\": 167,\n",
    "    \"normalize\": True,\n",
    "    \"norm_factor\": 1,\n",
    "    \"bp\": 0.09,\n",
    "    \"M\": 1,\n",
    "    \"inferred\": False,\n",
    "    \"online\": False,\n",
    "    \"off_online\": False,\n",
    "    \"augment\": False,\n",
    "    \"gamma\": 0,\n",
    "    \"cache_dir\": \"/mnt/t-achetan/data_cache/train/\",\n",
    "    \"translation\": dset.translation,\n",
    "    \"rotation\": dset.rotation,\n",
    "    \"x_ck\": dset.x_ck\n",
    "    \n",
    "}\n",
    "\n",
    "new_dset_2 = ConcentricSpheres(**new_data_config_2)\n",
    "new_dset_2.compute_points()"
   ]
  },
  {
   "cell_type": "code",
   "execution_count": 11,
   "metadata": {},
   "outputs": [],
   "source": [
    "dloader_2 = DataLoader(new_dset_2, batch_size=4096, num_workers=8, shuffle=False)\n",
    "\n",
    "acc_2, f1_2, all_targets_2, all_logits_2 = lmd.test(\n",
    "    model,\n",
    "    dloader_2,\n",
    "    task=\"clf\",\n",
    "    feature_name=\"normed_points\",\n",
    "    target_name=\"classes\",\n",
    "    device=torch.device(\"cuda:0\")\n",
    ")"
   ]
  },
  {
   "cell_type": "code",
   "execution_count": 12,
   "metadata": {},
   "outputs": [],
   "source": [
    "all_targets_1[:] = 1\n",
    "all_targets_2[:] = 0"
   ]
  },
  {
   "cell_type": "code",
   "execution_count": 17,
   "metadata": {},
   "outputs": [],
   "source": [
    "all_targets = torch.zeros(all_targets_1.shape[0] + all_targets_2.shape[0])\n",
    "all_targets[:all_targets_1.shape[0]] = all_targets_1\n",
    "all_targets[all_targets_1.shape[0]:] = all_targets_2\n",
    "all_targets = all_targets.long()\n",
    "\n",
    "all_logits = torch.zeros(all_logits_1.shape[0] + all_logits_2.shape[0], all_logits_1.shape[1])\n",
    "all_logits[:all_logits_1.shape[0]] = all_logits_1\n",
    "all_logits[all_logits_1.shape[0]:] = all_logits_2"
   ]
  },
  {
   "cell_type": "code",
   "execution_count": null,
   "metadata": {},
   "outputs": [],
   "source": []
  },
  {
   "cell_type": "code",
   "execution_count": 7,
   "metadata": {},
   "outputs": [],
   "source": [
    "dump_dir = \"/data/t-achetan/dumps/expC_dist_learner_for_adv_ex/rdm_concspheres_test/rdm_concspheres_k50n500_noninfdist_moreoffmfldv3_bs4096_highmn40/1/attack_perf/atk_flavor=std_pgd,atk_routine=my,eps=0.08,eps_iter=0.005,nb_iter=100,norm=2,restarts=1,verbose=False,task=dist/\"\n",
    "\n",
    "logits_and_advex = torch.load(os.path.join(dump_dir, \"logits_and_advex.pt\"))\n",
    "\n",
    "# targets_fn = os.path.join(dump_dir, \"targets.pt\")\n",
    "# targets = torch.load(targets_fn)\n",
    "# logits_fn = os.path.join(dump_dir, \"logits.pt\")\n",
    "# logits = torch.load(logits_fn)\n"
   ]
  },
  {
   "cell_type": "code",
   "execution_count": null,
   "metadata": {},
   "outputs": [],
   "source": []
  },
  {
   "cell_type": "code",
   "execution_count": 13,
   "metadata": {},
   "outputs": [],
   "source": [
    "# targets = logits_and_advex[\"all_deltas\"]\n",
    "# targets = torch.norm(targets, dim=1)\n",
    "# tmp = torch.zeros(targets.shape[0], 2)\n",
    "# tmp[:50000, 0] = targets[:50000]\n",
    "# tmp[:50000, 1] = 1\n",
    "# tmp[50000:, 1] = targets[50000:]\n",
    "# tmp[50000:, 0] = 1\n",
    "# targets = tmp\n",
    "logits = logits_and_advex[\"logits_of_pb_ex\"]\n",
    "targets = logits_and_advex[\"all_targets\"]\n",
    "# targets = all_targets\n",
    "# logits = all_logits"
   ]
  },
  {
   "cell_type": "code",
   "execution_count": 14,
   "metadata": {},
   "outputs": [
    {
     "data": {
      "text/plain": [
       "tensor([[ 8.8818e-16,  1.0000e+00],\n",
       "        [ 2.2204e-16,  1.0000e+00],\n",
       "        [-2.2204e-16,  1.0000e+00],\n",
       "        ...,\n",
       "        [ 1.0000e+00,  1.1102e-15],\n",
       "        [ 1.0000e+00, -2.2204e-16],\n",
       "        [ 1.0000e+00,  1.1102e-15]])"
      ]
     },
     "execution_count": 14,
     "metadata": {},
     "output_type": "execute_result"
    }
   ],
   "source": [
    "targets"
   ]
  },
  {
   "cell_type": "code",
   "execution_count": 11,
   "metadata": {},
   "outputs": [
    {
     "data": {
      "text/plain": [
       "dict_keys(['logits_of_pb_ex', 'all_pb_ex', 'all_deltas', 'logits_of_raw_ex', 'all_targets'])"
      ]
     },
     "execution_count": 11,
     "metadata": {},
     "output_type": "execute_result"
    }
   ],
   "source": [
    "logits_and_advex.keys()"
   ]
  },
  {
   "cell_type": "code",
   "execution_count": 10,
   "metadata": {},
   "outputs": [
    {
     "ename": "NameError",
     "evalue": "name 'targets' is not defined",
     "output_type": "error",
     "traceback": [
      "\u001b[0;31m---------------------------------------------------------------------------\u001b[0m",
      "\u001b[0;31mNameError\u001b[0m                                 Traceback (most recent call last)",
      "\u001b[0;32m<ipython-input-10-8c3c9952d60a>\u001b[0m in \u001b[0;36m<module>\u001b[0;34m\u001b[0m\n\u001b[1;32m      1\u001b[0m \u001b[0mthresh\u001b[0m \u001b[0;34m=\u001b[0m \u001b[0;36m0.14\u001b[0m\u001b[0;34m\u001b[0m\u001b[0;34m\u001b[0m\u001b[0m\n\u001b[0;32m----> 2\u001b[0;31m \u001b[0mgt_dists\u001b[0m\u001b[0;34m,\u001b[0m \u001b[0mgt_labels\u001b[0m \u001b[0;34m=\u001b[0m \u001b[0mtorch\u001b[0m\u001b[0;34m.\u001b[0m\u001b[0mmin\u001b[0m\u001b[0;34m(\u001b[0m\u001b[0mtargets\u001b[0m\u001b[0;34m,\u001b[0m \u001b[0mdim\u001b[0m\u001b[0;34m=\u001b[0m\u001b[0;36m1\u001b[0m\u001b[0;34m)\u001b[0m\u001b[0;34m\u001b[0m\u001b[0;34m\u001b[0m\u001b[0m\n\u001b[0m\u001b[1;32m      3\u001b[0m \u001b[0mgt_labels\u001b[0m\u001b[0;34m[\u001b[0m\u001b[0mgt_dists\u001b[0m \u001b[0;34m>\u001b[0m \u001b[0mthresh\u001b[0m\u001b[0;34m]\u001b[0m \u001b[0;34m=\u001b[0m \u001b[0;36m2\u001b[0m\u001b[0;34m\u001b[0m\u001b[0;34m\u001b[0m\u001b[0m\n\u001b[1;32m      4\u001b[0m \u001b[0mpred_dists\u001b[0m\u001b[0;34m,\u001b[0m \u001b[0mpred_labels\u001b[0m \u001b[0;34m=\u001b[0m \u001b[0mtorch\u001b[0m\u001b[0;34m.\u001b[0m\u001b[0mmin\u001b[0m\u001b[0;34m(\u001b[0m\u001b[0mlogits\u001b[0m\u001b[0;34m,\u001b[0m \u001b[0mdim\u001b[0m\u001b[0;34m=\u001b[0m\u001b[0;36m1\u001b[0m\u001b[0;34m)\u001b[0m\u001b[0;34m\u001b[0m\u001b[0;34m\u001b[0m\u001b[0m\n\u001b[1;32m      5\u001b[0m \u001b[0mpred_labels\u001b[0m\u001b[0;34m[\u001b[0m\u001b[0mpred_dists\u001b[0m \u001b[0;34m>\u001b[0m \u001b[0mthresh\u001b[0m\u001b[0;34m]\u001b[0m \u001b[0;34m=\u001b[0m \u001b[0;36m2\u001b[0m\u001b[0;34m\u001b[0m\u001b[0;34m\u001b[0m\u001b[0m\n",
      "\u001b[0;31mNameError\u001b[0m: name 'targets' is not defined"
     ]
    }
   ],
   "source": [
    "thresh = 0.14\n",
    "gt_dists, gt_labels = torch.min(targets, dim=1)\n",
    "gt_labels[gt_dists > thresh] = 2\n",
    "pred_dists, pred_labels = torch.min(logits, dim=1)\n",
    "pred_labels[pred_dists > thresh] = 2"
   ]
  },
  {
   "cell_type": "code",
   "execution_count": 7,
   "metadata": {},
   "outputs": [
    {
     "data": {
      "text/plain": [
       "(tensor([0.1232, 0.1220, 0.1228,  ..., 0.1205, 0.1205, 0.1218]),\n",
       " tensor([0, 0, 0,  ..., 1, 1, 1]))"
      ]
     },
     "execution_count": 7,
     "metadata": {},
     "output_type": "execute_result"
    }
   ],
   "source": [
    "pred_dists, pred_labels"
   ]
  },
  {
   "cell_type": "code",
   "execution_count": 10,
   "metadata": {},
   "outputs": [
    {
     "data": {
      "text/plain": [
       "(array([0, 1, 2]), array([52716, 46547,   737]))"
      ]
     },
     "execution_count": 10,
     "metadata": {},
     "output_type": "execute_result"
    }
   ],
   "source": [
    "np.unique(pred_labels, return_counts=True)"
   ]
  },
  {
   "cell_type": "code",
   "execution_count": 8,
   "metadata": {},
   "outputs": [
    {
     "name": "stdout",
     "output_type": "stream",
     "text": [
      "              precision    recall  f1-score   support\n",
      "\n",
      "           0       0.95      1.00      0.97     50000\n",
      "           1       1.00      0.93      0.96     50000\n",
      "           2       0.00      0.00      0.00         0\n",
      "\n",
      "    accuracy                           0.96    100000\n",
      "   macro avg       0.65      0.64      0.65    100000\n",
      "weighted avg       0.97      0.96      0.97    100000\n",
      "\n"
     ]
    },
    {
     "name": "stderr",
     "output_type": "stream",
     "text": [
      "/root/anaconda3/lib/python3.7/site-packages/sklearn/metrics/_classification.py:1318: UndefinedMetricWarning: Recall and F-score are ill-defined and being set to 0.0 in labels with no true samples. Use `zero_division` parameter to control this behavior.\n",
      "  _warn_prf(average, modifier, msg_start, len(result))\n",
      "/root/anaconda3/lib/python3.7/site-packages/sklearn/metrics/_classification.py:1318: UndefinedMetricWarning: Recall and F-score are ill-defined and being set to 0.0 in labels with no true samples. Use `zero_division` parameter to control this behavior.\n",
      "  _warn_prf(average, modifier, msg_start, len(result))\n",
      "/root/anaconda3/lib/python3.7/site-packages/sklearn/metrics/_classification.py:1318: UndefinedMetricWarning: Recall and F-score are ill-defined and being set to 0.0 in labels with no true samples. Use `zero_division` parameter to control this behavior.\n",
      "  _warn_prf(average, modifier, msg_start, len(result))\n"
     ]
    }
   ],
   "source": [
    "from sklearn.metrics import classification_report\n",
    "print(classification_report(gt_labels, pred_labels))"
   ]
  },
  {
   "cell_type": "code",
   "execution_count": null,
   "metadata": {},
   "outputs": [],
   "source": [
    "! ls \"/data/t-achetan/dumps/expC_dist_learner_for_adv_ex/rdm_concspheres_test/rdm_concspheres_k50n500_noninfdist_moreoffmfldv3_bs4096/2/attack_perf/atk_flavor=std_pgd,atk_routine=my,eps=0.09999999999999999,eps_iter=0.005,nb_iter=100,norm=2,restarts=1,verbose=False,task=clf/\""
   ]
  },
  {
   "cell_type": "code",
   "execution_count": 19,
   "metadata": {},
   "outputs": [
    {
     "data": {
      "text/plain": [
       "tensor(False)"
      ]
     },
     "execution_count": 19,
     "metadata": {},
     "output_type": "execute_result"
    }
   ],
   "source": [
    "(targets == 1).all()"
   ]
  },
  {
   "cell_type": "code",
   "execution_count": 6,
   "metadata": {},
   "outputs": [
    {
     "ename": "NameError",
     "evalue": "name 'targets' is not defined",
     "output_type": "error",
     "traceback": [
      "\u001b[0;31m---------------------------------------------------------------------------\u001b[0m",
      "\u001b[0;31mNameError\u001b[0m                                 Traceback (most recent call last)",
      "\u001b[0;32m<ipython-input-6-b9c4bc3ea4a3>\u001b[0m in \u001b[0;36m<module>\u001b[0;34m\u001b[0m\n\u001b[0;32m----> 1\u001b[0;31m \u001b[0mgt_labels\u001b[0m \u001b[0;34m=\u001b[0m \u001b[0mtargets\u001b[0m\u001b[0;34m\u001b[0m\u001b[0;34m\u001b[0m\u001b[0m\n\u001b[0m\u001b[1;32m      2\u001b[0m \u001b[0;31m# pred_prob, pred_labels = torch.max(logits, dim=1)\u001b[0m\u001b[0;34m\u001b[0m\u001b[0;34m\u001b[0m\u001b[0;34m\u001b[0m\u001b[0m\n\u001b[1;32m      3\u001b[0m \u001b[0mgt_prob\u001b[0m \u001b[0;34m=\u001b[0m \u001b[0mtorch\u001b[0m\u001b[0;34m.\u001b[0m\u001b[0mzeros\u001b[0m\u001b[0;34m(\u001b[0m\u001b[0mgt_labels\u001b[0m\u001b[0;34m.\u001b[0m\u001b[0mshape\u001b[0m\u001b[0;34m[\u001b[0m\u001b[0;36m0\u001b[0m\u001b[0;34m]\u001b[0m\u001b[0;34m,\u001b[0m \u001b[0;36m2\u001b[0m\u001b[0;34m)\u001b[0m\u001b[0;34m\u001b[0m\u001b[0;34m\u001b[0m\u001b[0m\n\u001b[1;32m      4\u001b[0m \u001b[0;31m# gt_prob[:, targets.reshape(-1, 1)] = 1\u001b[0m\u001b[0;34m\u001b[0m\u001b[0;34m\u001b[0m\u001b[0;34m\u001b[0m\u001b[0m\n",
      "\u001b[0;31mNameError\u001b[0m: name 'targets' is not defined"
     ]
    }
   ],
   "source": [
    "gt_labels = targets\n",
    "# pred_prob, pred_labels = torch.max(logits, dim=1)\n",
    "gt_prob = torch.zeros(gt_labels.shape[0], 2)\n",
    "# gt_prob[:, targets.reshape(-1, 1)] = 1\n"
   ]
  },
  {
   "cell_type": "code",
   "execution_count": 16,
   "metadata": {},
   "outputs": [
    {
     "ename": "IndexError",
     "evalue": "tensors used as indices must be long, byte or bool tensors",
     "output_type": "error",
     "traceback": [
      "\u001b[0;31m---------------------------------------------------------------------------\u001b[0m",
      "\u001b[0;31mIndexError\u001b[0m                                Traceback (most recent call last)",
      "\u001b[0;32m<ipython-input-16-b78ef7eb0fd4>\u001b[0m in \u001b[0;36m<module>\u001b[0;34m\u001b[0m\n\u001b[0;32m----> 1\u001b[0;31m \u001b[0mgt_prob\u001b[0m\u001b[0;34m[\u001b[0m\u001b[0mnp\u001b[0m\u001b[0;34m.\u001b[0m\u001b[0marange\u001b[0m\u001b[0;34m(\u001b[0m\u001b[0mtargets\u001b[0m\u001b[0;34m.\u001b[0m\u001b[0mshape\u001b[0m\u001b[0;34m[\u001b[0m\u001b[0;36m0\u001b[0m\u001b[0;34m]\u001b[0m\u001b[0;34m)\u001b[0m\u001b[0;34m,\u001b[0m \u001b[0mtargets\u001b[0m\u001b[0;34m]\u001b[0m \u001b[0;34m=\u001b[0m \u001b[0;36m1\u001b[0m\u001b[0;34m\u001b[0m\u001b[0;34m\u001b[0m\u001b[0m\n\u001b[0m\u001b[1;32m      2\u001b[0m \u001b[0mgt_prob\u001b[0m\u001b[0;34m[\u001b[0m\u001b[0;34m-\u001b[0m\u001b[0;36m10\u001b[0m\u001b[0;34m:\u001b[0m\u001b[0;34m]\u001b[0m\u001b[0;34m,\u001b[0m \u001b[0mlogits\u001b[0m\u001b[0;34m[\u001b[0m\u001b[0;34m-\u001b[0m\u001b[0;36m10\u001b[0m\u001b[0;34m:\u001b[0m\u001b[0;34m]\u001b[0m\u001b[0;34m\u001b[0m\u001b[0;34m\u001b[0m\u001b[0m\n",
      "\u001b[0;31mIndexError\u001b[0m: tensors used as indices must be long, byte or bool tensors"
     ]
    }
   ],
   "source": [
    "gt_prob[np.arange(targets.shape[0]), targets] = 1\n",
    "gt_prob[-10:], logits[-10:]"
   ]
  },
  {
   "cell_type": "code",
   "execution_count": 20,
   "metadata": {},
   "outputs": [
    {
     "data": {
      "text/plain": [
       "tensor(True)"
      ]
     },
     "execution_count": 20,
     "metadata": {},
     "output_type": "execute_result"
    }
   ],
   "source": [
    "(torch.max(all_logits, dim=1)[1] == all_targets).all()"
   ]
  },
  {
   "cell_type": "code",
   "execution_count": 21,
   "metadata": {},
   "outputs": [
    {
     "data": {
      "text/plain": [
       "(tensor([1, 1, 1,  ..., 0, 0, 0]), tensor([1, 1, 1,  ..., 0, 0, 0]))"
      ]
     },
     "execution_count": 21,
     "metadata": {},
     "output_type": "execute_result"
    }
   ],
   "source": [
    "all_targets, torch.max(all_logits, dim=1)[1]"
   ]
  },
  {
   "cell_type": "code",
   "execution_count": 15,
   "metadata": {},
   "outputs": [],
   "source": [
    "import torch.nn as nn\n",
    "softmax = nn.Softmax(dim=1)\n"
   ]
  },
  {
   "cell_type": "code",
   "execution_count": 23,
   "metadata": {},
   "outputs": [
    {
     "data": {
      "text/plain": [
       "(array([1.000e+00, 0.000e+00, 1.000e+00, 1.000e+00, 3.000e+00, 6.000e+00,\n",
       "        6.000e+00, 3.100e+01, 3.510e+02, 1.996e+05]),\n",
       " array([0.70871437, 0.7108696 , 0.71302485, 0.71518016, 0.7173354 ,\n",
       "        0.71949065, 0.7216459 , 0.72380114, 0.72595644, 0.7281117 ,\n",
       "        0.7302669 ], dtype=float32),\n",
       " <a list of 10 Patch objects>)"
      ]
     },
     "execution_count": 23,
     "metadata": {},
     "output_type": "execute_result"
    },
    {
     "data": {
      "image/png": "[encoded data removed]",
      "text/plain": [
       "<Figure size 432x288 with 1 Axes>"
      ]
     },
     "metadata": {
      "needs_background": "light"
     },
     "output_type": "display_data"
    }
   ],
   "source": [
    "plt.hist(torch.max(softmax(all_logits_1), dim=1)[0].numpy(), log=True)"
   ]
  },
  {
   "cell_type": "code",
   "execution_count": 30,
   "metadata": {},
   "outputs": [
    {
     "data": {
      "text/plain": [
       "<sklearn.calibration.CalibrationDisplay at 0x7efbe0749290>"
      ]
     },
     "execution_count": 30,
     "metadata": {},
     "output_type": "execute_result"
    },
    {
     "data": {
      "image/png": "[encoded data removed]",
      "text/plain": [
       "<Figure size 432x288 with 1 Axes>"
      ]
     },
     "metadata": {
      "needs_background": "light"
     },
     "output_type": "display_data"
    }
   ],
   "source": [
    "CalibrationDisplay.from_predictions(all_targets_1[all_targets_1 != 2].numpy(), softmax(all_logits_1)[:, 1].numpy()[all_targets_1 != 2], n_bins=20)\n",
    "\n",
    "\n"
   ]
  },
  {
   "cell_type": "code",
   "execution_count": 24,
   "metadata": {},
   "outputs": [
    {
     "data": {
      "text/plain": [
       "tensor([[0.9996, 0.0061],\n",
       "        [0.9996, 0.0063],\n",
       "        [0.9994, 0.0072],\n",
       "        ...,\n",
       "        [0.0059, 0.9997],\n",
       "        [0.0069, 0.9980],\n",
       "        [0.0061, 0.9997]])"
      ]
     },
     "execution_count": 24,
     "metadata": {},
     "output_type": "execute_result"
    }
   ],
   "source": [
    "all_logits_1"
   ]
  },
  {
   "cell_type": "code",
   "execution_count": null,
   "metadata": {},
   "outputs": [],
   "source": [
    "label_name = 0\n",
    "thresh = 0.15\n",
    "\n",
    "chunks = np.arange(0.0, 1.01, 0.01)\n",
    "chunks_cumtot = np.zeros(chunks.shape[0])\n",
    "chunks_cumcor = np.zeros(chunks.shape[0])\n",
    "chunks_cumacc = np.zeros(chunks.shape[0])\n",
    "\n",
    "for i in range(1, len(chunks)):\n",
    "    \n",
    "    max_conf = chunks[i]\n",
    "    label_pred_conf = logits[:, label_name]\n",
    "    label_pred_labels = torch.zeros(label_pred_conf.shape[0]).long() + label_name\n",
    "    label_pred_labels[label_pred_conf < thresh] = 1 - label_name\n",
    "    \n",
    "    \n",
    "    label_gt_labels = torch.zeros(gt_labels.shape[0]).long() + label_name\n",
    "    \n",
    "    chunks_cumtot[i] = logits[(logits[:, label_name] <= chunks[i]) & (label_pred_labels == label_name)].shape[0]\n",
    "    \n",
    "    chunks_cumcor[i] = logits[(logits[:, label_name] <= chunks[i]) & (label_pred_labels == label_name) & (label_gt_labels == label_pred_labels)].shape[0]\n",
    "    chunks_cumacc[i] = chunks_cumcor[i] / (chunks_cumtot[i] + 1)\n",
    "    \n",
    "plt.plot(chunks, chunks_cumacc)\n",
    "plt.scatter(chunks, chunks_cumacc, s=0.01)\n",
    "plt.show()\n",
    "\n"
   ]
  },
  {
   "cell_type": "code",
   "execution_count": null,
   "metadata": {},
   "outputs": [],
   "source": [
    "chunks"
   ]
  },
  {
   "cell_type": "code",
   "execution_count": null,
   "metadata": {},
   "outputs": [],
   "source": [
    "chunks_cumacc"
   ]
  },
  {
   "cell_type": "code",
   "execution_count": null,
   "metadata": {},
   "outputs": [],
   "source": [
    "y_test"
   ]
  },
  {
   "cell_type": "code",
   "execution_count": null,
   "metadata": {},
   "outputs": [],
   "source": [
    "np.unique([1, 2, 3])"
   ]
  },
  {
   "cell_type": "code",
   "execution_count": null,
   "metadata": {},
   "outputs": [],
   "source": []
  }
 ],
 "metadata": {
  "kernelspec": {
   "display_name": "Python 3",
   "language": "python",
   "name": "python3"
  },
  "language_info": {
   "codemirror_mode": {
    "name": "ipython",
    "version": 3
   },
   "file_extension": ".py",
   "mimetype": "text/x-python",
   "name": "python",
   "nbconvert_exporter": "python",
   "pygments_lexer": "ipython3",
   "version": "3.7.6"
  }
 },
 "nbformat": 4,
 "nbformat_minor": 4
}
