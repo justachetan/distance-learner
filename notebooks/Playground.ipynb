{
 "cells": [
  {
   "cell_type": "code",
   "execution_count": null,
   "metadata": {},
   "outputs": [],
   "source": [
    "import torch\n",
    "from torch.autograd import Variable\n",
    "from utee import selector\n",
    "model_raw, ds_fetcher, is_imagenet = selector.select('resnet50')\n",
    "ds_val = ds_fetcher(batch_size=10, train=False, val=True)\n",
    "for idx, (data, target) in enumerate(ds_val):\n",
    "    data =  Variable(torch.FloatTensor(data)).cuda()\n",
    "    output = model_raw(data)"
   ]
  },
  {
   "cell_type": "code",
   "execution_count": null,
   "metadata": {},
   "outputs": [],
   "source": [
    "import os\n",
    "import sys\n",
    "os.chdir(\"/data/adv_geom/drg/\")\n",
    "from models.classifier import Classifier"
   ]
  },
  {
   "cell_type": "code",
   "execution_count": null,
   "metadata": {},
   "outputs": [],
   "source": [
    "! ls ../"
   ]
  },
  {
   "cell_type": "code",
   "execution_count": null,
   "metadata": {},
   "outputs": [],
   "source": [
    "from training.train_classifier import TrainClassifier"
   ]
  },
  {
   "cell_type": "code",
   "execution_count": null,
   "metadata": {},
   "outputs": [],
   "source": [
    "%tb\n",
    "args = {\n",
    "    \"train_images_file\": \"/data/adv_geom/datasets/emnist/train_images.h5\",\n",
    "    \"train_codes_file\": \"/data/adv_geom/datasets/emnist/train_labels.h5\",\n",
    "    \"test_images_file\": \"/data/adv_geom/datasets/emnist/test_images.h5\",\n",
    "    \"test_codes_file\": \"/data/adv_geom/datasets/emnist/test_labels.h5\",\n",
    "    \"state_file\": \"/data/adv_geom/dumps/emnist/classifier.pth.tar\",\n",
    "    \"label_index\": 0,\n",
    "    \"lr_decay\": 0.95,\n",
    "    \"weight_decay\": 0.0001,\n",
    "    \"training_samples\": 160000,\n",
    "    \"validation_samples\": 40000,\n",
    "    \"random_samples\": True,\n",
    "    \"network_architecture\": \"mlp\",\n",
    "    \"gpu_id\": 1\n",
    "}\n",
    "\n",
    "sys.argv = [\"-\" + i + \"=\" + str(args[i]) if type(args[i]) != type(True) else \"-\" + i for i in args]\n",
    "\n",
    "\n",
    "program = TrainClassifier(args=sys.argv)\n",
    "\n"
   ]
  },
  {
   "cell_type": "code",
   "execution_count": null,
   "metadata": {},
   "outputs": [],
   "source": [
    "program.load_data()"
   ]
  },
  {
   "cell_type": "code",
   "execution_count": null,
   "metadata": {},
   "outputs": [],
   "source": [
    "program.load_model_and_scheduler()"
   ]
  },
  {
   "cell_type": "code",
   "execution_count": null,
   "metadata": {},
   "outputs": [],
   "source": [
    "test_image = program.test_images[0:8]\n",
    "test_codes = program.test_codes[0:8]"
   ]
  },
  {
   "cell_type": "code",
   "execution_count": null,
   "metadata": {},
   "outputs": [],
   "source": [
    "import torch\n",
    "\n",
    "with torch.no_grad():\n",
    "    program.model.cuda()\n",
    "    program.model.eval()\n",
    "    test_image = torch.Tensor(test_image).cuda()\n",
    "    logits = program.model(test_image)\n",
    "    "
   ]
  },
  {
   "cell_type": "code",
   "execution_count": null,
   "metadata": {},
   "outputs": [],
   "source": [
    "torch.max(logits, axis=1)[1]"
   ]
  },
  {
   "cell_type": "code",
   "execution_count": null,
   "metadata": {},
   "outputs": [],
   "source": [
    "test_codes"
   ]
  },
  {
   "cell_type": "code",
   "execution_count": null,
   "metadata": {},
   "outputs": [],
   "source": [
    "clf_report = program.test()"
   ]
  },
  {
   "cell_type": "code",
   "execution_count": null,
   "metadata": {},
   "outputs": [],
   "source": [
    "%matplotlib inline\n",
    "import matplotlib.pyplot as plt\n",
    "plt.imshow(\"test.png\")"
   ]
  },
  {
   "cell_type": "code",
   "execution_count": null,
   "metadata": {},
   "outputs": [],
   "source": [
    "program.model"
   ]
  },
  {
   "cell_type": "code",
   "execution_count": null,
   "metadata": {},
   "outputs": [],
   "source": [
    "print(clf_report)"
   ]
  },
  {
   "cell_type": "code",
   "execution_count": null,
   "metadata": {},
   "outputs": [],
   "source": [
    "import numpy as np"
   ]
  },
  {
   "cell_type": "code",
   "execution_count": null,
   "metadata": {},
   "outputs": [],
   "source": [
    "leftover_basis = np.eye(5)"
   ]
  },
  {
   "cell_type": "code",
   "execution_count": null,
   "metadata": {},
   "outputs": [],
   "source": [
    "span = leftover_basis.copy()[2:]"
   ]
  },
  {
   "cell_type": "code",
   "execution_count": null,
   "metadata": {},
   "outputs": [],
   "source": []
  },
  {
   "cell_type": "code",
   "execution_count": null,
   "metadata": {},
   "outputs": [],
   "source": [
    "normals = np.zeros((10, 5)) + 2 * leftover_basis[0] + 3 * leftover_basis[1]"
   ]
  },
  {
   "cell_type": "code",
   "execution_count": null,
   "metadata": {},
   "outputs": [],
   "source": [
    "normals + np.random.normal(size=(10, 5)) * np.sum(span, axis=0)"
   ]
  },
  {
   "cell_type": "code",
   "execution_count": null,
   "metadata": {},
   "outputs": [],
   "source": [
    "a = np.arange(10).reshape(-1, 1)\n",
    "b = np.ones(10)"
   ]
  },
  {
   "cell_type": "code",
   "execution_count": null,
   "metadata": {},
   "outputs": [],
   "source": [
    "a, b"
   ]
  },
  {
   "cell_type": "code",
   "execution_count": null,
   "metadata": {},
   "outputs": [],
   "source": [
    "import os, glob\n",
    "\n",
    "\n",
    "\n",
    "\n",
    "dump_dir = \"/azuredrive/dumps/expC_dist_learner_for_adv_ex/k2n2/actual_dist_learner_w_masked_mse/test_MTMLPwithNormalization_model{hidden_sizes=512x4,sigmoid_last,batch_norm}_data{2spheres_in_unit_cube;n=2;k=2;actual_distance}/14062021-090200/models\"\n",
    "os.chdir(dump_dir)\n",
    "x = None\n",
    "for root, dirs, files in os.walk(dump_dir):\n",
    "    if \"models\" in root and len(files) > 1:\n",
    "        x = files\n",
    "        print(root)\n",
    "        best_model_fn = sorted(x, key=lambda x: int(x.split(\"_\")[-1].split(\".\")[0]))[-1]\n",
    "        \n",
    "        if len(x) > 1:\n",
    "            for j in x:\n",
    "                if j != best_model_fn:\n",
    "                    os.remove(os.path.join(root, j))\n",
    "            print(root)\n",
    "            \n",
    "        \n",
    "#         for file in files:\n",
    "#             if file.endswith(\".pth\"):\n",
    "#                  print(os.path.join(root, file))\n"
   ]
  },
  {
   "cell_type": "code",
   "execution_count": null,
   "metadata": {},
   "outputs": [],
   "source": [
    "! ls \"/azuredrive/dumps/expC_dist_learner_for_adv_ex/k2n2/actual_dist_learner_w_masked_mse/test_MTMLPwithNormalization_model{hidden_sizes=512x4,sigmoid_last,batch_norm}_data{2spheres_in_unit_cube;n=2;k=2;actual_distance}/14062021-090200/models\"\n",
    "\n",
    "\n",
    "\n",
    "\n",
    "\n"
   ]
  },
  {
   "cell_type": "code",
   "execution_count": null,
   "metadata": {},
   "outputs": [],
   "source": [
    "phases = [\"train\", \"val\", \"test\"]\n",
    "# data_fns = [TRAIN_FN, VAL_FN, TEST_FN]\n",
    "\n",
    "splits = {i[0]: {\"fn\": i[1], \"name\": i[0]} for i in zip(phases, phases)}\n"
   ]
  },
  {
   "cell_type": "code",
   "execution_count": null,
   "metadata": {},
   "outputs": [],
   "source": [
    "splits"
   ]
  },
  {
   "cell_type": "code",
   "execution_count": null,
   "metadata": {},
   "outputs": [],
   "source": [
    "from sklearn.datasets import make_swiss_roll\n",
    "import matplotlib.pyplot as plt\n",
    "import mpl_toolkits.mplot3d.axes3d as p3\n",
    "import numpy as np\n",
    "\n",
    "X, _ = make_swiss_roll(1000)\n",
    "\n",
    "fig = plt.figure()\n",
    "ax = p3.Axes3D(fig)\n",
    "ax.view_init(7, -80)\n",
    "ax.scatter(X[:, 0], X[:, 1], X[:, 2], s=20, edgecolor='k')\n",
    "\n"
   ]
  },
  {
   "cell_type": "code",
   "execution_count": null,
   "metadata": {},
   "outputs": [],
   "source": [
    "from sklearn.utils import check_random_state\n",
    "def make_swiss_roll2(n_samples=100, *, noise=0.0, random_state=None):\n",
    "    \"\"\"Generate a swiss roll dataset.\n",
    "    Read more in the :ref:`User Guide <sample_generators>`.\n",
    "    Parameters\n",
    "    ----------\n",
    "    n_samples : int, default=100\n",
    "        The number of sample points on the S curve.\n",
    "    noise : float, default=0.0\n",
    "        The standard deviation of the gaussian noise.\n",
    "    random_state : int, RandomState instance or None, default=None\n",
    "        Determines random number generation for dataset creation. Pass an int\n",
    "        for reproducible output across multiple function calls.\n",
    "        See :term:`Glossary <random_state>`.\n",
    "    Returns\n",
    "    -------\n",
    "    X : ndarray of shape (n_samples, 3)\n",
    "        The points.\n",
    "    t : ndarray of shape (n_samples,)\n",
    "        The univariate position of the sample according to the main dimension\n",
    "        of the points in the manifold.\n",
    "    Notes\n",
    "    -----\n",
    "    The algorithm is from Marsland [1].\n",
    "    References\n",
    "    ----------\n",
    "    .. [1] S. Marsland, \"Machine Learning: An Algorithmic Perspective\",\n",
    "           Chapter 10, 2009.\n",
    "           http://seat.massey.ac.nz/personal/s.r.marsland/Code/10/lle.py\n",
    "    \"\"\"\n",
    "#     generator = check_random_state(random_state)\n",
    "    t = 1 + 2 * np.random.uniform(0, 10, size=(1, n_samples))\n",
    "\n",
    "    omega = 10\n",
    "#     t = 1.5 * np.pi * (1 + 2 * generator.rand(1, n_samples))\n",
    "    x = (t - 5) * np.cos(t / omega)\n",
    "    y = 21 * np.random.uniform(size=(1, n_samples))\n",
    "\n",
    "    z = (t - 5) * np.sin(t / omega)\n",
    "\n",
    "    X = np.concatenate((x, y, z))\n",
    "    X += noise * np.random.randn(3, n_samples)\n",
    "    X = X.T\n",
    "    t = np.squeeze(t)\n",
    "\n",
    "    return X, t\n",
    "\n",
    "\n",
    "def make_swiss_roll_std(n_samples=100, *, noise=0.0, random_state=None):\n",
    "    \"\"\"Generate a swiss roll dataset.\n",
    "    Read more in the :ref:`User Guide <sample_generators>`.\n",
    "    Parameters\n",
    "    ----------\n",
    "    n_samples : int, default=100\n",
    "        The number of sample points on the S curve.\n",
    "    noise : float, default=0.0\n",
    "        The standard deviation of the gaussian noise.\n",
    "    random_state : int, RandomState instance or None, default=None\n",
    "        Determines random number generation for dataset creation. Pass an int\n",
    "        for reproducible output across multiple function calls.\n",
    "        See :term:`Glossary <random_state>`.\n",
    "    Returns\n",
    "    -------\n",
    "    X : ndarray of shape (n_samples, 3)\n",
    "        The points.\n",
    "    t : ndarray of shape (n_samples,)\n",
    "        The univariate position of the sample according to the main dimension\n",
    "        of the points in the manifold.\n",
    "    Notes\n",
    "    -----\n",
    "    The algorithm is from Marsland [1].\n",
    "    References\n",
    "    ----------\n",
    "    .. [1] S. Marsland, \"Machine Learning: An Algorithmic Perspective\",\n",
    "           Chapter 10, 2009.\n",
    "           http://seat.massey.ac.nz/personal/s.r.marsland/Code/10/lle.py\n",
    "    \"\"\"\n",
    "    generator = check_random_state(random_state)\n",
    "    \n",
    "    omega = 10\n",
    "    \n",
    "    t = 1.5 * np.pi * (1 + 2 * generator.rand(1, n_samples))\n",
    "#     t = 1 + 2 * np.random.uniform(0, 10, size=(1, n_samples))\n",
    "\n",
    "    x = t * np.cos(t)\n",
    "    y = 21 * np.random.uniform(size=(1, n_samples))\n",
    "    z = t * np.sin(t)\n",
    "\n",
    "    X = np.concatenate((x, y, z))\n",
    "    X += noise * np.random.randn(3, n_samples)\n",
    "    X = X.T\n",
    "    t = np.squeeze(t)\n",
    "\n",
    "    return X, t\n",
    "\n",
    "\n",
    "\n"
   ]
  },
  {
   "cell_type": "code",
   "execution_count": null,
   "metadata": {},
   "outputs": [],
   "source": []
  },
  {
   "cell_type": "code",
   "execution_count": null,
   "metadata": {},
   "outputs": [],
   "source": [
    "X2, t2 = make_swiss_roll_std(100000)\n",
    "X, t = make_swiss_roll_std(100000)\n",
    "\n",
    "fig = plt.figure()\n",
    "ax = p3.Axes3D(fig)\n",
    "ax.view_init(0, 90)\n",
    "ax.scatter(X[:, 0], X[:, 1], X[:, 2], edgecolor='red', s=.001)\n",
    "\n",
    "ax.scatter(X2[:, 0], X2[:, 1], X2[:, 2], edgecolor='k', s=.001)\n",
    "\n",
    "\n"
   ]
  },
  {
   "cell_type": "code",
   "execution_count": null,
   "metadata": {},
   "outputs": [],
   "source": [
    "t.max()"
   ]
  },
  {
   "cell_type": "code",
   "execution_count": null,
   "metadata": {},
   "outputs": [],
   "source": [
    "\n",
    "\n"
   ]
  },
  {
   "cell_type": "code",
   "execution_count": null,
   "metadata": {},
   "outputs": [],
   "source": [
    "X2_sample = X2[0]\n",
    "t2_sample = t2[0]\n",
    "# X2_sample = np.array([t2_sample*np.cos(t2_sample), t2_sample*np.sin(t2_sample), -41])\n",
    "normals_at_X2 = np.zeros_like(X2)\n",
    "normals_at_X2[:, 0] = np.sin(t2) + t2 * np.cos(t2)\n",
    "normals_at_X2[:, 2] = -1*np.cos(t2) + t2 * np.sin(t2)\n",
    "normals_at_X2 = (1.5 / np.linalg.norm(normals_at_X2, ord=2, axis=1)).reshape(-1, 1) * normals_at_X2\n",
    "\n",
    "off_mfld_pts_at_X2 = X2 + normals_at_X2\n",
    "\n",
    "# normal_at_X2 = np.array([np.sin(t2_sample) + t2_sample * np.cos(t2_sample), 0, -1*np.cos(t2_sample) + t2_sample * np.sin(t2_sample)])\n",
    "# normal_at_X2 = (2 / np.linalg.norm(normal_at_X2, ord=2)) * normal_at_X2\n",
    "\n",
    "\n",
    "plt.figure(figsize=(8,8))\n",
    "\n",
    "plt.scatter(X[:, 0], X[:, 2], s=.01, label=\"X1\")\n",
    "plt.scatter(X2[:, 0], X2[:, 2], s=.01, label=\"X2\")\n",
    "\n",
    "plt.scatter(off_mfld_pts_at_X2[:, 0], off_mfld_pts_at_X2[:, 2], s=.01, label=\"off mfld from X2\")\n",
    "plt.legend(markerscale=100)\n",
    "\n",
    "# plt.scatter(X)\n",
    "# plt.arrow(X2_sample[0], X2_sample[2], normal_at_X2[0], normal_at_X2[2], head_width=0.5)\n",
    "random_idx = np.random.choice(np.arange(X2.shape[0]), 10)\n",
    "for j in range(random_idx.shape[0]):\n",
    "    i = random_idx[j]\n",
    "    X2_sample = X2[i]\n",
    "    normal_at_X2 = normals_at_X2[i]\n",
    "    \n",
    "    plt.arrow(X2_sample[0], X2_sample[2], normal_at_X2[0], normal_at_X2[2], head_width=0.2, width=0.001)\n",
    "plt.show()"
   ]
  },
  {
   "cell_type": "code",
   "execution_count": null,
   "metadata": {},
   "outputs": [],
   "source": [
    "plt.hist(t)"
   ]
  },
  {
   "cell_type": "code",
   "execution_count": null,
   "metadata": {},
   "outputs": [],
   "source": [
    "def identity(x):\n",
    "    return x\n",
    "\n",
    "def make_my_swiss_roll(t_min=1.5, t_max=None, num_turns=4, omega=np.pi, num_samples=100000, noise=0, g=identity, correct=True):\n",
    "    \"\"\"Generate a swiss roll dataset.\"\"\"\n",
    "\n",
    "    if t_max is not None and omega is not None and num_turns is not None:\n",
    "        assert num_turns == ((t_max - t_min) * omega) / (2 * np.pi), \"`num_turns`, `t_max`, and `omega` are incompatible!\"\n",
    "        \n",
    "    elif t_max is None:\n",
    "        t_max = t_min + ((2 * np.pi / omega) * num_turns)\n",
    "        \n",
    "    elif omega is None:\n",
    "        omega = (num_turns * 2 * np.pi) / (t_max - t_min)\n",
    "        \n",
    "    elif num_turns is None:\n",
    "        num_turns = ((t_max - t_min) * omega) / (2 * np.pi)\n",
    "    \n",
    "    if num_turns < 1:\n",
    "        print(\"[warning]: num_turns < 1, might not lead to meaningful dataset\")\n",
    "        if correct:\n",
    "            scale = omega / np.pi\n",
    "            t_min = t_min / scale\n",
    "            t_max = t_max / scale\n",
    "    \n",
    "    print(\"t_min:\", t_min, \"t_max:\", t_max, \"omega:\", omega, \"num_turns:\", num_turns, \"gap:\", 2*np.pi/omega)\n",
    "    \n",
    "    t = t_min + (np.random.rand(1, num_samples) * (t_max - t_min))\n",
    "    \n",
    "    x = g(t) * np.cos(omega * t)\n",
    "    y = g(t) * np.sin(omega * t)\n",
    "    z = 21 * np.random.uniform(size=(1, num_samples))\n",
    "    \n",
    "    X = np.concatenate((x, y, z))\n",
    "    X += noise * np.random.randn(3, num_samples)\n",
    "    X = X.T\n",
    "    \n",
    "    t = np.squeeze(t)\n",
    "    \n",
    "    return X, t"
   ]
  },
  {
   "cell_type": "code",
   "execution_count": null,
   "metadata": {},
   "outputs": [],
   "source": [
    "def contract(x, k=np.pi):\n",
    "    return x - k\n",
    "\n",
    "from functools import partial\n",
    "\n",
    "scale = .010\n",
    "omega = np.pi * scale\n",
    "t_min = 1.5 \n",
    "t_max = 4.5 \n",
    "# t_max = None\n",
    "contract_partial = partial(contract, k=np.pi/omega)\n",
    "\n",
    "X1, t1 = make_my_swiss_roll(t_min=t_min, t_max=t_max, num_turns=None, omega=omega)\n",
    "X2, t2 = make_my_swiss_roll(t_min=t_min, t_max=t_max, num_turns=None, g=contract_partial, omega=omega)\n",
    "\n",
    "plt.figure(figsize=(6,6))\n",
    "plt.scatter(X1[:, 0], X1[:, 1], s=0.01, label=\"M1\")\n",
    "plt.scatter(X2[:, 0], X2[:, 1], s=0.01, label=\"M2\")\n",
    "plt.legend(markerscale=100)"
   ]
  },
  {
   "cell_type": "code",
   "execution_count": null,
   "metadata": {},
   "outputs": [],
   "source": [
    "X1"
   ]
  },
  {
   "cell_type": "code",
   "execution_count": null,
   "metadata": {},
   "outputs": [],
   "source": []
  },
  {
   "cell_type": "code",
   "execution_count": null,
   "metadata": {},
   "outputs": [],
   "source": [
    "import os\n",
    "os.chdir(\"/data/adv_geom/src/expB/\")\n",
    "from myNNs import *\n",
    "import torch"
   ]
  },
  {
   "cell_type": "code",
   "execution_count": null,
   "metadata": {},
   "outputs": [],
   "source": [
    "inp = torch.randn((512, 2))\n",
    "model = MTMLPwithNormalisation(input_size=2, output_size=1)"
   ]
  },
  {
   "cell_type": "code",
   "execution_count": null,
   "metadata": {},
   "outputs": [],
   "source": [
    "model"
   ]
  },
  {
   "cell_type": "code",
   "execution_count": null,
   "metadata": {},
   "outputs": [],
   "source": [
    "model2 = MLPwithNormalisation(input_size=2, output_size=2)\n",
    "model2(inp).shape"
   ]
  },
  {
   "cell_type": "code",
   "execution_count": null,
   "metadata": {},
   "outputs": [],
   "source": [
    "import os\n",
    "os.chdir(\"../src/datagen/synthetic/single/\")\n",
    "\n"
   ]
  },
  {
   "cell_type": "code",
   "execution_count": null,
   "metadata": {},
   "outputs": [],
   "source": [
    "np.argmin(t)"
   ]
  },
  {
   "cell_type": "code",
   "execution_count": null,
   "metadata": {},
   "outputs": [],
   "source": [
    "%run -i sphere.py\n",
    "\n"
   ]
  },
  {
   "cell_type": "code",
   "execution_count": null,
   "metadata": {},
   "outputs": [],
   "source": [
    "! cat ./test/specs.json"
   ]
  },
  {
   "cell_type": "code",
   "execution_count": null,
   "metadata": {},
   "outputs": [],
   "source": [
    "import matplotlib.pyplot as plt\n",
    "plt.scatter(test.genattrs.points_n[:, 0], test.genattrs.points_n[:, 1], s=0.01)\n",
    "\n"
   ]
  },
  {
   "cell_type": "code",
   "execution_count": null,
   "metadata": {},
   "outputs": [],
   "source": [
    "import matplotlib.pyplot as plt\n",
    "plt.scatter(b.genattrs.points_n[:, 0], b.genattrs.points_n[:, 1], s=0.01)\n",
    "\n"
   ]
  },
  {
   "cell_type": "code",
   "execution_count": null,
   "metadata": {},
   "outputs": [],
   "source": [
    "from collections.abc import Iterable\n",
    "for i in vars(test._genattrs):\n",
    "    if isinstance(vars(test._genattrs)[i], Iterable):\n",
    "        print(i, type(vars(test._genattrs)[i]), (vars(test._genattrs)[i] == vars(b._genattrs)[i]).all())\n",
    "    else:\n",
    "        print(i, type(vars(test._genattrs)[i]), (vars(test._genattrs)[i] == vars(b._genattrs)[i]))\n",
    "        \n",
    "from collections.abc import Iterable\n",
    "for i in vars(test._specattrs):\n",
    "    if isinstance(vars(test._specattrs)[i], Iterable):\n",
    "        print(i, type(vars(test._specattrs)[i]), (vars(test._specattrs)[i] == vars(b._specattrs)[i]).all())\n",
    "    else:\n",
    "        print(i, type(vars(test._specattrs)[i]), (vars(test._specattrs)[i] == vars(b._specattrs)[i]))\n"
   ]
  },
  {
   "cell_type": "code",
   "execution_count": null,
   "metadata": {
    "scrolled": false
   },
   "outputs": [],
   "source": []
  },
  {
   "cell_type": "code",
   "execution_count": null,
   "metadata": {},
   "outputs": [],
   "source": [
    "\"fix_center\" in list(vars(test._genattrs).keys())"
   ]
  },
  {
   "cell_type": "code",
   "execution_count": null,
   "metadata": {},
   "outputs": [],
   "source": [
    "cat test/specs.json"
   ]
  },
  {
   "cell_type": "code",
   "execution_count": null,
   "metadata": {},
   "outputs": [],
   "source": [
    "vars(b.specattrs)"
   ]
  },
  {
   "cell_type": "code",
   "execution_count": null,
   "metadata": {},
   "outputs": [],
   "source": [
    "import os\n",
    "os.chdir(\"../src/\")"
   ]
  },
  {
   "cell_type": "code",
   "execution_count": null,
   "metadata": {},
   "outputs": [],
   "source": [
    "%run -i datagen_tester.py\n",
    "\n"
   ]
  },
  {
   "cell_type": "code",
   "execution_count": null,
   "metadata": {
    "scrolled": false
   },
   "outputs": [],
   "source": [
    "plt.scatter(test.normed_all_points[:, 0], test.normed_all_points[:, 1], s=0.01)"
   ]
  },
  {
   "cell_type": "code",
   "execution_count": null,
   "metadata": {},
   "outputs": [],
   "source": [
    "np.inf == np.inf"
   ]
  },
  {
   "cell_type": "code",
   "execution_count": null,
   "metadata": {},
   "outputs": [],
   "source": [
    "tmp = eval(inspect.getsourcelines(identity)[0][0].strip().split(\"=\")[1].strip())"
   ]
  },
  {
   "cell_type": "code",
   "execution_count": null,
   "metadata": {},
   "outputs": [],
   "source": [
    "identity == tmp"
   ]
  },
  {
   "cell_type": "code",
   "execution_count": null,
   "metadata": {},
   "outputs": [],
   "source": [
    "cat ./test/specs.json"
   ]
  },
  {
   "cell_type": "code",
   "execution_count": null,
   "metadata": {},
   "outputs": [],
   "source": [
    "import pandas as pd\n",
    "import plotly.express as px\n",
    "import matplotlib\n",
    "from mpl_toolkits import mplot3d as p3\n",
    "# matplotlib.use('Agg')\n",
    "import matplotlib.pyplot as plt"
   ]
  },
  {
   "cell_type": "code",
   "execution_count": null,
   "metadata": {},
   "outputs": [],
   "source": [
    "x_cn = np.random.normal(size=3)\n",
    "v_1 = np.random.normal(size=3)\n",
    "v_1 = v_1 / np.linalg.norm(v_1 - x_cn, ord=2)\n",
    "v_2 = np.random.normal(size=3)\n",
    "v_2 = v_2 / np.linalg.norm(v_2 - x_cn, ord=2)\n",
    "\n",
    "b_1 = v_1 - x_cn\n",
    "b_2 = v_2 - x_cn\n",
    "b_2 = b_2 - np.dot(b_1, b_2) * b_1\n",
    "\n",
    "coefficients = np.random.uniform(size=(100000, 2))\n",
    "span = coefficients[:, 0].reshape(-1, 1) * b_1 + coefficients[:, 1].reshape(-1, 1) * b_2\n",
    "span = span + x_cn\n",
    "\n",
    "# fig = plt.figure()\n",
    "# ax = p3.Axes3D(fig)\n",
    "# # ax.view_init(0, 90)\n",
    "# ax.scatter(span[:, 0], span[:, 1], span[:, 2], edgecolor='red', s=.01)\n",
    "# ax.scatter(x_cn[0], x_cn[1], x_cn[2], edgecolors=\"k\", s=10)\n",
    "# ax.scatter(v_1[0], v_1[1], v_1[2], edgecolors=\"k\", s=10)\n",
    "# ax.scatter(v_2[0], v_2[1], v_2[2], edgecolors=\"k\", s=10)\n",
    "\n",
    "\n",
    "df = pd.DataFrame({\"x\": span[:, 0], \"y\": span[:, 1], \"z\": span[:, 2]})\n",
    "fig = px.scatter_3d(df, x='x', y='y', z='z', opacity=0.2)\n",
    "fig.update_layout(margin=dict(l=0, r=0, b=0, t=0))\n",
    "fig.update_traces(marker=dict(size=1))\n",
    "fig.show()"
   ]
  },
  {
   "cell_type": "code",
   "execution_count": null,
   "metadata": {},
   "outputs": [],
   "source": [
    "np.dot(b_1, b_2)"
   ]
  },
  {
   "cell_type": "code",
   "execution_count": null,
   "metadata": {},
   "outputs": [],
   "source": [
    "func = 'lambda x: x + 2'\n",
    "a = eval(func)\n",
    "b = lambda x: a(x) - 2\n",
    "a(2), b(3)"
   ]
  },
  {
   "cell_type": "code",
   "execution_count": null,
   "metadata": {},
   "outputs": [],
   "source": [
    "import os\n",
    "os.chdir(\"../src/\")\n",
    "%run datagen_tester.py"
   ]
  },
  {
   "cell_type": "code",
   "execution_count": null,
   "metadata": {},
   "outputs": [],
   "source": [
    "plt.scatter(train_set.normed_all_points[:, 0], train_set.normed_all_points[:, 1], s=0.01)"
   ]
  },
  {
   "cell_type": "code",
   "execution_count": null,
   "metadata": {},
   "outputs": [],
   "source": [
    "from sklearn.metrics import classification_report\n",
    "\n",
    "a = np.ones(5)\n",
    "b = np.ones(5)\n",
    "\n",
    "classification_report(a, b, output_dict=True)"
   ]
  },
  {
   "cell_type": "code",
   "execution_count": null,
   "metadata": {},
   "outputs": [],
   "source": [
    "import matplotlib.pyplot as plt\n",
    "import matplotlib.image as mpimg\n",
    "plt.figure(figsize=(6, 6))\n",
    "img=mpimg.imread('/azuredrive/dumps/expC_dist_learner_for_adv_ex/rdm_swrolls/rdm_swiss_rolls_k2n3/1/plots/fig-1.png')\n",
    "imgplot = plt.imshow(img)"
   ]
  },
  {
   "cell_type": "code",
   "execution_count": null,
   "metadata": {},
   "outputs": [],
   "source": [
    "import os\n",
    "os.chdir(\"../src/\")"
   ]
  },
  {
   "cell_type": "code",
   "execution_count": null,
   "metadata": {},
   "outputs": [],
   "source": [
    "import plotly.express as px\n",
    "import pandas as pd"
   ]
  },
  {
   "cell_type": "code",
   "execution_count": null,
   "metadata": {},
   "outputs": [],
   "source": [
    "from datagen.synthetic.multiple.intertwinedswissrolls import IntertwinedSwissRolls\n",
    "import matplotlib.pyplot as plt\n",
    "\n",
    "train_set, val_set, test_set = IntertwinedSwissRolls.make_train_val_test_splits()"
   ]
  },
  {
   "cell_type": "code",
   "execution_count": null,
   "metadata": {},
   "outputs": [],
   "source": [
    "train_set.normed_all_points"
   ]
  },
  {
   "cell_type": "code",
   "execution_count": null,
   "metadata": {},
   "outputs": [],
   "source": [
    "plt.scatter(val_set.normed_all_points[:, 0], val_set.normed_all_points[:, 1], s=0.01)"
   ]
  },
  {
   "cell_type": "code",
   "execution_count": null,
   "metadata": {},
   "outputs": [],
   "source": [
    "\n",
    "df = pd.DataFrame({\"x\": val_set.normed_all_points[:, 0],\\\n",
    "     \"y\": val_set.normed_all_points[:, 1],\\\n",
    "     \"z\": val_set.normed_all_points[:, 2]})\n",
    "fig = px.scatter_3d(df, opacity=0.3, x=\"x\", y=\"y\", z=\"z\")\n",
    "fig.update_traces(marker=dict(size=2))"
   ]
  },
  {
   "cell_type": "code",
   "execution_count": null,
   "metadata": {},
   "outputs": [],
   "source": [
    "import re\n",
    "import numpy as np\n",
    "import torch\n",
    "\n",
    "k_dim_samples = np.zeros((val_set.N, 2))\n",
    "start = 0\n",
    "for attr in vars(val_set):\n",
    "    if len(re.findall(r'S[0-9]+', attr)) > 0:\n",
    "        N_attr = getattr(val_set, attr).genattrs.N\n",
    "        k_dim_samples[start:start + N_attr//2] = getattr(val_set, attr).genattrs.points_k\n",
    "        k_dim_samples[start + N_attr//2:start + N_attr] = getattr(val_set, attr).genattrs.pre_images_k\n",
    "        start += N_attr\n",
    "k_dim_samples = val_set.all_points_k\n",
    "low = (1 - np.sign(np.min(k_dim_samples)) * 0.1) * np.min(k_dim_samples) \n",
    "high = (1 + np.sign(np.max(k_dim_samples)) * 0.1) * np.max(k_dim_samples)"
   ]
  },
  {
   "cell_type": "code",
   "execution_count": null,
   "metadata": {},
   "outputs": [],
   "source": [
    "gen_2d_grid = np.random.uniform(low, high, size=(100000, 2))\n",
    "\n",
    "plt.scatter(gen_2d_grid[:, 0], gen_2d_grid[:, 1])\n",
    "plt.scatter(k_dim_samples[:, 0], k_dim_samples[:, 1])"
   ]
  },
  {
   "cell_type": "code",
   "execution_count": null,
   "metadata": {},
   "outputs": [],
   "source": [
    "gen_nd_grid = np.zeros((100000, 3))\n",
    "\n",
    "gen_nd_grid[:, :2] = gen_2d_grid\n",
    "gen_nd_grid += val_set.translation\n",
    "gen_nd_grid = np.dot(val_set.rotation, gen_nd_grid.T).T\n",
    "gen_nd_grid = gen_nd_grid / val_set.norm_factor\n",
    "gen_nd_grid = torch.from_numpy(gen_nd_grid).float()\n",
    "gen_nd_grid = gen_nd_grid - val_set.anchor + val_set.fix_center\n"
   ]
  },
  {
   "cell_type": "code",
   "execution_count": null,
   "metadata": {},
   "outputs": [],
   "source": [
    "df2 = pd.DataFrame({\n",
    "    \"x\": gen_nd_grid[:, 0],\n",
    "    \"y\": gen_nd_grid[:, 1],\n",
    "    \"z\": gen_nd_grid[:, 2]\n",
    "})\n",
    "\n",
    "df = df.append(df2, ignore_index=True)\n",
    "\n",
    "fig = px.scatter_3d(df, opacity=0.3, x=\"x\", y=\"y\", z=\"z\")\n",
    "fig.update_traces(marker=dict(size=2, color=[\"red\"]*val_set.normed_all_points.shape[0] + [\"yellow\"]*gen_nd_grid.shape[0]))"
   ]
  },
  {
   "cell_type": "code",
   "execution_count": null,
   "metadata": {},
   "outputs": [],
   "source": []
  },
  {
   "cell_type": "code",
   "execution_count": 1,
   "metadata": {},
   "outputs": [],
   "source": [
    "import os\n",
    "os.chdir(\"/data/adv_geom/src\")\n"
   ]
  },
  {
   "cell_type": "code",
   "execution_count": 2,
   "metadata": {},
   "outputs": [],
   "source": [
    "from datagen.synthetic.multiple.concentricspheres import ConcentricSpheres"
   ]
  },
  {
   "cell_type": "code",
   "execution_count": 3,
   "metadata": {},
   "outputs": [
    {
     "name": "stdout",
     "output_type": "stream",
     "text": [
      "[RandomSphere]: generated centre\n",
      "[RandomSphere]: generated points in k-dim\n",
      "[RandomSphere]: pre-images generated\n",
      "[RandomSphere]: embedded the sphere in n-dim space\n",
      "[RandomSphere]: normalization complete\n",
      "[ConcentricSpheres]: Generated S1\n",
      "[RandomSphere]: generated centre\n",
      "[RandomSphere]: generated points in k-dim\n",
      "[RandomSphere]: pre-images generated\n",
      "[RandomSphere]: embedded the sphere in n-dim space\n",
      "[RandomSphere]: normalization complete\n",
      "[ConcentricSpheres]: Generated S2\n",
      "[ConcentricSpheres]: Overall noramalization done\n",
      "[RandomSphere]: generated centre\n",
      "[RandomSphere]: generated points in k-dim\n",
      "[RandomSphere]: pre-images generated\n",
      "[RandomSphere]: embedded the sphere in n-dim space\n",
      "[RandomSphere]: normalization complete\n",
      "[ConcentricSpheres]: Generated S1\n",
      "[RandomSphere]: generated centre\n",
      "[RandomSphere]: generated points in k-dim\n",
      "[RandomSphere]: pre-images generated\n",
      "[RandomSphere]: embedded the sphere in n-dim space\n",
      "[RandomSphere]: normalization complete\n",
      "[ConcentricSpheres]: Generated S2\n",
      "[ConcentricSpheres]: Overall noramalization done\n",
      "[RandomSphere]: generated centre\n",
      "[RandomSphere]: generated points in k-dim\n",
      "[RandomSphere]: pre-images generated\n",
      "[RandomSphere]: embedded the sphere in n-dim space\n",
      "[RandomSphere]: normalization complete\n",
      "[ConcentricSpheres]: Generated S1\n",
      "[RandomSphere]: generated centre\n",
      "[RandomSphere]: generated points in k-dim\n",
      "[RandomSphere]: pre-images generated\n",
      "[RandomSphere]: embedded the sphere in n-dim space\n",
      "[RandomSphere]: normalization complete\n",
      "[ConcentricSpheres]: Generated S2\n",
      "[ConcentricSpheres]: Overall noramalization done\n"
     ]
    }
   ],
   "source": [
    "train_set, val_set, test_set = ConcentricSpheres.make_train_val_test_splits()\n",
    "\n"
   ]
  },
  {
   "cell_type": "code",
   "execution_count": 5,
   "metadata": {},
   "outputs": [
    {
     "data": {
      "text/plain": [
       "<matplotlib.collections.PathCollection at 0x7efbffef3c18>"
      ]
     },
     "execution_count": 5,
     "metadata": {},
     "output_type": "execute_result"
    },
    {
     "data": {
      "image/png": "[encoded data removed]",
      "text/plain": [
       "<Figure size 432x288 with 1 Axes>"
      ]
     },
     "metadata": {
      "needs_background": "light"
     },
     "output_type": "display_data"
    }
   ],
   "source": [
    "import matplotlib.pyplot as plt\n",
    "\n",
    "plt.scatter(train_set.normed_all_points[:, 0].numpy(), train_set.normed_all_points[:, 1].numpy(), s=0.01, c=train_set.class_labels.numpy())\n",
    "# plt.scatter(train_set.all_points[:, 0].numpy(), train_set.all_points[:, 1].numpy(), s=0.01)\n",
    "\n",
    "# plt.scatter(train_set.S1.genattrs.normed_points_n[:, 0].numpy(), train_set.S1.genattrs.normed_points_n[:, 1].numpy(), s=0.01)\n",
    "# plt.scatter(train_set.S2.genattrs.normed_points_n[:, 0].numpy(), train_set.S2.genattrs.normed_points_n[:, 1].numpy(), s=0.01)"
   ]
  },
  {
   "cell_type": "code",
   "execution_count": null,
   "metadata": {},
   "outputs": [],
   "source": [
    "(train_set.all_points // train_set.norm_factor) - train_set.anchor + train_set.fix_center"
   ]
  },
  {
   "cell_type": "code",
   "execution_count": null,
   "metadata": {},
   "outputs": [],
   "source": [
    "train_set.S1.specattrs.r, train_set.S2.specattrs.r, train_set.r, train_set.g"
   ]
  },
  {
   "cell_type": "code",
   "execution_count": null,
   "metadata": {},
   "outputs": [],
   "source": [
    "train_set._anchor, train_set.fix_center"
   ]
  },
  {
   "cell_type": "code",
   "execution_count": null,
   "metadata": {},
   "outputs": [],
   "source": [
    "train_set.S1.specattrs.normed_x_cn"
   ]
  },
  {
   "cell_type": "code",
   "execution_count": null,
   "metadata": {},
   "outputs": [],
   "source": []
  }
 ],
 "metadata": {
  "kernelspec": {
   "display_name": "Python 3",
   "language": "python",
   "name": "python3"
  },
  "language_info": {
   "codemirror_mode": {
    "name": "ipython",
    "version": 3
   },
   "file_extension": ".py",
   "mimetype": "text/x-python",
   "name": "python",
   "nbconvert_exporter": "python",
   "pygments_lexer": "ipython3",
   "version": "3.6.9"
  }
 },
 "nbformat": 4,
 "nbformat_minor": 4
}
