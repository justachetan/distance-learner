{
 "cells": [
  {
   "cell_type": "code",
   "execution_count": null,
   "metadata": {},
   "outputs": [],
   "source": [
    "import torch\n",
    "from torch.autograd import Variable\n",
    "from utee import selector\n",
    "model_raw, ds_fetcher, is_imagenet = selector.select('resnet50')\n",
    "ds_val = ds_fetcher(batch_size=10, train=False, val=True)\n",
    "for idx, (data, target) in enumerate(ds_val):\n",
    "    data =  Variable(torch.FloatTensor(data)).cuda()\n",
    "    output = model_raw(data)"
   ]
  },
  {
   "cell_type": "code",
   "execution_count": 5,
   "metadata": {},
   "outputs": [],
   "source": [
    "import os\n",
    "os.chdir(\"/data/adv_geom/drg/\")\n",
    "from models.classifier import Classifier"
   ]
  },
  {
   "cell_type": "code",
   "execution_count": 3,
   "metadata": {},
   "outputs": [
    {
     "name": "stdout",
     "output_type": "stream",
     "text": [
      "datasets  drg  dumps  notebooks\r\n"
     ]
    }
   ],
   "source": [
    "! ls ../"
   ]
  },
  {
   "cell_type": "code",
   "execution_count": 6,
   "metadata": {},
   "outputs": [
    {
     "name": "stderr",
     "output_type": "stream",
     "text": [
      "\u001b[93m[1702210830] [Warning] running without display\u001b[0m\n"
     ]
    }
   ],
   "source": [
    "from training.train_classifier import TrainClassifier"
   ]
  },
  {
   "cell_type": "code",
   "execution_count": null,
   "metadata": {},
   "outputs": [],
   "source": [
    "args = {\n",
    "    \"train_images_file\": \"/data/adv_geom/datasets/emnist/train_images.h5\",\n",
    "    \"train_codes_file\": \"/data/adv_geom/datasets/emnist/train_labels.h5\",\n",
    "    \"test_images_file\": \"/data/adv_geom/datasets/emnist/test_images.h5\",\n",
    "    \"test_codes_file\": \"/data/adv_geom/datasets/emnist/test_labels.h5\",\n",
    "    \"state_file\": \"/data/adv_geom/dumps/emnist/classifier.pth.tar\",\n",
    "    \"label_index\": 0,\n",
    "    \"lr_decay\": 0.95,\n",
    "    \"weight_decay\": 0.0001\n",
    "}\n",
    "\n",
    "program = TrainClassifier(**args)"
   ]
  },
  {
   "cell_type": "code",
   "execution_count": null,
   "metadata": {},
   "outputs": [],
   "source": []
  }
 ],
 "metadata": {
  "kernelspec": {
   "display_name": "Python 3",
   "language": "python",
   "name": "python3"
  },
  "language_info": {
   "codemirror_mode": {
    "name": "ipython",
    "version": 3
   },
   "file_extension": ".py",
   "mimetype": "text/x-python",
   "name": "python",
   "nbconvert_exporter": "python",
   "pygments_lexer": "ipython3",
   "version": "3.6.9"
  }
 },
 "nbformat": 4,
 "nbformat_minor": 4
}
