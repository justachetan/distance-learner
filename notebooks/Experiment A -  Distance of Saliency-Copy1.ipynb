{
 "cells": [
  {
   "cell_type": "code",
   "execution_count": 1,
   "metadata": {},
   "outputs": [
    {
     "name": "stderr",
     "output_type": "stream",
     "text": [
      "\u001b[93m[2502211059] [Warning] running without display\u001b[0m\n"
     ]
    }
   ],
   "source": [
    "import os\n",
    "import sys\n",
    "import time\n",
    "import copy\n",
    "\n",
    "import numpy as np\n",
    "\n",
    "import torch\n",
    "import torch.nn as nn\n",
    "import torch.optim as optim\n",
    "from torch.utils.data import Dataset, DataLoader\n",
    "\n",
    "import torchvision\n",
    "import torchvision.transforms as transforms\n",
    "from torchvision import datasets\n",
    "\n",
    "import matplotlib\n",
    "# matplotlib.use('Agg')\n",
    "import matplotlib.pyplot as plt\n",
    "\n",
    "from livelossplot import PlotLosses\n",
    "\n",
    "from sklearn.neighbors import NearestNeighbors\n",
    "from sklearn.decomposition import IncrementalPCA\n",
    "\n",
    "from IPython.display import Image\n",
    "\n",
    "from tqdm.notebook import tqdm\n",
    "\n",
    "# Using model code from Stutz et.al.\n",
    "os.chdir(\"/data/adv_geom/drg/\")\n",
    "from models.classifier import Classifier\n",
    "from training.train_classifier import TrainClassifier"
   ]
  },
  {
   "cell_type": "code",
   "execution_count": 2,
   "metadata": {},
   "outputs": [],
   "source": [
    "class EMNIST(Dataset):\n",
    "    \n",
    "    def __init__(self, X, y):\n",
    "        'Initialization'\n",
    "        self.X = X\n",
    "        self.y = y\n",
    "        \n",
    "    def __len__(self):\n",
    "        return self.X.shape[0]\n",
    "    \n",
    "    def __getitem__(self, idx):\n",
    "        \n",
    "        return self.X[idx], self.y[idx]"
   ]
  },
  {
   "cell_type": "code",
   "execution_count": 3,
   "metadata": {},
   "outputs": [
    {
     "name": "stderr",
     "output_type": "stream",
     "text": [
      "No traceback available to show.\n",
      "\u001b[94m[2502211059] -- TrainClassifier\u001b[0m\n",
      "\u001b[94m[2502211059] [Training] train_images_file=/data/adv_geom/datasets/emnist/train_images.h5\u001b[0m\n",
      "\u001b[94m[2502211059] [Training] train_codes_file=/data/adv_geom/datasets/emnist/train_labels.h5\u001b[0m\n",
      "\u001b[94m[2502211059] [Training] test_images_file=/data/adv_geom/datasets/emnist/test_images.h5\u001b[0m\n",
      "\u001b[94m[2502211059] [Training] test_codes_file=/data/adv_geom/datasets/emnist/test_labels.h5\u001b[0m\n",
      "\u001b[94m[2502211059] [Training] state_file=/data/adv_geom/dumps/emnist/classifier.pth.tar\u001b[0m\n",
      "\u001b[94m[2502211059] [Training] log_file=/data/adv_geom/dumps/emnist/classifier.log\u001b[0m\n",
      "\u001b[94m[2502211059] [Training] training_file=/data/adv_geom/dumps/emnist/training.h5\u001b[0m\n",
      "\u001b[94m[2502211059] [Training] testing_file=/data/adv_geom/dumps/emnist/testing.h5\u001b[0m\n",
      "\u001b[94m[2502211059] [Training] loss_file=/data/adv_geom/dumps/emnist/loss.png\u001b[0m\n",
      "\u001b[94m[2502211059] [Training] error_file=/data/adv_geom/dumps/emnist/error.png\u001b[0m\n",
      "\u001b[94m[2502211059] [Training] gradient_file=/data/adv_geom/dumps/emnist/gradient.png\u001b[0m\n",
      "\u001b[94m[2502211059] [Training] label_index=0\u001b[0m\n",
      "\u001b[94m[2502211059] [Training] training_samples=160000\u001b[0m\n",
      "\u001b[94m[2502211059] [Training] validation_samples=40000\u001b[0m\n",
      "\u001b[94m[2502211059] [Training] test_samples=-1\u001b[0m\n",
      "\u001b[94m[2502211059] [Training] early_stopping=False\u001b[0m\n",
      "\u001b[94m[2502211059] [Training] random_samples=True\u001b[0m\n",
      "\u001b[94m[2502211059] [Training] batch_size=64\u001b[0m\n",
      "\u001b[94m[2502211059] [Training] epochs=10\u001b[0m\n",
      "\u001b[94m[2502211059] [Training] weight_decay=0.0001\u001b[0m\n",
      "\u001b[94m[2502211059] [Training] logit_decay=0\u001b[0m\n",
      "\u001b[94m[2502211059] [Training] use_gpu=True\u001b[0m\n",
      "\u001b[94m[2502211059] [Training] skip=5\u001b[0m\n",
      "\u001b[94m[2502211059] [Training] lr=0.01\u001b[0m\n",
      "\u001b[94m[2502211059] [Training] lr_decay=0.95\u001b[0m\n",
      "\u001b[94m[2502211059] [Training] results_file=\u001b[0m\n",
      "\u001b[94m[2502211059] [Training] debug_directory=\u001b[0m\n",
      "\u001b[94m[2502211059] [Training] gpu_id=1\u001b[0m\n",
      "\u001b[94m[2502211059] [Training] network_architecture=mlp\u001b[0m\n",
      "\u001b[94m[2502211059] [Training] network_activation=relu\u001b[0m\n",
      "\u001b[94m[2502211059] [Training] network_no_batch_normalization=False\u001b[0m\n",
      "\u001b[94m[2502211059] [Training] network_channels=16\u001b[0m\n",
      "\u001b[94m[2502211059] [Training] network_dropout=False\u001b[0m\n",
      "\u001b[94m[2502211059] [Training] network_units=1024,1024,1024,1024\u001b[0m\n",
      "/usr/local/lib/python3.6/dist-packages/torch/distributed/distributed_c10d.py:151: UserWarning: torch.distributed.reduce_op is deprecated, please use torch.distributed.ReduceOp instead\n",
      "  warnings.warn(\"torch.distributed.reduce_op is deprecated, please use \"\n",
      "\u001b[94m[2502211059] [Training] read /data/adv_geom/datasets/emnist/train_images.h5\u001b[0m\n",
      "\u001b[94m[2502211059] [Training] read /data/adv_geom/datasets/emnist/test_images.h5\u001b[0m\n",
      "\u001b[94m[2502211059] [Training] resolution 28\u001b[0m\n",
      "\u001b[94m[2502211059] 240000\u001b[0m\n",
      "\u001b[94m[2502211059] [Training] read /data/adv_geom/datasets/emnist/train_labels.h5\u001b[0m\n",
      "\u001b[94m[2502211059] [Training] read /data/adv_geom/datasets/emnist/test_labels.h5\u001b[0m\n",
      "\u001b[94m[2502211059] [Training] using 160000 training samples\u001b[0m\n",
      "\u001b[94m[2502211059] [Training] found 10 classes\u001b[0m\n",
      "\u001b[93m[2502211059] [Training] dataset not balanced, class 0 should have 16000 samples but has 15932\u001b[0m\n",
      "\u001b[93m[2502211059] [Training] dataset not balanced, class 1 should have 16000 samples but has 16053\u001b[0m\n",
      "\u001b[93m[2502211059] [Training] dataset not balanced, class 2 should have 16000 samples but has 16068\u001b[0m\n",
      "\u001b[93m[2502211059] [Training] dataset not balanced, class 3 should have 16000 samples but has 16050\u001b[0m\n",
      "\u001b[93m[2502211059] [Training] dataset not balanced, class 4 should have 16000 samples but has 15887\u001b[0m\n",
      "\u001b[93m[2502211059] [Training] dataset not balanced, class 5 should have 16000 samples but has 16003\u001b[0m\n",
      "\u001b[93m[2502211059] [Training] dataset not balanced, class 6 should have 16000 samples but has 15902\u001b[0m\n",
      "\u001b[93m[2502211059] [Training] dataset not balanced, class 7 should have 16000 samples but has 15910\u001b[0m\n",
      "\u001b[93m[2502211059] [Training] dataset not balanced, class 8 should have 16000 samples but has 15991\u001b[0m\n",
      "\u001b[93m[2502211059] [Training] dataset not balanced, class 9 should have 16000 samples but has 16204\u001b[0m\n",
      "\u001b[94m[2502211059] [Training] using 1 input channels\u001b[0m\n",
      "\u001b[94m[2502211059] [Training] loaded /data/adv_geom/dumps/emnist/classifier.pth.tar\u001b[0m\n",
      "\u001b[94m[2502211059] [Training] model is not CUDA\u001b[0m\n",
      "\u001b[94m[2502211059] [Training] loaded model\u001b[0m\n",
      "\u001b[94m[2502211059] [Training] read /data/adv_geom/dumps/emnist/training.h5\u001b[0m\n",
      "\u001b[94m[2502211059] [Training] read /data/adv_geom/dumps/emnist/testing.h5\u001b[0m\n",
      "\u001b[94m[2502211059] (view0, View)\n",
      "(lin1, Linear)\n",
      "(act1, ReLU)\n",
      "(bn1, BatchNorm1d)\n",
      "(lin2, Linear)\n",
      "(act2, ReLU)\n",
      "(bn2, BatchNorm1d)\n",
      "(lin3, Linear)\n",
      "(act3, ReLU)\n",
      "(bn3, BatchNorm1d)\n",
      "(lin4, Linear)\n",
      "(act4, ReLU)\n",
      "(bn4, BatchNorm1d)\n",
      "(logits, Linear)\n",
      "\u001b[0m\n"
     ]
    }
   ],
   "source": [
    "%tb\n",
    "args = {\n",
    "    \"train_images_file\": \"/data/adv_geom/datasets/emnist/train_images.h5\",\n",
    "    \"train_codes_file\": \"/data/adv_geom/datasets/emnist/train_labels.h5\",\n",
    "    \"test_images_file\": \"/data/adv_geom/datasets/emnist/test_images.h5\",\n",
    "    \"test_codes_file\": \"/data/adv_geom/datasets/emnist/test_labels.h5\",\n",
    "    \"state_file\": \"/data/adv_geom/dumps/emnist/classifier.pth.tar\",\n",
    "    \"label_index\": 0,\n",
    "    \"lr_decay\": 0.95,\n",
    "    \"weight_decay\": 0.0001,\n",
    "    \"training_samples\": 160000,\n",
    "    \"validation_samples\": 40000,\n",
    "    \"random_samples\": True,\n",
    "    \"network_architecture\": \"mlp\",\n",
    "    \"gpu_id\": 1\n",
    "}\n",
    "\n",
    "sys.argv = [\"-\" + i + \"=\" + str(args[i]) if type(args[i]) != type(True) else \"-\" + i for i in args]\n",
    "\n",
    "\n",
    "train_clf = TrainClassifier(args=sys.argv)\n",
    "train_clf.load_data()\n",
    "train_clf.load_model_and_scheduler()"
   ]
  },
  {
   "cell_type": "code",
   "execution_count": 4,
   "metadata": {},
   "outputs": [],
   "source": [
    "def epoch_adversarial(model, loader, attack, *args):\n",
    "    total_loss, total_err = 0.,0.\n",
    "    for X,y in loader:\n",
    "        X,y = X.to(device), y.to(device)\n",
    "        delta = attack(model, X, y, *args)\n",
    "        yp = model(X+delta)\n",
    "        loss = nn.CrossEntropyLoss()(yp,y)\n",
    "        \n",
    "        total_err += (yp.max(dim=1)[1] != y).sum().item()\n",
    "        total_loss += loss.item() * X.shape[0]\n",
    "    return total_err / len(loader.dataset), total_loss / len(loader.dataset)\n",
    "\n",
    "\n",
    "def pgd_linf_rand(model, X, y, epsilon, alpha, num_iter, restarts):\n",
    "    \"\"\" Construct PGD adversarial examples on the samples X, with random restarts\"\"\"\n",
    "    max_loss = torch.zeros(y.shape[0]).to(y.device)\n",
    "    max_delta = torch.zeros_like(X)\n",
    "    \n",
    "    for i in range(restarts):\n",
    "        delta = torch.rand_like(X, requires_grad=True)\n",
    "        delta.data = delta.data * 2 * epsilon - epsilon\n",
    "        \n",
    "        for t in range(num_iter):\n",
    "            loss = nn.CrossEntropyLoss()(model(X + delta), y.long())\n",
    "            loss.backward()\n",
    "            delta.data = (delta + alpha*delta.grad.detach().sign()).clamp(-epsilon,epsilon)\n",
    "            delta.grad.zero_()\n",
    "        \n",
    "        all_loss = nn.CrossEntropyLoss(reduction='none')(model(X+delta),y.long())\n",
    "        max_delta[all_loss >= max_loss] = delta.detach()[all_loss >= max_loss]\n",
    "        max_loss = torch.max(max_loss, all_loss)\n",
    "        \n",
    "    return max_delta"
   ]
  },
  {
   "cell_type": "code",
   "execution_count": 5,
   "metadata": {},
   "outputs": [],
   "source": [
    "def plot_images(X,y,yp,M,N,path=None):\n",
    "    f,ax = plt.subplots(M,N, sharex=True, sharey=True, figsize=(N,M*1.3))\n",
    "    for i in range(M):\n",
    "        for j in range(N):\n",
    "            ax[i][j].imshow(1-X[i*N+j].cpu().numpy(), cmap=\"gray\")\n",
    "            title = ax[i][j].set_title(\"Pred: {}\".format(yp[i*N+j].max(dim=0)[1]))\n",
    "            plt.setp(title, color=('g' if yp[i*N+j].max(dim=0)[1] == y[i*N+j] else 'r'))\n",
    "            ax[i][j].set_axis_off()\n",
    "#     plt.tight_layout()\n",
    "    if path is None:\n",
    "        path = \"test.png\"\n",
    "    plt.savefig(path)"
   ]
  },
  {
   "cell_type": "code",
   "execution_count": 18,
   "metadata": {},
   "outputs": [],
   "source": [
    "def get_projection(x, delta, X_train, nn, pca=None, scheme=\"paper\"):\n",
    "    \"\"\"\n",
    "    get projection of a sample on the approximated manifold\n",
    "    \n",
    "    this implementation is based on the repository for Stutz et.al.\n",
    "    as well as what they have written in their paper\n",
    "    \n",
    "    input:\n",
    "    x: sample for which projection is to be computed (numpy)\n",
    "    nn: nearest neighbor model fitted on the training samples\n",
    "    pca: if given it refers to the PCA model fitted on random subset of training samples \n",
    "    scheme: \n",
    "        - \"paper\": given in Appendix C in the paper\n",
    "        - \"self\": based on paper, computed by myself\n",
    "        - \"pca_paper\": nn is done using pca vectors then \"paper\"\n",
    "        - \"pca_self\": nn is done using pca vectors then \"self\"\n",
    "    \n",
    "    returns:\n",
    "    pi_x: projection of sample onto the manifold\n",
    "    \"\"\"\n",
    "    \n",
    "    x = x.reshape(1, -1)\n",
    "    \n",
    "    # pca is used only in code but not mentioned in the paper\n",
    "    # if it is provided, we transform the vectors\n",
    "    if pca:\n",
    "        assert scheme[:4] == \"pca_\"\n",
    "#         assert X_train.shape[1] == pca.n_features_\n",
    "        x_latent = pca.transform(x)\n",
    "        \n",
    "    nbhrs_idx = nn.kneighbors(x_latent.reshape(1, -1), n_neighbors=50)[1][0]\n",
    "    nbhrs = X_train[nbhrs_idx]\n",
    "    \n",
    "    nbhrs = nbhrs.reshape(nbhrs.shape[0], -1)\n",
    "    delta = delta.reshape(-1)\n",
    "    \n",
    "    norm_nbhrs = None\n",
    "    sol = None\n",
    "    if \"paper\" in scheme:\n",
    "        norm_nbhrs = nbhrs - nbhrs.mean(axis=0)\n",
    "        print(norm_nbhrs.shape, delta.shape)\n",
    "\n",
    "        sol = np.linalg.lstsq(norm_nbhrs.T, delta, rcond=None)\n",
    "    elif \"self\" in scheme:\n",
    "        norm_nbhrs = nbhrs - x.reshape(-1) \n",
    "        sol = np.linalg.lstsq(norm_nbhrs.T, x, rcond=None)\n",
    "        \n",
    "    beta = sol[0]\n",
    "    pi_x = np.dot(norm_nbhrs.T, beta)\n",
    "    \n",
    "    return pi_x\n",
    "    \n",
    "    "
   ]
  },
  {
   "cell_type": "code",
   "execution_count": 19,
   "metadata": {},
   "outputs": [],
   "source": [
    "def get_projections_for_data(X, y, X_train, nn, pca=None, scheme=\"paper\", batch_size=8):\n",
    "    \"\"\"get projections for data and get predictions on top of them\"\"\"\n",
    "    \n",
    "    \n",
    "    pi_X_set = None\n",
    "    perturbed_set = None\n",
    "    \n",
    "    raw_X_codes = None\n",
    "    perturbed_X_codes = None\n",
    "    pi_X_codes = None\n",
    "    \n",
    "    \n",
    "    dataset = EMNIST(X, y)\n",
    "    dataloader = DataLoader(dataset, batch_size=batch_size, shuffle=True, num_workers=4)\n",
    "    \n",
    "    for (inp, targets) in tqdm(dataloader):\n",
    "        \n",
    "        model.cuda()\n",
    "        inp = inp.cuda()\n",
    "        \n",
    "        targets = targets.cuda()\n",
    "        \n",
    "        with torch.no_grad():\n",
    "            raw_pred_codes = model(inp)\n",
    "        \n",
    "        \n",
    "        if raw_X_codes is None:\n",
    "            raw_X_codes = raw_pred_codes\n",
    "        else:\n",
    "            raw_X_codes = torch.cat((raw_X_codes, raw_pred_codes), axis=0)\n",
    "            \n",
    "        \n",
    "        \n",
    "        delta = pgd_linf_rand(model, inp, targets, 0.1, 1e-2, 40, 10)\n",
    "        delta = delta.cuda()\n",
    "        \n",
    "        perturbed_inp = inp + delta\n",
    "        \n",
    "        with torch.no_grad():\n",
    "            perturbed_pred_codes = model(perturbed_inp)\n",
    "            \n",
    "        \n",
    "        \n",
    "        inp = inp.cpu()\n",
    "        targets = targets.cpu()\n",
    "        delta = delta.cpu()\n",
    "        \n",
    "        projected_inp_batch = None\n",
    "        \n",
    "        # finding projections\n",
    "        for i in range(inp.shape[0]):\n",
    "            \n",
    "            projected_inp = get_projection(perturbed_inp[i].cpu(), delta[i], X_train, nn, pca, scheme)\n",
    "            projected_inp = torch.from_numpy(projected_inp)\n",
    "            \n",
    "            projected_inp = projected_inp.reshape(28, 28, 1)\n",
    "            \n",
    "            \n",
    "            if pi_X_set is None:\n",
    "                pi_X_set = projected_inp\n",
    "            else:\n",
    "                pi_X_set = torch.cat((projected_inp, projected_inp), axis=0)\n",
    "                \n",
    "            if projected_inp_batch is None:\n",
    "                projected_inp_batch = projected_inp\n",
    "            else:\n",
    "                projected_inp_batch = torch.cat((projected_inp_batch, projected_inp), axis=0)\n",
    "                \n",
    "        projected_inp_batch = projected_inp_batch.cuda()\n",
    "        \n",
    "        with torch.no_grad():\n",
    "            projected_pred_codes = model(projected_inp_batch)\n",
    "        \n",
    "        perturbed_pred_codes = perturbed_pred_codes.cpu()\n",
    "        perturbed_inp = perturbed_inp.cpu()\n",
    "        projected_pred_codes = projected_pred_codes.cpu()\n",
    "        projected_inp_batch = projected_inp_batch.cpu()\n",
    "        \n",
    "        if perturbed_set is None:\n",
    "            perturbed_set = perturbed_inp\n",
    "        else:\n",
    "            perturbed_inp = torch.cat((perturbed_set, perturbed_inp), axis=0)\n",
    "        \n",
    "        if perturbed_X_codes is None:\n",
    "            perturbed_X_codes = perturbed_pred_codes\n",
    "        else:\n",
    "            perturbed_X_codes = torch.cat((perturbed_X_codes, perturbed_pred_codes), axis=0)\n",
    "        \n",
    "        \n",
    "        if pi_X_codes is None:\n",
    "            pi_X_codes = projected_pred_codes\n",
    "            \n",
    "        else:\n",
    "            pi_X_codes = torch.cat((pi_X_codes, projected_pred_codes), axis=0)\n",
    "        \n",
    "        \n",
    "        \n",
    "    return pi_X_set, perturbed_set, raw_X_codes, perturbed_X_codes, pi_X_codes\n",
    "        \n",
    "    \n",
    "# model.cuda()\n",
    "# rimg = rimg.cuda()\n",
    "# rcode = rcode.cuda()\n",
    "# delta = pgd_linf_rand(model, rimg, rcode, 0.1, 1e-2, 40, 10)\n",
    "# model.cpu()\n",
    "# rimg = rimg.cpu()\n",
    "# rcode = rcode.cpu()"
   ]
  },
  {
   "cell_type": "code",
   "execution_count": 20,
   "metadata": {},
   "outputs": [],
   "source": [
    "model = train_clf.model\n",
    "X_test = torch.Tensor(train_clf.test_images)\n",
    "y_test = torch.Tensor(train_clf.test_codes)\n"
   ]
  },
  {
   "cell_type": "code",
   "execution_count": 21,
   "metadata": {},
   "outputs": [
    {
     "data": {
      "text/plain": [
       "'\\nFinding nearest neighbours on the manifold\\nReference: https://github.com/davidstutz/disentangling-robustness-generalization/blob/220ff8a79a5f08665f4755dc76d4e592ae66c6d6/training/test_attack_classifier.py#L154\\n'"
      ]
     },
     "execution_count": 21,
     "metadata": {},
     "output_type": "execute_result"
    }
   ],
   "source": [
    "\"\"\"\n",
    "Finding nearest neighbours on the manifold\n",
    "Reference: https://github.com/davidstutz/disentangling-robustness-generalization/blob/220ff8a79a5f08665f4755dc76d4e592ae66c6d6/training/test_attack_classifier.py#L154\n",
    "\"\"\""
   ]
  },
  {
   "cell_type": "code",
   "execution_count": 22,
   "metadata": {},
   "outputs": [],
   "source": [
    "X_train = train_clf.train_images\n",
    "y_train = train_clf.train_codes\n",
    "\n",
    "USE_PCA = True\n",
    "num_img_to_fit = 10000\n",
    "\n",
    "pca = None\n",
    "NN = None\n",
    "X_train_latent = None\n",
    "\n",
    "if USE_PCA:\n",
    "\n",
    "    # Training a PCA model on randomly sampled 10000 images from the training set\n",
    "    idx = np.random.randint(0, X_train.shape[0], size=num_img_to_fit)\n",
    "\n",
    "    pca = IncrementalPCA(n_components=20) # n_components taken from David Stutz's code\n",
    "    pca.fit(X_train[idx].reshape(X_train[idx].shape[0], -1))\n",
    "\n",
    "    # Transforming the training set based on the learned PCA model \n",
    "    # Note: These will be used to approximate the manifold, since these\n",
    "    # are what the classifier has been trained on\n",
    "    X_train_latent = pca.transform(X_train.reshape(X_train.shape[0], -1))\n",
    "\n",
    "    # Fitting a Nearest Neighbors object on the transformed latent samples\n",
    "    NN = NearestNeighbors(n_neighbors=50, algorithm='kd_tree')\n",
    "    NN.fit(X_train_latent)\n",
    "    \n",
    "else:\n",
    "    NN = NearestNeighbors(n_neighbors=50, algorithm=\"kd_tree\")\n",
    "    NN.fit(X_train.reshape(X_train.shape[0], -1))"
   ]
  },
  {
   "cell_type": "code",
   "execution_count": 23,
   "metadata": {},
   "outputs": [
    {
     "data": {
      "application/vnd.jupyter.widget-view+json": {
       "model_id": "9e50c344f1e149e68e514fa5dac43da1",
       "version_major": 2,
       "version_minor": 0
      },
      "text/plain": [
       "HBox(children=(FloatProgress(value=0.0, max=5000.0), HTML(value='')))"
      ]
     },
     "metadata": {},
     "output_type": "display_data"
    },
    {
     "name": "stdout",
     "output_type": "stream",
     "text": [
      "(50, 784) torch.Size([784])\n"
     ]
    },
    {
     "ename": "RuntimeError",
     "evalue": "shape '[784, 28, 28, 1]' is invalid for input of size 784",
     "output_type": "error",
     "traceback": [
      "\u001b[0;31m---------------------------------------------------------------------------\u001b[0m",
      "\u001b[0;31mRuntimeError\u001b[0m                              Traceback (most recent call last)",
      "\u001b[0;32m<ipython-input-23-5d2d619b1784>\u001b[0m in \u001b[0;36m<module>\u001b[0;34m\u001b[0m\n\u001b[1;32m      5\u001b[0m                                                                                                \u001b[0mpca\u001b[0m\u001b[0;34m,\u001b[0m\u001b[0;31m\\\u001b[0m\u001b[0;34m\u001b[0m\u001b[0;34m\u001b[0m\u001b[0m\n\u001b[1;32m      6\u001b[0m                                                                                                \u001b[0mscheme\u001b[0m\u001b[0;34m=\u001b[0m\u001b[0;34m\"pca_paper\"\u001b[0m\u001b[0;34m,\u001b[0m\u001b[0;31m\\\u001b[0m\u001b[0;34m\u001b[0m\u001b[0;34m\u001b[0m\u001b[0m\n\u001b[0;32m----> 7\u001b[0;31m                                                                                                batch_size=8)\n\u001b[0m\u001b[1;32m      8\u001b[0m \u001b[0;34m\u001b[0m\u001b[0m\n\u001b[1;32m      9\u001b[0m \u001b[0;34m\u001b[0m\u001b[0m\n",
      "\u001b[0;32m<ipython-input-19-dd98eb64c3f8>\u001b[0m in \u001b[0;36mget_projections_for_data\u001b[0;34m(X, y, X_train, nn, pca, scheme, batch_size)\u001b[0m\n\u001b[1;32m     54\u001b[0m             \u001b[0mprojected_inp\u001b[0m \u001b[0;34m=\u001b[0m \u001b[0mtorch\u001b[0m\u001b[0;34m.\u001b[0m\u001b[0mfrom_numpy\u001b[0m\u001b[0;34m(\u001b[0m\u001b[0mprojected_inp\u001b[0m\u001b[0;34m)\u001b[0m\u001b[0;34m\u001b[0m\u001b[0;34m\u001b[0m\u001b[0m\n\u001b[1;32m     55\u001b[0m \u001b[0;34m\u001b[0m\u001b[0m\n\u001b[0;32m---> 56\u001b[0;31m             \u001b[0mprojected_inp\u001b[0m \u001b[0;34m=\u001b[0m \u001b[0mprojected_inp\u001b[0m\u001b[0;34m.\u001b[0m\u001b[0mreshape\u001b[0m\u001b[0;34m(\u001b[0m\u001b[0mprojected_inp\u001b[0m\u001b[0;34m.\u001b[0m\u001b[0mshape\u001b[0m\u001b[0;34m[\u001b[0m\u001b[0;36m0\u001b[0m\u001b[0;34m]\u001b[0m\u001b[0;34m,\u001b[0m \u001b[0;36m28\u001b[0m\u001b[0;34m,\u001b[0m \u001b[0;36m28\u001b[0m\u001b[0;34m,\u001b[0m \u001b[0;36m1\u001b[0m\u001b[0;34m)\u001b[0m\u001b[0;34m\u001b[0m\u001b[0;34m\u001b[0m\u001b[0m\n\u001b[0m\u001b[1;32m     57\u001b[0m \u001b[0;34m\u001b[0m\u001b[0m\n\u001b[1;32m     58\u001b[0m \u001b[0;34m\u001b[0m\u001b[0m\n",
      "\u001b[0;31mRuntimeError\u001b[0m: shape '[784, 28, 28, 1]' is invalid for input of size 784"
     ]
    }
   ],
   "source": [
    "pi_X_set, perturbed_set, raw_X_codes, perturbed_X_codes, pi_X_codes = get_projections_for_data(X_test,\\\n",
    "                                                                                               y_test,\\\n",
    "                                                                                               X_train,\\\n",
    "                                                                                               NN,\\\n",
    "                                                                                               pca,\\\n",
    "                                                                                               scheme=\"pca_paper\",\\\n",
    "                                                                                               batch_size=8)\n",
    "\n",
    "\n",
    "\n",
    "\n"
   ]
  },
  {
   "cell_type": "code",
   "execution_count": null,
   "metadata": {},
   "outputs": [],
   "source": []
  },
  {
   "cell_type": "code",
   "execution_count": null,
   "metadata": {},
   "outputs": [],
   "source": []
  },
  {
   "cell_type": "code",
   "execution_count": null,
   "metadata": {},
   "outputs": [],
   "source": []
  },
  {
   "cell_type": "code",
   "execution_count": null,
   "metadata": {},
   "outputs": [],
   "source": []
  },
  {
   "cell_type": "code",
   "execution_count": 32,
   "metadata": {},
   "outputs": [],
   "source": [
    "# Pick a perturbed sample\n",
    "ridx = np.random.randint(0, X_test.shape[0], size=(1,6))[0]\n",
    "rimg = X_test[ridx]\n",
    "rcode = y_test[ridx]"
   ]
  },
  {
   "cell_type": "code",
   "execution_count": 34,
   "metadata": {},
   "outputs": [],
   "source": [
    "plt.figure()\n",
    "plt.imshow(X_test[ridx][0], cmap=\"gray\")\n",
    "plt.savefig(\"raw.png\")"
   ]
  },
  {
   "cell_type": "code",
   "execution_count": 35,
   "metadata": {},
   "outputs": [
    {
     "data": {
      "image/png": "[encoded data removed]",
      "text/plain": [
       "<IPython.core.display.Image object>"
      ]
     },
     "execution_count": 35,
     "metadata": {},
     "output_type": "execute_result"
    }
   ],
   "source": [
    "Image(filename='raw.png')"
   ]
  },
  {
   "cell_type": "code",
   "execution_count": 36,
   "metadata": {},
   "outputs": [],
   "source": [
    "rimg = torch.Tensor(rimg)\n",
    "rcode = torch.Tensor(rcode)"
   ]
  },
  {
   "cell_type": "code",
   "execution_count": 37,
   "metadata": {},
   "outputs": [],
   "source": [
    "model.cuda()\n",
    "rimg = rimg.cuda()\n",
    "rcode = rcode.cuda()\n",
    "delta = pgd_linf_rand(model, rimg, rcode, 0.1, 1e-2, 40, 10)\n",
    "model.cpu()\n",
    "rimg = rimg.cpu()\n",
    "rcode = rcode.cpu()\n"
   ]
  },
  {
   "cell_type": "code",
   "execution_count": 38,
   "metadata": {},
   "outputs": [],
   "source": [
    "model.cuda()\n",
    "with torch.no_grad():\n",
    "    \n",
    "    yp = model(rimg.cuda() + delta.cuda())\n",
    "    \n",
    "    model.cpu()"
   ]
  },
  {
   "cell_type": "code",
   "execution_count": 39,
   "metadata": {
    "scrolled": true
   },
   "outputs": [],
   "source": [
    "# X = torch.Tensor(train_clf.train_images)\n",
    "# y = torch.Tensor(train_clf.train_codes).long()\n",
    "# model.cuda()\n",
    "# X = X.cuda()\n",
    "# y = y.cuda()\n",
    "# delta = pgd_linf_rand(model, X[:1], y[:1], 0.1, 1e-2, 40, 10)\n",
    "# model.cpu()\n",
    "# X = X.cpu()\n",
    "# y = y.cpu()"
   ]
  },
  {
   "cell_type": "code",
   "execution_count": 40,
   "metadata": {},
   "outputs": [
    {
     "data": {
      "text/plain": [
       "(torch.Size([6, 10]), torch.Size([6, 28, 28, 1]), torch.Size([6]))"
      ]
     },
     "execution_count": 40,
     "metadata": {},
     "output_type": "execute_result"
    }
   ],
   "source": [
    "yp.shape, rimg.shape, rcode.shape"
   ]
  },
  {
   "cell_type": "code",
   "execution_count": 41,
   "metadata": {},
   "outputs": [
    {
     "data": {
      "text/plain": [
       "(784,)"
      ]
     },
     "execution_count": 41,
     "metadata": {},
     "output_type": "execute_result"
    }
   ],
   "source": [
    "X = rimg.numpy()\n",
    "X = X.reshape(X.shape[0], -1)[0]\n",
    "X.shape"
   ]
  },
  {
   "cell_type": "code",
   "execution_count": 73,
   "metadata": {},
   "outputs": [
    {
     "data": {
      "text/plain": [
       "torch.Size([6, 28, 28, 1])"
      ]
     },
     "execution_count": 73,
     "metadata": {},
     "output_type": "execute_result"
    }
   ],
   "source": [
    "rimg.shape"
   ]
  },
  {
   "cell_type": "code",
   "execution_count": 75,
   "metadata": {},
   "outputs": [
    {
     "data": {
      "text/plain": [
       "torch.Size([6, 1, 28, 28])"
      ]
     },
     "execution_count": 75,
     "metadata": {},
     "output_type": "execute_result"
    }
   ],
   "source": []
  },
  {
   "cell_type": "code",
   "execution_count": 77,
   "metadata": {},
   "outputs": [
    {
     "data": {
      "image/png": "[encoded data removed]",
      "text/plain": [
       "<IPython.core.display.Image object>"
      ]
     },
     "execution_count": 77,
     "metadata": {},
     "output_type": "execute_result"
    }
   ],
   "source": [
    "toplot = rimg.permute(0, 3, 1, 2)\n",
    "grid_img = torchvision.utils.make_grid(toplot, nrow=3)\n",
    "plt.imshow(grid_img.permute(1, 2, 0))\n",
    "plt.savefig(\"test_grid.png\")\n",
    "Image(filename=\"test_grid.png\")"
   ]
  },
  {
   "cell_type": "code",
   "execution_count": 42,
   "metadata": {},
   "outputs": [
    {
     "data": {
      "text/plain": [
       "(28, 28, 1)"
      ]
     },
     "execution_count": 42,
     "metadata": {},
     "output_type": "execute_result"
    }
   ],
   "source": [
    "delta = delta.cpu().numpy()[0]\n",
    "delta.shape"
   ]
  },
  {
   "cell_type": "code",
   "execution_count": 43,
   "metadata": {},
   "outputs": [
    {
     "data": {
      "text/plain": [
       "(784,)"
      ]
     },
     "execution_count": 43,
     "metadata": {},
     "output_type": "execute_result"
    }
   ],
   "source": [
    "delta = delta.reshape(-1)\n",
    "delta.shape"
   ]
  },
  {
   "cell_type": "code",
   "execution_count": 44,
   "metadata": {},
   "outputs": [
    {
     "data": {
      "text/plain": [
       "(1, 784)"
      ]
     },
     "execution_count": 44,
     "metadata": {},
     "output_type": "execute_result"
    }
   ],
   "source": [
    "X_query = None\n",
    "if USE_PCA:\n",
    "    X_query = pca.transform((X + delta).reshape(1, -1))\n",
    "else:\n",
    "    X_query = (X + delta).reshape(1, -1)\n",
    "X_query.shape"
   ]
  },
  {
   "cell_type": "code",
   "execution_count": 45,
   "metadata": {},
   "outputs": [
    {
     "data": {
      "image/png": "[encoded data removed]",
      "text/plain": [
       "<IPython.core.display.Image object>"
      ]
     },
     "execution_count": 45,
     "metadata": {},
     "output_type": "execute_result"
    }
   ],
   "source": [
    "plt.figure()\n",
    "plt.imshow((X + delta).reshape((28, 28, 1)), cmap=\"gray\")\n",
    "plt.savefig(\"perturbed.png\")\n",
    "\n",
    "Image(filename=\"perturbed.png\")"
   ]
  },
  {
   "cell_type": "code",
   "execution_count": 120,
   "metadata": {},
   "outputs": [],
   "source": [
    "knbhrs = NN.kneighbors(X_query.reshape(1, -1), n_neighbors=50)[1][0]\n"
   ]
  },
  {
   "cell_type": "code",
   "execution_count": 121,
   "metadata": {},
   "outputs": [
    {
     "data": {
      "text/plain": [
       "(1, 784)"
      ]
     },
     "execution_count": 121,
     "metadata": {},
     "output_type": "execute_result"
    }
   ],
   "source": [
    "X_query.shape"
   ]
  },
  {
   "cell_type": "code",
   "execution_count": 122,
   "metadata": {},
   "outputs": [
    {
     "data": {
      "text/plain": [
       "(50, 784)"
      ]
     },
     "execution_count": 122,
     "metadata": {},
     "output_type": "execute_result"
    }
   ],
   "source": [
    "X_knbhrs = X_train[knbhrs].reshape(knbhrs.shape[0], -1)\n",
    "X_knbhrs.shape"
   ]
  },
  {
   "cell_type": "code",
   "execution_count": 123,
   "metadata": {},
   "outputs": [],
   "source": [
    "A = X_knbhrs - np.mean(X_knbhrs, axis=0)\n"
   ]
  },
  {
   "cell_type": "code",
   "execution_count": 124,
   "metadata": {},
   "outputs": [
    {
     "data": {
      "text/plain": [
       "((50, 784), (784,))"
      ]
     },
     "execution_count": 124,
     "metadata": {},
     "output_type": "execute_result"
    }
   ],
   "source": [
    "A.shape, delta.shape"
   ]
  },
  {
   "cell_type": "code",
   "execution_count": 134,
   "metadata": {},
   "outputs": [],
   "source": [
    "# sol = np.linalg.lstsq(A.T, delta, rcond=None)\n",
    "sol = np.linalg.lstsq(A.T, delta, rcond=None)"
   ]
  },
  {
   "cell_type": "code",
   "execution_count": 145,
   "metadata": {},
   "outputs": [
    {
     "data": {
      "text/plain": [
       "(784,)"
      ]
     },
     "execution_count": 145,
     "metadata": {},
     "output_type": "execute_result"
    }
   ],
   "source": [
    "beta = sol[0]\n",
    "pi_X = np.dot(A.T, beta)\n",
    "pi_X.shape"
   ]
  },
  {
   "cell_type": "code",
   "execution_count": 136,
   "metadata": {},
   "outputs": [],
   "source": [
    "plt.figure()\n",
    "plt.imshow(pi_X.reshape((28, 28, 1)), cmap=\"gray\")\n",
    "plt.savefig(\"projection2.png\")\n",
    "\n",
    "# plt.figure()\n",
    "# plt.imshow(X_train[ridx][0], cmap=\"gray\")\n",
    "# plt.savefig(\"test2.png\")"
   ]
  },
  {
   "cell_type": "code",
   "execution_count": 137,
   "metadata": {},
   "outputs": [],
   "source": [
    "pi_X = torch.from_numpy(pi_X.reshape((28, 28, 1))).cuda()\n",
    "inp = pi_X.repeat(3, 1, 1, 1)\n",
    "inp2 = torch.from_numpy((X + delta).reshape(-1, 28, 28, 1)).cuda().repeat(3, 1, 1, 1)"
   ]
  },
  {
   "cell_type": "code",
   "execution_count": 138,
   "metadata": {},
   "outputs": [
    {
     "data": {
      "text/plain": [
       "torch.return_types.max(\n",
       "values=tensor([-3.5736, -3.5736, -3.5736], device='cuda:1', grad_fn=<MaxBackward0>),\n",
       "indices=tensor([8, 8, 8], device='cuda:1'))"
      ]
     },
     "execution_count": 138,
     "metadata": {},
     "output_type": "execute_result"
    }
   ],
   "source": [
    "model.cuda()\n",
    "logits = model(inp)\n",
    "model.cpu()\n",
    "pi_X = pi_X.cpu()\n",
    "inp = inp.cpu()\n",
    "inp2 = inp2.cpu()\n",
    "torch.max(logits, axis=1)"
   ]
  },
  {
   "cell_type": "code",
   "execution_count": 139,
   "metadata": {},
   "outputs": [
    {
     "data": {
      "image/png": "[encoded data removed]",
      "text/plain": [
       "<IPython.core.display.Image object>"
      ]
     },
     "execution_count": 139,
     "metadata": {},
     "output_type": "execute_result"
    }
   ],
   "source": [
    "from IPython.display import Image\n",
    "Image(filename='projection2.png') "
   ]
  },
  {
   "cell_type": "code",
   "execution_count": 131,
   "metadata": {},
   "outputs": [
    {
     "data": {
      "image/png": "[encoded data removed]",
      "text/plain": [
       "<IPython.core.display.Image object>"
      ]
     },
     "execution_count": 131,
     "metadata": {},
     "output_type": "execute_result"
    }
   ],
   "source": [
    "Image(filename='perturbed.png')"
   ]
  },
  {
   "cell_type": "code",
   "execution_count": 133,
   "metadata": {},
   "outputs": [
    {
     "data": {
      "text/plain": [
       "torch.Size([3, 28, 28, 1])"
      ]
     },
     "execution_count": 133,
     "metadata": {},
     "output_type": "execute_result"
    }
   ],
   "source": [
    "inp.shape"
   ]
  },
  {
   "cell_type": "code",
   "execution_count": 153,
   "metadata": {},
   "outputs": [
    {
     "data": {
      "text/plain": [
       "array([[[-0.1       , -0.1       , -0.1       , ..., -0.1       ,\n",
       "         -0.1       , -0.1       ],\n",
       "        [ 0.01000001,  0.01000001,  0.01000001, ...,  0.01000001,\n",
       "          0.01000001,  0.01000001],\n",
       "        [-0.04012454, -0.04012454, -0.04012454, ..., -0.04012454,\n",
       "         -0.04012454, -0.04012454],\n",
       "        ...,\n",
       "        [-0.09      , -0.09      , -0.09      , ..., -0.09      ,\n",
       "         -0.09      , -0.09      ],\n",
       "        [ 0.01041594,  0.01041594,  0.01041594, ...,  0.01041594,\n",
       "          0.01041594,  0.01041594],\n",
       "        [-0.1       , -0.1       , -0.1       , ..., -0.1       ,\n",
       "         -0.1       , -0.1       ]],\n",
       "\n",
       "       [[ 0.1       ,  0.1       ,  0.1       , ...,  0.1       ,\n",
       "          0.1       ,  0.1       ],\n",
       "        [-0.04000001, -0.04000001, -0.04000001, ..., -0.04000001,\n",
       "         -0.04000001, -0.04000001],\n",
       "        [-0.1       , -0.1       , -0.1       , ..., -0.1       ,\n",
       "         -0.1       , -0.1       ],\n",
       "        ...,\n",
       "        [ 0.1       ,  0.1       ,  0.1       , ...,  0.1       ,\n",
       "          0.1       ,  0.1       ],\n",
       "        [-0.06000001, -0.06000001, -0.06000001, ..., -0.06000001,\n",
       "         -0.06000001, -0.06000001],\n",
       "        [ 0.0421325 ,  0.0421325 ,  0.0421325 , ...,  0.0421325 ,\n",
       "          0.0421325 ,  0.0421325 ]],\n",
       "\n",
       "       [[-0.09      , -0.09      , -0.09      , ..., -0.09      ,\n",
       "         -0.09      , -0.09      ],\n",
       "        [-0.05853483, -0.05853483, -0.05853483, ..., -0.05853483,\n",
       "         -0.05853483, -0.05853483],\n",
       "        [ 0.09      ,  0.09      ,  0.09      , ...,  0.09      ,\n",
       "          0.09      ,  0.09      ],\n",
       "        ...,\n",
       "        [-0.07057724, -0.07057724, -0.07057724, ..., -0.07057724,\n",
       "         -0.07057724, -0.07057724],\n",
       "        [-0.04405084, -0.04405084, -0.04405084, ..., -0.04405084,\n",
       "         -0.04405084, -0.04405084],\n",
       "        [-0.00042363, -0.00042363, -0.00042363, ..., -0.00042363,\n",
       "         -0.00042363, -0.00042363]],\n",
       "\n",
       "       ...,\n",
       "\n",
       "       [[-0.02412298, -0.02412298, -0.02412298, ..., -0.02412298,\n",
       "         -0.02412298, -0.02412298],\n",
       "        [ 0.09      ,  0.09      ,  0.09      , ...,  0.09      ,\n",
       "          0.09      ,  0.09      ],\n",
       "        [-0.09      , -0.09      , -0.09      , ..., -0.09      ,\n",
       "         -0.09      , -0.09      ],\n",
       "        ...,\n",
       "        [-0.09      , -0.09      , -0.09      , ..., -0.09      ,\n",
       "         -0.09      , -0.09      ],\n",
       "        [ 0.1       ,  0.1       ,  0.1       , ...,  0.1       ,\n",
       "          0.1       ,  0.1       ],\n",
       "        [-0.05788172, -0.05788172, -0.05788172, ..., -0.05788172,\n",
       "         -0.05788172, -0.05788172]],\n",
       "\n",
       "       [[-0.07939651, -0.07939651, -0.07939651, ..., -0.07939651,\n",
       "         -0.07939651, -0.07939651],\n",
       "        [-0.0029422 , -0.0029422 , -0.0029422 , ..., -0.0029422 ,\n",
       "         -0.0029422 , -0.0029422 ],\n",
       "        [ 0.1       ,  0.1       ,  0.1       , ...,  0.1       ,\n",
       "          0.1       ,  0.1       ],\n",
       "        ...,\n",
       "        [-0.03107405, -0.03107405, -0.03107405, ..., -0.03107405,\n",
       "         -0.03107405, -0.03107405],\n",
       "        [-0.08793888, -0.08793888, -0.08793888, ..., -0.08793888,\n",
       "         -0.08793888, -0.08793888],\n",
       "        [ 0.1       ,  0.1       ,  0.1       , ...,  0.1       ,\n",
       "          0.1       ,  0.1       ]],\n",
       "\n",
       "       [[ 0.05491775,  0.05491775,  0.05491775, ...,  0.05491775,\n",
       "          0.05491775,  0.05491775],\n",
       "        [ 0.1       ,  0.1       ,  0.1       , ...,  0.1       ,\n",
       "          0.1       ,  0.1       ],\n",
       "        [-0.1       , -0.1       , -0.1       , ..., -0.1       ,\n",
       "         -0.1       , -0.1       ],\n",
       "        ...,\n",
       "        [-0.09      , -0.09      , -0.09      , ..., -0.09      ,\n",
       "         -0.09      , -0.09      ],\n",
       "        [-0.01956378, -0.01956378, -0.01956378, ..., -0.01956378,\n",
       "         -0.01956378, -0.01956378],\n",
       "        [ 0.00835495,  0.00835495,  0.00835495, ...,  0.00835495,\n",
       "          0.00835495,  0.00835495]]], dtype=float32)"
      ]
     },
     "execution_count": 153,
     "metadata": {},
     "output_type": "execute_result"
    }
   ],
   "source": [
    "(X + delta).reshape(28, 28, 1) - pi_X"
   ]
  },
  {
   "cell_type": "code",
   "execution_count": 162,
   "metadata": {},
   "outputs": [],
   "source": [
    "a = torch.randint(0, 3, size=(1, 3, 3, 1))"
   ]
  },
  {
   "cell_type": "code",
   "execution_count": 167,
   "metadata": {},
   "outputs": [
    {
     "data": {
      "text/plain": [
       "torch.Size([1, 3, 3, 1])"
      ]
     },
     "execution_count": 167,
     "metadata": {},
     "output_type": "execute_result"
    }
   ],
   "source": [
    "a.shape"
   ]
  },
  {
   "cell_type": "code",
   "execution_count": 168,
   "metadata": {},
   "outputs": [
    {
     "data": {
      "text/plain": [
       "torch.Size([3, 3, 3, 1])"
      ]
     },
     "execution_count": 168,
     "metadata": {},
     "output_type": "execute_result"
    }
   ],
   "source": [
    "torch.cat((a, a, a), axis=0).shape"
   ]
  },
  {
   "cell_type": "code",
   "execution_count": null,
   "metadata": {},
   "outputs": [],
   "source": []
  }
 ],
 "metadata": {
  "kernelspec": {
   "display_name": "Python 3",
   "language": "python",
   "name": "python3"
  },
  "language_info": {
   "codemirror_mode": {
    "name": "ipython",
    "version": 3
   },
   "file_extension": ".py",
   "mimetype": "text/x-python",
   "name": "python",
   "nbconvert_exporter": "python",
   "pygments_lexer": "ipython3",
   "version": "3.6.9"
  }
 },
 "nbformat": 4,
 "nbformat_minor": 4
}
