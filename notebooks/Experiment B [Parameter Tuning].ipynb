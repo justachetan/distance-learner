{
 "cells": [
  {
   "cell_type": "code",
   "execution_count": 50,
   "metadata": {},
   "outputs": [],
   "source": [
    "import os\n",
    "import sys\n",
    "import time\n",
    "import copy\n",
    "\n",
    "import torch\n",
    "import pytorch_lightning as pl\n",
    "from torch.utils.data import DataLoader, random_split\n",
    "from torch.nn import functional as F\n",
    "from torchvision.datasets import MNIST\n",
    "from torchvision import transforms\n",
    "\n",
    "from tqdm.notebook import tqdm\n",
    "\n",
    "import shutil\n",
    "import tempfile\n",
    "from pytorch_lightning.loggers import TensorBoardLogger\n",
    "from pytorch_lightning.callbacks import LearningRateMonitor\n",
    "from pytorch_lightning.utilities.cloud_io import load as pl_load\n",
    "from ray import tune\n",
    "from ray.tune import CLIReporter\n",
    "from ray.tune.schedulers import ASHAScheduler, PopulationBasedTraining\n",
    "from ray.tune.integration.pytorch_lightning import TuneReportCallback, \\\n",
    "    TuneReportCheckpointCallback\n",
    "\n",
    "\n",
    "\n",
    "# adding relevant files to PATH\n",
    "sys.path.append(\"../src/expB/\")\n",
    "\n",
    "from ptcifar.models import ResNet18\n",
    "from spheres import RandomSphere\n",
    "from myNNs import *"
   ]
  },
  {
   "cell_type": "code",
   "execution_count": 48,
   "metadata": {},
   "outputs": [],
   "source": [
    "class ResNet18MfldDistRegressor(pl.LightningModule):\n",
    "    \"\"\"\n",
    "    This has been adapted from\n",
    "    https://towardsdatascience.com/from-pytorch-to-pytorch-lightning-a-gentle-introduction-b371b7caaf09\n",
    "    \"\"\"\n",
    "\n",
    "    def __init__(self, config, data_dir=None):\n",
    "        super(ResNet18MfldDistRegressor, self).__init__()\n",
    "\n",
    "        self.data_dir = data_dir or os.getcwd()\n",
    "        \n",
    "        self.lr = config[\"lr\"]\n",
    "        self.momentum = config[\"momentum\"]\n",
    "        \n",
    "        self.batch_size = config[\"batch_size\"]\n",
    "        self.optimizer_type = config[\"optimizer_type\"]\n",
    "        self.scheduler_params = config[\"scheduler_params\"]\n",
    "        \n",
    "        self.train_epoch_losses = list()\n",
    "        \n",
    "        self.num_epochs = config[\"num_epochs\"]\n",
    "        \n",
    "        # defining the model\n",
    "        self.model = ResNet18(num_classes=1)\n",
    "        \n",
    "        \n",
    "    def forward(self, x):\n",
    "        \n",
    "        x = self.model(x)\n",
    "        \n",
    "        return x\n",
    "\n",
    "\n",
    "\n",
    "    def mean_squared_error(self, logits, labels):\n",
    "        return F.mse_loss(logits, labels)\n",
    "\n",
    "\n",
    "    def training_step(self, train_batch, batch_idx):\n",
    "        x, y = train_batch\n",
    "        logits = self.forward(x)\n",
    "        loss = self.mean_squared_error(logits, y)\n",
    "\n",
    "#         self.log(\"ptl/train_loss\", loss)\n",
    "        self.train_epoch_losses.append(loss.item())\n",
    "        return loss\n",
    "\n",
    "    def validation_step(self, val_batch, batch_idx):\n",
    "        x, y = val_batch\n",
    "        logits = self.forward(x)\n",
    "        loss = self.mean_squared_error(logits, y)\n",
    "        return {\"val_loss\": loss}\n",
    "\n",
    "    def validation_epoch_end(self, outputs):\n",
    "        avg_val_loss = torch.stack([x[\"val_loss\"] for x in outputs]).mean()\n",
    "        avg_train_loss = np.mean(self.train_epoch_losses)\n",
    "        self.log(\"ptl/val_loss\", avg_val_loss)\n",
    "        self.log(\"ptl/train_loss\", avg_train_loss)\n",
    "        self.train_epoch_losses = list()\n",
    "\n",
    "    @staticmethod\n",
    "    def download_data(data_dir):\n",
    "        train_set = torch.load(os.path.join(data_dir, \"train_cifar_dim.pt\"))\n",
    "        val_set = torch.load(os.path.join(data_dir, \"val_cifar_dim.pt\"))\n",
    "        return train_set, val_set\n",
    "\n",
    "    def prepare_data(self):\n",
    "        self.train_set, self.val_set = self.download_data(self.data_dir)\n",
    "\n",
    "    def train_dataloader(self):\n",
    "        return DataLoader(self.train_set, batch_size=int(self.batch_size))\n",
    "\n",
    "    def val_dataloader(self):\n",
    "        return DataLoader(self.val_set, batch_size=int(self.batch_size))\n",
    "\n",
    "    def configure_optimizers(self):\n",
    "        optimizer = None\n",
    "        if self.optimizer_type == \"adam\":\n",
    "            optimizer = torch.optim.Adam(self.parameters(), lr=self.lr)\n",
    "        elif self.optimizer_type == \"sgd\":\n",
    "            optimizer = torch.optim.SGD(self.parameters(), lr=self.lr, momentum=self.momentum)\n",
    "        \n",
    "        lr_sched_factor = lambda epoch: epoch / (self.scheduler_params[\"warmup\"]) if epoch <= self.scheduler_params[\"warmup\"] else (1 if epoch > self.scheduler_params[\"warmup\"] and epoch < self.scheduler_params[\"cooldown\"] else max(0, 1 + (1 / (self.scheduler_params[\"cooldown\"] - self.num_epochs)) * (epoch - self.scheduler_params[\"cooldown\"])))\n",
    "        \n",
    "        scheduler = torch.optim.lr_scheduler.LambdaLR(optimizer, lr_sched_factor)\n",
    "        \n",
    "        return [optimizer], [scheduler]\n",
    "\n",
    "\n",
    "def train_mnist(config, data_dir, num_epochs):\n",
    "    model = ResNet18MfldDistRegressor(config, data_dir)\n",
    "    trainer = pl.Trainer(max_epochs=num_epochs, gpus=1)\n",
    "\n",
    "    trainer.fit(model)"
   ]
  },
  {
   "cell_type": "code",
   "execution_count": null,
   "metadata": {},
   "outputs": [],
   "source": [
    "def train_model_tune_checkpoint(config,\n",
    "                                checkpoint_dir=None,\n",
    "                                data_dir=None,\n",
    "                                num_epochs=10,\n",
    "                                num_gpus=1):\n",
    "    trainer = pl.Trainer(\n",
    "        max_epochs=num_epochs,\n",
    "        gpus=num_gpus,\n",
    "        logger=TensorBoardLogger(\n",
    "            save_dir=tune.get_trial_dir(), name=\"\", version=\".\"),\n",
    "        callbacks=[\n",
    "            TuneReportCheckpointCallback(\n",
    "                metrics={\n",
    "                    \"val_loss\": \"ptl/val_loss\"\n",
    "                },\n",
    "                filename=\"checkpoint\",\n",
    "                on=\"validation_end\"),\n",
    "            LearningRateMonitor(logging_interval='epoch', log_momentum=True)\n",
    "        ])\n",
    "    if checkpoint_dir:\n",
    "        # Currently, this leads to errors:\n",
    "        # model = LightningMNISTClassifier.load_from_checkpoint(\n",
    "        #     os.path.join(checkpoint, \"checkpoint\"))\n",
    "        # Workaround:\n",
    "        ckpt = pl_load(\n",
    "            os.path.join(checkpoint_dir, \"checkpoint\"),\n",
    "            map_location=lambda storage, loc: storage)\n",
    "        model = ResNet18MfldDistRegressor._load_model_state(\n",
    "            ckpt, config=config, data_dir=data_dir)\n",
    "        trainer.current_epoch = ckpt[\"epoch\"]\n",
    "    else:\n",
    "        model = ResNet18MfldDistRegressor(config=config, data_dir=data_dir)\n",
    "\n",
    "    trainer.fit(model)"
   ]
  },
  {
   "cell_type": "code",
   "execution_count": null,
   "metadata": {},
   "outputs": [],
   "source": [
    "def tune_model(data_dir, num_samples=1, num_epochs=500, gpus_per_trial=1):\n",
    "    \n",
    "    \n",
    "    ResNet18MfldDistRegressor.download_data(data_dir)\n",
    "\n",
    "    config = {\n",
    "        \"lr\": tune.grid_search([1e-2, 1e-3, 1e-5, 1e-6]),\n",
    "        \"batch_size\": tune.grid_search([128, 256, 512]),\n",
    "        \"optimizer_type\": tune.grid_search([\"adam\", \"sgd\"]),\n",
    "        \"momentum\": tune.grid_search([0.9, 0.5, 0.2]),\n",
    "        \"scheduler_params\": {\"warmup\": 10, \"cooldown\": 300}\n",
    "    }\n",
    "\n",
    "\n",
    "    reporter = CLIReporter(\n",
    "        parameter_columns=[\"lr\", \"momentum\", \"batch_size\", \"optimizer_type\"],\n",
    "        metric_columns=[\"loss\", \"training_iteration\"])\n",
    "\n",
    "    analysis = tune.run(\n",
    "        tune.with_parameters(\n",
    "            train_model_tune_checkpoint,\n",
    "            data_dir=data_dir,\n",
    "            num_epochs=num_epochs,\n",
    "            num_gpus=gpus_per_trial),\n",
    "        resources_per_trial={\n",
    "            \"cpu\": 1,\n",
    "            \"gpu\": gpus_per_trial\n",
    "        },\n",
    "        metric=\"loss\",\n",
    "        mode=\"min\",\n",
    "        config=config,\n",
    "        num_samples=num_samples,\n",
    "        progress_reporter=reporter,\n",
    "        name=\"tune_dist_learn_resnet18\")\n",
    "\n",
    "    print(\"Best hyperparameters found were: \", analysis.best_config)\n"
   ]
  },
  {
   "cell_type": "code",
   "execution_count": 49,
   "metadata": {},
   "outputs": [
    {
     "name": "stderr",
     "output_type": "stream",
     "text": [
      "GPU available: True, used: True\n",
      "TPU available: False, using: 0 TPU cores\n",
      "LOCAL_RANK: 0 - CUDA_VISIBLE_DEVICES: [0,1]\n",
      "\n",
      "  | Name  | Type   | Params\n",
      "---------------------------------\n",
      "0 | model | ResNet | 11.2 M\n",
      "---------------------------------\n",
      "11.2 M    Trainable params\n",
      "0         Non-trainable params\n",
      "11.2 M    Total params\n",
      "44.677    Total estimated model params size (MB)\n",
      "/usr/local/lib/python3.6/dist-packages/pytorch_lightning/utilities/distributed.py:52: UserWarning: The dataloader, val dataloader 0, does not have many workers which may be a bottleneck. Consider increasing the value of the `num_workers` argument` (try 12 which is the number of cpus on this machine) in the `DataLoader` init to improve performance.\n",
      "  warnings.warn(*args, **kwargs)\n"
     ]
    },
    {
     "data": {
      "application/vnd.jupyter.widget-view+json": {
       "model_id": "",
       "version_major": 2,
       "version_minor": 0
      },
      "text/plain": [
       "HBox(children=(FloatProgress(value=1.0, bar_style='info', description='Validation sanity check', layout=Layout…"
      ]
     },
     "metadata": {},
     "output_type": "display_data"
    },
    {
     "name": "stdout",
     "output_type": "stream",
     "text": [
      "\r"
     ]
    },
    {
     "name": "stderr",
     "output_type": "stream",
     "text": [
      "/usr/local/lib/python3.6/dist-packages/numpy/core/fromnumeric.py:3373: RuntimeWarning: Mean of empty slice.\n",
      "  out=out, **kwargs)\n",
      "/usr/local/lib/python3.6/dist-packages/numpy/core/_methods.py:170: RuntimeWarning: invalid value encountered in double_scalars\n",
      "  ret = ret.dtype.type(ret / rcount)\n",
      "/usr/local/lib/python3.6/dist-packages/pytorch_lightning/utilities/distributed.py:52: UserWarning: The dataloader, train dataloader, does not have many workers which may be a bottleneck. Consider increasing the value of the `num_workers` argument` (try 12 which is the number of cpus on this machine) in the `DataLoader` init to improve performance.\n",
      "  warnings.warn(*args, **kwargs)\n"
     ]
    },
    {
     "data": {
      "application/vnd.jupyter.widget-view+json": {
       "model_id": "496b8d833b1d437b886c80e0c85f16a6",
       "version_major": 2,
       "version_minor": 0
      },
      "text/plain": [
       "HBox(children=(FloatProgress(value=1.0, bar_style='info', description='Training', layout=Layout(flex='2'), max…"
      ]
     },
     "metadata": {},
     "output_type": "display_data"
    },
    {
     "data": {
      "application/vnd.jupyter.widget-view+json": {
       "model_id": "",
       "version_major": 2,
       "version_minor": 0
      },
      "text/plain": [
       "HBox(children=(FloatProgress(value=1.0, bar_style='info', description='Validating', layout=Layout(flex='2'), m…"
      ]
     },
     "metadata": {},
     "output_type": "display_data"
    },
    {
     "data": {
      "application/vnd.jupyter.widget-view+json": {
       "model_id": "",
       "version_major": 2,
       "version_minor": 0
      },
      "text/plain": [
       "HBox(children=(FloatProgress(value=1.0, bar_style='info', description='Validating', layout=Layout(flex='2'), m…"
      ]
     },
     "metadata": {},
     "output_type": "display_data"
    },
    {
     "data": {
      "application/vnd.jupyter.widget-view+json": {
       "model_id": "",
       "version_major": 2,
       "version_minor": 0
      },
      "text/plain": [
       "HBox(children=(FloatProgress(value=1.0, bar_style='info', description='Validating', layout=Layout(flex='2'), m…"
      ]
     },
     "metadata": {},
     "output_type": "display_data"
    },
    {
     "data": {
      "application/vnd.jupyter.widget-view+json": {
       "model_id": "",
       "version_major": 2,
       "version_minor": 0
      },
      "text/plain": [
       "HBox(children=(FloatProgress(value=1.0, bar_style='info', description='Validating', layout=Layout(flex='2'), m…"
      ]
     },
     "metadata": {},
     "output_type": "display_data"
    },
    {
     "data": {
      "application/vnd.jupyter.widget-view+json": {
       "model_id": "",
       "version_major": 2,
       "version_minor": 0
      },
      "text/plain": [
       "HBox(children=(FloatProgress(value=1.0, bar_style='info', description='Validating', layout=Layout(flex='2'), m…"
      ]
     },
     "metadata": {},
     "output_type": "display_data"
    },
    {
     "data": {
      "application/vnd.jupyter.widget-view+json": {
       "model_id": "",
       "version_major": 2,
       "version_minor": 0
      },
      "text/plain": [
       "HBox(children=(FloatProgress(value=1.0, bar_style='info', description='Validating', layout=Layout(flex='2'), m…"
      ]
     },
     "metadata": {},
     "output_type": "display_data"
    },
    {
     "name": "stderr",
     "output_type": "stream",
     "text": [
      "/usr/local/lib/python3.6/dist-packages/pytorch_lightning/utilities/distributed.py:52: UserWarning: Detected KeyboardInterrupt, attempting graceful shutdown...\n",
      "  warnings.warn(*args, **kwargs)\n"
     ]
    },
    {
     "name": "stdout",
     "output_type": "stream",
     "text": [
      "\n"
     ]
    }
   ],
   "source": [
    "NUM_EPOCHS = 500\n",
    "DATA_DIR = \"../datasets/expB/\"\n",
    "\n",
    "config = {\n",
    "    \n",
    "    \"lr\": 1e-3,\n",
    "    \"momentum\": 0.9,\n",
    "    \"batch_size\": 512,\n",
    "    \"optimizer_type\": \"sgd\",\n",
    "    \"scheduler_params\": {\"warmup\": 10, \"cooldown\": 300},\n",
    "    \"num_epochs\": NUM_EPOCHS\n",
    "    \n",
    "}\n",
    "\n",
    "train_mnist(config, DATA_DIR, NUM_EPOCHS)"
   ]
  },
  {
   "cell_type": "code",
   "execution_count": 25,
   "metadata": {},
   "outputs": [],
   "source": [
    "lr_sched_factor = lambda epoch: epoch / (100) if epoch <= 100 else (1 if epoch > 100 and epoch < 300 else max(0, 1 + (1 / (300 - 500)) * (epoch - 300)))\n",
    "\n"
   ]
  },
  {
   "cell_type": "code",
   "execution_count": 26,
   "metadata": {},
   "outputs": [],
   "source": [
    "test = []\n",
    "initial_lr = 1e-3\n",
    "for i in range(500):\n",
    "    test.append(lr_sched_factor(i) * initial_lr)"
   ]
  },
  {
   "cell_type": "code",
   "execution_count": 27,
   "metadata": {},
   "outputs": [
    {
     "data": {
      "text/plain": [
       "[<matplotlib.lines.Line2D at 0x7f6ad8cc2518>]"
      ]
     },
     "execution_count": 27,
     "metadata": {},
     "output_type": "execute_result"
    },
    {
     "data": {
      "image/png": "[encoded data removed]",
      "text/plain": [
       "<Figure size 432x288 with 1 Axes>"
      ]
     },
     "metadata": {
      "needs_background": "light"
     },
     "output_type": "display_data"
    }
   ],
   "source": [
    "plt.plot(test)"
   ]
  },
  {
   "cell_type": "code",
   "execution_count": null,
   "metadata": {},
   "outputs": [],
   "source": []
  }
 ],
 "metadata": {
  "kernelspec": {
   "display_name": "Python 3",
   "language": "python",
   "name": "python3"
  },
  "language_info": {
   "codemirror_mode": {
    "name": "ipython",
    "version": 3
   },
   "file_extension": ".py",
   "mimetype": "text/x-python",
   "name": "python",
   "nbconvert_exporter": "python",
   "pygments_lexer": "ipython3",
   "version": "3.6.9"
  }
 },
 "nbformat": 4,
 "nbformat_minor": 4
}
