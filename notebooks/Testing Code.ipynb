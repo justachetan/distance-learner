{
 "cells": [
  {
   "cell_type": "code",
   "execution_count": 1,
   "metadata": {},
   "outputs": [],
   "source": [
    "import os\n",
    "import torch\n",
    "import numpy as np\n",
    "os.chdir(\"/data/adv_geom/src\")\n",
    "from datagen.synthetic.multiple.concentricspheres import ConcentricSpheres\n",
    "import matplotlib.pyplot as plt\n"
   ]
  },
  {
   "cell_type": "code",
   "execution_count": 2,
   "metadata": {},
   "outputs": [],
   "source": [
    "# train_set, val_set, test_set = ConcentricSpheres.make_train_val_test_splits()\n"
   ]
  },
  {
   "cell_type": "code",
   "execution_count": 3,
   "metadata": {},
   "outputs": [],
   "source": [
    "# plt.hist(train_set.normed_all_smooth_distances.numpy()[:, 0])\n",
    "# plt.show()\n",
    "# plt.plot(sorted(train_set.normed_all_smooth_distances.numpy()[:, 0]))\n",
    "# plt.show()"
   ]
  },
  {
   "cell_type": "code",
   "execution_count": 4,
   "metadata": {},
   "outputs": [],
   "source": [
    "data_dir = \"/data/k500n500_noninfsmoothdist_data/\"\n",
    "\n",
    "\n",
    "train_set, val_set, test_set = ConcentricSpheres.load_splits(data_dir)\n"
   ]
  },
  {
   "cell_type": "code",
   "execution_count": 5,
   "metadata": {},
   "outputs": [],
   "source": [
    "val_logits = torch.load(\"/azuredrive/deepimage/data1/t-achetan/adv_geom_dumps/dumps/expD_distlearner_against_adv_eg/rdm_concspheres/rdm_concspheres_k500n500_noninfdist/1/logits/val/logits.pt\")\n",
    "val_targets = torch.load(\"/azuredrive/deepimage/data1/t-achetan/adv_geom_dumps/dumps/expD_distlearner_against_adv_eg/rdm_concspheres/rdm_concspheres_k500n500_noninfdist/1/logits/val/targets.pt\")\n",
    "\n",
    "\n",
    "\n"
   ]
  },
  {
   "cell_type": "code",
   "execution_count": 7,
   "metadata": {},
   "outputs": [
    {
     "data": {
      "image/png": "[encoded data removed]",
      "text/plain": [
       "<Figure size 432x288 with 1 Axes>"
      ]
     },
     "metadata": {
      "needs_background": "light"
     },
     "output_type": "display_data"
    }
   ],
   "source": [
    "import matplotlib.pyplot as plt\n",
    "plt.scatter(val_set.normed_all_actual_distances.numpy()[:, 1], val_logits.numpy()[:, 1], s=1)\n",
    "plt.scatter(val_set.normed_all_actual_distances.numpy()[:, 1], val_set.normed_all_actual_distances.numpy()[:, 1], s=1)\n",
    "\n",
    "plt.show()\n"
   ]
  },
  {
   "cell_type": "code",
   "execution_count": 28,
   "metadata": {},
   "outputs": [
    {
     "data": {
      "text/plain": [
       "Text(0.5, 1.0, 'k=500, n=500 noninf distance, error tol: 5e-2')"
      ]
     },
     "execution_count": 28,
     "metadata": {},
     "output_type": "execute_result"
    },
    {
     "data": {
      "image/png": "[encoded data removed]",
      "text/plain": [
       "<Figure size 432x288 with 1 Axes>"
      ]
     },
     "metadata": {
      "needs_background": "light"
     },
     "output_type": "display_data"
    }
   ],
   "source": [
    "mask = np.abs(val_set.normed_all_actual_distances.numpy()[:, 0] - val_logits.numpy()[:, 0]) >= 5e-2\n",
    "colors = [\"red\" if i is True else \"green\" for i in mask]\n",
    "plt.scatter(val_set.normed_all_actual_distances.numpy()[mask, 0], val_logits.numpy()[mask, 0], s=0.01, c=\"red\")\n",
    "plt.scatter(val_set.normed_all_actual_distances.numpy()[np.logical_not(mask), 0], val_logits.numpy()[np.logical_not(mask), 0], s=0.01, c=\"green\")\n",
    "# plt.scatter(val_set.normed_all_smooth_distances.numpy()[:, 0], val_targets.numpy()[:, 0], s=1)\n",
    "plt.xlabel(\"actual distance\")\n",
    "plt.ylabel(\"pred distance\")\n",
    "plt.title(\"k=500, n=500 noninf distance, error tol: 5e-2\")\n"
   ]
  },
  {
   "cell_type": "code",
   "execution_count": 11,
   "metadata": {},
   "outputs": [
    {
     "data": {
      "text/plain": [
       "76849"
      ]
     },
     "execution_count": 11,
     "metadata": {},
     "output_type": "execute_result"
    }
   ],
   "source": [
    "(np.abs(val_set.normed_all_smooth_distances.numpy()[:, 0] - val_logits.numpy()[:, 0]) >= 1e-2"
   ]
  },
  {
   "cell_type": "code",
   "execution_count": 58,
   "metadata": {},
   "outputs": [
    {
     "data": {
      "text/plain": [
       "(200000,)"
      ]
     },
     "execution_count": 58,
     "metadata": {},
     "output_type": "execute_result"
    }
   ],
   "source": [
    "(np.abs(val_set.normed_all_smooth_distances.numpy()[:, 0] - val_logits.numpy()[:, 0]) >= 5e-2).shape"
   ]
  },
  {
   "cell_type": "code",
   "execution_count": 60,
   "metadata": {},
   "outputs": [
    {
     "data": {
      "text/plain": [
       "array([False,  True,  True, ...,  True,  True,  True])"
      ]
     },
     "execution_count": 60,
     "metadata": {},
     "output_type": "execute_result"
    }
   ],
   "source": [
    "np.logical_not(mask)"
   ]
  },
  {
   "cell_type": "code",
   "execution_count": 21,
   "metadata": {},
   "outputs": [
    {
     "data": {
      "text/plain": [
       "tensor([0.9300, 0.9300, 0.9300,  ..., 0.9300, 0.9300, 0.9300])"
      ]
     },
     "execution_count": 21,
     "metadata": {},
     "output_type": "execute_result"
    }
   ],
   "source": [
    "val_logits[:, 0][val_logits[:, 0] == 1] - val_set.normed_all_distances.numpy()[:, 0][val_logits[:, 0] == 1]"
   ]
  },
  {
   "cell_type": "code",
   "execution_count": 22,
   "metadata": {},
   "outputs": [
    {
     "data": {
      "text/plain": [
       "array([0.07, 0.07, 0.07, ..., 0.07, 0.07, 0.07], dtype=float32)"
      ]
     },
     "execution_count": 22,
     "metadata": {},
     "output_type": "execute_result"
    }
   ],
   "source": [
    "val_set.normed_all_distances.numpy()[:, 0][val_logits[:, 0] == 1]"
   ]
  },
  {
   "cell_type": "code",
   "execution_count": 25,
   "metadata": {},
   "outputs": [
    {
     "data": {
      "text/plain": [
       "tensor(25141)"
      ]
     },
     "execution_count": 25,
     "metadata": {},
     "output_type": "execute_result"
    }
   ],
   "source": [
    "((train_set.normed_all_actual_distances[:, 0] >= 0.09) & (train_set.normed_all_actual_distances[:, 0] <= 0.1)).sum()"
   ]
  },
  {
   "cell_type": "code",
   "execution_count": 28,
   "metadata": {},
   "outputs": [
    {
     "data": {
      "text/plain": [
       "tensor(500000)"
      ]
     },
     "execution_count": 28,
     "metadata": {},
     "output_type": "execute_result"
    }
   ],
   "source": [
    "(train_set.normed_all_actual_distances[:, 0] > 0.99).sum()"
   ]
  },
  {
   "cell_type": "code",
   "execution_count": 19,
   "metadata": {},
   "outputs": [
    {
     "data": {
      "text/plain": [
       "torch.Size([1000000])"
      ]
     },
     "execution_count": 19,
     "metadata": {},
     "output_type": "execute_result"
    }
   ],
   "source": [
    "train_set.normed_all_actual_distances[:, 0].shape"
   ]
  },
  {
   "cell_type": "code",
   "execution_count": 29,
   "metadata": {},
   "outputs": [
    {
     "data": {
      "text/plain": [
       "tensor(24890)"
      ]
     },
     "execution_count": 29,
     "metadata": {},
     "output_type": "execute_result"
    }
   ],
   "source": [
    "((train_set.normed_all_smooth_distances[:, 0] >= 0.09) & (train_set.normed_all_smooth_distances[:, 0] <= 0.99)).sum()"
   ]
  },
  {
   "cell_type": "code",
   "execution_count": null,
   "metadata": {},
   "outputs": [],
   "source": []
  }
 ],
 "metadata": {
  "kernelspec": {
   "display_name": "Python 3",
   "language": "python",
   "name": "python3"
  },
  "language_info": {
   "codemirror_mode": {
    "name": "ipython",
    "version": 3
   },
   "file_extension": ".py",
   "mimetype": "text/x-python",
   "name": "python",
   "nbconvert_exporter": "python",
   "pygments_lexer": "ipython3",
   "version": "3.6.9"
  }
 },
 "nbformat": 4,
 "nbformat_minor": 4
}
