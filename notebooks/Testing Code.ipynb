{
 "cells": [
  {
   "cell_type": "code",
   "execution_count": 1,
   "metadata": {},
   "outputs": [],
   "source": [
    "import os\n",
    "os.chdir(\"/data/adv_geom/src\")\n",
    "from datagen.synthetic.multiple.concentricspheres import ConcentricSpheres"
   ]
  },
  {
   "cell_type": "code",
   "execution_count": 2,
   "metadata": {},
   "outputs": [
    {
     "name": "stdout",
     "output_type": "stream",
     "text": [
      "[RandomSphere]: generated centre\n",
      "[RandomSphere]: generated points in k-dim\n",
      "[RandomSphere]: pre-images generated\n",
      "[RandomSphere]: embedded the sphere in n-dim space\n",
      "[RandomSphere]: normalization complete\n",
      "[ConcentricSpheres]: Generated S1\n",
      "[RandomSphere]: generated centre\n",
      "[RandomSphere]: generated points in k-dim\n",
      "[RandomSphere]: pre-images generated\n",
      "[RandomSphere]: embedded the sphere in n-dim space\n",
      "[RandomSphere]: normalization complete\n",
      "[ConcentricSpheres]: Generated S2\n",
      "[ConcentricSpheres]: Overall noramalization done\n",
      "[RandomSphere]: generated centre\n",
      "[RandomSphere]: generated points in k-dim\n",
      "[RandomSphere]: pre-images generated\n",
      "[RandomSphere]: embedded the sphere in n-dim space\n",
      "[RandomSphere]: normalization complete\n",
      "[ConcentricSpheres]: Generated S1\n",
      "[RandomSphere]: generated centre\n",
      "[RandomSphere]: generated points in k-dim\n",
      "[RandomSphere]: pre-images generated\n",
      "[RandomSphere]: embedded the sphere in n-dim space\n",
      "[RandomSphere]: normalization complete\n",
      "[ConcentricSpheres]: Generated S2\n",
      "[ConcentricSpheres]: Overall noramalization done\n",
      "[RandomSphere]: generated centre\n",
      "[RandomSphere]: generated points in k-dim\n",
      "[RandomSphere]: pre-images generated\n",
      "[RandomSphere]: embedded the sphere in n-dim space\n",
      "[RandomSphere]: normalization complete\n",
      "[ConcentricSpheres]: Generated S1\n",
      "[RandomSphere]: generated centre\n",
      "[RandomSphere]: generated points in k-dim\n",
      "[RandomSphere]: pre-images generated\n",
      "[RandomSphere]: embedded the sphere in n-dim space\n",
      "[RandomSphere]: normalization complete\n",
      "[ConcentricSpheres]: Generated S2\n",
      "[ConcentricSpheres]: Overall noramalization done\n"
     ]
    }
   ],
   "source": [
    "train_set, val_set, test_set = ConcentricSpheres.make_train_val_test_splits()\n"
   ]
  },
  {
   "cell_type": "code",
   "execution_count": 3,
   "metadata": {},
   "outputs": [
    {
     "data": {
      "image/png": "[encoded data removed]",
      "text/plain": [
       "<Figure size 432x288 with 1 Axes>"
      ]
     },
     "metadata": {
      "needs_background": "light"
     },
     "output_type": "display_data"
    },
    {
     "data": {
      "image/png": "[encoded data removed]",
      "text/plain": [
       "<Figure size 432x288 with 1 Axes>"
      ]
     },
     "metadata": {
      "needs_background": "light"
     },
     "output_type": "display_data"
    }
   ],
   "source": [
    "import matplotlib.pyplot as plt\n",
    "plt.hist(train_set.normed_all_smooth_distances.numpy()[:, 0])\n",
    "plt.show()\n",
    "plt.plot(sorted(train_set.normed_all_smooth_distances.numpy()[:, 0]))\n",
    "plt.show()"
   ]
  },
  {
   "cell_type": "code",
   "execution_count": 4,
   "metadata": {},
   "outputs": [
    {
     "data": {
      "text/plain": [
       "1.0"
      ]
     },
     "execution_count": 4,
     "metadata": {},
     "output_type": "execute_result"
    }
   ],
   "source": [
    "train_set.normed_all_smooth_distances.numpy()[:, 0].max()"
   ]
  },
  {
   "cell_type": "code",
   "execution_count": 5,
   "metadata": {},
   "outputs": [
    {
     "data": {
      "text/plain": [
       "tensor([0.0959, 0.0960, 0.0995,  ..., 0.0983, 0.0929, 0.0923])"
      ]
     },
     "execution_count": 5,
     "metadata": {},
     "output_type": "execute_result"
    }
   ],
   "source": [
    "train_set.all_actual_distances[(train_set.all_actual_distances > train_set.bp) & (train_set.all_actual_distances <= train_set.max_norm)]"
   ]
  },
  {
   "cell_type": "code",
   "execution_count": null,
   "metadata": {},
   "outputs": [],
   "source": []
  }
 ],
 "metadata": {
  "kernelspec": {
   "display_name": "Python 3",
   "language": "python",
   "name": "python3"
  },
  "language_info": {
   "codemirror_mode": {
    "name": "ipython",
    "version": 3
   },
   "file_extension": ".py",
   "mimetype": "text/x-python",
   "name": "python",
   "nbconvert_exporter": "python",
   "pygments_lexer": "ipython3",
   "version": "3.6.9"
  }
 },
 "nbformat": 4,
 "nbformat_minor": 4
}
