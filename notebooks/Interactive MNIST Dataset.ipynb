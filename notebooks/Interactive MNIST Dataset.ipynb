{
 "cells": [
  {
   "cell_type": "code",
   "execution_count": 1,
   "metadata": {},
   "outputs": [],
   "source": [
    "import os\n",
    "os.chdir(\"/data/t-achetan/adv_geom/src/\")\n",
    "\n",
    "import random\n",
    "import torch \n",
    "\n",
    "import numpy as np\n",
    "import scipy as sp\n",
    "import numpy.linalg as npla\n",
    "import scipy.linalg as spla\n",
    "\n",
    "import matplotlib.pyplot as plt\n",
    "\n",
    "from datagen.real.mnist import MNISTManifolds\n",
    "from datagen.real.manifolds import _get_tn_for_on_mfld_idx\n",
    "from sklearn.decomposition import PCA"
   ]
  },
  {
   "cell_type": "code",
   "execution_count": 2,
   "metadata": {},
   "outputs": [
    {
     "data": {
      "text/plain": [
       "{'strategy': 'only',\n",
       " 'has_val': False,\n",
       " 'train': {'on_mfld_path': '/mnt/t-achetan/datasets/',\n",
       "  'k': 10,\n",
       "  'n': 784,\n",
       "  'use_labels': [1, 8],\n",
       "  'off_mfld_label': 9,\n",
       "  'split': 'train',\n",
       "  'seed': 23,\n",
       "  'num_neg': 0,\n",
       "  'nn': 10,\n",
       "  'buf_nn': 2,\n",
       "  'max_t_delta': 0.001,\n",
       "  'max_norm': 0.1,\n",
       "  'M': 1.0,\n",
       "  'transform': None},\n",
       " 'val': {'on_mfld_path': '/mnt/t-achetan/datasets/',\n",
       "  'k': 10,\n",
       "  'n': 784,\n",
       "  'use_labels': [1, 8],\n",
       "  'off_mfld_label': 9,\n",
       "  'split': 'test',\n",
       "  'seed': 23,\n",
       "  'num_neg': 0,\n",
       "  'nn': 10,\n",
       "  'buf_nn': 2,\n",
       "  'max_t_delta': 0.001,\n",
       "  'max_norm': 0.1,\n",
       "  'M': 1.0,\n",
       "  'transform': None},\n",
       " 'test': {'on_mfld_path': '/mnt/t-achetan/datasets/',\n",
       "  'k': 10,\n",
       "  'n': 784,\n",
       "  'use_labels': [1, 8],\n",
       "  'off_mfld_label': 9,\n",
       "  'split': 'test',\n",
       "  'seed': 23,\n",
       "  'num_neg': 0,\n",
       "  'nn': 10,\n",
       "  'buf_nn': 2,\n",
       "  'max_t_delta': 0.001,\n",
       "  'max_norm': 0.1,\n",
       "  'M': 1.0,\n",
       "  'transform': None}}"
      ]
     },
     "execution_count": 2,
     "metadata": {},
     "output_type": "execute_result"
    }
   ],
   "source": [
    "cfg_dict = MNISTManifolds.get_demo_cfg_dict()\n",
    "cfg_dict[\"train\"][\"num_neg\"] = 0\n",
    "cfg_dict[\"train\"][\"k\"] = 10\n",
    "cfg_dict[\"train\"][\"nn\"] = 10\n",
    "cfg_dict[\"train\"][\"on_mfld_path\"] = \"/mnt/t-achetan/datasets/\"\n",
    "cfg_dict[\"val\"][\"num_neg\"] = 0\n",
    "cfg_dict[\"val\"][\"k\"] = 10\n",
    "cfg_dict[\"val\"][\"nn\"] = 10\n",
    "cfg_dict[\"val\"][\"on_mfld_path\"] = \"/mnt/t-achetan/datasets/\"\n",
    "cfg_dict[\"test\"][\"num_neg\"] = 0\n",
    "cfg_dict[\"test\"][\"on_mfld_path\"] = \"/mnt/t-achetan/datasets/\"\n",
    "cfg_dict[\"test\"][\"k\"] = 10\n",
    "cfg_dict[\"test\"][\"nn\"] = 10\n",
    "\n",
    "cfg_dict"
   ]
  },
  {
   "cell_type": "code",
   "execution_count": 3,
   "metadata": {},
   "outputs": [
    {
     "name": "stderr",
     "output_type": "stream",
     "text": [
      "13-06-2022 13:21:51 -- [I] root | [mnist.py:93 -     load_raw_om_data()] >> [MNISTManifolds]: loading MNIST dataset\n",
      "13-06-2022 13:21:51 -- [I] root | [mnist.py:96 -     load_raw_om_data()] >> [MNISTManifolds]: MNIST data loaded\n",
      "flattening data: 8it [00:01,  4.23it/s]\n",
      "13-06-2022 13:21:53 -- [I] root | [manifolds.py:463 -       compute_points()] >> [MNISTManifolds]: initialised on-mfld points\n",
      "13-06-2022 13:21:53 -- [I] root | [manifolds.py:467 -       compute_points()] >> [MNISTManifolds]: created poca idx\n",
      "13-06-2022 13:21:53 -- [I] root | [manifolds.py:323 - make_inferred_off_mfld()] >> [MNISTManifolds]: knn not computed. computing now ...\n",
      "13-06-2022 13:21:53 -- [I] root | [manifolds.py:290 -             find_knn()] >> [MNISTManifolds]: fitting knn...\n",
      "13-06-2022 13:21:56 -- [I] root | [manifolds.py:292 -             find_knn()] >> [MNISTManifolds]: knn fit done\n",
      "13-06-2022 13:21:56 -- [I] root | [manifolds.py:294 -             find_knn()] >> [MNISTManifolds]: predicting nbhrs...\n",
      "13-06-2022 13:21:57 -- [I] root | [manifolds.py:296 -             find_knn()] >> [MNISTManifolds]: prediction complete...\n",
      "computing off mfld (2): 0it [00:00, ?it/s]\n",
      "13-06-2022 13:21:57 -- [I] root | [manifolds.py:471 -       compute_points()] >> [MNISTManifolds]: completed off-mfld generation\n",
      "13-06-2022 13:21:57 -- [I] root | [manifolds.py:514 -                 norm()] >> [MNISTManifolds]: norm_factor = (tensor(0.), tensor(0.), tensor(-0.0657), tensor(0.9321))\n",
      "13-06-2022 13:21:57 -- [I] root | [manifolds.py:518 -                 norm()] >> [MNISTManifolds]: normalization done!\n"
     ]
    }
   ],
   "source": [
    "trainset = MNISTManifolds(**cfg_dict[\"train\"])\n",
    "trainset.compute_points()"
   ]
  },
  {
   "cell_type": "code",
   "execution_count": null,
   "metadata": {},
   "outputs": [],
   "source": []
  },
  {
   "cell_type": "code",
   "execution_count": 4,
   "metadata": {},
   "outputs": [],
   "source": [
    "def seed_all(manual_seed):\n",
    "    random.seed(manual_seed)\n",
    "    torch.manual_seed(manual_seed)\n",
    "    torch.cuda.manual_seed(manual_seed)\n",
    "    np.random.seed(manual_seed)"
   ]
  },
  {
   "cell_type": "code",
   "execution_count": 5,
   "metadata": {},
   "outputs": [],
   "source": [
    "def make_offmfld_eg(trainset, idx, off_mfld_size, on_mfld_size, seed=43):\n",
    "    \n",
    "    seed_all(seed)\n",
    "    \n",
    "    nn_indices = trainset.nn_indices[trainset.nn_indices != np.arange(trainset.nn_indices.shape[0]).reshape(-1, 1)].reshape(trainset.nn_indices.shape[0], trainset.nn_indices.shape[1] - 1)\n",
    "    nn_distances = trainset.nn_distances[trainset.nn_indices != np.arange(trainset.nn_indices.shape[0]).reshape(-1, 1)].reshape(trainset.nn_indices.shape[0], trainset.nn_indices.shape[1] - 1)\n",
    "\n",
    "    idx = 0\n",
    "    pt = trainset.all_points[idx]\n",
    "    nbhrs = trainset.all_points[nn_indices[idx]]\n",
    "    nbhr_local_coords = nbhrs - pt\n",
    "    pca = PCA(n_components=trainset.k - 1)\n",
    "    pca.fit(nbhr_local_coords)\n",
    "\n",
    "    tang_dirs = pca.components_\n",
    "    norm_dirs = spla.null_space(tang_dirs).T\n",
    "\n",
    "    on_mfld_pb_coeffs = np.random.normal(size=trainset.k - 1)\n",
    "    on_mfld_pb = np.sum(on_mfld_pb_coeffs.reshape(-1, 1) * tang_dirs, axis=0)\n",
    "    on_mfld_pb = on_mfld_pb * (on_mfld_size / np.linalg.norm(on_mfld_pb, ord=2))\n",
    "\n",
    "    on_mfld_aug = pt + on_mfld_pb\n",
    "\n",
    "    off_mfld_coeffs = np.random.normal(size=trainset.n - trainset.k + 1)\n",
    "    off_mfld_pb = np.sum(off_mfld_coeffs.reshape(-1, 1) * norm_dirs, axis=0)\n",
    "\n",
    "    off_mfld_pb = off_mfld_pb * (off_mfld_size / np.linalg.norm(off_mfld_pb, ord=2))\n",
    "\n",
    "    off_mfld_pt = on_mfld_aug + off_mfld_pb\n",
    "    \n",
    "    return pt, on_mfld_aug, off_mfld_pt, nn_distances"
   ]
  },
  {
   "cell_type": "code",
   "execution_count": 8,
   "metadata": {},
   "outputs": [
    {
     "data": {
      "image/png": "[encoded data removed]",
      "text/plain": [
       "<Figure size 1728x432 with 4 Axes>"
      ]
     },
     "metadata": {
      "needs_background": "light"
     },
     "output_type": "display_data"
    }
   ],
   "source": [
    "idx = 0\n",
    "off_mfld_size = 2\n",
    "on_mfld_size = 2\n",
    "\n",
    "pt, on_mfld_aug, off_mfld_eg, nn_distances = make_offmfld_eg(trainset, idx, off_mfld_size, on_mfld_size)\n",
    "\n",
    "cum_mean_distances = np.cumsum(nn_distances[idx]) / np.arange(1, nn_distances[idx].shape[0] + 1)\n",
    "\n",
    "fig, axs = plt.subplots(1, 4, figsize=(24, 6))\n",
    "axs[0].imshow(pt.reshape(28, 28))\n",
    "axs[0].set_title(\"original\")\n",
    "axs[1].imshow(on_mfld_aug.reshape(28, 28))\n",
    "axs[1].set_title(\"on mfld aug\")\n",
    "axs[2].imshow(off_mfld_eg.reshape(28, 28))\n",
    "axs[2].set_title(\"off mfld pt\")\n",
    "axs[3].plot(cum_mean_distances)\n",
    "# for i in range(len(cum_mean_distances)):\n",
    "#     axs[3].plot(cum_mean_distances[i])\n",
    "axs[3].set_title(\"dist. of mean L2 nbhr dists\")\n",
    "axs[3].set_ylim(0, max(cum_mean_distances)+2)\n",
    "plt.show()"
   ]
  },
  {
   "cell_type": "code",
   "execution_count": 34,
   "metadata": {},
   "outputs": [
    {
     "data": {
      "text/plain": [
       "(11,)"
      ]
     },
     "execution_count": 34,
     "metadata": {},
     "output_type": "execute_result"
    }
   ],
   "source": [
    "nn_distances[0].shape"
   ]
  },
  {
   "cell_type": "code",
   "execution_count": null,
   "metadata": {},
   "outputs": [],
   "source": []
  },
  {
   "cell_type": "code",
   "execution_count": null,
   "metadata": {},
   "outputs": [],
   "source": []
  }
 ],
 "metadata": {
  "kernelspec": {
   "display_name": "Python 3",
   "language": "python",
   "name": "python3"
  },
  "language_info": {
   "codemirror_mode": {
    "name": "ipython",
    "version": 3
   },
   "file_extension": ".py",
   "mimetype": "text/x-python",
   "name": "python",
   "nbconvert_exporter": "python",
   "pygments_lexer": "ipython3",
   "version": "3.7.6"
  }
 },
 "nbformat": 4,
 "nbformat_minor": 4
}
