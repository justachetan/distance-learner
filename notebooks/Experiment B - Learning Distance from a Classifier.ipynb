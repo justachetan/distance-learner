{
 "cells": [
  {
   "cell_type": "code",
   "execution_count": 111,
   "metadata": {},
   "outputs": [],
   "source": [
    "import os\n",
    "import sys\n",
    "import time\n",
    "import copy\n",
    "\n",
    "from collections import OrderedDict\n",
    "\n",
    "import numpy as np\n",
    "\n",
    "import torch\n",
    "import torch.nn as nn\n",
    "import torch.optim as optim\n",
    "from torch.utils.data import Dataset, DataLoader\n",
    "\n",
    "import torchvision\n",
    "import torchvision.transforms as transforms\n",
    "import torchvision.transforms.functional as TF\n",
    "from torchvision import datasets\n",
    "\n",
    "import PIL\n",
    "\n",
    "import matplotlib\n",
    "# matplotlib.use('Agg')\n",
    "import matplotlib.pyplot as plt\n",
    "import seaborn as sns\n",
    "\n",
    "from livelossplot import PlotLosses\n",
    "\n",
    "from sklearn.neighbors import NearestNeighbors\n",
    "from sklearn.decomposition import IncrementalPCA\n",
    "from sklearn.metrics import classification_report\n",
    "\n",
    "from sklearn.metrics import mean_squared_error\n",
    "\n",
    "\n",
    "from IPython.display import Image\n",
    "\n",
    "from tqdm.notebook import tqdm\n",
    "\n"
   ]
  },
  {
   "cell_type": "code",
   "execution_count": 2,
   "metadata": {},
   "outputs": [],
   "source": [
    "class RandomSphere(Dataset):\n",
    "    \n",
    "    \"\"\"\n",
    "    Class for generating dataset of a random\n",
    "    sphere lying in a low dimensional manifold\n",
    "    embedded in a higher dimensional space\n",
    "    \"\"\"\n",
    "    \n",
    "    def __init__(self, N=1000, num_neg=None, n=100, k=3, r=10.0, D=50.0, max_norm=100.0, mu=10, sigma=5, seed=42):\n",
    "        \n",
    "        \"\"\"\n",
    "        :param N: total number of samples\n",
    "        :type N: int\n",
    "        :param k: low (k-1)-dimensional manifold, embedded in k dims \n",
    "        :type k: int\n",
    "        :param n: dimension of manifold in which sphere is embedded\n",
    "        :type n: int\n",
    "        :param r: radius of the sphere\n",
    "        :type r: float\n",
    "        :param D: clamping limit for negative examples\n",
    "        :type D: float\n",
    "        :return: points\n",
    "        :param max_norm: maximum possible norm that a point can have\n",
    "        :type max_norm: float\n",
    "        :param mu: mean of normal distribution from which we sample\n",
    "        :type: float\n",
    "        :param sigma: standard deviation of normal distribution from which we sample\n",
    "        :type: float\n",
    "        :param seed: random seed (default is the answer to the ultimate question!)\n",
    "        :type: int\n",
    "        \"\"\"\n",
    "        \n",
    "        self.N = N\n",
    "        self.num_neg = np.floor(self.N / 2).astype(np.int64)\n",
    "        if num_neg is not None:\n",
    "            self.num_neg = num_neg\n",
    "        self.n = n\n",
    "        self.k = k\n",
    "        self.r = r\n",
    "        self.D = D\n",
    "        self.max_norm = max_norm\n",
    "        self.mu = mu\n",
    "        self.sigma = sigma\n",
    "        self.seed = seed\n",
    "        \n",
    "        ## setting seed\n",
    "        torch.manual_seed(42)\n",
    "        np.random.seed(42)\n",
    "        \n",
    "        self.x_ck = None\n",
    "        \"\"\"center of the sphere\"\"\"\n",
    "        \n",
    "        self.x_cn = None\n",
    "        \"\"\"center of sphere in higher dimension\"\"\"\n",
    "        \n",
    "        self.points_k = None\n",
    "        \"\"\"points sampled from the sphere in k-dim\"\"\"\n",
    "        \n",
    "        self.points_n = None\n",
    "        \"\"\"embedding of `self.points_k` in n-dim\"\"\"\n",
    "        \n",
    "        self.actual_distances = None\n",
    "        \"\"\"actual distance of points from the sphere's surface\"\"\"\n",
    "        \n",
    "        self.distances = None\n",
    "        \"\"\"clamped distance of the point from the sphere's surface\"\"\"\n",
    "        \n",
    "        \n",
    "        self.translation = np.random.normal(self.mu, self.sigma, self.n)\n",
    "        \"\"\"randomly sampled translation transform\"\"\"\n",
    "        \n",
    "        self.rotation = np.random.normal(self.mu, self.sigma, (self.n, self.n))\n",
    "        self.rotation = np.linalg.qr(self.rotation)[0]\n",
    "        \"\"\"randomly sampled rotation transform\"\"\"\n",
    "        \n",
    "        self.gen_center()\n",
    "        print(\"center generated\")\n",
    "        self.gen_points()\n",
    "        print(\"points generated\")\n",
    "        self.embed_in_n()\n",
    "        print(\"embedding done\")\n",
    "#         self.compute_distances()\n",
    "        \n",
    "        self.points_n = torch.from_numpy(self.points_n).float()\n",
    "        self.points_k = torch.from_numpy(self.points_k).float()\n",
    "        self.distances = torch.from_numpy(self.distances).float()\n",
    "        self.actual_distances = torch.from_numpy(self.actual_distances).float()\n",
    "        \n",
    "    def __len__(self):\n",
    "        return self.points_n.shape[0]\n",
    "    \n",
    "    def __getitem__(self, idx):\n",
    "        return self.points_n[idx], self.distances[idx]\n",
    "        \n",
    "        \n",
    "    def gen_center(self):\n",
    "        \"\"\"generate a center in lower dimension\"\"\"\n",
    "        self.x_ck = np.random.normal(self.mu, self.sigma, self.k)\n",
    "        \n",
    "    def gen_points(self):\n",
    "        \"\"\"generating points in k-dim and embedding in n-dim\"\"\"\n",
    "        points_k = np.random.normal(self.mu, self.sigma, (self.N, self.k))\n",
    "        points_k = points_k - self.x_ck\n",
    "        \n",
    "        norms = np.linalg.norm(points_k, axis=1, ord=2).reshape(-1, 1)\n",
    "        points_k = (points_k / norms)\n",
    "        \n",
    "#         print(np.round(np.linalg.norm(points_k, axis=1, ord=2))[np.ceil(np.linalg.norm(points_k, axis=1, ord=2)) > 1])\n",
    "        \n",
    "        assert (np.round(np.linalg.norm(points_k, axis=1, ord=2)) == 1).all()\n",
    "        \n",
    "        points_k = self.r * points_k\n",
    "        \n",
    "#         neg_norms = np.random.uniform(low=1 + np.finfo(np.float).eps,\\\n",
    "#                                       high=self.max_norm, size=np.floor(self.N / 2).astype(np.int64))\n",
    "        \n",
    "#         points_k[:np.floor(self.N / 2).astype(np.int64)] = (neg_norms.reshape(-1, 1) / self.r) * points_k[:np.floor(self.N / 2).astype(np.int64)]\n",
    "        \n",
    "        points_k = points_k + self.x_ck\n",
    "        \n",
    "        self.points_k = points_k\n",
    "        \n",
    "    def make_neg_examples(self):\n",
    "        \"\"\"generating negative examples, i.e., points not on the manifold\"\"\"\n",
    "        \n",
    "        # normal_vectors_to_mfld_at_p are actually centred at x_ck, but \n",
    "        # we can imaging the same vector at $p$, and later adjust the coordinates\n",
    "        # by adding the position vector of $p$ back.\n",
    "        #\n",
    "        # Also note that these negative examples are being generated using first\n",
    "        # half of self.points_k\n",
    "        normal_vectors_to_mfld_at_p = self.points_k[:self.num_neg] - self.x_ck\n",
    "        embedded_normal_vectors_to_mfld_at_p = np.zeros((self.num_neg, self.n))\n",
    "        embedded_normal_vectors_to_mfld_at_p[:, :self.k] = normal_vectors_to_mfld_at_p\n",
    "        \n",
    "        neg_examples = np.zeros((self.num_neg, self.n))\n",
    "        neg_distances = np.zeros(self.num_neg)\n",
    "        \n",
    "        # canonical basis $e_i$ over leftover dimensions\n",
    "        remaining_dims = self.n - self.k\n",
    "        leftover_basis = np.eye(remaining_dims)\n",
    "        \n",
    "        # variable to store spanning set\n",
    "        span_set = np.zeros((remaining_dims + 1, self.n))\n",
    "        span_set[1:, self.k:] = leftover_basis\n",
    "        \n",
    "        \n",
    "        for i in tqdm(range(self.num_neg)):\n",
    "\n",
    "            n_cap = embedded_normal_vectors_to_mfld_at_p[i]\n",
    "            \n",
    "            # span set is n_cap and leftover basis\n",
    "            span_set[0] = n_cap\n",
    "            \n",
    "\n",
    "            # sample random coefficients\n",
    "#             coefficients = np.random.uniform(-1 * self.max_norm, self.max_norm, span_set.shape[0])\n",
    "            coefficients = np.random.uniform(self.mu, self.sigma, span_set.shape[0])\n",
    "\n",
    "            # take linear combination\n",
    "            neg_examples[i] = np.sum(coefficients.reshape(-1, 1) * span_set, axis=0)\n",
    "            \n",
    "        # re-scale with random norms\n",
    "#         neg_norms = np.random.uniform(low=-1 * self.max_norm, high=self.max_norm, size=self.num_neg)\n",
    "        neg_norms = np.random.normal(self.mu, self.sigma, size=self.num_neg)\n",
    "\n",
    "        neg_examples = (neg_norms.reshape(-1, 1) / np.linalg.norm(neg_examples, axis=1, ord=2).reshape(-1, 1)) * neg_examples\n",
    "\n",
    "        # add position vector of $p$ to get origin centered coordinates\n",
    "        neg_examples[:, :self.k] = neg_examples[:, :self.k] + self.points_k[:self.num_neg]\n",
    "\n",
    "        # distances from the manifold will be the norms the samples were rescaled by\n",
    "        neg_distances = neg_norms\n",
    "        \n",
    "        return neg_examples, neg_norms\n",
    "            \n",
    "    \n",
    "    \n",
    "    def embed_in_n(self):\n",
    "        \n",
    "        # embedding the center\n",
    "        self.x_cn = np.zeros(self.n)\n",
    "        self.x_cn[:self.k] = self.x_ck\n",
    "        self.x_cn = self.x_cn + self.translation         \n",
    "        \n",
    "        # generate the negative examples\n",
    "        neg_examples, neg_distances = self.make_neg_examples()\n",
    "        \n",
    "        #embedding the points\n",
    "        points_n = np.zeros((self.N, self.n))\n",
    "        points_n[:self.num_neg] = neg_examples\n",
    "        \n",
    "        points_n[self.num_neg:, :self.k] = self.points_k[self.num_neg:]\n",
    "        self.points_n = points_n + self.translation\n",
    "        \n",
    "        self.actual_distances = np.zeros((self.N, 1))\n",
    "        self.actual_distances[:self.num_neg] = neg_distances.reshape(-1, 1)\n",
    "        self.actual_distances[self.num_neg:] = np.linalg.norm(self.points_n[self.num_neg:] - self.x_cn, axis=1, ord=2).reshape(-1, 1) - self.r\n",
    "        self.distances = np.clip(self.actual_distances, a_min=0, a_max=self.D)\n",
    "        \n",
    "        assert (np.round(np.linalg.norm(self.points_n[self.num_neg:] - self.x_cn, axis=1, ord=2)) == self.r).all()\n",
    "    \n",
    "\n",
    "    \n",
    "    "
   ]
  },
  {
   "cell_type": "code",
   "execution_count": 3,
   "metadata": {},
   "outputs": [],
   "source": [
    "class MLP(nn.Module):\n",
    "    \n",
    "    def __init__(self, input_size, output_size, hidden_sizes=[512, 512, 512, 512]):\n",
    "        \n",
    "        super(MLP, self).__init__()\n",
    "        \n",
    "        self.input_size = input_size\n",
    "        self.hidden_sizes = hidden_sizes\n",
    "        \n",
    "        layers = [(\"fcn-0\", nn.Linear(self.input_size, hidden_sizes[0])), (\"relu-0\", nn.ReLU())]\n",
    "        \n",
    "        for i in range(len(hidden_sizes) - 1):\n",
    "\n",
    "            layers.append((\"fcn-{n}\".format(n=i+1), nn.Linear(hidden_sizes[i], hidden_sizes[i+1])))\n",
    "            layers.append((\"relu-{n}\".format(n=i+1), nn.ReLU()))\n",
    "                    \n",
    "        layers.append((\"fcn-\" + str(len(hidden_sizes)), nn.Linear(hidden_sizes[-1], output_size)))\n",
    "        \n",
    "        self.layers = nn.Sequential(OrderedDict(layers))\n",
    "        \n",
    "    def forward(self, X):\n",
    "        \n",
    "        logits = self.layers(X)\n",
    "        return logits"
   ]
  },
  {
   "cell_type": "code",
   "execution_count": 52,
   "metadata": {},
   "outputs": [],
   "source": [
    "class ConvNet1(nn.Module):\n",
    "    \"\"\"CNN-based architecture\"\"\"\n",
    "    \n",
    "    \n",
    "    def __init__(self, input_size, output_size):\n",
    "        \n",
    "        super(ConvNet1, self).__init__()\n",
    "        self.input_size = input_size\n",
    "        self.output_size = output_size\n",
    "        \n",
    "        self.conv_1 = nn.Conv1d(in_channels=1, out_channels=16, kernel_size=3, stride=2)\n",
    "        self.bn_1 = nn.BatchNorm1d(16)\n",
    "        self.conv_2 = nn.Conv1d(in_channels=16, out_channels=16, kernel_size=3, stride=2)\n",
    "        self.bn_2 = nn.BatchNorm1d(16)\n",
    "        self.maxpool_1 = nn.MaxPool1d(kernel_size=2)\n",
    "        self.dp_1 = nn.Dropout(0.2)\n",
    "        \n",
    "        \n",
    "        \n",
    "        \n",
    "        self.blk_out = nn.Sequential(OrderedDict([\n",
    "            (\"fc-1\", nn.Linear(in_features=16 * 124, out_features=1))\n",
    "        ]))\n",
    "        \n",
    "    def forward(self, X):\n",
    "#         print(X.shape)\n",
    "        X = X.view(X.shape[0], 1, -1)\n",
    "#         print(X.shape)\n",
    "\n",
    "        logits = self.conv_1(X)\n",
    "        logits = self.bn_1(logits)\n",
    "        logits = self.conv_2(logits)\n",
    "        logits = self.bn_2(logits)\n",
    "        logits = self.maxpool_1(logits)\n",
    "        logits = self.dp_1(logits)\n",
    "#         print(logits.shape)\n",
    "        logits = logits.view(logits.shape[0], -1)\n",
    "        logits = self.blk_out(logits)\n",
    "        \n",
    "        return logits"
   ]
  },
  {
   "cell_type": "code",
   "execution_count": 64,
   "metadata": {},
   "outputs": [],
   "source": [
    "class ConvNet2(nn.Module):\n",
    "    \"\"\"CNN-based architecture\"\"\"\n",
    "    \n",
    "    \n",
    "    def __init__(self, input_size, output_size):\n",
    "        \n",
    "        super(ConvNet2, self).__init__()\n",
    "        self.input_size = input_size\n",
    "        self.output_size = output_size\n",
    "        \n",
    "        self.conv_11 = nn.Conv1d(in_channels=1, out_channels=32, kernel_size=3, stride=2)\n",
    "        self.bn_11 = nn.BatchNorm1d(32)\n",
    "        self.conv_12 = nn.Conv1d(in_channels=32, out_channels=32, kernel_size=3, stride=2)\n",
    "        self.bn_12 = nn.BatchNorm1d(32)\n",
    "        self.maxpool_11 = nn.MaxPool1d(kernel_size=2)\n",
    "        self.dp_11 = nn.Dropout(0.2)\n",
    "        \n",
    "        self.conv_21 = nn.Conv1d(in_channels=32, out_channels=16, kernel_size=3, stride=2)\n",
    "        self.bn_21 = nn.BatchNorm1d(16)\n",
    "        self.conv_22 = nn.Conv1d(in_channels=16, out_channels=16, kernel_size=3, stride=2)\n",
    "        self.bn_22 = nn.BatchNorm1d(16)\n",
    "        self.maxpool_21 = nn.MaxPool1d(kernel_size=2)\n",
    "        self.dp_21 = nn.Dropout(0.5)\n",
    "        \n",
    "        \n",
    "        \n",
    "        \n",
    "        self.blk_out = nn.Sequential(OrderedDict([\n",
    "            (\"fc-1\", nn.Linear(in_features=16 * 15, out_features=1))\n",
    "        ]))\n",
    "        \n",
    "    def forward(self, X):\n",
    "#         print(X.shape)\n",
    "        X = X.view(X.shape[0], 1, -1)\n",
    "#         print(X.shape)\n",
    "\n",
    "        logits = self.conv_11(X)\n",
    "        logits = self.bn_11(logits)\n",
    "        logits = self.conv_12(logits)\n",
    "        logits = self.bn_12(logits)\n",
    "        logits = self.maxpool_11(logits)\n",
    "        logits = self.dp_11(logits)\n",
    "        \n",
    "        logits = self.conv_21(logits)\n",
    "        logits = self.bn_21(logits)\n",
    "        logits = self.conv_22(logits)\n",
    "        logits = self.bn_22(logits)\n",
    "        logits = self.maxpool_21(logits)\n",
    "        logits = self.dp_21(logits)\n",
    "        \n",
    "#         print(logits.shape)\n",
    "        logits = logits.view(logits.shape[0], -1)\n",
    "        logits = self.blk_out(logits)\n",
    "        \n",
    "        return logits"
   ]
  },
  {
   "cell_type": "code",
   "execution_count": 22,
   "metadata": {},
   "outputs": [],
   "source": [
    "def train(model, optimizer, loss, dataloaders, device,\\\n",
    "          num_epochs, save_dir, name=\"MLP_512x4_in1000\",\\\n",
    "          scheduler={\"start_iter\": 150, \"end_iter\": 500}):\n",
    "    \"\"\"\n",
    "        Function to train the model. Also dumps the best model.\n",
    "        \n",
    "        Returns the best model and optimizers\n",
    "\n",
    "    \"\"\"\n",
    "    \n",
    "    # storing the start_lr\n",
    "    start_lr = None\n",
    "    for param_group in optimizer.param_groups:\n",
    "        start_lr = param_group['lr']\n",
    "    \n",
    "    TIME_STAMP = time.strftime(\"%d%m%Y-%H%M%S\")\n",
    "\n",
    "    \n",
    "    model_dir = os.path.join(save_dir, \"models\")\n",
    "    plot_dir = os.path.join(save_dir, \"plots\")\n",
    "    \n",
    "    os.makedirs(model_dir, exist_ok=True)\n",
    "    os.makedirs(plot_dir, exist_ok=True)\n",
    "    \n",
    "    plot_fn = os.path.join(plot_dir, name + \"_\" + TIME_STAMP)\n",
    "    \n",
    "    liveloss = PlotLosses(fig_path=plot_fn)\n",
    "    \n",
    "    phase = \"train\"\n",
    "    \n",
    "    last_best_epoch_loss = None\n",
    "    \n",
    "    for epoch in tqdm(range(num_epochs)):\n",
    "        \n",
    "        logs = {\n",
    "            \"loss\": 0,\n",
    "            \"val_loss\": 0\n",
    "        }\n",
    "        \n",
    "        \n",
    "        \n",
    "        for phase in [\"train\", \"val\"]:\n",
    "            \n",
    "            dl = dataloaders[phase]\n",
    "            \n",
    "            if phase == \"train\":\n",
    "                torch.set_grad_enabled(True)\n",
    "                model.train()\n",
    "            else:\n",
    "                torch.set_grad_enabled(False)\n",
    "                model.eval()\n",
    "            \n",
    "            num_batches = 0\n",
    "            \n",
    "            prefix = \"\"\n",
    "            if phase == \"val\":\n",
    "                prefix = \"val_\"\n",
    "            \n",
    "            for (i, batch) in enumerate(dataloaders[phase]):\n",
    "                \n",
    "                points = batch[0].to(device)\n",
    "                distances = batch[1].to(device)\n",
    "                \n",
    "                model.zero_grad()\n",
    "                model = model.to(device)\n",
    "                \n",
    "                logits = model(points)\n",
    "                \n",
    "                loss = loss_func(distances, logits)\n",
    "                \n",
    "                if phase == \"train\":\n",
    "                    loss.backward()\n",
    "                    optimizer.step()\n",
    "                    \n",
    "                logs[prefix + \"loss\"] += loss.detach().cpu().item()\n",
    "                \n",
    "                num_batches = i\n",
    "                \n",
    "                points = points.cpu()\n",
    "                distances = distances.cpu()\n",
    "                model = model.cpu()\n",
    "            \n",
    "            # dividing by the number of batches\n",
    "            logs[prefix + \"loss\"] /= num_batches\n",
    "            \n",
    "        if last_best_epoch_loss is None or logs[\"val_loss\"] < last_best_epoch_loss:\n",
    "            last_best_epoch_loss = logs[\"val_loss\"]\n",
    "            torch.save({\n",
    "                'epoch': epoch,\n",
    "                'model_state_dict': model.state_dict(),\n",
    "                'optimizer_state_dict': optimizer.state_dict(),\n",
    "                'val_loss': logs['val_loss'],\n",
    "                'loss': logs[\"loss\"]\n",
    "            }, os.path.join(model_dir, NAME + \"_\"+ TIME_STAMP + \"val_loss_\" + str(logs[\"val_loss\"]) + \".pth\"))\n",
    "        \n",
    "        if scheduler is not None:\n",
    "            \n",
    "            if epoch > scheduler[\"start_iter\"]:\n",
    "                for param_group in optimizer.param_groups:\n",
    "                    param_group['lr'] = start_lr - (((0 - start_lr) / (scheduler[\"start_iter\"] - scheduler[\"end_iter\"])) * epoch)\n",
    "        \n",
    "        \n",
    "        liveloss.update(logs)\n",
    "        liveloss.draw()\n",
    "        \n",
    "    return models, optimizer\n",
    "            \n",
    "            \n"
   ]
  },
  {
   "cell_type": "code",
   "execution_count": null,
   "metadata": {},
   "outputs": [],
   "source": []
  },
  {
   "cell_type": "code",
   "execution_count": 71,
   "metadata": {},
   "outputs": [],
   "source": [
    "def test(model, dataloader, device):\n",
    "    \n",
    "    model.eval()\n",
    "    \n",
    "    all_logits = None\n",
    "    all_distances = None\n",
    "    \n",
    "    with torch.no_grad():\n",
    "        \n",
    "        for batch in tqdm(dataloader):\n",
    "            \n",
    "            points = batch[0].to(device)\n",
    "            distances = batch[1]\n",
    "            \n",
    "            model.zero_grad()\n",
    "            model = model.to(device)\n",
    "\n",
    "            logits = model(points).detach().cpu()\n",
    "\n",
    "            points = points.cpu()\n",
    "            distances = distances.cpu()\n",
    "            model = model.cpu()\n",
    "            \n",
    "            if all_logits is None:\n",
    "                all_logits = logits\n",
    "            else:\n",
    "                all_logits = torch.cat((all_logits, logits))\n",
    "            \n",
    "            if all_distances is None:\n",
    "                all_distances = distances\n",
    "            else:\n",
    "                all_distances = torch.cat((all_distances, distances))\n",
    "            \n",
    "    \n",
    "    mse = mean_squared_error(all_distances, all_logits)\n",
    "    mse_on_mfld = mean_squared_error(all_distances[np.round(all_distances) == 0], all_logits[np.round(all_distances) == 0])\n",
    "    \n",
    "    \n",
    "    \n",
    "    print(\"MSE for the learned distances:\", mse)\n",
    "    print(\"MSE for the learned distances (on-manifold):\", mse_on_mfld)\n",
    "    return mse, mse_on_mfld, all_distances, all_logits\n",
    "    \n",
    "    # TODO: fix this for concentric dataset\n",
    "    \n",
    "            "
   ]
  },
  {
   "cell_type": "code",
   "execution_count": 24,
   "metadata": {},
   "outputs": [
    {
     "name": "stdout",
     "output_type": "stream",
     "text": [
      "center generated\n",
      "points generated\n"
     ]
    },
    {
     "data": {
      "application/vnd.jupyter.widget-view+json": {
       "model_id": "8cc3eea3d2444b439eb608dd4083d07c",
       "version_major": 2,
       "version_minor": 0
      },
      "text/plain": [
       "HBox(children=(FloatProgress(value=0.0, max=50000.0), HTML(value='')))"
      ]
     },
     "metadata": {},
     "output_type": "display_data"
    },
    {
     "name": "stdout",
     "output_type": "stream",
     "text": [
      "\n",
      "embedding done\n",
      "center generated\n",
      "points generated\n"
     ]
    },
    {
     "data": {
      "application/vnd.jupyter.widget-view+json": {
       "model_id": "73e9bbe5607d44c4901c1c8b387342c7",
       "version_major": 2,
       "version_minor": 0
      },
      "text/plain": [
       "HBox(children=(FloatProgress(value=0.0, max=25000.0), HTML(value='')))"
      ]
     },
     "metadata": {},
     "output_type": "display_data"
    },
    {
     "name": "stdout",
     "output_type": "stream",
     "text": [
      "\n",
      "embedding done\n",
      "center generated\n",
      "points generated\n"
     ]
    },
    {
     "data": {
      "application/vnd.jupyter.widget-view+json": {
       "model_id": "20f842191eb24f869e89e1d7047f7300",
       "version_major": 2,
       "version_minor": 0
      },
      "text/plain": [
       "HBox(children=(FloatProgress(value=0.0, max=50000.0), HTML(value='')))"
      ]
     },
     "metadata": {},
     "output_type": "display_data"
    },
    {
     "name": "stdout",
     "output_type": "stream",
     "text": [
      "\n",
      "embedding done\n"
     ]
    }
   ],
   "source": [
    "train_params = {\n",
    "    \"N\": 100000,\n",
    "    \"num_neg\": None,\n",
    "    \"n\": 1000,\n",
    "    \"k\": 2,\n",
    "    \"r\": 100.0,\n",
    "    \"D\": 200.0,\n",
    "    \"max_norm\": 500.0,\n",
    "    \"mu\": 1000,\n",
    "    \"sigma\": 5000,\n",
    "    \"seed\": 23\n",
    "}\n",
    "\n",
    "val_params = {\n",
    "    \"N\": 50000,\n",
    "    \"num_neg\": None,\n",
    "    \"n\": 1000,\n",
    "    \"k\": 2,\n",
    "    \"r\": 100.0,\n",
    "    \"D\": 200.0,\n",
    "    \"max_norm\": 500.0,\n",
    "    \"mu\": 1000,\n",
    "    \"sigma\": 5000,\n",
    "    \"seed\": 101\n",
    "}\n",
    "\n",
    "test_params = {\n",
    "    \"N\": 100000,\n",
    "    \"num_neg\": None,\n",
    "    \"n\": 1000,\n",
    "    \"k\": 2,\n",
    "    \"r\": 100.0,\n",
    "    \"D\": 200.0,\n",
    "    \"max_norm\": 500.0,\n",
    "    \"mu\": 1000,\n",
    "    \"sigma\": 5000,\n",
    "    \"seed\": 89\n",
    "}\n",
    "\n",
    "train_set = RandomSphere(**train_params)\n",
    "val_set = RandomSphere(**val_params)\n",
    "test_set = RandomSphere(**test_params)\n"
   ]
  },
  {
   "cell_type": "code",
   "execution_count": 110,
   "metadata": {},
   "outputs": [
    {
     "data": {
      "image/png": "[encoded data removed]",
      "text/plain": [
       "<Figure size 720x504 with 1 Axes>"
      ]
     },
     "metadata": {
      "needs_background": "light"
     },
     "output_type": "display_data"
    }
   ],
   "source": [
    "# Import libraries\n",
    "from mpl_toolkits import mplot3d\n",
    "import numpy as np\n",
    "import matplotlib.pyplot as plt\n",
    " \n",
    "\n",
    "# tmp = np.einsum('ij,kj->ki',Q,train_set.points_n)\n",
    "\n",
    "# Creating dataset\n",
    "z = train_set.points_n[5000:, 2]\n",
    "x = train_set.points_n[5000:, 0]\n",
    "y = train_set.points_n[5000:, 1]\n",
    "\n",
    "neg_samples = np.random.choice(np.arange(0, 5000), size=1000)\n",
    "z_neg = train_set.points_n[neg_samples, 2]\n",
    "x_neg = train_set.points_n[neg_samples, 0]\n",
    "y_neg = train_set.points_n[neg_samples, 1]\n",
    "\n",
    "# Creating figure\n",
    "fig = plt.figure(figsize = (10, 7))\n",
    "ax1 = plt.axes(projection =\"3d\")\n",
    "\n",
    "# Creating plot\n",
    "\n",
    "ax1.scatter3D(x, y, z, color=\"red\")\n",
    "# ax1.scatter3D(x_neg, y_neg, z_neg, color=\"green\", marker=\"^\")\n",
    "\n",
    "plt.title(\"simple 3D scatter plot\")\n",
    " \n",
    "# show plot\n",
    "plt.show()"
   ]
  },
  {
   "cell_type": "code",
   "execution_count": 78,
   "metadata": {},
   "outputs": [
    {
     "data": {
      "text/plain": [
       "[<matplotlib.lines.Line2D at 0x7f07ef92a320>]"
      ]
     },
     "execution_count": 78,
     "metadata": {},
     "output_type": "execute_result"
    },
    {
     "data": {
      "image/png": "[encoded data removed]",
      "text/plain": [
       "<Figure size 432x288 with 1 Axes>"
      ]
     },
     "metadata": {
      "needs_background": "light"
     },
     "output_type": "display_data"
    }
   ],
   "source": [
    "plt.plot(z_neg)"
   ]
  },
  {
   "cell_type": "code",
   "execution_count": 10,
   "metadata": {},
   "outputs": [
    {
     "ename": "NameError",
     "evalue": "name 'Q' is not defined",
     "output_type": "error",
     "traceback": [
      "\u001b[0;31m---------------------------------------------------------------------------\u001b[0m",
      "\u001b[0;31mNameError\u001b[0m                                 Traceback (most recent call last)",
      "\u001b[0;32m<ipython-input-10-24aa14daf966>\u001b[0m in \u001b[0;36m<module>\u001b[0;34m\u001b[0m\n\u001b[1;32m      5\u001b[0m \u001b[0;34m\u001b[0m\u001b[0m\n\u001b[1;32m      6\u001b[0m \u001b[0;34m\u001b[0m\u001b[0m\n\u001b[0;32m----> 7\u001b[0;31m \u001b[0mtmp\u001b[0m \u001b[0;34m=\u001b[0m \u001b[0mnp\u001b[0m\u001b[0;34m.\u001b[0m\u001b[0meinsum\u001b[0m\u001b[0;34m(\u001b[0m\u001b[0;34m'ij,kj->ki'\u001b[0m\u001b[0;34m,\u001b[0m\u001b[0mQ\u001b[0m\u001b[0;34m,\u001b[0m\u001b[0mtrain_set\u001b[0m\u001b[0;34m.\u001b[0m\u001b[0mpoints_n\u001b[0m\u001b[0;34m)\u001b[0m\u001b[0;34m\u001b[0m\u001b[0;34m\u001b[0m\u001b[0m\n\u001b[0m\u001b[1;32m      8\u001b[0m \u001b[0;31m# Creating dataset\u001b[0m\u001b[0;34m\u001b[0m\u001b[0;34m\u001b[0m\u001b[0;34m\u001b[0m\u001b[0m\n\u001b[1;32m      9\u001b[0m \u001b[0mz\u001b[0m \u001b[0;34m=\u001b[0m \u001b[0mtmp\u001b[0m\u001b[0;34m[\u001b[0m\u001b[0;36m5000\u001b[0m\u001b[0;34m:\u001b[0m\u001b[0;34m,\u001b[0m \u001b[0;36m2\u001b[0m\u001b[0;34m]\u001b[0m\u001b[0;34m\u001b[0m\u001b[0;34m\u001b[0m\u001b[0m\n",
      "\u001b[0;31mNameError\u001b[0m: name 'Q' is not defined"
     ]
    }
   ],
   "source": [
    "# Import libraries\n",
    "from mpl_toolkits import mplot3d\n",
    "import numpy as np\n",
    "import matplotlib.pyplot as plt\n",
    " \n",
    "\n",
    "tmp = np.einsum('ij,kj->ki',Q,train_set.points_n)\n",
    "# Creating dataset\n",
    "z = tmp[5000:, 2]\n",
    "x = tmp[5000:, 0]\n",
    "y = tmp[5000:, 1]\n",
    "\n",
    "z_neg = tmp[neg_samples, 2]\n",
    "x_neg = tmp[neg_samples, 0]\n",
    "y_neg = tmp[neg_samples, 1]\n",
    "\n",
    "# Creating figure\n",
    "fig = plt.figure(figsize = (10, 7))\n",
    "ax1 = plt.axes(projection =\"3d\")\n",
    "\n",
    "# Creating plot\n",
    "\n",
    "ax1.scatter3D(x, y, z, color=\"red\")\n",
    "ax1.scatter3D(x_neg, y_neg, z_neg, color=\"green\", marker=\"^\")\n",
    "\n",
    "\n",
    "plt.title(\"simple 3D scatter plot\")\n",
    " \n",
    "# show plot\n",
    "plt.show()"
   ]
  },
  {
   "cell_type": "code",
   "execution_count": 26,
   "metadata": {},
   "outputs": [],
   "source": [
    "BATCH_SIZE = 2048\n",
    "NUM_WORKERS = 9\n",
    "\n",
    "dataloaders = {\n",
    "    \"train\": DataLoader(dataset=train_set, shuffle=True, batch_size=BATCH_SIZE, num_workers=NUM_WORKERS),\n",
    "    \"val\": DataLoader(dataset=val_set, shuffle=True, batch_size=BATCH_SIZE, num_workers=NUM_WORKERS),\n",
    "    \"test\": DataLoader(dataset=test_set, shuffle=True, batch_size=BATCH_SIZE, num_workers=NUM_WORKERS)\n",
    "}"
   ]
  },
  {
   "cell_type": "code",
   "execution_count": 27,
   "metadata": {},
   "outputs": [
    {
     "data": {
      "text/plain": [
       "torch.Size([100000, 1000])"
      ]
     },
     "execution_count": 27,
     "metadata": {},
     "output_type": "execute_result"
    }
   ],
   "source": [
    "train_set.points_n.shape"
   ]
  },
  {
   "cell_type": "code",
   "execution_count": 65,
   "metadata": {},
   "outputs": [],
   "source": [
    "model = ConvNet2(input_size=1000, output_size=1)\n",
    "loss_func = nn.MSELoss()\n",
    "optimizer = optim.Adam(model.parameters(), weight_decay=0.005, lr=1e-3)\n",
    "\n",
    "device = torch.device(\"cuda\" if torch.cuda.is_available() else \"cpu\")\n",
    "\n",
    "NAME = \"ConvNet2_in1000_o1\"\n",
    "SAVE_DIR = \"../dumps/expB_learning_distance_from_mfld\""
   ]
  },
  {
   "cell_type": "code",
   "execution_count": null,
   "metadata": {},
   "outputs": [],
   "source": []
  },
  {
   "cell_type": "code",
   "execution_count": 66,
   "metadata": {},
   "outputs": [
    {
     "data": {
      "image/png": "[encoded data removed]",
      "text/plain": [
       "<Figure size 864x576 with 1 Axes>"
      ]
     },
     "metadata": {
      "needs_background": "light"
     },
     "output_type": "display_data"
    },
    {
     "name": "stdout",
     "output_type": "stream",
     "text": [
      "loss:\n",
      "training   (min: 2323.985, max: 10555.532, cur: 2329.586)\n",
      "validation (min: 1723.790, max: 9727.112, cur: 1774.823)\n"
     ]
    },
    {
     "ename": "KeyboardInterrupt",
     "evalue": "",
     "output_type": "error",
     "traceback": [
      "\u001b[0;31m---------------------------------------------------------------------------\u001b[0m",
      "\u001b[0;31mKeyboardInterrupt\u001b[0m                         Traceback (most recent call last)",
      "\u001b[0;32m<ipython-input-66-ec3d7856bb93>\u001b[0m in \u001b[0;36m<module>\u001b[0;34m\u001b[0m\n\u001b[0;32m----> 1\u001b[0;31m \u001b[0mmodel\u001b[0m\u001b[0;34m,\u001b[0m \u001b[0moptimizer\u001b[0m \u001b[0;34m=\u001b[0m \u001b[0mtrain\u001b[0m\u001b[0;34m(\u001b[0m\u001b[0mmodel\u001b[0m\u001b[0;34m,\u001b[0m \u001b[0moptimizer\u001b[0m\u001b[0;34m,\u001b[0m \u001b[0mloss_func\u001b[0m\u001b[0;34m,\u001b[0m \u001b[0mdataloaders\u001b[0m\u001b[0;34m,\u001b[0m \u001b[0mdevice\u001b[0m\u001b[0;34m,\u001b[0m \u001b[0mnum_epochs\u001b[0m\u001b[0;34m=\u001b[0m\u001b[0;36m10000\u001b[0m\u001b[0;34m,\u001b[0m \u001b[0msave_dir\u001b[0m\u001b[0;34m=\u001b[0m\u001b[0mSAVE_DIR\u001b[0m\u001b[0;34m,\u001b[0m \u001b[0mname\u001b[0m\u001b[0;34m=\u001b[0m\u001b[0mNAME\u001b[0m\u001b[0;34m)\u001b[0m\u001b[0;34m\u001b[0m\u001b[0;34m\u001b[0m\u001b[0m\n\u001b[0m\u001b[1;32m      2\u001b[0m \u001b[0;34m\u001b[0m\u001b[0m\n",
      "\u001b[0;32m<ipython-input-22-269fc20f6841>\u001b[0m in \u001b[0;36mtrain\u001b[0;34m(model, optimizer, loss, dataloaders, device, num_epochs, save_dir, name, scheduler)\u001b[0m\n\u001b[1;32m     77\u001b[0m                 \u001b[0mnum_batches\u001b[0m \u001b[0;34m=\u001b[0m \u001b[0mi\u001b[0m\u001b[0;34m\u001b[0m\u001b[0;34m\u001b[0m\u001b[0m\n\u001b[1;32m     78\u001b[0m \u001b[0;34m\u001b[0m\u001b[0m\n\u001b[0;32m---> 79\u001b[0;31m                 \u001b[0mpoints\u001b[0m \u001b[0;34m=\u001b[0m \u001b[0mpoints\u001b[0m\u001b[0;34m.\u001b[0m\u001b[0mcpu\u001b[0m\u001b[0;34m(\u001b[0m\u001b[0;34m)\u001b[0m\u001b[0;34m\u001b[0m\u001b[0;34m\u001b[0m\u001b[0m\n\u001b[0m\u001b[1;32m     80\u001b[0m                 \u001b[0mdistances\u001b[0m \u001b[0;34m=\u001b[0m \u001b[0mdistances\u001b[0m\u001b[0;34m.\u001b[0m\u001b[0mcpu\u001b[0m\u001b[0;34m(\u001b[0m\u001b[0;34m)\u001b[0m\u001b[0;34m\u001b[0m\u001b[0;34m\u001b[0m\u001b[0m\n\u001b[1;32m     81\u001b[0m                 \u001b[0mmodel\u001b[0m \u001b[0;34m=\u001b[0m \u001b[0mmodel\u001b[0m\u001b[0;34m.\u001b[0m\u001b[0mcpu\u001b[0m\u001b[0;34m(\u001b[0m\u001b[0;34m)\u001b[0m\u001b[0;34m\u001b[0m\u001b[0;34m\u001b[0m\u001b[0m\n",
      "\u001b[0;31mKeyboardInterrupt\u001b[0m: "
     ]
    }
   ],
   "source": [
    "model, optimizer = train(model, optimizer, loss_func, dataloaders, device, num_epochs=10000, save_dir=SAVE_DIR, name=NAME)\n",
    "\n"
   ]
  },
  {
   "cell_type": "code",
   "execution_count": 98,
   "metadata": {},
   "outputs": [
    {
     "data": {
      "application/vnd.jupyter.widget-view+json": {
       "model_id": "5970eae550e84f76b44d8f8e6cb96613",
       "version_major": 2,
       "version_minor": 0
      },
      "text/plain": [
       "HBox(children=(FloatProgress(value=0.0, max=49.0), HTML(value='')))"
      ]
     },
     "metadata": {},
     "output_type": "display_data"
    },
    {
     "name": "stdout",
     "output_type": "stream",
     "text": [
      "\n",
      "MSE for the learned distances: 1719.3748\n",
      "MSE for the learned distances (on-manifold): 578.3985\n"
     ]
    }
   ],
   "source": [
    "mse, mse_on_mfld, all_distances, all_logits = test(model, dataloaders[\"test\"], device)"
   ]
  },
  {
   "cell_type": "code",
   "execution_count": 103,
   "metadata": {},
   "outputs": [],
   "source": [
    "\n",
    "distances = all_distances.reshape(-1)[np.round(all_distances.reshape(-1), decimals=3) == 0]\n",
    "logits = all_logits.reshape(-1)[np.round(all_distances.reshape(-1), decimals=3) == 0]\n",
    "\n",
    "errors = torch.sqrt((distances - logits) ** 2)\n"
   ]
  },
  {
   "cell_type": "code",
   "execution_count": 114,
   "metadata": {},
   "outputs": [
    {
     "data": {
      "text/plain": [
       "Text(0.5, 1.0, 'error dist. for 2-dim mfld. embedded in 1000 dim space')"
      ]
     },
     "execution_count": 114,
     "metadata": {},
     "output_type": "execute_result"
    },
    {
     "data": {
      "image/png": "[encoded data removed]",
      "text/plain": [
       "<Figure size 432x288 with 1 Axes>"
      ]
     },
     "metadata": {
      "needs_background": "light"
     },
     "output_type": "display_data"
    }
   ],
   "source": [
    "plt.hist(errors.numpy())\n",
    "plt.xlabel(\"mse value\")\n",
    "plt.ylabel(\"freq\")\n",
    "plt.title(\"error dist. for 2-dim mfld. embedded in 1000 dim space\")"
   ]
  },
  {
   "cell_type": "markdown",
   "metadata": {},
   "source": [
    "# Trying to learn distance from multiple spheres"
   ]
  },
  {
   "cell_type": "code",
   "execution_count": null,
   "metadata": {},
   "outputs": [],
   "source": []
  },
  {
   "cell_type": "markdown",
   "metadata": {},
   "source": [
    "## Concentric Spheres"
   ]
  },
  {
   "cell_type": "code",
   "execution_count": 97,
   "metadata": {},
   "outputs": [],
   "source": [
    "class ConcentricSpheres(Dataset):\n",
    "    \n",
    "    \"\"\"\n",
    "    Class for generating dataset of concentric random\n",
    "    spheres lying in a low dimensional manifold\n",
    "    embedded in a higher dimensional space\n",
    "    \n",
    "    Note: no explicit -ve examples. Points on one sphere are\n",
    "    negative examples for the other\n",
    "    \"\"\"\n",
    "    \n",
    "    def __init__(self, num_spheres=2, N=[1000, 1000],\n",
    "                 n=100, k=3, r=[10.0, 20.0], D=[50.0, 55.0],\n",
    "                 mu=10, sigma=5, seed=42):\n",
    "        \n",
    "        \"\"\"\n",
    "        :param num_spheres: total number of spheres\n",
    "        :type num_spheres: int\n",
    "        :param N: total number of samples per sphere\n",
    "        :type N: list[int]\n",
    "        :param k: low (k)-dimensional manifold \n",
    "        :type k: int\n",
    "        :param n: dimension of manifold in which sphere is embedded\n",
    "        :type n: int\n",
    "        :param r: radii of the spheres\n",
    "        :type r: list[float]\n",
    "        :param D: list of clamping limits for negative examples\n",
    "        :type D: list[float]\n",
    "        :return: points\n",
    "        :param mu: mean of normal distribution from which we sample\n",
    "        :type: float\n",
    "        :param sigma: standard deviation of normal distribution from which we sample\n",
    "        :type: float\n",
    "        :param seed: random seed (default is the answer to the ultimate question!)\n",
    "        :type: int\n",
    "        \"\"\"\n",
    "        \n",
    "        self.num_spheres = num_spheres\n",
    "        self.N = N\n",
    "        self.n = n\n",
    "        self.k = k\n",
    "        self.r = r\n",
    "        self.D = D\n",
    "        self.mu = mu\n",
    "        self.sigma = sigma\n",
    "        self.seed = seed\n",
    "        \n",
    "        ## setting seed\n",
    "        torch.manual_seed(42)\n",
    "        np.random.seed(42)\n",
    "        \n",
    "        self.x_ck = None\n",
    "        \"\"\"center of the sphere\"\"\"\n",
    "        \n",
    "        self.x_cn = None\n",
    "        \"\"\"center of sphere in higher dimension\"\"\"\n",
    "        \n",
    "        self.points_k = None\n",
    "        \"\"\"points sampled from the sphere in k-dim\"\"\"\n",
    "        \n",
    "        self.points_n = None\n",
    "        \"\"\"embedding of `self.points_k` in n-dim\"\"\"\n",
    "        \n",
    "        self.actual_distances = None\n",
    "        \"\"\"actual distance of points from the sphere's surface\"\"\"\n",
    "        \n",
    "        self.distances = None\n",
    "        \"\"\"clamped distance of the point from the sphere's surface\"\"\"\n",
    "        \n",
    "        \n",
    "        self.translation = np.random.normal(self.mu, self.sigma, self.n)\n",
    "        \"\"\"randomly sampled translation transform\"\"\"\n",
    "        \n",
    "        \n",
    "        self.gen_center()\n",
    "        self.gen_points()\n",
    "        self.embed_in_n()\n",
    "        self.compute_distances()\n",
    "        \n",
    "        self.points_n = torch.from_numpy(self.points_n).float()\n",
    "        self.points_k = torch.from_numpy(self.points_k).float()\n",
    "        self.distances = torch.from_numpy(self.distances).float()\n",
    "        self.actual_distances = torch.from_numpy(self.actual_distances).float()\n",
    "        \n",
    "    def __len__(self):\n",
    "        return self.points_n.shape[0]\n",
    "    \n",
    "    def __getitem__(self, idx):\n",
    "        return self.points_n[idx], self.distances[idx]\n",
    "        \n",
    "        \n",
    "    def gen_center(self):\n",
    "        \"\"\"generate a center for both spheres in lower dimension\"\"\"\n",
    "        self.x_ck = np.random.normal(self.mu, self.sigma, self.k)\n",
    "        \n",
    "    def gen_points(self):\n",
    "        \"\"\"generating points in k-dim and embedding in n-dim\"\"\"\n",
    "        \n",
    "        for i in range(self.num_spheres):\n",
    "            \n",
    "            points_k = np.random.normal(self.mu, self.sigma, (self.N[i], self.k))\n",
    "            points_k = points_k - self.x_ck\n",
    "\n",
    "            norms = np.linalg.norm(points_k, axis=1, ord=2).reshape(-1, 1)\n",
    "            points_k = (points_k / norms)\n",
    "\n",
    "    #         print(np.round(np.linalg.norm(points_k, axis=1, ord=2))[np.ceil(np.linalg.norm(points_k, axis=1, ord=2)) > 1])\n",
    "\n",
    "            assert (np.round(np.linalg.norm(points_k, axis=1, ord=2)) == 1).all()\n",
    "\n",
    "            points_k = self.r[i] * points_k\n",
    "\n",
    "\n",
    "            if self.points_k is None:\n",
    "                self.points_k = points_k\n",
    "            else:\n",
    "                self.points_k = np.vstack((self.points_k, points_k))\n",
    "        \n",
    "        self.points_k = self.points_k + self.x_ck\n",
    "        \n",
    "        assert (np.round(np.linalg.norm(self.points_k - self.x_ck, axis=1, ord=2)) == np.array(sum([[self.r[i] for j in range(self.N[i])] for i in range(self.num_spheres)], []))).all()\n",
    "\n",
    "    \n",
    "    def embed_in_n(self):\n",
    "        \n",
    "        # embedding the center\n",
    "        self.x_cn = np.zeros(self.n)\n",
    "        self.x_cn[:self.k] = self.x_ck\n",
    "        self.x_cn = self.x_cn + self.translation         \n",
    "        \n",
    "        #embedding the points\n",
    "        tmp = [0] + self.N\n",
    "        for i in range(1, len(tmp)):\n",
    "            points_n = np.zeros((tmp[i], self.n))\n",
    "            points_n[:, :self.k] = self.points_k[tmp[i-1]:tmp[i-1]+tmp[i]]\n",
    "            if self.points_n is None:\n",
    "                self.points_n = points_n\n",
    "            else:\n",
    "                self.points_n = np.vstack((self.points_n, points_n))\n",
    "        \n",
    "        self.points_n = self.points_n + self.translation\n",
    "        assert (np.round(np.linalg.norm(self.points_n - self.x_cn, axis=1, ord=2)) == np.array(sum([[self.r[i] for j in range(self.N[i])] for i in range(self.num_spheres)], []))).all()\n",
    "\n",
    "        \n",
    "    def compute_distances(self):\n",
    "        \n",
    "        self.actual_distances = np.linalg.norm(self.points_n - self.x_cn, axis=1, ord=2).reshape(-1, 1) - self.r\n",
    "        self.distances = np.clip(self.actual_distances, a_min=0, a_max=self.D)\n",
    "        \n"
   ]
  },
  {
   "cell_type": "code",
   "execution_count": 98,
   "metadata": {},
   "outputs": [],
   "source": [
    "conc_train_params = {\n",
    "    \"num_spheres\": 2,\n",
    "    \"N\": [100000, 100000],\n",
    "    \"n\": 1000,\n",
    "    \"k\": 3,\n",
    "    \"r\": [10.0, 20.0],\n",
    "    \"D\": [50.0, 80.0],\n",
    "    \"mu\": 10,\n",
    "    \"sigma\": 5,\n",
    "    \"seed\": 42\n",
    "}\n",
    "\n",
    "conc_val_params = {\n",
    "    \"num_spheres\": 2,\n",
    "    \"N\": [50000, 50000],\n",
    "    \"n\": 1000,\n",
    "    \"k\": 3,\n",
    "    \"r\": [10.0, 20.0],\n",
    "    \"D\": [50.0, 80.0],\n",
    "    \"mu\": 10,\n",
    "    \"sigma\": 5,\n",
    "    \"seed\": 101\n",
    "}\n",
    "\n",
    "\n",
    "conc_test_params = {\n",
    "    \"num_spheres\": 2,\n",
    "    \"N\": [50000, 50000],\n",
    "    \"n\": 1000,\n",
    "    \"k\": 3,\n",
    "    \"r\": [10.0, 20.0],\n",
    "    \"D\": [50.0, 80.0],\n",
    "    \"mu\": 10,\n",
    "    \"sigma\": 5,\n",
    "    \"seed\": 79\n",
    "}\n",
    "\n",
    "\n",
    "conc_train_set = ConcentricSpheres(**conc_train_params)\n",
    "conc_val_set = ConcentricSpheres(**conc_val_params)\n",
    "conc_test_set = ConcentricSpheres(**conc_ test_params)\n"
   ]
  },
  {
   "cell_type": "code",
   "execution_count": 99,
   "metadata": {},
   "outputs": [],
   "source": [
    "BATCH_SIZE = 2048\n",
    "NUM_WORKERS = 9\n",
    "\n",
    "dataloaders = {\n",
    "    \"train\": DataLoader(dataset=conc_train_set, shuffle=True, batch_size=BATCH_SIZE, num_workers=NUM_WORKERS),\n",
    "    \"val\": DataLoader(dataset=conc_val_set, shuffle=True, batch_size=BATCH_SIZE, num_workers=NUM_WORKERS),\n",
    "    \"test\": DataLoader(dataset=conc_test_set, shuffle=True, batch_size=BATCH_SIZE, num_workers=NUM_WORKERS)\n",
    "}"
   ]
  },
  {
   "cell_type": "code",
   "execution_count": 100,
   "metadata": {},
   "outputs": [],
   "source": [
    "model = MLP(input_size=1000, output_size=2)\n",
    "loss_func = nn.MSELoss()\n",
    "optimizer = optim.Adam(model.parameters(), weight_decay=0.005, lr=1e-3)\n",
    "scheduler = StepLR(optimizer, step_size=30, gamma=0.1)\n",
    "\n",
    "\n",
    "device = torch.device(\"cuda\" if torch.cuda.is_available() else \"cpu\")\n",
    "\n",
    "NAME = \"MLP_in1000_H512x4_o2_conc\"\n",
    "SAVE_DIR = \"../dumps/expB_learning_distance_from_mfld\""
   ]
  },
  {
   "cell_type": "code",
   "execution_count": 101,
   "metadata": {},
   "outputs": [
    {
     "data": {
      "image/png": "[encoded data removed]",
      "text/plain": [
       "<Figure size 864x576 with 1 Axes>"
      ]
     },
     "metadata": {
      "needs_background": "light"
     },
     "output_type": "display_data"
    },
    {
     "name": "stdout",
     "output_type": "stream",
     "text": [
      "loss:\n",
      "training   (min:    3.537, max:   13.792, cur:    3.950)\n",
      "validation (min:    3.547, max:   20.301, cur:    6.640)\n"
     ]
    },
    {
     "ename": "KeyboardInterrupt",
     "evalue": "",
     "output_type": "error",
     "traceback": [
      "\u001b[0;31m---------------------------------------------------------------------------\u001b[0m",
      "\u001b[0;31mKeyboardInterrupt\u001b[0m                         Traceback (most recent call last)",
      "\u001b[0;32m<ipython-input-101-e23a6653799f>\u001b[0m in \u001b[0;36m<module>\u001b[0;34m\u001b[0m\n\u001b[0;32m----> 1\u001b[0;31m \u001b[0mmodel\u001b[0m\u001b[0;34m,\u001b[0m \u001b[0moptimizer\u001b[0m \u001b[0;34m=\u001b[0m \u001b[0mtrain\u001b[0m\u001b[0;34m(\u001b[0m\u001b[0mmodel\u001b[0m\u001b[0;34m,\u001b[0m \u001b[0moptimizer\u001b[0m\u001b[0;34m,\u001b[0m \u001b[0mloss_func\u001b[0m\u001b[0;34m,\u001b[0m \u001b[0mdataloaders\u001b[0m\u001b[0;34m,\u001b[0m \u001b[0mdevice\u001b[0m\u001b[0;34m,\u001b[0m \u001b[0mnum_epochs\u001b[0m\u001b[0;34m=\u001b[0m\u001b[0;36m10000\u001b[0m\u001b[0;34m,\u001b[0m \u001b[0msave_dir\u001b[0m\u001b[0;34m=\u001b[0m\u001b[0mSAVE_DIR\u001b[0m\u001b[0;34m,\u001b[0m \u001b[0mname\u001b[0m\u001b[0;34m=\u001b[0m\u001b[0mNAME\u001b[0m\u001b[0;34m)\u001b[0m\u001b[0;34m\u001b[0m\u001b[0;34m\u001b[0m\u001b[0m\n\u001b[0m",
      "\u001b[0;32m<ipython-input-96-ae30ba8a99a9>\u001b[0m in \u001b[0;36mtrain\u001b[0;34m(model, optimizer, loss, dataloaders, device, num_epochs, save_dir, name)\u001b[0m\n\u001b[1;32m     50\u001b[0m                 \u001b[0mprefix\u001b[0m \u001b[0;34m=\u001b[0m \u001b[0;34m\"val_\"\u001b[0m\u001b[0;34m\u001b[0m\u001b[0;34m\u001b[0m\u001b[0m\n\u001b[1;32m     51\u001b[0m \u001b[0;34m\u001b[0m\u001b[0m\n\u001b[0;32m---> 52\u001b[0;31m             \u001b[0;32mfor\u001b[0m \u001b[0;34m(\u001b[0m\u001b[0mi\u001b[0m\u001b[0;34m,\u001b[0m \u001b[0mbatch\u001b[0m\u001b[0;34m)\u001b[0m \u001b[0;32min\u001b[0m \u001b[0menumerate\u001b[0m\u001b[0;34m(\u001b[0m\u001b[0mdataloaders\u001b[0m\u001b[0;34m[\u001b[0m\u001b[0mphase\u001b[0m\u001b[0;34m]\u001b[0m\u001b[0;34m)\u001b[0m\u001b[0;34m:\u001b[0m\u001b[0;34m\u001b[0m\u001b[0;34m\u001b[0m\u001b[0m\n\u001b[0m\u001b[1;32m     53\u001b[0m \u001b[0;34m\u001b[0m\u001b[0m\n\u001b[1;32m     54\u001b[0m                 \u001b[0mpoints\u001b[0m \u001b[0;34m=\u001b[0m \u001b[0mbatch\u001b[0m\u001b[0;34m[\u001b[0m\u001b[0;36m0\u001b[0m\u001b[0;34m]\u001b[0m\u001b[0;34m.\u001b[0m\u001b[0mto\u001b[0m\u001b[0;34m(\u001b[0m\u001b[0mdevice\u001b[0m\u001b[0;34m)\u001b[0m\u001b[0;34m\u001b[0m\u001b[0;34m\u001b[0m\u001b[0m\n",
      "\u001b[0;32m/usr/local/lib/python3.6/dist-packages/torch/utils/data/dataloader.py\u001b[0m in \u001b[0;36m__iter__\u001b[0;34m(self)\u001b[0m\n\u001b[1;32m    357\u001b[0m             \u001b[0;32mreturn\u001b[0m \u001b[0mself\u001b[0m\u001b[0;34m.\u001b[0m\u001b[0m_iterator\u001b[0m\u001b[0;34m\u001b[0m\u001b[0;34m\u001b[0m\u001b[0m\n\u001b[1;32m    358\u001b[0m         \u001b[0;32melse\u001b[0m\u001b[0;34m:\u001b[0m\u001b[0;34m\u001b[0m\u001b[0;34m\u001b[0m\u001b[0m\n\u001b[0;32m--> 359\u001b[0;31m             \u001b[0;32mreturn\u001b[0m \u001b[0mself\u001b[0m\u001b[0;34m.\u001b[0m\u001b[0m_get_iterator\u001b[0m\u001b[0;34m(\u001b[0m\u001b[0;34m)\u001b[0m\u001b[0;34m\u001b[0m\u001b[0;34m\u001b[0m\u001b[0m\n\u001b[0m\u001b[1;32m    360\u001b[0m \u001b[0;34m\u001b[0m\u001b[0m\n\u001b[1;32m    361\u001b[0m     \u001b[0;34m@\u001b[0m\u001b[0mproperty\u001b[0m\u001b[0;34m\u001b[0m\u001b[0;34m\u001b[0m\u001b[0m\n",
      "\u001b[0;32m/usr/local/lib/python3.6/dist-packages/torch/utils/data/dataloader.py\u001b[0m in \u001b[0;36m_get_iterator\u001b[0;34m(self)\u001b[0m\n\u001b[1;32m    299\u001b[0m         \u001b[0;32melse\u001b[0m\u001b[0;34m:\u001b[0m\u001b[0;34m\u001b[0m\u001b[0;34m\u001b[0m\u001b[0m\n\u001b[1;32m    300\u001b[0m             \u001b[0mself\u001b[0m\u001b[0;34m.\u001b[0m\u001b[0mcheck_worker_number_rationality\u001b[0m\u001b[0;34m(\u001b[0m\u001b[0;34m)\u001b[0m\u001b[0;34m\u001b[0m\u001b[0;34m\u001b[0m\u001b[0m\n\u001b[0;32m--> 301\u001b[0;31m             \u001b[0;32mreturn\u001b[0m \u001b[0m_MultiProcessingDataLoaderIter\u001b[0m\u001b[0;34m(\u001b[0m\u001b[0mself\u001b[0m\u001b[0;34m)\u001b[0m\u001b[0;34m\u001b[0m\u001b[0;34m\u001b[0m\u001b[0m\n\u001b[0m\u001b[1;32m    302\u001b[0m \u001b[0;34m\u001b[0m\u001b[0m\n\u001b[1;32m    303\u001b[0m     \u001b[0;34m@\u001b[0m\u001b[0mproperty\u001b[0m\u001b[0;34m\u001b[0m\u001b[0;34m\u001b[0m\u001b[0m\n",
      "\u001b[0;32m/usr/local/lib/python3.6/dist-packages/torch/utils/data/dataloader.py\u001b[0m in \u001b[0;36m__init__\u001b[0;34m(self, loader)\u001b[0m\n\u001b[1;32m    916\u001b[0m             \u001b[0;31m#     before it starts, and __del__ tries to join but will get:\u001b[0m\u001b[0;34m\u001b[0m\u001b[0;34m\u001b[0m\u001b[0;34m\u001b[0m\u001b[0m\n\u001b[1;32m    917\u001b[0m             \u001b[0;31m#     AssertionError: can only join a started process.\u001b[0m\u001b[0;34m\u001b[0m\u001b[0;34m\u001b[0m\u001b[0;34m\u001b[0m\u001b[0m\n\u001b[0;32m--> 918\u001b[0;31m             \u001b[0mw\u001b[0m\u001b[0;34m.\u001b[0m\u001b[0mstart\u001b[0m\u001b[0;34m(\u001b[0m\u001b[0;34m)\u001b[0m\u001b[0;34m\u001b[0m\u001b[0;34m\u001b[0m\u001b[0m\n\u001b[0m\u001b[1;32m    919\u001b[0m             \u001b[0mself\u001b[0m\u001b[0;34m.\u001b[0m\u001b[0m_index_queues\u001b[0m\u001b[0;34m.\u001b[0m\u001b[0mappend\u001b[0m\u001b[0;34m(\u001b[0m\u001b[0mindex_queue\u001b[0m\u001b[0;34m)\u001b[0m\u001b[0;34m\u001b[0m\u001b[0;34m\u001b[0m\u001b[0m\n\u001b[1;32m    920\u001b[0m             \u001b[0mself\u001b[0m\u001b[0;34m.\u001b[0m\u001b[0m_workers\u001b[0m\u001b[0;34m.\u001b[0m\u001b[0mappend\u001b[0m\u001b[0;34m(\u001b[0m\u001b[0mw\u001b[0m\u001b[0;34m)\u001b[0m\u001b[0;34m\u001b[0m\u001b[0;34m\u001b[0m\u001b[0m\n",
      "\u001b[0;32m/usr/lib/python3.6/multiprocessing/process.py\u001b[0m in \u001b[0;36mstart\u001b[0;34m(self)\u001b[0m\n\u001b[1;32m    103\u001b[0m                \u001b[0;34m'daemonic processes are not allowed to have children'\u001b[0m\u001b[0;34m\u001b[0m\u001b[0;34m\u001b[0m\u001b[0m\n\u001b[1;32m    104\u001b[0m         \u001b[0m_cleanup\u001b[0m\u001b[0;34m(\u001b[0m\u001b[0;34m)\u001b[0m\u001b[0;34m\u001b[0m\u001b[0;34m\u001b[0m\u001b[0m\n\u001b[0;32m--> 105\u001b[0;31m         \u001b[0mself\u001b[0m\u001b[0;34m.\u001b[0m\u001b[0m_popen\u001b[0m \u001b[0;34m=\u001b[0m \u001b[0mself\u001b[0m\u001b[0;34m.\u001b[0m\u001b[0m_Popen\u001b[0m\u001b[0;34m(\u001b[0m\u001b[0mself\u001b[0m\u001b[0;34m)\u001b[0m\u001b[0;34m\u001b[0m\u001b[0;34m\u001b[0m\u001b[0m\n\u001b[0m\u001b[1;32m    106\u001b[0m         \u001b[0mself\u001b[0m\u001b[0;34m.\u001b[0m\u001b[0m_sentinel\u001b[0m \u001b[0;34m=\u001b[0m \u001b[0mself\u001b[0m\u001b[0;34m.\u001b[0m\u001b[0m_popen\u001b[0m\u001b[0;34m.\u001b[0m\u001b[0msentinel\u001b[0m\u001b[0;34m\u001b[0m\u001b[0;34m\u001b[0m\u001b[0m\n\u001b[1;32m    107\u001b[0m         \u001b[0;31m# Avoid a refcycle if the target function holds an indirect\u001b[0m\u001b[0;34m\u001b[0m\u001b[0;34m\u001b[0m\u001b[0;34m\u001b[0m\u001b[0m\n",
      "\u001b[0;32m/usr/lib/python3.6/multiprocessing/context.py\u001b[0m in \u001b[0;36m_Popen\u001b[0;34m(process_obj)\u001b[0m\n\u001b[1;32m    221\u001b[0m     \u001b[0;34m@\u001b[0m\u001b[0mstaticmethod\u001b[0m\u001b[0;34m\u001b[0m\u001b[0;34m\u001b[0m\u001b[0m\n\u001b[1;32m    222\u001b[0m     \u001b[0;32mdef\u001b[0m \u001b[0m_Popen\u001b[0m\u001b[0;34m(\u001b[0m\u001b[0mprocess_obj\u001b[0m\u001b[0;34m)\u001b[0m\u001b[0;34m:\u001b[0m\u001b[0;34m\u001b[0m\u001b[0;34m\u001b[0m\u001b[0m\n\u001b[0;32m--> 223\u001b[0;31m         \u001b[0;32mreturn\u001b[0m \u001b[0m_default_context\u001b[0m\u001b[0;34m.\u001b[0m\u001b[0mget_context\u001b[0m\u001b[0;34m(\u001b[0m\u001b[0;34m)\u001b[0m\u001b[0;34m.\u001b[0m\u001b[0mProcess\u001b[0m\u001b[0;34m.\u001b[0m\u001b[0m_Popen\u001b[0m\u001b[0;34m(\u001b[0m\u001b[0mprocess_obj\u001b[0m\u001b[0;34m)\u001b[0m\u001b[0;34m\u001b[0m\u001b[0;34m\u001b[0m\u001b[0m\n\u001b[0m\u001b[1;32m    224\u001b[0m \u001b[0;34m\u001b[0m\u001b[0m\n\u001b[1;32m    225\u001b[0m \u001b[0;32mclass\u001b[0m \u001b[0mDefaultContext\u001b[0m\u001b[0;34m(\u001b[0m\u001b[0mBaseContext\u001b[0m\u001b[0;34m)\u001b[0m\u001b[0;34m:\u001b[0m\u001b[0;34m\u001b[0m\u001b[0;34m\u001b[0m\u001b[0m\n",
      "\u001b[0;32m/usr/lib/python3.6/multiprocessing/context.py\u001b[0m in \u001b[0;36m_Popen\u001b[0;34m(process_obj)\u001b[0m\n\u001b[1;32m    275\u001b[0m         \u001b[0;32mdef\u001b[0m \u001b[0m_Popen\u001b[0m\u001b[0;34m(\u001b[0m\u001b[0mprocess_obj\u001b[0m\u001b[0;34m)\u001b[0m\u001b[0;34m:\u001b[0m\u001b[0;34m\u001b[0m\u001b[0;34m\u001b[0m\u001b[0m\n\u001b[1;32m    276\u001b[0m             \u001b[0;32mfrom\u001b[0m \u001b[0;34m.\u001b[0m\u001b[0mpopen_fork\u001b[0m \u001b[0;32mimport\u001b[0m \u001b[0mPopen\u001b[0m\u001b[0;34m\u001b[0m\u001b[0;34m\u001b[0m\u001b[0m\n\u001b[0;32m--> 277\u001b[0;31m             \u001b[0;32mreturn\u001b[0m \u001b[0mPopen\u001b[0m\u001b[0;34m(\u001b[0m\u001b[0mprocess_obj\u001b[0m\u001b[0;34m)\u001b[0m\u001b[0;34m\u001b[0m\u001b[0;34m\u001b[0m\u001b[0m\n\u001b[0m\u001b[1;32m    278\u001b[0m \u001b[0;34m\u001b[0m\u001b[0m\n\u001b[1;32m    279\u001b[0m     \u001b[0;32mclass\u001b[0m \u001b[0mSpawnProcess\u001b[0m\u001b[0;34m(\u001b[0m\u001b[0mprocess\u001b[0m\u001b[0;34m.\u001b[0m\u001b[0mBaseProcess\u001b[0m\u001b[0;34m)\u001b[0m\u001b[0;34m:\u001b[0m\u001b[0;34m\u001b[0m\u001b[0;34m\u001b[0m\u001b[0m\n",
      "\u001b[0;32m/usr/lib/python3.6/multiprocessing/popen_fork.py\u001b[0m in \u001b[0;36m__init__\u001b[0;34m(self, process_obj)\u001b[0m\n\u001b[1;32m     17\u001b[0m         \u001b[0mutil\u001b[0m\u001b[0;34m.\u001b[0m\u001b[0m_flush_std_streams\u001b[0m\u001b[0;34m(\u001b[0m\u001b[0;34m)\u001b[0m\u001b[0;34m\u001b[0m\u001b[0;34m\u001b[0m\u001b[0m\n\u001b[1;32m     18\u001b[0m         \u001b[0mself\u001b[0m\u001b[0;34m.\u001b[0m\u001b[0mreturncode\u001b[0m \u001b[0;34m=\u001b[0m \u001b[0;32mNone\u001b[0m\u001b[0;34m\u001b[0m\u001b[0;34m\u001b[0m\u001b[0m\n\u001b[0;32m---> 19\u001b[0;31m         \u001b[0mself\u001b[0m\u001b[0;34m.\u001b[0m\u001b[0m_launch\u001b[0m\u001b[0;34m(\u001b[0m\u001b[0mprocess_obj\u001b[0m\u001b[0;34m)\u001b[0m\u001b[0;34m\u001b[0m\u001b[0;34m\u001b[0m\u001b[0m\n\u001b[0m\u001b[1;32m     20\u001b[0m \u001b[0;34m\u001b[0m\u001b[0m\n\u001b[1;32m     21\u001b[0m     \u001b[0;32mdef\u001b[0m \u001b[0mduplicate_for_child\u001b[0m\u001b[0;34m(\u001b[0m\u001b[0mself\u001b[0m\u001b[0;34m,\u001b[0m \u001b[0mfd\u001b[0m\u001b[0;34m)\u001b[0m\u001b[0;34m:\u001b[0m\u001b[0;34m\u001b[0m\u001b[0;34m\u001b[0m\u001b[0m\n",
      "\u001b[0;32m/usr/lib/python3.6/multiprocessing/popen_fork.py\u001b[0m in \u001b[0;36m_launch\u001b[0;34m(self, process_obj)\u001b[0m\n\u001b[1;32m     64\u001b[0m         \u001b[0mcode\u001b[0m \u001b[0;34m=\u001b[0m \u001b[0;36m1\u001b[0m\u001b[0;34m\u001b[0m\u001b[0;34m\u001b[0m\u001b[0m\n\u001b[1;32m     65\u001b[0m         \u001b[0mparent_r\u001b[0m\u001b[0;34m,\u001b[0m \u001b[0mchild_w\u001b[0m \u001b[0;34m=\u001b[0m \u001b[0mos\u001b[0m\u001b[0;34m.\u001b[0m\u001b[0mpipe\u001b[0m\u001b[0;34m(\u001b[0m\u001b[0;34m)\u001b[0m\u001b[0;34m\u001b[0m\u001b[0;34m\u001b[0m\u001b[0m\n\u001b[0;32m---> 66\u001b[0;31m         \u001b[0mself\u001b[0m\u001b[0;34m.\u001b[0m\u001b[0mpid\u001b[0m \u001b[0;34m=\u001b[0m \u001b[0mos\u001b[0m\u001b[0;34m.\u001b[0m\u001b[0mfork\u001b[0m\u001b[0;34m(\u001b[0m\u001b[0;34m)\u001b[0m\u001b[0;34m\u001b[0m\u001b[0;34m\u001b[0m\u001b[0m\n\u001b[0m\u001b[1;32m     67\u001b[0m         \u001b[0;32mif\u001b[0m \u001b[0mself\u001b[0m\u001b[0;34m.\u001b[0m\u001b[0mpid\u001b[0m \u001b[0;34m==\u001b[0m \u001b[0;36m0\u001b[0m\u001b[0;34m:\u001b[0m\u001b[0;34m\u001b[0m\u001b[0;34m\u001b[0m\u001b[0m\n\u001b[1;32m     68\u001b[0m             \u001b[0;32mtry\u001b[0m\u001b[0;34m:\u001b[0m\u001b[0;34m\u001b[0m\u001b[0;34m\u001b[0m\u001b[0m\n",
      "\u001b[0;31mKeyboardInterrupt\u001b[0m: "
     ]
    }
   ],
   "source": [
    "model, optimizer = train(model, optimizer, loss_func, dataloaders, device, num_epochs=10000, save_dir=SAVE_DIR, name=NAME, scheduler=-0.5)\n"
   ]
  },
  {
   "cell_type": "code",
   "execution_count": 163,
   "metadata": {},
   "outputs": [
    {
     "data": {
      "text/plain": [
       "array([5., 5., 5.])"
      ]
     },
     "execution_count": 163,
     "metadata": {},
     "output_type": "execute_result"
    }
   ],
   "source": [
    "np.sum(np.arange(2, 4).reshape(-1, 1) * np.ones((2, 3)), axis=0)\n",
    "\n",
    "\n"
   ]
  },
  {
   "cell_type": "code",
   "execution_count": 104,
   "metadata": {},
   "outputs": [
    {
     "data": {
      "text/plain": [
       "array([[1.],\n",
       "       [1.],\n",
       "       [1.]])"
      ]
     },
     "execution_count": 104,
     "metadata": {},
     "output_type": "execute_result"
    }
   ],
   "source": [
    "np.arange(2, 5).reshape(-1, 1) / np.arange(2, 5).reshape(-1, 1)"
   ]
  },
  {
   "cell_type": "code",
   "execution_count": 11,
   "metadata": {},
   "outputs": [],
   "source": [
    "A = np.random.randn(3, 3)"
   ]
  },
  {
   "cell_type": "code",
   "execution_count": 12,
   "metadata": {},
   "outputs": [],
   "source": [
    "Q = np.linalg.qr(A)[0]"
   ]
  },
  {
   "cell_type": "code",
   "execution_count": 289,
   "metadata": {},
   "outputs": [
    {
     "data": {
      "text/plain": [
       "<AxesSubplot:>"
      ]
     },
     "execution_count": 289,
     "metadata": {},
     "output_type": "execute_result"
    },
    {
     "data": {
      "image/png": "[encoded data removed]",
      "text/plain": [
       "<Figure size 432x288 with 2 Axes>"
      ]
     },
     "metadata": {
      "needs_background": "light"
     },
     "output_type": "display_data"
    }
   ],
   "source": [
    "sns.heatmap(np.dot(Q, Q.T))"
   ]
  },
  {
   "cell_type": "code",
   "execution_count": 290,
   "metadata": {},
   "outputs": [],
   "source": [
    "U, S, V = np.linalg.svd(A, full_matrices=False)"
   ]
  },
  {
   "cell_type": "code",
   "execution_count": 291,
   "metadata": {},
   "outputs": [
    {
     "data": {
      "text/plain": [
       "(3, 3)"
      ]
     },
     "execution_count": 291,
     "metadata": {},
     "output_type": "execute_result"
    }
   ],
   "source": [
    "U.shape"
   ]
  },
  {
   "cell_type": "code",
   "execution_count": 292,
   "metadata": {},
   "outputs": [
    {
     "data": {
      "text/plain": [
       "<AxesSubplot:>"
      ]
     },
     "execution_count": 292,
     "metadata": {},
     "output_type": "execute_result"
    },
    {
     "data": {
      "image/png": "[encoded data removed]",
      "text/plain": [
       "<Figure size 432x288 with 2 Axes>"
      ]
     },
     "metadata": {
      "needs_background": "light"
     },
     "output_type": "display_data"
    }
   ],
   "source": [
    "sns.heatmap(np.dot(U, U.T))"
   ]
  },
  {
   "cell_type": "code",
   "execution_count": 293,
   "metadata": {},
   "outputs": [
    {
     "data": {
      "text/plain": [
       "3"
      ]
     },
     "execution_count": 293,
     "metadata": {},
     "output_type": "execute_result"
    }
   ],
   "source": [
    "np.linalg.matrix_rank(A)"
   ]
  },
  {
   "cell_type": "code",
   "execution_count": 294,
   "metadata": {},
   "outputs": [
    {
     "data": {
      "text/plain": [
       "array([[ 1.00000000e+00,  3.11103894e-16, -7.46346366e-18],\n",
       "       [ 3.11103894e-16,  1.00000000e+00,  1.38632026e-16],\n",
       "       [-7.46346366e-18,  1.38632026e-16,  1.00000000e+00]])"
      ]
     },
     "execution_count": 294,
     "metadata": {},
     "output_type": "execute_result"
    }
   ],
   "source": [
    "np.dot(Q, Q.T)"
   ]
  },
  {
   "cell_type": "code",
   "execution_count": null,
   "metadata": {},
   "outputs": [],
   "source": []
  }
 ],
 "metadata": {
  "celltoolbar": "Raw Cell Format",
  "kernelspec": {
   "display_name": "Python 3",
   "language": "python",
   "name": "python3"
  },
  "language_info": {
   "codemirror_mode": {
    "name": "ipython",
    "version": 3
   },
   "file_extension": ".py",
   "mimetype": "text/x-python",
   "name": "python",
   "nbconvert_exporter": "python",
   "pygments_lexer": "ipython3",
   "version": "3.6.9"
  }
 },
 "nbformat": 4,
 "nbformat_minor": 4
}
