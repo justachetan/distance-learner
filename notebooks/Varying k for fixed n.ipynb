{
 "cells": [
  {
   "cell_type": "code",
   "execution_count": 1,
   "metadata": {},
   "outputs": [],
   "source": [
    "import os\n",
    "os.chdir(\"../src/expB/\")\n"
   ]
  },
  {
   "cell_type": "markdown",
   "metadata": {},
   "source": [
    "# Generating the dataset"
   ]
  },
  {
   "cell_type": "code",
   "execution_count": 2,
   "metadata": {},
   "outputs": [
    {
     "name": "stdout",
     "output_type": "stream",
     "text": [
      "center generated\n",
      "points generated\n",
      "pre-images generated\n",
      "[1. 0. 0. ... 0. 0. 0.]\n",
      "embedding done\n",
      "normalization complete\n",
      "center generated\n",
      "points generated\n",
      "pre-images generated\n",
      "[1. 1. 0. ... 0. 1. 1.]\n",
      "embedding done\n",
      "normalization complete\n",
      "center generated\n",
      "points generated\n",
      "pre-images generated\n",
      "[1. 1. 0. ... 0. 1. 1.]\n",
      "embedding done\n",
      "normalization complete\n"
     ]
    }
   ],
   "source": [
    "%run -i spheres_v2.py --config ./data_configs/sphere_config.json --save_dir /azuredrive/datasets/expB/one_sphere/k=20,n=1000,r=0.5/\n",
    "\n",
    "\n",
    "\n"
   ]
  },
  {
   "cell_type": "code",
   "execution_count": 4,
   "metadata": {},
   "outputs": [
    {
     "data": {
      "text/plain": [
       "'cuda:10'"
      ]
     },
     "execution_count": 4,
     "metadata": {},
     "output_type": "execute_result"
    }
   ],
   "source": []
  },
  {
   "cell_type": "code",
   "execution_count": null,
   "metadata": {},
   "outputs": [],
   "source": []
  }
 ],
 "metadata": {
  "kernelspec": {
   "display_name": "Python 3",
   "language": "python",
   "name": "python3"
  },
  "language_info": {
   "codemirror_mode": {
    "name": "ipython",
    "version": 3
   },
   "file_extension": ".py",
   "mimetype": "text/x-python",
   "name": "python",
   "nbconvert_exporter": "python",
   "pygments_lexer": "ipython3",
   "version": "3.6.9"
  }
 },
 "nbformat": 4,
 "nbformat_minor": 4
}
