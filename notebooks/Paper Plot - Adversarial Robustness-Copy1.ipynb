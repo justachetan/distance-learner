{
 "cells": [
  {
   "cell_type": "code",
   "execution_count": 3,
   "metadata": {},
   "outputs": [],
   "source": [
    "import os\n",
    "import re\n",
    "import sys\n",
    "import json\n",
    "import copy\n",
    "import glob\n",
    "\n",
    "import numpy as np\n",
    "import pandas as pd\n",
    "import matplotlib.pyplot as plt\n",
    "import matplotlib.image as mpimg\n",
    "from matplotlib.backends.backend_pdf import PdfPages\n",
    "\n",
    "import torch\n",
    "\n",
    "import seaborn as sns\n",
    "\n",
    "import IPython.display\n",
    "\n",
    "import ipywidgets as widgets"
   ]
  },
  {
   "cell_type": "code",
   "execution_count": 4,
   "metadata": {},
   "outputs": [],
   "source": [
    "import matplotlib\n",
    "font = {'family' : 'sans-serif',\n",
    "        'size'   : 14}\n",
    "\n",
    "matplotlib.rc('font', **font)"
   ]
  },
  {
   "cell_type": "code",
   "execution_count": 6,
   "metadata": {},
   "outputs": [],
   "source": [
    "RES_DIR = \"/data/t-achetan/dumps/expC_dist_learner_for_adv_ex/rdm_concspheres_test/attack_perfs_on_runs/all_attack_perfs/\"\n",
    "\n",
    "all_run_files = [i for i in os.listdir(RES_DIR) if i.endswith(\".json\")]\n",
    "all_run_files\n",
    "\n",
    "req_files_k50n500 = [\n",
    "#     \"rdm_concspheres_k50n500_noninfdist_moreoffmfldv3_bs4096-2-clf.json\",\n",
    "#     \"rdm_concspheres_k50n500_noninfdist_moreoffmfld_advtraindebug_bs4096_eps=5e-2-2-clf.json\",\n",
    "#     \"rdm_concspheres_k50n500_noninfdist_moreoffmfld_advtraindebug_bs4096_eps=8e-2-1-clf.json\",\n",
    "#     \"rdm_concspheres_k50n500_noninfdist_moreoffmfld_advtraindebug_eps=1e-1-1-clf.json\",\n",
    "#     \"rdm_concspheres_k50n500_noninfdist_moreoffmfldv3_bs4096_highmn40_inferred_maxtdelta_1e-3-1-regression_last.json\",\n",
    "#     \"rdm_concspheres_k50n500_noninfdist_moreoffmfldv3_bs4096_highmn40_inferred_maxtdelta_2.5e-3-1-regression_last.json\",\n",
    "#     \"rdm_concspheres_k50n500_noninfdist_moreoffmfldv3_bs4096_highmn40_inferred_maxtdelta_5e-3-2-regression_last.json\",\n",
    "    \"rdm_swrolls_k2n500_noninfdist_moreoffmfld__bs4096_inferred_maxtdelta=1e=3--clf_best.json\",\n",
    "    \"rdm_swrolls_k2n500_noninfdist_moreoffmfld__bs4096_inferred_maxtdelta=1e=3--regression_best.json\"\n",
    "    \n",
    "]\n",
    "\n",
    "req_labels_k50n500 = [\n",
    "    \"SC\",\n",
    "#     r\"RC ($\\eta=5\\mathrm{e}-2$)\",\n",
    "#     r\"RC ($\\eta=8\\mathrm{e}-2$)\",\n",
    "#     r\"RC ($\\epsilon=1\\mathrm{e}-1$)\",\n",
    "#     r\"DL ($max\\_tang=1\\mathrm{e}-3$)\",\n",
    "#     r\"DL ($max\\_tang=2.5\\mathrm{e}-3$)\",\n",
    "    r\"DL\",\n",
    "]\n",
    "\n",
    "markers = [\"o\", \"X\", \"s\", \"D\"]"
   ]
  },
  {
   "cell_type": "code",
   "execution_count": 7,
   "metadata": {},
   "outputs": [],
   "source": [
    "master_df = None\n",
    "for f in req_files_k50n500:\n",
    "    res_file = os.path.join(RES_DIR, f)\n",
    "    if master_df is None:\n",
    "        master_df = pd.read_json(res_file)\n",
    "    else:\n",
    "        tmp = pd.read_json(res_file)\n",
    "        master_df = pd.concat([master_df, tmp], ignore_index=True)\n",
    "columns = master_df.columns.tolist()\n",
    "drop_dup_by_columns = [i for i in columns if \"clf_report\" not in i]\n",
    "master_df.drop_duplicates(drop_dup_by_columns, inplace=True)"
   ]
  },
  {
   "cell_type": "code",
   "execution_count": 37,
   "metadata": {},
   "outputs": [],
   "source": [
    "#### setting hyperparameters which will be fixed!!!\n",
    "\n",
    "ths = [0.004]\n",
    "eps_iter = 5e-03\n",
    "count_offmfld_pred_corr = False # count off manifold predictions as accurate\n",
    "discard_offmfld_pred = False\n",
    "off_mfld_label = \"2\"\n",
    "# N = 100000\n"
   ]
  },
  {
   "cell_type": "code",
   "execution_count": 38,
   "metadata": {},
   "outputs": [
    {
     "data": {
      "image/png": "[encoded data removed]",
      "text/plain": [
       "<Figure size 432x288 with 1 Axes>"
      ]
     },
     "metadata": {
      "needs_background": "light"
     },
     "output_type": "display_data"
    }
   ],
   "source": [
    "fig, axs = plt.subplots(1, 1, figsize=(6, 4), sharey=True)\n",
    "\n",
    "for k in range(len(ths)):\n",
    "    thresh = ths[k]\n",
    "    for j in range(len(req_files_k50n500)):\n",
    "        file = req_files_k50n500[j]\n",
    "        full_fn = os.path.join(RES_DIR, file)\n",
    "        df = pd.read_json(full_fn)\n",
    "\n",
    "        eps_arr = df.eps.unique()[:-1]\n",
    "\n",
    "        task = df.task.unique()[0]\n",
    "        run_tag = None\n",
    "        run_id = None\n",
    "        try:\n",
    "            run_tag = df.run_tag.unique()[0]\n",
    "            run_id = df.run_id.unique()[0]\n",
    "        except:\n",
    "            run_tag = \"rdm_concspheres_k50n500_noninfdist\"\n",
    "            run_id = 1\n",
    "        perf = np.zeros(eps_arr.shape)\n",
    "    #         print(file)\n",
    "        for i in range(eps_arr.shape[0]):\n",
    "            eps = eps_arr[i]\n",
    "            if task == \"dist\":\n",
    "                path_to_load = df[(np.round(df.thresh, 3) == thresh) & (df.eps == eps) & (np.round(df.eps_iter, 3) == eps_iter)].adv_pct_cm.tolist()[0]\n",
    "                if not os.path.exists(path_to_load):\n",
    "                    tmp = path_to_load.find(\"t-achetan\")\n",
    "                    offset = 10\n",
    "                    if \"t-achetan_2\" in path_to_load:\n",
    "                        offset = 12\n",
    "                    path_to_load = path_to_load[:tmp] + path_to_load[tmp+offset:]\n",
    "                adv_pct_cm_df = pd.read_csv(path_to_load, index_col=0)\n",
    "                adv_pct_cm = adv_pct_cm_df.to_numpy()\n",
    "                perf[i] = np.trace(adv_pct_cm)\n",
    "                if count_offmfld_pred_corr:\n",
    "                    if off_mfld_label in adv_pct_cm_df.columns: \n",
    "                        off_mfld_stats = adv_pct_cm_df[\"2\"].to_numpy()\n",
    "                        if off_mfld_stats.shape[0] == adv_pct_cm.shape[0]:\n",
    "                            perf[i] += np.sum(off_mfld_stats[:-1])\n",
    "                        else:\n",
    "                            perf[i] += np.sum(off_mfld_stats[:])\n",
    "                elif discard_offmfld_pred:\n",
    "                    end_row = adv_pct_cm.shape[0]\n",
    "                    end_col = adv_pct_cm.shape[1]\n",
    "                    if off_mfld_label in adv_pct_cm_df.columns:\n",
    "                        end_col = -1\n",
    "                    if end_row == int(off_mfld_label) + 1:\n",
    "                        end_row = -1\n",
    "                    perf[i] = np.trace(adv_pct_cm[:end_row, :end_col]) / np.sum(adv_pct_cm[:end_row, :end_col])\n",
    "\n",
    "            elif task == \"clf\":\n",
    "                path_to_load = df[(df.eps == eps) & (np.round(df.eps_iter, 3) == eps_iter)].adv_pct_cm.tolist()[0]\n",
    "                if not os.path.exists(path_to_load):\n",
    "                    tmp = path_to_load.find(\"t-achetan\")\n",
    "                    path_to_load = path_to_load[:tmp] + path_to_load[tmp+8:]\n",
    "\n",
    "                adv_pct_cm = pd.read_csv(path_to_load, index_col=0).to_numpy()\n",
    "                perf[i] = np.trace(adv_pct_cm)\n",
    " \n",
    "\n",
    "        label = req_labels_k50n500[j]\n",
    "        axs.plot(eps_arr, perf, label=label, marker=markers[j], markersize=8, linewidth=2)\n",
    "#         axs[k].plot(eps_arr, perf, label=label, marker=\"o\")\n",
    "#         axs[k].set_title(\"thresh={}, eps_iter={}\".format(thresh, eps_iter))\n",
    "#         if k == 0:\n",
    "#             axs[k].set_title(\"First Variant\")\n",
    "#         elif k == 1:\n",
    "#             axs[k].set_title(\"Second Variant (th={})\".format(thresh))\n",
    "        \n",
    "# axs[-1].legend(bbox_to_anchor =(0.7, -0.2), fancybox=True, shadow=True, ncol=4)\n",
    "axs.legend(fancybox=True, shadow=True)\n",
    "\n",
    "axs.set_xlabel(r\"$\\epsilon$\")\n",
    "# axs[1].set_xlabel(r\"$\\epsilon$\")\n",
    "axs.set_ylabel(\"Accuracy\")\n",
    "# plt.savefig(\"adv_robustness_plot.pdf\")\n",
    "# plt.suptitle(\"advtrain clf vs stdclf\")\n",
    "# plt.savefig(\"paper_plot_advtrain_v_stdclf_th={}_countoffmfldcorr={}_discardoffmfldpred={}.pdf\".format(thresh, count_offmfld_pred_corr, discard_offmfld_pred), type=\"pdf\", bbox_inches=\"tight\")\n",
    "plt.show()\n"
   ]
  },
  {
   "cell_type": "code",
   "execution_count": 12,
   "metadata": {},
   "outputs": [
    {
     "data": {
      "text/plain": [
       "array([0.004, 0.008, 0.012, 0.016, 0.02 , 0.024, 0.028, 0.032, 0.036,\n",
       "       0.04 , 0.044, 0.048, 0.052, 0.056])"
      ]
     },
     "execution_count": 12,
     "metadata": {},
     "output_type": "execute_result"
    }
   ],
   "source": [
    "np.arange(4e-3, 6e-2, 4e-3)"
   ]
  },
  {
   "cell_type": "code",
   "execution_count": 35,
   "metadata": {},
   "outputs": [
    {
     "data": {
      "text/plain": [
       "array([  nan, 0.004, 0.008, 0.012, 0.016, 0.02 , 0.024, 0.028, 0.032,\n",
       "       0.036, 0.04 , 0.044, 0.048, 0.052, 0.056,   inf])"
      ]
     },
     "execution_count": 35,
     "metadata": {},
     "output_type": "execute_result"
    }
   ],
   "source": [
    "master_df.thresh.unique()"
   ]
  },
  {
   "cell_type": "code",
   "execution_count": 36,
   "metadata": {},
   "outputs": [
    {
     "data": {
      "text/plain": [
       "array([0.004, 0.005, 0.006, 0.007, 0.008, 0.009, 0.01 , 0.011, 0.012,\n",
       "       0.013, 0.014, 0.015, 0.016, 0.017, 0.018, 0.019, 0.02 , 0.021,\n",
       "       0.022, 0.023, 0.024, 0.025, 0.026, 0.027, 0.028, 0.029, 0.03 ,\n",
       "       0.031, 0.032, 0.033, 0.034, 0.035, 0.036, 0.037, 0.038, 0.039])"
      ]
     },
     "execution_count": 36,
     "metadata": {},
     "output_type": "execute_result"
    }
   ],
   "source": [
    "master_df.eps.unique()"
   ]
  },
  {
   "cell_type": "code",
   "execution_count": null,
   "metadata": {},
   "outputs": [],
   "source": []
  }
 ],
 "metadata": {
  "kernelspec": {
   "display_name": "Python 3",
   "language": "python",
   "name": "python3"
  },
  "language_info": {
   "codemirror_mode": {
    "name": "ipython",
    "version": 3
   },
   "file_extension": ".py",
   "mimetype": "text/x-python",
   "name": "python",
   "nbconvert_exporter": "python",
   "pygments_lexer": "ipython3",
   "version": "3.7.6"
  }
 },
 "nbformat": 4,
 "nbformat_minor": 4
}
