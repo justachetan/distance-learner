{
 "cells": [
  {
   "cell_type": "code",
   "execution_count": 1,
   "metadata": {},
   "outputs": [],
   "source": [
    "import os\n",
    "import re\n",
    "import sys\n",
    "import time\n",
    "import copy\n",
    "import random\n",
    "import argparse\n",
    "\n",
    "from collections import OrderedDict\n",
    "\n",
    "import numpy as np\n",
    "\n",
    "import torch\n",
    "import torch.nn as nn\n",
    "import torch.nn.functional as F\n",
    "import torch.optim as optim\n",
    "from torch.utils.data import Dataset, DataLoader\n",
    "from torch.utils.tensorboard import SummaryWriter\n",
    "\n",
    "\n",
    "import torchvision\n",
    "import torchvision.transforms as transforms\n",
    "import torchvision.transforms.functional as TF\n",
    "from torchvision import datasets\n",
    "\n",
    "import PIL\n",
    "\n",
    "import matplotlib\n",
    "from mpl_toolkits import mplot3d\n",
    "# matplotlib.use('Agg')\n",
    "import matplotlib.pyplot as plt\n",
    "\n",
    "import seaborn as sns\n",
    "\n",
    "from livelossplot import PlotLosses\n",
    "\n",
    "from sklearn.neighbors import NearestNeighbors\n",
    "from sklearn.decomposition import IncrementalPCA\n",
    "\n",
    "from sklearn.metrics import mean_squared_error, f1_score, accuracy_score, classification_report\n",
    "\n",
    "from tqdm import tqdm\n",
    "\n",
    "sys.path.append(\"../src/expB/\")\n",
    "from spheres import RandomSphere\n",
    "from ptcifar.models import *\n",
    "from learn_mfld_distance import test\n",
    "from myNNs import *"
   ]
  },
  {
   "cell_type": "code",
   "execution_count": 2,
   "metadata": {},
   "outputs": [],
   "source": [
    "\n",
    "\n",
    "\n",
    "dataset_dir = \"/azuredrive/datasets/expB/one_sphere\"\n",
    "\n",
    "dataset_files = [\n",
    "    'r=0.5,max_norm=0.25,D=0.2,n=10,k=2,transformed,nearzero',\n",
    "    'r=0.5,max_norm=0.25,D=0.2,n=100,k=2,transformed,nearzero',\n",
    "    'r=0.5,max_norm=0.25,D=0.2,n=1000,k=2,transformed,nearzero',\n",
    "    'r=0.5,max_norm=0.25,D=0.2,n=25,k=2,transformed,nearzero',\n",
    "    'r=0.5,max_norm=0.25,D=0.2,n=250,k=2,transformed,nearzero',\n",
    "    'r=0.5,max_norm=0.25,D=0.2,n=3,k=2,transformed,nearzero',\n",
    "    'r=0.5,max_norm=0.25,D=0.2,n=5,k=2,transformed,nearzero',\n",
    "    'r=0.5,max_norm=0.25,D=0.2,n=50,k=2,transformed,nearzero',\n",
    "    'r=0.5,max_norm=0.25,D=0.2,n=500,k=2,transformed,nearzero',\n",
    "    'r=0.5,max_norm=0.25,D=0.2,n=750,k=2,transformed,nearzero',\n",
    "    'r=0.5,max_norm=0.25,D=0.2,n=1000,k=2,transformed,nearzero'\n",
    "]\n",
    "\n",
    "\n",
    "dump_dir = \"/azuredrive/dumps/expB_learning_distance_from_mfld/vary_by_n_k=2/\"\n",
    "\n",
    "model_files = [os.path.join(dump_dir, i, j, \"models\") for i in os.listdir(dump_dir) for j in os.listdir(os.path.join(dump_dir, i))]\n",
    "models_fn = sorted([sorted(os.listdir(i), key=lambda x: int(x.split(\"_\")[-1].split(\".\")[0]))[-1] for i in model_files], key=lambda x: int(re.findall(\"n=[0-9]*\", x)[0].strip(\";\").split(\"=\")[1]))\n",
    "models_fn = [os.path.join(dump_dir, re.findall(r'n=[0-9]*;', i)[0].strip(\";\"), j, \"models\", i) for i in models_fn for j in os.listdir(os.path.join(dump_dir, re.findall(r'n=[0-9]*;', i)[0].strip(\";\")))]\n",
    "\n",
    "phase = \"val\" # whether to analyse on train, val or test\n",
    "\n",
    "datasets_fn = sorted([os.path.join(dataset_dir, i, phase + \"_set.pt\") for i in dataset_files], key=lambda x: int(x.split(\",\")[3].split(\"=\")[1]))\n",
    "\n",
    "\n",
    "\n",
    "\n"
   ]
  },
  {
   "cell_type": "code",
   "execution_count": 3,
   "metadata": {},
   "outputs": [
    {
     "data": {
      "text/plain": [
       "['/azuredrive/datasets/expB/one_sphere/r=0.5,max_norm=0.25,D=0.2,n=3,k=2,transformed,nearzero/val_set.pt',\n",
       " '/azuredrive/datasets/expB/one_sphere/r=0.5,max_norm=0.25,D=0.2,n=5,k=2,transformed,nearzero/val_set.pt',\n",
       " '/azuredrive/datasets/expB/one_sphere/r=0.5,max_norm=0.25,D=0.2,n=10,k=2,transformed,nearzero/val_set.pt',\n",
       " '/azuredrive/datasets/expB/one_sphere/r=0.5,max_norm=0.25,D=0.2,n=25,k=2,transformed,nearzero/val_set.pt',\n",
       " '/azuredrive/datasets/expB/one_sphere/r=0.5,max_norm=0.25,D=0.2,n=50,k=2,transformed,nearzero/val_set.pt',\n",
       " '/azuredrive/datasets/expB/one_sphere/r=0.5,max_norm=0.25,D=0.2,n=100,k=2,transformed,nearzero/val_set.pt',\n",
       " '/azuredrive/datasets/expB/one_sphere/r=0.5,max_norm=0.25,D=0.2,n=250,k=2,transformed,nearzero/val_set.pt',\n",
       " '/azuredrive/datasets/expB/one_sphere/r=0.5,max_norm=0.25,D=0.2,n=500,k=2,transformed,nearzero/val_set.pt',\n",
       " '/azuredrive/datasets/expB/one_sphere/r=0.5,max_norm=0.25,D=0.2,n=750,k=2,transformed,nearzero/val_set.pt',\n",
       " '/azuredrive/datasets/expB/one_sphere/r=0.5,max_norm=0.25,D=0.2,n=1000,k=2,transformed,nearzero/val_set.pt',\n",
       " '/azuredrive/datasets/expB/one_sphere/r=0.5,max_norm=0.25,D=0.2,n=1000,k=2,transformed,nearzero/val_set.pt']"
      ]
     },
     "execution_count": 3,
     "metadata": {},
     "output_type": "execute_result"
    }
   ],
   "source": [
    "datasets_fn"
   ]
  },
  {
   "cell_type": "code",
   "execution_count": 4,
   "metadata": {},
   "outputs": [
    {
     "data": {
      "text/plain": [
       "['/azuredrive/dumps/expB_learning_distance_from_mfld/vary_by_n_k=2/n=3/14052021-164949/models/test_MLP_model{hidden_sizes=512x4,sigmoid_last}_data{spheres_in_unit_cube;clamped;with_transforms;k=2;n=3;nearzero}_14052021-164949_val_loss_7.676822804114636e-07_epoch_498.pth',\n",
       " '/azuredrive/dumps/expB_learning_distance_from_mfld/vary_by_n_k=2/n=4/13052021-121952/models/test_MLP_model{hidden_sizes=512x4,sigmoid_last}_data{spheres_in_unit_cube;clamped;with_transforms;k=2;n=4;nearzero}_13052021-121952_val_loss_1.0205980220234779e-05_epoch_496.pth',\n",
       " '/azuredrive/dumps/expB_learning_distance_from_mfld/vary_by_n_k=2/n=5/13052021-124835/models/test_MLP_model{hidden_sizes=512x4,sigmoid_last}_data{spheres_in_unit_cube;clamped;with_transforms;k=2;n=5;nearzero}_13052021-124835_val_loss_3.986024612459005e-05_epoch_493.pth',\n",
       " '/azuredrive/dumps/expB_learning_distance_from_mfld/vary_by_n_k=2/n=10/13052021-130145/models/test_MLP_model{hidden_sizes=512x4,sigmoid_last}_data{spheres_in_unit_cube;clamped;with_transforms;k=2;n=10;nearzero}_13052021-130145_val_loss_7.278684879565844e-05_epoch_487.pth',\n",
       " '/azuredrive/dumps/expB_learning_distance_from_mfld/vary_by_n_k=2/n=25/14052021-085916/models/test_MLP_model{hidden_sizes=512x4,sigmoid_last}_data{spheres_in_unit_cube;clamped;with_transforms;k=2;n=25;nearzero}_14052021-085916_val_loss_6.442625817726366e-05_epoch_498.pth',\n",
       " '/azuredrive/dumps/expB_learning_distance_from_mfld/vary_by_n_k=2/n=50/14052021-093600/models/test_MLP_model{hidden_sizes=512x4,sigmoid_last}_data{spheres_in_unit_cube;clamped;with_transforms;k=2;n=50;nearzero}_14052021-093600_val_loss_9.660738178354222e-05_epoch_498.pth',\n",
       " '/azuredrive/dumps/expB_learning_distance_from_mfld/vary_by_n_k=2/n=100/14052021-095203/models/test_MLP_model{hidden_sizes=512x4,sigmoid_last}_data{spheres_in_unit_cube;clamped;with_transforms;k=2;n=100;nearzero}_14052021-095203_val_loss_0.00018703792375163175_epoch_492.pth',\n",
       " '/azuredrive/dumps/expB_learning_distance_from_mfld/vary_by_n_k=2/n=250/14052021-182250/models/test_MLP_model{hidden_sizes=512x4,sigmoid_last}_data{spheres_in_unit_cube;clamped;with_transforms;k=2;n=250;nearzero}_14052021-182250_val_loss_0.0002374666648393031_epoch_495.pth',\n",
       " '/azuredrive/dumps/expB_learning_distance_from_mfld/vary_by_n_k=2/n=500/14052021-190117/models/test_MLP_model{hidden_sizes=512x4,sigmoid_last}_data{spheres_in_unit_cube;clamped;with_transforms;k=2;n=500;nearzero}_14052021-190117_val_loss_0.001237450260668993_epoch_251.pth',\n",
       " '/azuredrive/dumps/expB_learning_distance_from_mfld/vary_by_n_k=2/n=750/14052021-192808/models/test_MLP_model{hidden_sizes=512x4,sigmoid_last}_data{spheres_in_unit_cube;clamped;with_transforms;k=2;n=750;nearzero}_14052021-192808_val_loss_0.005747137102298438_epoch_143.pth',\n",
       " '/azuredrive/dumps/expB_learning_distance_from_mfld/vary_by_n_k=2/n=1000/14052021-100610/models/test_MLP_model{hidden_sizes=512x4,sigmoid_last}_data{spheres_in_unit_cube;clamped;with_transforms;k=2;n=1000;nearzero}_14052021-100610_val_loss_0.005689130024984479_epoch_481.pth']"
      ]
     },
     "execution_count": 4,
     "metadata": {},
     "output_type": "execute_result"
    }
   ],
   "source": [
    "models_fn"
   ]
  },
  {
   "cell_type": "code",
   "execution_count": 8,
   "metadata": {},
   "outputs": [
    {
     "name": "stdout",
     "output_type": "stream",
     "text": [
      "MSE for the learned distances: 4.0397037e-05\n",
      "MSE for the learned distances (on-manifold): 4.0397037e-05\n",
      "MSE for the learned distances: 7.3328614e-05\n",
      "MSE for the learned distances (on-manifold): 7.3328614e-05\n",
      "MSE for the learned distances: 6.468708e-05\n",
      "MSE for the learned distances (on-manifold): 6.468708e-05\n",
      "MSE for the learned distances: 9.716465e-05\n",
      "MSE for the learned distances (on-manifold): 9.716465e-05\n",
      "MSE for the learned distances: 0.00018775323\n",
      "MSE for the learned distances (on-manifold): 0.00018775323\n",
      "MSE for the learned distances: 0.00023850559\n",
      "MSE for the learned distances (on-manifold): 0.00023850559\n",
      "MSE for the learned distances: 0.0012426014\n",
      "MSE for the learned distances (on-manifold): 0.0012426014\n",
      "MSE for the learned distances: 0.0057733497\n",
      "MSE for the learned distances (on-manifold): 0.0057733497\n",
      "MSE for the learned distances: 0.005716446\n",
      "MSE for the learned distances (on-manifold): 0.005716446\n"
     ]
    },
    {
     "data": {
      "text/plain": [
       "<matplotlib.legend.Legend at 0x7fd561293ac8>"
      ]
     },
     "execution_count": 8,
     "metadata": {},
     "output_type": "execute_result"
    },
    {
     "data": {
      "image/png": "[encoded data removed]",
      "text/plain": [
       "<Figure size 432x288 with 1 Axes>"
      ]
     },
     "metadata": {
      "needs_background": "light"
     },
     "output_type": "display_data"
    },
    {
     "data": {
      "image/png": "[encoded data removed]",
      "text/plain": [
       "<Figure size 432x288 with 1 Axes>"
      ]
     },
     "metadata": {
      "needs_background": "light"
     },
     "output_type": "display_data"
    }
   ],
   "source": [
    "fig1 = plt.figure()\n",
    "fig2 = plt.figure()\n",
    "\n",
    "a = None\n",
    "bins = None\n",
    "\n",
    "for i, j in zip(datasets_fn[1:], models_fn[2:]):\n",
    "    \n",
    "#     plt.figure()\n",
    "#     print(models_fn[i])\n",
    "#     print(datasets_fn[i])\n",
    "    device = torch.device(\"cuda:0\")\n",
    "    \n",
    "    dataset = torch.load(i)\n",
    "    dataloader = DataLoader(dataset, batch_size=512, shuffle=True, num_workers=8)\n",
    "    \n",
    "    model = MLP(input_size=dataset.points_n.shape[1], output_size=1, hidden_sizes=[512] * 4, use_relu=False, use_tanh=False)\n",
    "    model.load_state_dict(torch.load(j)[\"model_state_dict\"])\n",
    "    \n",
    "    mse, mse_on_mfld, all_distances, all_logits = test(model, dataloader, device)\n",
    "    \n",
    "    if bins is None:\n",
    "        a = np.histogram(all_distances.numpy().reshape(-1))\n",
    "\n",
    "        bins = a[1]\n",
    "\n",
    "    logits = all_logits.numpy()\n",
    "    distances = all_distances.numpy()\n",
    "    rel_errors = [np.mean(np.abs(distances[(distances >= bins[i]) & (distances < bins[i+1])] - logits[(distances >= bins[i]) & (distances < bins[i+1])]) / (distances[(distances >= bins[i]) & (distances < bins[i+1])] + 1e-08)) for i in range(len(bins) - 1)]\n",
    "    errors = [mean_squared_error(distances[(distances >= bins[i]) & (distances < bins[i+1])], logits[(distances >= bins[i]) & (distances < bins[i+1])], squared=True) for i in range(len(bins) - 1)]\n",
    "\n",
    "#     xs = bins.reshape(-1, 1) + np.zeros((bins.shape[0], 30))\n",
    "#     ys = np.arange(30).reshape(-1, 1) + np.zeros((30, bins.shape[0]))\n",
    "#     fig, ax1 = fig1.subplots()\n",
    "#     ax1.hist(all_distances.numpy().reshape(-1))\n",
    "#     ax1.set_ylabel('frequency', color='b')\n",
    "#     ax1.tick_params('y', colors='b')\n",
    "\n",
    "\n",
    "#     ax2 = ax1.twinx()\n",
    "    # s2 = np.sin(2 * np.pi * t)\n",
    "    # ax2.hist(all_distances.numpy().reshape(-1))\n",
    "    fig1.gca().plot([(bins[i] + bins[i+1]) /2 for i in range(len(bins) - 1)], errors, marker=\"o\", label=\"n={size}\".format(size=dataset.points_n.shape[1]))\n",
    "\n",
    "#     fig1.set_ylabel('absolute error', color='k')\n",
    "#     fig1.tick_params('y', colors='k')\n",
    "\n",
    "    fig1.suptitle(\"absolute error in distance prediction with distance from mfld. (train)\")\n",
    "    # plt.plot(xs.T, ys, linestyle=\"dashed\", color=\"k\")\n",
    "    # plt.hist(all_distances.numpy())\n",
    "#     plt.show()\n",
    "    \n",
    "#     plt.figure()\n",
    "    \n",
    "#     xs = bins.reshape(-1, 1) + np.zeros((bins.shape[0], 30))\n",
    "#     ys = np.arange(30).reshape(-1, 1) + np.zeros((30, bins.shape[0]))\n",
    "#     fig, ax1 = fig2.subplots()\n",
    "#     ax1.hist(all_distances.numpy().reshape(-1))\n",
    "#     ax1.set_ylabel('frequency', color='b')\n",
    "#     ax1.tick_params('y', colors='b')\n",
    "\n",
    "\n",
    "#     ax2 = ax1.twinx()\n",
    "#     # s2 = np.sin(2 * np.pi * t)\n",
    "#     # ax2.hist(all_distances.numpy().reshape(-1))\n",
    "    fig2.gca().plot([(bins[i] + bins[i+1]) /2 for i in range(len(bins) - 1)], rel_errors, marker=\"o\", label=\"n={size}\".format(size=dataset.points_n.shape[1]))\n",
    "\n",
    "\n",
    "    fig2.suptitle(\"relative error in distance prediction with distance from mfld. (train)\")\n",
    "    # plt.plot(xs.T, ys, linestyle=\"dashed\", color=\"k\")\n",
    "    # plt.hist(all_distances.numpy())\n",
    "#     plt.show()\n",
    "\n",
    "fig1.gca().set_ylabel('absolute error', color='k')\n",
    "fig2.gca().set_ylabel('relative error', color='k')\n",
    "\n",
    "fig1.gca().legend()\n",
    "fig2.gca().legend()"
   ]
  },
  {
   "cell_type": "code",
   "execution_count": 6,
   "metadata": {},
   "outputs": [
    {
     "data": {
      "text/plain": [
       "<AxesSubplot:>"
      ]
     },
     "execution_count": 6,
     "metadata": {},
     "output_type": "execute_result"
    }
   ],
   "source": [
    "fig1.show()"
   ]
  },
  {
   "cell_type": "code",
   "execution_count": 17,
   "metadata": {},
   "outputs": [
    {
     "data": {
      "text/plain": [
       "'test_MLP_model{hidden_sizes=512x4,sigmoid_last}_data{spheres_in_unit_cube;clamped;with_transforms;k=2;n=10;nearzero}_13052021-130145_val_loss_7.278684879565844e-05_epoch_487.pth'"
      ]
     },
     "execution_count": 17,
     "metadata": {},
     "output_type": "execute_result"
    }
   ],
   "source": [
    "sorted(os.listdir(\"/azuredrive/dumps/expB_learning_distance_from_mfld/vary_by_n_k=2/n=3/\"), key=lambda x: int(x.split(\"_\")[-1].split(\".\")[0]))[-1]"
   ]
  },
  {
   "cell_type": "code",
   "execution_count": 20,
   "metadata": {},
   "outputs": [
    {
     "name": "stdout",
     "output_type": "stream",
     "text": [
      "\u001b[0m\u001b[01;34m13052021-124835\u001b[0m/\r\n"
     ]
    }
   ],
   "source": [
    "ls \"/azuredrive/dumps/expB_learning_distance_from_mfld/vary_by_n_k=2/n=5/\"\n"
   ]
  },
  {
   "cell_type": "code",
   "execution_count": 25,
   "metadata": {},
   "outputs": [],
   "source": [
    "import re"
   ]
  },
  {
   "cell_type": "code",
   "execution_count": 29,
   "metadata": {},
   "outputs": [
    {
     "data": {
      "text/plain": [
       "['n=10;']"
      ]
     },
     "execution_count": 29,
     "metadata": {},
     "output_type": "execute_result"
    }
   ],
   "source": [
    " 'test_MLP_model{hidden_sizes=512x4,sigmoid_last}_data{spheres_in_unit_cube;clamped;with_transforms;k=2;n=10;nearzero}_13052021-130145_val_loss_7.278684879565844e-05_epoch_487.pth')\n",
    "\n",
    "\n"
   ]
  },
  {
   "cell_type": "code",
   "execution_count": null,
   "metadata": {},
   "outputs": [],
   "source": [
    "np.histogram()"
   ]
  }
 ],
 "metadata": {
  "kernelspec": {
   "display_name": "Python 3",
   "language": "python",
   "name": "python3"
  },
  "language_info": {
   "codemirror_mode": {
    "name": "ipython",
    "version": 3
   },
   "file_extension": ".py",
   "mimetype": "text/x-python",
   "name": "python",
   "nbconvert_exporter": "python",
   "pygments_lexer": "ipython3",
   "version": "3.6.9"
  }
 },
 "nbformat": 4,
 "nbformat_minor": 4
}
