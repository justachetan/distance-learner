{
 "cells": [
  {
   "cell_type": "code",
   "execution_count": 2,
   "metadata": {},
   "outputs": [],
   "source": [
    "import os\n",
    "os.chdir(\"/data/adv_geom/src/\")\n",
    "import sys\n",
    "import json\n",
    "import pickle\n",
    "import random\n",
    "\n",
    "import numpy as np\n",
    "import pandas as pd\n",
    "\n",
    "from sklearn.metrics import classification_report\n",
    "\n",
    "import matplotlib.pyplot as plt\n",
    "import seaborn as sns\n",
    "\n",
    "import torch\n",
    "import torch.nn as nn\n",
    "import torch.nn.functional as F\n",
    "import torch.optim as optim\n",
    "from torch.utils.data import Dataset, TensorDataset, DataLoader\n",
    "\n",
    "from cleverhans.torch.attacks.fast_gradient_method import fast_gradient_method\n",
    "from cleverhans.torch.attacks.projected_gradient_descent import (\n",
    "    projected_gradient_descent,\n",
    ")\n",
    "\n",
    "from tqdm.notebook import tqdm\n",
    "\n",
    "from datagen.synthetic.multiple.concentricspheres import ConcentricSpheres\n",
    "from expB.myNNs import MTMLPwithNormalisation, MLP, MLPwithNormalisation\n",
    "from expD.attacks import pgd_l2_mfld_clf_attack, pgd_l2_mfld_dist_attack, pgd_l2_cls, pgd_dist, pgd_linf_rand\n"
   ]
  },
  {
   "cell_type": "markdown",
   "metadata": {},
   "source": [
    "# Loading the Dataset"
   ]
  },
  {
   "cell_type": "code",
   "execution_count": 3,
   "metadata": {},
   "outputs": [],
   "source": [
    "# data_dir = \"/azuredrive/deepimage/data1/t-achetan/adv_geom_dumps/dumps/expD_distlearner_against_adv_eg/rdm_concspheres/rdm_concspheres_k2n500/data/\"\n",
    "data_dir = \"/data/k500n500_moreoffmfld_testsplits/\"\n",
    "# data_dir = \"/data/k100n100_testsplits/\"\n",
    "\n",
    "\n",
    "# train_set, val_set, test_set = ConcentricSpheres.load_splits(data_dir)\n",
    "test_set = ConcentricSpheres()\n",
    "# test_set.load_data(os.path.join(data_dir, \"test\"))\n",
    "test_set.load_data(data_dir)\n",
    "\n",
    "shuffle = False\n",
    "# batch_size = 1\n",
    "batch_size = 512\n",
    "num_workers = 8\n",
    "\n",
    "dataloaders = {\n",
    "#     \"train\": DataLoader(dataset=train_set, shuffle=shuffle, batch_size=batch_size, num_workers=num_workers),\n",
    "#     \"val\": DataLoader(dataset=val_set, shuffle=False, batch_size=batch_size, num_workers=num_workers),\n",
    "    \"test\": DataLoader(dataset=test_set, shuffle=False, batch_size=batch_size, num_workers=num_workers)\n",
    "}\n",
    "\n",
    "\n",
    "\n"
   ]
  },
  {
   "cell_type": "markdown",
   "metadata": {},
   "source": [
    "# Loading the model\n",
    "\n",
    "Loading the standard classifier model to generate adversarial examples"
   ]
  },
  {
   "cell_type": "code",
   "execution_count": 4,
   "metadata": {},
   "outputs": [],
   "source": [
    "input_size = 500\n",
    "output_size = 2\n",
    "\n",
    "hidden_sizes = [1024] * 4\n",
    "\n",
    "use_tanh = False\n",
    "use_relu = False\n",
    "weight_norm = False\n",
    "\n",
    "cuda = 1\n",
    "device = torch.device(\"cuda:{}\".format(cuda) if torch.cuda.is_available() and cuda is not None else \"cpu\")\n",
    "\n",
    "\n",
    "# Standard Classifier model\n",
    "# clf_init_wts = \"/azuredrive/deepimage/data1/t-achetan/adv_geom_dumps/dumps/expD_distlearner_against_adv_eg/rdm_concspheres/rdm_concspheres_k2n500/8/models/ckpt.pth\"\n",
    "# clf_init_wts = \"/azuredrive/deepimage/data1/t-achetan/adv_geom_dumps/dumps/expD_distlearner_against_adv_eg/rdm_concspheres/rdm_concspheres_k500n500_noninfdist/2/models/ckpt.pth\"\n",
    "# clf_init_wts = \"/azuredrive/deepimage/data1/t-achetan/adv_geom_dumps/dumps/expD_distlearner_against_adv_eg/rdm_concspheres/rdm_concspheres_k100n100_noninfdist/2/models/ckpt.pth\"\n",
    "clf_init_wts = \"/azuredrive/deepimage/data1/t-achetan/adv_geom_dumps/dumps/expD_distlearner_against_adv_eg/rdm_concspheres/rdm_concspheres_k500n500_noninfdist_moreoffmfld/2/models/ckpt.pth\"\n",
    "\n",
    "\n",
    "\n",
    "# stdclf_model = MTMLPwithNormalisation(input_size=input_size,\\\n",
    "#          output_size=output_size, hidden_sizes=hidden_sizes,\\\n",
    "#          use_tanh=use_tanh, use_relu=use_relu, weight_norm=weight_norm)\n",
    "# hidden_sizes = [1024] * 2\n",
    "# stdclf_model = MLP(input_size=input_size,\\\n",
    "#          output_size=output_size, hidden_sizes=hidden_sizes,\\\n",
    "#          use_tanh=use_tanh, use_relu=use_relu, weight_norm=weight_norm)\n",
    "\n",
    "hidden_sizes = [1024] * 2\n",
    "stdclf_model = MLPwithNormalisation(input_size=input_size,\\\n",
    "         output_size=output_size, hidden_sizes=hidden_sizes,\\\n",
    "         use_tanh=use_tanh, use_relu=use_relu, weight_norm=weight_norm)\n",
    "\n",
    "\n",
    "stdclf_model.load_state_dict(torch.load(clf_init_wts)[\"model_state_dict\"])\n",
    "stdclf_model.to(device)\n",
    "\n",
    "\n",
    "# Distance Learner model\n",
    "hidden_sizes = [512] * 4\n",
    "# distlearn_init_wts = \"/azuredrive/deepimage/data1/t-achetan/adv_geom_dumps/dumps/expD_distlearner_against_adv_eg/rdm_concspheres/rdm_concspheres_k100n100_noninfdist/1/models/ckpt.pth\"\n",
    "# distlearn_init_wts = \"/azuredrive/deepimage/data1/t-achetan/adv_geom_dumps/dumps/expD_distlearner_against_adv_eg/rdm_concspheres/rdm_concspheres_k500n500_noninfdist/1/models/ckpt.pth\"\n",
    "distlearn_init_wts = \"/azuredrive/deepimage/data1/t-achetan/adv_geom_dumps/dumps/expD_distlearner_against_adv_eg/rdm_concspheres/rdm_concspheres_k500n500_noninfdist_moreoffmfld/1/models/ckpt.pth\"\n",
    "\n",
    "\n",
    "distlearn_model = MTMLPwithNormalisation(input_size=input_size,\\\n",
    "         output_size=output_size, hidden_sizes=hidden_sizes,\\\n",
    "         use_tanh=use_tanh, use_relu=use_relu, weight_norm=weight_norm)\n",
    "\n",
    "\n",
    "distlearn_model.load_state_dict(torch.load(distlearn_init_wts)[\"model_state_dict\"])\n",
    "distlearn_model.to(device)\n",
    "\n",
    "\n",
    "num_neg = np.floor(dataloaders[\"test\"].dataset.N / 2).astype(np.int64).item()\n",
    "num_onmfld = dataloaders[\"test\"].dataset.N - num_neg\n",
    "\n",
    "stdclf_pred = torch.zeros(num_onmfld, 2)\n",
    "dl_pred = torch.zeros(num_onmfld, 2)\n",
    "stdclf_pred_ma = torch.zeros(num_onmfld, 2)\n",
    "dl_pred_ma = torch.zeros(num_onmfld, 2)\n",
    "stdclf_pred_ma_dl = torch.zeros(num_onmfld, 2)\n",
    "dl_pred_ma_dl = torch.zeros(num_onmfld, 2)\n",
    "\n",
    "all_deltas_ma = torch.zeros(num_onmfld, dataloaders[\"test\"].dataset.n)\n",
    "all_deltas_dl_ma = torch.zeros(num_onmfld, dataloaders[\"test\"].dataset.n)\n"
   ]
  },
  {
   "cell_type": "code",
   "execution_count": 4,
   "metadata": {},
   "outputs": [
    {
     "data": {
      "text/plain": [
       "0.0007578336632513689"
      ]
     },
     "execution_count": 4,
     "metadata": {},
     "output_type": "execute_result"
    }
   ],
   "source": [
    "dl_model_dict = torch.load(distlearn_init_wts)\n",
    "dl_model_dict[\"val_loss\"]"
   ]
  },
  {
   "cell_type": "code",
   "execution_count": 5,
   "metadata": {},
   "outputs": [
    {
     "data": {
      "text/plain": [
       "5.3784174926110356e-06"
      ]
     },
     "execution_count": 5,
     "metadata": {},
     "output_type": "execute_result"
    }
   ],
   "source": [
    "dl_model_dict[\"loss\"]"
   ]
  },
  {
   "cell_type": "code",
   "execution_count": 6,
   "metadata": {},
   "outputs": [
    {
     "data": {
      "text/plain": [
       "(16,)"
      ]
     },
     "execution_count": 6,
     "metadata": {},
     "output_type": "execute_result"
    }
   ],
   "source": [
    "np.arange(5e-3, 0.081, 5e-3).shape"
   ]
  },
  {
   "cell_type": "code",
   "execution_count": 7,
   "metadata": {},
   "outputs": [
    {
     "data": {
      "application/vnd.jupyter.widget-view+json": {
       "model_id": "09fdbf5abb5146fa8d37c367a24d7c65",
       "version_major": 2,
       "version_minor": 0
      },
      "text/plain": [
       "|          | 0/? [00:00<?, ?it/s]"
      ]
     },
     "metadata": {},
     "output_type": "display_data"
    },
    {
     "name": "stdout",
     "output_type": "stream",
     "text": [
      "eps_iter: 0.005\n",
      "Std. Clf. on actual test set\n",
      "Std. Clf. on perturbed test set by CLF attack\n",
      "Std. Clf. on perturbed test set by DL attack\n",
      "Dist. Learner on actual test set\n",
      "Dist. Learner on perturbed test set by CLF attack\n",
      "Dist. Learner on perturbed test set by DL attack\n"
     ]
    },
    {
     "data": {
      "application/vnd.jupyter.widget-view+json": {
       "model_id": "c8b0e346777e4e9e8a16609a566809a0",
       "version_major": 2,
       "version_minor": 0
      },
      "text/plain": [
       "|          | 0/? [00:00<?, ?it/s]"
      ]
     },
     "metadata": {},
     "output_type": "display_data"
    },
    {
     "name": "stdout",
     "output_type": "stream",
     "text": [
      "eps_iter: 0.01\n",
      "Std. Clf. on actual test set\n",
      "Std. Clf. on perturbed test set by CLF attack\n",
      "Std. Clf. on perturbed test set by DL attack\n",
      "Dist. Learner on actual test set\n",
      "Dist. Learner on perturbed test set by CLF attack\n",
      "Dist. Learner on perturbed test set by DL attack\n"
     ]
    },
    {
     "data": {
      "application/vnd.jupyter.widget-view+json": {
       "model_id": "c4db7510d2ed4c288fb4254b8f4804f3",
       "version_major": 2,
       "version_minor": 0
      },
      "text/plain": [
       "|          | 0/? [00:00<?, ?it/s]"
      ]
     },
     "metadata": {},
     "output_type": "display_data"
    },
    {
     "name": "stdout",
     "output_type": "stream",
     "text": [
      "eps_iter: 0.015\n",
      "Std. Clf. on actual test set\n",
      "Std. Clf. on perturbed test set by CLF attack\n",
      "Std. Clf. on perturbed test set by DL attack\n",
      "Dist. Learner on actual test set\n",
      "Dist. Learner on perturbed test set by CLF attack\n",
      "Dist. Learner on perturbed test set by DL attack\n"
     ]
    },
    {
     "data": {
      "application/vnd.jupyter.widget-view+json": {
       "model_id": "2a76031c72dc4fdfb5d7846bb62746e0",
       "version_major": 2,
       "version_minor": 0
      },
      "text/plain": [
       "|          | 0/? [00:00<?, ?it/s]"
      ]
     },
     "metadata": {},
     "output_type": "display_data"
    },
    {
     "name": "stdout",
     "output_type": "stream",
     "text": [
      "eps_iter: 0.02\n",
      "Std. Clf. on actual test set\n",
      "Std. Clf. on perturbed test set by CLF attack\n",
      "Std. Clf. on perturbed test set by DL attack\n",
      "Dist. Learner on actual test set\n",
      "Dist. Learner on perturbed test set by CLF attack\n",
      "Dist. Learner on perturbed test set by DL attack\n"
     ]
    },
    {
     "data": {
      "application/vnd.jupyter.widget-view+json": {
       "model_id": "3805403225d641a08c5bd7feef59d682",
       "version_major": 2,
       "version_minor": 0
      },
      "text/plain": [
       "|          | 0/? [00:00<?, ?it/s]"
      ]
     },
     "metadata": {},
     "output_type": "display_data"
    },
    {
     "name": "stdout",
     "output_type": "stream",
     "text": [
      "eps_iter: 0.025\n",
      "Std. Clf. on actual test set\n",
      "Std. Clf. on perturbed test set by CLF attack\n",
      "Std. Clf. on perturbed test set by DL attack\n",
      "Dist. Learner on actual test set\n",
      "Dist. Learner on perturbed test set by CLF attack\n",
      "Dist. Learner on perturbed test set by DL attack\n"
     ]
    },
    {
     "data": {
      "application/vnd.jupyter.widget-view+json": {
       "model_id": "f475a49d22d946a7abdcdf9a3cb62f58",
       "version_major": 2,
       "version_minor": 0
      },
      "text/plain": [
       "|          | 0/? [00:00<?, ?it/s]"
      ]
     },
     "metadata": {},
     "output_type": "display_data"
    },
    {
     "name": "stdout",
     "output_type": "stream",
     "text": [
      "eps_iter: 0.030000000000000002\n",
      "Std. Clf. on actual test set\n",
      "Std. Clf. on perturbed test set by CLF attack\n",
      "Std. Clf. on perturbed test set by DL attack\n",
      "Dist. Learner on actual test set\n",
      "Dist. Learner on perturbed test set by CLF attack\n",
      "Dist. Learner on perturbed test set by DL attack\n"
     ]
    },
    {
     "data": {
      "application/vnd.jupyter.widget-view+json": {
       "model_id": "c29cbcee070f4d09ab52493bb9af0c1e",
       "version_major": 2,
       "version_minor": 0
      },
      "text/plain": [
       "|          | 0/? [00:00<?, ?it/s]"
      ]
     },
     "metadata": {},
     "output_type": "display_data"
    },
    {
     "name": "stdout",
     "output_type": "stream",
     "text": [
      "eps_iter: 0.034999999999999996\n",
      "Std. Clf. on actual test set\n",
      "Std. Clf. on perturbed test set by CLF attack\n",
      "Std. Clf. on perturbed test set by DL attack\n",
      "Dist. Learner on actual test set\n",
      "Dist. Learner on perturbed test set by CLF attack\n",
      "Dist. Learner on perturbed test set by DL attack\n"
     ]
    },
    {
     "data": {
      "application/vnd.jupyter.widget-view+json": {
       "model_id": "f6a32f8386e04efe80b56439418a7174",
       "version_major": 2,
       "version_minor": 0
      },
      "text/plain": [
       "|          | 0/? [00:00<?, ?it/s]"
      ]
     },
     "metadata": {},
     "output_type": "display_data"
    },
    {
     "name": "stdout",
     "output_type": "stream",
     "text": [
      "eps_iter: 0.04\n",
      "Std. Clf. on actual test set\n",
      "Std. Clf. on perturbed test set by CLF attack\n",
      "Std. Clf. on perturbed test set by DL attack\n",
      "Dist. Learner on actual test set\n",
      "Dist. Learner on perturbed test set by CLF attack\n",
      "Dist. Learner on perturbed test set by DL attack\n"
     ]
    },
    {
     "data": {
      "application/vnd.jupyter.widget-view+json": {
       "model_id": "575cd6a23b95447b830857cd9ce979a9",
       "version_major": 2,
       "version_minor": 0
      },
      "text/plain": [
       "|          | 0/? [00:00<?, ?it/s]"
      ]
     },
     "metadata": {},
     "output_type": "display_data"
    },
    {
     "name": "stdout",
     "output_type": "stream",
     "text": [
      "eps_iter: 0.045\n",
      "Std. Clf. on actual test set\n",
      "Std. Clf. on perturbed test set by CLF attack\n",
      "Std. Clf. on perturbed test set by DL attack\n",
      "Dist. Learner on actual test set\n",
      "Dist. Learner on perturbed test set by CLF attack\n",
      "Dist. Learner on perturbed test set by DL attack\n"
     ]
    },
    {
     "data": {
      "application/vnd.jupyter.widget-view+json": {
       "model_id": "c411fee313b141a6bebddaa2eed4efbe",
       "version_major": 2,
       "version_minor": 0
      },
      "text/plain": [
       "|          | 0/? [00:00<?, ?it/s]"
      ]
     },
     "metadata": {},
     "output_type": "display_data"
    },
    {
     "name": "stdout",
     "output_type": "stream",
     "text": [
      "eps_iter: 0.049999999999999996\n",
      "Std. Clf. on actual test set\n",
      "Std. Clf. on perturbed test set by CLF attack\n",
      "Std. Clf. on perturbed test set by DL attack\n",
      "Dist. Learner on actual test set\n",
      "Dist. Learner on perturbed test set by CLF attack\n",
      "Dist. Learner on perturbed test set by DL attack\n"
     ]
    },
    {
     "data": {
      "application/vnd.jupyter.widget-view+json": {
       "model_id": "a0bb890956c2465e9ac1a96d6727dbe3",
       "version_major": 2,
       "version_minor": 0
      },
      "text/plain": [
       "|          | 0/? [00:00<?, ?it/s]"
      ]
     },
     "metadata": {},
     "output_type": "display_data"
    },
    {
     "name": "stdout",
     "output_type": "stream",
     "text": [
      "eps_iter: 0.055\n",
      "Std. Clf. on actual test set\n",
      "Std. Clf. on perturbed test set by CLF attack\n",
      "Std. Clf. on perturbed test set by DL attack\n",
      "Dist. Learner on actual test set\n",
      "Dist. Learner on perturbed test set by CLF attack\n",
      "Dist. Learner on perturbed test set by DL attack\n"
     ]
    },
    {
     "data": {
      "application/vnd.jupyter.widget-view+json": {
       "model_id": "f6e10de2f60d46378107d0eae70633ed",
       "version_major": 2,
       "version_minor": 0
      },
      "text/plain": [
       "|          | 0/? [00:00<?, ?it/s]"
      ]
     },
     "metadata": {},
     "output_type": "display_data"
    },
    {
     "name": "stdout",
     "output_type": "stream",
     "text": [
      "eps_iter: 0.06\n",
      "Std. Clf. on actual test set\n",
      "Std. Clf. on perturbed test set by CLF attack\n",
      "Std. Clf. on perturbed test set by DL attack\n",
      "Dist. Learner on actual test set\n",
      "Dist. Learner on perturbed test set by CLF attack\n",
      "Dist. Learner on perturbed test set by DL attack\n"
     ]
    },
    {
     "data": {
      "application/vnd.jupyter.widget-view+json": {
       "model_id": "f172dd28dbd04208be161ef1d08a128f",
       "version_major": 2,
       "version_minor": 0
      },
      "text/plain": [
       "|          | 0/? [00:00<?, ?it/s]"
      ]
     },
     "metadata": {},
     "output_type": "display_data"
    },
    {
     "name": "stdout",
     "output_type": "stream",
     "text": [
      "eps_iter: 0.065\n",
      "Std. Clf. on actual test set\n",
      "Std. Clf. on perturbed test set by CLF attack\n",
      "Std. Clf. on perturbed test set by DL attack\n",
      "Dist. Learner on actual test set\n",
      "Dist. Learner on perturbed test set by CLF attack\n",
      "Dist. Learner on perturbed test set by DL attack\n"
     ]
    },
    {
     "data": {
      "application/vnd.jupyter.widget-view+json": {
       "model_id": "0cc21f29a28d418c9154fa180d6b8fc1",
       "version_major": 2,
       "version_minor": 0
      },
      "text/plain": [
       "|          | 0/? [00:00<?, ?it/s]"
      ]
     },
     "metadata": {},
     "output_type": "display_data"
    },
    {
     "name": "stdout",
     "output_type": "stream",
     "text": [
      "eps_iter: 0.07\n",
      "Std. Clf. on actual test set\n",
      "Std. Clf. on perturbed test set by CLF attack\n",
      "Std. Clf. on perturbed test set by DL attack\n",
      "Dist. Learner on actual test set\n",
      "Dist. Learner on perturbed test set by CLF attack\n",
      "Dist. Learner on perturbed test set by DL attack\n"
     ]
    },
    {
     "data": {
      "application/vnd.jupyter.widget-view+json": {
       "model_id": "0c25854dcb3f402e93ece6db894b1588",
       "version_major": 2,
       "version_minor": 0
      },
      "text/plain": [
       "|          | 0/? [00:00<?, ?it/s]"
      ]
     },
     "metadata": {},
     "output_type": "display_data"
    },
    {
     "name": "stdout",
     "output_type": "stream",
     "text": [
      "eps_iter: 0.07500000000000001\n",
      "Std. Clf. on actual test set\n",
      "Std. Clf. on perturbed test set by CLF attack\n",
      "Std. Clf. on perturbed test set by DL attack\n",
      "Dist. Learner on actual test set\n",
      "Dist. Learner on perturbed test set by CLF attack\n",
      "Dist. Learner on perturbed test set by DL attack\n"
     ]
    },
    {
     "data": {
      "application/vnd.jupyter.widget-view+json": {
       "model_id": "f216fb6fe50546ffb8f130f8f0942df7",
       "version_major": 2,
       "version_minor": 0
      },
      "text/plain": [
       "|          | 0/? [00:00<?, ?it/s]"
      ]
     },
     "metadata": {},
     "output_type": "display_data"
    },
    {
     "name": "stdout",
     "output_type": "stream",
     "text": [
      "eps_iter: 0.08\n",
      "Std. Clf. on actual test set\n",
      "Std. Clf. on perturbed test set by CLF attack\n",
      "Std. Clf. on perturbed test set by DL attack\n",
      "Dist. Learner on actual test set\n",
      "Dist. Learner on perturbed test set by CLF attack\n",
      "Dist. Learner on perturbed test set by DL attack\n"
     ]
    }
   ],
   "source": [
    "\n",
    "\n",
    "eps = 0.1\n",
    "eps_iter = 5e-3\n",
    "nb_iter = 1000\n",
    "norm = 2\n",
    "\n",
    "sweep_logs = {}\n",
    "\n",
    "for eps_iter in np.arange(5e-3, 0.081, 5e-3):\n",
    "    \n",
    "    stdclf_pred = torch.zeros(num_onmfld, 2)\n",
    "    dl_pred = torch.zeros(num_onmfld, 2)\n",
    "    stdclf_pred_ma = torch.zeros(num_onmfld, 2)\n",
    "    dl_pred_ma = torch.zeros(num_onmfld, 2)\n",
    "    stdclf_pred_ma_dl = torch.zeros(num_onmfld, 2)\n",
    "    dl_pred_ma_dl = torch.zeros(num_onmfld, 2)\n",
    "\n",
    "    all_deltas_ma = torch.zeros(num_onmfld, dataloaders[\"test\"].dataset.n)\n",
    "    all_deltas_dl_ma = torch.zeros(num_onmfld, dataloaders[\"test\"].dataset.n)\n",
    "    \n",
    "    start = 0\n",
    "    end = 0\n",
    "    all_losses = list()\n",
    "    all_losses_dl = list()\n",
    "    \n",
    "    for (i, batch) in tqdm(enumerate(dataloaders[\"test\"])):\n",
    "\n",
    "        inputs = batch[\"normed_points\"]\n",
    "        true_distances = batch[\"normed_actual_distances\"]\n",
    "        true_classes = batch[\"classes\"]\n",
    "\n",
    "        # experiment was performed on points 'exactly' on the manifold.\n",
    "        # in our dataset, these points are those with class labels != 2\n",
    "        inputs = inputs[true_classes != 2].to(device)\n",
    "        true_distances = true_distances[true_classes != 2].to(device)\n",
    "        true_classes = true_classes[true_classes != 2].to(device)\n",
    "        end = start + inputs.shape[0]\n",
    "\n",
    "        if inputs.shape[0] == 0:\n",
    "            continue\n",
    "\n",
    "        center = torch.from_numpy(test_set.fix_center).float().to(device)\n",
    "    #     deltas_ma, losses = pgd_l2_mfld_clf_attack(stdclf_model, inputs - center, true_classes, greedy=True)\n",
    "    #     deltas_ma_dl, losses_dl = pgd_l2_mfld_dist_attack(distlearn_model, inputs - center, true_distances, greedy=True)\n",
    "    #     deltas_ma, losses = pgd_l2_cls(stdclf_model, inputs, true_classes, epsilon=0.1, num_iter=200)\n",
    "        adv_eg = projected_gradient_descent(model_fn=stdclf_model,\\\n",
    "                               x=inputs, \\\n",
    "                               eps=eps, \\\n",
    "                               eps_iter=eps_iter, \\\n",
    "                               nb_iter=nb_iter, \\\n",
    "                               norm=norm, y=true_classes)\n",
    "    #     adv_eg = pgd_l2_mfld_clf_attack(stdclf_model, inputs, true_classes, eps_iter=eps_iter, nb_iter=nb_iter, norm=norm)\n",
    "        deltas_ma = adv_eg - inputs\n",
    "        deltas_ma_dl = pgd_dist(distlearn_model, inputs, true_distances, eps=eps, eps_iter=eps_iter, nb_iter=nb_iter, norm=norm) \n",
    "    #     deltas_ma_dl = pgd_l2_mfld_dist_attack(distlearn_model, inputs, true_distances, eps_iter=eps_iter, nb_iter=nb_iter, norm=norm)\n",
    "    #     deltas_ma = all_deltas_ma[start:end].to(device)\n",
    "    #     all_losses.append(losses)\n",
    "    #     all_losses_dl.append(losses_dl)\n",
    "    #     inputs_ma = inputs + deltas_ma\n",
    "        inputs_ma = adv_eg\n",
    "    #     inputs_ma_dl = inputs + deltas_ma_dl\n",
    "        inputs_ma_dl = deltas_ma_dl\n",
    "        all_deltas_ma[start:end] = deltas_ma\n",
    "        all_deltas_dl_ma[start:end] = deltas_ma_dl - inputs\n",
    "\n",
    "    #     x_fgm = fast_gradient_method(net, x, FLAGS.eps, np.inf)\n",
    "    #     x_pgd = projected_gradient_descent(net, x, FLAGS.eps, 0.01, 40, np.inf)\n",
    "        with torch.no_grad():\n",
    "            stdclf_model.eval()\n",
    "            y_clf_pred = stdclf_model(inputs)\n",
    "            y_clf_pred_ma = stdclf_model(inputs_ma)\n",
    "            y_clf_pred_ma_dl = stdclf_model(inputs_ma_dl)\n",
    "\n",
    "            distlearn_model.eval()\n",
    "            y_dl_pred = distlearn_model(inputs)\n",
    "            y_dl_pred_ma = distlearn_model(inputs_ma)\n",
    "            y_dl_pred_ma_dl = distlearn_model(inputs_ma_dl)\n",
    "\n",
    "\n",
    "\n",
    "        stdclf_model.train()\n",
    "        distlearn_model.train()\n",
    "\n",
    "        stdclf_pred[start:end] = y_clf_pred.detach().cpu()\n",
    "        stdclf_pred_ma[start:end] = y_clf_pred_ma.detach().cpu()\n",
    "        stdclf_pred_ma_dl[start:end] = y_clf_pred_ma_dl.detach().cpu()\n",
    "        dl_pred[start:end] = y_dl_pred.detach().cpu()\n",
    "        dl_pred_ma[start:end] = y_dl_pred_ma.detach().cpu()\n",
    "        dl_pred_ma_dl[start:end] = y_dl_pred_ma_dl.detach().cpu()\n",
    "\n",
    "        start = end\n",
    "\n",
    "    if eps_iter not in sweep_logs:\n",
    "        sweep_logs[eps_iter] = dict()\n",
    "    \n",
    "    print(\"eps_iter:\", eps_iter)\n",
    "    dict_for_epsiter = dict()\n",
    "    print(\"Std. Clf. on actual test set\")\n",
    "    stdclf_raw_report = classification_report(test_set.class_labels[test_set.class_labels != 2], torch.max(stdclf_pred, 1)[1], output_dict=True)\n",
    "    dict_for_epsiter[\"stdclf_raw_report\"] = stdclf_raw_report\n",
    "    \n",
    "    print(\"Std. Clf. on perturbed test set by CLF attack\")\n",
    "    stdclf_clfadv_report = classification_report(test_set.class_labels[test_set.class_labels != 2], torch.max(stdclf_pred_ma, 1)[1], output_dict=True)\n",
    "    dict_for_epsiter[\"stdclf_clfadv_report\"] = stdclf_clfadv_report\n",
    "    \n",
    "    print(\"Std. Clf. on perturbed test set by DL attack\")\n",
    "    stdclf_dladv_report = classification_report(test_set.class_labels[test_set.class_labels != 2], torch.max(stdclf_pred_ma_dl, 1)[1], output_dict=True)\n",
    "    dict_for_epsiter[\"stdclf_dladv_report\"] = stdclf_dladv_report\n",
    "    \n",
    "    print(\"Dist. Learner on actual test set\")\n",
    "    dl_pred_labels = torch.min(dl_pred, 1)[1]\n",
    "\n",
    "    # dl_pred_labels[torch.min(dl_pred, 1)[0] > (test_set.D / test_set.norm_factor)] = 2\n",
    "    distlearn_raw_report = classification_report(test_set.class_labels[test_set.class_labels != 2], dl_pred_labels, output_dict=True)\n",
    "    dict_for_epsiter[\"distlearn_raw_report\"] = distlearn_raw_report\n",
    "    \n",
    "    print(\"Dist. Learner on perturbed test set by CLF attack\")\n",
    "    # dl_labels_on_perturbed_set = \n",
    "    dl_pred_labels_ma = torch.min(dl_pred_ma, 1)[1]\n",
    "    # dl_pred_labels_ma[torch.min(dl_pred_ma, 1)[0] > 0.07] = 2\n",
    "\n",
    "    # dl_pred_labels_ma[torch.min(dl_pred_ma, 1)[0] > (test_set.D / test_set.norm_factor)] = 2\n",
    "    distlearn_clfadv_report = classification_report(test_set.class_labels[test_set.class_labels != 2], dl_pred_labels_ma, output_dict=True)\n",
    "    dict_for_epsiter[\"distlearn_clfadv_report\"] = distlearn_clfadv_report\n",
    "    \n",
    "    print(\"Dist. Learner on perturbed test set by DL attack\")\n",
    "    # dl_labels_on_perturbed_set = \n",
    "    dl_pred_labels_ma_dl = torch.min(dl_pred_ma_dl, 1)[1]\n",
    "    # dl_pred_labels_ma_dl[torch.min(dl_pred_ma_dl, 1)[0] > 0.08] = 2\n",
    "    # dl_pred_labels_ma_dl[torch.min(dl_pred_ma_dl, 1)[0] > (test_set.D / test_set.norm_factor)] = 2\n",
    "    distlearn_dladv_report = classification_report(test_set.class_labels[test_set.class_labels != 2], dl_pred_labels_ma_dl, output_dict=True)\n",
    "    dict_for_epsiter[\"distlearn_dladv_report\"] = distlearn_dladv_report\n",
    "    \n",
    "    sweep_logs[eps_iter] = dict_for_epsiter\n"
   ]
  },
  {
   "cell_type": "code",
   "execution_count": 8,
   "metadata": {},
   "outputs": [],
   "source": [
    "with open(\"sweep_logs_k500n500_moreoffmfld.json\", \"w\") as f:\n",
    "    json.dump(sweep_logs, f)"
   ]
  },
  {
   "cell_type": "code",
   "execution_count": 231,
   "metadata": {},
   "outputs": [],
   "source": [
    "sweep_logs = json.load(open(\"./sweep_logs.json\"))"
   ]
  },
  {
   "cell_type": "code",
   "execution_count": 9,
   "metadata": {},
   "outputs": [
    {
     "data": {
      "text/plain": [
       "Text(0.5, 1.0, 'acc vs. eps_iter. 1000 iterations, 0.08 eps std pgd L2 attack')"
      ]
     },
     "execution_count": 9,
     "metadata": {},
     "output_type": "execute_result"
    },
    {
     "data": {
      "image/png": "[encoded data removed]",
      "text/plain": [
       "<Figure size 432x288 with 1 Axes>"
      ]
     },
     "metadata": {
      "needs_background": "light"
     },
     "output_type": "display_data"
    }
   ],
   "source": [
    "stdclf_adv_accs = []\n",
    "distlearn_adv_accs = []\n",
    "\n",
    "for alpha in sweep_logs:\n",
    "    stdclf_adv_accs.append(sweep_logs[alpha][\"stdclf_clfadv_report\"][\"accuracy\"])\n",
    "    distlearn_adv_accs.append(sweep_logs[alpha][\"distlearn_dladv_report\"][\"accuracy\"])\n",
    "\n",
    "plt.plot([float(i) for i in list(sweep_logs.keys())], stdclf_adv_accs, marker=\"o\", label=\"stdclf\")\n",
    "plt.plot([float(i) for i in list(sweep_logs.keys())], distlearn_adv_accs, marker=\"o\", label=\"distlearner\")\n",
    "plt.legend()\n",
    "plt.xlabel(\"eps_iter\")\n",
    "plt.ylabel(\"accuracy\")\n",
    "plt.title(\"acc vs. eps_iter. 1000 iterations, 0.08 eps std pgd L2 attack\")"
   ]
  },
  {
   "cell_type": "code",
   "execution_count": 134,
   "metadata": {},
   "outputs": [
    {
     "data": {
      "text/plain": [
       "('stdclf', 0.44722, 0.45348, 0.45049249999999996)"
      ]
     },
     "execution_count": 134,
     "metadata": {},
     "output_type": "execute_result"
    }
   ],
   "source": [
    "\"stdclf\", min(stdclf_adv_accs), max(stdclf_adv_accs), sum(stdclf_adv_accs) / len(stdclf_adv_accs)"
   ]
  },
  {
   "cell_type": "code",
   "execution_count": 135,
   "metadata": {},
   "outputs": [
    {
     "data": {
      "text/plain": [
       "('distlearn', 0.68947, 0.87213, 0.7438287499999999)"
      ]
     },
     "execution_count": 135,
     "metadata": {},
     "output_type": "execute_result"
    }
   ],
   "source": [
    "\"distlearn\", min(distlearn_adv_accs), max(distlearn_adv_accs), sum(distlearn_adv_accs) / len(distlearn_adv_accs)"
   ]
  },
  {
   "cell_type": "code",
   "execution_count": 102,
   "metadata": {},
   "outputs": [
    {
     "data": {
      "text/plain": [
       "Text(0.5, 1.0, 'acc vs. eps_iter. 1000 iterations, onmfld pgd L2 attack')"
      ]
     },
     "execution_count": 102,
     "metadata": {},
     "output_type": "execute_result"
    },
    {
     "data": {
      "image/png": "[encoded data removed]",
      "text/plain": [
       "<Figure size 432x288 with 1 Axes>"
      ]
     },
     "metadata": {
      "needs_background": "light"
     },
     "output_type": "display_data"
    }
   ],
   "source": [
    "with open(\"sweep_logs2onmfld_v3.json\", \"r\") as f:\n",
    "    sweep_logs_onmfld = json.load(f)\n",
    "    \n",
    "stdclf_adv_accs = []\n",
    "distlearn_adv_accs = []\n",
    "\n",
    "for alpha in sweep_logs_onmfld:\n",
    "    stdclf_adv_accs.append(sweep_logs_onmfld[alpha][\"stdclf_clfadv_report\"][\"accuracy\"])\n",
    "    distlearn_adv_accs.append(sweep_logs_onmfld[alpha][\"distlearn_dladv_report\"][\"accuracy\"])\n",
    "\n",
    "plt.plot([float(i) for i in list(sweep_logs_onmfld.keys())], stdclf_adv_accs, marker=\"o\", label=\"stdclf\")\n",
    "plt.plot([float(i) for i in list(sweep_logs_onmfld.keys())], distlearn_adv_accs, marker=\"o\", label=\"distlearner\")\n",
    "plt.legend()\n",
    "plt.xlabel(\"eps_iter\")\n",
    "plt.ylabel(\"accuracy\")\n",
    "\n",
    "plt.title(\"acc vs. eps_iter. 1000 iterations, onmfld pgd L2 attack\")\n",
    "\n",
    "# import matplotlib.ticker as mtick\n",
    "# plt.gca().xaxis.set_major_formatter(mtick.FormatStrFormatter('%.2e'))\n",
    "\n"
   ]
  },
  {
   "cell_type": "code",
   "execution_count": 140,
   "metadata": {},
   "outputs": [
    {
     "data": {
      "text/plain": [
       "('stdclf', 0.0, 0.0, 0.0)"
      ]
     },
     "execution_count": 140,
     "metadata": {},
     "output_type": "execute_result"
    }
   ],
   "source": [
    "\"stdclf\", min(stdclf_adv_accs), max(stdclf_adv_accs), sum(stdclf_adv_accs) / len(stdclf_adv_accs)"
   ]
  },
  {
   "cell_type": "code",
   "execution_count": 141,
   "metadata": {},
   "outputs": [
    {
     "data": {
      "text/plain": [
       "('distlearn', 0.34372, 0.91042, 0.5629149999999999)"
      ]
     },
     "execution_count": 141,
     "metadata": {},
     "output_type": "execute_result"
    }
   ],
   "source": [
    "\"distlearn\", min(distlearn_adv_accs), max(distlearn_adv_accs), sum(distlearn_adv_accs) / len(distlearn_adv_accs)"
   ]
  },
  {
   "cell_type": "code",
   "execution_count": 100,
   "metadata": {},
   "outputs": [],
   "source": [
    "testing_pred_labels = torch.load(\"./pred_labels_for_0.15_onmfld_1kiters.pth\")\n",
    "tmp = torch.max(testing_pred_labels != test_set.class_labels[test_set.class_labels != 2], dim=0)[1]\n",
    "\n",
    "testing_pred_labels_dl = torch.load(\"./pred_labels_dl_for_0.15_onmfld_1kiters.pth\")\n",
    "tmp_dl = torch.max(testing_pred_labels_dl != test_set.class_labels[test_set.class_labels != 2], dim=0)[1]"
   ]
  },
  {
   "cell_type": "code",
   "execution_count": 101,
   "metadata": {},
   "outputs": [
    {
     "data": {
      "text/plain": [
       "Text(0.5, 1.0, 'dist. of num. of iters for successful onmfld attack with eps_iter=1e-2')"
      ]
     },
     "execution_count": 101,
     "metadata": {},
     "output_type": "execute_result"
    },
    {
     "data": {
      "image/png": "[encoded data removed]",
      "text/plain": [
       "<Figure size 432x288 with 1 Axes>"
      ]
     },
     "metadata": {
      "needs_background": "light"
     },
     "output_type": "display_data"
    }
   ],
   "source": [
    "plt.hist(tmp[tmp != 0].numpy(), bins=np.arange(0, 1100, 50), rwidth=0.8, color=\"red\", alpha=0.5, label=\"stdclf\", log=True)\n",
    "plt.hist(tmp_dl[tmp_dl != 0].numpy(), bins=np.arange(0, 1100, 50), rwidth=0.8, label=\"distlearner\", log=True, alpha=0.5)\n",
    "plt.legend()\n",
    "plt.xlabel(\"num iters for success\")\n",
    "plt.ylabel(\"num samples\")\n",
    "plt.title(\"dist. of num. of iters for successful onmfld attack with eps_iter=1e-2\")"
   ]
  },
  {
   "cell_type": "code",
   "execution_count": 135,
   "metadata": {},
   "outputs": [],
   "source": [
    "for_box_plot = {\"eps_iter\": None, \"method\": None, \"num_iters_for_success\": None}\n",
    "for eps_iter in np.arange(5e-3, 0.155, 5e-3):\n",
    "    testing_pred_labels = torch.load(\"./pred_labels_for_{}_onmfld_1kiters.pth\".format(eps_iter))\n",
    "    tmp = torch.max(testing_pred_labels != test_set.class_labels[test_set.class_labels != 2], dim=0)[1]\n",
    "    if for_box_plot[\"eps_iter\"] is None:\n",
    "        for_box_plot[\"eps_iter\"] = np.zeros_like(tmp) + eps_iter\n",
    "    else:\n",
    "        p = np.zeros_like(tmp) + eps_iter\n",
    "        for_box_plot[\"eps_iter\"] = np.hstack((for_box_plot[\"eps_iter\"], p))\n",
    "        \n",
    "    if for_box_plot[\"method\"] is None:\n",
    "        for_box_plot[\"method\"] = [\"stdclf\"] * tmp.shape[0]\n",
    "    else:\n",
    "        p = [\"stdclf\"] * tmp.shape[0]\n",
    "        for_box_plot[\"method\"].extend(p)\n",
    "    \n",
    "    if for_box_plot[\"num_iters_for_success\"] is None:\n",
    "        for_box_plot[\"num_iters_for_success\"] = tmp\n",
    "    else:\n",
    "        for_box_plot[\"num_iters_for_success\"] = np.hstack((for_box_plot[\"num_iters_for_success\"], tmp))\n",
    "    \n",
    "    testing_pred_labels_dl = torch.load(\"./pred_labels_dl_for_{}_onmfld_1kiters.pth\".format(eps_iter))\n",
    "    tmp_dl = torch.max(testing_pred_labels_dl != test_set.class_labels[test_set.class_labels != 2], dim=0)[1]\n",
    "    \n",
    "    \n",
    "    if for_box_plot[\"eps_iter\"] is None:\n",
    "        for_box_plot[\"eps_iter\"] = np.zeros_like(tmp) + eps_iter\n",
    "    else:\n",
    "        p = np.zeros_like(tmp) + eps_iter\n",
    "        for_box_plot[\"eps_iter\"] = np.hstack((for_box_plot[\"eps_iter\"], p))\n",
    "        \n",
    "    if for_box_plot[\"method\"] is None:\n",
    "        for_box_plot[\"method\"] = [\"distlearner\"] * tmp.shape[0]\n",
    "    else:\n",
    "        p = [\"distlearner\"] * tmp.shape[0]\n",
    "        for_box_plot[\"method\"].extend(p)\n",
    "    \n",
    "    if for_box_plot[\"num_iters_for_success\"] is None:\n",
    "        for_box_plot[\"num_iters_for_success\"] = tmp_dl\n",
    "    else:\n",
    "        for_box_plot[\"num_iters_for_success\"] = np.hstack((for_box_plot[\"num_iters_for_success\"], tmp_dl))"
   ]
  },
  {
   "cell_type": "code",
   "execution_count": 141,
   "metadata": {},
   "outputs": [
    {
     "data": {
      "image/png": "[encoded data removed]",
      "text/plain": [
       "<Figure size 1440x432 with 1 Axes>"
      ]
     },
     "metadata": {
      "needs_background": "light"
     },
     "output_type": "display_data"
    }
   ],
   "source": [
    "\n",
    "df = pd.DataFrame(for_box_plot)\n",
    "df[\"eps_iter\"] = df[\"eps_iter\"].round(3)\n",
    "plt.figure(figsize=(20, 6))\n",
    "ax = sns.boxplot(x=\"eps_iter\", y=\"num_iters_for_success\", hue=\"method\", data=df, palette=\"Set1\")\n",
    "# ax.set_yscale(\"log\")\n",
    "plt.show()"
   ]
  },
  {
   "cell_type": "code",
   "execution_count": 169,
   "metadata": {},
   "outputs": [],
   "source": [
    "a = torch.unique(test_set.normed_all_actual_distances.ravel())\n"
   ]
  },
  {
   "cell_type": "code",
   "execution_count": null,
   "metadata": {},
   "outputs": [],
   "source": []
  },
  {
   "cell_type": "code",
   "execution_count": 195,
   "metadata": {},
   "outputs": [],
   "source": [
    "def log_decay(x, low=0.01, high=0.09, val=1.0):\n",
    "#     A = np.array([[np.log(low), 1], [np.log(high), 1]])\n",
    "#     b = np.array([low, val])\n",
    "#     coeff = np.linalg.solve(A, b)\n",
    "    scale = x[(low < x) & (x < high)]\n",
    "    scale = 1 + (scale - low) + \n",
    "    x[(low < x) & (x < high)] = coeff[0] * np.log(x[(low < x) & (x < high)]) + coeff[1]\n",
    "    x[x > high] = val\n",
    "    return x\n"
   ]
  },
  {
   "cell_type": "code",
   "execution_count": 210,
   "metadata": {},
   "outputs": [
    {
     "ename": "TypeError",
     "evalue": "savgol_filter() missing 2 required positional arguments: 'window_length' and 'polyorder'",
     "output_type": "error",
     "traceback": [
      "\u001b[0;31m---------------------------------------------------------------------------\u001b[0m",
      "\u001b[0;31mTypeError\u001b[0m                                 Traceback (most recent call last)",
      "\u001b[0;32m<ipython-input-210-315a332b3e5d>\u001b[0m in \u001b[0;36m<module>\u001b[0;34m\u001b[0m\n\u001b[1;32m      1\u001b[0m \u001b[0;32mfrom\u001b[0m \u001b[0mscipy\u001b[0m\u001b[0;34m.\u001b[0m\u001b[0msignal\u001b[0m \u001b[0;32mimport\u001b[0m \u001b[0msavgol_filter\u001b[0m\u001b[0;34m\u001b[0m\u001b[0;34m\u001b[0m\u001b[0m\n\u001b[0;32m----> 2\u001b[0;31m \u001b[0mplt\u001b[0m\u001b[0;34m.\u001b[0m\u001b[0mscatter\u001b[0m\u001b[0;34m(\u001b[0m\u001b[0ma\u001b[0m\u001b[0;34m,\u001b[0m \u001b[0msavgol_filter\u001b[0m\u001b[0;34m(\u001b[0m\u001b[0ma\u001b[0m\u001b[0;34m)\u001b[0m\u001b[0;34m)\u001b[0m\u001b[0;34m\u001b[0m\u001b[0;34m\u001b[0m\u001b[0m\n\u001b[0m",
      "\u001b[0;31mTypeError\u001b[0m: savgol_filter() missing 2 required positional arguments: 'window_length' and 'polyorder'"
     ]
    }
   ],
   "source": []
  },
  {
   "cell_type": "code",
   "execution_count": 229,
   "metadata": {},
   "outputs": [
    {
     "data": {
      "text/plain": [
       "[<matplotlib.lines.Line2D at 0x7fb3f27c03c8>]"
      ]
     },
     "execution_count": 229,
     "metadata": {},
     "output_type": "execute_result"
    },
    {
     "data": {
      "image/png": "[encoded data removed]",
      "text/plain": [
       "<Figure size 432x288 with 1 Axes>"
      ]
     },
     "metadata": {
      "needs_background": "light"
     },
     "output_type": "display_data"
    }
   ],
   "source": [
    "sample = np.arange(0.09, 0.1, 0.01/200)\n",
    "sample_y = 1 / (1 + np.exp(-(500*(sample-0.09) - 1)))\n",
    "plt.plot(sample, sample_y) "
   ]
  },
  {
   "cell_type": "code",
   "execution_count": 227,
   "metadata": {},
   "outputs": [
    {
     "data": {
      "text/plain": [
       "array([0.26894142, 0.27388502, 0.27888482, 0.28394021, 0.2890505 ,\n",
       "       0.29421497, 0.29943286, 0.30470333, 0.31002552, 0.3153985 ,\n",
       "       0.3208213 , 0.3262929 , 0.33181223, 0.33737816, 0.34298954,\n",
       "       0.34864514, 0.35434369, 0.3600839 , 0.36586441, 0.37168381,\n",
       "       0.37754067, 0.3834335 , 0.38936077, 0.39532092, 0.40131234,\n",
       "       0.4073334 , 0.41338242, 0.4194577 , 0.42555748, 0.43168002,\n",
       "       0.4378235 , 0.44398611, 0.450166  , 0.45636131, 0.46257015,\n",
       "       0.46879063, 0.47502081, 0.48125878, 0.4875026 , 0.49375033,\n",
       "       0.5       , 0.50624967, 0.5124974 , 0.51874122, 0.52497919,\n",
       "       0.53120937, 0.53742985, 0.54363869, 0.549834  , 0.55601389,\n",
       "       0.5621765 , 0.56831998, 0.57444252, 0.5805423 , 0.58661758,\n",
       "       0.5926666 , 0.59868766, 0.60467908, 0.61063923, 0.6165665 ,\n",
       "       0.62245933, 0.62831619, 0.63413559, 0.6399161 , 0.64565631,\n",
       "       0.65135486, 0.65701046, 0.66262184, 0.66818777, 0.6737071 ,\n",
       "       0.6791787 , 0.6846015 , 0.68997448, 0.69529667, 0.70056714,\n",
       "       0.70578503, 0.7109495 , 0.71605979, 0.72111518, 0.72611498,\n",
       "       0.73105858, 0.73594539, 0.7407749 , 0.74554661, 0.75026011,\n",
       "       0.75491499, 0.75951092, 0.7640476 , 0.76852478, 0.77294226,\n",
       "       0.77729986, 0.78159746, 0.78583498, 0.79001237, 0.79412963,\n",
       "       0.79818678, 0.80218389, 0.80612106, 0.80999843, 0.81381617,\n",
       "       0.81757448, 0.82127358, 0.82491373, 0.82849523, 0.83201839,\n",
       "       0.83548354, 0.83889105, 0.84224131, 0.84553473, 0.84877175,\n",
       "       0.8519528 , 0.85507837, 0.85814894, 0.86116501, 0.8641271 ,\n",
       "       0.86703576, 0.86989153, 0.87269496, 0.87544664, 0.87814715,\n",
       "       0.88079708, 0.88339703, 0.88594762, 0.88844946, 0.89090318,\n",
       "       0.89330941, 0.89566878, 0.89798193, 0.90024951, 0.90247216,\n",
       "       0.90465054, 0.90678528, 0.90887704, 0.91092647, 0.91293423,\n",
       "       0.91490095, 0.9168273 , 0.91871392, 0.92056145, 0.92237054,\n",
       "       0.92414182, 0.92587593, 0.92757351, 0.92923519, 0.93086158,\n",
       "       0.93245331, 0.93401099, 0.93553523, 0.93702664, 0.93848582,\n",
       "       0.93991335, 0.94130983, 0.94267582, 0.94401192, 0.94531868,\n",
       "       0.94659667, 0.94784644, 0.94906853, 0.95026349, 0.95143185,\n",
       "       0.95257413, 0.95369085, 0.95478253, 0.95584966, 0.95689275,\n",
       "       0.95791227, 0.95890872, 0.95988257, 0.96083428, 0.96176431,\n",
       "       0.96267311, 0.96356113, 0.96442881, 0.96527657, 0.96610484,\n",
       "       0.96691402, 0.96770454, 0.96847678, 0.96923114, 0.96996801,\n",
       "       0.97068777, 0.97139079, 0.97207743, 0.97274805, 0.97340301,\n",
       "       0.97404264, 0.9746673 , 0.9752773 , 0.97587298, 0.97645465,\n",
       "       0.97702263, 0.97757722, 0.97811873, 0.97864744, 0.97916366,\n",
       "       0.97966765, 0.98015969, 0.98064007, 0.98110904, 0.98156686,\n",
       "       0.98201379])"
      ]
     },
     "execution_count": 227,
     "metadata": {},
     "output_type": "execute_result"
    }
   ],
   "source": [
    "sample_y"
   ]
  },
  {
   "cell_type": "code",
   "execution_count": 199,
   "metadata": {},
   "outputs": [
    {
     "data": {
      "text/plain": [
       "[<matplotlib.lines.Line2D at 0x7fb403b71518>]"
      ]
     },
     "execution_count": 199,
     "metadata": {},
     "output_type": "execute_result"
    },
    {
     "data": {
      "image/png": "[encoded data removed]",
      "text/plain": [
       "<Figure size 432x288 with 1 Axes>"
      ]
     },
     "metadata": {
      "needs_background": "light"
     },
     "output_type": "display_data"
    }
   ],
   "source": [
    "plt.plot(np.log(np.arange(0.09, 0.1, 0.001)))"
   ]
  },
  {
   "cell_type": "code",
   "execution_count": 63,
   "metadata": {},
   "outputs": [
    {
     "data": {
      "text/plain": [
       "(tensor([2]), tensor([100000]))"
      ]
     },
     "execution_count": 63,
     "metadata": {},
     "output_type": "execute_result"
    }
   ],
   "source": [
    "dl_pred_labels_ma_dl.unique(return_counts=True)"
   ]
  },
  {
   "cell_type": "code",
   "execution_count": 79,
   "metadata": {},
   "outputs": [],
   "source": [
    "perturbed_pts_ma_dl = (test_set.normed_all_points[test_set.class_labels != 2] + all_deltas_dl_ma)\n",
    "pairwise_dists_pert_to_mfld = torch.cdist(perturbed_pts_ma_dl, test_set.normed_all_points[test_set.class_labels != 2])\n",
    "min_dist_pert_to_mfld = torch.min(pairwise_dists_pert_to_mfld, dim=1)"
   ]
  },
  {
   "cell_type": "code",
   "execution_count": 81,
   "metadata": {},
   "outputs": [
    {
     "data": {
      "image/png": "[encoded data removed]",
      "text/plain": [
       "<Figure size 432x288 with 1 Axes>"
      ]
     },
     "metadata": {
      "needs_background": "light"
     },
     "output_type": "display_data"
    }
   ],
   "source": [
    "plt.hist(min_dist_pert_to_mfld.values.numpy(), log=True)\n",
    "plt.ticklabel_format(axis=\"x\", style=\"sci\", scilimits=(0,0))"
   ]
  },
  {
   "cell_type": "code",
   "execution_count": 56,
   "metadata": {},
   "outputs": [
    {
     "data": {
      "text/plain": [
       "(array([  730.,  1681.,  2721.,  7707., 11157., 11470.,  8328., 11357.,\n",
       "        18305., 26544.]),\n",
       " array([0.09991051, 0.09991969, 0.09992887, 0.09993805, 0.09994724,\n",
       "        0.09995642, 0.0999656 , 0.09997478, 0.09998397, 0.09999315,\n",
       "        0.10000233], dtype=float32),\n",
       " <BarContainer object of 10 artists>)"
      ]
     },
     "execution_count": 56,
     "metadata": {},
     "output_type": "execute_result"
    },
    {
     "data": {
      "image/png": "[encoded data removed]",
      "text/plain": [
       "<Figure size 432x288 with 1 Axes>"
      ]
     },
     "metadata": {
      "needs_background": "light"
     },
     "output_type": "display_data"
    }
   ],
   "source": [
    "perturbed_pts_ma = (test_set.normed_all_points[test_set.class_labels != 2] + all_deltas_ma)\n",
    "pairwise_dists_pert_to_mfld = torch.cdist(perturbed_pts_ma, test_set.normed_all_points[test_set.class_labels != 2])\n",
    "min_dist_pert_to_mfld = torch.min(pairwise_dists_pert_to_mfld, dim=1)\n",
    "plt.hist(min_dist_pert_to_mfld.values.numpy())"
   ]
  },
  {
   "cell_type": "code",
   "execution_count": 64,
   "metadata": {},
   "outputs": [
    {
     "data": {
      "text/plain": [
       "(array([50529.,  1805.,  6823.,  6335.,  4563.,  3644.,  8606., 11696.,\n",
       "         5147.,   852.]),\n",
       " array([0.07426367, 0.13669978, 0.1991359 , 0.26157203, 0.32400814,\n",
       "        0.38644427, 0.44888037, 0.5113165 , 0.57375264, 0.63618875,\n",
       "        0.69862485], dtype=float32),\n",
       " <BarContainer object of 10 artists>)"
      ]
     },
     "execution_count": 64,
     "metadata": {},
     "output_type": "execute_result"
    },
    {
     "data": {
      "image/png": "[encoded data removed]",
      "text/plain": [
       "<Figure size 432x288 with 1 Axes>"
      ]
     },
     "metadata": {
      "needs_background": "light"
     },
     "output_type": "display_data"
    }
   ],
   "source": [
    "plt.hist(torch.min(dl_pred_ma_dl, axis=1).values.numpy())"
   ]
  },
  {
   "cell_type": "code",
   "execution_count": 84,
   "metadata": {},
   "outputs": [
    {
     "data": {
      "text/plain": [
       "(75,)"
      ]
     },
     "execution_count": 84,
     "metadata": {},
     "output_type": "execute_result"
    }
   ],
   "source": [
    "np.arange(5e-3, 0.08, 1e-3).shape"
   ]
  },
  {
   "cell_type": "code",
   "execution_count": 53,
   "metadata": {},
   "outputs": [
    {
     "data": {
      "text/plain": [
       "(array([76104.,  8359.,  5113.,  3688.,  2594.,  1393.,  1057.,   344.,\n",
       "          559.,   789.]),\n",
       " array([0.06420305, 0.10222142, 0.14023979, 0.17825815, 0.21627653,\n",
       "        0.25429487, 0.29231325, 0.33033162, 0.36835   , 0.40636835,\n",
       "        0.44438672], dtype=float32),\n",
       " <BarContainer object of 10 artists>)"
      ]
     },
     "execution_count": 53,
     "metadata": {},
     "output_type": "execute_result"
    },
    {
     "data": {
      "image/png": "[encoded data removed]",
      "text/plain": [
       "<Figure size 432x288 with 1 Axes>"
      ]
     },
     "metadata": {
      "needs_background": "light"
     },
     "output_type": "display_data"
    }
   ],
   "source": [
    "plt.hist(torch.min(dl_pred_ma, axis=1).values.numpy())"
   ]
  },
  {
   "cell_type": "code",
   "execution_count": 74,
   "metadata": {},
   "outputs": [
    {
     "data": {
      "text/plain": [
       "[<matplotlib.lines.Line2D at 0x7f5fdaf5b2b0>]"
      ]
     },
     "execution_count": 74,
     "metadata": {},
     "output_type": "execute_result"
    },
    {
     "data": {
      "image/png": "[encoded data removed]",
      "text/plain": [
       "<Figure size 432x288 with 1 Axes>"
      ]
     },
     "metadata": {
      "needs_background": "light"
     },
     "output_type": "display_data"
    }
   ],
   "source": [
    "plt.plot(all_losses_dl[10])"
   ]
  },
  {
   "cell_type": "code",
   "execution_count": 72,
   "metadata": {},
   "outputs": [
    {
     "data": {
      "text/plain": [
       "200"
      ]
     },
     "execution_count": 72,
     "metadata": {},
     "output_type": "execute_result"
    }
   ],
   "source": [
    "len(all_losses[0])"
   ]
  },
  {
   "cell_type": "code",
   "execution_count": 66,
   "metadata": {},
   "outputs": [
    {
     "data": {
      "text/plain": [
       "torch.Size([21350, 2])"
      ]
     },
     "execution_count": 66,
     "metadata": {},
     "output_type": "execute_result"
    }
   ],
   "source": [
    "dl_pred_ma[torch.min(dl_pred_ma, axis=1).values.numpy() < 0.07].shape"
   ]
  },
  {
   "cell_type": "code",
   "execution_count": 31,
   "metadata": {},
   "outputs": [
    {
     "data": {
      "text/plain": [
       "(tensor([0.8233, 0.1654]), tensor([0.8804, 0.1098]), tensor([0.8964, 0.0931]))"
      ]
     },
     "execution_count": 31,
     "metadata": {},
     "output_type": "execute_result"
    }
   ],
   "source": [
    "stdclf_pred[0], stdclf_pred_ma[0], stdclf_pred_ma_dl[0]"
   ]
  },
  {
   "cell_type": "code",
   "execution_count": null,
   "metadata": {},
   "outputs": [],
   "source": []
  },
  {
   "cell_type": "code",
   "execution_count": 13,
   "metadata": {},
   "outputs": [
    {
     "data": {
      "text/plain": [
       "(tensor([1.5543e-15, 1.0000e+00]),\n",
       " tensor([[0.3514, 1.0000]]),\n",
       " tensor([[3.7755e-04, 1.0000e+00]]))"
      ]
     },
     "execution_count": 13,
     "metadata": {},
     "output_type": "execute_result"
    }
   ],
   "source": [
    "test_set.normed_all_actual_distances[50000], dl_pred_ma_dl[0:1], dl_pred_ma[0:1]"
   ]
  },
  {
   "cell_type": "code",
   "execution_count": 13,
   "metadata": {},
   "outputs": [
    {
     "data": {
      "text/plain": [
       "('dist_form_S1',\n",
       " tensor(0.3108),\n",
       " 'dist_form_S2_off',\n",
       " tensor(1.4227),\n",
       " 'dist_form_S1_off',\n",
       " tensor(1.2233),\n",
       " 'dist_form_S2',\n",
       " tensor(0.4643))"
      ]
     },
     "execution_count": 13,
     "metadata": {},
     "output_type": "execute_result"
    }
   ],
   "source": [
    "\"dist_form_S1\", torch.norm(test_set.normed_all_points[50000] + all_deltas_dl_ma[0] - test_set.normed_all_points[50000:100000], p=2, dim=1).min(), \\\n",
    "\"dist_form_S2_off\", torch.norm(test_set.normed_all_points[50000] + all_deltas_dl_ma[0] - test_set.normed_all_points[100000:150000], p=2, dim=1).min(), \\\n",
    "\"dist_form_S1_off\", torch.norm(test_set.normed_all_points[50000] + all_deltas_dl_ma[0] - test_set.normed_all_points[0:50000], p=2, dim=1).min(), \\\n",
    "\"dist_form_S2\", torch.norm(test_set.normed_all_points[50000] + all_deltas_dl_ma[0] - test_set.normed_all_points[150000:], p=2, dim=1).min()\n",
    "\n",
    "\n"
   ]
  },
  {
   "cell_type": "code",
   "execution_count": 11,
   "metadata": {},
   "outputs": [
    {
     "data": {
      "text/plain": [
       "(tensor(1.0000), tensor(1.0000))"
      ]
     },
     "execution_count": 11,
     "metadata": {},
     "output_type": "execute_result"
    }
   ],
   "source": [
    "torch.norm(test_set.normed_all_points[50000] + all_deltas_ma[0], p=2),torch.norm(test_set.normed_all_points[50000], p=2)"
   ]
  },
  {
   "cell_type": "code",
   "execution_count": 37,
   "metadata": {},
   "outputs": [
    {
     "data": {
      "text/plain": [
       "torch.Size([100000])"
      ]
     },
     "execution_count": 37,
     "metadata": {},
     "output_type": "execute_result"
    }
   ],
   "source": [
    "min_dist_of_adv_eg[0].shape"
   ]
  },
  {
   "cell_type": "code",
   "execution_count": 9,
   "metadata": {},
   "outputs": [
    {
     "data": {
      "text/plain": [
       "(tensor(0.3341), tensor(1.4322), tensor(1.2320), tensor(0.4849))"
      ]
     },
     "execution_count": 9,
     "metadata": {},
     "output_type": "execute_result"
    }
   ],
   "source": [
    "torch.norm(test_set.normed_all_points[50000] + all_deltas_ma[0] - test_set.normed_all_points[50000:100000], p=2, dim=1).min(), \\\n",
    "torch.norm(test_set.normed_all_points[50000] + all_deltas_ma[0] - test_set.normed_all_points[100000:150000], p=2, dim=1).min(), \\\n",
    "torch.norm(test_set.normed_all_points[50000] + all_deltas_ma[0] - test_set.normed_all_points[0:50000], p=2, dim=1).min(), \\\n",
    "torch.norm(test_set.normed_all_points[50000] + all_deltas_ma[0] - test_set.normed_all_points[150000:], p=2, dim=1).min()\n"
   ]
  },
  {
   "cell_type": "code",
   "execution_count": 47,
   "metadata": {},
   "outputs": [],
   "source": [
    "dist_of_adv_eg_from_inp = torch.cdist(test_set.normed_all_points[test_set.class_labels != 2] + all_deltas_dl_ma, test_set.normed_all_points[test_set.class_labels != 2], p=2)\n",
    "min_dist_of_adv_eg = torch.min(dist_of_adv_eg_from_inp, dim=1)\n",
    "\n"
   ]
  },
  {
   "cell_type": "code",
   "execution_count": null,
   "metadata": {},
   "outputs": [],
   "source": []
  },
  {
   "cell_type": "code",
   "execution_count": 13,
   "metadata": {},
   "outputs": [
    {
     "data": {
      "image/png": "[encoded data removed]",
      "text/plain": [
       "<Figure size 432x288 with 1 Axes>"
      ]
     },
     "metadata": {
      "needs_background": "light"
     },
     "output_type": "display_data"
    }
   ],
   "source": [
    "plt.hist(torch.norm(test_set.normed_all_points[test_set.class_labels != 2] + all_deltas_dl_ma, p=2, dim=1).numpy())\n",
    "plt.show()"
   ]
  },
  {
   "cell_type": "code",
   "execution_count": 12,
   "metadata": {},
   "outputs": [
    {
     "data": {
      "text/plain": [
       "torch.Size([100000, 500])"
      ]
     },
     "execution_count": 12,
     "metadata": {},
     "output_type": "execute_result"
    }
   ],
   "source": [
    "(test_set.normed_all_points[test_set.class_labels != 2] + all_deltas_dl_ma).shape"
   ]
  },
  {
   "cell_type": "code",
   "execution_count": 14,
   "metadata": {},
   "outputs": [
    {
     "data": {
      "image/png": "[encoded data removed]",
      "text/plain": [
       "<Figure size 432x288 with 1 Axes>"
      ]
     },
     "metadata": {
      "needs_background": "light"
     },
     "output_type": "display_data"
    }
   ],
   "source": [
    "plt.hist(torch.norm(test_set.normed_all_points[test_set.class_labels != 2], p=2, dim=1).numpy())\n",
    "plt.show()"
   ]
  },
  {
   "cell_type": "code",
   "execution_count": 72,
   "metadata": {},
   "outputs": [
    {
     "data": {
      "text/plain": [
       "99944.0"
      ]
     },
     "execution_count": 72,
     "metadata": {},
     "output_type": "execute_result"
    },
    {
     "data": {
      "image/png": "[encoded data removed]",
      "text/plain": [
       "<Figure size 432x288 with 1 Axes>"
      ]
     },
     "metadata": {
      "needs_background": "light"
     },
     "output_type": "display_data"
    }
   ],
   "source": [
    "plt.hist(min_dist_of_adv_eg[0].numpy(), log=True, bins=20, rwidth=0.8)[0].sum()\n",
    "# plt.ticklabel_format(axis=\"x\", style=\"sci\", scilimits=(0,0))"
   ]
  },
  {
   "cell_type": "code",
   "execution_count": 49,
   "metadata": {},
   "outputs": [
    {
     "data": {
      "text/plain": [
       "0.17507726"
      ]
     },
     "execution_count": 49,
     "metadata": {},
     "output_type": "execute_result"
    }
   ],
   "source": [
    "min(min_dist_of_adv_eg[0][min_dist_of_adv_eg[0] != test_set.class_labels[test_set.class_labels != 2]].numpy())"
   ]
  },
  {
   "cell_type": "code",
   "execution_count": 61,
   "metadata": {},
   "outputs": [],
   "source": [
    "tmp = min_dist_of_adv_eg[0].numpy()\n"
   ]
  },
  {
   "cell_type": "code",
   "execution_count": 81,
   "metadata": {},
   "outputs": [
    {
     "data": {
      "text/plain": [
       "0.29497707"
      ]
     },
     "execution_count": 81,
     "metadata": {},
     "output_type": "execute_result"
    }
   ],
   "source": [
    "tmp[~np.isnan(tmp)].mean()"
   ]
  },
  {
   "cell_type": "code",
   "execution_count": 50,
   "metadata": {},
   "outputs": [
    {
     "data": {
      "text/plain": [
       "nan"
      ]
     },
     "execution_count": 50,
     "metadata": {},
     "output_type": "execute_result"
    }
   ],
   "source": [
    "np.linalg.norm(min_dist_of_adv_eg[0].numpy() - torch.min(dl_pred_ma_dl, dim=1)[0].numpy(), 2) / dl_pred_ma_dl.shape[0]"
   ]
  },
  {
   "cell_type": "code",
   "execution_count": 23,
   "metadata": {},
   "outputs": [
    {
     "data": {
      "text/plain": [
       "(array([0.35142308, 0.7915583 , 0.99682236, ..., 0.42633182, 0.314585  ,\n",
       "        0.12088842], dtype=float32),\n",
       " array([0.31082448, 0.2822198 , 0.3081842 , ..., 0.31927136, 0.30409536,\n",
       "        0.26727456], dtype=float32))"
      ]
     },
     "execution_count": 23,
     "metadata": {},
     "output_type": "execute_result"
    }
   ],
   "source": [
    "torch.min(dl_pred_ma_dl, dim=1)[0].numpy(), min_dist_of_adv_eg[0].numpy()"
   ]
  },
  {
   "cell_type": "code",
   "execution_count": 25,
   "metadata": {},
   "outputs": [
    {
     "data": {
      "text/plain": [
       "(array([1.23771236, 0.42904697, 0.06683846, 1.48505516, 3.12699974,\n",
       "        2.85304121, 1.97713853, 1.36438486, 0.97736281, 0.7228158 ,\n",
       "        0.57012865, 0.48968169, 0.43905257, 0.42044186, 0.3936269 ,\n",
       "        0.39862931, 0.43244877, 0.48007616, 0.60174687, 1.53408248]),\n",
       " array([1.5584537e-05, 5.0014805e-02, 1.0001402e-01, 1.5001325e-01,\n",
       "        2.0001246e-01, 2.5001168e-01, 3.0001092e-01, 3.5001013e-01,\n",
       "        4.0000936e-01, 4.5000857e-01, 5.0000781e-01, 5.5000699e-01,\n",
       "        6.0000622e-01, 6.5000546e-01, 7.0000470e-01, 7.5000387e-01,\n",
       "        8.0000311e-01, 8.5000235e-01, 9.0000159e-01, 9.5000076e-01,\n",
       "        1.0000000e+00], dtype=float32),\n",
       " <BarContainer object of 20 artists>)"
      ]
     },
     "execution_count": 25,
     "metadata": {},
     "output_type": "execute_result"
    },
    {
     "data": {
      "image/png": "[encoded data removed]",
      "text/plain": [
       "<Figure size 432x288 with 1 Axes>"
      ]
     },
     "metadata": {
      "needs_background": "light"
     },
     "output_type": "display_data"
    }
   ],
   "source": [
    "plt.hist(torch.min(dl_pred_ma_dl, dim=1)[0].numpy(), bins=20, log=True, rwidth=0.8, density=True)\n",
    "# plt.ticklabel_format(axis=\"x\", style=\"sci\", scilimits=(0,0))\n"
   ]
  },
  {
   "cell_type": "code",
   "execution_count": 82,
   "metadata": {},
   "outputs": [
    {
     "name": "stdout",
     "output_type": "stream",
     "text": [
      "Std. Clf. on actual test set\n",
      "              precision    recall  f1-score   support\n",
      "\n",
      "           0       1.00      1.00      1.00     50000\n",
      "           1       1.00      1.00      1.00     50000\n",
      "\n",
      "    accuracy                           1.00    100000\n",
      "   macro avg       1.00      1.00      1.00    100000\n",
      "weighted avg       1.00      1.00      1.00    100000\n",
      "\n",
      "Std. Clf. on perturbed test set by CLF attack\n",
      "              precision    recall  f1-score   support\n",
      "\n",
      "           0       0.00      0.00      0.00   50000.0\n",
      "           1       0.00      0.00      0.00   50000.0\n",
      "\n",
      "    accuracy                           0.00  100000.0\n",
      "   macro avg       0.00      0.00      0.00  100000.0\n",
      "weighted avg       0.00      0.00      0.00  100000.0\n",
      "\n",
      "Std. Clf. on perturbed test set by DL attack\n",
      "              precision    recall  f1-score   support\n",
      "\n",
      "           0       1.00      1.00      1.00     50000\n",
      "           1       1.00      1.00      1.00     50000\n",
      "\n",
      "    accuracy                           1.00    100000\n",
      "   macro avg       1.00      1.00      1.00    100000\n",
      "weighted avg       1.00      1.00      1.00    100000\n",
      "\n",
      "Dist. Learner on actual test set\n",
      "              precision    recall  f1-score   support\n",
      "\n",
      "           0       1.00      1.00      1.00     50000\n",
      "           1       1.00      1.00      1.00     50000\n",
      "\n",
      "    accuracy                           1.00    100000\n",
      "   macro avg       1.00      1.00      1.00    100000\n",
      "weighted avg       1.00      1.00      1.00    100000\n",
      "\n",
      "Dist. Learner on perturbed test set by CLF attack\n",
      "              precision    recall  f1-score   support\n",
      "\n",
      "           0       1.00      1.00      1.00     50000\n",
      "           1       1.00      1.00      1.00     50000\n",
      "\n",
      "    accuracy                           1.00    100000\n",
      "   macro avg       1.00      1.00      1.00    100000\n",
      "weighted avg       1.00      1.00      1.00    100000\n",
      "\n",
      "Dist. Learner on perturbed test set by DL attack\n",
      "              precision    recall  f1-score   support\n",
      "\n",
      "           0       0.92      0.90      0.91     50000\n",
      "           1       0.91      0.92      0.91     50000\n",
      "\n",
      "    accuracy                           0.91    100000\n",
      "   macro avg       0.91      0.91      0.91    100000\n",
      "weighted avg       0.91      0.91      0.91    100000\n",
      "\n"
     ]
    }
   ],
   "source": [
    "print(\"Std. Clf. on actual test set\")\n",
    "print(classification_report(test_set.class_labels[test_set.class_labels != 2], torch.max(stdclf_pred, 1)[1]))\n",
    "\n",
    "print(\"Std. Clf. on perturbed test set by CLF attack\")\n",
    "print(classification_report(test_set.class_labels[test_set.class_labels != 2], torch.max(stdclf_pred_ma, 1)[1]))\n",
    "\n",
    "print(\"Std. Clf. on perturbed test set by DL attack\")\n",
    "print(classification_report(test_set.class_labels[test_set.class_labels != 2], torch.max(stdclf_pred_ma_dl, 1)[1]))\n",
    "\n",
    "print(\"Dist. Learner on actual test set\")\n",
    "dl_pred_labels = torch.min(dl_pred, 1)[1]\n",
    "\n",
    "# dl_pred_labels[torch.min(dl_pred, 1)[0] > (test_set.D / test_set.norm_factor)] = 2\n",
    "print(classification_report(test_set.class_labels[test_set.class_labels != 2], dl_pred_labels))\n",
    "\n",
    "print(\"Dist. Learner on perturbed test set by CLF attack\")\n",
    "# dl_labels_on_perturbed_set = \n",
    "dl_pred_labels_ma = torch.min(dl_pred_ma, 1)[1]\n",
    "# dl_pred_labels_ma[torch.min(dl_pred_ma, 1)[0] > 0.07] = 2\n",
    "\n",
    "# dl_pred_labels_ma[torch.min(dl_pred_ma, 1)[0] > (test_set.D / test_set.norm_factor)] = 2\n",
    "print(classification_report(test_set.class_labels[test_set.class_labels != 2], dl_pred_labels_ma))\n",
    "\n",
    "print(\"Dist. Learner on perturbed test set by DL attack\")\n",
    "# dl_labels_on_perturbed_set = \n",
    "dl_pred_labels_ma_dl = torch.min(dl_pred_ma_dl, 1)[1]\n",
    "# dl_pred_labels_ma_dl[torch.min(dl_pred_ma_dl, 1)[0] > 0.08] = 2\n",
    "# dl_pred_labels_ma_dl[torch.min(dl_pred_ma_dl, 1)[0] > (test_set.D / test_set.norm_factor)] = 2\n",
    "print(classification_report(test_set.class_labels[test_set.class_labels != 2], dl_pred_labels_ma_dl))"
   ]
  },
  {
   "cell_type": "code",
   "execution_count": 36,
   "metadata": {},
   "outputs": [
    {
     "data": {
      "image/png": "[encoded data removed]",
      "text/plain": [
       "<Figure size 432x288 with 1 Axes>"
      ]
     },
     "metadata": {
      "needs_background": "light"
     },
     "output_type": "display_data"
    }
   ],
   "source": [
    "plt.scatter(test_set.normed_all_points.numpy()[:, 0], test_set.normed_all_points.numpy()[:, 1], c=test_set.class_labels, s=0.01)\n",
    "on_mfld_pts = test_set.normed_all_points[test_set.class_labels != 2]\n",
    "perturbed_pts = on_mfld_pts + all_deltas_ma[:50000]\n",
    "plt.scatter(perturbed_pts.numpy()[:, 0], perturbed_pts.numpy()[:, 1], marker=\"+\", s=100)\n",
    "for i in random.sample(np.arange(on_mfld_pts.shape[0]).tolist(), 20):\n",
    "    plt.arrow(on_mfld_pts[i, 0].numpy(), on_mfld_pts[i, 1].numpy(), all_deltas_ma[i, 0].numpy(), all_deltas_ma[i, 1].numpy(), head_width=0.03, color=\"red\")\n",
    "plt.gca().set_aspect('equal')\n",
    "\n"
   ]
  },
  {
   "cell_type": "code",
   "execution_count": 10,
   "metadata": {},
   "outputs": [
    {
     "data": {
      "text/plain": [
       "('perturbed over predictions:',\n",
       " torch.Size([2194]),\n",
       " 0.075,\n",
       " 'actual set over predictions',\n",
       " torch.Size([2377]))"
      ]
     },
     "execution_count": 10,
     "metadata": {},
     "output_type": "execute_result"
    }
   ],
   "source": [
    "\"perturbed over predictions:\", dl_pred.min(1)[0][dl_pred_ma.min(1)[0] > (test_set.D / test_set.norm_factor)].shape, (test_set.D / test_set.norm_factor), \\\n",
    "\"actual set over predictions\", dl_pred.min(1)[0][dl_pred.min(1)[0] > (test_set.D / test_set.norm_factor)].shape"
   ]
  },
  {
   "cell_type": "code",
   "execution_count": 26,
   "metadata": {},
   "outputs": [
    {
     "data": {
      "image/png": "[encoded data removed]",
      "text/plain": [
       "<Figure size 432x288 with 1 Axes>"
      ]
     },
     "metadata": {
      "needs_background": "light"
     },
     "output_type": "display_data"
    }
   ],
   "source": [
    "heights, xticks, _ = plt.hist(dl_pred_ma_dl.min(1)[0].numpy())\n",
    "ax = plt.gca()\n",
    "rects = ax.patches\n",
    "labels = [str(int(i)) for i in heights]\n",
    "  \n",
    "for rect, label in zip(rects, labels):\n",
    "    height = rect.get_height()\n",
    "    ax.text(rect.get_x() + rect.get_width() / 2, height+0.01, label,\n",
    "            ha='center', va='bottom')\n",
    "  \n",
    "# Show plot\n",
    "plt.xlabel(\"predicted distance\")\n",
    "plt.ylabel(\"no. of points\")\n",
    "plt.title(\"dist. of points for un-perturbed set (greedy attack, k2n500)\")\n",
    "plt.show()\n"
   ]
  },
  {
   "cell_type": "code",
   "execution_count": 37,
   "metadata": {},
   "outputs": [
    {
     "data": {
      "text/plain": [
       "[<matplotlib.lines.Line2D at 0x7f7fdd396cf8>]"
      ]
     },
     "execution_count": 37,
     "metadata": {},
     "output_type": "execute_result"
    },
    {
     "data": {
      "image/png": "[encoded data removed]",
      "text/plain": [
       "<Figure size 432x288 with 1 Axes>"
      ]
     },
     "metadata": {
      "needs_background": "light"
     },
     "output_type": "display_data"
    }
   ],
   "source": [
    "plt.plot(all_losses_dl[0])\n",
    "\n"
   ]
  },
  {
   "cell_type": "code",
   "execution_count": 38,
   "metadata": {},
   "outputs": [
    {
     "data": {
      "text/plain": [
       "(array([72880.,  7557., 11560.,  4709.,   887.,   245.,   174.,   443.,\n",
       "         1391.,   154.]),\n",
       " array([  9. ,  27.5,  46. ,  64.5,  83. , 101.5, 120. , 138.5, 157. ,\n",
       "        175.5, 194. ]),\n",
       " <BarContainer object of 10 artists>)"
      ]
     },
     "execution_count": 38,
     "metadata": {},
     "output_type": "execute_result"
    },
    {
     "data": {
      "image/png": "[encoded data removed]",
      "text/plain": [
       "<Figure size 432x288 with 1 Axes>"
      ]
     },
     "metadata": {
      "needs_background": "light"
     },
     "output_type": "display_data"
    }
   ],
   "source": [
    "plt.hist([len(i) for i in all_losses_dl])"
   ]
  },
  {
   "cell_type": "code",
   "execution_count": 17,
   "metadata": {},
   "outputs": [
    {
     "data": {
      "text/plain": [
       "tensor([[-7.7716e-16,         inf],\n",
       "        [ 2.2204e-16,         inf],\n",
       "        [-1.1102e-16,         inf],\n",
       "        ...,\n",
       "        [-2.2204e-16,         inf],\n",
       "        [-2.2204e-16,         inf],\n",
       "        [ 0.0000e+00,         inf]])"
      ]
     },
     "execution_count": 17,
     "metadata": {},
     "output_type": "execute_result"
    }
   ],
   "source": [
    "test_set.normed_all_actual_distances[test_set.class_labels != 2][:50000]"
   ]
  },
  {
   "cell_type": "code",
   "execution_count": 22,
   "metadata": {},
   "outputs": [
    {
     "data": {
      "text/plain": [
       "tensor(-1.7893e-09)"
      ]
     },
     "execution_count": 22,
     "metadata": {},
     "output_type": "execute_result"
    }
   ],
   "source": [
    "torch.mean(torch.norm(test_set.normed_all_points[test_set.class_labels!=2], p=2, dim=1) - torch.norm(test_set.normed_all_points[test_set.class_labels!=2] + all_deltas_ma, p=2, dim=1))\n",
    "\n"
   ]
  },
  {
   "cell_type": "code",
   "execution_count": 17,
   "metadata": {},
   "outputs": [
    {
     "data": {
      "text/plain": [
       "tensor([[-0.0352,  0.0756, -0.0603,  ...,  0.0299, -0.1090,  0.0153],\n",
       "        [-0.0193,  0.0219,  0.0717,  ...,  0.0338,  0.0572,  0.0182],\n",
       "        [ 0.0234, -0.0209, -0.0247,  ..., -0.0511,  0.1105, -0.1094],\n",
       "        ...,\n",
       "        [ 0.0943,  0.0209, -0.1480,  ...,  0.0438,  0.0069, -0.0217],\n",
       "        [-0.0287,  0.0575, -0.0387,  ...,  0.0323,  0.1207, -0.0894],\n",
       "        [ 0.0272, -0.0471, -0.0833,  ...,  0.0709,  0.0693, -0.1075]])"
      ]
     },
     "execution_count": 17,
     "metadata": {},
     "output_type": "execute_result"
    }
   ],
   "source": [
    "all_deltas_ma"
   ]
  },
  {
   "cell_type": "code",
   "execution_count": 8,
   "metadata": {},
   "outputs": [
    {
     "ename": "TypeError",
     "evalue": "can't convert cuda:0 device type tensor to numpy. Use Tensor.cpu() to copy the tensor to host memory first.",
     "output_type": "error",
     "traceback": [
      "\u001b[0;31m---------------------------------------------------------------------------\u001b[0m",
      "\u001b[0;31mTypeError\u001b[0m                                 Traceback (most recent call last)",
      "\u001b[0;32m<ipython-input-8-9365ee3ac5fe>\u001b[0m in \u001b[0;36m<module>\u001b[0;34m\u001b[0m\n\u001b[0;32m----> 1\u001b[0;31m \u001b[0mdeltas\u001b[0m\u001b[0;34m,\u001b[0m \u001b[0mlosses\u001b[0m \u001b[0;34m=\u001b[0m \u001b[0mpgd_l2_mfld_attack\u001b[0m\u001b[0;34m(\u001b[0m\u001b[0mstdclf_model\u001b[0m\u001b[0;34m,\u001b[0m \u001b[0mtest_set\u001b[0m\u001b[0;34m.\u001b[0m\u001b[0mnormed_all_points\u001b[0m\u001b[0;34m[\u001b[0m\u001b[0mtest_set\u001b[0m\u001b[0;34m.\u001b[0m\u001b[0mclass_labels\u001b[0m\u001b[0;34m!=\u001b[0m\u001b[0;36m2\u001b[0m\u001b[0;34m]\u001b[0m\u001b[0;34m[\u001b[0m\u001b[0;34m:\u001b[0m\u001b[0;36m5\u001b[0m\u001b[0;34m]\u001b[0m\u001b[0;34m.\u001b[0m\u001b[0mcuda\u001b[0m\u001b[0;34m(\u001b[0m\u001b[0;34m)\u001b[0m \u001b[0;34m-\u001b[0m \u001b[0mtest_set\u001b[0m\u001b[0;34m.\u001b[0m\u001b[0mfix_center\u001b[0m\u001b[0;34m,\u001b[0m \u001b[0mtest_set\u001b[0m\u001b[0;34m.\u001b[0m\u001b[0mclass_labels\u001b[0m\u001b[0;34m[\u001b[0m\u001b[0mtest_set\u001b[0m\u001b[0;34m.\u001b[0m\u001b[0mclass_labels\u001b[0m\u001b[0;34m!=\u001b[0m\u001b[0;36m2\u001b[0m\u001b[0;34m]\u001b[0m\u001b[0;34m[\u001b[0m\u001b[0;34m:\u001b[0m\u001b[0;36m5\u001b[0m\u001b[0;34m]\u001b[0m\u001b[0;34m.\u001b[0m\u001b[0mcuda\u001b[0m\u001b[0;34m(\u001b[0m\u001b[0;34m)\u001b[0m\u001b[0;34m)\u001b[0m\u001b[0;34m\u001b[0m\u001b[0;34m\u001b[0m\u001b[0m\n\u001b[0m\u001b[1;32m      2\u001b[0m \u001b[0;34m\u001b[0m\u001b[0m\n\u001b[1;32m      3\u001b[0m \u001b[0;34m\u001b[0m\u001b[0m\n\u001b[1;32m      4\u001b[0m \u001b[0;34m\u001b[0m\u001b[0m\n",
      "\u001b[0;32m/usr/local/lib/python3.6/dist-packages/torch/tensor.py\u001b[0m in \u001b[0;36m__array__\u001b[0;34m(self, dtype)\u001b[0m\n\u001b[1;32m    653\u001b[0m             \u001b[0;32mreturn\u001b[0m \u001b[0mhandle_torch_function\u001b[0m\u001b[0;34m(\u001b[0m\u001b[0mTensor\u001b[0m\u001b[0;34m.\u001b[0m\u001b[0m__array__\u001b[0m\u001b[0;34m,\u001b[0m \u001b[0mrelevant_args\u001b[0m\u001b[0;34m,\u001b[0m \u001b[0mself\u001b[0m\u001b[0;34m,\u001b[0m \u001b[0mdtype\u001b[0m\u001b[0;34m=\u001b[0m\u001b[0mdtype\u001b[0m\u001b[0;34m)\u001b[0m\u001b[0;34m\u001b[0m\u001b[0;34m\u001b[0m\u001b[0m\n\u001b[1;32m    654\u001b[0m         \u001b[0;32mif\u001b[0m \u001b[0mdtype\u001b[0m \u001b[0;32mis\u001b[0m \u001b[0;32mNone\u001b[0m\u001b[0;34m:\u001b[0m\u001b[0;34m\u001b[0m\u001b[0;34m\u001b[0m\u001b[0m\n\u001b[0;32m--> 655\u001b[0;31m             \u001b[0;32mreturn\u001b[0m \u001b[0mself\u001b[0m\u001b[0;34m.\u001b[0m\u001b[0mnumpy\u001b[0m\u001b[0;34m(\u001b[0m\u001b[0;34m)\u001b[0m\u001b[0;34m\u001b[0m\u001b[0;34m\u001b[0m\u001b[0m\n\u001b[0m\u001b[1;32m    656\u001b[0m         \u001b[0;32melse\u001b[0m\u001b[0;34m:\u001b[0m\u001b[0;34m\u001b[0m\u001b[0;34m\u001b[0m\u001b[0m\n\u001b[1;32m    657\u001b[0m             \u001b[0;32mreturn\u001b[0m \u001b[0mself\u001b[0m\u001b[0;34m.\u001b[0m\u001b[0mnumpy\u001b[0m\u001b[0;34m(\u001b[0m\u001b[0;34m)\u001b[0m\u001b[0;34m.\u001b[0m\u001b[0mastype\u001b[0m\u001b[0;34m(\u001b[0m\u001b[0mdtype\u001b[0m\u001b[0;34m,\u001b[0m \u001b[0mcopy\u001b[0m\u001b[0;34m=\u001b[0m\u001b[0;32mFalse\u001b[0m\u001b[0;34m)\u001b[0m\u001b[0;34m\u001b[0m\u001b[0;34m\u001b[0m\u001b[0m\n",
      "\u001b[0;31mTypeError\u001b[0m: can't convert cuda:0 device type tensor to numpy. Use Tensor.cpu() to copy the tensor to host memory first."
     ]
    }
   ],
   "source": [
    "deltas, losses = pgd_l2_mfld_attack(stdclf_model, test_set.normed_all_points[test_set.class_labels!=2][:5].cuda() - test_set.fix_center, test_set.class_labels[test_set.class_labels!=2][:5].cuda())\n",
    "\n",
    "\n",
    "\n"
   ]
  },
  {
   "cell_type": "code",
   "execution_count": null,
   "metadata": {},
   "outputs": [],
   "source": [
    "plt.plot(np.arange(1, 1001), np.mean(all_losses, axis=0), color=\"k\")\n",
    "plt.fill_between(np.arange(1, 1001), np.mean(all_losses, axis=0), np.min(all_losses, axis=0), np.max(all_losses, axis=0), color='red', alpha=0.4)\n",
    "\n",
    "plt.xlabel(\"iterations\")\n",
    "plt.ylabel(\"loss\")\n",
    "plt.title(\"avg. loss for each sample by on-mfld. pgd\")"
   ]
  },
  {
   "cell_type": "code",
   "execution_count": 57,
   "metadata": {},
   "outputs": [
    {
     "data": {
      "text/plain": [
       "tensor([1.0000, 1.0000, 1.0000,  ..., 1.3000, 1.3000, 1.3000])"
      ]
     },
     "execution_count": 57,
     "metadata": {},
     "output_type": "execute_result"
    }
   ],
   "source": [
    "torch.norm(val_set.normed_all_points[val_set.class_labels != 2], p=2, dim=1)"
   ]
  },
  {
   "cell_type": "code",
   "execution_count": 19,
   "metadata": {},
   "outputs": [
    {
     "data": {
      "text/plain": [
       "tensor(1.3000)"
      ]
     },
     "execution_count": 19,
     "metadata": {},
     "output_type": "execute_result"
    }
   ],
   "source": [
    "torch.norm(test_set.normed_all_points[test_set.class_labels != 2] + all_deltas_ma, p=2, dim=1).max()"
   ]
  },
  {
   "cell_type": "code",
   "execution_count": 63,
   "metadata": {},
   "outputs": [],
   "source": [
    "dl_dump_dict = torch.load(distlearn_init_wts)"
   ]
  },
  {
   "cell_type": "code",
   "execution_count": 64,
   "metadata": {},
   "outputs": [
    {
     "data": {
      "text/plain": [
       "(1.9942767019988995e-07, 2.4784532030346236e-06, 996)"
      ]
     },
     "execution_count": 64,
     "metadata": {},
     "output_type": "execute_result"
    }
   ],
   "source": [
    "dl_dump_dict[\"loss\"], dl_dump_dict[\"val_loss\"], dl_dump_dict[\"epoch\"], "
   ]
  },
  {
   "cell_type": "code",
   "execution_count": 21,
   "metadata": {},
   "outputs": [],
   "source": [
    "logits_fn = \"/azuredrive/deepimage/data1/t-achetan/adv_geom_dumps/dumps/expD_distlearner_against_adv_eg/rdm_concspheres/rdm_concspheres_k2n500/7/logits/test/\"\n",
    "\n",
    "\n",
    "logits_specs = json.load(open(os.path.join(logits_fn, \"specs.json\")))\n",
    "logits_specs"
   ]
  },
  {
   "cell_type": "code",
   "execution_count": 25,
   "metadata": {},
   "outputs": [],
   "source": [
    "logits = torch.load(os.path.join(logits_fn, \"logits.pt\"))\n",
    "targets = torch.load(os.path.join(logits_fn, \"targets.pt\"))"
   ]
  },
  {
   "cell_type": "code",
   "execution_count": 91,
   "metadata": {},
   "outputs": [
    {
     "data": {
      "text/plain": [
       "tensor([[0.0702,    inf],\n",
       "        [0.0670,    inf],\n",
       "        [0.0206,    inf],\n",
       "        ...,\n",
       "        [0.0341,    inf],\n",
       "        [0.0843,    inf],\n",
       "        [0.0217,    inf]])"
      ]
     },
     "execution_count": 91,
     "metadata": {},
     "output_type": "execute_result"
    }
   ],
   "source": [
    "targets[:50000]"
   ]
  },
  {
   "cell_type": "code",
   "execution_count": 136,
   "metadata": {},
   "outputs": [
    {
     "data": {
      "text/plain": [
       "array([0.99999994, 1.        , 1.        , ..., 1.3000001 , 1.3       ,\n",
       "       1.3000001 ], dtype=float32)"
      ]
     },
     "execution_count": 136,
     "metadata": {},
     "output_type": "execute_result"
    }
   ],
   "source": [
    "np.linalg.norm(test_set.normed_all_points[test_set.class_labels != 2] + all_deltas_ma, ord=2, axis=1)"
   ]
  },
  {
   "cell_type": "code",
   "execution_count": 92,
   "metadata": {},
   "outputs": [
    {
     "data": {
      "text/plain": [
       "tensor([[0.0664, 0.0658],\n",
       "        [0.0679, 0.0664],\n",
       "        [0.0210, 0.0205],\n",
       "        ...,\n",
       "        [0.0346, 0.0341],\n",
       "        [0.0872, 0.0868],\n",
       "        [0.0204, 0.0200]])"
      ]
     },
     "execution_count": 92,
     "metadata": {},
     "output_type": "execute_result"
    }
   ],
   "source": [
    "logits[:50000]"
   ]
  },
  {
   "cell_type": "code",
   "execution_count": 93,
   "metadata": {},
   "outputs": [
    {
     "data": {
      "text/plain": [
       "tensor([[0.0668, 0.0663],\n",
       "        [0.0688, 0.0669],\n",
       "        [0.0215, 0.0207],\n",
       "        ...,\n",
       "        [0.0350, 0.0345],\n",
       "        [0.0890, 0.0875],\n",
       "        [0.0206, 0.0201]])"
      ]
     },
     "execution_count": 93,
     "metadata": {},
     "output_type": "execute_result"
    }
   ],
   "source": [
    "logits[100000:150000]"
   ]
  },
  {
   "cell_type": "code",
   "execution_count": 134,
   "metadata": {},
   "outputs": [
    {
     "data": {
      "text/plain": [
       "(0.9996582,\n",
       " 0.029228916,\n",
       " 0.3021848,\n",
       " tensor([0.0292,    inf]),\n",
       " tensor([0.0301, 0.0295]))"
      ]
     },
     "execution_count": 134,
     "metadata": {},
     "output_type": "execute_result"
    }
   ],
   "source": [
    "i = 32\n",
    "np.linalg.norm(test_set.normed_all_points[i], ord=2), \\\n",
    "np.linalg.norm(test_set.normed_all_points[i] - test_set.normed_all_points[50000:100000], ord=2, axis=1).min(), \\\n",
    "np.linalg.norm(test_set.normed_all_points[i] - test_set.normed_all_points[150000:200000], ord=2, axis=1).min(), \\\n",
    "targets[i], \\\n",
    "logits[i]"
   ]
  },
  {
   "cell_type": "code",
   "execution_count": 126,
   "metadata": {},
   "outputs": [
    {
     "data": {
      "text/plain": [
       "tensor([0.0274,    inf])"
      ]
     },
     "execution_count": 126,
     "metadata": {},
     "output_type": "execute_result"
    }
   ],
   "source": [
    "test_set.normed_all_actual_distances[10]"
   ]
  },
  {
   "cell_type": "code",
   "execution_count": 117,
   "metadata": {},
   "outputs": [
    {
     "data": {
      "text/plain": [
       "(array([3.1515e+04, 1.0495e+04, 4.6980e+03, 1.9890e+03, 8.4300e+02,\n",
       "        3.1300e+02, 1.1900e+02, 2.3000e+01, 3.0000e+00, 2.0000e+00]),\n",
       " array([0.        , 0.00249974, 0.00499947, 0.00749921, 0.00999894,\n",
       "        0.01249868, 0.01499841, 0.01749815, 0.01999788, 0.02249762,\n",
       "        0.02499735], dtype=float32),\n",
       " <BarContainer object of 10 artists>)"
      ]
     },
     "execution_count": 117,
     "metadata": {},
     "output_type": "execute_result"
    },
    {
     "data": {
      "image/png": "[encoded data removed]",
      "text/plain": [
       "<Figure size 432x288 with 1 Axes>"
      ]
     },
     "metadata": {
      "needs_background": "light"
     },
     "output_type": "display_data"
    }
   ],
   "source": [
    "plt.hist(np.abs(np.linalg.norm(test_set.normed_all_points[100000:150000], ord=2, axis=1) - 1.3))"
   ]
  },
  {
   "cell_type": "code",
   "execution_count": 108,
   "metadata": {},
   "outputs": [
    {
     "data": {
      "text/plain": [
       "(array([5064., 4924., 5058., 4920., 4992., 5163., 4877., 4963., 4943.,\n",
       "        5096.]),\n",
       " array([1.9954405e-06, 1.0001678e-02, 2.0001359e-02, 3.0001042e-02,\n",
       "        4.0000726e-02, 5.0000407e-02, 6.0000088e-02, 6.9999769e-02,\n",
       "        7.9999454e-02, 8.9999132e-02, 9.9998817e-02], dtype=float32),\n",
       " <BarContainer object of 10 artists>)"
      ]
     },
     "execution_count": 108,
     "metadata": {},
     "output_type": "execute_result"
    },
    {
     "data": {
      "image/png": "[encoded data removed]",
      "text/plain": [
       "<Figure size 432x288 with 1 Axes>"
      ]
     },
     "metadata": {
      "needs_background": "light"
     },
     "output_type": "display_data"
    }
   ],
   "source": [
    "plt.hist(targets[100000:150000][:, 1].numpy())"
   ]
  },
  {
   "cell_type": "code",
   "execution_count": 104,
   "metadata": {},
   "outputs": [
    {
     "data": {
      "text/plain": [
       "(0.1, 0.1)"
      ]
     },
     "execution_count": 104,
     "metadata": {},
     "output_type": "execute_result"
    }
   ],
   "source": [
    "test_set.max_norm, test_set.S1.genattrs.max_norm"
   ]
  },
  {
   "cell_type": "code",
   "execution_count": 110,
   "metadata": {},
   "outputs": [
    {
     "data": {
      "text/plain": [
       "(array([5064., 4924., 5058., 4920., 4992., 5163., 4877., 4963., 4943.,\n",
       "        5096.]),\n",
       " array([1.9954405e-06, 1.0001678e-02, 2.0001359e-02, 3.0001042e-02,\n",
       "        4.0000726e-02, 5.0000407e-02, 6.0000088e-02, 6.9999769e-02,\n",
       "        7.9999454e-02, 8.9999132e-02, 9.9998817e-02], dtype=float32),\n",
       " <BarContainer object of 10 artists>)"
      ]
     },
     "execution_count": 110,
     "metadata": {},
     "output_type": "execute_result"
    },
    {
     "data": {
      "image/png": "[encoded data removed]",
      "text/plain": [
       "<Figure size 432x288 with 1 Axes>"
      ]
     },
     "metadata": {
      "needs_background": "light"
     },
     "output_type": "display_data"
    }
   ],
   "source": [
    "plt.hist(test_set.S2.genattrs.actual_distances[0:50000].numpy())"
   ]
  },
  {
   "cell_type": "code",
   "execution_count": 119,
   "metadata": {},
   "outputs": [
    {
     "data": {
      "text/plain": [
       "(array([8.0000e+00, 1.4200e+02, 1.3710e+03, 1.1610e+04, 2.7148e+04,\n",
       "        7.2340e+03, 1.9940e+03, 4.3400e+02, 5.5000e+01, 4.0000e+00]),\n",
       " array([1.28253065, 1.28677735, 1.29102405, 1.29527076, 1.29951746,\n",
       "        1.30376416, 1.30801086, 1.31225756, 1.31650426, 1.32075097,\n",
       "        1.32499767]),\n",
       " <BarContainer object of 10 artists>)"
      ]
     },
     "execution_count": 119,
     "metadata": {},
     "output_type": "execute_result"
    },
    {
     "data": {
      "image/png": "[encoded data removed]",
      "text/plain": [
       "<Figure size 432x288 with 1 Axes>"
      ]
     },
     "metadata": {
      "needs_background": "light"
     },
     "output_type": "display_data"
    }
   ],
   "source": [
    "plt.hist(np.abs(np.linalg.norm(test_set.S2.genattrs.points_n[0:50000] - test_set.S2.specattrs.x_cn, ord=2, axis=1)))"
   ]
  },
  {
   "cell_type": "code",
   "execution_count": null,
   "metadata": {},
   "outputs": [],
   "source": []
  },
  {
   "cell_type": "code",
   "execution_count": 94,
   "metadata": {},
   "outputs": [
    {
     "data": {
      "text/plain": [
       "tensor([[   inf, 0.0702],\n",
       "        [   inf, 0.0670],\n",
       "        [   inf, 0.0206],\n",
       "        ...,\n",
       "        [   inf, 0.0341],\n",
       "        [   inf, 0.0843],\n",
       "        [   inf, 0.0217]])"
      ]
     },
     "execution_count": 94,
     "metadata": {},
     "output_type": "execute_result"
    }
   ],
   "source": [
    "targets[100000:150000]"
   ]
  },
  {
   "cell_type": "code",
   "execution_count": 58,
   "metadata": {},
   "outputs": [
    {
     "name": "stderr",
     "output_type": "stream",
     "text": [
      "/usr/local/lib/python3.6/dist-packages/ipykernel_launcher.py:4: MatplotlibDeprecationWarning: The 'nonposy' parameter of __init__() has been renamed 'nonpositive' since Matplotlib 3.3; support for the old name will be dropped two minor releases later.\n",
      "  after removing the cwd from sys.path.\n"
     ]
    },
    {
     "data": {
      "image/png": "[encoded data removed]",
      "text/plain": [
       "<Figure size 432x288 with 1 Axes>"
      ]
     },
     "metadata": {
      "needs_background": "light"
     },
     "output_type": "display_data"
    }
   ],
   "source": [
    "cls = 1\n",
    "plt.hist(targets[test_set.all_actual_distances[:, cls] < np.inf][:, cls].numpy(), color=\"k\", alpha=0.5)\n",
    "plt.hist(logits[test_set.all_actual_distances[:, cls] < np.inf][:, cls].numpy(), color=\"salmon\", alpha=0.5)\n",
    "plt.yscale('log', nonposy='clip')"
   ]
  },
  {
   "cell_type": "code",
   "execution_count": 138,
   "metadata": {},
   "outputs": [
    {
     "data": {
      "text/plain": [
       "<matplotlib.collections.PathCollection at 0x7f4ba80aa278>"
      ]
     },
     "execution_count": 138,
     "metadata": {},
     "output_type": "execute_result"
    },
    {
     "data": {
      "image/png": "[encoded data removed]",
      "text/plain": [
       "<Figure size 432x288 with 1 Axes>"
      ]
     },
     "metadata": {
      "needs_background": "light"
     },
     "output_type": "display_data"
    }
   ],
   "source": [
    "k_dim_points = (np.dot(np.linalg.inv(test_set.rotation), (test_set.normed_all_points - test_set.fix_center + test_set.anchor).T).T - test_set.translation)[:, :test_set.k]\n",
    "plt.scatter(k_dim_points[test_set.class_labels != 2, 0], k_dim_points[test_set.class_labels != 2, 1], c=dl_pred.min(1)[1], s=0.01)\n",
    "\n",
    "\n",
    "\n",
    "\n",
    "\n",
    "\n"
   ]
  },
  {
   "cell_type": "code",
   "execution_count": 118,
   "metadata": {},
   "outputs": [
    {
     "data": {
      "text/plain": [
       "1"
      ]
     },
     "execution_count": 118,
     "metadata": {},
     "output_type": "execute_result"
    }
   ],
   "source": [
    "test_set.norm_factor"
   ]
  },
  {
   "cell_type": "code",
   "execution_count": 85,
   "metadata": {},
   "outputs": [
    {
     "data": {
      "text/plain": [
       "0.009844154893289303"
      ]
     },
     "execution_count": 85,
     "metadata": {},
     "output_type": "execute_result"
    }
   ],
   "source": [
    "np.linalg.norm(np.mean(k_dim_points[test_set.class_labels != 2], axis=0) - test_set.x_ck, ord=2)"
   ]
  },
  {
   "cell_type": "code",
   "execution_count": 86,
   "metadata": {},
   "outputs": [
    {
     "data": {
      "text/plain": [
       "0.07"
      ]
     },
     "execution_count": 86,
     "metadata": {},
     "output_type": "execute_result"
    }
   ],
   "source": [
    "test_set.D"
   ]
  },
  {
   "cell_type": "code",
   "execution_count": 77,
   "metadata": {},
   "outputs": [
    {
     "data": {
      "text/plain": [
       "(array([100000.,      0.,      0.,      0.,      0.,      0.,      0.,\n",
       "             0.,    120.,  99880.]),\n",
       " array([0.98371222, 1.01748439, 1.05125657, 1.08502875, 1.11880092,\n",
       "        1.1525731 , 1.18634528, 1.22011746, 1.25388963, 1.28766181,\n",
       "        1.32143399]),\n",
       " <BarContainer object of 10 artists>)"
      ]
     },
     "execution_count": 77,
     "metadata": {},
     "output_type": "execute_result"
    },
    {
     "data": {
      "image/png": "[encoded data removed]",
      "text/plain": [
       "<Figure size 432x288 with 1 Axes>"
      ]
     },
     "metadata": {
      "needs_background": "light"
     },
     "output_type": "display_data"
    }
   ],
   "source": [
    "plt.hist(np.linalg.norm(k_dim_points - test_set.x_ck, ord=2, axis=1))"
   ]
  },
  {
   "cell_type": "code",
   "execution_count": 61,
   "metadata": {},
   "outputs": [
    {
     "data": {
      "text/plain": [
       "tensor([[ 0.0259,  0.0775, -0.0299,  ..., -0.0421,  0.0387,  0.0680],\n",
       "        [ 0.0123,  0.0934, -0.0276,  ..., -0.0597, -0.0046,  0.0808],\n",
       "        [ 0.0288,  0.0696, -0.0290,  ..., -0.0352,  0.0485,  0.0629],\n",
       "        ...,\n",
       "        [-0.0220, -0.1004,  0.0367,  ...,  0.0643, -0.0383, -0.1001],\n",
       "        [ 0.0455, -0.0164, -0.0145,  ...,  0.0255,  0.1037, -0.0181],\n",
       "        [ 0.0232,  0.1139, -0.0323,  ..., -0.0749,  0.0232,  0.0996]])"
      ]
     },
     "execution_count": 61,
     "metadata": {},
     "output_type": "execute_result"
    }
   ],
   "source": [
    "test_set.normed_all_points[test_set.class_labels != 2] + all_deltas_ma"
   ]
  },
  {
   "cell_type": "code",
   "execution_count": 68,
   "metadata": {},
   "outputs": [
    {
     "data": {
      "text/plain": [
       "True"
      ]
     },
     "execution_count": 68,
     "metadata": {},
     "output_type": "execute_result"
    }
   ],
   "source": [
    "(test_set.translation == val_set.translation).all()"
   ]
  },
  {
   "cell_type": "code",
   "execution_count": 37,
   "metadata": {},
   "outputs": [],
   "source": [
    "stdclf_model.train()\n",
    "start = 50000\n",
    "end = 50020\n",
    "deltas, losses = pgd_l2_cls(stdclf_model, test_set.normed_all_points[start:end].to(device), test_set.class_labels[start:end].to(device), epsilon=1e-3, alpha=5e-4, num_iter=100)\n",
    "# deltas = pgd_linf_rand(stdclf_model, test_set.normed_all_points[start:end].to(device), test_set.class_labels[start:end].to(device), epsilon=1e-3, alpha=5e-4, num_iter=100, restarts=10)\n",
    "\n",
    "\n",
    "adv_eg = projected_gradient_descent(stdclf_model,\\\n",
    "                           test_set.normed_all_points[start:end].to(device), \\\n",
    "                           0.08, \\\n",
    "                           5e-3, \\\n",
    "                           100, \\\n",
    "                           2, y=test_set.class_labels[start:end].to(device))\n",
    "\n",
    "distlearn_model.train()\n",
    "deltas_dl, losses_dl = pgd_dist(distlearn_model, test_set.normed_all_points[start:end].to(device), test_set.normed_all_actual_distances[start:end].to(device), norm=2, epsilon=8e-2, alpha=5e-3, num_iter=40)\n",
    "\n",
    "\n",
    "with torch.no_grad():\n",
    "    stdclf_model.eval()\n",
    "    logits = stdclf_model((test_set.normed_all_points[start:end].to(device) + deltas.to(device))).detach().cpu()\n",
    "    labels = test_set.class_labels[start:end]\n",
    "    \n",
    "    logits_cleverhans = stdclf_model(adv_eg).detach().cpu()\n",
    "    \n",
    "    distlearn_model.eval()\n",
    "    logits_dl = distlearn_model((test_set.normed_all_points[start:end].to(device) + deltas_dl.to(device)))\n",
    "\n"
   ]
  },
  {
   "cell_type": "code",
   "execution_count": 38,
   "metadata": {},
   "outputs": [
    {
     "data": {
      "text/plain": [
       "0.022360679774997897"
      ]
     },
     "execution_count": 38,
     "metadata": {},
     "output_type": "execute_result"
    }
   ],
   "source": [
    "np.sqrt(500) * 1e-3"
   ]
  },
  {
   "cell_type": "code",
   "execution_count": 39,
   "metadata": {},
   "outputs": [
    {
     "data": {
      "text/plain": [
       "[<matplotlib.lines.Line2D at 0x7f1991384e48>]"
      ]
     },
     "execution_count": 39,
     "metadata": {},
     "output_type": "execute_result"
    },
    {
     "data": {
      "image/png": "[encoded data removed]",
      "text/plain": [
       "<Figure size 432x288 with 1 Axes>"
      ]
     },
     "metadata": {
      "needs_background": "light"
     },
     "output_type": "display_data"
    }
   ],
   "source": [
    "plt.plot(losses)\n",
    "plt.plot(losses_dl)"
   ]
  },
  {
   "cell_type": "code",
   "execution_count": 40,
   "metadata": {},
   "outputs": [
    {
     "data": {
      "text/plain": [
       "tensor([[0.6703, 0.3063],\n",
       "        [0.8067, 0.1651],\n",
       "        [0.8304, 0.2135],\n",
       "        [0.6484, 0.2775],\n",
       "        [0.9710, 0.0281],\n",
       "        [0.9821, 0.0181],\n",
       "        [0.7623, 0.1919],\n",
       "        [0.3041, 0.7208],\n",
       "        [0.9532, 0.0566],\n",
       "        [0.9584, 0.0580],\n",
       "        [0.8668, 0.1075],\n",
       "        [0.9298, 0.0701],\n",
       "        [0.7240, 0.2321],\n",
       "        [0.9305, 0.0632],\n",
       "        [0.8550, 0.1584],\n",
       "        [0.8309, 0.1832],\n",
       "        [0.5534, 0.4194],\n",
       "        [0.9127, 0.1296],\n",
       "        [0.7099, 0.3743],\n",
       "        [0.9179, 0.0891]])"
      ]
     },
     "execution_count": 40,
     "metadata": {},
     "output_type": "execute_result"
    }
   ],
   "source": [
    "logits_cleverhans"
   ]
  },
  {
   "cell_type": "code",
   "execution_count": 41,
   "metadata": {},
   "outputs": [
    {
     "data": {
      "text/plain": [
       "tensor([[0.9783, 0.0190],\n",
       "        [0.9909, 0.0073],\n",
       "        [0.9913, 0.0100],\n",
       "        [0.9822, 0.0135],\n",
       "        [0.9977, 0.0021],\n",
       "        [0.9986, 0.0013],\n",
       "        [0.9879, 0.0099],\n",
       "        [0.9363, 0.0725],\n",
       "        [0.9971, 0.0033],\n",
       "        [0.9969, 0.0041],\n",
       "        [0.9926, 0.0065],\n",
       "        [0.9961, 0.0040],\n",
       "        [0.9896, 0.0082],\n",
       "        [0.9953, 0.0040],\n",
       "        [0.9926, 0.0069],\n",
       "        [0.9938, 0.0074],\n",
       "        [0.9741, 0.0275],\n",
       "        [0.9949, 0.0080],\n",
       "        [0.9874, 0.0142],\n",
       "        [0.9947, 0.0050]])"
      ]
     },
     "execution_count": 41,
     "metadata": {},
     "output_type": "execute_result"
    }
   ],
   "source": [
    "logits"
   ]
  },
  {
   "cell_type": "code",
   "execution_count": 42,
   "metadata": {},
   "outputs": [
    {
     "data": {
      "text/plain": [
       "tensor([[0.0851, 1.0000],\n",
       "        [0.0897, 1.0000],\n",
       "        [0.0848, 1.0000],\n",
       "        [0.0772, 1.0000],\n",
       "        [0.1103, 0.9999],\n",
       "        [0.0816, 0.9996],\n",
       "        [0.0920, 1.0000],\n",
       "        [0.0848, 1.0000],\n",
       "        [0.0842, 1.0000],\n",
       "        [0.0947, 1.0000],\n",
       "        [0.0945, 1.0000],\n",
       "        [0.0888, 1.0000],\n",
       "        [0.0841, 1.0000],\n",
       "        [0.0765, 1.0000],\n",
       "        [0.0887, 1.0000],\n",
       "        [0.0821, 1.0000],\n",
       "        [0.0766, 1.0000],\n",
       "        [0.0889, 1.0000],\n",
       "        [0.0820, 1.0000],\n",
       "        [0.0868, 1.0000]], device='cuda:1')"
      ]
     },
     "execution_count": 42,
     "metadata": {},
     "output_type": "execute_result"
    }
   ],
   "source": [
    "logits_dl"
   ]
  },
  {
   "cell_type": "code",
   "execution_count": 98,
   "metadata": {},
   "outputs": [
    {
     "data": {
      "text/plain": [
       "tensor([0.0883, 0.0888, 0.0885, 0.0888, 0.0891, 0.0886, 0.0883, 0.0890, 0.0889,\n",
       "        0.0886, 0.0888, 0.0890, 0.0888, 0.0885, 0.0885, 0.0886, 0.0882, 0.0882,\n",
       "        0.0887, 0.0885], grad_fn=<NormBackward1>)"
      ]
     },
     "execution_count": 98,
     "metadata": {},
     "output_type": "execute_result"
    }
   ],
   "source": [
    "torch.norm(adv_eg.cpu() - test_set.normed_all_points[start:end], p=2, dim=1)"
   ]
  },
  {
   "cell_type": "code",
   "execution_count": 118,
   "metadata": {},
   "outputs": [],
   "source": [
    "dist_mat1 = torch.cdist(test_set.normed_all_points[start:end] + deltas_dl.detach().cpu(), test_set.normed_all_points[test_set.class_labels == 0])\n",
    "\n"
   ]
  },
  {
   "cell_type": "code",
   "execution_count": 119,
   "metadata": {},
   "outputs": [
    {
     "data": {
      "text/plain": [
       "torch.return_types.min(\n",
       "values=tensor([0.0223, 0.0223, 0.0223, 0.0223, 0.0224, 0.0223, 0.0223, 0.0223, 0.0223,\n",
       "        0.0223, 0.0224, 0.0223, 0.0223, 0.0224, 0.0223, 0.0223, 0.0223, 0.0223,\n",
       "        0.0223, 0.0224]),\n",
       "indices=tensor([    0, 30783, 45698, 41548,  9065,  2477, 46035, 25177, 27383,     9,\n",
       "        42279, 46650, 25723,    13, 13841,  3178, 17540, 11921, 19704, 47286]))"
      ]
     },
     "execution_count": 119,
     "metadata": {},
     "output_type": "execute_result"
    }
   ],
   "source": [
    "torch.min(dist_mat1, axis=1)"
   ]
  },
  {
   "cell_type": "code",
   "execution_count": 32,
   "metadata": {},
   "outputs": [
    {
     "data": {
      "text/plain": [
       "torch.return_types.min(\n",
       "values=tensor([0.0500, 0.0500, 0.0500, 0.0500, 0.0500, 0.0500, 0.0500, 0.0500, 0.0500,\n",
       "        0.0500, 0.0500, 0.0500, 0.0500, 0.0500, 0.0500, 0.0500, 0.0500, 0.0500,\n",
       "        0.0500, 0.0500]),\n",
       "indices=tensor([ 0,  1,  2,  3,  4,  5,  6,  7,  8,  9, 10, 11, 12, 13, 14, 15, 16, 17,\n",
       "        18, 19]))"
      ]
     },
     "execution_count": 32,
     "metadata": {},
     "output_type": "execute_result"
    }
   ],
   "source": [
    "dist_mat2 = torch.cdist(test_set.normed_all_points[start:end] + deltas_dl.detach().cpu(), test_set.normed_all_points[test_set.class_labels == 0])\n",
    "torch.min(dist_mat2, axis=1)"
   ]
  },
  {
   "cell_type": "code",
   "execution_count": 88,
   "metadata": {},
   "outputs": [
    {
     "data": {
      "text/plain": [
       "torch.return_types.min(\n",
       "values=tensor([0.0883, 0.0884, 0.0885, 0.0888, 0.0888, 0.0886, 0.0883, 0.0889, 0.0887,\n",
       "        0.0885, 0.0889, 0.0890, 0.0891, 0.0885, 0.0883, 0.0893, 0.0886, 0.0883,\n",
       "        0.0887, 0.0883]),\n",
       "indices=tensor([39576, 16256, 21792, 20479, 47912, 26876, 15087, 22179, 30630, 23528,\n",
       "        26506, 43444, 40812, 34786, 20113, 40472, 19847, 31484, 10152, 11464]))"
      ]
     },
     "execution_count": 88,
     "metadata": {},
     "output_type": "execute_result"
    }
   ],
   "source": [
    "dist_mat3 = torch.cdist(adv_eg.detach().cpu(), test_set.normed_all_points[test_set.class_labels == 0])\n",
    "torch.min(dist_mat3, axis=1)"
   ]
  },
  {
   "cell_type": "code",
   "execution_count": 21,
   "metadata": {},
   "outputs": [
    {
     "data": {
      "text/plain": [
       "MLPwithNormalisation(\n",
       "  (layers): Sequential(\n",
       "    (fcn-0): Linear(in_features=500, out_features=1024, bias=True)\n",
       "    (bn-0): LayerNorm((1024,), eps=1e-05, elementwise_affine=True)\n",
       "    (relu-0): ReLU()\n",
       "    (fcn-1): Linear(in_features=1024, out_features=1024, bias=True)\n",
       "    (bn-1): LayerNorm((1024,), eps=1e-05, elementwise_affine=True)\n",
       "    (relu-1): ReLU()\n",
       "    (fcn-2): Linear(in_features=1024, out_features=2, bias=True)\n",
       "    (sigmoid-2): Sigmoid()\n",
       "  )\n",
       ")"
      ]
     },
     "execution_count": 21,
     "metadata": {},
     "output_type": "execute_result"
    }
   ],
   "source": [
    "stdclf_model"
   ]
  },
  {
   "cell_type": "code",
   "execution_count": 69,
   "metadata": {},
   "outputs": [],
   "source": [
    "t = torch.rand(5, 5)"
   ]
  },
  {
   "cell_type": "code",
   "execution_count": 73,
   "metadata": {},
   "outputs": [
    {
     "data": {
      "text/plain": [
       "tensor([[0.8710],\n",
       "        [0.8655],\n",
       "        [0.9102],\n",
       "        [0.6136],\n",
       "        [0.8012]])"
      ]
     },
     "execution_count": 73,
     "metadata": {},
     "output_type": "execute_result"
    }
   ],
   "source": [
    "t.norm(p=np.inf, dim=1).reshape(-1, 1)"
   ]
  },
  {
   "cell_type": "code",
   "execution_count": 71,
   "metadata": {},
   "outputs": [
    {
     "data": {
      "text/plain": [
       "tensor([[0.2434, 0.3153, 0.0371, 0.4137, 0.8710],\n",
       "        [0.1922, 0.3899, 0.6851, 0.8655, 0.6580],\n",
       "        [0.7143, 0.1528, 0.2833, 0.9102, 0.5503],\n",
       "        [0.0723, 0.6136, 0.5882, 0.3322, 0.1040],\n",
       "        [0.2322, 0.2919, 0.8012, 0.0481, 0.2248]])"
      ]
     },
     "execution_count": 71,
     "metadata": {},
     "output_type": "execute_result"
    }
   ],
   "source": [
    "t"
   ]
  },
  {
   "cell_type": "code",
   "execution_count": 77,
   "metadata": {},
   "outputs": [
    {
     "data": {
      "text/plain": [
       "1"
      ]
     },
     "execution_count": 77,
     "metadata": {},
     "output_type": "execute_result"
    }
   ],
   "source": [
    "dataloaders[\"test\"].dataset.class_labels[dataloaders[\"test\"].dataset.class_labels != 2].max().item()"
   ]
  },
  {
   "cell_type": "code",
   "execution_count": 88,
   "metadata": {},
   "outputs": [],
   "source": [
    "import seaborn as sns"
   ]
  },
  {
   "cell_type": "code",
   "execution_count": 100,
   "metadata": {},
   "outputs": [
    {
     "data": {
      "image/png": "[encoded data removed]",
      "text/plain": [
       "<Figure size 432x288 with 2 Axes>"
      ]
     },
     "metadata": {
      "needs_background": "light"
     },
     "output_type": "display_data"
    }
   ],
   "source": [
    "tmp = np.random.randint(0, 100, size=(3, 5))\n",
    "sns.heatmap(tmp, annot=tmp / tmp.sum(axis=1).reshape(-1, 1))\n",
    "plt.show()"
   ]
  },
  {
   "cell_type": "code",
   "execution_count": 103,
   "metadata": {},
   "outputs": [
    {
     "data": {
      "text/plain": [
       "200000"
      ]
     },
     "execution_count": 103,
     "metadata": {},
     "output_type": "execute_result"
    }
   ],
   "source": [
    "test_set.n"
   ]
  },
  {
   "cell_type": "code",
   "execution_count": null,
   "metadata": {},
   "outputs": [],
   "source": []
  }
 ],
 "metadata": {
  "kernelspec": {
   "display_name": "Python 3",
   "language": "python",
   "name": "python3"
  },
  "language_info": {
   "codemirror_mode": {
    "name": "ipython",
    "version": 3
   },
   "file_extension": ".py",
   "mimetype": "text/x-python",
   "name": "python",
   "nbconvert_exporter": "python",
   "pygments_lexer": "ipython3",
   "version": "3.6.9"
  }
 },
 "nbformat": 4,
 "nbformat_minor": 4
}
