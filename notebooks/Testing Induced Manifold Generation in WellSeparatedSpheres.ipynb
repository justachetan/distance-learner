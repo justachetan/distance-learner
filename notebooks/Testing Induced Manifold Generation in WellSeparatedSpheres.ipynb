{
 "cells": [
  {
   "cell_type": "code",
   "execution_count": 1,
   "metadata": {},
   "outputs": [],
   "source": [
    "import os\n",
    "os.chdir(\"/data/t-achetan/adv_geom/src/\")\n",
    "import numpy as np\n",
    "import torch\n",
    "\n",
    "import matplotlib.pyplot as plt\n",
    "from sklearn.decomposition import PCA"
   ]
  },
  {
   "cell_type": "code",
   "execution_count": 2,
   "metadata": {},
   "outputs": [],
   "source": [
    "from datagen.synthetic.multiple.wellseparatedspheres import WellSeparatedSpheres"
   ]
  },
  {
   "cell_type": "code",
   "execution_count": 3,
   "metadata": {},
   "outputs": [],
   "source": [
    "config = {\n",
    "    \"N\": 20000,\n",
    "    \"num_neg\": 10000,\n",
    "    \"n\": 2,\n",
    "    \"k\": 2,\n",
    "    \"r\": [0.5, 0.5],\n",
    "    \"D\": 0.07,\n",
    "    \"max_norm\": 0.,\n",
    "    \"mu\": 0,\n",
    "    \"sigma\": 1,\n",
    "    \"seed\": 23,\n",
    "    \"normalize\": True,\n",
    "    \"norm_factor\": 1,\n",
    "    \"bp\": 0.09,\n",
    "    \"M\": 1,\n",
    "    \"inferred\": True,\n",
    "    \"online\": False,\n",
    "    \"off_online\": False,\n",
    "    \"augment\": False,\n",
    "    \"max_t_delta\": 1e-3,\n",
    "    \"recomp_tn\": False,\n",
    "    \"gamma\": 0,\n",
    "    \"cache_dir\": \"/mnt/t-achetan/data_cache/train/\",\n",
    "    \"c_dist\": 2.5\n",
    "}"
   ]
  },
  {
   "cell_type": "code",
   "execution_count": 4,
   "metadata": {},
   "outputs": [],
   "source": [
    "test_spheres = WellSeparatedSpheres(**config)"
   ]
  },
  {
   "cell_type": "code",
   "execution_count": 5,
   "metadata": {},
   "outputs": [
    {
     "name": "stderr",
     "output_type": "stream",
     "text": [
      "17-05-2022 17:21:05 -- [I] root >> [RandomSphere]: generated centre\n",
      "17-05-2022 17:21:05 -- [I] root >> [RandomSphere]: generated points in k-dim\n",
      "17-05-2022 17:21:05 -- [I] root >> [WellSeparatedSpheres]: Generated S1\n",
      "17-05-2022 17:21:05 -- [I] root >> [RandomSphere]: generated centre\n",
      "17-05-2022 17:21:05 -- [I] root >> [RandomSphere]: generated points in k-dim\n",
      "17-05-2022 17:21:05 -- [I] root >> [WellSeparatedSpheres]: Generated S2\n",
      "17-05-2022 17:21:05 -- [I] root >> [WellSeparatedSpheres]: made poca_idx\n",
      "17-05-2022 17:21:05 -- [I] root >> [WellSeparatedSpheres]: collect on-mfld k-dim points from both spheres\n",
      "17-05-2022 17:21:05 -- [I] root >> initial setup complete\n",
      "17-05-2022 17:21:05 -- [I] root >> [WellSeparatedSpheres]: knn not computed. computing now ...\n",
      "17-05-2022 17:21:05 -- [I] root >> [WellSeparatedSpheres]: use_new == False\n",
      "17-05-2022 17:21:05 -- [I] root >> [WellSeparatedSpheres]: fitting knn...\n"
     ]
    },
    {
     "name": "stdout",
     "output_type": "stream",
     "text": [
      "before compute x_cn: [[ 0.66698806  0.02581308]\n",
      " [-0.77761941  0.94863382]]\n"
     ]
    },
    {
     "name": "stderr",
     "output_type": "stream",
     "text": [
      "17-05-2022 17:21:08 -- [I] root >> [WellSeparatedSpheres]: knn fit done\n",
      "17-05-2022 17:21:08 -- [I] root >> [WellSeparatedSpheres]: predicting nbhrs...\n",
      "17-05-2022 17:21:08 -- [I] root >> [WellSeparatedSpheres]: prediction complete...\n",
      "computing off mfld (2): 100%|██████████| 2/2 [00:03<00:00,  1.67s/it]\n",
      "17-05-2022 17:21:11 -- [I] root >> [WellSeparatedSpheres]: using c_dist = 2.5\n",
      "17-05-2022 17:21:11 -- [I] root >> [WellSeparatedSpheres]: re-positioning n-dim points of S2\n",
      "17-05-2022 17:21:11 -- [I] root >> [WellSeparatedSpheres]: S2 re-positioned\n",
      "17-05-2022 17:21:12 -- [I] root >> [WellSeparatedSpheres]: Overall noramalization done\n"
     ]
    },
    {
     "name": "stdout",
     "output_type": "stream",
     "text": [
      "before reposition x_cn: [[-0.83633689  0.53534845]\n",
      " [ 0.183944    1.09157703]]\n",
      "x_cn: tensor([[-0.8363,  0.5353],\n",
      "        [-1.3885,  2.9736]])\n",
      "in norm: tensor([[-0.8363,  0.5353],\n",
      "        [-1.3885,  2.9736]])\n"
     ]
    }
   ],
   "source": [
    "test_spheres.compute_points()"
   ]
  },
  {
   "cell_type": "code",
   "execution_count": 6,
   "metadata": {},
   "outputs": [
    {
     "data": {
      "text/plain": [
       "tensor(0.1400)"
      ]
     },
     "execution_count": 6,
     "metadata": {},
     "output_type": "execute_result"
    }
   ],
   "source": [
    "max(test_spheres.normed_all_actual_distances[:2500, 0])"
   ]
  },
  {
   "cell_type": "code",
   "execution_count": null,
   "metadata": {},
   "outputs": [],
   "source": [
    "1.1 * 2.28"
   ]
  },
  {
   "cell_type": "code",
   "execution_count": 6,
   "metadata": {},
   "outputs": [
    {
     "data": {
      "text/plain": [
       "([array([ 8594.,  1406.,     0.,     0.,     0.,     0.,     0.,     0.,\n",
       "             0., 10000.]),\n",
       "  array([ 8559.,  1441.,     0.,     0.,     0.,     0.,     0.,     0.,\n",
       "             0., 10000.])],\n",
       " array([0. , 0.1, 0.2, 0.3, 0.4, 0.5, 0.6, 0.7, 0.8, 0.9, 1. ],\n",
       "       dtype=float32),\n",
       " <a list of 2 Lists of Patches objects>)"
      ]
     },
     "execution_count": 6,
     "metadata": {},
     "output_type": "execute_result"
    },
    {
     "data": {
      "image/png": "[encoded data removed]",
      "text/plain": [
       "<Figure size 432x288 with 1 Axes>"
      ]
     },
     "metadata": {
      "needs_background": "light"
     },
     "output_type": "display_data"
    }
   ],
   "source": [
    "plt.hist(test_spheres.normed_all_actual_distances.numpy())"
   ]
  },
  {
   "cell_type": "code",
   "execution_count": null,
   "metadata": {},
   "outputs": [],
   "source": [
    "plt.figure(figsize=(6, 6))\n",
    "plt.scatter(test_swrolls.all_points_trivial_[:, 0], test_swrolls.all_points_trivial_[:, 1], s=0.1)\n",
    "plt.scatter(test_swrolls.all_points_trivial_[-1, 0], test_swrolls.all_points_trivial_[-1, 1])\n",
    "plt.arrow(test_swrolls.all_points_trivial_[-1, 0], test_swrolls.all_points_trivial_[-1, 1], test_swrolls.all_tang_and_norms[-1][0, 0], test_swrolls.all_tang_and_norms[-1][0, 1])\n",
    "plt.arrow(test_swrolls.all_points_trivial_[-1, 0], test_swrolls.all_points_trivial_[-1, 1], test_swrolls.all_tang_and_norms[-1][1, 0], test_swrolls.all_tang_and_norms[-1][1, 1])\n",
    "\n",
    "# plt.arrow(test_swrolls.all_points_trivial_[-1, 0], test_swrolls.all_points_trivial_[-1, 1], test_swrolls.on_mfld_pb[-1][0, 0], test_swrolls.on_mfld_pb[-1][0, 1], linewidth=5)\n",
    "# plt.arrow(test_swrolls.all_points_trivial_[-1, 0], test_swrolls.all_points_trivial_[-1, 1], test_swrolls.off_mfld_pb[-1][1, 0], test_swrolls.off_mfld_pb[-1][1, 1], linewidth=5)\n",
    "\n",
    "\n",
    "plt.scatter(test_swrolls.off_mfld_pts_for_chunk[-1][:, 0], test_swrolls.off_mfld_pts_for_chunk[-1][:, 1])"
   ]
  },
  {
   "cell_type": "code",
   "execution_count": 6,
   "metadata": {},
   "outputs": [
    {
     "data": {
      "text/plain": [
       "<matplotlib.collections.PathCollection at 0x7f98ff651250>"
      ]
     },
     "execution_count": 6,
     "metadata": {},
     "output_type": "execute_result"
    },
    {
     "data": {
      "image/png": "[encoded data removed]",
      "text/plain": [
       "<Figure size 432x288 with 1 Axes>"
      ]
     },
     "metadata": {
      "needs_background": "light"
     },
     "output_type": "display_data"
    }
   ],
   "source": [
    "plt.scatter(test_spheres.normed_all_points[:, 0], test_spheres.normed_all_points[:, 1], s=0.1)"
   ]
  },
  {
   "cell_type": "code",
   "execution_count": 8,
   "metadata": {},
   "outputs": [
    {
     "data": {
      "text/plain": [
       "<matplotlib.collections.PathCollection at 0x7f7b2804e950>"
      ]
     },
     "execution_count": 8,
     "metadata": {},
     "output_type": "execute_result"
    },
    {
     "data": {
      "image/png": "[encoded data removed]",
      "text/plain": [
       "<Figure size 432x288 with 1 Axes>"
      ]
     },
     "metadata": {
      "needs_background": "light"
     },
     "output_type": "display_data"
    }
   ],
   "source": [
    "plt.scatter(test_spheres.all_points[:, 0], test_spheres.all_points[:, 1], s=0.1)\n",
    "plt.scatter(test_spheres.x_cn[:, 0], test_spheres.x_cn[:, 1])"
   ]
  },
  {
   "cell_type": "code",
   "execution_count": 9,
   "metadata": {},
   "outputs": [
    {
     "data": {
      "text/plain": [
       "1.71420210648482"
      ]
     },
     "execution_count": 9,
     "metadata": {},
     "output_type": "execute_result"
    }
   ],
   "source": [
    "np.linalg.norm(test_spheres.x_ck[0] - test_spheres.x_ck[1])"
   ]
  },
  {
   "cell_type": "code",
   "execution_count": 10,
   "metadata": {},
   "outputs": [
    {
     "data": {
      "text/plain": [
       "2.5000002"
      ]
     },
     "execution_count": 10,
     "metadata": {},
     "output_type": "execute_result"
    }
   ],
   "source": [
    "np.linalg.norm(test_spheres.x_cn[0] - test_spheres.x_cn[1])"
   ]
  },
  {
   "cell_type": "code",
   "execution_count": 8,
   "metadata": {},
   "outputs": [
    {
     "data": {
      "text/plain": [
       "torch.Size([20000, 2, 2])"
      ]
     },
     "execution_count": 8,
     "metadata": {},
     "output_type": "execute_result"
    }
   ],
   "source": [
    "test_spheres.all_points.shape"
   ]
  },
  {
   "cell_type": "code",
   "execution_count": null,
   "metadata": {},
   "outputs": [],
   "source": [
    "np.linalg.norm(test_spheres.all_points_rot_[:100] - test_spheres.x_cn, axis=1) - 1."
   ]
  },
  {
   "cell_type": "code",
   "execution_count": null,
   "metadata": {},
   "outputs": [],
   "source": [
    "test_spheres.class_labels"
   ]
  },
  {
   "cell_type": "code",
   "execution_count": null,
   "metadata": {},
   "outputs": [],
   "source": [
    "np.linalg.norm(test_spheres.normed_all_points[10000:15000] - test_spheres.fix_center, ord=2, axis=1) - 1.3\n",
    "\n",
    "\n"
   ]
  },
  {
   "cell_type": "code",
   "execution_count": null,
   "metadata": {},
   "outputs": [],
   "source": [
    "test_spheres.normed_all_actual_distances[10000:15000]"
   ]
  },
  {
   "cell_type": "code",
   "execution_count": null,
   "metadata": {},
   "outputs": [],
   "source": [
    "np.where(test_spheres.normed_all_actual_distances[test_spheres.class_labels == 2][:, 0] > 0.1)[0].shape"
   ]
  },
  {
   "cell_type": "code",
   "execution_count": null,
   "metadata": {},
   "outputs": [],
   "source": [
    "plt.figure(figsize=(6,6))\n",
    "plt.scatter(test_spheres.on_mfld_pts_trivial_[:, 0], test_spheres.on_mfld_pts_trivial_[:, 1], s=0.01)\n",
    "idx = 2000\n",
    "plt.scatter(test_spheres.poca[idx][0], test_spheres.poca[idx][1])\n",
    "tan_dir_local = test_spheres.tang_dset[test_spheres.poca_idx[idx]][0]\n",
    "norm_dir_local = test_spheres.norm_dset[test_spheres.poca_idx[idx]][0]\n",
    "\n",
    "plt.arrow(test_spheres.poca[idx][0], test_spheres.poca[idx][1], tan_dir_local[0], tan_dir_local[1])\n",
    "plt.arrow(test_spheres.poca[idx][0], test_spheres.poca[idx][1], norm_dir_local[0], norm_dir_local[1])\n",
    "\n",
    "on_mfld_pt = test_spheres.poca[idx]\n",
    "norm_dir = test_spheres.norm_dset[test_spheres.poca_idx[idx]]\n",
    "rdm_coeffs = np.random.normal(0, 1, size=norm_dir.shape[0]).reshape(-1, 1)\n",
    "norm_delta = np.sum(rdm_coeffs * norm_dir, axis=0)\n",
    "off_mfld_pt = on_mfld_pt + norm_delta\n",
    "\n",
    "plt.scatter(test_spheres.new_poca_dset[idx][0], test_spheres.new_poca_dset[idx][1])\n",
    "# off_mfld_idx = idx if idx < test_spheres.S1.genattrs.num_neg else idx + (test_spheres.S1.genattrs.N - test_spheres.S1.genattrs.num_neg)\n",
    "# plt.scatter(test_spheres.all_points[idx][0], test_spheres.all_points[idx][1])\n",
    "plt.scatter(off_mfld_pt[0], off_mfld_pt[1])"
   ]
  },
  {
   "cell_type": "code",
   "execution_count": null,
   "metadata": {},
   "outputs": [],
   "source": [
    "test_spheres.all_tang_and_norms[-1]"
   ]
  },
  {
   "cell_type": "code",
   "execution_count": null,
   "metadata": {},
   "outputs": [],
   "source": [
    "test_spheres.all_points_trivial_[-1] / np.linalg.norm(test_spheres.all_points_trivial_[-1], ord=2)"
   ]
  },
  {
   "cell_type": "code",
   "execution_count": null,
   "metadata": {},
   "outputs": [],
   "source": [
    "test_spheres.x_cn"
   ]
  },
  {
   "cell_type": "code",
   "execution_count": null,
   "metadata": {},
   "outputs": [],
   "source": [
    "np.random.choice([1, 2, 3, 4, 5, 6], size=4)"
   ]
  },
  {
   "cell_type": "code",
   "execution_count": null,
   "metadata": {},
   "outputs": [],
   "source": [
    "np.where(test_spheres == 2)[0].shape"
   ]
  },
  {
   "cell_type": "markdown",
   "metadata": {},
   "source": [
    "# Testing inferred manifold generation code on 06/05/2022"
   ]
  },
  {
   "cell_type": "code",
   "execution_count": null,
   "metadata": {},
   "outputs": [],
   "source": [
    "dir_name = \"/mnt/t-achetan/expC_dist_learner_for_adv_ex/rdm_swrolls_test/rdm_swrolls_k2n500_noninfdist_moreoffmfld__bs4096_inferred_maxtdelta=1e=3/data\"\n",
    "train_set, val_set, test_set = IntertwinedSwissRolls.load_splits(dir_name)\n",
    "\n"
   ]
  },
  {
   "cell_type": "code",
   "execution_count": null,
   "metadata": {},
   "outputs": [],
   "source": [
    "test_set.on_mfld_pts_k_"
   ]
  },
  {
   "cell_type": "code",
   "execution_count": null,
   "metadata": {},
   "outputs": [],
   "source": [
    "train_set.on_mfld_pts_trivial_[0]"
   ]
  },
  {
   "cell_type": "code",
   "execution_count": null,
   "metadata": {},
   "outputs": [],
   "source": [
    "import scipy.linalg as spla\n",
    "nbhr_indices = np.argsort(np.linalg.norm(train_set.on_mfld_pts_trivial_[0] - train_set.on_mfld_pts_trivial_[1:], axis=1))[:2]\n",
    "nbhrs = train_set.on_mfld_pts_trivial_[nbhr_indices]\n",
    "nbhr_local_coords = nbhrs - train_set.on_mfld_pts_trivial_[0]\n",
    "pca = PCA(n_components=1)\n",
    "pca.fit(nbhr_local_coords)\n",
    "tang_dir = pca.components_\n",
    "normal_dirs = spla.null_space(pca.components_).T"
   ]
  },
  {
   "cell_type": "code",
   "execution_count": null,
   "metadata": {},
   "outputs": [],
   "source": [
    "normal_dirs"
   ]
  },
  {
   "cell_type": "code",
   "execution_count": null,
   "metadata": {},
   "outputs": [],
   "source": [
    "tang_dir"
   ]
  },
  {
   "cell_type": "code",
   "execution_count": null,
   "metadata": {},
   "outputs": [],
   "source": [
    "plt.figure(figsize=(6, 6))\n",
    "\n",
    "onmfld_idx = -200\n",
    "plt.scatter(train_set.on_mfld_pts_k_[:, 0], train_set.on_mfld_pts_k_[:, 1], s=0.01)\n",
    "plt.scatter(train_set.on_mfld_pts_k_[:, 0][onmfld_idx], train_set.on_mfld_pts_k_[:, 1][onmfld_idx], s=100)\n",
    "# plt.arrow(train_set.on_mfld_pts_k_[:, 0][onmfld_idx], train_set.on_mfld_pts_k_[:, 1][onmfld_idx], train_set.all_tang_and_norms[onmfld_idx][0][0], train_set.all_tang_and_norms[onmfld_idx][0][1])\n",
    "# plt.arrow(train_set.on_mfld_pts_k_[:, 0][onmfld_idx], train_set.on_mfld_pts_k_[:, 1][onmfld_idx], train_set.all_tang_and_norms[onmfld_idx][1][0], train_set.all_tang_and_norms[onmfld_idx][1][1])\n",
    "# plt.scatter(train_set.new_poca_dset[idx][0], train_set.new_poca_dset[idx][1])\n",
    "# plt.arrow(train_set.on_mfld_pts_k_[:, 0][onmfld_idx], train_set.on_mfld_pts_k_[:, 1][onmfld_idx], train_set.on_mfld_pb[onmfld_idx][1][0], train_set.on_mfld_pb[onmfld_idx][1][1], linewidth=5)\n",
    "# plt.arrow(train_set.on_mfld_pts_k_[:, 0][onmfld_idx], train_set.on_mfld_pts_k_[:, 1][onmfld_idx], train_set.off_mfld_pb[onmfld_idx][1][0], train_set.off_mfld_pb[onmfld_idx][1][1], linewidth=5)\n",
    "\n",
    "plt.scatter(train_set.all_points_trivial_[:, 0][onmfld_idx], train_set.all_points_trivial_[:, 1][onmfld_idx])\n",
    "# plt.scatter(train_set.off_mfld_pts_for_chunk[onmfld_idx][:, 0], train_set.off_mfld_pts_for_chunk[onmfld_idx][:, 1])"
   ]
  },
  {
   "cell_type": "code",
   "execution_count": null,
   "metadata": {},
   "outputs": [],
   "source": [
    "train_set.all_tang_and_norms[-1]"
   ]
  },
  {
   "cell_type": "code",
   "execution_count": null,
   "metadata": {},
   "outputs": [],
   "source": [
    "np.dot(train_set.on_mfld_pts_trivial_[-1] / np.linalg.norm(train_set.on_mfld_pts_trivial_[-1]), train_set.all_tang_and_norms[-1][-1])"
   ]
  },
  {
   "cell_type": "code",
   "execution_count": null,
   "metadata": {},
   "outputs": [],
   "source": [
    "plt.figure(figsize=(6, 6))\n",
    "plt.scatter(train_set.normed_all_points[:, 0], train_set.normed_all_points[:, 1], s=0.01)\n"
   ]
  },
  {
   "cell_type": "code",
   "execution_count": null,
   "metadata": {},
   "outputs": [],
   "source": [
    "plt.scatter(train_set.all_points_trivial_[:, 0][train_set.class_labels == 2], train_set.all_points_trivial_[:, 1][train_set.class_labels == 2], s=0.01)\n",
    "plt.scatter(train_set.on_mfld_pts_k_[train_set.poca_idx, 0], train_set.on_mfld_pts_k_[train_set.poca_idx, 1], s=0.01)\n"
   ]
  },
  {
   "cell_type": "code",
   "execution_count": null,
   "metadata": {},
   "outputs": [],
   "source": [
    "train_set.max_norm, train_set.norm_factor"
   ]
  },
  {
   "cell_type": "code",
   "execution_count": null,
   "metadata": {},
   "outputs": [],
   "source": [
    "train_set.all_points.shape"
   ]
  },
  {
   "cell_type": "code",
   "execution_count": null,
   "metadata": {},
   "outputs": [],
   "source": [
    "train_set.off_mfld_pts_for_chunk.shape"
   ]
  },
  {
   "cell_type": "code",
   "execution_count": null,
   "metadata": {},
   "outputs": [],
   "source": [
    "train_set.off_mfld_pts_for_chunk[:, 0].shape"
   ]
  },
  {
   "cell_type": "code",
   "execution_count": null,
   "metadata": {},
   "outputs": [],
   "source": [
    "train_set.on_mfld_pb.shape"
   ]
  },
  {
   "cell_type": "code",
   "execution_count": null,
   "metadata": {},
   "outputs": [],
   "source": [
    "train_set.on_mfld_pts_k_[:1] + train_set.off_mfld_pb[:1].numpy()"
   ]
  },
  {
   "cell_type": "code",
   "execution_count": null,
   "metadata": {},
   "outputs": [],
   "source": [
    "train_set.off_mfld_pb[:1].numpy()"
   ]
  },
  {
   "cell_type": "code",
   "execution_count": null,
   "metadata": {},
   "outputs": [],
   "source": [
    "train_set.on_mfld_pts_k_[:1]"
   ]
  },
  {
   "cell_type": "code",
   "execution_count": null,
   "metadata": {},
   "outputs": [],
   "source": [
    "a = np.zeros((2, 500))\n",
    "a[0, :] = 1\n",
    "a[1, :] = 2\n",
    "b = np.zeros((2, 7, 500))\n",
    "(np.expand_dims(a, 1) + b).reshape(-1, 500)"
   ]
  },
  {
   "cell_type": "code",
   "execution_count": null,
   "metadata": {},
   "outputs": [],
   "source": [
    "(np.expand_dims(train_set.on_mfld_pts_k_[5000:], 1) + (np.expand_dims(train_set.on_mfld_pb_sizes / np.linalg.norm(train_set.on_mfld_pb, axis=-1), axis=-1) * train_set.on_mfld_pb.numpy())) + train_set.off_mfld_pb.numpy()\n",
    "\n",
    "\n"
   ]
  },
  {
   "cell_type": "code",
   "execution_count": null,
   "metadata": {},
   "outputs": [],
   "source": [
    "torch.min(torch.norm(train_set.all_points[25000] - train_set.all_points[75000:], dim=1))"
   ]
  },
  {
   "cell_type": "code",
   "execution_count": null,
   "metadata": {},
   "outputs": [],
   "source": [
    "np.unique(train_set.class_labels, return_counts=True)"
   ]
  },
  {
   "cell_type": "code",
   "execution_count": null,
   "metadata": {},
   "outputs": [],
   "source": [
    "a = np.random.normal(size=(2,1000, 1000))\n",
    "np.linalg.qr(a)[0]"
   ]
  },
  {
   "cell_type": "code",
   "execution_count": null,
   "metadata": {},
   "outputs": [],
   "source": [
    "np.dot(np.linalg.qr(a)[0], a.T).T.shape"
   ]
  },
  {
   "cell_type": "code",
   "execution_count": null,
   "metadata": {},
   "outputs": [],
   "source": []
  }
 ],
 "metadata": {
  "kernelspec": {
   "display_name": "Python 3",
   "language": "python",
   "name": "python3"
  },
  "language_info": {
   "codemirror_mode": {
    "name": "ipython",
    "version": 3
   },
   "file_extension": ".py",
   "mimetype": "text/x-python",
   "name": "python",
   "nbconvert_exporter": "python",
   "pygments_lexer": "ipython3",
   "version": "3.7.6"
  }
 },
 "nbformat": 4,
 "nbformat_minor": 4
}
