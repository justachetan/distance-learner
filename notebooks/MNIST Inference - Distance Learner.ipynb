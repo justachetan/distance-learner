{
 "cells": [
  {
   "cell_type": "code",
   "execution_count": 1,
   "metadata": {},
   "outputs": [
    {
     "name": "stderr",
     "output_type": "stream",
     "text": [
      "23-06-2022 07:49:44 -- [I] faiss.loader | [loader.py:54 -             <module>()] >> Loading faiss with AVX2 support.\n",
      "23-06-2022 07:49:44 -- [I] faiss.loader | [loader.py:56 -             <module>()] >> Successfully loaded faiss with AVX2 support.\n"
     ]
    }
   ],
   "source": [
    "import os\n",
    "os.chdir(\"/data/t-achetan/adv_geom/src/\")\n",
    "\n",
    "import torch\n",
    "import numpy as np\n",
    "from torch.utils.data import DataLoader\n",
    "import matplotlib.pyplot as plt\n",
    "from sklearn.metrics import classification_report\n",
    "\n",
    "from expB.learn_mfld_distance import test\n",
    "from expB.myNNs import *\n",
    "from datagen.real.mnist import MNISTManifolds"
   ]
  },
  {
   "cell_type": "code",
   "execution_count": 20,
   "metadata": {},
   "outputs": [
    {
     "name": "stderr",
     "output_type": "stream",
     "text": [
      "23-06-2022 07:53:09 -- [I] root | [manifolds.py:580 -            load_data()] >> [MNISTManifolds]: data attribute (use_labels) loaded from file: /mnt/t-achetan/expC_dist_learner_for_adv_ex/mnist_test/mnist_18_val_only_moreoffmfldv3_nn10_highmn_nonormpts/data/val/use_labels.pkl\n",
      "23-06-2022 07:53:09 -- [I] root | [manifolds.py:580 -            load_data()] >> [MNISTManifolds]: data attribute (class_to_idx) loaded from file: /mnt/t-achetan/expC_dist_learner_for_adv_ex/mnist_test/mnist_18_val_only_moreoffmfldv3_nn10_highmn_nonormpts/data/val/class_to_idx.pkl\n",
      "23-06-2022 07:53:09 -- [I] root | [manifolds.py:580 -            load_data()] >> [MNISTManifolds]: data attribute (norm_factor) loaded from file: /mnt/t-achetan/expC_dist_learner_for_adv_ex/mnist_test/mnist_18_val_only_moreoffmfldv3_nn10_highmn_nonormpts/data/val/norm_factor.pkl\n",
      "23-06-2022 07:53:09 -- [I] root | [manifolds.py:580 -            load_data()] >> [MNISTManifolds]: data attribute (on_mfld_pts) loaded from file: /mnt/t-achetan/expC_dist_learner_for_adv_ex/mnist_test/mnist_18_val_only_moreoffmfldv3_nn10_highmn_nonormpts/data/val/on_mfld_pts.pkl\n",
      "23-06-2022 07:53:09 -- [I] root | [manifolds.py:580 -            load_data()] >> [MNISTManifolds]: data attribute (on_mfld_class_labels) loaded from file: /mnt/t-achetan/expC_dist_learner_for_adv_ex/mnist_test/mnist_18_val_only_moreoffmfldv3_nn10_highmn_nonormpts/data/val/on_mfld_class_labels.pkl\n",
      "23-06-2022 07:53:09 -- [I] root | [manifolds.py:580 -            load_data()] >> [MNISTManifolds]: data attribute (on_mfld_class_idx) loaded from file: /mnt/t-achetan/expC_dist_learner_for_adv_ex/mnist_test/mnist_18_val_only_moreoffmfldv3_nn10_highmn_nonormpts/data/val/on_mfld_class_idx.pkl\n",
      "23-06-2022 07:53:09 -- [I] root | [manifolds.py:580 -            load_data()] >> [MNISTManifolds]: data attribute (onmfld_class_label_counts) loaded from file: /mnt/t-achetan/expC_dist_learner_for_adv_ex/mnist_test/mnist_18_val_only_moreoffmfldv3_nn10_highmn_nonormpts/data/val/onmfld_class_label_counts.pkl\n",
      "23-06-2022 07:53:09 -- [I] root | [manifolds.py:580 -            load_data()] >> [MNISTManifolds]: data attribute (onmfld_class_idx_counts) loaded from file: /mnt/t-achetan/expC_dist_learner_for_adv_ex/mnist_test/mnist_18_val_only_moreoffmfldv3_nn10_highmn_nonormpts/data/val/onmfld_class_idx_counts.pkl\n",
      "23-06-2022 07:53:09 -- [I] root | [manifolds.py:580 -            load_data()] >> [MNISTManifolds]: data attribute (all_points) loaded from file: /mnt/t-achetan/expC_dist_learner_for_adv_ex/mnist_test/mnist_18_val_only_moreoffmfldv3_nn10_highmn_nonormpts/data/val/all_points.pkl\n",
      "23-06-2022 07:53:09 -- [I] root | [manifolds.py:580 -            load_data()] >> [MNISTManifolds]: data attribute (all_actual_distances) loaded from file: /mnt/t-achetan/expC_dist_learner_for_adv_ex/mnist_test/mnist_18_val_only_moreoffmfldv3_nn10_highmn_nonormpts/data/val/all_actual_distances.pkl\n",
      "23-06-2022 07:53:09 -- [I] root | [manifolds.py:580 -            load_data()] >> [MNISTManifolds]: data attribute (normed_all_actual_distances) loaded from file: /mnt/t-achetan/expC_dist_learner_for_adv_ex/mnist_test/mnist_18_val_only_moreoffmfldv3_nn10_highmn_nonormpts/data/val/normed_all_actual_distances.pkl\n",
      "23-06-2022 07:53:09 -- [I] root | [manifolds.py:580 -            load_data()] >> [MNISTManifolds]: data attribute (normed_all_points) loaded from file: /mnt/t-achetan/expC_dist_learner_for_adv_ex/mnist_test/mnist_18_val_only_moreoffmfldv3_nn10_highmn_nonormpts/data/val/normed_all_points.pkl\n",
      "23-06-2022 07:53:09 -- [I] root | [manifolds.py:580 -            load_data()] >> [MNISTManifolds]: data attribute (class_labels) loaded from file: /mnt/t-achetan/expC_dist_learner_for_adv_ex/mnist_test/mnist_18_val_only_moreoffmfldv3_nn10_highmn_nonormpts/data/val/class_labels.pkl\n",
      "23-06-2022 07:53:09 -- [I] root | [manifolds.py:580 -            load_data()] >> [MNISTManifolds]: data attribute (class_idx) loaded from file: /mnt/t-achetan/expC_dist_learner_for_adv_ex/mnist_test/mnist_18_val_only_moreoffmfldv3_nn10_highmn_nonormpts/data/val/class_idx.pkl\n",
      "23-06-2022 07:53:09 -- [I] root | [manifolds.py:580 -            load_data()] >> [MNISTManifolds]: data attribute (pre_class_labels) loaded from file: /mnt/t-achetan/expC_dist_learner_for_adv_ex/mnist_test/mnist_18_val_only_moreoffmfldv3_nn10_highmn_nonormpts/data/val/pre_class_labels.pkl\n",
      "23-06-2022 07:53:09 -- [I] root | [manifolds.py:580 -            load_data()] >> [MNISTManifolds]: data attribute (pre_class_idx) loaded from file: /mnt/t-achetan/expC_dist_learner_for_adv_ex/mnist_test/mnist_18_val_only_moreoffmfldv3_nn10_highmn_nonormpts/data/val/pre_class_idx.pkl\n",
      "23-06-2022 07:53:09 -- [I] root | [manifolds.py:580 -            load_data()] >> [MNISTManifolds]: data attribute (poca_idx) loaded from file: /mnt/t-achetan/expC_dist_learner_for_adv_ex/mnist_test/mnist_18_val_only_moreoffmfldv3_nn10_highmn_nonormpts/data/val/poca_idx.pkl\n",
      "23-06-2022 07:53:09 -- [I] root | [manifolds.py:580 -            load_data()] >> [MNISTManifolds]: data attribute (poca_idx_counts) loaded from file: /mnt/t-achetan/expC_dist_learner_for_adv_ex/mnist_test/mnist_18_val_only_moreoffmfldv3_nn10_highmn_nonormpts/data/val/poca_idx_counts.pkl\n",
      "23-06-2022 07:53:09 -- [I] root | [manifolds.py:580 -            load_data()] >> [MNISTManifolds]: data attribute (uniq_poca_idx) loaded from file: /mnt/t-achetan/expC_dist_learner_for_adv_ex/mnist_test/mnist_18_val_only_moreoffmfldv3_nn10_highmn_nonormpts/data/val/uniq_poca_idx.pkl\n",
      "23-06-2022 07:53:09 -- [I] root | [manifolds.py:580 -            load_data()] >> [MNISTManifolds]: data attribute (nn_indices) loaded from file: /mnt/t-achetan/expC_dist_learner_for_adv_ex/mnist_test/mnist_18_val_only_moreoffmfldv3_nn10_highmn_nonormpts/data/val/nn_indices.pkl\n",
      "23-06-2022 07:53:09 -- [I] root | [manifolds.py:580 -            load_data()] >> [MNISTManifolds]: data attribute (nn_distances) loaded from file: /mnt/t-achetan/expC_dist_learner_for_adv_ex/mnist_test/mnist_18_val_only_moreoffmfldv3_nn10_highmn_nonormpts/data/val/nn_distances.pkl\n"
     ]
    }
   ],
   "source": [
    "model_fn = \"/mnt/t-achetan/expC_dist_learner_for_adv_ex/mnist_test/mnist_18_val_only_moreoffmfldv3_nn10_highmn_nonormpts/3/models/ckpt.pth\"\n",
    "model = MTMLPwithNormalisation(input_size=784, output_size=2, hidden_sizes=[512] * 8, weight_norm=False, use_relu=False, use_tanh=False)\n",
    "model.load_state_dict(torch.load(model_fn)[\"model_state_dict\"])\n",
    "\n",
    "data_dir = \"/mnt/t-achetan/expC_dist_learner_for_adv_ex/mnist_test/mnist_18_val_only_moreoffmfldv3_nn10_highmn_nonormpts/data/val/\"\n",
    "dataset = MNISTManifolds()\n",
    "dataset.load_data(data_dir)\n",
    "\n",
    "dataloader = DataLoader(dataset, shuffle=False, batch_size=8192, num_workers=8)\n",
    "device = torch.device(\"cuda:0\")\n",
    "mse, mse_on_mfld, all_targets, all_logits = test(model, dataloader,device, feature_name=\"points\", target_name=\"normed_actual_distances\")\n"
   ]
  },
  {
   "cell_type": "code",
   "execution_count": 28,
   "metadata": {},
   "outputs": [],
   "source": [
    "th_analyze = np.arange(0.1, 1, 0.1)\n",
    "accs = np.zeros(th_analyze.shape[0])\n",
    "\n",
    "for i in range(len(th_analyze)):\n",
    "    \n",
    "    pred_class_labels = torch.zeros(dataset.all_points.shape[0])\n",
    "    true_class_labels = torch.zeros(dataset.all_points.shape[0])\n",
    "    \n",
    "    pred_distances, pred_class_labels = all_logits.min(dim=1)\n",
    "    true_distances, true_class_labels = all_targets.min(dim=1)\n",
    "    \n",
    "    pred_class_labels[pred_distances > th_analyze[i]] = 2\n",
    "    true_class_labels[true_distances > th_analyze[i]] = 2\n",
    "    \n",
    "    clf_report = classification_report(true_class_labels, pred_class_labels, output_dict=True)\n",
    "    \n",
    "    accs[i] = clf_report[\"accuracy\"]\n",
    "    "
   ]
  },
  {
   "cell_type": "code",
   "execution_count": null,
   "metadata": {},
   "outputs": [],
   "source": []
  },
  {
   "cell_type": "code",
   "execution_count": 34,
   "metadata": {},
   "outputs": [
    {
     "data": {
      "text/plain": [
       "(0, 1.02)"
      ]
     },
     "execution_count": 34,
     "metadata": {},
     "output_type": "execute_result"
    },
    {
     "data": {
      "image/png": "[encoded data removed]",
      "text/plain": [
       "<Figure size 432x288 with 1 Axes>"
      ]
     },
     "metadata": {
      "needs_background": "light"
     },
     "output_type": "display_data"
    }
   ],
   "source": [
    "plt.plot(th_analyze, accs, marker=\"o\")\n",
    "plt.xlim(0, 1.0)\n",
    "plt.ylim(0, 1.02)"
   ]
  },
  {
   "cell_type": "code",
   "execution_count": 35,
   "metadata": {},
   "outputs": [
    {
     "data": {
      "text/plain": [
       "array([0.95590327, 0.97486961, 0.98198198, 0.98482693, 0.98814604,\n",
       "       0.99004267, 0.99146515, 0.99241347, 0.99478426])"
      ]
     },
     "execution_count": 35,
     "metadata": {},
     "output_type": "execute_result"
    }
   ],
   "source": [
    "accs"
   ]
  },
  {
   "cell_type": "code",
   "execution_count": null,
   "metadata": {},
   "outputs": [],
   "source": []
  }
 ],
 "metadata": {
  "kernelspec": {
   "display_name": "Python 3",
   "language": "python",
   "name": "python3"
  },
  "language_info": {
   "codemirror_mode": {
    "name": "ipython",
    "version": 3
   },
   "file_extension": ".py",
   "mimetype": "text/x-python",
   "name": "python",
   "nbconvert_exporter": "python",
   "pygments_lexer": "ipython3",
   "version": "3.7.6"
  }
 },
 "nbformat": 4,
 "nbformat_minor": 4
}
