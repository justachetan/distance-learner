{
 "cells": [
  {
   "cell_type": "code",
   "execution_count": 1,
   "metadata": {},
   "outputs": [
    {
     "name": "stderr",
     "output_type": "stream",
     "text": [
      "\u001b[93m[2802212129] [Warning] running without display\u001b[0m\n"
     ]
    }
   ],
   "source": [
    "import os\n",
    "import sys\n",
    "import time\n",
    "import copy\n",
    "\n",
    "import numpy as np\n",
    "\n",
    "import torch\n",
    "import torch.nn as nn\n",
    "import torch.optim as optim\n",
    "from torch.utils.data import Dataset, DataLoader\n",
    "\n",
    "import torchvision\n",
    "import torchvision.transforms as transforms\n",
    "from torchvision import datasets\n",
    "\n",
    "import matplotlib\n",
    "# matplotlib.use('Agg')\n",
    "import matplotlib.pyplot as plt\n",
    "\n",
    "from livelossplot import PlotLosses\n",
    "\n",
    "from sklearn.neighbors import NearestNeighbors\n",
    "from sklearn.decomposition import IncrementalPCA\n",
    "from sklearn.metrics import classification_report\n",
    "\n",
    "from IPython.display import Image\n",
    "\n",
    "from tqdm.notebook import tqdm\n",
    "\n",
    "# Using model code from Stutz et.al.\n",
    "os.chdir(\"/data/adv_geom/drg/\")\n",
    "from models.classifier import Classifier\n",
    "from training.train_classifier import TrainClassifier"
   ]
  },
  {
   "cell_type": "code",
   "execution_count": 2,
   "metadata": {},
   "outputs": [],
   "source": [
    "class EMNIST(Dataset):\n",
    "    \n",
    "    def __init__(self, X, y):\n",
    "        'Initialization'\n",
    "        self.X = X\n",
    "        self.y = y\n",
    "        \n",
    "    def __len__(self):\n",
    "        return self.X.shape[0]\n",
    "    \n",
    "    def __getitem__(self, idx):\n",
    "        \n",
    "        return self.X[idx], self.y[idx]"
   ]
  },
  {
   "cell_type": "code",
   "execution_count": 3,
   "metadata": {},
   "outputs": [
    {
     "name": "stderr",
     "output_type": "stream",
     "text": [
      "No traceback available to show.\n",
      "\u001b[94m[2802212129] -- TrainClassifier\u001b[0m\n",
      "\u001b[94m[2802212129] [Training] train_images_file=/data/adv_geom/datasets/emnist/train_images.h5\u001b[0m\n",
      "\u001b[94m[2802212129] [Training] train_codes_file=/data/adv_geom/datasets/emnist/train_labels.h5\u001b[0m\n",
      "\u001b[94m[2802212129] [Training] test_images_file=/data/adv_geom/datasets/emnist/test_images.h5\u001b[0m\n",
      "\u001b[94m[2802212129] [Training] test_codes_file=/data/adv_geom/datasets/emnist/test_labels.h5\u001b[0m\n",
      "\u001b[94m[2802212129] [Training] state_file=/data/adv_geom/dumps/emnist/classifier.pth.tar\u001b[0m\n",
      "\u001b[94m[2802212129] [Training] log_file=/data/adv_geom/dumps/emnist/classifier.log\u001b[0m\n",
      "\u001b[94m[2802212129] [Training] training_file=/data/adv_geom/dumps/emnist/training.h5\u001b[0m\n",
      "\u001b[94m[2802212129] [Training] testing_file=/data/adv_geom/dumps/emnist/testing.h5\u001b[0m\n",
      "\u001b[94m[2802212129] [Training] loss_file=/data/adv_geom/dumps/emnist/loss.png\u001b[0m\n",
      "\u001b[94m[2802212129] [Training] error_file=/data/adv_geom/dumps/emnist/error.png\u001b[0m\n",
      "\u001b[94m[2802212129] [Training] gradient_file=/data/adv_geom/dumps/emnist/gradient.png\u001b[0m\n",
      "\u001b[94m[2802212129] [Training] label_index=0\u001b[0m\n",
      "\u001b[94m[2802212129] [Training] training_samples=160000\u001b[0m\n",
      "\u001b[94m[2802212129] [Training] validation_samples=40000\u001b[0m\n",
      "\u001b[94m[2802212129] [Training] test_samples=-1\u001b[0m\n",
      "\u001b[94m[2802212129] [Training] early_stopping=False\u001b[0m\n",
      "\u001b[94m[2802212129] [Training] random_samples=True\u001b[0m\n",
      "\u001b[94m[2802212129] [Training] batch_size=64\u001b[0m\n",
      "\u001b[94m[2802212129] [Training] epochs=10\u001b[0m\n",
      "\u001b[94m[2802212129] [Training] weight_decay=0.0001\u001b[0m\n",
      "\u001b[94m[2802212129] [Training] logit_decay=0\u001b[0m\n",
      "\u001b[94m[2802212129] [Training] use_gpu=True\u001b[0m\n",
      "\u001b[94m[2802212129] [Training] skip=5\u001b[0m\n",
      "\u001b[94m[2802212129] [Training] lr=0.01\u001b[0m\n",
      "\u001b[94m[2802212129] [Training] lr_decay=0.95\u001b[0m\n",
      "\u001b[94m[2802212129] [Training] results_file=\u001b[0m\n",
      "\u001b[94m[2802212129] [Training] debug_directory=\u001b[0m\n",
      "\u001b[94m[2802212129] [Training] gpu_id=1\u001b[0m\n",
      "\u001b[94m[2802212129] [Training] network_architecture=mlp\u001b[0m\n",
      "\u001b[94m[2802212129] [Training] network_activation=relu\u001b[0m\n",
      "\u001b[94m[2802212129] [Training] network_no_batch_normalization=False\u001b[0m\n",
      "\u001b[94m[2802212129] [Training] network_channels=16\u001b[0m\n",
      "\u001b[94m[2802212129] [Training] network_dropout=False\u001b[0m\n",
      "\u001b[94m[2802212129] [Training] network_units=1024,1024,1024,1024\u001b[0m\n",
      "/usr/local/lib/python3.6/dist-packages/torch/distributed/distributed_c10d.py:151: UserWarning: torch.distributed.reduce_op is deprecated, please use torch.distributed.ReduceOp instead\n",
      "  warnings.warn(\"torch.distributed.reduce_op is deprecated, please use \"\n",
      "\u001b[94m[2802212129] [Training] read /data/adv_geom/datasets/emnist/train_images.h5\u001b[0m\n",
      "\u001b[94m[2802212129] [Training] read /data/adv_geom/datasets/emnist/test_images.h5\u001b[0m\n",
      "\u001b[94m[2802212129] [Training] resolution 28\u001b[0m\n",
      "\u001b[94m[2802212129] 240000\u001b[0m\n",
      "\u001b[94m[2802212129] [Training] read /data/adv_geom/datasets/emnist/train_labels.h5\u001b[0m\n",
      "\u001b[94m[2802212129] [Training] read /data/adv_geom/datasets/emnist/test_labels.h5\u001b[0m\n",
      "\u001b[94m[2802212129] [Training] using 160000 training samples\u001b[0m\n",
      "\u001b[94m[2802212129] [Training] found 10 classes\u001b[0m\n",
      "\u001b[93m[2802212129] [Training] dataset not balanced, class 0 should have 16000 samples but has 16015\u001b[0m\n",
      "\u001b[93m[2802212129] [Training] dataset not balanced, class 1 should have 16000 samples but has 15943\u001b[0m\n",
      "\u001b[93m[2802212129] [Training] dataset not balanced, class 2 should have 16000 samples but has 15920\u001b[0m\n",
      "\u001b[93m[2802212129] [Training] dataset not balanced, class 3 should have 16000 samples but has 16077\u001b[0m\n",
      "\u001b[93m[2802212129] [Training] dataset not balanced, class 4 should have 16000 samples but has 16075\u001b[0m\n",
      "\u001b[93m[2802212129] [Training] dataset not balanced, class 5 should have 16000 samples but has 15930\u001b[0m\n",
      "\u001b[93m[2802212129] [Training] dataset not balanced, class 6 should have 16000 samples but has 16093\u001b[0m\n",
      "\u001b[93m[2802212129] [Training] dataset not balanced, class 7 should have 16000 samples but has 15924\u001b[0m\n",
      "\u001b[93m[2802212129] [Training] dataset not balanced, class 8 should have 16000 samples but has 15982\u001b[0m\n",
      "\u001b[93m[2802212129] [Training] dataset not balanced, class 9 should have 16000 samples but has 16041\u001b[0m\n",
      "\u001b[94m[2802212129] [Training] using 1 input channels\u001b[0m\n",
      "\u001b[94m[2802212129] [Training] loaded /data/adv_geom/dumps/emnist/classifier.pth.tar\u001b[0m\n",
      "\u001b[94m[2802212129] [Training] model is not CUDA\u001b[0m\n",
      "\u001b[94m[2802212129] [Training] loaded model\u001b[0m\n",
      "\u001b[94m[2802212129] [Training] read /data/adv_geom/dumps/emnist/training.h5\u001b[0m\n",
      "\u001b[94m[2802212129] [Training] read /data/adv_geom/dumps/emnist/testing.h5\u001b[0m\n",
      "\u001b[94m[2802212129] (view0, View)\n",
      "(lin1, Linear)\n",
      "(act1, ReLU)\n",
      "(bn1, BatchNorm1d)\n",
      "(lin2, Linear)\n",
      "(act2, ReLU)\n",
      "(bn2, BatchNorm1d)\n",
      "(lin3, Linear)\n",
      "(act3, ReLU)\n",
      "(bn3, BatchNorm1d)\n",
      "(lin4, Linear)\n",
      "(act4, ReLU)\n",
      "(bn4, BatchNorm1d)\n",
      "(logits, Linear)\n",
      "\u001b[0m\n"
     ]
    }
   ],
   "source": [
    "%tb\n",
    "args = {\n",
    "    \"train_images_file\": \"/data/adv_geom/datasets/emnist/train_images.h5\",\n",
    "    \"train_codes_file\": \"/data/adv_geom/datasets/emnist/train_labels.h5\",\n",
    "    \"test_images_file\": \"/data/adv_geom/datasets/emnist/test_images.h5\",\n",
    "    \"test_codes_file\": \"/data/adv_geom/datasets/emnist/test_labels.h5\",\n",
    "    \"state_file\": \"/data/adv_geom/dumps/emnist/classifier.pth.tar\",\n",
    "    \"label_index\": 0,\n",
    "    \"lr_decay\": 0.95,\n",
    "    \"weight_decay\": 0.0001,\n",
    "    \"training_samples\": 160000,\n",
    "    \"validation_samples\": 40000,\n",
    "    \"random_samples\": True,\n",
    "    \"network_architecture\": \"mlp\",\n",
    "    \"gpu_id\": 1\n",
    "}\n",
    "\n",
    "sys.argv = [\"-\" + i + \"=\" + str(args[i]) if type(args[i]) != type(True) else \"-\" + i for i in args]\n",
    "\n",
    "\n",
    "train_clf = TrainClassifier(args=sys.argv)\n",
    "train_clf.load_data()\n",
    "train_clf.load_model_and_scheduler()"
   ]
  },
  {
   "cell_type": "code",
   "execution_count": 4,
   "metadata": {},
   "outputs": [],
   "source": [
    "def epoch_adversarial(model, loader, attack, *args):\n",
    "    total_loss, total_err = 0.,0.\n",
    "    for X,y in loader:\n",
    "        X,y = X.to(device), y.to(device)\n",
    "        delta = attack(model, X, y, *args)\n",
    "        yp = model(X+delta)\n",
    "        loss = nn.CrossEntropyLoss()(yp,y)\n",
    "        \n",
    "        total_err += (yp.max(dim=1)[1] != y).sum().item()\n",
    "        total_loss += loss.item() * X.shape[0]\n",
    "    return total_err / len(loader.dataset), total_loss / len(loader.dataset)\n",
    "\n",
    "\n",
    "def pgd_linf_rand(model, X, y, epsilon, alpha, num_iter, restarts):\n",
    "    \"\"\" Construct PGD adversarial examples on the samples X, with random restarts\"\"\"\n",
    "    max_loss = torch.zeros(y.shape[0]).to(y.device)\n",
    "    max_delta = torch.zeros_like(X)\n",
    "    \n",
    "    model.zero_grad()\n",
    "    \n",
    "    for i in range(restarts):\n",
    "        delta = torch.rand_like(X, requires_grad=True)\n",
    "        delta.data = delta.data * 2 * epsilon - epsilon\n",
    "        \n",
    "        for t in range(num_iter):\n",
    "            loss = nn.CrossEntropyLoss()(model((X + delta).permute(0, 3, 1, 2)), y.long())\n",
    "            loss.backward()\n",
    "            delta.data = (delta + alpha*delta.grad.detach().sign()).clamp(-epsilon,epsilon)\n",
    "            delta.grad.zero_()\n",
    "        \n",
    "        all_loss = nn.CrossEntropyLoss(reduction='none')(model(X+delta),y.long())\n",
    "        max_delta[all_loss >= max_loss] = delta.detach()[all_loss >= max_loss]\n",
    "        max_loss = torch.max(max_loss, all_loss)\n",
    "    \n",
    "    model.zero_grad()\n",
    "    return max_delta"
   ]
  },
  {
   "cell_type": "code",
   "execution_count": 5,
   "metadata": {},
   "outputs": [],
   "source": [
    "def plot_images(X,y,yp,M,N,path=None):\n",
    "    f,ax = plt.subplots(M,N, sharex=True, sharey=True, figsize=(N,M*1.3))\n",
    "    for i in range(M):\n",
    "        for j in range(N):\n",
    "            ax[i][j].imshow(1-X[i*N+j].cpu().numpy(), cmap=\"gray\")\n",
    "            title = ax[i][j].set_title(\"Pred: {}\".format(yp[i*N+j].max(dim=0)[1]))\n",
    "            plt.setp(title, color=('g' if yp[i*N+j].max(dim=0)[1] == y[i*N+j] else 'r'))\n",
    "            ax[i][j].set_axis_off()\n",
    "#     plt.tight_layout()\n",
    "    if path is None:\n",
    "        path = \"test.png\"\n",
    "    plt.savefig(path)"
   ]
  },
  {
   "cell_type": "code",
   "execution_count": 6,
   "metadata": {},
   "outputs": [],
   "source": [
    "def get_projection(x, delta, X_train, nn, pca=None, scheme=\"paper\"):\n",
    "    \"\"\"\n",
    "    get projection of a sample on the approximated manifold\n",
    "    \n",
    "    this implementation is based on the repository for Stutz et.al.\n",
    "    as well as what they have written in their paper\n",
    "    \n",
    "    input:\n",
    "    x: sample for which projection is to be computed (numpy)\n",
    "    nn: nearest neighbor model fitted on the training samples\n",
    "    pca: if given it refers to the PCA model fitted on random subset of training samples \n",
    "    scheme: \n",
    "        - \"paper\": given in Appendix C in the paper\n",
    "        - \"self\": based on paper, computed by myself\n",
    "        - \"pca_paper\": nn is done using pca vectors then \"paper\"\n",
    "        - \"pca_self\": nn is done using pca vectors then \"self\"\n",
    "        - \"*_correct\": if you want zero correction\n",
    "    \n",
    "    returns:\n",
    "    pi_x: projection of sample onto the manifold\n",
    "    \"\"\"\n",
    "    \n",
    "    x = x.reshape(1, -1)\n",
    "    x_latent = x.clone()\n",
    "    # pca is used only in code but not mentioned in the paper\n",
    "    # if it is provided, we transform the vectors\n",
    "    if pca:\n",
    "        assert scheme[:4] == \"pca_\"\n",
    "#         assert X_train.shape[1] == pca.n_features_\n",
    "        x_latent = pca.transform(x)\n",
    "        \n",
    "    nbhrs_idx = nn.kneighbors(x_latent.reshape(1, -1), n_neighbors=50)[1][0]\n",
    "    nbhrs = X_train[nbhrs_idx]\n",
    "    \n",
    "    nbhrs = nbhrs.reshape(nbhrs.shape[0], -1)\n",
    "    delta = delta.reshape(-1)\n",
    "    \n",
    "    norm_nbhrs = None\n",
    "    sol = None\n",
    "    if \"paper\" in scheme:\n",
    "        norm_nbhrs = nbhrs - nbhrs.mean(axis=0)\n",
    "#         print(norm_nbhrs.shape, delta.shape)\n",
    "\n",
    "        sol = np.linalg.lstsq(norm_nbhrs.T, delta, rcond=None)\n",
    "    elif \"self\" in scheme:\n",
    "        # this part does not change in \"self\"\n",
    "        norm_nbhrs = nbhrs - nbhrs.mean(axis=0) \n",
    "        \n",
    "        sol = np.linalg.lstsq(norm_nbhrs.T, x.reshape(-1) - nbhrs.mean(axis=0), rcond=None)\n",
    "        \n",
    "    beta = sol[0]\n",
    "    pi_x = np.dot(norm_nbhrs.T, beta) \n",
    "    \n",
    "    if \"correct\" in scheme:\n",
    "        pi_x = pi_x + nbhrs.mean(axis=0)\n",
    "    \n",
    "    return pi_x\n",
    "    \n",
    "    "
   ]
  },
  {
   "cell_type": "code",
   "execution_count": 7,
   "metadata": {},
   "outputs": [],
   "source": [
    "def get_projections_for_data(X, y, X_train, nn, pca=None, scheme=\"paper\", batch_size=8):\n",
    "    \"\"\"get projections for data and get predictions on top of them\"\"\"\n",
    "    \n",
    "    \n",
    "    pi_X_set = None\n",
    "    perturbed_set = None\n",
    "    orig_set = None\n",
    "    \n",
    "    true_labels = None\n",
    "    raw_X_codes = None\n",
    "    perturbed_X_codes = None\n",
    "    pi_X_codes = None\n",
    "    \n",
    "    \n",
    "    \n",
    "    dataset = EMNIST(X, y)\n",
    "    dataloader = DataLoader(dataset, batch_size=batch_size, shuffle=True, num_workers=4)\n",
    "    \n",
    "    for (inp, targets) in tqdm(dataloader):\n",
    "        \n",
    "        model.cuda()\n",
    "        \n",
    "        inp = inp.cuda()\n",
    "        targets = targets.cuda()\n",
    "        \n",
    "        # computing predictions for original images\n",
    "        model.eval()\n",
    "        with torch.no_grad():\n",
    "            \n",
    "            inp = inp\n",
    "            raw_pred_codes = model(inp).cpu()\n",
    "        \n",
    "#         model.train()\n",
    "        \n",
    "        if raw_X_codes is None:\n",
    "            raw_X_codes = raw_pred_codes\n",
    "        else:\n",
    "            raw_X_codes = torch.cat((raw_X_codes, raw_pred_codes), axis=0)\n",
    "            \n",
    "        \n",
    "        # computing perturbations\n",
    "        delta = pgd_linf_rand(model, inp, targets, 0.1, 1e-2, 40, 10)\n",
    "#         model.zero_grad()\n",
    "        delta = delta.cuda()\n",
    "        \n",
    "        # perturbed input\n",
    "        perturbed_inp = inp.detach().clone() + delta\n",
    "        \n",
    "        # computing predictions on perturbed input\n",
    "#         model.eval()\n",
    "        with torch.no_grad(): \n",
    "            perturbed_pred_codes = model(perturbed_inp.permute(0, 3, 1, 2))\n",
    "#         model.train()\n",
    "        \n",
    "        \n",
    "        inp = inp.detach().cpu()\n",
    "        targets = targets.detach().cpu()\n",
    "        delta = delta.detach().cpu()\n",
    "        \n",
    "        if true_labels is None:\n",
    "            true_labels = targets\n",
    "        else:\n",
    "            true_labels = torch.cat((true_labels, targets), axis=0)\n",
    "            \n",
    "        if orig_set is None:\n",
    "            orig_set = inp\n",
    "        else:\n",
    "            orig_set = torch.cat((orig_set, inp), axis=0)\n",
    "        \n",
    "        projected_inp_batch = None\n",
    "        \n",
    "        # finding projections\n",
    "        for i in range(inp.shape[0]):\n",
    "            \n",
    "            projected_inp = get_projection(perturbed_inp[i].detach().cpu(), delta[i], X_train, nn, pca, scheme)\n",
    "            projected_inp = torch.from_numpy(projected_inp)\n",
    "            \n",
    "            projected_inp = projected_inp.reshape(1, 28, 28, 1)\n",
    "            \n",
    "            if pi_X_set is None:\n",
    "                pi_X_set = projected_inp\n",
    "            else:\n",
    "                pi_X_set = torch.cat((pi_X_set, projected_inp), axis=0)\n",
    "                \n",
    "            if projected_inp_batch is None:\n",
    "                projected_inp_batch = projected_inp\n",
    "            else:\n",
    "                projected_inp_batch = torch.cat((projected_inp_batch, projected_inp), axis=0)\n",
    "                \n",
    "        projected_inp_batch = projected_inp_batch.cuda()\n",
    "        \n",
    "        # computing predictions for projected samples\n",
    "#         model.eval()\n",
    "        with torch.no_grad():\n",
    "            projected_pred_codes = model(projected_inp_batch.permute(0, 3, 1, 2))\n",
    "#         model.train()\n",
    "        \n",
    "        perturbed_pred_codes = perturbed_pred_codes.detach().cpu()\n",
    "        perturbed_inp = perturbed_inp.detach().cpu()\n",
    "        projected_pred_codes = projected_pred_codes.cpu()\n",
    "        projected_inp_batch = projected_inp_batch.cpu()\n",
    "        \n",
    "        if perturbed_set is None:\n",
    "            perturbed_set = perturbed_inp\n",
    "        else:\n",
    "            perturbed_set = torch.cat((perturbed_set, perturbed_inp), axis=0)\n",
    "        \n",
    "        if perturbed_X_codes is None:\n",
    "            perturbed_X_codes = perturbed_pred_codes\n",
    "        else:\n",
    "            perturbed_X_codes = torch.cat((perturbed_X_codes, perturbed_pred_codes), axis=0)\n",
    "        \n",
    "        \n",
    "        if pi_X_codes is None:\n",
    "            pi_X_codes = projected_pred_codes\n",
    "            \n",
    "        else:\n",
    "            pi_X_codes = torch.cat((pi_X_codes, projected_pred_codes), axis=0)\n",
    "        \n",
    "        \n",
    "#         print(pi_X_set.shape, perturbed_set.shape, raw_X_codes.shape, perturbed_X_codes.shape, pi_X_codes.shape)\n",
    "    return orig_set, pi_X_set, perturbed_set, true_labels, raw_X_codes, perturbed_X_codes, pi_X_codes\n",
    "        \n",
    "    \n",
    "# model.cuda()\n",
    "# rimg = rimg.cuda()\n",
    "# rcode = rcode.cuda()\n",
    "# delta = pgd_linf_rand(model, rimg, rcode, 0.1, 1e-2, 40, 10)\n",
    "# model.cpu()\n",
    "# rimg = rimg.cpu()\n",
    "# rcode = rcode.cpu()"
   ]
  },
  {
   "cell_type": "code",
   "execution_count": null,
   "metadata": {},
   "outputs": [],
   "source": []
  },
  {
   "cell_type": "code",
   "execution_count": 8,
   "metadata": {},
   "outputs": [],
   "source": [
    "model = train_clf.model\n",
    "X_test = torch.Tensor(train_clf.test_images)\n",
    "y_test = torch.Tensor(train_clf.test_codes)\n"
   ]
  },
  {
   "cell_type": "code",
   "execution_count": null,
   "metadata": {},
   "outputs": [],
   "source": [
    "\n",
    "\n",
    "\n"
   ]
  },
  {
   "cell_type": "code",
   "execution_count": 9,
   "metadata": {},
   "outputs": [
    {
     "data": {
      "text/plain": [
       "'\\nFinding nearest neighbours on the manifold\\nReference: https://github.com/davidstutz/disentangling-robustness-generalization/blob/220ff8a79a5f08665f4755dc76d4e592ae66c6d6/training/test_attack_classifier.py#L154\\n'"
      ]
     },
     "execution_count": 9,
     "metadata": {},
     "output_type": "execute_result"
    }
   ],
   "source": [
    "\"\"\"\n",
    "Finding nearest neighbours on the manifold\n",
    "Reference: https://github.com/davidstutz/disentangling-robustness-generalization/blob/220ff8a79a5f08665f4755dc76d4e592ae66c6d6/training/test_attack_classifier.py#L154\n",
    "\"\"\""
   ]
  },
  {
   "cell_type": "code",
   "execution_count": 10,
   "metadata": {},
   "outputs": [],
   "source": [
    "X_train = train_clf.train_images\n",
    "y_train = train_clf.train_codes\n",
    "\n",
    "USE_PCA = False\n",
    "num_img_to_fit = 10000\n",
    "\n",
    "pca = None\n",
    "NN = None\n",
    "X_train_latent = None\n",
    "\n",
    "if USE_PCA:\n",
    "\n",
    "    # Training a PCA model on randomly sampled 10000 images from the training set\n",
    "    idx = np.random.randint(0, X_train.shape[0], size=num_img_to_fit)\n",
    "\n",
    "    pca = IncrementalPCA(n_components=20) # n_components taken from David Stutz's code\n",
    "    pca.fit(X_train[idx].reshape(X_train[idx].shape[0], -1))\n",
    "\n",
    "    # Transforming the training set based on the learned PCA model \n",
    "    # Note: These will be used to approximate the manifold, since these\n",
    "    # are what the classifier has been trained on\n",
    "    X_train_latent = pca.transform(X_train.reshape(X_train.shape[0], -1))\n",
    "\n",
    "    # Fitting a Nearest Neighbors object on the transformed latent samples\n",
    "    NN = NearestNeighbors(n_neighbors=50, algorithm='kd_tree')\n",
    "    NN.fit(X_train_latent)\n",
    "    \n",
    "else:\n",
    "    NN = NearestNeighbors(n_neighbors=50, algorithm=\"kd_tree\")\n",
    "    NN.fit(X_train.reshape(X_train.shape[0], -1))"
   ]
  },
  {
   "cell_type": "code",
   "execution_count": 11,
   "metadata": {},
   "outputs": [
    {
     "data": {
      "application/vnd.jupyter.widget-view+json": {
       "model_id": "acbb543d496648079a7586ea52eab9d1",
       "version_major": 2,
       "version_minor": 0
      },
      "text/plain": [
       "HBox(children=(FloatProgress(value=0.0, max=5000.0), HTML(value='')))"
      ]
     },
     "metadata": {},
     "output_type": "display_data"
    },
    {
     "name": "stdout",
     "output_type": "stream",
     "text": [
      "\n"
     ]
    }
   ],
   "source": [
    "orig_set, pi_X_set, perturbed_set, true_labels, raw_X_codes, perturbed_X_codes, pi_X_codes = get_projections_for_data(X_test,\\\n",
    "                                                                                               y_test,\\\n",
    "                                                                                               X_train,\\\n",
    "                                                                                               NN,\\\n",
    "                                                                                               pca,\\\n",
    "                                                                                               scheme=\"self_correct\",\\\n",
    "                                                                                               batch_size=8)\n",
    "\n",
    "\n",
    "\n",
    "\n"
   ]
  },
  {
   "cell_type": "code",
   "execution_count": 12,
   "metadata": {},
   "outputs": [],
   "source": [
    "# os.mkdir(\"self_correct\")\n",
    "# torch.save(orig_set, \"self_correct/orig_set.pkl\")\n",
    "# torch.save(pi_X_set, \"self_correct/pi_X_set.pkl\")\n",
    "# torch.save(perturbed_set, \"self_correct/perturbed_set.pkl\")\n",
    "# torch.save(true_labels, \"self_correct/true_labels.pkl\")\n",
    "# torch.save(raw_X_codes, \"self_correct/raw_X_codes.pkl\")\n",
    "# torch.save(perturbed_X_codes, \"self_correct/perturbed_X_codes.pkl\")\n",
    "# torch.save(pi_X_codes, \"self_correct/pi_X_codes.pkl\")"
   ]
  },
  {
   "cell_type": "code",
   "execution_count": 11,
   "metadata": {},
   "outputs": [],
   "source": [
    "# orig_set = torch.load(\"pca_paper_correct/orig_set.pkl\")\n",
    "# pi_X_set = torch.load(\"pca_paper_correct/pi_X_set.pkl\")\n",
    "# perturbed_set = torch.load(\"pca_paper_correct/perturbed_set.pkl\")\n",
    "# true_labels = torch.load(\"pca_paper_correct/true_labels.pkl\")\n",
    "# raw_X_codes = torch.load(\"pca_paper_correct/raw_X_codes.pkl\")\n",
    "# perturbed_X_codes = torch.load(\"pca_paper_correct/perturbed_X_codes.pkl\")\n",
    "# pi_X_codes = torch.load(\"pca_paper_correct/pi_X_codes.pkl\")"
   ]
  },
  {
   "cell_type": "code",
   "execution_count": 11,
   "metadata": {},
   "outputs": [
    {
     "name": "stderr",
     "output_type": "stream",
     "text": [
      "\u001b[94m[2802211927] [Training] 21 set classifier to eval\u001b[0m\n",
      "/usr/local/lib/python3.6/dist-packages/torch/nn/_reduction.py:44: UserWarning: size_average and reduce args will be deprecated, please use reduction='mean' instead.\n",
      "  warnings.warn(warning.format(ret))\n",
      "\u001b[94m[2802211927] [Training] 21: test 0.0860147 (0.0253)\u001b[0m\n"
     ]
    }
   ],
   "source": [
    "# train_clf.model.zero_grad()\n",
    "raw_clf_report = train_clf.test()\n",
    "# perturbed_clf_report = train_clf.test(X_test=perturbed_set.reshape(orig_set.shape[0], 28, 28, 1), y_test=true_labels.long())\n",
    "# projected_clf_report = train_clf.test(X_test=pi_X_set.reshape(orig_set.shape[0], 28, 28, 1), y_test=true_labels.long())"
   ]
  },
  {
   "cell_type": "code",
   "execution_count": 12,
   "metadata": {},
   "outputs": [
    {
     "data": {
      "text/plain": [
       "{'0': {'precision': 0.9626394953905871,\n",
       "  'recall': 0.992,\n",
       "  'f1-score': 0.9770992366412214,\n",
       "  'support': 4000},\n",
       " '1': {'precision': 0.9904690243290695,\n",
       "  'recall': 0.98725,\n",
       "  'f1-score': 0.9888568924502316,\n",
       "  'support': 4000},\n",
       " '2': {'precision': 0.9852941176470589,\n",
       "  'recall': 0.9715,\n",
       "  'f1-score': 0.9783484390735147,\n",
       "  'support': 4000},\n",
       " '3': {'precision': 0.9777384265115102,\n",
       "  'recall': 0.96625,\n",
       "  'f1-score': 0.9719602665660757,\n",
       "  'support': 4000},\n",
       " '4': {'precision': 0.9449081803005008,\n",
       "  'recall': 0.9905,\n",
       "  'f1-score': 0.9671670938606127,\n",
       "  'support': 4000},\n",
       " '5': {'precision': 0.9778393351800554,\n",
       "  'recall': 0.97075,\n",
       "  'f1-score': 0.9742817714214026,\n",
       "  'support': 4000},\n",
       " '6': {'precision': 0.9911144960649911,\n",
       "  'recall': 0.976,\n",
       "  'f1-score': 0.9834991812570852,\n",
       "  'support': 4000},\n",
       " '7': {'precision': 0.9646255184191266,\n",
       "  'recall': 0.9885,\n",
       "  'f1-score': 0.9764168415853809,\n",
       "  'support': 4000},\n",
       " '8': {'precision': 0.9805277991288752,\n",
       "  'recall': 0.95675,\n",
       "  'f1-score': 0.9684929773503733,\n",
       "  'support': 4000},\n",
       " '9': {'precision': 0.9745435844690151,\n",
       "  'recall': 0.9475,\n",
       "  'f1-score': 0.9608315375839777,\n",
       "  'support': 4000},\n",
       " 'accuracy': 0.9747,\n",
       " 'macro avg': {'precision': 0.9749699977440791,\n",
       "  'recall': 0.9747,\n",
       "  'f1-score': 0.9746954237789875,\n",
       "  'support': 40000},\n",
       " 'weighted avg': {'precision': 0.9749699977440789,\n",
       "  'recall': 0.9747,\n",
       "  'f1-score': 0.9746954237789877,\n",
       "  'support': 40000}}"
      ]
     },
     "execution_count": 12,
     "metadata": {},
     "output_type": "execute_result"
    }
   ],
   "source": [
    "raw_clf_report"
   ]
  },
  {
   "cell_type": "code",
   "execution_count": null,
   "metadata": {},
   "outputs": [],
   "source": []
  },
  {
   "cell_type": "code",
   "execution_count": 43,
   "metadata": {},
   "outputs": [],
   "source": [
    "imgs = pi_X_set[:6]"
   ]
  },
  {
   "cell_type": "code",
   "execution_count": 46,
   "metadata": {},
   "outputs": [
    {
     "name": "stderr",
     "output_type": "stream",
     "text": [
      "Clipping input data to the valid range for imshow with RGB data ([0..1] for floats or [0..255] for integers).\n"
     ]
    },
    {
     "data": {
      "image/png": "[encoded data removed]",
      "text/plain": [
       "<IPython.core.display.Image object>"
      ]
     },
     "execution_count": 46,
     "metadata": {},
     "output_type": "execute_result"
    }
   ],
   "source": [
    "plt.figure()\n",
    "toplot = imgs.permute(0, 3, 1, 2)\n",
    "grid_img = torchvision.utils.make_grid(toplot, nrow=3)\n",
    "plt.imshow(grid_img.permute(1, 2, 0), cmap=\"gray\")\n",
    "plt.savefig(\"test_grid.png\")\n",
    "Image(filename=\"test_grid.png\")"
   ]
  },
  {
   "cell_type": "code",
   "execution_count": 13,
   "metadata": {},
   "outputs": [],
   "source": [
    "raw_labels = torch.max(raw_X_codes, axis=1)[1]\n",
    "perturbed_labels = torch.max(perturbed_X_codes, axis=1)[1]\n",
    "projected_labels = torch.max(pi_X_codes, axis=1)[1]"
   ]
  },
  {
   "cell_type": "code",
   "execution_count": null,
   "metadata": {},
   "outputs": [],
   "source": []
  },
  {
   "cell_type": "code",
   "execution_count": 14,
   "metadata": {},
   "outputs": [
    {
     "name": "stdout",
     "output_type": "stream",
     "text": [
      "              precision    recall  f1-score   support\n",
      "\n",
      "           0       0.96      0.99      0.98      4000\n",
      "           1       0.99      0.99      0.99      4000\n",
      "           2       0.99      0.97      0.98      4000\n",
      "           3       0.98      0.97      0.97      4000\n",
      "           4       0.94      0.99      0.97      4000\n",
      "           5       0.98      0.97      0.97      4000\n",
      "           6       0.99      0.98      0.98      4000\n",
      "           7       0.96      0.99      0.98      4000\n",
      "           8       0.98      0.96      0.97      4000\n",
      "           9       0.97      0.95      0.96      4000\n",
      "\n",
      "    accuracy                           0.97     40000\n",
      "   macro avg       0.97      0.97      0.97     40000\n",
      "weighted avg       0.97      0.97      0.97     40000\n",
      "\n"
     ]
    }
   ],
   "source": [
    "print(classification_report(true_labels.long().cpu(), raw_labels.cpu()))"
   ]
  },
  {
   "cell_type": "code",
   "execution_count": 15,
   "metadata": {},
   "outputs": [
    {
     "name": "stdout",
     "output_type": "stream",
     "text": [
      "              precision    recall  f1-score   support\n",
      "\n",
      "         0.0       0.34      0.47      0.39      4000\n",
      "         1.0       0.00      0.00      0.00      4000\n",
      "         2.0       0.14      0.14      0.14      4000\n",
      "         3.0       0.09      0.07      0.08      4000\n",
      "         4.0       0.10      0.19      0.13      4000\n",
      "         5.0       0.19      0.21      0.20      4000\n",
      "         6.0       0.17      0.07      0.10      4000\n",
      "         7.0       0.03      0.02      0.03      4000\n",
      "         8.0       0.08      0.11      0.09      4000\n",
      "         9.0       0.02      0.02      0.02      4000\n",
      "\n",
      "    accuracy                           0.13     40000\n",
      "   macro avg       0.12      0.13      0.12     40000\n",
      "weighted avg       0.12      0.13      0.12     40000\n",
      "\n"
     ]
    }
   ],
   "source": [
    "print(classification_report(true_labels.cpu(), perturbed_labels.cpu()))"
   ]
  },
  {
   "cell_type": "code",
   "execution_count": 16,
   "metadata": {},
   "outputs": [
    {
     "name": "stdout",
     "output_type": "stream",
     "text": [
      "              precision    recall  f1-score   support\n",
      "\n",
      "         0.0       0.83      0.97      0.89      4000\n",
      "         1.0       0.97      0.95      0.96      4000\n",
      "         2.0       0.92      0.84      0.88      4000\n",
      "         3.0       0.90      0.81      0.85      4000\n",
      "         4.0       0.78      0.94      0.85      4000\n",
      "         5.0       0.89      0.85      0.87      4000\n",
      "         6.0       0.95      0.87      0.91      4000\n",
      "         7.0       0.85      0.90      0.87      4000\n",
      "         8.0       0.85      0.82      0.84      4000\n",
      "         9.0       0.83      0.77      0.80      4000\n",
      "\n",
      "    accuracy                           0.87     40000\n",
      "   macro avg       0.88      0.87      0.87     40000\n",
      "weighted avg       0.88      0.87      0.87     40000\n",
      "\n"
     ]
    }
   ],
   "source": [
    "print(classification_report(true_labels.cpu(), projected_labels.cpu()))"
   ]
  },
  {
   "cell_type": "code",
   "execution_count": 32,
   "metadata": {},
   "outputs": [],
   "source": [
    "# Pick a perturbed sample\n",
    "ridx = np.random.randint(0, X_test.shape[0], size=(1,6))[0]\n",
    "rimg = X_test[ridx]\n",
    "rcode = y_test[ridx]"
   ]
  },
  {
   "cell_type": "code",
   "execution_count": 34,
   "metadata": {},
   "outputs": [],
   "source": [
    "plt.figure()\n",
    "plt.imshow(X_test[ridx][0], cmap=\"gray\")\n",
    "plt.savefig(\"raw.png\")"
   ]
  },
  {
   "cell_type": "code",
   "execution_count": 35,
   "metadata": {},
   "outputs": [
    {
     "data": {
      "image/png": "[encoded data removed]",
      "text/plain": [
       "<IPython.core.display.Image object>"
      ]
     },
     "execution_count": 35,
     "metadata": {},
     "output_type": "execute_result"
    }
   ],
   "source": [
    "Image(filename='raw.png')"
   ]
  },
  {
   "cell_type": "code",
   "execution_count": 36,
   "metadata": {},
   "outputs": [],
   "source": [
    "rimg = torch.Tensor(rimg)\n",
    "rcode = torch.Tensor(rcode)"
   ]
  },
  {
   "cell_type": "code",
   "execution_count": 37,
   "metadata": {},
   "outputs": [],
   "source": [
    "model.cuda()\n",
    "rimg = rimg.cuda()\n",
    "rcode = rcode.cuda()\n",
    "delta = pgd_linf_rand(model, rimg, rcode, 0.1, 1e-2, 40, 10)\n",
    "model.cpu()\n",
    "rimg = rimg.cpu()\n",
    "rcode = rcode.cpu()\n"
   ]
  },
  {
   "cell_type": "code",
   "execution_count": 38,
   "metadata": {},
   "outputs": [],
   "source": [
    "model.cuda()\n",
    "with torch.no_grad():\n",
    "    \n",
    "    yp = model(rimg.cuda() + delta.cuda())\n",
    "    \n",
    "    model.cpu()"
   ]
  },
  {
   "cell_type": "code",
   "execution_count": 39,
   "metadata": {
    "scrolled": true
   },
   "outputs": [],
   "source": [
    "# X = torch.Tensor(train_clf.train_images)\n",
    "# y = torch.Tensor(train_clf.train_codes).long()\n",
    "# model.cuda()\n",
    "# X = X.cuda()\n",
    "# y = y.cuda()\n",
    "# delta = pgd_linf_rand(model, X[:1], y[:1], 0.1, 1e-2, 40, 10)\n",
    "# model.cpu()\n",
    "# X = X.cpu()\n",
    "# y = y.cpu()"
   ]
  },
  {
   "cell_type": "code",
   "execution_count": 40,
   "metadata": {},
   "outputs": [
    {
     "data": {
      "text/plain": [
       "(torch.Size([6, 10]), torch.Size([6, 28, 28, 1]), torch.Size([6]))"
      ]
     },
     "execution_count": 40,
     "metadata": {},
     "output_type": "execute_result"
    }
   ],
   "source": [
    "yp.shape, rimg.shape, rcode.shape"
   ]
  },
  {
   "cell_type": "code",
   "execution_count": 41,
   "metadata": {},
   "outputs": [
    {
     "data": {
      "text/plain": [
       "(784,)"
      ]
     },
     "execution_count": 41,
     "metadata": {},
     "output_type": "execute_result"
    }
   ],
   "source": [
    "X = rimg.numpy()\n",
    "X = X.reshape(X.shape[0], -1)[0]\n",
    "X.shape"
   ]
  },
  {
   "cell_type": "code",
   "execution_count": 73,
   "metadata": {},
   "outputs": [
    {
     "data": {
      "text/plain": [
       "torch.Size([6, 28, 28, 1])"
      ]
     },
     "execution_count": 73,
     "metadata": {},
     "output_type": "execute_result"
    }
   ],
   "source": [
    "rimg.shape"
   ]
  },
  {
   "cell_type": "code",
   "execution_count": 75,
   "metadata": {},
   "outputs": [
    {
     "data": {
      "text/plain": [
       "torch.Size([6, 1, 28, 28])"
      ]
     },
     "execution_count": 75,
     "metadata": {},
     "output_type": "execute_result"
    }
   ],
   "source": [
    "rimg = "
   ]
  },
  {
   "cell_type": "code",
   "execution_count": 77,
   "metadata": {},
   "outputs": [
    {
     "data": {
      "image/png": "[encoded data removed]",
      "text/plain": [
       "<IPython.core.display.Image object>"
      ]
     },
     "execution_count": 77,
     "metadata": {},
     "output_type": "execute_result"
    }
   ],
   "source": []
  },
  {
   "cell_type": "code",
   "execution_count": 42,
   "metadata": {},
   "outputs": [
    {
     "data": {
      "text/plain": [
       "(28, 28, 1)"
      ]
     },
     "execution_count": 42,
     "metadata": {},
     "output_type": "execute_result"
    }
   ],
   "source": [
    "delta = delta.cpu().numpy()[0]\n",
    "delta.shape"
   ]
  },
  {
   "cell_type": "code",
   "execution_count": 43,
   "metadata": {},
   "outputs": [
    {
     "data": {
      "text/plain": [
       "(784,)"
      ]
     },
     "execution_count": 43,
     "metadata": {},
     "output_type": "execute_result"
    }
   ],
   "source": [
    "delta = delta.reshape(-1)\n",
    "delta.shape"
   ]
  },
  {
   "cell_type": "code",
   "execution_count": 44,
   "metadata": {},
   "outputs": [
    {
     "data": {
      "text/plain": [
       "(1, 784)"
      ]
     },
     "execution_count": 44,
     "metadata": {},
     "output_type": "execute_result"
    }
   ],
   "source": [
    "X_query = None\n",
    "if USE_PCA:\n",
    "    X_query = pca.transform((X + delta).reshape(1, -1))\n",
    "else:\n",
    "    X_query = (X + delta).reshape(1, -1)\n",
    "X_query.shape"
   ]
  },
  {
   "cell_type": "code",
   "execution_count": 45,
   "metadata": {},
   "outputs": [
    {
     "data": {
      "image/png": "[encoded data removed]",
      "text/plain": [
       "<IPython.core.display.Image object>"
      ]
     },
     "execution_count": 45,
     "metadata": {},
     "output_type": "execute_result"
    }
   ],
   "source": [
    "plt.figure()\n",
    "plt.imshow((X + delta).reshape((28, 28, 1)), cmap=\"gray\")\n",
    "plt.savefig(\"perturbed.png\")\n",
    "\n",
    "Image(filename=\"perturbed.png\")"
   ]
  },
  {
   "cell_type": "code",
   "execution_count": 120,
   "metadata": {},
   "outputs": [],
   "source": [
    "knbhrs = NN.kneighbors(X_query.reshape(1, -1), n_neighbors=50)[1][0]\n"
   ]
  },
  {
   "cell_type": "code",
   "execution_count": 121,
   "metadata": {},
   "outputs": [
    {
     "data": {
      "text/plain": [
       "(1, 784)"
      ]
     },
     "execution_count": 121,
     "metadata": {},
     "output_type": "execute_result"
    }
   ],
   "source": [
    "X_query.shape"
   ]
  },
  {
   "cell_type": "code",
   "execution_count": 122,
   "metadata": {},
   "outputs": [
    {
     "data": {
      "text/plain": [
       "(50, 784)"
      ]
     },
     "execution_count": 122,
     "metadata": {},
     "output_type": "execute_result"
    }
   ],
   "source": [
    "X_knbhrs = X_train[knbhrs].reshape(knbhrs.shape[0], -1)\n",
    "X_knbhrs.shape"
   ]
  },
  {
   "cell_type": "code",
   "execution_count": 123,
   "metadata": {},
   "outputs": [],
   "source": [
    "A = X_knbhrs - np.mean(X_knbhrs, axis=0)\n"
   ]
  },
  {
   "cell_type": "code",
   "execution_count": 124,
   "metadata": {},
   "outputs": [
    {
     "data": {
      "text/plain": [
       "((50, 784), (784,))"
      ]
     },
     "execution_count": 124,
     "metadata": {},
     "output_type": "execute_result"
    }
   ],
   "source": [
    "A.shape, delta.shape"
   ]
  },
  {
   "cell_type": "code",
   "execution_count": 134,
   "metadata": {},
   "outputs": [],
   "source": [
    "# sol = np.linalg.lstsq(A.T, delta, rcond=None)\n",
    "sol = np.linalg.lstsq(A.T, delta, rcond=None)"
   ]
  },
  {
   "cell_type": "code",
   "execution_count": 145,
   "metadata": {},
   "outputs": [
    {
     "data": {
      "text/plain": [
       "(784,)"
      ]
     },
     "execution_count": 145,
     "metadata": {},
     "output_type": "execute_result"
    }
   ],
   "source": [
    "beta = sol[0]\n",
    "pi_X = np.dot(A.T, beta)\n",
    "pi_X.shape"
   ]
  },
  {
   "cell_type": "code",
   "execution_count": 38,
   "metadata": {},
   "outputs": [],
   "source": [
    "plt.figure()\n",
    "plt.imshow(pi_X_set[0].reshape((28, 28, 1)), cmap=\"gray\")\n",
    "plt.savefig(\"projection3.png\")\n",
    "\n",
    "# plt.figure()\n",
    "# plt.imshow(X_train[ridx][0], cmap=\"gray\")\n",
    "# plt.savefig(\"test2.png\")"
   ]
  },
  {
   "cell_type": "code",
   "execution_count": 35,
   "metadata": {},
   "outputs": [],
   "source": [
    "pi_X = torch.from_numpy((pi_X_set[0].numpy()).reshape((28, 28, 1))).cuda()\n",
    "inp = pi_X.repeat(3, 1, 1, 1)\n",
    "# inp2 = torch.from_numpy((X + delta).reshape(-1, 28, 28, 1)).cuda().repeat(3, 1, 1, 1)"
   ]
  },
  {
   "cell_type": "code",
   "execution_count": 25,
   "metadata": {},
   "outputs": [
    {
     "data": {
      "text/plain": [
       "torch.return_types.max(\n",
       "values=tensor([-3.5736, -3.5736, -3.5736], device='cuda:1', grad_fn=<MaxBackward0>),\n",
       "indices=tensor([8, 8, 8], device='cuda:1'))"
      ]
     },
     "execution_count": 25,
     "metadata": {},
     "output_type": "execute_result"
    }
   ],
   "source": [
    "model.cuda()\n",
    "logits = model(inp)\n",
    "model.cpu()\n",
    "pi_X = pi_X.cpu()\n",
    "inp = inp.cpu()\n",
    "# inp2 = inp2.cpu()\n",
    "torch.max(logits, axis=1)"
   ]
  },
  {
   "cell_type": "code",
   "execution_count": 39,
   "metadata": {},
   "outputs": [
    {
     "data": {
      "image/png": "[encoded data removed]",
      "text/plain": [
       "<IPython.core.display.Image object>"
      ]
     },
     "execution_count": 39,
     "metadata": {},
     "output_type": "execute_result"
    }
   ],
   "source": [
    "from IPython.display import Image\n",
    "Image(filename='projection3.png') "
   ]
  },
  {
   "cell_type": "code",
   "execution_count": 131,
   "metadata": {},
   "outputs": [
    {
     "data": {
      "image/png": "[encoded data removed]",
      "text/plain": [
       "<IPython.core.display.Image object>"
      ]
     },
     "execution_count": 131,
     "metadata": {},
     "output_type": "execute_result"
    }
   ],
   "source": [
    "Image(filename='perturbed.png')"
   ]
  },
  {
   "cell_type": "code",
   "execution_count": 133,
   "metadata": {},
   "outputs": [
    {
     "data": {
      "text/plain": [
       "torch.Size([3, 28, 28, 1])"
      ]
     },
     "execution_count": 133,
     "metadata": {},
     "output_type": "execute_result"
    }
   ],
   "source": [
    "inp.shape"
   ]
  },
  {
   "cell_type": "code",
   "execution_count": 153,
   "metadata": {},
   "outputs": [
    {
     "data": {
      "text/plain": [
       "array([[[-0.1       , -0.1       , -0.1       , ..., -0.1       ,\n",
       "         -0.1       , -0.1       ],\n",
       "        [ 0.01000001,  0.01000001,  0.01000001, ...,  0.01000001,\n",
       "          0.01000001,  0.01000001],\n",
       "        [-0.04012454, -0.04012454, -0.04012454, ..., -0.04012454,\n",
       "         -0.04012454, -0.04012454],\n",
       "        ...,\n",
       "        [-0.09      , -0.09      , -0.09      , ..., -0.09      ,\n",
       "         -0.09      , -0.09      ],\n",
       "        [ 0.01041594,  0.01041594,  0.01041594, ...,  0.01041594,\n",
       "          0.01041594,  0.01041594],\n",
       "        [-0.1       , -0.1       , -0.1       , ..., -0.1       ,\n",
       "         -0.1       , -0.1       ]],\n",
       "\n",
       "       [[ 0.1       ,  0.1       ,  0.1       , ...,  0.1       ,\n",
       "          0.1       ,  0.1       ],\n",
       "        [-0.04000001, -0.04000001, -0.04000001, ..., -0.04000001,\n",
       "         -0.04000001, -0.04000001],\n",
       "        [-0.1       , -0.1       , -0.1       , ..., -0.1       ,\n",
       "         -0.1       , -0.1       ],\n",
       "        ...,\n",
       "        [ 0.1       ,  0.1       ,  0.1       , ...,  0.1       ,\n",
       "          0.1       ,  0.1       ],\n",
       "        [-0.06000001, -0.06000001, -0.06000001, ..., -0.06000001,\n",
       "         -0.06000001, -0.06000001],\n",
       "        [ 0.0421325 ,  0.0421325 ,  0.0421325 , ...,  0.0421325 ,\n",
       "          0.0421325 ,  0.0421325 ]],\n",
       "\n",
       "       [[-0.09      , -0.09      , -0.09      , ..., -0.09      ,\n",
       "         -0.09      , -0.09      ],\n",
       "        [-0.05853483, -0.05853483, -0.05853483, ..., -0.05853483,\n",
       "         -0.05853483, -0.05853483],\n",
       "        [ 0.09      ,  0.09      ,  0.09      , ...,  0.09      ,\n",
       "          0.09      ,  0.09      ],\n",
       "        ...,\n",
       "        [-0.07057724, -0.07057724, -0.07057724, ..., -0.07057724,\n",
       "         -0.07057724, -0.07057724],\n",
       "        [-0.04405084, -0.04405084, -0.04405084, ..., -0.04405084,\n",
       "         -0.04405084, -0.04405084],\n",
       "        [-0.00042363, -0.00042363, -0.00042363, ..., -0.00042363,\n",
       "         -0.00042363, -0.00042363]],\n",
       "\n",
       "       ...,\n",
       "\n",
       "       [[-0.02412298, -0.02412298, -0.02412298, ..., -0.02412298,\n",
       "         -0.02412298, -0.02412298],\n",
       "        [ 0.09      ,  0.09      ,  0.09      , ...,  0.09      ,\n",
       "          0.09      ,  0.09      ],\n",
       "        [-0.09      , -0.09      , -0.09      , ..., -0.09      ,\n",
       "         -0.09      , -0.09      ],\n",
       "        ...,\n",
       "        [-0.09      , -0.09      , -0.09      , ..., -0.09      ,\n",
       "         -0.09      , -0.09      ],\n",
       "        [ 0.1       ,  0.1       ,  0.1       , ...,  0.1       ,\n",
       "          0.1       ,  0.1       ],\n",
       "        [-0.05788172, -0.05788172, -0.05788172, ..., -0.05788172,\n",
       "         -0.05788172, -0.05788172]],\n",
       "\n",
       "       [[-0.07939651, -0.07939651, -0.07939651, ..., -0.07939651,\n",
       "         -0.07939651, -0.07939651],\n",
       "        [-0.0029422 , -0.0029422 , -0.0029422 , ..., -0.0029422 ,\n",
       "         -0.0029422 , -0.0029422 ],\n",
       "        [ 0.1       ,  0.1       ,  0.1       , ...,  0.1       ,\n",
       "          0.1       ,  0.1       ],\n",
       "        ...,\n",
       "        [-0.03107405, -0.03107405, -0.03107405, ..., -0.03107405,\n",
       "         -0.03107405, -0.03107405],\n",
       "        [-0.08793888, -0.08793888, -0.08793888, ..., -0.08793888,\n",
       "         -0.08793888, -0.08793888],\n",
       "        [ 0.1       ,  0.1       ,  0.1       , ...,  0.1       ,\n",
       "          0.1       ,  0.1       ]],\n",
       "\n",
       "       [[ 0.05491775,  0.05491775,  0.05491775, ...,  0.05491775,\n",
       "          0.05491775,  0.05491775],\n",
       "        [ 0.1       ,  0.1       ,  0.1       , ...,  0.1       ,\n",
       "          0.1       ,  0.1       ],\n",
       "        [-0.1       , -0.1       , -0.1       , ..., -0.1       ,\n",
       "         -0.1       , -0.1       ],\n",
       "        ...,\n",
       "        [-0.09      , -0.09      , -0.09      , ..., -0.09      ,\n",
       "         -0.09      , -0.09      ],\n",
       "        [-0.01956378, -0.01956378, -0.01956378, ..., -0.01956378,\n",
       "         -0.01956378, -0.01956378],\n",
       "        [ 0.00835495,  0.00835495,  0.00835495, ...,  0.00835495,\n",
       "          0.00835495,  0.00835495]]], dtype=float32)"
      ]
     },
     "execution_count": 153,
     "metadata": {},
     "output_type": "execute_result"
    }
   ],
   "source": [
    "(X + delta).reshape(28, 28, 1) - pi_X"
   ]
  },
  {
   "cell_type": "code",
   "execution_count": 12,
   "metadata": {},
   "outputs": [],
   "source": [
    "a = torch.randint(0, 3, size=(4,))"
   ]
  },
  {
   "cell_type": "code",
   "execution_count": 13,
   "metadata": {},
   "outputs": [
    {
     "data": {
      "text/plain": [
       "torch.Size([4])"
      ]
     },
     "execution_count": 13,
     "metadata": {},
     "output_type": "execute_result"
    }
   ],
   "source": [
    "a.shape"
   ]
  },
  {
   "cell_type": "code",
   "execution_count": 14,
   "metadata": {},
   "outputs": [
    {
     "data": {
      "text/plain": [
       "torch.Size([12])"
      ]
     },
     "execution_count": 14,
     "metadata": {},
     "output_type": "execute_result"
    }
   ],
   "source": [
    "torch.cat((a, a, a), axis=0).shape"
   ]
  },
  {
   "cell_type": "code",
   "execution_count": 17,
   "metadata": {},
   "outputs": [
    {
     "data": {
      "text/plain": [
       "torch.Size([28, 28, 1])"
      ]
     },
     "execution_count": 17,
     "metadata": {},
     "output_type": "execute_result"
    }
   ],
   "source": [
    "test_img = X_test[0]\n",
    "test_img.shape"
   ]
  },
  {
   "cell_type": "code",
   "execution_count": 18,
   "metadata": {},
   "outputs": [
    {
     "data": {
      "text/plain": [
       "tensor(0.)"
      ]
     },
     "execution_count": 18,
     "metadata": {},
     "output_type": "execute_result"
    }
   ],
   "source": [
    "y_test[0]"
   ]
  },
  {
   "cell_type": "code",
   "execution_count": 19,
   "metadata": {},
   "outputs": [],
   "source": [
    "test_img_latent = pca.transform(test_img.reshape(1, -1))"
   ]
  },
  {
   "cell_type": "code",
   "execution_count": 20,
   "metadata": {},
   "outputs": [],
   "source": [
    "nbhrs_idx = NN.kneighbors(test_img_latent, 50)[1][0]\n"
   ]
  },
  {
   "cell_type": "code",
   "execution_count": 21,
   "metadata": {},
   "outputs": [],
   "source": [
    "nbhrs = X_train[nbhrs_idx]\n"
   ]
  },
  {
   "cell_type": "code",
   "execution_count": 22,
   "metadata": {},
   "outputs": [],
   "source": [
    "test_imgs = X_test[0:5].cuda()\n",
    "test_codes = y_test[0:5].cuda()\n",
    "model = model.cuda()\n",
    "delta = pgd_linf_rand(model, test_imgs, test_codes, 0.1, 1e-2, 40, 10)\n",
    "model = model.cpu()\n",
    "test_imgs = test_imgs.cpu()\n",
    "test_codes = test_codes.cpu()"
   ]
  },
  {
   "cell_type": "code",
   "execution_count": 23,
   "metadata": {},
   "outputs": [],
   "source": [
    "delta = delta.cpu()\n",
    "eps = delta[0]\n",
    "adv_img = test_img + eps"
   ]
  },
  {
   "cell_type": "code",
   "execution_count": 24,
   "metadata": {},
   "outputs": [],
   "source": [
    "adv_img_latent = pca.transform(adv_img.reshape(1, -1))\n",
    "nbhrs_idx = NN.kneighbors(test_img_latent, 50)[1][0]\n",
    "nbhrs = X_train[nbhrs_idx]\n"
   ]
  },
  {
   "cell_type": "code",
   "execution_count": 25,
   "metadata": {},
   "outputs": [
    {
     "data": {
      "text/plain": [
       "(28, 28, 1)"
      ]
     },
     "execution_count": 25,
     "metadata": {},
     "output_type": "execute_result"
    }
   ],
   "source": [
    " nbhrs.mean(axis=0).shape"
   ]
  },
  {
   "cell_type": "code",
   "execution_count": 26,
   "metadata": {},
   "outputs": [],
   "source": [
    "tmp = nbhrs.reshape(nbhrs.shape[0], -1) - nbhrs.mean(axis=0).reshape(-1)\n",
    "A = tmp.T\n",
    "\n"
   ]
  },
  {
   "cell_type": "code",
   "execution_count": 27,
   "metadata": {},
   "outputs": [],
   "source": [
    "# beta = np.linalg.lstsq(A, eps.reshape(-1), rcond=None)[0]\n",
    "beta = np.linalg.lstsq(A, adv_img.reshape(-1) - nbhrs.mean(axis=0).reshape(-1), rcond=None)[0]\n"
   ]
  },
  {
   "cell_type": "code",
   "execution_count": 28,
   "metadata": {},
   "outputs": [],
   "source": [
    "projection_img = np.dot(A, beta) + nbhrs.mean(axis=0).reshape(-1)\n",
    "projection_img = projection_img.reshape(28, 28, 1) "
   ]
  },
  {
   "cell_type": "code",
   "execution_count": 30,
   "metadata": {},
   "outputs": [
    {
     "data": {
      "image/png": "[encoded data removed]",
      "text/plain": [
       "<IPython.core.display.Image object>"
      ]
     },
     "execution_count": 30,
     "metadata": {},
     "output_type": "execute_result"
    }
   ],
   "source": [
    "plt.figure()\n",
    "plt.imshow(projection_img, cmap=\"gray\")\n",
    "plt.savefig(\"imgs/proj_test4.png\")\n",
    "Image(filename=\"imgs/proj_test4.png\")\n",
    "\n",
    "\n"
   ]
  },
  {
   "cell_type": "code",
   "execution_count": 35,
   "metadata": {},
   "outputs": [
    {
     "data": {
      "text/plain": [
       "5.3679113"
      ]
     },
     "execution_count": 35,
     "metadata": {},
     "output_type": "execute_result"
    }
   ],
   "source": [
    "np.linalg.norm((projection_img - adv_img.numpy()).reshape(-1), 2)"
   ]
  },
  {
   "cell_type": "code",
   "execution_count": 36,
   "metadata": {},
   "outputs": [
    {
     "data": {
      "text/plain": [
       "2.44857"
      ]
     },
     "execution_count": 36,
     "metadata": {},
     "output_type": "execute_result"
    }
   ],
   "source": [
    "np.linalg.norm(eps.reshape(-1), 2)"
   ]
  },
  {
   "cell_type": "code",
   "execution_count": 31,
   "metadata": {},
   "outputs": [
    {
     "data": {
      "text/plain": [
       "tensor([0, 5], device='cuda:1')"
      ]
     },
     "execution_count": 31,
     "metadata": {},
     "output_type": "execute_result"
    }
   ],
   "source": [
    "test_input = torch.cat((torch.from_numpy(projection_img), adv_img), axis=0).cuda()\n",
    "model = model.cuda()\n",
    "logits = model(test_input)\n",
    "labels = logits.max(axis=1)[1]\n",
    "model = model.cpu()\n",
    "test_input = test_input.cpu()\n",
    "labels"
   ]
  },
  {
   "cell_type": "code",
   "execution_count": 88,
   "metadata": {},
   "outputs": [
    {
     "data": {
      "text/plain": [
       "array([[[ 0.00000000e+00],\n",
       "        [ 0.00000000e+00],\n",
       "        [ 0.00000000e+00],\n",
       "        [ 0.00000000e+00],\n",
       "        [ 0.00000000e+00],\n",
       "        [ 0.00000000e+00],\n",
       "        [ 0.00000000e+00],\n",
       "        [ 0.00000000e+00],\n",
       "        [ 0.00000000e+00],\n",
       "        [ 0.00000000e+00],\n",
       "        [ 0.00000000e+00],\n",
       "        [ 0.00000000e+00],\n",
       "        [ 0.00000000e+00],\n",
       "        [ 0.00000000e+00],\n",
       "        [ 0.00000000e+00],\n",
       "        [ 0.00000000e+00],\n",
       "        [ 0.00000000e+00],\n",
       "        [ 0.00000000e+00],\n",
       "        [ 0.00000000e+00],\n",
       "        [ 0.00000000e+00],\n",
       "        [ 0.00000000e+00],\n",
       "        [ 0.00000000e+00],\n",
       "        [ 0.00000000e+00],\n",
       "        [ 0.00000000e+00],\n",
       "        [ 0.00000000e+00],\n",
       "        [ 0.00000000e+00],\n",
       "        [ 0.00000000e+00],\n",
       "        [ 0.00000000e+00]],\n",
       "\n",
       "       [[ 0.00000000e+00],\n",
       "        [ 0.00000000e+00],\n",
       "        [ 0.00000000e+00],\n",
       "        [ 0.00000000e+00],\n",
       "        [ 0.00000000e+00],\n",
       "        [ 0.00000000e+00],\n",
       "        [ 0.00000000e+00],\n",
       "        [ 0.00000000e+00],\n",
       "        [ 0.00000000e+00],\n",
       "        [ 0.00000000e+00],\n",
       "        [ 0.00000000e+00],\n",
       "        [ 0.00000000e+00],\n",
       "        [ 3.42393178e-05],\n",
       "        [ 5.88368997e-03],\n",
       "        [ 3.53730144e-03],\n",
       "        [ 6.49341848e-04],\n",
       "        [ 1.36068491e-02],\n",
       "        [ 1.15882847e-02],\n",
       "        [ 8.84163752e-03],\n",
       "        [ 7.84429442e-03],\n",
       "        [ 1.28199835e-03],\n",
       "        [ 2.42034206e-03],\n",
       "        [ 0.00000000e+00],\n",
       "        [ 0.00000000e+00],\n",
       "        [ 0.00000000e+00],\n",
       "        [ 0.00000000e+00],\n",
       "        [ 0.00000000e+00],\n",
       "        [ 0.00000000e+00]],\n",
       "\n",
       "       [[ 0.00000000e+00],\n",
       "        [ 0.00000000e+00],\n",
       "        [ 0.00000000e+00],\n",
       "        [ 0.00000000e+00],\n",
       "        [ 0.00000000e+00],\n",
       "        [ 0.00000000e+00],\n",
       "        [ 0.00000000e+00],\n",
       "        [ 0.00000000e+00],\n",
       "        [ 0.00000000e+00],\n",
       "        [-3.05348018e-04],\n",
       "        [-1.64966309e-03],\n",
       "        [ 1.64628997e-02],\n",
       "        [ 1.02869868e-01],\n",
       "        [ 2.71583080e-01],\n",
       "        [ 3.70130002e-01],\n",
       "        [ 5.44496655e-01],\n",
       "        [ 6.78763986e-01],\n",
       "        [ 6.00295663e-01],\n",
       "        [ 5.12317181e-01],\n",
       "        [ 3.84278059e-01],\n",
       "        [ 2.09783852e-01],\n",
       "        [ 1.06083654e-01],\n",
       "        [ 1.29518341e-02],\n",
       "        [ 1.79267532e-04],\n",
       "        [ 0.00000000e+00],\n",
       "        [ 0.00000000e+00],\n",
       "        [ 0.00000000e+00],\n",
       "        [ 0.00000000e+00]],\n",
       "\n",
       "       [[ 0.00000000e+00],\n",
       "        [ 0.00000000e+00],\n",
       "        [ 0.00000000e+00],\n",
       "        [ 0.00000000e+00],\n",
       "        [ 0.00000000e+00],\n",
       "        [ 0.00000000e+00],\n",
       "        [ 0.00000000e+00],\n",
       "        [ 0.00000000e+00],\n",
       "        [ 0.00000000e+00],\n",
       "        [-1.00746518e-02],\n",
       "        [ 1.64404605e-02],\n",
       "        [ 2.20433772e-01],\n",
       "        [ 5.26415825e-01],\n",
       "        [ 7.54144430e-01],\n",
       "        [ 8.79128039e-01],\n",
       "        [ 1.29317212e+00],\n",
       "        [ 1.14503407e+00],\n",
       "        [ 9.53208447e-01],\n",
       "        [ 8.92256618e-01],\n",
       "        [ 8.98039579e-01],\n",
       "        [ 6.24361217e-01],\n",
       "        [ 2.31825233e-01],\n",
       "        [-5.40295243e-03],\n",
       "        [-4.96673724e-03],\n",
       "        [-3.04245332e-04],\n",
       "        [ 0.00000000e+00],\n",
       "        [ 0.00000000e+00],\n",
       "        [ 0.00000000e+00]],\n",
       "\n",
       "       [[ 0.00000000e+00],\n",
       "        [ 0.00000000e+00],\n",
       "        [ 0.00000000e+00],\n",
       "        [ 0.00000000e+00],\n",
       "        [ 0.00000000e+00],\n",
       "        [ 0.00000000e+00],\n",
       "        [ 0.00000000e+00],\n",
       "        [ 0.00000000e+00],\n",
       "        [ 0.00000000e+00],\n",
       "        [-1.20121986e-02],\n",
       "        [ 2.15822875e-01],\n",
       "        [ 5.08276701e-01],\n",
       "        [ 6.91978157e-01],\n",
       "        [ 9.89181519e-01],\n",
       "        [ 8.99588168e-01],\n",
       "        [ 7.69789577e-01],\n",
       "        [ 7.06054866e-01],\n",
       "        [ 7.56180286e-01],\n",
       "        [ 8.04200351e-01],\n",
       "        [ 9.06233430e-01],\n",
       "        [ 8.42266381e-01],\n",
       "        [ 6.66480780e-01],\n",
       "        [ 2.52271861e-01],\n",
       "        [-1.63381100e-02],\n",
       "        [-4.68606222e-03],\n",
       "        [ 0.00000000e+00],\n",
       "        [ 0.00000000e+00],\n",
       "        [ 0.00000000e+00]],\n",
       "\n",
       "       [[ 0.00000000e+00],\n",
       "        [ 0.00000000e+00],\n",
       "        [ 0.00000000e+00],\n",
       "        [ 0.00000000e+00],\n",
       "        [ 0.00000000e+00],\n",
       "        [ 0.00000000e+00],\n",
       "        [ 0.00000000e+00],\n",
       "        [ 0.00000000e+00],\n",
       "        [ 5.12062944e-03],\n",
       "        [ 4.98426333e-02],\n",
       "        [ 3.22191596e-01],\n",
       "        [ 8.26849580e-01],\n",
       "        [ 9.35121477e-01],\n",
       "        [ 8.12219024e-01],\n",
       "        [ 3.77154768e-01],\n",
       "        [ 1.60485506e-01],\n",
       "        [-4.23363745e-02],\n",
       "        [-5.32065630e-02],\n",
       "        [-5.00517488e-02],\n",
       "        [ 2.58507073e-01],\n",
       "        [ 8.36159229e-01],\n",
       "        [ 1.00575960e+00],\n",
       "        [ 8.73636127e-01],\n",
       "        [ 1.80989340e-01],\n",
       "        [-1.78511851e-02],\n",
       "        [-6.08490664e-04],\n",
       "        [ 0.00000000e+00],\n",
       "        [ 0.00000000e+00]],\n",
       "\n",
       "       [[ 0.00000000e+00],\n",
       "        [ 0.00000000e+00],\n",
       "        [ 0.00000000e+00],\n",
       "        [ 0.00000000e+00],\n",
       "        [ 0.00000000e+00],\n",
       "        [ 0.00000000e+00],\n",
       "        [ 0.00000000e+00],\n",
       "        [ 8.35395476e-04],\n",
       "        [ 1.80054773e-02],\n",
       "        [-3.06806713e-02],\n",
       "        [ 3.67832839e-01],\n",
       "        [ 9.34375405e-01],\n",
       "        [ 7.50877440e-01],\n",
       "        [ 2.54069448e-01],\n",
       "        [-1.48821861e-01],\n",
       "        [-2.00900272e-01],\n",
       "        [-4.56764102e-02],\n",
       "        [ 6.16794676e-02],\n",
       "        [ 3.83578986e-02],\n",
       "        [-3.88281345e-02],\n",
       "        [ 5.18373847e-01],\n",
       "        [ 1.01347899e+00],\n",
       "        [ 8.32727671e-01],\n",
       "        [ 4.25504357e-01],\n",
       "        [-2.39833053e-02],\n",
       "        [-1.21698133e-03],\n",
       "        [ 0.00000000e+00],\n",
       "        [ 0.00000000e+00]],\n",
       "\n",
       "       [[ 0.00000000e+00],\n",
       "        [ 0.00000000e+00],\n",
       "        [ 0.00000000e+00],\n",
       "        [ 0.00000000e+00],\n",
       "        [ 0.00000000e+00],\n",
       "        [ 0.00000000e+00],\n",
       "        [ 0.00000000e+00],\n",
       "        [ 1.40919155e-02],\n",
       "        [ 1.16003446e-01],\n",
       "        [ 1.53834105e-01],\n",
       "        [ 7.35448778e-01],\n",
       "        [ 1.04391050e+00],\n",
       "        [ 6.59831107e-01],\n",
       "        [-3.61492932e-02],\n",
       "        [-1.39389768e-01],\n",
       "        [ 6.96385205e-02],\n",
       "        [ 1.96583912e-01],\n",
       "        [ 1.45566031e-01],\n",
       "        [-4.17149439e-03],\n",
       "        [-9.28232893e-02],\n",
       "        [ 2.14086533e-01],\n",
       "        [ 9.46451366e-01],\n",
       "        [ 8.26973736e-01],\n",
       "        [ 3.40409666e-01],\n",
       "        [-3.30298096e-02],\n",
       "        [-4.72653471e-03],\n",
       "        [ 0.00000000e+00],\n",
       "        [ 0.00000000e+00]],\n",
       "\n",
       "       [[ 0.00000000e+00],\n",
       "        [ 0.00000000e+00],\n",
       "        [ 0.00000000e+00],\n",
       "        [ 0.00000000e+00],\n",
       "        [ 0.00000000e+00],\n",
       "        [ 0.00000000e+00],\n",
       "        [-3.03768495e-04],\n",
       "        [ 4.41903472e-02],\n",
       "        [ 3.50427777e-01],\n",
       "        [ 3.75504851e-01],\n",
       "        [ 7.93023288e-01],\n",
       "        [ 9.71308053e-01],\n",
       "        [ 8.03342462e-01],\n",
       "        [ 4.65028524e-01],\n",
       "        [ 2.56686151e-01],\n",
       "        [ 1.91773519e-01],\n",
       "        [ 1.84629947e-01],\n",
       "        [ 9.27992091e-02],\n",
       "        [-1.97400022e-02],\n",
       "        [-3.72986533e-02],\n",
       "        [ 5.97615540e-03],\n",
       "        [ 7.19882071e-01],\n",
       "        [ 8.67693245e-01],\n",
       "        [ 3.29996705e-01],\n",
       "        [-7.83818364e-02],\n",
       "        [-1.15166409e-02],\n",
       "        [ 0.00000000e+00],\n",
       "        [ 0.00000000e+00]],\n",
       "\n",
       "       [[ 0.00000000e+00],\n",
       "        [ 0.00000000e+00],\n",
       "        [ 0.00000000e+00],\n",
       "        [ 0.00000000e+00],\n",
       "        [ 0.00000000e+00],\n",
       "        [ 0.00000000e+00],\n",
       "        [ 8.13637394e-04],\n",
       "        [ 2.50665009e-01],\n",
       "        [ 5.08973777e-01],\n",
       "        [ 8.05038989e-01],\n",
       "        [ 8.79142761e-01],\n",
       "        [ 7.81403959e-01],\n",
       "        [ 7.41781473e-01],\n",
       "        [ 7.04856753e-01],\n",
       "        [ 3.66131127e-01],\n",
       "        [ 4.65000346e-02],\n",
       "        [ 6.86753867e-03],\n",
       "        [-3.30728590e-02],\n",
       "        [-3.28226313e-02],\n",
       "        [ 1.75339170e-04],\n",
       "        [ 5.23202866e-02],\n",
       "        [ 6.71275556e-01],\n",
       "        [ 9.34416115e-01],\n",
       "        [ 4.68641341e-01],\n",
       "        [-9.22501758e-02],\n",
       "        [-1.50554329e-02],\n",
       "        [ 0.00000000e+00],\n",
       "        [ 0.00000000e+00]],\n",
       "\n",
       "       [[ 0.00000000e+00],\n",
       "        [ 0.00000000e+00],\n",
       "        [ 0.00000000e+00],\n",
       "        [ 0.00000000e+00],\n",
       "        [ 0.00000000e+00],\n",
       "        [-1.32883753e-04],\n",
       "        [-2.99461931e-02],\n",
       "        [ 4.87041712e-01],\n",
       "        [ 8.01017940e-01],\n",
       "        [ 1.07405329e+00],\n",
       "        [ 7.45178163e-01],\n",
       "        [ 5.79103589e-01],\n",
       "        [ 6.34267807e-01],\n",
       "        [ 3.79111230e-01],\n",
       "        [ 6.67423308e-02],\n",
       "        [ 0.00000000e+00],\n",
       "        [-6.44299958e-04],\n",
       "        [-3.20131592e-02],\n",
       "        [-2.25796364e-02],\n",
       "        [ 1.77193619e-02],\n",
       "        [ 1.60661846e-01],\n",
       "        [ 8.35798562e-01],\n",
       "        [ 1.06532764e+00],\n",
       "        [ 5.35916150e-01],\n",
       "        [-1.21745810e-01],\n",
       "        [-2.30994150e-02],\n",
       "        [-3.04245332e-04],\n",
       "        [ 0.00000000e+00]],\n",
       "\n",
       "       [[ 0.00000000e+00],\n",
       "        [ 0.00000000e+00],\n",
       "        [ 0.00000000e+00],\n",
       "        [ 0.00000000e+00],\n",
       "        [ 0.00000000e+00],\n",
       "        [-1.81110762e-02],\n",
       "        [ 8.77922028e-02],\n",
       "        [ 6.11726582e-01],\n",
       "        [ 9.30356503e-01],\n",
       "        [ 9.51566935e-01],\n",
       "        [ 7.10147500e-01],\n",
       "        [ 4.13518548e-01],\n",
       "        [ 3.28621954e-01],\n",
       "        [ 5.89754730e-02],\n",
       "        [ 0.00000000e+00],\n",
       "        [ 0.00000000e+00],\n",
       "        [ 0.00000000e+00],\n",
       "        [-1.38657112e-02],\n",
       "        [-1.50428414e-02],\n",
       "        [ 4.52522263e-02],\n",
       "        [ 2.47621521e-01],\n",
       "        [ 7.70095646e-01],\n",
       "        [ 1.03897738e+00],\n",
       "        [ 4.52812910e-01],\n",
       "        [-1.31605148e-01],\n",
       "        [-7.97178410e-03],\n",
       "        [ 0.00000000e+00],\n",
       "        [ 0.00000000e+00]],\n",
       "\n",
       "       [[ 0.00000000e+00],\n",
       "        [ 0.00000000e+00],\n",
       "        [ 0.00000000e+00],\n",
       "        [ 0.00000000e+00],\n",
       "        [-2.89256917e-03],\n",
       "        [ 4.06650454e-02],\n",
       "        [ 7.73827434e-01],\n",
       "        [ 8.37729812e-01],\n",
       "        [ 1.01516151e+00],\n",
       "        [ 7.12544084e-01],\n",
       "        [ 3.88685346e-01],\n",
       "        [ 2.73074917e-02],\n",
       "        [ 1.17726862e-01],\n",
       "        [ 1.41814305e-02],\n",
       "        [ 0.00000000e+00],\n",
       "        [ 0.00000000e+00],\n",
       "        [ 0.00000000e+00],\n",
       "        [ 0.00000000e+00],\n",
       "        [ 1.72153593e-03],\n",
       "        [ 9.14357007e-02],\n",
       "        [ 2.94359982e-01],\n",
       "        [ 8.22921276e-01],\n",
       "        [ 1.04330540e+00],\n",
       "        [ 4.25306141e-01],\n",
       "        [-1.15666889e-01],\n",
       "        [-7.16181751e-03],\n",
       "        [ 0.00000000e+00],\n",
       "        [ 0.00000000e+00]],\n",
       "\n",
       "       [[ 0.00000000e+00],\n",
       "        [ 0.00000000e+00],\n",
       "        [ 0.00000000e+00],\n",
       "        [ 0.00000000e+00],\n",
       "        [-1.17398407e-02],\n",
       "        [ 8.44147503e-02],\n",
       "        [ 7.22963810e-01],\n",
       "        [ 9.19112682e-01],\n",
       "        [ 9.20160115e-01],\n",
       "        [ 2.00176269e-01],\n",
       "        [-6.65952042e-02],\n",
       "        [-4.81486320e-02],\n",
       "        [ 9.93226841e-03],\n",
       "        [ 0.00000000e+00],\n",
       "        [ 0.00000000e+00],\n",
       "        [ 0.00000000e+00],\n",
       "        [ 0.00000000e+00],\n",
       "        [ 0.00000000e+00],\n",
       "        [ 4.71253973e-03],\n",
       "        [ 1.95648387e-01],\n",
       "        [ 5.02069831e-01],\n",
       "        [ 8.49862754e-01],\n",
       "        [ 1.01170015e+00],\n",
       "        [ 1.31233305e-01],\n",
       "        [-1.01669237e-01],\n",
       "        [-3.21707362e-03],\n",
       "        [ 0.00000000e+00],\n",
       "        [ 0.00000000e+00]],\n",
       "\n",
       "       [[ 0.00000000e+00],\n",
       "        [ 0.00000000e+00],\n",
       "        [ 0.00000000e+00],\n",
       "        [-9.68165346e-04],\n",
       "        [-8.99531320e-03],\n",
       "        [ 3.90815556e-01],\n",
       "        [ 8.45879495e-01],\n",
       "        [ 9.40046787e-01],\n",
       "        [ 4.11410689e-01],\n",
       "        [-1.90819204e-02],\n",
       "        [-6.37785420e-02],\n",
       "        [-7.18377382e-02],\n",
       "        [-2.34844331e-02],\n",
       "        [-4.89138940e-04],\n",
       "        [ 0.00000000e+00],\n",
       "        [ 0.00000000e+00],\n",
       "        [ 0.00000000e+00],\n",
       "        [ 0.00000000e+00],\n",
       "        [ 2.63694450e-02],\n",
       "        [ 4.44145799e-01],\n",
       "        [ 1.00724268e+00],\n",
       "        [ 1.09997487e+00],\n",
       "        [ 6.79495335e-01],\n",
       "        [-2.00138226e-01],\n",
       "        [-9.15386602e-02],\n",
       "        [-8.12376733e-04],\n",
       "        [ 0.00000000e+00],\n",
       "        [ 0.00000000e+00]],\n",
       "\n",
       "       [[ 0.00000000e+00],\n",
       "        [ 0.00000000e+00],\n",
       "        [ 0.00000000e+00],\n",
       "        [ 4.51738201e-03],\n",
       "        [ 3.31029892e-02],\n",
       "        [ 7.89409935e-01],\n",
       "        [ 9.66402590e-01],\n",
       "        [ 7.49129117e-01],\n",
       "        [ 1.58891231e-01],\n",
       "        [ 9.70922783e-02],\n",
       "        [-8.97973776e-03],\n",
       "        [-7.82622304e-03],\n",
       "        [-9.78277880e-04],\n",
       "        [ 0.00000000e+00],\n",
       "        [ 0.00000000e+00],\n",
       "        [ 0.00000000e+00],\n",
       "        [ 0.00000000e+00],\n",
       "        [ 1.96464919e-03],\n",
       "        [ 1.01470843e-01],\n",
       "        [ 7.52497792e-01],\n",
       "        [ 1.06715631e+00],\n",
       "        [ 9.51265514e-01],\n",
       "        [ 1.91416383e-01],\n",
       "        [-1.63931906e-01],\n",
       "        [-2.67572515e-02],\n",
       "        [ 0.00000000e+00],\n",
       "        [ 0.00000000e+00],\n",
       "        [ 0.00000000e+00]],\n",
       "\n",
       "       [[ 0.00000000e+00],\n",
       "        [ 0.00000000e+00],\n",
       "        [ 1.88632135e-03],\n",
       "        [ 4.88264486e-02],\n",
       "        [ 1.05608821e-01],\n",
       "        [ 9.84843731e-01],\n",
       "        [ 1.09743905e+00],\n",
       "        [ 5.24523020e-01],\n",
       "        [ 9.29974616e-02],\n",
       "        [-4.63215262e-03],\n",
       "        [-2.53695133e-03],\n",
       "        [ 0.00000000e+00],\n",
       "        [ 0.00000000e+00],\n",
       "        [ 0.00000000e+00],\n",
       "        [ 0.00000000e+00],\n",
       "        [ 0.00000000e+00],\n",
       "        [-9.68072389e-04],\n",
       "        [ 1.29245259e-02],\n",
       "        [ 3.94507527e-01],\n",
       "        [ 9.11305785e-01],\n",
       "        [ 9.35825527e-01],\n",
       "        [ 3.79621208e-01],\n",
       "        [-4.33523059e-02],\n",
       "        [-5.07221110e-02],\n",
       "        [-5.06799202e-03],\n",
       "        [ 0.00000000e+00],\n",
       "        [ 0.00000000e+00],\n",
       "        [ 0.00000000e+00]],\n",
       "\n",
       "       [[ 0.00000000e+00],\n",
       "        [ 0.00000000e+00],\n",
       "        [ 2.78789760e-03],\n",
       "        [ 7.40487128e-02],\n",
       "        [ 2.07902461e-01],\n",
       "        [ 9.27317858e-01],\n",
       "        [ 9.41315591e-01],\n",
       "        [ 4.22918290e-01],\n",
       "        [ 5.46459630e-02],\n",
       "        [ 7.46534253e-03],\n",
       "        [ 0.00000000e+00],\n",
       "        [ 0.00000000e+00],\n",
       "        [ 0.00000000e+00],\n",
       "        [ 0.00000000e+00],\n",
       "        [ 0.00000000e+00],\n",
       "        [ 0.00000000e+00],\n",
       "        [ 7.58079812e-04],\n",
       "        [ 1.87081397e-01],\n",
       "        [ 8.10405374e-01],\n",
       "        [ 9.82128203e-01],\n",
       "        [ 7.10687935e-01],\n",
       "        [ 5.46571016e-02],\n",
       "        [-7.07646087e-02],\n",
       "        [-1.46309212e-02],\n",
       "        [-2.52270082e-04],\n",
       "        [ 0.00000000e+00],\n",
       "        [ 0.00000000e+00],\n",
       "        [ 0.00000000e+00]],\n",
       "\n",
       "       [[ 0.00000000e+00],\n",
       "        [ 0.00000000e+00],\n",
       "        [ 1.82419305e-03],\n",
       "        [ 7.09609836e-02],\n",
       "        [ 3.61725777e-01],\n",
       "        [ 9.50293362e-01],\n",
       "        [ 7.80380964e-01],\n",
       "        [ 4.12971646e-01],\n",
       "        [ 4.32208292e-02],\n",
       "        [ 1.72847637e-03],\n",
       "        [ 0.00000000e+00],\n",
       "        [ 0.00000000e+00],\n",
       "        [ 0.00000000e+00],\n",
       "        [ 0.00000000e+00],\n",
       "        [ 3.76678130e-04],\n",
       "        [ 2.91716661e-02],\n",
       "        [ 2.54610837e-01],\n",
       "        [ 7.14165568e-01],\n",
       "        [ 1.00914168e+00],\n",
       "        [ 7.43120551e-01],\n",
       "        [ 1.74845755e-01],\n",
       "        [ 4.11331654e-04],\n",
       "        [-2.39653066e-02],\n",
       "        [-8.44801660e-04],\n",
       "        [ 0.00000000e+00],\n",
       "        [ 0.00000000e+00],\n",
       "        [ 0.00000000e+00],\n",
       "        [ 0.00000000e+00]],\n",
       "\n",
       "       [[ 0.00000000e+00],\n",
       "        [ 0.00000000e+00],\n",
       "        [-1.34990364e-02],\n",
       "        [ 7.90704787e-03],\n",
       "        [ 4.15988147e-01],\n",
       "        [ 9.97264564e-01],\n",
       "        [ 7.06389785e-01],\n",
       "        [ 4.19212490e-01],\n",
       "        [ 3.80083695e-02],\n",
       "        [ 0.00000000e+00],\n",
       "        [ 0.00000000e+00],\n",
       "        [ 0.00000000e+00],\n",
       "        [ 0.00000000e+00],\n",
       "        [ 1.67731866e-02],\n",
       "        [ 1.93631530e-01],\n",
       "        [ 3.93759847e-01],\n",
       "        [ 7.43325353e-01],\n",
       "        [ 9.00177538e-01],\n",
       "        [ 9.47837055e-01],\n",
       "        [ 1.48852229e-01],\n",
       "        [-7.14748055e-02],\n",
       "        [ 2.38431394e-02],\n",
       "        [-8.01253133e-04],\n",
       "        [ 0.00000000e+00],\n",
       "        [ 0.00000000e+00],\n",
       "        [ 0.00000000e+00],\n",
       "        [ 0.00000000e+00],\n",
       "        [ 0.00000000e+00]],\n",
       "\n",
       "       [[ 0.00000000e+00],\n",
       "        [-3.04245332e-04],\n",
       "        [-2.21545883e-02],\n",
       "        [-4.01225463e-02],\n",
       "        [ 2.72055805e-01],\n",
       "        [ 1.00661421e+00],\n",
       "        [ 8.78502369e-01],\n",
       "        [ 4.86529738e-01],\n",
       "        [ 2.11144257e-02],\n",
       "        [ 0.00000000e+00],\n",
       "        [ 0.00000000e+00],\n",
       "        [ 8.19627848e-03],\n",
       "        [ 4.81296964e-02],\n",
       "        [ 1.49131700e-01],\n",
       "        [ 3.96569192e-01],\n",
       "        [ 5.91375947e-01],\n",
       "        [ 8.91779542e-01],\n",
       "        [ 8.52743447e-01],\n",
       "        [ 3.03271949e-01],\n",
       "        [-6.38059378e-02],\n",
       "        [ 1.21286660e-02],\n",
       "        [ 2.32315958e-02],\n",
       "        [ 0.00000000e+00],\n",
       "        [ 0.00000000e+00],\n",
       "        [ 0.00000000e+00],\n",
       "        [ 0.00000000e+00],\n",
       "        [ 0.00000000e+00],\n",
       "        [ 0.00000000e+00]],\n",
       "\n",
       "       [[ 0.00000000e+00],\n",
       "        [ 0.00000000e+00],\n",
       "        [-1.32989958e-02],\n",
       "        [-5.35864532e-02],\n",
       "        [ 1.75425261e-01],\n",
       "        [ 9.65390980e-01],\n",
       "        [ 1.03229141e+00],\n",
       "        [ 6.14843249e-01],\n",
       "        [ 3.11506242e-02],\n",
       "        [ 2.75730006e-02],\n",
       "        [ 3.38388681e-02],\n",
       "        [ 1.72367334e-01],\n",
       "        [ 1.47297636e-01],\n",
       "        [ 2.23513037e-01],\n",
       "        [ 5.61887562e-01],\n",
       "        [ 8.24574530e-01],\n",
       "        [ 9.09384370e-01],\n",
       "        [ 2.27459311e-01],\n",
       "        [-1.76575780e-03],\n",
       "        [ 6.67764544e-02],\n",
       "        [ 7.01570185e-03],\n",
       "        [ 8.66032264e-04],\n",
       "        [ 0.00000000e+00],\n",
       "        [ 0.00000000e+00],\n",
       "        [ 0.00000000e+00],\n",
       "        [ 0.00000000e+00],\n",
       "        [ 0.00000000e+00],\n",
       "        [ 0.00000000e+00]],\n",
       "\n",
       "       [[ 0.00000000e+00],\n",
       "        [-3.04245332e-04],\n",
       "        [-2.37085503e-02],\n",
       "        [-9.82998461e-02],\n",
       "        [ 1.47575527e-01],\n",
       "        [ 8.83420169e-01],\n",
       "        [ 1.05485630e+00],\n",
       "        [ 8.65219176e-01],\n",
       "        [ 4.49514091e-01],\n",
       "        [ 1.96531445e-01],\n",
       "        [ 2.19998926e-01],\n",
       "        [ 2.76642144e-01],\n",
       "        [ 3.38514566e-01],\n",
       "        [ 6.62165582e-01],\n",
       "        [ 9.36817110e-01],\n",
       "        [ 1.04513001e+00],\n",
       "        [ 6.67036235e-01],\n",
       "        [ 1.78747296e-01],\n",
       "        [ 6.22938722e-02],\n",
       "        [ 2.70099230e-02],\n",
       "        [ 0.00000000e+00],\n",
       "        [ 0.00000000e+00],\n",
       "        [ 0.00000000e+00],\n",
       "        [ 0.00000000e+00],\n",
       "        [ 0.00000000e+00],\n",
       "        [ 0.00000000e+00],\n",
       "        [ 0.00000000e+00],\n",
       "        [ 0.00000000e+00]],\n",
       "\n",
       "       [[ 0.00000000e+00],\n",
       "        [ 0.00000000e+00],\n",
       "        [-1.18635483e-02],\n",
       "        [-1.06404126e-01],\n",
       "        [-1.11654341e-01],\n",
       "        [ 3.44094276e-01],\n",
       "        [ 9.40400362e-01],\n",
       "        [ 9.93452311e-01],\n",
       "        [ 9.88098323e-01],\n",
       "        [ 8.60360563e-01],\n",
       "        [ 8.70218635e-01],\n",
       "        [ 7.99538136e-01],\n",
       "        [ 8.71592343e-01],\n",
       "        [ 8.61213863e-01],\n",
       "        [ 7.36715078e-01],\n",
       "        [ 3.09966594e-01],\n",
       "        [ 1.14646092e-01],\n",
       "        [ 4.50932011e-02],\n",
       "        [ 5.45669114e-03],\n",
       "        [ 0.00000000e+00],\n",
       "        [ 0.00000000e+00],\n",
       "        [ 0.00000000e+00],\n",
       "        [ 0.00000000e+00],\n",
       "        [ 0.00000000e+00],\n",
       "        [ 0.00000000e+00],\n",
       "        [ 0.00000000e+00],\n",
       "        [ 0.00000000e+00],\n",
       "        [ 0.00000000e+00]],\n",
       "\n",
       "       [[ 0.00000000e+00],\n",
       "        [ 0.00000000e+00],\n",
       "        [-9.14300676e-04],\n",
       "        [-2.78318450e-02],\n",
       "        [-1.46706820e-01],\n",
       "        [-8.64903331e-02],\n",
       "        [ 3.89488518e-01],\n",
       "        [ 7.19297588e-01],\n",
       "        [ 8.87111604e-01],\n",
       "        [ 9.50937867e-01],\n",
       "        [ 9.28332925e-01],\n",
       "        [ 7.82883525e-01],\n",
       "        [ 8.32879126e-01],\n",
       "        [ 5.23993731e-01],\n",
       "        [ 1.50089264e-01],\n",
       "        [ 5.28239310e-02],\n",
       "        [ 5.94259426e-03],\n",
       "        [-1.19100092e-03],\n",
       "        [ 0.00000000e+00],\n",
       "        [ 0.00000000e+00],\n",
       "        [ 0.00000000e+00],\n",
       "        [ 0.00000000e+00],\n",
       "        [ 0.00000000e+00],\n",
       "        [ 0.00000000e+00],\n",
       "        [ 0.00000000e+00],\n",
       "        [ 0.00000000e+00],\n",
       "        [ 0.00000000e+00],\n",
       "        [ 0.00000000e+00]],\n",
       "\n",
       "       [[ 0.00000000e+00],\n",
       "        [ 0.00000000e+00],\n",
       "        [ 0.00000000e+00],\n",
       "        [-9.14300676e-04],\n",
       "        [-1.70535818e-02],\n",
       "        [-1.16765499e-02],\n",
       "        [ 6.70467913e-02],\n",
       "        [ 2.29836553e-01],\n",
       "        [ 5.01062512e-01],\n",
       "        [ 6.98600173e-01],\n",
       "        [ 6.83314443e-01],\n",
       "        [ 4.03222948e-01],\n",
       "        [ 2.30695337e-01],\n",
       "        [ 6.91150874e-02],\n",
       "        [ 6.63666986e-03],\n",
       "        [-6.77273516e-03],\n",
       "        [-4.20116761e-04],\n",
       "        [ 0.00000000e+00],\n",
       "        [ 0.00000000e+00],\n",
       "        [ 0.00000000e+00],\n",
       "        [ 0.00000000e+00],\n",
       "        [ 0.00000000e+00],\n",
       "        [ 0.00000000e+00],\n",
       "        [ 0.00000000e+00],\n",
       "        [ 0.00000000e+00],\n",
       "        [ 0.00000000e+00],\n",
       "        [ 0.00000000e+00],\n",
       "        [ 0.00000000e+00]],\n",
       "\n",
       "       [[ 0.00000000e+00],\n",
       "        [ 0.00000000e+00],\n",
       "        [ 0.00000000e+00],\n",
       "        [ 0.00000000e+00],\n",
       "        [ 0.00000000e+00],\n",
       "        [-7.74791231e-04],\n",
       "        [-1.97999459e-03],\n",
       "        [ 2.18315050e-03],\n",
       "        [ 7.75207486e-03],\n",
       "        [ 1.48390885e-02],\n",
       "        [ 1.34229194e-02],\n",
       "        [ 4.32276540e-03],\n",
       "        [ 4.17335890e-03],\n",
       "        [ 2.25820788e-03],\n",
       "        [ 0.00000000e+00],\n",
       "        [ 0.00000000e+00],\n",
       "        [ 0.00000000e+00],\n",
       "        [ 0.00000000e+00],\n",
       "        [ 0.00000000e+00],\n",
       "        [ 0.00000000e+00],\n",
       "        [ 0.00000000e+00],\n",
       "        [ 0.00000000e+00],\n",
       "        [ 0.00000000e+00],\n",
       "        [ 0.00000000e+00],\n",
       "        [ 0.00000000e+00],\n",
       "        [ 0.00000000e+00],\n",
       "        [ 0.00000000e+00],\n",
       "        [ 0.00000000e+00]],\n",
       "\n",
       "       [[ 0.00000000e+00],\n",
       "        [ 0.00000000e+00],\n",
       "        [ 0.00000000e+00],\n",
       "        [ 0.00000000e+00],\n",
       "        [ 0.00000000e+00],\n",
       "        [ 0.00000000e+00],\n",
       "        [ 0.00000000e+00],\n",
       "        [ 0.00000000e+00],\n",
       "        [ 0.00000000e+00],\n",
       "        [ 0.00000000e+00],\n",
       "        [ 0.00000000e+00],\n",
       "        [ 0.00000000e+00],\n",
       "        [ 0.00000000e+00],\n",
       "        [ 0.00000000e+00],\n",
       "        [ 0.00000000e+00],\n",
       "        [ 0.00000000e+00],\n",
       "        [ 0.00000000e+00],\n",
       "        [ 0.00000000e+00],\n",
       "        [ 0.00000000e+00],\n",
       "        [ 0.00000000e+00],\n",
       "        [ 0.00000000e+00],\n",
       "        [ 0.00000000e+00],\n",
       "        [ 0.00000000e+00],\n",
       "        [ 0.00000000e+00],\n",
       "        [ 0.00000000e+00],\n",
       "        [ 0.00000000e+00],\n",
       "        [ 0.00000000e+00],\n",
       "        [ 0.00000000e+00]]], dtype=float32)"
      ]
     },
     "execution_count": 88,
     "metadata": {},
     "output_type": "execute_result"
    }
   ],
   "source": []
  },
  {
   "cell_type": "code",
   "execution_count": null,
   "metadata": {},
   "outputs": [],
   "source": []
  }
 ],
 "metadata": {
  "kernelspec": {
   "display_name": "Python 3",
   "language": "python",
   "name": "python3"
  },
  "language_info": {
   "codemirror_mode": {
    "name": "ipython",
    "version": 3
   },
   "file_extension": ".py",
   "mimetype": "text/x-python",
   "name": "python",
   "nbconvert_exporter": "python",
   "pygments_lexer": "ipython3",
   "version": "3.6.9"
  }
 },
 "nbformat": 4,
 "nbformat_minor": 4
}
