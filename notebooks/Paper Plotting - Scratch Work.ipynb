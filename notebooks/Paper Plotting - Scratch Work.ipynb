{
 "cells": [
  {
   "cell_type": "code",
   "execution_count": 2,
   "metadata": {},
   "outputs": [
    {
     "name": "stderr",
     "output_type": "stream",
     "text": [
      "18-05-2022 08:14:00 -- [I] faiss.loader >> Loading faiss with AVX2 support.\n",
      "18-05-2022 08:14:00 -- [I] faiss.loader >> Successfully loaded faiss with AVX2 support.\n"
     ]
    }
   ],
   "source": [
    "import os\n",
    "os.chdir(\"/data/t-achetan/adv_geom/src/\")\n",
    "\n",
    "from datagen.synthetic.multiple.intertwinedswissrolls import IntertwinedSwissRolls"
   ]
  },
  {
   "cell_type": "code",
   "execution_count": 4,
   "metadata": {},
   "outputs": [
    {
     "name": "stdout",
     "output_type": "stream",
     "text": [
      "18-05-2022 09:42:52 -- [I] faiss.loader >> Loading faiss with AVX2 support.\n",
      "18-05-2022 09:42:52 -- [I] faiss.loader >> Successfully loaded faiss with AVX2 support.\n",
      "torch.Size([50000, 2])\n"
     ]
    }
   ],
   "source": [
    "! python3 ./expC/analysis.py --dump_dir=/mnt/t-achetan/expC_dist_learner_for_adv_ex/rdm_swrolls_test/rdm_swrolls_k2n500_noninfdist_moreoffmfld__bs4096_inferred_maxtdelta\\=1e\\=3/4/ --on=test --thresh=0.04\n",
    "\n",
    "\n"
   ]
  },
  {
   "cell_type": "code",
   "execution_count": null,
   "metadata": {},
   "outputs": [],
   "source": [
    "/mnt/t-achetan/expC_dist_learner_for_adv_ex/rdm_swrolls_test/rdm_swrolls_k2n500_noninfdist_moreoffmfld__bs4096_inferred_maxtdelta\\=1e\\=3/"
   ]
  }
 ],
 "metadata": {
  "kernelspec": {
   "display_name": "Python 3",
   "language": "python",
   "name": "python3"
  },
  "language_info": {
   "codemirror_mode": {
    "name": "ipython",
    "version": 3
   },
   "file_extension": ".py",
   "mimetype": "text/x-python",
   "name": "python",
   "nbconvert_exporter": "python",
   "pygments_lexer": "ipython3",
   "version": "3.7.6"
  }
 },
 "nbformat": 4,
 "nbformat_minor": 4
}
