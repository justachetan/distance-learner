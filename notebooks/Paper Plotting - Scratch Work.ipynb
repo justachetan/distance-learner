{
 "cells": [
  {
   "cell_type": "code",
   "execution_count": 1,
   "metadata": {},
   "outputs": [
    {
     "name": "stderr",
     "output_type": "stream",
     "text": [
      "17-05-2022 04:02:52 -- [I] faiss.loader >> Loading faiss with AVX2 support.\n",
      "17-05-2022 04:02:52 -- [I] faiss.loader >> Successfully loaded faiss with AVX2 support.\n"
     ]
    }
   ],
   "source": [
    "import os\n",
    "os.chdir(\"/data/t-achetan/adv_geom/src/\")\n",
    "\n",
    "from datagen.synthetic.multiple.intertwinedswissrolls import IntertwinedSwissRolls"
   ]
  },
  {
   "cell_type": "code",
   "execution_count": 12,
   "metadata": {},
   "outputs": [
    {
     "name": "stdout",
     "output_type": "stream",
     "text": [
      "17-05-2022 05:25:08 -- [I] faiss.loader >> Loading faiss with AVX2 support.\n",
      "17-05-2022 05:25:08 -- [I] faiss.loader >> Successfully loaded faiss with AVX2 support.\n",
      "torch.Size([50000, 2])\n"
     ]
    }
   ],
   "source": [
    "! python3 ./expC/analysis.py --dump_dir=/mnt/t-achetan/expC_dist_learner_for_adv_ex/rdm_swrolls_test/rdm_swrolls_k2n2_noninfdist_moreoffmfld_inferred_maxtdelta\\=1e\\=3_trial2/1 --on=test --thresh=0.02\n",
    "\n",
    "\n"
   ]
  },
  {
   "cell_type": "code",
   "execution_count": null,
   "metadata": {},
   "outputs": [],
   "source": [
    "/mnt/t-achetan/expC_dist_learner_for_adv_ex/rdm_swrolls_test/rdm_swrolls_k2n500_noninfdist_moreoffmfld_inferred_maxtdelta\\=1e\\=3"
   ]
  }
 ],
 "metadata": {
  "kernelspec": {
   "display_name": "Python 3",
   "language": "python",
   "name": "python3"
  },
  "language_info": {
   "codemirror_mode": {
    "name": "ipython",
    "version": 3
   },
   "file_extension": ".py",
   "mimetype": "text/x-python",
   "name": "python",
   "nbconvert_exporter": "python",
   "pygments_lexer": "ipython3",
   "version": "3.7.6"
  }
 },
 "nbformat": 4,
 "nbformat_minor": 4
}
