{
 "cells": [
  {
   "cell_type": "code",
   "execution_count": 1,
   "metadata": {},
   "outputs": [],
   "source": [
    "import numpy as np\n",
    "import faiss\n",
    "import torch\n",
    "from tqdm.notebook import tqdm"
   ]
  },
  {
   "cell_type": "code",
   "execution_count": 7,
   "metadata": {},
   "outputs": [
    {
     "name": "stdout",
     "output_type": "stream",
     "text": [
      "Requirement already satisfied: torch in /usr/local/lib/python3.6/dist-packages (1.8.0.dev20210103)\n",
      "Requirement already satisfied: numpy in /usr/local/lib/python3.6/dist-packages (from torch) (1.19.4)\n",
      "Requirement already satisfied: dataclasses in /usr/local/lib/python3.6/dist-packages (from torch) (0.8)\n",
      "Requirement already satisfied: typing-extensions in /usr/local/lib/python3.6/dist-packages (from torch) (3.7.4.3)\n",
      "\u001b[33mWARNING: You are using pip version 20.3.3; however, version 21.3.1 is available.\n",
      "You should consider upgrading via the '/usr/bin/python3.6 -m pip install --upgrade pip' command.\u001b[0m\n"
     ]
    }
   ],
   "source": [
    "! pip3 install torch"
   ]
  },
  {
   "cell_type": "code",
   "execution_count": 2,
   "metadata": {},
   "outputs": [],
   "source": [
    "\n",
    "\n",
    "\n",
    "class FaissKNeighbors:\n",
    "    def __init__(self, k=5):\n",
    "        self.index = None\n",
    "        self.y = None\n",
    "        self.k = k\n",
    "\n",
    "    def fit(self, X, y):\n",
    "        self.index = faiss.IndexFlatL2(X.shape[1])\n",
    "        self.index.add(X.astype(np.float32))\n",
    "        res = faiss.StandardGpuResources()\n",
    "#         self.gpu_index = faiss.index_cpu_to_all_gpus(  # build the index\n",
    "#             self.index\n",
    "#         )\n",
    "        self.gpu_index = faiss.index_cpu_to_gpu(  # build the index\n",
    "            res,\n",
    "            1,\n",
    "            self.index\n",
    "        )\n",
    "        self.y = y\n",
    "\n",
    "    def predict(self, X):\n",
    "        distances, indices = self.gpu_index.search(X.astype(np.float32), k=self.k)\n",
    "        votes = self.y[indices]\n",
    "        predictions = np.array([np.argmax(np.bincount(x)) for x in votes])\n",
    "        return indices"
   ]
  },
  {
   "cell_type": "code",
   "execution_count": 3,
   "metadata": {},
   "outputs": [],
   "source": [
    "knn = FaissKNeighbors(k=50)\n",
    "\n",
    "a = np.random.normal(size=(500000, 500))\n",
    "b = np.zeros(500000, dtype=np.int64)\n",
    "b[250000:] = 1\n",
    "# knn = KNeighborsClassifier(n_neighbors=50)\n",
    "knn.fit(a, b)"
   ]
  },
  {
   "cell_type": "code",
   "execution_count": 22,
   "metadata": {},
   "outputs": [
    {
     "data": {
      "application/vnd.jupyter.widget-view+json": {
       "model_id": "bb9b7c4e8aba4bdb8077b6f457558795",
       "version_major": 2,
       "version_minor": 0
      },
      "text/plain": [
       "HBox(children=(FloatProgress(value=0.0, max=500000.0), HTML(value='')))"
      ]
     },
     "metadata": {},
     "output_type": "display_data"
    },
    {
     "name": "stdout",
     "output_type": "stream",
     "text": [
      "\n"
     ]
    }
   ],
   "source": [
    "for i in tqdm(range(500000)):\n",
    "    c = knn.predict(a[i:i+1])"
   ]
  },
  {
   "cell_type": "code",
   "execution_count": 14,
   "metadata": {},
   "outputs": [
    {
     "data": {
      "text/plain": [
       "(array([0]),\n",
       " array([[  0.     , 731.0241 , 731.3761 , 736.7205 , 750.9963 , 751.1914 ,\n",
       "         754.35767, 761.94836, 765.2665 , 765.72327, 766.0238 , 766.69775,\n",
       "         766.91504, 768.5211 , 770.8925 , 771.50055, 773.3078 , 773.68445,\n",
       "         774.2686 , 775.9426 , 775.9465 , 776.175  , 776.4354 , 776.5114 ,\n",
       "         776.6543 , 776.78314, 777.80554, 778.4669 , 778.61554, 778.67596,\n",
       "         778.6988 , 778.9269 , 779.0544 , 779.6638 , 780.6416 , 781.067  ,\n",
       "         781.1879 , 781.3655 , 781.46454, 782.21326, 782.6823 , 782.7848 ,\n",
       "         782.84467, 782.89526, 782.95905, 783.5349 , 783.635  , 783.7126 ,\n",
       "         783.8795 , 783.8924 ]], dtype=float32),\n",
       " array([[   170,  77946, 277146, 184262, 127610, 364259,  40157,  99971,\n",
       "         381385, 395540, 352188, 421782,   4195, 296721, 167775, 180594,\n",
       "         321346,  84428,  77747, 143536,  52592, 429831, 322516, 270430,\n",
       "          60863, 339763, 150254,  94708, 417267,  51336, 305694, 299147,\n",
       "          90819,  39054, 128439, 311597, 199143, 144253, 471836, 282410,\n",
       "         371225,  10792, 440006, 272012,  13349, 488309,  53781,  19714,\n",
       "         123980, 331974]]))"
      ]
     },
     "execution_count": 14,
     "metadata": {},
     "output_type": "execute_result"
    }
   ],
   "source": [
    "c"
   ]
  },
  {
   "cell_type": "code",
   "execution_count": null,
   "metadata": {},
   "outputs": [],
   "source": []
  }
 ],
 "metadata": {
  "kernelspec": {
   "display_name": "Python 3",
   "language": "python",
   "name": "python3"
  },
  "language_info": {
   "codemirror_mode": {
    "name": "ipython",
    "version": 3
   },
   "file_extension": ".py",
   "mimetype": "text/x-python",
   "name": "python",
   "nbconvert_exporter": "python",
   "pygments_lexer": "ipython3",
   "version": "3.7.6"
  }
 },
 "nbformat": 4,
 "nbformat_minor": 4
}
