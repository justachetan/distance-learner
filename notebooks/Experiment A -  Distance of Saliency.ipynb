{
 "cells": [
  {
   "cell_type": "code",
   "execution_count": 32,
   "metadata": {},
   "outputs": [],
   "source": [
    "import os\n",
    "import sys\n",
    "import time\n",
    "import copy\n",
    "\n",
    "import numpy as np\n",
    "\n",
    "import torch\n",
    "import torch.nn as nn\n",
    "import torch.optim as optim\n",
    "\n",
    "import torchvision\n",
    "import torchvision.transforms as transforms\n",
    "from torchvision import datasets\n",
    "\n",
    "import matplotlib\n",
    "# matplotlib.use('Agg')\n",
    "import matplotlib.pyplot as plt\n",
    "\n",
    "from livelossplot import PlotLosses\n",
    "\n",
    "from sklearn.neighbors import NearestNeighbors\n",
    "from sklearn.decomposition import IncrementalPCA\n",
    "\n",
    "\n",
    "# Using model code from Stutz et.al.\n",
    "os.chdir(\"/data/adv_geom/drg/\")\n",
    "from models.classifier import Classifier\n",
    "from training.train_classifier import TrainClassifier"
   ]
  },
  {
   "cell_type": "code",
   "execution_count": 2,
   "metadata": {},
   "outputs": [
    {
     "name": "stderr",
     "output_type": "stream",
     "text": [
      "No traceback available to show.\n",
      "\u001b[94m[2202211203] -- TrainClassifier\u001b[0m\n",
      "\u001b[94m[2202211203] [Training] train_images_file=/data/adv_geom/datasets/emnist/train_images.h5\u001b[0m\n",
      "\u001b[94m[2202211203] [Training] train_codes_file=/data/adv_geom/datasets/emnist/train_labels.h5\u001b[0m\n",
      "\u001b[94m[2202211203] [Training] test_images_file=/data/adv_geom/datasets/emnist/test_images.h5\u001b[0m\n",
      "\u001b[94m[2202211203] [Training] test_codes_file=/data/adv_geom/datasets/emnist/test_labels.h5\u001b[0m\n",
      "\u001b[94m[2202211203] [Training] state_file=/data/adv_geom/dumps/emnist/classifier.pth.tar\u001b[0m\n",
      "\u001b[94m[2202211203] [Training] log_file=/data/adv_geom/dumps/emnist/classifier.log\u001b[0m\n",
      "\u001b[94m[2202211203] [Training] training_file=/data/adv_geom/dumps/emnist/training.h5\u001b[0m\n",
      "\u001b[94m[2202211203] [Training] testing_file=/data/adv_geom/dumps/emnist/testing.h5\u001b[0m\n",
      "\u001b[94m[2202211203] [Training] loss_file=/data/adv_geom/dumps/emnist/loss.png\u001b[0m\n",
      "\u001b[94m[2202211203] [Training] error_file=/data/adv_geom/dumps/emnist/error.png\u001b[0m\n",
      "\u001b[94m[2202211203] [Training] gradient_file=/data/adv_geom/dumps/emnist/gradient.png\u001b[0m\n",
      "\u001b[94m[2202211203] [Training] label_index=0\u001b[0m\n",
      "\u001b[94m[2202211203] [Training] training_samples=160000\u001b[0m\n",
      "\u001b[94m[2202211203] [Training] validation_samples=40000\u001b[0m\n",
      "\u001b[94m[2202211203] [Training] test_samples=-1\u001b[0m\n",
      "\u001b[94m[2202211203] [Training] early_stopping=False\u001b[0m\n",
      "\u001b[94m[2202211203] [Training] random_samples=True\u001b[0m\n",
      "\u001b[94m[2202211203] [Training] batch_size=64\u001b[0m\n",
      "\u001b[94m[2202211203] [Training] epochs=10\u001b[0m\n",
      "\u001b[94m[2202211203] [Training] weight_decay=0.0001\u001b[0m\n",
      "\u001b[94m[2202211203] [Training] logit_decay=0\u001b[0m\n",
      "\u001b[94m[2202211203] [Training] use_gpu=True\u001b[0m\n",
      "\u001b[94m[2202211203] [Training] skip=5\u001b[0m\n",
      "\u001b[94m[2202211203] [Training] lr=0.01\u001b[0m\n",
      "\u001b[94m[2202211203] [Training] lr_decay=0.95\u001b[0m\n",
      "\u001b[94m[2202211203] [Training] results_file=\u001b[0m\n",
      "\u001b[94m[2202211203] [Training] debug_directory=\u001b[0m\n",
      "\u001b[94m[2202211203] [Training] gpu_id=1\u001b[0m\n",
      "\u001b[94m[2202211203] [Training] network_architecture=mlp\u001b[0m\n",
      "\u001b[94m[2202211203] [Training] network_activation=relu\u001b[0m\n",
      "\u001b[94m[2202211203] [Training] network_no_batch_normalization=False\u001b[0m\n",
      "\u001b[94m[2202211203] [Training] network_channels=16\u001b[0m\n",
      "\u001b[94m[2202211203] [Training] network_dropout=False\u001b[0m\n",
      "\u001b[94m[2202211203] [Training] network_units=1024,1024,1024,1024\u001b[0m\n",
      "/usr/local/lib/python3.6/dist-packages/torch/distributed/distributed_c10d.py:151: UserWarning: torch.distributed.reduce_op is deprecated, please use torch.distributed.ReduceOp instead\n",
      "  warnings.warn(\"torch.distributed.reduce_op is deprecated, please use \"\n",
      "\u001b[94m[2202211203] [Training] read /data/adv_geom/datasets/emnist/train_images.h5\u001b[0m\n",
      "\u001b[94m[2202211203] [Training] read /data/adv_geom/datasets/emnist/test_images.h5\u001b[0m\n",
      "\u001b[94m[2202211203] [Training] resolution 28\u001b[0m\n",
      "\u001b[94m[2202211203] 240000\u001b[0m\n",
      "\u001b[94m[2202211203] [Training] read /data/adv_geom/datasets/emnist/train_labels.h5\u001b[0m\n",
      "\u001b[94m[2202211203] [Training] read /data/adv_geom/datasets/emnist/test_labels.h5\u001b[0m\n",
      "\u001b[94m[2202211203] [Training] using 160000 training samples\u001b[0m\n",
      "\u001b[94m[2202211203] [Training] found 10 classes\u001b[0m\n",
      "\u001b[93m[2202211203] [Training] dataset not balanced, class 0 should have 16000 samples but has 16053\u001b[0m\n",
      "\u001b[93m[2202211203] [Training] dataset not balanced, class 1 should have 16000 samples but has 15838\u001b[0m\n",
      "\u001b[93m[2202211203] [Training] dataset not balanced, class 2 should have 16000 samples but has 15876\u001b[0m\n",
      "\u001b[93m[2202211203] [Training] dataset not balanced, class 3 should have 16000 samples but has 15965\u001b[0m\n",
      "\u001b[93m[2202211203] [Training] dataset not balanced, class 4 should have 16000 samples but has 16044\u001b[0m\n",
      "\u001b[93m[2202211203] [Training] dataset not balanced, class 5 should have 16000 samples but has 16181\u001b[0m\n",
      "\u001b[93m[2202211203] [Training] dataset not balanced, class 6 should have 16000 samples but has 15968\u001b[0m\n",
      "\u001b[93m[2202211203] [Training] dataset not balanced, class 7 should have 16000 samples but has 16036\u001b[0m\n",
      "\u001b[93m[2202211203] [Training] dataset not balanced, class 8 should have 16000 samples but has 16022\u001b[0m\n",
      "\u001b[93m[2202211203] [Training] dataset not balanced, class 9 should have 16000 samples but has 16017\u001b[0m\n",
      "\u001b[94m[2202211203] [Training] using 1 input channels\u001b[0m\n",
      "\u001b[94m[2202211203] [Training] loaded /data/adv_geom/dumps/emnist/classifier.pth.tar\u001b[0m\n",
      "\u001b[94m[2202211203] [Training] model is not CUDA\u001b[0m\n",
      "\u001b[94m[2202211203] [Training] loaded model\u001b[0m\n",
      "\u001b[94m[2202211203] [Training] read /data/adv_geom/dumps/emnist/training.h5\u001b[0m\n",
      "\u001b[94m[2202211203] [Training] read /data/adv_geom/dumps/emnist/testing.h5\u001b[0m\n",
      "\u001b[94m[2202211203] (view0, View)\n",
      "(lin1, Linear)\n",
      "(act1, ReLU)\n",
      "(bn1, BatchNorm1d)\n",
      "(lin2, Linear)\n",
      "(act2, ReLU)\n",
      "(bn2, BatchNorm1d)\n",
      "(lin3, Linear)\n",
      "(act3, ReLU)\n",
      "(bn3, BatchNorm1d)\n",
      "(lin4, Linear)\n",
      "(act4, ReLU)\n",
      "(bn4, BatchNorm1d)\n",
      "(logits, Linear)\n",
      "\u001b[0m\n"
     ]
    }
   ],
   "source": [
    "%tb\n",
    "args = {\n",
    "    \"train_images_file\": \"/data/adv_geom/datasets/emnist/train_images.h5\",\n",
    "    \"train_codes_file\": \"/data/adv_geom/datasets/emnist/train_labels.h5\",\n",
    "    \"test_images_file\": \"/data/adv_geom/datasets/emnist/test_images.h5\",\n",
    "    \"test_codes_file\": \"/data/adv_geom/datasets/emnist/test_labels.h5\",\n",
    "    \"state_file\": \"/data/adv_geom/dumps/emnist/classifier.pth.tar\",\n",
    "    \"label_index\": 0,\n",
    "    \"lr_decay\": 0.95,\n",
    "    \"weight_decay\": 0.0001,\n",
    "    \"training_samples\": 160000,\n",
    "    \"validation_samples\": 40000,\n",
    "    \"random_samples\": True,\n",
    "    \"network_architecture\": \"mlp\",\n",
    "    \"gpu_id\": 1\n",
    "}\n",
    "\n",
    "sys.argv = [\"-\" + i + \"=\" + str(args[i]) if type(args[i]) != type(True) else \"-\" + i for i in args]\n",
    "\n",
    "\n",
    "train_clf = TrainClassifier(args=sys.argv)\n",
    "train_clf.load_data()\n",
    "train_clf.load_model_and_scheduler()"
   ]
  },
  {
   "cell_type": "code",
   "execution_count": 3,
   "metadata": {},
   "outputs": [],
   "source": [
    "def epoch_adversarial(model, loader, attack, *args):\n",
    "    total_loss, total_err = 0.,0.\n",
    "    for X,y in loader:\n",
    "        X,y = X.to(device), y.to(device)\n",
    "        delta = attack(model, X, y, *args)\n",
    "        yp = model(X+delta)\n",
    "        loss = nn.CrossEntropyLoss()(yp,y)\n",
    "        \n",
    "        total_err += (yp.max(dim=1)[1] != y).sum().item()\n",
    "        total_loss += loss.item() * X.shape[0]\n",
    "    return total_err / len(loader.dataset), total_loss / len(loader.dataset)\n",
    "\n",
    "\n",
    "def pgd_linf_rand(model, X, y, epsilon, alpha, num_iter, restarts):\n",
    "    \"\"\" Construct PGD adversarial examples on the samples X, with random restarts\"\"\"\n",
    "    max_loss = torch.zeros(y.shape[0]).to(y.device)\n",
    "    max_delta = torch.zeros_like(X)\n",
    "    \n",
    "    for i in range(restarts):\n",
    "        delta = torch.rand_like(X, requires_grad=True)\n",
    "        delta.data = delta.data * 2 * epsilon - epsilon\n",
    "        \n",
    "        for t in range(num_iter):\n",
    "            loss = nn.CrossEntropyLoss()(model(X + delta), y.long())\n",
    "            loss.backward()\n",
    "            delta.data = (delta + alpha*delta.grad.detach().sign()).clamp(-epsilon,epsilon)\n",
    "            delta.grad.zero_()\n",
    "        \n",
    "        all_loss = nn.CrossEntropyLoss(reduction='none')(model(X+delta),y.long())\n",
    "        max_delta[all_loss >= max_loss] = delta.detach()[all_loss >= max_loss]\n",
    "        max_loss = torch.max(max_loss, all_loss)\n",
    "        \n",
    "    return max_delta"
   ]
  },
  {
   "cell_type": "code",
   "execution_count": 4,
   "metadata": {},
   "outputs": [],
   "source": [
    "def plot_images(X,y,yp,M,N):\n",
    "    f,ax = plt.subplots(M,N, sharex=True, sharey=True, figsize=(N,M*1.3))\n",
    "    for i in range(M):\n",
    "        for j in range(N):\n",
    "            ax[i][j].imshow(1-X[i*N+j].cpu().numpy(), cmap=\"gray\")\n",
    "            title = ax[i][j].set_title(\"Pred: {}\".format(yp[i*N+j].max(dim=0)[1]))\n",
    "            plt.setp(title, color=('g' if yp[i*N+j].max(dim=0)[1] == y[i*N+j] else 'r'))\n",
    "            ax[i][j].set_axis_off()\n",
    "\n",
    "    plt.savefig(\"test.png\")"
   ]
  },
  {
   "cell_type": "code",
   "execution_count": null,
   "metadata": {},
   "outputs": [],
   "source": []
  },
  {
   "cell_type": "code",
   "execution_count": 5,
   "metadata": {},
   "outputs": [],
   "source": [
    "model = train_clf.model\n",
    "X_test = torch.Tensor(train_clf.test_images)\n",
    "y_test = torch.Tensor(train_clf.test_codes)\n"
   ]
  },
  {
   "cell_type": "code",
   "execution_count": 6,
   "metadata": {},
   "outputs": [
    {
     "data": {
      "text/plain": [
       "'\\nFinding nearest neighbours on the manifold\\nReference: https://github.com/davidstutz/disentangling-robustness-generalization/blob/220ff8a79a5f08665f4755dc76d4e592ae66c6d6/training/test_attack_classifier.py#L154\\n'"
      ]
     },
     "execution_count": 6,
     "metadata": {},
     "output_type": "execute_result"
    }
   ],
   "source": [
    "\"\"\"\n",
    "Finding nearest neighbours on the manifold\n",
    "Reference: https://github.com/davidstutz/disentangling-robustness-generalization/blob/220ff8a79a5f08665f4755dc76d4e592ae66c6d6/training/test_attack_classifier.py#L154\n",
    "\"\"\""
   ]
  },
  {
   "cell_type": "code",
   "execution_count": 7,
   "metadata": {},
   "outputs": [
    {
     "data": {
      "text/plain": [
       "IncrementalPCA(n_components=20)"
      ]
     },
     "execution_count": 7,
     "metadata": {},
     "output_type": "execute_result"
    }
   ],
   "source": [
    "X_train = train_clf.train_images\n",
    "y_train = train_clf.train_codes\n",
    "\n",
    "# Training a PCA model on randomly sampled 10000 images from the training set\n",
    "num_img_to_fit = 10000\n",
    "idx = np.random.randint(0, X_train.shape[0], size=num_img_to_fit)\n",
    "\n",
    "pca = IncrementalPCA(n_components=20) # n_components taken from David Stutz's code\n",
    "pca.fit(X_train[idx].reshape(X_train[idx].shape[0], -1))"
   ]
  },
  {
   "cell_type": "code",
   "execution_count": 31,
   "metadata": {},
   "outputs": [
    {
     "data": {
      "text/plain": [
       "NearestNeighbors(algorithm='kd_tree', n_neighbors=50)"
      ]
     },
     "execution_count": 31,
     "metadata": {},
     "output_type": "execute_result"
    }
   ],
   "source": [
    "# Transforming the training set based on the learned PCA model \n",
    "# Note: These will be used to approximate the manifold, since these\n",
    "# are what the classifier has been trained on\n",
    "X_train_latent = pca.transform(X_train.reshape(X_train.shape[0], -1))\n",
    "\n",
    "# Fitting a Nearest Neighbors object on the transformed latent samples\n",
    "NN = NearestNeighbors(n_neighbors=50, algorithm='kd_tree')\n",
    "NN.fit(X_train_latent)\n",
    "\n"
   ]
  },
  {
   "cell_type": "code",
   "execution_count": 57,
   "metadata": {},
   "outputs": [],
   "source": [
    "# Pick a perturbed sample\n",
    "ridx = np.random.randint(0, X_train.shape[0], size=(1,6))[0]\n",
    "rimg = X_train[ridx]\n",
    "rcode = y_train[ridx]"
   ]
  },
  {
   "cell_type": "code",
   "execution_count": 60,
   "metadata": {},
   "outputs": [
    {
     "data": {
      "text/plain": [
       "(6, 28, 28, 1)"
      ]
     },
     "execution_count": 60,
     "metadata": {},
     "output_type": "execute_result"
    }
   ],
   "source": [
    "rimg.shape"
   ]
  },
  {
   "cell_type": "code",
   "execution_count": 61,
   "metadata": {},
   "outputs": [],
   "source": [
    "rimg = torch.Tensor(rimg)\n",
    "rcode = torch.Tensor(rcode)"
   ]
  },
  {
   "cell_type": "code",
   "execution_count": 70,
   "metadata": {},
   "outputs": [],
   "source": [
    "model.cuda()\n",
    "rimg = rimg.cuda()\n",
    "rcode = rcode.cuda()\n",
    "delta = pgd_linf_rand(model, rimg, rcode, 0.1, 1e-2, 40, 10)\n",
    "model.cpu()\n",
    "rimg = rimg.cpu()\n",
    "rcode = rcode.cpu()\n"
   ]
  },
  {
   "cell_type": "code",
   "execution_count": 71,
   "metadata": {},
   "outputs": [],
   "source": [
    "model.cuda()\n",
    "with torch.no_grad():\n",
    "    \n",
    "    yp = model(rimg.cuda() + delta.cuda())\n",
    "    \n",
    "    model.cpu()"
   ]
  },
  {
   "cell_type": "code",
   "execution_count": 65,
   "metadata": {
    "scrolled": true
   },
   "outputs": [],
   "source": [
    "# X = torch.Tensor(train_clf.train_images)\n",
    "# y = torch.Tensor(train_clf.train_codes).long()\n",
    "# model.cuda()\n",
    "# X = X.cuda()\n",
    "# y = y.cuda()\n",
    "# delta = pgd_linf_rand(model, X[:1], y[:1], 0.1, 1e-2, 40, 10)\n",
    "# model.cpu()\n",
    "# X = X.cpu()\n",
    "# y = y.cpu()"
   ]
  },
  {
   "cell_type": "code",
   "execution_count": 72,
   "metadata": {},
   "outputs": [
    {
     "data": {
      "text/plain": [
       "(torch.Size([6, 10]), torch.Size([6, 28, 28, 1]), torch.Size([6]))"
      ]
     },
     "execution_count": 72,
     "metadata": {},
     "output_type": "execute_result"
    }
   ],
   "source": [
    "yp.shape, rimg.shape, rcode.shape"
   ]
  },
  {
   "cell_type": "code",
   "execution_count": 15,
   "metadata": {},
   "outputs": [
    {
     "name": "stdout",
     "output_type": "stream",
     "text": [
      "here\n"
     ]
    }
   ],
   "source": [
    "plot_images(X[:6], y[:6], yp[:6], 2, 3)\n",
    "\n",
    "\n"
   ]
  },
  {
   "cell_type": "code",
   "execution_count": 54,
   "metadata": {},
   "outputs": [
    {
     "data": {
      "text/plain": [
       "torch.Size([28, 28, 1])"
      ]
     },
     "execution_count": 54,
     "metadata": {},
     "output_type": "execute_result"
    }
   ],
   "source": []
  },
  {
   "cell_type": "code",
   "execution_count": 34,
   "metadata": {},
   "outputs": [],
   "source": [
    "a = np.arange(10)\n",
    "plt.plot(a)\n",
    "plt.show()"
   ]
  },
  {
   "cell_type": "code",
   "execution_count": 11,
   "metadata": {},
   "outputs": [
    {
     "data": {
      "image/png": "[encoded data removed]",
      "text/plain": [
       "<IPython.core.display.Image object>"
      ]
     },
     "execution_count": 11,
     "metadata": {},
     "output_type": "execute_result"
    }
   ],
   "source": [
    "from IPython.display import Image\n",
    "Image(filename='test.png') "
   ]
  },
  {
   "cell_type": "code",
   "execution_count": 44,
   "metadata": {},
   "outputs": [
    {
     "data": {
      "text/plain": [
       "torch.Size([28, 1])"
      ]
     },
     "execution_count": 44,
     "metadata": {},
     "output_type": "execute_result"
    }
   ],
   "source": [
    "(1-X[:6][0*3+0][0]).shape"
   ]
  },
  {
   "cell_type": "code",
   "execution_count": 13,
   "metadata": {},
   "outputs": [
    {
     "data": {
      "text/plain": [
       "torch.Size([28, 28, 1])"
      ]
     },
     "execution_count": 13,
     "metadata": {},
     "output_type": "execute_result"
    }
   ],
   "source": [
    "X[0].shape"
   ]
  },
  {
   "cell_type": "code",
   "execution_count": 19,
   "metadata": {},
   "outputs": [
    {
     "data": {
      "text/plain": [
       "(1, 28, 28, 1)"
      ]
     },
     "execution_count": 19,
     "metadata": {},
     "output_type": "execute_result"
    }
   ],
   "source": []
  },
  {
   "cell_type": "code",
   "execution_count": 17,
   "metadata": {},
   "outputs": [
    {
     "data": {
      "text/plain": [
       "(28, 28, 1)"
      ]
     },
     "execution_count": 17,
     "metadata": {},
     "output_type": "execute_result"
    }
   ],
   "source": [
    "rimg.shape"
   ]
  },
  {
   "cell_type": "code",
   "execution_count": null,
   "metadata": {},
   "outputs": [],
   "source": []
  }
 ],
 "metadata": {
  "kernelspec": {
   "display_name": "Python 3",
   "language": "python",
   "name": "python3"
  },
  "language_info": {
   "codemirror_mode": {
    "name": "ipython",
    "version": 3
   },
   "file_extension": ".py",
   "mimetype": "text/x-python",
   "name": "python",
   "nbconvert_exporter": "python",
   "pygments_lexer": "ipython3",
   "version": "3.6.9"
  }
 },
 "nbformat": 4,
 "nbformat_minor": 4
}
