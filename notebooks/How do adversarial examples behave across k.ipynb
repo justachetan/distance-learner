{
 "cells": [
  {
   "cell_type": "code",
   "execution_count": 6,
   "metadata": {},
   "outputs": [],
   "source": [
    "import os\n",
    "os.chdir(\"/data/adv_geom/src\")\n",
    "import json\n",
    "\n",
    "import torch\n",
    "\n",
    "import numpy as np\n",
    "import pandas as pd\n",
    "import matplotlib.pyplot as plt\n",
    "import seaborn as sns\n",
    "\n",
    "from datagen.synthetic.multiple.concentricspheres import ConcentricSpheres"
   ]
  },
  {
   "cell_type": "code",
   "execution_count": 7,
   "metadata": {},
   "outputs": [],
   "source": [
    "DUMP_DIR = \"/data/dumps/expC_dist_learner_for_adv_ex/rdm_concspheres_test/attack_perfs_on_runs/all_attack_perfs_fixed_07022022/\"\n",
    "master_df = None\n",
    "for file in os.listdir(DUMP_DIR):\n",
    "    if not file.endswith(\".json\"):\n",
    "        continue\n",
    "    if master_df is None:\n",
    "        master_df = pd.read_json(os.path.join(DUMP_DIR, file))\n",
    "    else:\n",
    "\n",
    "        tmp = pd.read_json(os.path.join(DUMP_DIR, file))\n",
    "        master_df = pd.concat([master_df, tmp], ignore_index=True)"
   ]
  },
  {
   "cell_type": "code",
   "execution_count": 10,
   "metadata": {},
   "outputs": [
    {
     "data": {
      "text/plain": [
       "'/data/dumps/expC_dist_learner_for_adv_ex/rdm_concspheres_test/rdm_concspheres_k50n500_noninfdist/2/attack_perf/atk_flavor=std_pgd,atk_routine=my,eps=0.01,eps_iter=0.005,nb_iter=100,norm=2,restarts=1,verbose=False,task=clf'"
      ]
     },
     "execution_count": 10,
     "metadata": {},
     "output_type": "execute_result"
    }
   ],
   "source": [
    "master_df[\"result_dir\"][0]"
   ]
  },
  {
   "cell_type": "code",
   "execution_count": null,
   "metadata": {},
   "outputs": [],
   "source": []
  }
 ],
 "metadata": {
  "kernelspec": {
   "display_name": "Python 3",
   "language": "python",
   "name": "python3"
  },
  "language_info": {
   "codemirror_mode": {
    "name": "ipython",
    "version": 3
   },
   "file_extension": ".py",
   "mimetype": "text/x-python",
   "name": "python",
   "nbconvert_exporter": "python",
   "pygments_lexer": "ipython3",
   "version": "3.6.9"
  }
 },
 "nbformat": 4,
 "nbformat_minor": 4
}
