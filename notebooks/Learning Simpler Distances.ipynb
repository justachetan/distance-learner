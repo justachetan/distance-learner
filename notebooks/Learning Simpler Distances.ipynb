{
 "cells": [
  {
   "cell_type": "code",
   "execution_count": 4,
   "metadata": {},
   "outputs": [],
   "source": [
    "import os\n",
    "import sys\n",
    "import time\n",
    "import copy\n",
    "import random\n",
    "import argparse\n",
    "\n",
    "from collections import OrderedDict\n",
    "\n",
    "import numpy as np\n",
    "\n",
    "import torch\n",
    "import torch.nn as nn\n",
    "import torch.nn.functional as F\n",
    "import torch.optim as optim\n",
    "from torch.utils.data import Dataset, DataLoader, TensorDataset\n",
    "from torch.utils.tensorboard import SummaryWriter\n",
    "\n",
    "\n",
    "import torchvision\n",
    "import torchvision.transforms as transforms\n",
    "import torchvision.transforms.functional as TF\n",
    "from torchvision import datasets\n",
    "\n",
    "import PIL\n",
    "\n",
    "import matplotlib\n",
    "from mpl_toolkits import mplot3d\n",
    "# matplotlib.use('Agg')\n",
    "import matplotlib.pyplot as plt\n",
    "\n",
    "import seaborn as sns\n",
    "\n",
    "from livelossplot import PlotLosses\n",
    "\n",
    "from sklearn.neighbors import NearestNeighbors\n",
    "from sklearn.decomposition import IncrementalPCA\n",
    "\n",
    "from sklearn.metrics import mean_squared_error, f1_score, accuracy_score, classification_report\n",
    "\n",
    "from tqdm import tqdm\n",
    "\n",
    "sys.path.append(\"../src/expB/\")\n",
    "from spheres_v2 import RandomSphere\n",
    "from ptcifar.models import *\n",
    "from learn_mfld_distance import train, test\n",
    "from myNNs import *\n",
    "\n",
    "SEED = 42\n",
    "torch.manual_seed(SEED)\n",
    "random.seed(SEED)\n",
    "np.random.seed(SEED)\n",
    "\n"
   ]
  },
  {
   "cell_type": "markdown",
   "metadata": {},
   "source": [
    "# Contents\n",
    "\n",
    "- [For line embedded in 2D](#For-line-embedded-in-2D)\n",
    "- [For line embedded in 3D](#For-line-embedded-in-3D)\n",
    "- [For a circle in 2D](#For-a-circle-in-2D)\n",
    "- [For a circle genrated by `RandomSphere` in unit square](#For-a-circle-genrated-by-RandomSphere-in-unit-square)\n",
    "- [For a two circles genrated by `TwoRandomSpheres` in unit square](#For-a-two-circles-genrated-by-TwoRandomSpheres-in-unit-square)\n"
   ]
  },
  {
   "cell_type": "code",
   "execution_count": null,
   "metadata": {},
   "outputs": [],
   "source": []
  },
  {
   "cell_type": "code",
   "execution_count": 6,
   "metadata": {},
   "outputs": [
    {
     "data": {
      "text/plain": [
       "device(type='cuda', index=1)"
      ]
     },
     "execution_count": 6,
     "metadata": {},
     "output_type": "execute_result"
    }
   ],
   "source": []
  },
  {
   "cell_type": "markdown",
   "metadata": {},
   "source": [
    "# For line embedded in 2D"
   ]
  },
  {
   "cell_type": "code",
   "execution_count": null,
   "metadata": {},
   "outputs": [],
   "source": [
    "def line2D(x, y, a=1, b=-1, c=0, signed=False):\n",
    "    \"\"\"returns distance from line ax + by + c = 0\"\"\"\n",
    "    \n",
    "    dist = (a * x + b * y + c) / (a^2 + b^2)**(0.5)\n",
    "    if signed:\n",
    "        return dist\n",
    "    else:\n",
    "        return np.abs(dist)\n",
    "    \n",
    "def gen_line2D(a=1, b=-1, c=0, n=50):\n",
    "    x = np.linspace(0, 1, n)\n",
    "    \n",
    "    y = (-c - (a * x)) / b\n",
    "    \n",
    "    return x, y\n",
    "\n",
    "\n",
    "\n",
    "x, y = gen_line2D()\n",
    "\n"
   ]
  },
  {
   "cell_type": "code",
   "execution_count": null,
   "metadata": {},
   "outputs": [],
   "source": [
    "NUM_TRAIN = 50000\n",
    "NUM_VAL = 10000\n",
    "\n",
    "\n",
    "\n"
   ]
  },
  {
   "cell_type": "code",
   "execution_count": null,
   "metadata": {},
   "outputs": [],
   "source": [
    "np.hstack((np.ones((2)), np.zeros((2))))\n",
    "\n",
    "\n"
   ]
  },
  {
   "cell_type": "code",
   "execution_count": null,
   "metadata": {},
   "outputs": [],
   "source": [
    "train_points = np.random.uniform(size=(NUM_TRAIN//2, 2))\n",
    "train_distances = line2D(train_points[:, 0], train_points[:, 1])\n",
    "on_line_x, on_line_y = gen_line2D(n=NUM_TRAIN//2)\n",
    "on_line = np.zeros((NUM_TRAIN//2, 2))\n",
    "on_line[:, 0], on_line[:, 1] = on_line_x, on_line_y\n",
    "train_points = np.vstack((train_points, on_line))\n",
    "train_distances = np.hstack((train_distances, np.zeros(NUM_TRAIN//2))).reshape(-1, 1)\n",
    "\n",
    "\n",
    "val_points = np.random.uniform(size=(NUM_VAL//2, 2))\n",
    "val_distances = line2D(val_points[:, 0], val_points[:, 1])\n",
    "on_line_x, on_line_y = gen_line2D(n=NUM_VAL//2)\n",
    "on_line = np.zeros((NUM_VAL//2, 2))\n",
    "on_line[:, 0], on_line[:, 1] = on_line_x, on_line_y\n",
    "val_points = np.vstack((val_points, on_line))\n",
    "val_distances = np.hstack((val_distances, np.zeros(NUM_VAL//2))).reshape(-1, 1)\n"
   ]
  },
  {
   "cell_type": "code",
   "execution_count": null,
   "metadata": {},
   "outputs": [],
   "source": [
    "plt.scatter(train_points[:, 0], train_points[:, 1], s=0.1)\n",
    "# plt.plot(x, y, '*-', c=\"red\")\n",
    "plt.show()\n",
    "\n",
    "\n"
   ]
  },
  {
   "cell_type": "code",
   "execution_count": null,
   "metadata": {},
   "outputs": [],
   "source": [
    "train_points = torch.from_numpy(train_points).float()\n",
    "train_distances = torch.from_numpy(train_distances).float()\n",
    "\n",
    "\n",
    "val_points = torch.from_numpy(val_points).float()\n",
    "val_distances = torch.from_numpy(val_distances).float()\n"
   ]
  },
  {
   "cell_type": "code",
   "execution_count": null,
   "metadata": {},
   "outputs": [],
   "source": []
  },
  {
   "cell_type": "code",
   "execution_count": null,
   "metadata": {},
   "outputs": [],
   "source": [
    "train_dataset = TensorDataset(train_points, train_distances)\n",
    "val_dataset = TensorDataset(val_points, val_distances)\n",
    "\n",
    "train_dl = DataLoader(train_dataset, num_workers=True, shuffle=True, batch_size=512)\n",
    "val_dl = DataLoader(val_dataset, num_workers=True, shuffle=True, batch_size=512)\n",
    "\n",
    "dataloaders = {\n",
    "    \"train\": train_dl,\n",
    "    \"val\": val_dl\n",
    "}\n",
    "\n",
    "\n",
    "device = torch.device(\"cuda:0\")\n",
    "model = MLP(input_size=2, output_size=1, use_tanh=False)\n",
    "\n",
    "loss_func = nn.MSELoss()\n",
    "\n",
    "LEARNING_RATE = 1e-5\n",
    "optimizer = optim.Adam(model.parameters(), lr=1e-5)\n",
    "# optimizer = optim.SGD(model.parameters(), lr=1e-2, momentum=0.9)\n",
    "\n",
    "NUM_EPOCHS = 500\n",
    "scheduler_params = {\"warmup\": 10, \"cooldown\": 250}\n",
    "lr_sched_factor = lambda epoch: epoch / (scheduler_params[\"warmup\"]) if epoch <= scheduler_params[\"warmup\"] else (1 if epoch > scheduler_params[\"warmup\"] and epoch < scheduler_params[\"cooldown\"] else max(0, 1 + (1 / (scheduler_params[\"cooldown\"] - NUM_EPOCHS)) * (epoch - scheduler_params[\"cooldown\"])))\n",
    "\n",
    "scheduler = optim.lr_scheduler.LambdaLR(optimizer, lr_sched_factor)\n",
    "\n",
    "NAME = \"MLP_Line_model{hidden_sizes=512x4}\"\n",
    "SAVE_DIR = \"/azuredrive/dumps/expB_learning_distance_from_mfld/\"\n",
    "\n",
    "task = \"regression\"\n",
    "\n"
   ]
  },
  {
   "cell_type": "code",
   "execution_count": null,
   "metadata": {},
   "outputs": [],
   "source": [
    "model, optimizer, train_loss_matrix, val_loss_matrix = train(model=model, optimizer=optimizer, loss_func=loss_func, dataloaders=dataloaders,\\\n",
    "                 device=device, task=task,num_epochs=NUM_EPOCHS, save_dir=SAVE_DIR,\\\n",
    "                 name=NAME, scheduler=scheduler, scheduler_params=scheduler_params)\n",
    "\n"
   ]
  },
  {
   "cell_type": "code",
   "execution_count": null,
   "metadata": {},
   "outputs": [],
   "source": [
    "\n",
    "\n",
    "\n"
   ]
  },
  {
   "cell_type": "code",
   "execution_count": null,
   "metadata": {},
   "outputs": [],
   "source": [
    "# ! rm -rf /azuredrive/dumps/expB_learning_distance_from_mfld/MLP_Line_model\\{hidden_sizes\\=512x4\\}"
   ]
  },
  {
   "cell_type": "markdown",
   "metadata": {},
   "source": [
    "# For line embedded in 3D"
   ]
  },
  {
   "cell_type": "code",
   "execution_count": null,
   "metadata": {},
   "outputs": [],
   "source": [
    "def line3D(c, a=np.array([1, 1, 1]), b=np.array([0,0,0])):\n",
    "    \"\"\"returns distance from line with end points at `a` and `b`\"\"\"\n",
    "    \n",
    "    t = np.dot((c - a), (b - a)) / (np.linalg.norm(b - a, ord=2) ** 2)\n",
    "    x = a + t.reshape(-1, 1) * (b - a)\n",
    "    return np.linalg.norm(c - x, ord=2, axis=1)\n",
    "    \n",
    "\n",
    "def gen_line3D(a=np.array([1, 1, 1]), b=np.array([0,0,0]), n=50):\n",
    "    \n",
    "    x = np.linspace(0, 1, n)\n",
    "    \n",
    "    y = ((x - a[0]) / (b[0] - a[0])) * (b[1] - a[1]) + a[1]\n",
    "    \n",
    "    z = ((x - a[0]) / (b[0] - a[0])) * (b[2] - a[2]) + a[2]\n",
    "    \n",
    "    return x, y, z\n",
    "\n"
   ]
  },
  {
   "cell_type": "code",
   "execution_count": null,
   "metadata": {},
   "outputs": [],
   "source": [
    "x, y, z = gen_line3D()\n",
    "\n",
    "NUM_TRAIN = 50000\n",
    "NUM_VAL = 10000\n",
    "\n",
    "\n",
    "train_points = np.random.uniform(size=(NUM_TRAIN//2, 3))\n",
    "train_distances = line3D(train_points)\n",
    "on_line_x, on_line_y, on_line_z = gen_line3D(n=NUM_TRAIN//2)\n",
    "on_line = np.zeros((NUM_TRAIN//2, 3))\n",
    "on_line[:, 0], on_line[:, 1], on_line[:, 2] = on_line_x, on_line_y, on_line_z\n",
    "train_points = np.vstack((train_points, on_line))\n",
    "train_distances = np.hstack((train_distances, np.zeros(NUM_TRAIN//2))).reshape(-1, 1)\n",
    "\n",
    "\n",
    "val_points = np.random.uniform(size=(NUM_VAL//2, 3))\n",
    "val_distances = line3D(val_points)\n",
    "on_line_x, on_line_y, on_line_z = gen_line3D(n=NUM_VAL//2)\n",
    "on_line = np.zeros((NUM_VAL//2, 3))\n",
    "on_line[:, 0], on_line[:, 1], on_line[:, 2] = on_line_x, on_line_y, on_line_z\n",
    "val_points = np.vstack((val_points, on_line))\n",
    "val_distances = np.hstack((val_distances, np.zeros(NUM_VAL//2))).reshape(-1, 1)\n",
    "\n",
    "\n",
    "\n",
    "train_points = torch.from_numpy(train_points).float()\n",
    "train_distances = torch.from_numpy(train_distances).float()\n",
    "val_points = torch.from_numpy(val_points).float()\n",
    "val_distances = torch.from_numpy(val_distances).float()\n",
    "\n",
    "\n",
    "fig = plt.figure(figsize = (10, 7))\n",
    "ax1 = plt.axes(projection =\"3d\")\n",
    "ax1.scatter3D(train_points[:, 0], train_points[:, 1], train_points[:, 2], s=0.1)\n",
    "# plt.plot(x, y, '*-', c=\"red\")\n",
    "plt.show()"
   ]
  },
  {
   "cell_type": "code",
   "execution_count": null,
   "metadata": {},
   "outputs": [],
   "source": [
    "train_dataset = TensorDataset(train_points, train_distances)\n",
    "val_dataset = TensorDataset(val_points, val_distances)\n",
    "\n",
    "train_dl = DataLoader(train_dataset, num_workers=True, shuffle=True, batch_size=512)\n",
    "val_dl = DataLoader(val_dataset, num_workers=True, shuffle=True, batch_size=512)\n",
    "\n",
    "dataloaders = {\n",
    "    \"train\": train_dl,\n",
    "    \"val\": val_dl\n",
    "}\n",
    "\n",
    "\n",
    "device = torch.device(\"cuda:0\")\n",
    "model = MLP(input_size=3, output_size=1, use_tanh=False)\n",
    "\n",
    "loss_func = nn.MSELoss()\n",
    "\n",
    "LEARNING_RATE = 1e-5\n",
    "optimizer = optim.Adam(model.parameters(), lr=1e-5)\n",
    "# optimizer = optim.SGD(model.parameters(), lr=1e-2, momentum=0.9)\n",
    "\n",
    "NUM_EPOCHS = 500\n",
    "scheduler_params = {\"warmup\": 10, \"cooldown\": 250}\n",
    "lr_sched_factor = lambda epoch: epoch / (scheduler_params[\"warmup\"]) if epoch <= scheduler_params[\"warmup\"] else (1 if epoch > scheduler_params[\"warmup\"] and epoch < scheduler_params[\"cooldown\"] else max(0, 1 + (1 / (scheduler_params[\"cooldown\"] - NUM_EPOCHS)) * (epoch - scheduler_params[\"cooldown\"])))\n",
    "\n",
    "scheduler = optim.lr_scheduler.LambdaLR(optimizer, lr_sched_factor)\n",
    "\n",
    "NAME = \"MLP_Line3D_model{hidden_sizes=512x4}\"\n",
    "SAVE_DIR = \"/azuredrive/dumps/expB_learning_distance_from_mfld/\"\n",
    "\n",
    "task = \"regression\"\n",
    "\n"
   ]
  },
  {
   "cell_type": "code",
   "execution_count": null,
   "metadata": {},
   "outputs": [],
   "source": [
    "model, optimizer, train_loss_matrix, val_loss_matrix = train(model=model, optimizer=optimizer, loss_func=loss_func, dataloaders=dataloaders,\\\n",
    "                 device=device, task=task,num_epochs=NUM_EPOCHS, save_dir=SAVE_DIR,\\\n",
    "                 name=NAME, scheduler=scheduler, scheduler_params=scheduler_params)\n",
    "\n"
   ]
  },
  {
   "cell_type": "markdown",
   "metadata": {},
   "source": [
    "# For a circle in 2D\n",
    "\n",
    "\n",
    "\n"
   ]
  },
  {
   "cell_type": "code",
   "execution_count": null,
   "metadata": {},
   "outputs": [],
   "source": [
    "def circle2D(x, c=np.array([0.5, 0.5]), r=0.4):\n",
    "    \"\"\"returns distance of a point from a circle\"\"\"\n",
    "    return np.abs(np.linalg.norm(x - c, ord=2, axis=1) - r)\n",
    "\n",
    "def gen_circle2D(c=np.array([0.5, 0.5]), r=0.4, n=50000):\n",
    "    \"\"\"returns points on a circle\"\"\"\n",
    "    \n",
    "    points = np.random.normal(size=(n, 2))\n",
    "    points = (r * (points - c) / np.linalg.norm(points - c, ord=2, axis=1).reshape(-1, 1)) + c\n",
    "    \n",
    "    return points[:, 0], points[:, 1]"
   ]
  },
  {
   "cell_type": "code",
   "execution_count": null,
   "metadata": {},
   "outputs": [],
   "source": [
    "NUM_TRAIN = 1000000\n",
    "NUM_VAL = 500000\n",
    "\n",
    "\n",
    "train_points = np.random.uniform(low=-1000, high=1000, size=(NUM_TRAIN//2, 2))\n",
    "train_distances = circle2D(train_points, r=250, c=np.array([0, 0]))\n",
    "on_line_x, on_line_y = gen_circle2D(r=250, c=np.array([0, 0]) ,n=NUM_TRAIN//2)\n",
    "on_line = np.zeros((NUM_TRAIN//2, 2))\n",
    "on_line[:, 0], on_line[:, 1] = on_line_x, on_line_y\n",
    "train_points = np.vstack((train_points, on_line))\n",
    "train_distances = np.hstack((train_distances, np.zeros(NUM_TRAIN//2))).reshape(-1, 1)\n",
    "\n",
    "max_distance = np.max(train_distances)\n",
    "train_distances_norm = train_distances / max_distance\n",
    "train_points_norm = train_points / max_distance\n",
    "\n",
    "\n",
    "val_points = np.random.uniform(low=-1000, high=1000, size=(NUM_VAL//2, 2))\n",
    "val_distances = circle2D(val_points, r=250, c=np.array([0, 0]))\n",
    "on_line_x, on_line_y = gen_circle2D(r=250, c=np.array([0, 0]), n=NUM_VAL//2)\n",
    "on_line = np.zeros((NUM_VAL//2, 2))\n",
    "on_line[:, 0], on_line[:, 1] = on_line_x, on_line_y\n",
    "val_points = np.vstack((val_points, on_line))\n",
    "val_distances = np.hstack((val_distances, np.zeros(NUM_VAL//2))).reshape(-1, 1)\n",
    "\n",
    "val_distances_norm = val_distances / max_distance\n",
    "val_points_norm = val_points / max_distance\n",
    "\n",
    "\n",
    "train_points = torch.from_numpy(train_points).float()\n",
    "train_points_norm = torch.from_numpy(train_points_norm).float()\n",
    "train_distances = torch.from_numpy(train_distances).float()\n",
    "train_distances_norm = torch.from_numpy(train_distances_norm).float()\n",
    "\n",
    "\n",
    "val_points = torch.from_numpy(val_points).float()\n",
    "val_points_norm = torch.from_numpy(val_points_norm).float()\n",
    "val_distances = torch.from_numpy(val_distances).float()\n",
    "val_distances_norm = torch.from_numpy(val_distances_norm).float()\n",
    "\n",
    "# fig = plt.figure(figsize = (10, 7))\n",
    "# ax1 = plt.axes(projection =\"3d\")\n",
    "# ax1.scatter3D(train_points[:, 0], train_points[:, 1], train_points[:, 2], s=0.1)\n",
    "# plt.plot(x, y, '*-', c=\"red\")\n",
    "plt.scatter(train_points_norm[:, 0], train_points_norm[:, 1], s=0.001)\n",
    "plt.show()\n",
    "plt.scatter(val_points_norm[:, 0], val_points_norm[:, 1], s=0.001)\n",
    "\n",
    "plt.show()"
   ]
  },
  {
   "cell_type": "code",
   "execution_count": null,
   "metadata": {},
   "outputs": [],
   "source": [
    "train_points_norm[train_distances_norm.reshape(-1) == 0.0, 0].shape"
   ]
  },
  {
   "cell_type": "code",
   "execution_count": null,
   "metadata": {},
   "outputs": [],
   "source": [
    "plt.scatter(train_points_norm[train_distances_norm.reshape(-1) < 0.01, 0], train_points_norm[train_distances_norm.reshape(-1) < 0.01, 1], s=0.001)\n",
    "plt.show()\n",
    "plt.scatter(val_points_norm[:, 0], val_points_norm[:, 1], s=0.001)\n",
    "\n",
    "plt.show()"
   ]
  },
  {
   "cell_type": "code",
   "execution_count": null,
   "metadata": {},
   "outputs": [],
   "source": [
    "train_dataset = TensorDataset(train_points_norm, train_distances_norm)\n",
    "val_dataset = TensorDataset(val_points_norm, val_distances_norm)\n",
    "\n",
    "train_dl = DataLoader(train_dataset, num_workers=True, shuffle=True, batch_size=512)\n",
    "val_dl = DataLoader(val_dataset, num_workers=True, shuffle=True, batch_size=512)\n",
    "\n",
    "dataloaders = {\n",
    "    \"train\": train_dl,\n",
    "    \"val\": val_dl\n",
    "}\n",
    "\n",
    "\n",
    "device = torch.device(\"cuda:0\")\n",
    "model = MLP(input_sizeinput_size=2, output_size=1, use_tanh=False, hidden_sizes=[512]*4)\n",
    "\n",
    "\n",
    "loss_func = nn.MSELoss()\n",
    "\n",
    "LEARNING_RATE = 1e-5\n",
    "optimizer = optim.Adam(model.parameters(), lr=LEARNING_RATE)\n",
    "# optimizer = optim.SGD(model.parameters(), lr=1e-2, momentum=0.9)\n",
    "\n",
    "NUM_EPOCHS = 500\n",
    "scheduler_params = {\"warmup\": 10, \"cooldown\": 250}\n",
    "lr_sched_factor = lambda epoch: epoch / (scheduler_params[\"warmup\"]) if epoch <= scheduler_params[\"warmup\"] else (1 if epoch > scheduler_params[\"warmup\"] and epoch < scheduler_params[\"cooldown\"] else max(0, 1 + (1 / (scheduler_params[\"cooldown\"] - NUM_EPOCHS)) * (epoch - scheduler_params[\"cooldown\"])))\n",
    "\n",
    "scheduler = optim.lr_scheduler.LambdaLR(optimizer, lr_sched_factor)\n",
    "\n",
    "NAME = \"MLP_Circle2D_model{hidden_sizes=512x4}\"\n",
    "SAVE_DIR = \"/azuredrive/dumps/expB_learning_distance_from_mfld/\"\n",
    "\n",
    "task = \"regression\"\n",
    "\n"
   ]
  },
  {
   "cell_type": "code",
   "execution_count": null,
   "metadata": {},
   "outputs": [],
   "source": [
    "model, optimizer, train_loss_matrix, val_loss_matrix = train(model=model, optimizer=optimizer, loss_func=loss_func, dataloaders=dataloaders,\\\n",
    "                 device=device, task=task,num_epochs=NUM_EPOCHS, save_dir=SAVE_DIR,\\\n",
    "                 name=NAME, scheduler=scheduler, scheduler_params=scheduler_params)\n",
    "\n"
   ]
  },
  {
   "cell_type": "code",
   "execution_count": null,
   "metadata": {},
   "outputs": [],
   "source": [
    "# ! rm -rf /azuredrive/dumps/expB_learning_distance_from_mfld/MLP_Circle2D_model\\{hidden_sizes\\=512x4\\}"
   ]
  },
  {
   "cell_type": "markdown",
   "metadata": {},
   "source": [
    "# For a circle genrated by `RandomSphere` in unit square"
   ]
  },
  {
   "cell_type": "code",
   "execution_count": null,
   "metadata": {},
   "outputs": [],
   "source": [
    "os.chdir(\"../src/expB/\")\n",
    "\n"
   ]
  },
  {
   "cell_type": "code",
   "execution_count": null,
   "metadata": {},
   "outputs": [],
   "source": [
    "# 3, 5, 10, 25, 50, 100, 1000\n",
    "\n",
    "%run -i spheres_v2.py --config ./data_configs/sphere_in_unit_square_config_near_zero.json --save_dir /azuredrive/datasets/expB/one_sphere/r=0.5,max_norm=0.25,D=0.2,n=3072,k=2,transformed,nearzero/\n",
    "# %run -i spheres_v2.py --config ./data_configs/sphere_config.json --save_dir /azuredrive/datasets/expB/one_sphere/r=0.5,max_norm=0.25,D=0.2,n=3072,k=2,transformed,nearzero/\n"
   ]
  },
  {
   "cell_type": "code",
   "execution_count": null,
   "metadata": {},
   "outputs": [],
   "source": [
    "plt.scatter(train_set.normed_points_n[:, 0], train_set.normed_points_n[:, 1], s=0.01)\n",
    "plt.scatter(train_set.fix_center[0], train_set.fix_center[1])"
   ]
  },
  {
   "cell_type": "code",
   "execution_count": null,
   "metadata": {},
   "outputs": [],
   "source": [
    "plt.hist(train_set.distances.reshape(-1).numpy())\n",
    "plt.show()\n",
    "\n"
   ]
  },
  {
   "cell_type": "code",
   "execution_count": null,
   "metadata": {},
   "outputs": [],
   "source": [
    "# fix_center = np.array([0.75] * train_set.n)\n",
    "\n",
    "# train_set.points_n = (train_set.points_n - train_set.x_cn + fix_center).float()\n",
    "# val_set.points_n = (val_set.points_n - val_set.x_cn + fix_center).float()\n",
    "\n"
   ]
  },
  {
   "cell_type": "code",
   "execution_count": null,
   "metadata": {},
   "outputs": [],
   "source": [
    "\n",
    "\n",
    "train_dl = DataLoader(train_set, num_workers=True, shuffle=True, batch_size=512)\n",
    "val_dl = DataLoader(val_set, num_workers=True, shuffle=True, batch_size=512)\n",
    "\n",
    "dataloaders = {\n",
    "    \"train\": train_dl,\n",
    "    \"val\": val_dl\n",
    "}\n",
    "\n",
    "\n",
    "feature_name = \"points_n\"\n",
    "target_name = \"distances\"\n",
    "\n",
    "device = torch.device(\"cuda:0\")\n",
    "# model = MLP(input_size=train_set.points_n.shape[1], output_size=1, use_tanh=False, use_relu=False, hidden_sizes=[512]*4)\n",
    "# model = MLPwithNormalisation(input_size=train_set.points_n.shape[1], output_size=1, weight_norm=False, use_tanh=False, use_relu=False, hidden_sizes=[1024]*2)\n",
    "model = ResNet18(num_classes=1, use_sigmoid=False, use_tanh=False, use_relu=True)\n",
    "\n",
    "loss_func = nn.MSELoss()\n",
    "\n",
    "LEARNING_RATE = 1e-6\n",
    "optimizer = optim.Adam(model.parameters(), lr=LEARNING_RATE)\n",
    "# optimizer = optim.SGD(model.parameters(), lr=1e-2, momentum=0.9)\n",
    "\n",
    "NUM_EPOCHS = 500\n",
    "scheduler_params = {\"warmup\": 10, \"cooldown\": 300}\n",
    "lr_sched_factor = lambda epoch: epoch / (scheduler_params[\"warmup\"]) if epoch <= scheduler_params[\"warmup\"] else (1 if epoch > scheduler_params[\"warmup\"] and epoch < scheduler_params[\"cooldown\"] else max(0, 1 + (1 / (scheduler_params[\"cooldown\"] - NUM_EPOCHS)) * (epoch - scheduler_params[\"cooldown\"])))\n",
    "\n",
    "scheduler = optim.lr_scheduler.LambdaLR(optimizer, lr_sched_factor)\n",
    "\n",
    "NAME = \"test_CIFARResNet18_model{relu_last,lr=1e-6}_data{spheres_in_unit_cube;clamped;with_transforms;k=2;r=0.5;nearzero}\"\n",
    "SAVE_DIR = \"/azuredrive/dumps/expB_learning_distance_from_mfld/\"\n",
    "\n",
    "task = \"regression\"\n",
    "\n"
   ]
  },
  {
   "cell_type": "code",
   "execution_count": null,
   "metadata": {},
   "outputs": [],
   "source": [
    "model, optimizer, train_loss_matrix, val_loss_matrix = train(model=model, optimizer=optimizer, loss_func=loss_func, dataloaders=dataloaders,\\\n",
    "                 device=device, task=task,num_epochs=NUM_EPOCHS, save_dir=SAVE_DIR,\\\n",
    "                 name=NAME, scheduler=scheduler, scheduler_params=scheduler_params, feature_name=feature_name, target_name=target_name)\n",
    "\n"
   ]
  },
  {
   "cell_type": "markdown",
   "metadata": {},
   "source": [
    "# For a two circles genrated by `TwoRandomSpheres` in unit square"
   ]
  },
  {
   "cell_type": "code",
   "execution_count": 2,
   "metadata": {},
   "outputs": [],
   "source": [
    "os.chdir(\"../src/expB/\")"
   ]
  },
  {
   "cell_type": "code",
   "execution_count": 3,
   "metadata": {},
   "outputs": [
    {
     "name": "stdout",
     "output_type": "stream",
     "text": [
      "center generated\n",
      "points generated\n",
      "pre-images generated\n",
      "[0. 1. 1. ... 0. 1. 0.]\n",
      "embedding done\n",
      "center generated\n",
      "points generated\n",
      "pre-images generated\n",
      "[0. 0. 0. ... 1. 0. 1.]\n",
      "embedding done\n",
      "center generated\n",
      "points generated\n",
      "pre-images generated\n",
      "[0. 0. 0. ... 1. 0. 0.]\n",
      "embedding done\n",
      "center generated\n",
      "points generated\n",
      "pre-images generated\n",
      "[1. 0. 1. ... 0. 0. 0.]\n",
      "embedding done\n",
      "center generated\n",
      "points generated\n",
      "pre-images generated\n",
      "[1. 1. 1. ... 0. 0. 0.]\n",
      "embedding done\n",
      "center generated\n",
      "points generated\n",
      "pre-images generated\n",
      "[1. 0. 1. ... 0. 0. 0.]\n",
      "embedding done\n"
     ]
    }
   ],
   "source": [
    "%run -i spheres_v2.py --twospheres --config ./data_configs/2spheres_config.json --save_dir /azuredrive/datasets/expB/two_spheres/test_std_normal/\n",
    "\n"
   ]
  },
  {
   "cell_type": "code",
   "execution_count": null,
   "metadata": {},
   "outputs": [],
   "source": [
    "plt.figure(figsize=(15, 10))\n",
    "plt.scatter(train_set.normed_all_points[:, 0], train_set.normed_all_points[:, 1], s=0.001)\n",
    "plt.show()"
   ]
  },
  {
   "cell_type": "code",
   "execution_count": 4,
   "metadata": {},
   "outputs": [
    {
     "data": {
      "image/png": "[encoded data removed]",
      "text/plain": [
       "<Figure size 432x288 with 1 Axes>"
      ]
     },
     "metadata": {
      "needs_background": "light"
     },
     "output_type": "display_data"
    }
   ],
   "source": [
    "plt.hist(train_set.normed_all_distances[:, 0].numpy().reshape(-1))\n",
    "plt.show()"
   ]
  },
  {
   "cell_type": "code",
   "execution_count": 5,
   "metadata": {},
   "outputs": [],
   "source": [
    "\n",
    "\n",
    "train_dl = DataLoader(train_set, num_workers=True, shuffle=True, batch_size=512)\n",
    "val_dl = DataLoader(val_set, num_workers=True, shuffle=True, batch_size=512)\n",
    "\n",
    "dataloaders = {\n",
    "    \"train\": train_dl,\n",
    "    \"val\": val_dl\n",
    "}\n",
    "\n",
    "\n",
    "device = torch.device(\"cuda:0\")\n",
    "# model = MLP(input_size=train_set.normed_all_points.shape[1], output_size=2, use_tanh=False, use_relu=False, hidden_sizes=[512]*4)\n",
    "model = MLPwithNormalisation(input_size=train_set.normed_all_points.shape[1], output_size=2, weight_norm=False, use_tanh=False, use_relu=False, hidden_sizes=[1024]*2)\n",
    "# model = ResNet18(num_classes=1, use_sigmoid=True)\n",
    "\n",
    "loss_func = nn.MSELoss()\n",
    "\n",
    "LEARNING_RATE = 1e-5\n",
    "optimizer = optim.Adam(model.parameters(), lr=LEARNING_RATE)\n",
    "# optimizer = optim.SGD(model.parameters(), lr=1e-2, momentum=0.9)\n",
    "\n",
    "NUM_EPOCHS = 500\n",
    "scheduler_params = {\"warmup\": 10, \"cooldown\": 300}\n",
    "lr_sched_factor = lambda epoch: epoch / (scheduler_params[\"warmup\"]) if epoch <= scheduler_params[\"warmup\"] else (1 if epoch > scheduler_params[\"warmup\"] and epoch < scheduler_params[\"cooldown\"] else max(0, 1 + (1 / (scheduler_params[\"cooldown\"] - NUM_EPOCHS)) * (epoch - scheduler_params[\"cooldown\"])))\n",
    "\n",
    "scheduler = optim.lr_scheduler.LambdaLR(optimizer, lr_sched_factor)\n",
    "\n",
    "NAME = \"test_MLPwithNormalization_model{hidden_sizes=512x4,sigmoid_last,batch_norm}_data{2spheres_in_unit_cube;clamped;with_transforms;n=750;k=2;r=0.5;D=0.2;stdnormal;normalised}\"\n",
    "SAVE_DIR = \"/azuredrive/dumps/expB_learning_distance_from_mfld/\"\n",
    "\n",
    "task = \"regression\"\n",
    "\n"
   ]
  },
  {
   "cell_type": "code",
   "execution_count": 6,
   "metadata": {},
   "outputs": [
    {
     "name": "stderr",
     "output_type": "stream",
     "text": [
      "100%|██████████| 500/500 [41:30<00:00,  4.98s/it]\n"
     ]
    }
   ],
   "source": [
    "model, optimizer, train_loss_matrix, val_loss_matrix = train(model=model, optimizer=optimizer, loss_func=loss_func, dataloaders=dataloaders,\\\n",
    "                 device=device, task=task,num_epochs=NUM_EPOCHS, save_dir=SAVE_DIR,\\\n",
    "                 name=NAME, scheduler=scheduler, scheduler_params=scheduler_params)\n",
    "\n"
   ]
  },
  {
   "cell_type": "code",
   "execution_count": 10,
   "metadata": {},
   "outputs": [
    {
     "name": "stdout",
     "output_type": "stream",
     "text": [
      "MSE for the learned distances: 5.3909833e-05\n",
      "MSE for the learned distances (on-manifold): 5.391085e-05\n"
     ]
    }
   ],
   "source": [
    "model.eval()\n",
    "\n",
    "dataloader = val_dl\n",
    "\n",
    "all_logits = None\n",
    "all_distances = None\n",
    "# all_true_distances = None\n",
    "all_classes = None\n",
    "\n",
    "with torch.no_grad():\n",
    "\n",
    "    for batch in dataloader:\n",
    "#         print(batch.keys())\n",
    "        def get_data(batch_dict, feature_name=\"normed_points\", target_name=\"normed_distances\"):\n",
    "            return batch_dict[feature_name], batch_dict[target_name]\n",
    "\n",
    "        points, distances = get_data(batch)\n",
    "\n",
    "        points = points.to(device)\n",
    "        distances = distances.to(device)\n",
    "\n",
    "        # points = batch[0].to(device)\n",
    "        # distances = batch[1].to(device)\n",
    "        # classes = batch[2].to(device)\n",
    "\n",
    "        model.zero_grad()\n",
    "        model = model.to(device)\n",
    "\n",
    "        logits = model(points).detach().cpu()\n",
    "\n",
    "        points = points.cpu()\n",
    "        distances = distances.cpu()\n",
    "        model = model.cpu()\n",
    "\n",
    "        if all_logits is None:\n",
    "            all_logits = logits\n",
    "        else:\n",
    "            all_logits = torch.cat((all_logits, logits))\n",
    "\n",
    "        if all_distances is None:\n",
    "            all_distances = distances\n",
    "        else:\n",
    "            all_distances = torch.cat((all_distances, distances))\n",
    "\n",
    "        if task == \"classification\":\n",
    "            if all_classes is None:\n",
    "                all_classes = classes\n",
    "            else:\n",
    "                all_classes = torch.cat((all_classes, classes))\n",
    "\n",
    "\n",
    "if task == \"regression\":\n",
    "    mse = mean_squared_error(all_distances, all_logits)\n",
    "    mse_on_mfld = mean_squared_error(all_distances[np.round(all_distances) == 0], all_logits[np.round(all_distances) == 0])\n",
    "\n",
    "\n",
    "\n",
    "    print(\"MSE for the learned distances:\", mse)\n",
    "    print(\"MSE for the learned distances (on-manifold):\", mse_on_mfld)"
   ]
  },
  {
   "cell_type": "code",
   "execution_count": 11,
   "metadata": {},
   "outputs": [
    {
     "data": {
      "image/png": "[encoded data removed]",
      "text/plain": [
       "<Figure size 1080x360 with 2 Axes>"
      ]
     },
     "metadata": {
      "needs_background": "light"
     },
     "output_type": "display_data"
    }
   ],
   "source": [
    "\n",
    "fig, axs = plt.subplots(1, 2, figsize=(15, 5))\n",
    "for i in range(all_distances.shape[1]):\n",
    "    axs[i].hist(all_distances[:,i].numpy().reshape(-1), label=\"distances\")\n",
    "    axs[i].hist(all_logits[:,i].numpy().reshape(-1), label=\"logits\")\n",
    "    axs[i].set_title(\"S{idx} (n=3)\".format(idx=i+1))\n",
    "    axs[i].legend()\n",
    "    fig.suptitle(\"val set\")\n",
    "plt.show()"
   ]
  },
  {
   "cell_type": "code",
   "execution_count": 12,
   "metadata": {},
   "outputs": [
    {
     "name": "stdout",
     "output_type": "stream",
     "text": [
      "MSE on S1: 5.381208e-05\n",
      "MSE on S2: 5.4009615e-05\n"
     ]
    }
   ],
   "source": [
    "print(\"MSE on S1:\", mean_squared_error(all_distances[:, 0], all_logits[:, 0]))\n",
    "print(\"MSE on S2:\", mean_squared_error(all_distances[:, 1], all_logits[:, 1]))\n"
   ]
  },
  {
   "cell_type": "code",
   "execution_count": null,
   "metadata": {},
   "outputs": [],
   "source": [
    "fig = plt.figure(figsize=(8,8))\n",
    "ax = fig.add_subplot(111, projection='3d')\n",
    "ax.scatter3D(train_set.normed_all_points[:, 0], train_set.normed_all_points[:, 1], train_set.normed_all_points[:, 2], s=0.001)\n",
    "ax.set_title(\"std-normal with radius 0.5 (normalised)\")\n",
    "plt.show()\n",
    "\n",
    "fig = plt.figure(figsize=(8,8))\n",
    "ax = fig.add_subplot(111, projection='3d')\n",
    "ax.scatter3D(train_set.all_points[:, 0], train_set.all_points[:, 1], train_set.all_points[:, 2], s=0.001)\n",
    "ax.set_title(\"std-normal with radius 0.5\")\n",
    "plt.show()"
   ]
  },
  {
   "cell_type": "code",
   "execution_count": null,
   "metadata": {},
   "outputs": [],
   "source": [
    "# ! rm -rf '/azuredrive/dumps/expB_learning_distance_from_mfld/test_MLP_model{hidden_sizes=512x4,sigmoid_last,lr=1e-6}_data{2spheres_in_unit_cube;clamped;with_transforms;k=2;r=0.5;normalised}'\n",
    "\n"
   ]
  },
  {
   "cell_type": "code",
   "execution_count": null,
   "metadata": {},
   "outputs": [],
   "source": [
    "plt.hist(np.clip(np.abs(np.linalg.norm(train_set.normed_all_points[:train_set.S1.N] - train_set.S1.normed_x_cn, ord=2, axis=1) - (train_set.S1.r/train_set.norm_factor)), a_min=0, a_max=train_set.S1.D/train_set.norm_factor))\n",
    "\n",
    "\n",
    "\n"
   ]
  },
  {
   "cell_type": "code",
   "execution_count": null,
   "metadata": {},
   "outputs": [],
   "source": [
    "plt.hist(train_set.normed_all_distances[:train_set.S1.N][:, 0].numpy())\n",
    "\n"
   ]
  },
  {
   "cell_type": "code",
   "execution_count": null,
   "metadata": {},
   "outputs": [],
   "source": [
    "plt.scatter(train_set.normed_all_points[:train_set.S1.N][:, 0], train_set.normed_all_points[:train_set.S1.N][:, 1], s=0.01)\n",
    "plt.scatter(train_set.S1.normed_x_cn[0], train_set.S1.normed_x_cn[1])\n",
    "\n",
    "\n",
    "plt.scatter(train_set.normed_all_points[train_set.S1.N:][:, 0], train_set.normed_all_points[train_set.S1.N:][:, 1], s=0.01)\n",
    "plt.scatter(train_set.shifted_S2.normed_x_cn[0], train_set.shifted_S2.normed_x_cn[1])"
   ]
  },
  {
   "cell_type": "code",
   "execution_count": null,
   "metadata": {},
   "outputs": [],
   "source": [
    "plt.scatter(train_set.all_points[:train_set.S1.N][:, 0], train_set.all_points[:train_set.S1.N][:, 1], s=0.01)\n",
    "plt.scatter(train_set.S1.x_cn[0], train_set.S1.x_cn[1])\n",
    "\n",
    "\n",
    "plt.scatter(train_set.all_points[train_set.S1.N:][:, 0], train_set.all_points[train_set.S1.N:][:, 1], s=0.01)\n",
    "plt.scatter(train_set.shifted_S2.x_cn[0], train_set.shifted_S2.x_cn[1])"
   ]
  },
  {
   "cell_type": "code",
   "execution_count": null,
   "metadata": {},
   "outputs": [],
   "source": [
    "train_set.norm_factor"
   ]
  },
  {
   "cell_type": "code",
   "execution_count": null,
   "metadata": {},
   "outputs": [],
   "source": [
    "import importlib\n",
    "#import the module here, so that it can be reloaded.\n",
    "importlib.reload()\n",
    "\n",
    "\n"
   ]
  },
  {
   "cell_type": "code",
   "execution_count": 9,
   "metadata": {},
   "outputs": [],
   "source": [
    "_, _, a, b = 2, 2, 2, 2"
   ]
  },
  {
   "cell_type": "code",
   "execution_count": 10,
   "metadata": {},
   "outputs": [
    {
     "data": {
      "text/plain": [
       "2"
      ]
     },
     "execution_count": 10,
     "metadata": {},
     "output_type": "execute_result"
    }
   ],
   "source": [
    "_"
   ]
  },
  {
   "cell_type": "code",
   "execution_count": null,
   "metadata": {},
   "outputs": [],
   "source": []
  }
 ],
 "metadata": {
  "kernelspec": {
   "display_name": "Python 3",
   "language": "python",
   "name": "python3"
  },
  "language_info": {
   "codemirror_mode": {
    "name": "ipython",
    "version": 3
   },
   "file_extension": ".py",
   "mimetype": "text/x-python",
   "name": "python",
   "nbconvert_exporter": "python",
   "pygments_lexer": "ipython3",
   "version": "3.6.9"
  }
 },
 "nbformat": 4,
 "nbformat_minor": 4
}
