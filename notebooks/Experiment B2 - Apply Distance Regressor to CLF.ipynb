{
 "cells": [
  {
   "cell_type": "code",
   "execution_count": 15,
   "metadata": {},
   "outputs": [],
   "source": [
    "import os\n",
    "import sys\n",
    "import time\n",
    "import copy\n",
    "import random\n",
    "\n",
    "from collections import OrderedDict\n",
    "\n",
    "import numpy as np\n",
    "\n",
    "import torch\n",
    "import torch.nn as nn\n",
    "import torch.nn.functional as F\n",
    "import torch.optim as optim\n",
    "from torch.utils.data import Dataset, DataLoader\n",
    "\n",
    "import torchvision\n",
    "import torchvision.transforms as transforms\n",
    "import torchvision.transforms.functional as TF\n",
    "from torchvision import datasets\n",
    "\n",
    "import PIL\n",
    "\n",
    "import matplotlib\n",
    "from mpl_toolkits import mplot3d\n",
    "# matplotlib.use('Agg')\n",
    "import matplotlib.pyplot as plt\n",
    "\n",
    "import seaborn as sns\n",
    "\n",
    "from livelossplot import PlotLosses\n",
    "\n",
    "from sklearn.neighbors import NearestNeighbors\n",
    "from sklearn.decomposition import IncrementalPCA\n",
    "\n",
    "from sklearn.metrics import mean_squared_error, f1_score, accuracy_score, classification_report\n",
    "\n",
    "\n",
    "from IPython.display import Image\n",
    "\n",
    "from tqdm.notebook import tqdm\n",
    "\n",
    "sys.path.append(\"../src/expB/\")\n",
    "from ptcifar.models import ResNet18\n",
    "import spheres\n",
    "from learn_mfld_distance import test"
   ]
  },
  {
   "cell_type": "code",
   "execution_count": 9,
   "metadata": {},
   "outputs": [],
   "source": [
    "def seed_worker(worker_id):\n",
    "    worker_seed = torch.initial_seed() % 2**32\n",
    "    np.random.seed(worker_seed)\n",
    "    random.seed(worker_seed)"
   ]
  },
  {
   "cell_type": "code",
   "execution_count": 10,
   "metadata": {},
   "outputs": [],
   "source": [
    "train_set = torch.load(\"../datasets/expB/rby8/two_spheres/train_cifar_dim.pt\")\n",
    "val_set = torch.load(\"../datasets/expB/rby8/two_spheres/val_cifar_dim.pt\")"
   ]
  },
  {
   "cell_type": "code",
   "execution_count": 11,
   "metadata": {},
   "outputs": [],
   "source": [
    "BATCH_SIZE = 512\n",
    "NUM_WORKERS = 8\n",
    "\n",
    "dataloaders = {\n",
    "    \"train\": DataLoader(dataset=train_set, shuffle=False, batch_size=BATCH_SIZE, num_workers=NUM_WORKERS, worker_init_fn=seed_worker),\n",
    "    \"val\": DataLoader(dataset=val_set, shuffle=False, batch_size=BATCH_SIZE, num_workers=NUM_WORKERS, worker_init_fn=seed_worker)\n",
    "}"
   ]
  },
  {
   "cell_type": "code",
   "execution_count": 45,
   "metadata": {},
   "outputs": [],
   "source": [
    "model_fn = \"../dumps/expB_learning_distance_from_mfld/CIFAR_ResNet18_TwoSpheres/30042021-094947/models/CIFAR_ResNet18_TwoSpheres_30042021-094947_val_loss_5.039928650856018_epoch_18.pth\"\n",
    "dump = torch.load(model_fn)\n",
    "\n",
    "model = ResNet18(num_classes=2)\n",
    "model.load_state_dict(dump[\"model_state_dict\"])\n",
    "\n",
    "device = torch.device(\"cuda:0\" if torch.cuda.is_available() else \"cpu\")"
   ]
  },
  {
   "cell_type": "code",
   "execution_count": null,
   "metadata": {},
   "outputs": [],
   "source": []
  },
  {
   "cell_type": "code",
   "execution_count": 46,
   "metadata": {},
   "outputs": [
    {
     "name": "stderr",
     "output_type": "stream",
     "text": [
      "100%|██████████| 196/196 [00:36<00:00,  5.43it/s]"
     ]
    },
    {
     "name": "stdout",
     "output_type": "stream",
     "text": [
      "MSE for the learned distances: 4.9897704\n",
      "MSE for the learned distances (on-manifold): 6.5730033\n"
     ]
    },
    {
     "name": "stderr",
     "output_type": "stream",
     "text": [
      "\n"
     ]
    }
   ],
   "source": [
    "mse, mse_on_mfld, all_distances, all_logits = test(model, dataloaders[\"train\"], device, task=\"regression\")\n",
    "\n",
    "\n"
   ]
  },
  {
   "cell_type": "code",
   "execution_count": 37,
   "metadata": {},
   "outputs": [
    {
     "data": {
      "text/plain": [
       "tensor(16.9464)"
      ]
     },
     "execution_count": 37,
     "metadata": {},
     "output_type": "execute_result"
    }
   ],
   "source": [
    "F.mse_loss(all_distances, all_logits)"
   ]
  },
  {
   "cell_type": "code",
   "execution_count": 29,
   "metadata": {},
   "outputs": [
    {
     "data": {
      "text/plain": [
       "(tensor([[2.6080, 7.5136],\n",
       "         [2.6079, 7.5146],\n",
       "         [2.6079, 7.5146],\n",
       "         ...,\n",
       "         [2.6079, 7.5146],\n",
       "         [2.6079, 7.5146],\n",
       "         [2.6080, 7.5136]]),\n",
       " tensor([[7.5000e+00, 4.7635e+00],\n",
       "         [7.5000e+00, 7.5000e+00],\n",
       "         [8.5265e-13, 7.5000e+00],\n",
       "         ...,\n",
       "         [1.4637e-12, 7.5000e+00],\n",
       "         [7.5000e+00, 7.5000e+00],\n",
       "         [7.5000e+00, 7.4181e-12]]))"
      ]
     },
     "execution_count": 29,
     "metadata": {},
     "output_type": "execute_result"
    }
   ],
   "source": [
    "all_logits, all_distances"
   ]
  },
  {
   "cell_type": "code",
   "execution_count": 40,
   "metadata": {},
   "outputs": [
    {
     "data": {
      "text/plain": [
       "(array([26851.,  1890.,  1933.,  1907.,  1843.,  1829.,  1825., 61922.]),\n",
       " array([0.    , 0.9375, 1.875 , 2.8125, 3.75  , 4.6875, 5.625 , 6.5625,\n",
       "        7.5   ], dtype=float32),\n",
       " <BarContainer object of 8 artists>)"
      ]
     },
     "execution_count": 40,
     "metadata": {},
     "output_type": "execute_result"
    },
    {
     "data": {
      "image/png": "[encoded data removed]",
      "text/plain": [
       "<Figure size 432x288 with 1 Axes>"
      ]
     },
     "metadata": {
      "needs_background": "light"
     },
     "output_type": "display_data"
    }
   ],
   "source": [
    "plt.hist(all_distances[:, 1].numpy().reshape(-1), bins=8)"
   ]
  },
  {
   "cell_type": "code",
   "execution_count": 41,
   "metadata": {},
   "outputs": [
    {
     "data": {
      "text/plain": [
       "(array([50000.,     0.,     0.,     0.,     0.,     0.,     0., 50000.]),\n",
       " array([7.5135145, 7.51365  , 7.513786 , 7.5139213, 7.514057 , 7.5141926,\n",
       "        7.514328 , 7.514464 , 7.5145993], dtype=float32),\n",
       " <BarContainer object of 8 artists>)"
      ]
     },
     "execution_count": 41,
     "metadata": {},
     "output_type": "execute_result"
    },
    {
     "data": {
      "image/png": "[encoded data removed]",
      "text/plain": [
       "<Figure size 432x288 with 1 Axes>"
      ]
     },
     "metadata": {
      "needs_background": "light"
     },
     "output_type": "display_data"
    }
   ],
   "source": [
    "plt.hist(all_logits[:, 1].numpy().reshape(-1), bins=8)"
   ]
  },
  {
   "cell_type": "code",
   "execution_count": 47,
   "metadata": {},
   "outputs": [
    {
     "data": {
      "image/png": "[encoded data removed]",
      "text/plain": [
       "<Figure size 432x288 with 2 Axes>"
      ]
     },
     "metadata": {
      "needs_background": "light"
     },
     "output_type": "display_data"
    }
   ],
   "source": [
    "plt.hist2d(all_distances[:, 0].numpy(), all_distances[:, 1].numpy(), density=True)\n",
    "plt.xlabel(\"distance from S1\")\n",
    "plt.ylabel(\"distance from S2\")\n",
    "plt.title(\"normalised 2d histogram of distances\")\n",
    "plt.colorbar()\n",
    "plt.show()"
   ]
  },
  {
   "cell_type": "code",
   "execution_count": 48,
   "metadata": {},
   "outputs": [
    {
     "data": {
      "image/png": "[encoded data removed]",
      "text/plain": [
       "<Figure size 432x288 with 2 Axes>"
      ]
     },
     "metadata": {
      "needs_background": "light"
     },
     "output_type": "display_data"
    }
   ],
   "source": [
    "plt.hist2d(all_logits[:, 0].numpy(), all_logits[:, 1].numpy(), density=True)\n",
    "plt.xlabel(\"distance from S1\")\n",
    "plt.ylabel(\"distance from S2\")\n",
    "plt.title(\"normalised 2d histogram of logits\")\n",
    "plt.colorbar()\n",
    "plt.show()"
   ]
  },
  {
   "cell_type": "code",
   "execution_count": null,
   "metadata": {},
   "outputs": [],
   "source": []
  }
 ],
 "metadata": {
  "kernelspec": {
   "display_name": "Python 3",
   "language": "python",
   "name": "python3"
  },
  "language_info": {
   "codemirror_mode": {
    "name": "ipython",
    "version": 3
   },
   "file_extension": ".py",
   "mimetype": "text/x-python",
   "name": "python",
   "nbconvert_exporter": "python",
   "pygments_lexer": "ipython3",
   "version": "3.6.9"
  }
 },
 "nbformat": 4,
 "nbformat_minor": 4
}
