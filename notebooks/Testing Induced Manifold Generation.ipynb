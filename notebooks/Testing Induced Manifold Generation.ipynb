{
 "cells": [
  {
   "cell_type": "code",
   "execution_count": 1,
   "metadata": {},
   "outputs": [],
   "source": [
    "import os\n",
    "import multiprocessing\n",
    "from functools import partial\n",
    "\n",
    "import faiss\n",
    "import numpy as np\n",
    "import torch\n",
    "\n",
    "from tqdm.notebook import tqdm\n",
    "from sklearn.decomposition import PCA\n",
    "\n",
    "import matplotlib.pyplot as plt"
   ]
  },
  {
   "cell_type": "code",
   "execution_count": 2,
   "metadata": {},
   "outputs": [],
   "source": [
    "class FaissKNeighbors:\n",
    "    def __init__(self, k=5):\n",
    "        self.index = None\n",
    "        self.y = None\n",
    "        self.k = k\n",
    "\n",
    "    def fit(self, X, y):\n",
    "        self.index = faiss.IndexFlatL2(X.shape[1])\n",
    "        self.index.add(X.astype(np.float32))\n",
    "        self.res = faiss.StandardGpuResources()\n",
    "#         self.gpu_index = faiss.index_cpu_to_all_gpus(  # build the index\n",
    "#             self.index\n",
    "#         )\n",
    "        self.gpu_index = faiss.index_cpu_to_gpu(\n",
    "            self.res,\n",
    "            0,\n",
    "            self.index\n",
    "        )\n",
    "        self.y = y\n",
    "\n",
    "    def predict(self, X):\n",
    "        distances, indices = self.gpu_index.search(X.astype(np.float32), k=self.k)\n",
    "        votes = self.y[indices]\n",
    "        predictions = np.array([np.argmax(np.bincount(x)) for x in votes])\n",
    "        return indices, distances"
   ]
  },
  {
   "cell_type": "code",
   "execution_count": 3,
   "metadata": {},
   "outputs": [],
   "source": [
    "# basic params\n",
    "\n",
    "k = 500\n",
    "n = 500\n",
    "N = 500000\n",
    "r = 1.0\n",
    "max_norm = 0.1\n",
    "\n",
    "k_neighbors = 50\n",
    "\n",
    "# making the sphere\n",
    "\n",
    "points_k = np.random.normal(0, 1, size=(N//2, k))\n",
    "points_k = r * (points_k / np.linalg.norm(points_k, ord=2, axis=1).reshape(-1, 1))\n",
    "\n",
    "points_n = np.zeros((N, n))\n",
    "points_n[:N//2, :k] = points_k\n",
    "\n",
    "knn = FaissKNeighbors(k=k_neighbors + 1)\n",
    "knn.fit(points_n[:N//2], y=np.zeros(N//2, dtype=np.int64))\n",
    "\n",
    "# nbhrs, dists = knn.predict()\n",
    "    \n",
    "var_thresh = 0.99 # threshold of explained variance for selecting normal directions\n"
   ]
  },
  {
   "cell_type": "code",
   "execution_count": 4,
   "metadata": {},
   "outputs": [],
   "source": [
    "indices, dists = knn.predict(points_n)\n",
    "\n"
   ]
  },
  {
   "cell_type": "code",
   "execution_count": 5,
   "metadata": {},
   "outputs": [
    {
     "name": "stdout",
     "output_type": "stream",
     "text": [
      "CPU times: user 2.24 s, sys: 2.29 s, total: 4.53 s\n",
      "Wall time: 20min 22s\n"
     ]
    }
   ],
   "source": [
    "%%time\n",
    "off_mfld_pts = np.zeros((N // 2, n))\n",
    "off_mfld_dists = np.zeros(N//2)\n",
    "\n",
    "# def make_off_mfld_eg(idx, points_n, indices):\n",
    "    \n",
    "def make_off_mfld_eg(idx):\n",
    "    \n",
    "    global points_n\n",
    "    global indices\n",
    "    global off_mfld_pts\n",
    "    global off_mfld_dists\n",
    "    \n",
    "    on_mfld_pt = points_n[idx]\n",
    "    nbhr_indices = indices[idx]\n",
    "    nbhr_indices = nbhr_indices[nbhr_indices != idx]\n",
    "    nbhrs = points_n[nbhr_indices]\n",
    "    nbhr_local_coords = nbhrs - on_mfld_pt\n",
    "    \n",
    "    pca = PCA()\n",
    "    pca.fit(nbhr_local_coords)\n",
    "    expl_var = pca.explained_variance_ratio_\n",
    "    cum_expl_var = np.cumsum(expl_var)\n",
    "    tmp = np.where(cum_expl_var > var_thresh)[0][0] + 1\n",
    "    normal_dirs = pca.components_[tmp:] # picking components that explain (1 - var_thresh)\n",
    "    \n",
    "    rdm_coeffs = np.random.normal(0, 1, size=normal_dirs.shape[0])\n",
    "    off_mfld_pt = np.sum(rdm_coeffs.reshape(-1, 1) * normal_dirs, axis=0)\n",
    "    rdm_norm = np.random.uniform(0, max_norm)\n",
    "    off_mfld_pt = off_mfld_pt * (rdm_norm / np.linalg.norm(off_mfld_pt))\n",
    "    off_mfld_pt += on_mfld_pt\n",
    "    \n",
    "#     off_mfld_pts[idx] = off_mfld_pt\n",
    "#     off_mfld_dists[idx] = rdm_norm\n",
    "    \n",
    "    return (idx, off_mfld_pt, rdm_norm)\n",
    "\n",
    "# make_off_mfld_eg_partial = partial(make_off_mfld_eg, points_n=points_n, indices=indices)\n",
    "\n",
    "with multiprocessing.Pool(processes=8) as pool:\n",
    "#     results = pool.map(make_off_mfld_eg_partial, range(N//2))\n",
    "    results = pool.map(make_off_mfld_eg, range(N//2))\n",
    "\n",
    "for i in range(len(results)):\n",
    "    off_mfld_pts[i] = results[i][1]\n",
    "    off_mfld_dists[i] = results[i][2]\n",
    "    \n",
    "\n",
    "    \n",
    "    \n",
    "    \n",
    "# for idx in tqdm(range(N // 2)):\n",
    "#     on_mfld_pt = points_n[idx]\n",
    "#     nbhr_indices = indices[idx]\n",
    "#     nbhr_indices = nbhr_indices[nbhr_indices != idx]\n",
    "#     nbhrs = points_n[nbhr_indices]\n",
    "#     nbhr_local_coords = nbhrs - on_mfld_pt\n",
    "    \n",
    "#     pca = PCA()\n",
    "#     pca.fit(nbhr_local_coords)\n",
    "#     expl_var = pca.explained_variance_ratio_\n",
    "#     cum_expl_var = np.cumsum(expl_var)\n",
    "#     tmp = np.where(cum_expl_var > var_thresh)[0][0] + 1\n",
    "#     normal_dirs = pca.components_[tmp:] # picking components that explain (1 - var_thresh)\n",
    "    \n",
    "#     rdm_coeffs = np.random.normal(0, 1, size=normal_dirs.shape[0])\n",
    "#     off_mfld_pt = np.sum(rdm_coeffs.reshape(-1, 1) * normal_dirs, axis=0)\n",
    "#     rdm_norm = np.random.uniform(0, max_norm)\n",
    "#     off_mfld_pt = off_mfld_pt * (rdm_norm / np.linalg.norm(off_mfld_pt))\n",
    "#     off_mfld_dists[idx] = rdm_norm\n",
    "#     off_mfld_pt += on_mfld_pt\n",
    "#     off_mfld_pts[idx] = off_mfld_pt\n",
    "#     break\n",
    "\n",
    "    \n",
    "    "
   ]
  },
  {
   "cell_type": "code",
   "execution_count": 1,
   "metadata": {},
   "outputs": [
    {
     "ename": "NameError",
     "evalue": "name 'pca' is not defined",
     "output_type": "error",
     "traceback": [
      "\u001b[0;31m---------------------------------------------------------------------------\u001b[0m",
      "\u001b[0;31mNameError\u001b[0m                                 Traceback (most recent call last)",
      "\u001b[0;32m<ipython-input-1-de1a80c7738f>\u001b[0m in \u001b[0;36m<module>\u001b[0;34m\u001b[0m\n\u001b[0;32m----> 1\u001b[0;31m \u001b[0mpca\u001b[0m\u001b[0;34m.\u001b[0m\u001b[0mexplained_variance_ratio_\u001b[0m\u001b[0;34m\u001b[0m\u001b[0;34m\u001b[0m\u001b[0m\n\u001b[0m\u001b[1;32m      2\u001b[0m \u001b[0mcum_expl_var\u001b[0m\u001b[0;34m\u001b[0m\u001b[0;34m\u001b[0m\u001b[0m\n\u001b[1;32m      3\u001b[0m \u001b[0mtmp\u001b[0m\u001b[0;34m\u001b[0m\u001b[0;34m\u001b[0m\u001b[0m\n",
      "\u001b[0;31mNameError\u001b[0m: name 'pca' is not defined"
     ]
    }
   ],
   "source": [
    "pca.explained_variance_ratio_\n",
    "cum_expl_var\n",
    "tmp"
   ]
  },
  {
   "cell_type": "code",
   "execution_count": 7,
   "metadata": {},
   "outputs": [
    {
     "data": {
      "text/plain": [
       "(array([1.06755357, 0.14781959]),\n",
       " array([0.99368677, 0.11219004]),\n",
       " 0.08201078848791471,\n",
       " 0.0820107884879148)"
      ]
     },
     "execution_count": 7,
     "metadata": {},
     "output_type": "execute_result"
    }
   ],
   "source": [
    "off_mfld_pt, on_mfld_pt, rdm_norm, np.linalg.norm(on_mfld_pt - off_mfld_pt)"
   ]
  },
  {
   "cell_type": "code",
   "execution_count": 55,
   "metadata": {},
   "outputs": [
    {
     "data": {
      "text/plain": [
       "PCA(copy=True, iterated_power='auto', n_components=None, random_state=None,\n",
       "    svd_solver='auto', tol=0.0, whiten=False)"
      ]
     },
     "execution_count": 55,
     "metadata": {},
     "output_type": "execute_result"
    }
   ],
   "source": [
    "\n",
    "pca = PCA()\n",
    "pca.fit(points_n[indices[5]] - points_n[5])\n"
   ]
  },
  {
   "cell_type": "code",
   "execution_count": 56,
   "metadata": {},
   "outputs": [
    {
     "data": {
      "text/plain": [
       "array([[ 0.29410196, -0.95577405,  0.        ],\n",
       "       [ 0.29383026, -0.95585761,  0.        ],\n",
       "       [ 0.29392775, -0.95582764,  0.        ],\n",
       "       [ 0.2937978 , -0.95586759,  0.        ],\n",
       "       [ 0.2939352 , -0.95582535,  0.        ],\n",
       "       [ 0.29397653, -0.95581264,  0.        ],\n",
       "       [ 0.29392409, -0.95582877,  0.        ],\n",
       "       [ 0.29365255, -0.95591223,  0.        ],\n",
       "       [ 0.2938732 , -0.95584441,  0.        ],\n",
       "       [ 0.29385505, -0.95584999,  0.        ],\n",
       "       [ 0.29366476, -0.95590847,  0.        ]])"
      ]
     },
     "execution_count": 56,
     "metadata": {},
     "output_type": "execute_result"
    }
   ],
   "source": [
    "points_n[indices[5]]"
   ]
  },
  {
   "cell_type": "code",
   "execution_count": 10,
   "metadata": {},
   "outputs": [
    {
     "data": {
      "text/plain": [
       "(array([0.       , 1.6022702, 1.6134851, 1.6229258, 1.6373756, 1.6415846,\n",
       "        1.6428125, 1.648608 , 1.6487112, 1.6503485, 1.6561202, 1.6567991,\n",
       "        1.6580863, 1.6589345, 1.6626413, 1.662984 , 1.6640503, 1.6672132,\n",
       "        1.6672343, 1.6679883, 1.6680709, 1.6692023, 1.6695664, 1.6707433,\n",
       "        1.674704 , 1.6749394, 1.6749641, 1.6751659, 1.6763891, 1.6769282,\n",
       "        1.6776607, 1.6779829, 1.678489 , 1.6791576, 1.6792035, 1.6792777,\n",
       "        1.679966 , 1.6799793, 1.6802373, 1.68033  , 1.6806178, 1.6809877,\n",
       "        1.6818882, 1.6820472, 1.6824007, 1.6843482, 1.6853373, 1.6854991,\n",
       "        1.6855222, 1.6858478, 1.6863543], dtype=float32),\n",
       " array([     2,  72811,  57145, 194078,  39554, 192545,  97083, 204859,\n",
       "        224904, 179416, 127668, 107694, 106971, 147182, 215830, 139678,\n",
       "         92710,  61649,  72884, 116038,  64239, 154403,  45977,  43581,\n",
       "        214902,  55840,  87904, 142881,  38294,  76620,  58143, 241123,\n",
       "         32197,  24398,  97152,  89777, 237524,  37559, 178059,  36403,\n",
       "        144797,  86619,  29723, 234002,  61924, 226903,  41282,  66129,\n",
       "        167712, 166007,   6835]))"
      ]
     },
     "execution_count": 10,
     "metadata": {},
     "output_type": "execute_result"
    }
   ],
   "source": [
    "dists[2], indices[2]"
   ]
  },
  {
   "cell_type": "code",
   "execution_count": 57,
   "metadata": {},
   "outputs": [
    {
     "data": {
      "text/plain": [
       "array([9.99999993e-01, 6.82070253e-09, 0.00000000e+00])"
      ]
     },
     "execution_count": 57,
     "metadata": {},
     "output_type": "execute_result"
    }
   ],
   "source": [
    "pca.explained_variance_ratio_"
   ]
  },
  {
   "cell_type": "code",
   "execution_count": 58,
   "metadata": {},
   "outputs": [
    {
     "data": {
      "text/plain": [
       "0.9999999933976171"
      ]
     },
     "execution_count": 58,
     "metadata": {},
     "output_type": "execute_result"
    }
   ],
   "source": [
    "x = points_n[indices[5]][0] - points_n[5]\n",
    "x /= np.linalg.norm(x)\n",
    "np.dot(x, pca.components_[0])"
   ]
  },
  {
   "cell_type": "code",
   "execution_count": 62,
   "metadata": {},
   "outputs": [
    {
     "data": {
      "text/plain": [
       "array([[ 0.95584948,  0.29385673,  0.        ],\n",
       "       [-0.29385673,  0.95584948,  0.        ],\n",
       "       [ 0.        ,  0.        ,  1.        ]])"
      ]
     },
     "execution_count": 62,
     "metadata": {},
     "output_type": "execute_result"
    }
   ],
   "source": [
    "pca.components_"
   ]
  },
  {
   "cell_type": "code",
   "execution_count": 60,
   "metadata": {},
   "outputs": [
    {
     "data": {
      "text/plain": [
       "3.255709951172038e-08"
      ]
     },
     "execution_count": 60,
     "metadata": {},
     "output_type": "execute_result"
    }
   ],
   "source": [
    "np.dot(points_n[indices[5]][0] - points_n[5], pca.components_[1])"
   ]
  },
  {
   "cell_type": "code",
   "execution_count": 61,
   "metadata": {},
   "outputs": [
    {
     "data": {
      "text/plain": [
       "0.0"
      ]
     },
     "execution_count": 61,
     "metadata": {},
     "output_type": "execute_result"
    }
   ],
   "source": [
    "np.dot(points_n[indices[5]][0] - points_n[5], pca.components_[2])"
   ]
  },
  {
   "cell_type": "code",
   "execution_count": 6,
   "metadata": {
    "scrolled": true
   },
   "outputs": [
    {
     "data": {
      "text/plain": [
       "<matplotlib.collections.PathCollection at 0x7fd714f0a1d0>"
      ]
     },
     "execution_count": 6,
     "metadata": {},
     "output_type": "execute_result"
    },
    {
     "data": {
      "image/png": "[encoded data removed]",
      "text/plain": [
       "<Figure size 288x288 with 1 Axes>"
      ]
     },
     "metadata": {
      "needs_background": "light"
     },
     "output_type": "display_data"
    }
   ],
   "source": [
    "plt.figure(figsize=(4, 4))\n",
    "# plt.scatter(off_mfld_pts[:, 0], off_mfld_pts[:, 1], s=0.01, alpha=0.5)\n",
    "plt.scatter(points_n[:N//2, 0], points_n[:N//2, 1], s=0.01, alpha=0.5)\n",
    "idx = 5\n",
    "plt.scatter(off_mfld_pts[idx, 0], off_mfld_pts[idx, 1], color=\"red\")\n",
    "plt.scatter(points_n[idx, 0], points_n[idx, 1], color=\"orange\")\n",
    "\n",
    "plt.scatter(points_n[indices[idx], 0], points_n[indices[idx], 1], s=0.1, c=\"blue\")\n",
    "# colors = [\"orange\", \"green\"]\n",
    "# labels = np.round(pca.explained_variance_ratio_, 3)\n",
    "# arrows = list()\n",
    "# for i in range(pca.components_.shape[0]):\n",
    "#     arr = plt.arrow(points_n[idx, 0], points_n[idx, 1], pca.components_[i, 0], pca.components_[i, 1], label=str(labels[i]), color=colors[i])\n",
    "#     arrows.append(arr)\n",
    "# plt.legend(arrows, [str(i) for i in labels])"
   ]
  },
  {
   "cell_type": "code",
   "execution_count": 19,
   "metadata": {},
   "outputs": [
    {
     "data": {
      "text/plain": [
       "-1.1622371549394984e-06"
      ]
     },
     "execution_count": 19,
     "metadata": {},
     "output_type": "execute_result"
    }
   ],
   "source": [
    "np.dot(off_mfld_pt - on_mfld_pt, nbhr_local_coords[2])"
   ]
  },
  {
   "cell_type": "code",
   "execution_count": 6,
   "metadata": {},
   "outputs": [
    {
     "data": {
      "application/vnd.jupyter.widget-view+json": {
       "model_id": "1d9545dd98a449d0bceb5ef50e346ee9",
       "version_major": 2,
       "version_minor": 0
      },
      "text/plain": [
       "HBox(children=(FloatProgress(value=0.0, max=1000.0), HTML(value='')))"
      ]
     },
     "metadata": {},
     "output_type": "display_data"
    },
    {
     "name": "stdout",
     "output_type": "stream",
     "text": [
      "\n"
     ]
    }
   ],
   "source": [
    "rdm_idx = np.random.choice(np.arange(N//2), 1000, replace=False)\n",
    "min_true_dists = np.zeros(rdm_idx.shape[0])\n",
    "dev_frm_on_mfld = np.zeros(rdm_idx.shape[0])\n",
    "for idx in tqdm(range(rdm_idx.shape[0])):\n",
    "    true_off_mfld_dists = np.linalg.norm(off_mfld_pts[rdm_idx[idx]] - points_n[:N//2,:], ord=2, axis=1)\n",
    "    min_true_dist = np.min(true_off_mfld_dists)\n",
    "    min_true_dists[idx] = min_true_dist\n",
    "    min_true_dist_idx = np.argmin(true_off_mfld_dists)\n",
    "    dev_frm_on_mfld[idx] = np.linalg.norm(points_n[min_true_dist_idx] - points_n[rdm_idx[idx]])\n",
    "    \n",
    "    "
   ]
  },
  {
   "cell_type": "code",
   "execution_count": null,
   "metadata": {},
   "outputs": [],
   "source": []
  },
  {
   "cell_type": "code",
   "execution_count": 7,
   "metadata": {},
   "outputs": [
    {
     "data": {
      "image/png": "[encoded data removed]",
      "text/plain": [
       "<Figure size 432x288 with 1 Axes>"
      ]
     },
     "metadata": {
      "needs_background": "light"
     },
     "output_type": "display_data"
    }
   ],
   "source": [
    "plt.hist(min_true_dists - off_mfld_dists[rdm_idx])\n",
    "plt.xlabel(\"abs. error between true and approx. distance\")\n",
    "plt.ylabel(\"count\")\n",
    "plt.title(\"error in distance for k={},n={} (10k random samples)\".format(k, n))\n",
    "plt.show()"
   ]
  },
  {
   "cell_type": "code",
   "execution_count": 8,
   "metadata": {},
   "outputs": [
    {
     "data": {
      "image/png": "[encoded data removed]",
      "text/plain": [
       "<Figure size 432x288 with 1 Axes>"
      ]
     },
     "metadata": {
      "needs_background": "light"
     },
     "output_type": "display_data"
    }
   ],
   "source": [
    "plt.hist(dev_frm_on_mfld)\n",
    "plt.xlabel(\"L2 distance\")\n",
    "plt.ylabel(\"count\")\n",
    "plt.title(\"true vs approx. point of approach for k={},n={} (10k random samples)\".format(k, n))\n",
    "plt.show()"
   ]
  },
  {
   "cell_type": "code",
   "execution_count": 9,
   "metadata": {},
   "outputs": [
    {
     "data": {
      "text/plain": [
       "0.0"
      ]
     },
     "execution_count": 9,
     "metadata": {},
     "output_type": "execute_result"
    }
   ],
   "source": [
    "max(dev_frm_on_mfld)"
   ]
  },
  {
   "cell_type": "code",
   "execution_count": 22,
   "metadata": {},
   "outputs": [
    {
     "data": {
      "text/plain": [
       "(183969, 0.03786256990766121)"
      ]
     },
     "execution_count": 22,
     "metadata": {},
     "output_type": "execute_result"
    }
   ],
   "source": [
    "np.argmin(np.linalg.norm(off_mfld_pts[0] - points_n[:N//2,:], ord=2, axis=1)), \\\n",
    "np.min(np.linalg.norm(off_mfld_pts[0] - points_n[:N//2,:], ord=2, axis=1))"
   ]
  },
  {
   "cell_type": "code",
   "execution_count": 23,
   "metadata": {},
   "outputs": [
    {
     "data": {
      "text/plain": [
       "array([0.04658179, 1.71577159, 1.38675184, ..., 1.44299178, 1.79183774,\n",
       "       0.5097944 ])"
      ]
     },
     "execution_count": 23,
     "metadata": {},
     "output_type": "execute_result"
    }
   ],
   "source": [
    "np.linalg.norm(off_mfld_pts[0] - points_n[:N//2,:], ord=2, axis=1)"
   ]
  },
  {
   "cell_type": "code",
   "execution_count": 24,
   "metadata": {},
   "outputs": [
    {
     "data": {
      "text/plain": [
       "0.04689816673859133"
      ]
     },
     "execution_count": 24,
     "metadata": {},
     "output_type": "execute_result"
    }
   ],
   "source": [
    "np.linalg.norm(points_n[141727] - points_n[0])"
   ]
  },
  {
   "cell_type": "code",
   "execution_count": 25,
   "metadata": {},
   "outputs": [
    {
     "data": {
      "text/plain": [
       "0.04658178909987768"
      ]
     },
     "execution_count": 25,
     "metadata": {},
     "output_type": "execute_result"
    }
   ],
   "source": [
    "off_mfld_dists[0]"
   ]
  },
  {
   "cell_type": "code",
   "execution_count": 49,
   "metadata": {},
   "outputs": [
    {
     "data": {
      "text/plain": [
       "array([[ 0.02824323,  0.00235902,  0.01950889, ..., -0.03805938,\n",
       "        -0.01381973, -0.00307733],\n",
       "       [ 0.00770392, -0.07358862, -0.048848  , ..., -0.02004137,\n",
       "         0.00309767,  0.07561612],\n",
       "       [ 0.03270278,  0.06981782, -0.07356335, ...,  0.00973231,\n",
       "        -0.02722055,  0.02475773],\n",
       "       ...,\n",
       "       [ 0.08825714, -0.0063782 ,  0.04923243, ..., -0.05390884,\n",
       "         0.00651722,  0.07160276],\n",
       "       [-0.00234416,  0.00937723,  0.0077863 , ..., -0.04157526,\n",
       "        -0.01050973,  0.02776842],\n",
       "       [-0.24057345,  0.06831079, -0.11079424, ...,  0.0103417 ,\n",
       "        -0.02203047,  0.01865837]])"
      ]
     },
     "execution_count": 49,
     "metadata": {},
     "output_type": "execute_result"
    }
   ],
   "source": [
    "tmp = np.random.normal(0, 1, size=(50, 500))\n",
    "tmp_pca = PCA()\n",
    "tmp_pca.fit(tmp)\n"
   ]
  },
  {
   "cell_type": "code",
   "execution_count": 50,
   "metadata": {},
   "outputs": [
    {
     "data": {
      "text/plain": [
       "(50, 500)"
      ]
     },
     "execution_count": 50,
     "metadata": {},
     "output_type": "execute_result"
    }
   ],
   "source": [
    "tmp_pca.components_.shape"
   ]
  },
  {
   "cell_type": "code",
   "execution_count": 51,
   "metadata": {},
   "outputs": [
    {
     "data": {
      "text/plain": [
       "array([3.29956181e-02, 3.25079828e-02, 3.22565262e-02, 3.11799404e-02,\n",
       "       3.06632475e-02, 3.01812442e-02, 2.88631601e-02, 2.86225564e-02,\n",
       "       2.82011201e-02, 2.76663391e-02, 2.64148828e-02, 2.56271934e-02,\n",
       "       2.49715904e-02, 2.47920407e-02, 2.41121771e-02, 2.37524494e-02,\n",
       "       2.32314183e-02, 2.24774617e-02, 2.22923907e-02, 2.18679557e-02,\n",
       "       2.12356529e-02, 2.08215778e-02, 2.02357207e-02, 1.99912026e-02,\n",
       "       1.97705482e-02, 1.93732695e-02, 1.90554016e-02, 1.85600662e-02,\n",
       "       1.84403614e-02, 1.76812580e-02, 1.73093909e-02, 1.67078570e-02,\n",
       "       1.61468635e-02, 1.59964393e-02, 1.58146529e-02, 1.52381204e-02,\n",
       "       1.49448302e-02, 1.45239901e-02, 1.41972889e-02, 1.35859178e-02,\n",
       "       1.34444766e-02, 1.30615833e-02, 1.26759973e-02, 1.23808206e-02,\n",
       "       1.22690058e-02, 1.18452026e-02, 1.14014961e-02, 1.09030661e-02,\n",
       "       9.71064657e-03, 6.50614319e-33])"
      ]
     },
     "execution_count": 51,
     "metadata": {},
     "output_type": "execute_result"
    }
   ],
   "source": [
    "tmp_pca.explained_variance_ratio_"
   ]
  },
  {
   "cell_type": "code",
   "execution_count": null,
   "metadata": {},
   "outputs": [],
   "source": []
  }
 ],
 "metadata": {
  "kernelspec": {
   "display_name": "Python 3",
   "language": "python",
   "name": "python3"
  },
  "language_info": {
   "codemirror_mode": {
    "name": "ipython",
    "version": 3
   },
   "file_extension": ".py",
   "mimetype": "text/x-python",
   "name": "python",
   "nbconvert_exporter": "python",
   "pygments_lexer": "ipython3",
   "version": "3.7.6"
  }
 },
 "nbformat": 4,
 "nbformat_minor": 4
}
