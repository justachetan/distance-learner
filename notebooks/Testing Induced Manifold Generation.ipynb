{
 "cells": [
  {
   "cell_type": "code",
   "execution_count": 1,
   "metadata": {},
   "outputs": [],
   "source": [
    "import os\n",
    "import multiprocessing\n",
    "from functools import partial\n",
    "\n",
    "import faiss\n",
    "import numpy as np\n",
    "import scipy.linalg as spla\n",
    "import torch\n",
    "\n",
    "from tqdm.notebook import tqdm\n",
    "from sklearn.decomposition import PCA\n",
    "\n",
    "import matplotlib.pyplot as plt\n",
    "import plotly.graph_objects as go\n"
   ]
  },
  {
   "cell_type": "code",
   "execution_count": 2,
   "metadata": {},
   "outputs": [],
   "source": [
    "class FaissKNeighbors:\n",
    "    def __init__(self, k=5):\n",
    "        self.index = None\n",
    "        self.y = None\n",
    "        self.k = k\n",
    "\n",
    "    def fit(self, X, y):\n",
    "        self.index = faiss.IndexFlatL2(X.shape[1])\n",
    "        self.index.add(X.astype(np.float32))\n",
    "        self.res = faiss.StandardGpuResources()\n",
    "\n",
    "        self.gpu_index = faiss.index_cpu_to_gpu(\n",
    "            self.res,\n",
    "            0,\n",
    "            self.index\n",
    "        )\n",
    "        self.y = y\n",
    "\n",
    "    def predict(self, X):\n",
    "        distances, indices = self.gpu_index.search(X.astype(np.float32), k=self.k)\n",
    "        votes = self.y[indices]\n",
    "        predictions = np.array([np.argmax(np.bincount(x)) for x in votes])\n",
    "        return indices, distances"
   ]
  },
  {
   "cell_type": "code",
   "execution_count": 3,
   "metadata": {},
   "outputs": [],
   "source": [
    "# basic params\n",
    "\n",
    "k = 2\n",
    "n = 3\n",
    "N = 500000\n",
    "num_neg = 250000\n",
    "num_pos = N - num_neg\n",
    "r = 1.0\n",
    "max_norm = 0.1\n",
    "\n",
    "k_neighbors = k\n",
    "\n",
    "# making the sphere\n",
    "\n",
    "points_k = np.random.normal(0, 1, size=(num_pos, k))\n",
    "points_k = r * (points_k / np.linalg.norm(points_k, ord=2, axis=1).reshape(-1, 1))\n",
    "\n",
    "points_n = np.zeros((N, n))\n",
    "points_n[num_neg:, :k] = points_k\n",
    "\n",
    "poca_idx = np.zeros(num_neg, dtype=np.int64) # point-of-closest-approach -- poca\n",
    "poca_idx[:num_pos] = np.arange(num_pos, dtype=np.int64)\n",
    "poca_idx[num_pos:] = np.random.choice(np.arange(num_pos), size=num_neg - num_pos, replace=True).astype(np.int64)\n",
    "poca = points_n[num_neg:][poca_idx] # points of closest approach\n",
    "\n",
    "\n",
    "knn = FaissKNeighbors(k=k_neighbors + 1)\n",
    "knn.fit(points_n[num_neg:], y=np.zeros(num_pos, dtype=np.int64))\n",
    "\n",
    "# nbhrs, dists = knn.predict()\n",
    "    \n",
    "var_thresh = 0.99 # threshold of explained variance for selecting normal directions\n"
   ]
  },
  {
   "cell_type": "code",
   "execution_count": null,
   "metadata": {},
   "outputs": [],
   "source": []
  },
  {
   "cell_type": "code",
   "execution_count": 4,
   "metadata": {},
   "outputs": [],
   "source": [
    "indices, dists = knn.predict(poca)\n",
    "\n"
   ]
  },
  {
   "cell_type": "code",
   "execution_count": null,
   "metadata": {},
   "outputs": [],
   "source": [
    "%%time\n",
    "off_mfld_pts = np.zeros((num_neg, n))\n",
    "off_mfld_dists = np.zeros(num_neg)\n",
    "\n",
    "new_poca = np.zeros((num_neg, n))\n",
    "new_poca_prturb_sizes = np.zeros(num_neg)\n",
    "\n",
    "# def make_off_mfld_eg(idx, points_n, indices):\n",
    "\n",
    "def make_perturbed_poca(idx):\n",
    "    \n",
    "    global points_n\n",
    "    global poca\n",
    "    global indices\n",
    "    global dists\n",
    "    global num_neg\n",
    "    global num_pos\n",
    "    \n",
    "    prturb_size = 0\n",
    "    \n",
    "    if idx < num_pos:\n",
    "        # one copy of poca should be unperturbed\n",
    "        return (idx, poca[idx], prturb_size)\n",
    "    \n",
    "    on_mfld_pt = poca[idx]\n",
    "    nbhr_indices = indices[idx]\n",
    "    if idx in nbhr_indices:\n",
    "        nbhr_indices = nbhr_indices[nbhr_indices != idx]\n",
    "    else:\n",
    "        nbhr_indices = nbhr_indices[:-1]\n",
    "    nbhrs = points_n[num_neg:][nbhr_indices]\n",
    "    nbhr_local_coords = nbhrs - on_mfld_pt\n",
    "    nbhr_dists = dists[idx]\n",
    "    \n",
    "    pca = PCA()\n",
    "    pca.fit(nbhr_local_coords)\n",
    "    expl_var = pca.explained_variance_ratio_\n",
    "    cum_expl_var = np.cumsum(expl_var)\n",
    "    tmp = np.where(cum_expl_var > var_thresh)[0][0] + 1\n",
    "    normal_dirs = pca.components_[tmp:] # picking components that explain (1 - var_thresh)\n",
    "    tangential_dirs = pca.components_[:tmp]\n",
    "    \n",
    "    rdm_coeffs = np.random.normal(0, 1, size=tangential_dirs.shape[0])\n",
    "    delta = np.sum(rdm_coeffs.reshape(-1, 1) * tangential_dirs, axis=0)\n",
    "    \n",
    "    prturb_max = np.sqrt(max(nbhr_dists)) # faiss returns square of L2 norm of difference\n",
    "    prturb_size = np.random.uniform(0, 1) * prturb_max\n",
    "    delta = (prturb_size / np.linalg.norm(delta, ord=2)) * delta\n",
    "    \n",
    "    prturb_poca = on_mfld_pt + delta\n",
    "    return (idx, prturb_poca, prturb_size)\n",
    "    \n",
    "with multiprocessing.Pool(processes=24) as pool:\n",
    "    results = pool.map(make_perturbed_poca, range(num_neg))\n",
    "    \n",
    "for i in range(num_neg):\n",
    "    new_poca[i] = results[i][1]\n",
    "    new_poca_prturb_sizes[i] = results[i][2]"
   ]
  },
  {
   "cell_type": "code",
   "execution_count": null,
   "metadata": {},
   "outputs": [],
   "source": [
    "tangential_dirs"
   ]
  },
  {
   "cell_type": "code",
   "execution_count": null,
   "metadata": {},
   "outputs": [],
   "source": [
    "%%time\n",
    "\n",
    "new_indices, new_dists = knn.predict(new_poca)     "
   ]
  },
  {
   "cell_type": "code",
   "execution_count": null,
   "metadata": {},
   "outputs": [],
   "source": [
    "%%time\n",
    "\n",
    "def make_off_mfld_eg(idx):\n",
    "    \n",
    "    global new_poca\n",
    "    global points_n\n",
    "    global new_indices\n",
    "    global noise_perturbations\n",
    "    global num_neg\n",
    "    global num_pos   \n",
    "    \n",
    "    on_mfld_pt = new_poca[idx]\n",
    "    nbhr_indices = new_indices[idx]\n",
    "    if idx in nbhr_indices:\n",
    "        nbhr_indices = nbhr_indices[nbhr_indices != idx]\n",
    "    else:\n",
    "        nbhr_indices = nbhr_indices[:-1]\n",
    "        \n",
    "    nbhrs = points_n[num_neg:][nbhr_indices]\n",
    "    nbhr_local_coords = nbhrs - on_mfld_pt\n",
    "    \n",
    "    pca = PCA()\n",
    "    pca.fit(nbhr_local_coords)\n",
    "    expl_var = pca.explained_variance_ratio_\n",
    "    cum_expl_var = np.cumsum(expl_var)\n",
    "    tmp = np.where(cum_expl_var > var_thresh)[0][0] + 1\n",
    "    normal_dirs = pca.components_[tmp:] # picking components that explain (1 - var_thresh)\n",
    "        \n",
    "    \n",
    "    rdm_coeffs = np.random.normal(0, 1, size=normal_dirs.shape[0])\n",
    "    off_mfld_pt = np.sum(rdm_coeffs.reshape(-1, 1) * normal_dirs, axis=0)\n",
    "    rdm_norm = np.random.uniform(0, max_norm)\n",
    "    off_mfld_pt = off_mfld_pt * (rdm_norm / np.linalg.norm(off_mfld_pt))\n",
    "    off_mfld_pt += on_mfld_pt\n",
    "    \n",
    "    \n",
    "    return (idx, off_mfld_pt, rdm_norm)\n",
    "\n",
    "with multiprocessing.Pool(processes=24) as pool:\n",
    "    results = pool.map(make_off_mfld_eg, range(num_neg))\n",
    "\n",
    "\n",
    "    \n",
    "for i in range(len(results)):\n",
    "    off_mfld_pts[i] = results[i][1]\n",
    "    off_mfld_dists[i] = results[i][2]\n",
    "    \n",
    "\n",
    "    \n",
    "    \n",
    "    \n",
    "# for idx in tqdm(range(N // 2)):\n",
    "#     on_mfld_pt = points_n[idx]\n",
    "#     nbhr_indices = indices[idx]\n",
    "#     nbhr_indices = nbhr_indices[nbhr_indices != idx]\n",
    "#     nbhrs = points_n[nbhr_indices]\n",
    "#     nbhr_local_coords = nbhrs - on_mfld_pt\n",
    "    \n",
    "#     pca = PCA()\n",
    "#     pca.fit(nbhr_local_coords)\n",
    "#     expl_var = pca.explained_variance_ratio_\n",
    "#     cum_expl_var = np.cumsum(expl_var)\n",
    "#     tmp = np.where(cum_expl_var > var_thresh)[0][0] + 1\n",
    "#     normal_dirs = pca.components_[tmp:] # picking components that explain (1 - var_thresh)\n",
    "    \n",
    "#     rdm_coeffs = np.random.normal(0, 1, size=normal_dirs.shape[0])\n",
    "#     off_mfld_pt = np.sum(rdm_coeffs.reshape(-1, 1) * normal_dirs, axis=0)\n",
    "#     rdm_norm = np.random.uniform(0, max_norm)\n",
    "#     off_mfld_pt = off_mfld_pt * (rdm_norm / np.linalg.norm(off_mfld_pt))\n",
    "#     off_mfld_dists[idx] = rdm_norm\n",
    "#     off_mfld_pt += on_mfld_pt\n",
    "#     off_mfld_pts[idx] = off_mfld_pt\n",
    "#     break\n",
    "\n",
    "    \n",
    "    "
   ]
  },
  {
   "cell_type": "code",
   "execution_count": null,
   "metadata": {},
   "outputs": [],
   "source": []
  },
  {
   "cell_type": "code",
   "execution_count": null,
   "metadata": {
    "scrolled": true
   },
   "outputs": [],
   "source": [
    "plt.figure(figsize=(4, 4))\n",
    "# plt.scatter(off_mfld_pts[:, 0], off_mfld_pts[:, 1], s=0.01, alpha=0.5)\n",
    "plt.scatter(points_n[num_neg:, 0], points_n[num_neg:, 1], s=0.01, alpha=0.5)\n",
    "idx = 159\n",
    "# plt.scatter(off_mfld_pts[:, 0], off_mfld_pts[:, 1], color=\"cyan\")\n",
    "\n",
    "# plt.scatter(off_mfld_pts[idx, 0], off_mfld_pts[idx, 1], color=\"red\")\n",
    "plt.scatter(points_n[num_neg:][idx, 0], points_n[num_neg:][idx, 1], color=\"orange\")\n",
    "\n",
    "plt.scatter(points_n[num_neg:][indices[idx], 0], points_n[num_neg:][indices[idx], 1], s=0.1, c=\"blue\")\n",
    "\n",
    "nbhr_indices = indices[idx]\n",
    "if poca_idx[idx] in nbhr_indices:\n",
    "    nbhr_indices = nbhr_indices[nbhr_indices != poca_idx[idx]]\n",
    "else:\n",
    "    nbhr_indices = nbhr_indices[:-1]\n",
    "\n",
    "nbhrs = points_n[num_neg:][nbhr_indices]\n",
    "local_nbhr_coords = nbhrs - poca[idx]\n",
    "pca = PCA(n_components=1)\n",
    "pca.fit(local_nbhr_coords)\n",
    "\n",
    "normal_dirs = spla.null_space()\n",
    "\n",
    "colors = [\"orange\", \"green\"]\n",
    "labels = np.round(pca.explained_variance_ratio_, 3)\n",
    "arrows = list()\n",
    "for i in range(pca.components_.shape[0]):\n",
    "    arr = plt.arrow(points_n[idx, 0], points_n[idx, 1], pca.components_[i, 0], pca.components_[i, 1], label=str(labels[i]), color=colors[i])\n",
    "    arrows.append(arr)\n",
    "plt.legend(arrows, [str(i) for i in labels])"
   ]
  },
  {
   "cell_type": "code",
   "execution_count": 5,
   "metadata": {},
   "outputs": [],
   "source": [
    "if n == 3:\n",
    "    \n",
    "    data = list()\n",
    "    \n",
    "    data.append(\n",
    "        go.Scatter3d(\n",
    "            x=points_n[num_neg:, 0],\n",
    "            y=points_n[num_neg:, 1],\n",
    "            z=points_n[num_neg:, 2],\n",
    "            name=\"S\",\n",
    "            mode='markers',\n",
    "            marker=dict(\n",
    "                size=1,\n",
    "                color=\"orange\",                # set color to an array/list of desired values\n",
    "                colorscale='Viridis',   # choose a colorscale\n",
    "                opacity=0.8\n",
    "            )\n",
    "        )\n",
    "    )\n",
    "    \n",
    "    idx = 159\n",
    "    \n",
    "    data.append(\n",
    "        go.Scatter3d(\n",
    "            x=points_n[num_neg:][indices[idx], 0],\n",
    "            y=points_n[num_neg:][indices[idx], 1],\n",
    "            z=points_n[num_neg:][indices[idx], 2],\n",
    "            name=\"knn\",\n",
    "            mode='markers',\n",
    "            marker=dict(\n",
    "                size=1,\n",
    "                color=\"blue\",                # set color to an array/list of desired values\n",
    "                colorscale='Viridis',   # choose a colorscale\n",
    "                opacity=0.8\n",
    "            )\n",
    "        )\n",
    "    )\n",
    "    \n",
    "    \n",
    "\n",
    "    data.append(\n",
    "        go.Scatter3d(\n",
    "            x=poca[idx:idx+1, 0],\n",
    "            y=poca[idx:idx+1, 1],\n",
    "            z=poca[idx:idx+1:, 2],\n",
    "            name=\"S\",\n",
    "            mode='markers',\n",
    "            marker=dict(\n",
    "                size=1,\n",
    "                color=\"black\",                # set color to an array/list of desired values\n",
    "                colorscale='Viridis',   # choose a colorscale\n",
    "                opacity=0.8\n",
    "            )\n",
    "        )\n",
    "    )\n",
    "    \n",
    "    fig = go.Figure(data=data)\n",
    "    \n",
    "    nbhr_indices = indices[idx]\n",
    "    if poca_idx[idx] in nbhr_indices:\n",
    "        nbhr_indices = nbhr_indices[nbhr_indices != poca_idx[idx]]\n",
    "    else:\n",
    "        nbhr_indices = nbhr_indices[:-1]\n",
    "\n",
    "    nbhrs = points_n[num_neg:][nbhr_indices]\n",
    "    local_nbhr_coords = nbhrs - poca[idx]\n",
    "    pca = PCA(n_components=1)\n",
    "    pca.fit(local_nbhr_coords)\n",
    "\n",
    "    tangent_dirs = pca.components_\n",
    "    normal_dirs = spla.null_space(tangent_dirs).T\n",
    "    \n",
    "    tangent_dirs += poca[idx]\n",
    "    normal_dirs += poca[idx]\n",
    "    \n",
    "    x_lines = list()\n",
    "    y_lines = list()\n",
    "    z_lines = list()\n",
    "    \n",
    "    for vec in tangent_dirs:\n",
    "        x_lines.append(poca[idx][0])\n",
    "        x_lines.append(vec[0])\n",
    "        x_lines.append(None)\n",
    "        \n",
    "        y_lines.append(poca[idx][1])\n",
    "        y_lines.append(vec[1])\n",
    "        y_lines.append(None)\n",
    "        \n",
    "        z_lines.append(poca[idx][2])\n",
    "        z_lines.append(vec[2])\n",
    "        z_lines.append(None)\n",
    "    \n",
    "    line_traces = go.Scatter3d(\n",
    "        x=x_lines,\n",
    "        y=y_lines,\n",
    "        z=z_lines,\n",
    "        mode='lines',\n",
    "        line = dict(width = 2, color = 'rgb(255, 0,0)'))\n",
    "\n",
    "    fig.add_trace(line_traces)\n",
    "    \n",
    "    x_lines = list()\n",
    "    y_lines = list()\n",
    "    z_lines = list()\n",
    "    for vec in normal_dirs:\n",
    "        x_lines.append(poca[idx][0])\n",
    "        x_lines.append(vec[0])\n",
    "        x_lines.append(None)\n",
    "        \n",
    "        y_lines.append(poca[idx][1])\n",
    "        y_lines.append(vec[1])\n",
    "        y_lines.append(None)\n",
    "        \n",
    "        z_lines.append(poca[idx][2])\n",
    "        z_lines.append(vec[2])\n",
    "        z_lines.append(None)\n",
    "        \n",
    "    line_traces = go.Scatter3d(\n",
    "        x=x_lines,\n",
    "        y=y_lines,\n",
    "        z=z_lines,\n",
    "        mode='lines',\n",
    "        line = dict(width = 2, color = 'rgb(0, 255,0)'))\n",
    "\n",
    "    fig.add_trace(line_traces)\n",
    "    \n",
    "    fig.update_layout(margin=dict(l=0, r=0, b=0, t=0))\n",
    "\n",
    "    fig.write_html(\"test-3D.html\")\n",
    "    \n",
    "    # ------------------------------------------------------------------\n",
    "        \n",
    "    rdm_coeffs = np.random.normal(0, 1, size=tangent_dirs.shape[0])\n",
    "    t_pbn = np.sum(rdm_coeffs.reshape(-1, 1) * tangent_dirs, axis=0)\n",
    "    t_pbn = t_pbn * (0.01 / np.linalg.norm(t_pbn))\n",
    "    pb_on_mfld = poca[idx] + t_pbn\n",
    "    \n",
    "    new_on_mfld_pt_trace = go.Scatter3d(\n",
    "            x=pb_on_mfld.reshape(1, -1)[:, 0],\n",
    "            y=pb_on_mfld.reshape(1, -1)[:, 1],\n",
    "            z=pb_on_mfld.reshape(1, -1)[:, 2],\n",
    "            name=\"S_pb\",\n",
    "            mode='markers',\n",
    "            marker=dict(\n",
    "                size=1,\n",
    "                color=\"magenta\",                # set color to an array/list of desired values\n",
    "                colorscale='Viridis',   # choose a colorscale\n",
    "                opacity=0.8\n",
    "            )\n",
    "        )\n",
    "    \n",
    "    new_indices, new_dists = knn.predict(pb_on_mfld.reshape(1, -1))\n",
    "    \n",
    "    new_nbhr_indices = new_indices[0]\n",
    "    if poca[idx] in new_nbhr_indices:\n",
    "        new_nbhr_indices = new_nbhr_indices[new_nbhr_indices != poca[idx]]\n",
    "    else:\n",
    "        new_nbhr_indices = new_nbhr_indices[:-1]\n",
    "        \n",
    "    new_nbhrs = points_n[num_neg:][new_nbhr_indices]\n",
    "    new_nbhr_local_coords = new_nbhrs - pb_on_mfld\n",
    "    \n",
    "    new_pca = PCA(n_components=1)\n",
    "    new_pca.fit(new_nbhr_local_coords)\n",
    "    \n",
    "    new_tangent_dirs = new_pca.components_ \n",
    "    new_normal_dirs = spla.null_space(new_tangent_dirs).T \n",
    "    new_tangent_dirs += pb_on_mfld\n",
    "    new_normal_dirs += pb_on_mfld\n",
    "    \n",
    "    normal_coeffs = np.random.normal(0, 1, size=new_normal_dirs.shape[0])\n",
    "    normal_pbn = np.sum(normal_coeffs.reshape(-1, 1) * new_normal_dirs, axis=0)\n",
    "    \n",
    "    off_mfld_pt = pb_on_mfld + normal_pbn\n",
    "    \n",
    "    x_lines = list()\n",
    "    y_lines = list()\n",
    "    z_lines = list()\n",
    "    \n",
    "    \n",
    "    for vec in new_tangent_dirs:\n",
    "        x_lines.append(pb_on_mfld[0])\n",
    "        x_lines.append(vec[0])\n",
    "        x_lines.append(None)\n",
    "        \n",
    "        y_lines.append(pb_on_mfld[1])\n",
    "        y_lines.append(vec[1])\n",
    "        y_lines.append(None)\n",
    "        \n",
    "        z_lines.append(pb_on_mfld[2])\n",
    "        z_lines.append(vec[2])\n",
    "        z_lines.append(None)\n",
    "    \n",
    "    line_traces = go.Scatter3d(\n",
    "        x=x_lines,\n",
    "        y=y_lines,\n",
    "        z=z_lines,\n",
    "        mode='lines',\n",
    "        line = dict(width = 2, color = 'rgb(255, 0,0)'))\n",
    "\n",
    "    fig.add_trace(line_traces)\n",
    "    \n",
    "    \n",
    "    x_lines = list()\n",
    "    y_lines = list()\n",
    "    z_lines = list()\n",
    "    for vec in new_normal_dirs:\n",
    "        x_lines.append(pb_on_mfld[0])\n",
    "        x_lines.append(vec[0])\n",
    "        x_lines.append(None)\n",
    "        \n",
    "        y_lines.append(pb_on_mfld[1])\n",
    "        y_lines.append(vec[1])\n",
    "        y_lines.append(None)\n",
    "        \n",
    "        z_lines.append(pb_on_mfld[2])\n",
    "        z_lines.append(vec[2])\n",
    "        z_lines.append(None)\n",
    "    \n",
    "    \n",
    "    \n",
    "    line_traces = go.Scatter3d(\n",
    "        x=x_lines,\n",
    "        y=y_lines,\n",
    "        z=z_lines,\n",
    "        mode='lines',\n",
    "        line = dict(width = 2, color = 'rgb(0, 255,0)'))\n",
    "    \n",
    "    fig.add_trace(line_traces)\n",
    "    \n",
    "    off_mfld_trace = go.Scatter3d(\n",
    "        x=[pb_on_mfld[0], off_mfld_pt[0], None],\n",
    "        y=[pb_on_mfld[1], off_mfld_pt[1], None],\n",
    "        z=[pb_on_mfld[2], off_mfld_pt[2], None],\n",
    "        mode=\"lines\",\n",
    "        line = dict(width = 2, color = \"black\")\n",
    "    )\n",
    "    \n",
    "    fig.add_trace(off_mfld_trace)\n",
    "    fig.update_layout(margin=dict(l=0, r=0, b=0, t=0))\n",
    "    \n",
    "    fig.write_html(\"test-3D-2.html\")\n",
    "\n",
    "#     colors = [\"orange\", \"green\"]\n",
    "#     labels = np.round(pca.explained_variance_ratio_, 3)\n",
    "#     arrows = list()\n",
    "#     for i in range(pca.components_.shape[0]):\n",
    "#         arr = plt.arrow(points_n[idx, 0], points_n[idx, 1], pca.components_[i, 0], pca.components_[i, 1], label=str(labels[i]), color=colors[i])\n",
    "#         arrows.append(arr)\n",
    "#     plt.legend(arrows, [str(i) for i in labels])"
   ]
  },
  {
   "cell_type": "code",
   "execution_count": 6,
   "metadata": {},
   "outputs": [
    {
     "data": {
      "text/plain": [
       "array([[-1.6497022 ,  1.13070007,  0.        ],\n",
       "       [-0.8248624 ,  0.56533355,  1.        ]])"
      ]
     },
     "execution_count": 6,
     "metadata": {},
     "output_type": "execute_result"
    }
   ],
   "source": [
    "normal_dirs"
   ]
  },
  {
   "cell_type": "code",
   "execution_count": 7,
   "metadata": {},
   "outputs": [
    {
     "data": {
      "text/plain": [
       "array([-0.8248624 ,  0.56533355,  0.        ])"
      ]
     },
     "execution_count": 7,
     "metadata": {},
     "output_type": "execute_result"
    }
   ],
   "source": [
    "poca[idx]"
   ]
  },
  {
   "cell_type": "code",
   "execution_count": 8,
   "metadata": {},
   "outputs": [
    {
     "data": {
      "text/plain": [
       "0.9929539675692383"
      ]
     },
     "execution_count": 8,
     "metadata": {},
     "output_type": "execute_result"
    }
   ],
   "source": [
    "np.linalg.norm(pb_on_mfld)"
   ]
  },
  {
   "cell_type": "code",
   "execution_count": 19,
   "metadata": {},
   "outputs": [
    {
     "data": {
      "text/plain": [
       "1.0000806799343072"
      ]
     },
     "execution_count": 19,
     "metadata": {},
     "output_type": "execute_result"
    }
   ],
   "source": [
    "np.dot(poca[idx], tangent_dirs[0])"
   ]
  },
  {
   "cell_type": "code",
   "execution_count": 28,
   "metadata": {},
   "outputs": [
    {
     "data": {
      "text/plain": [
       "0.0"
      ]
     },
     "execution_count": 28,
     "metadata": {},
     "output_type": "execute_result"
    }
   ],
   "source": [
    "np.dot(pca.components_[0], spla.null_space(pca.components_).T[1])"
   ]
  },
  {
   "cell_type": "code",
   "execution_count": null,
   "metadata": {},
   "outputs": [],
   "source": [
    "pca.components_"
   ]
  },
  {
   "cell_type": "code",
   "execution_count": null,
   "metadata": {},
   "outputs": [],
   "source": [
    "nbhr_indices"
   ]
  },
  {
   "cell_type": "code",
   "execution_count": null,
   "metadata": {},
   "outputs": [],
   "source": [
    "pca.components_"
   ]
  },
  {
   "cell_type": "code",
   "execution_count": null,
   "metadata": {},
   "outputs": [],
   "source": [
    "normal_dirs"
   ]
  },
  {
   "cell_type": "code",
   "execution_count": null,
   "metadata": {},
   "outputs": [],
   "source": [
    "pca.components_.shape"
   ]
  },
  {
   "cell_type": "code",
   "execution_count": null,
   "metadata": {},
   "outputs": [],
   "source": [
    "plt.figure(figsize=(4, 4))\n"
   ]
  },
  {
   "cell_type": "code",
   "execution_count": null,
   "metadata": {},
   "outputs": [],
   "source": [
    "np.dot(off_mfld_pt - on_mfld_pt, nbhr_local_coords[2])"
   ]
  },
  {
   "cell_type": "code",
   "execution_count": null,
   "metadata": {},
   "outputs": [],
   "source": [
    "rdm_idx = np.random.choice(np.arange(num_neg), 10000, replace=False)\n",
    "min_true_dists = np.zeros(rdm_idx.shape[0])\n",
    "dev_frm_on_mfld = np.zeros(rdm_idx.shape[0])\n",
    "for idx in tqdm(range(rdm_idx.shape[0])):\n",
    "    true_off_mfld_dists = np.linalg.norm(off_mfld_pts[rdm_idx[idx]] - points_n[num_neg:,:], ord=2, axis=1)\n",
    "    min_true_dist = np.min(true_off_mfld_dists)\n",
    "    min_true_dists[idx] = min_true_dist\n",
    "    min_true_dist_idx = np.argmin(true_off_mfld_dists)\n",
    "    dev_frm_on_mfld[idx] = np.linalg.norm(points_n[num_neg:][min_true_dist_idx] - new_poca[rdm_idx[idx]])\n",
    "    \n",
    "    "
   ]
  },
  {
   "cell_type": "code",
   "execution_count": null,
   "metadata": {},
   "outputs": [],
   "source": [
    "rdm_idx"
   ]
  },
  {
   "cell_type": "code",
   "execution_count": null,
   "metadata": {},
   "outputs": [],
   "source": [
    "plt.hist(min_true_dists - off_mfld_dists[rdm_idx])\n",
    "plt.xlabel(\"abs. error between true and approx. distance\")\n",
    "plt.ylabel(\"count\")\n",
    "plt.title(\"error in distance for k={},n={} (10k random samples)\".format(k, n))\n",
    "plt.show()"
   ]
  },
  {
   "cell_type": "code",
   "execution_count": null,
   "metadata": {},
   "outputs": [],
   "source": [
    "max(min_true_dists - off_mfld_dists[rdm_idx])"
   ]
  },
  {
   "cell_type": "code",
   "execution_count": null,
   "metadata": {},
   "outputs": [],
   "source": [
    "plt.hist(new_poca_prturb_sizes)"
   ]
  },
  {
   "cell_type": "code",
   "execution_count": null,
   "metadata": {},
   "outputs": [],
   "source": [
    "np.where(np.abs(min_true_dists - off_mfld_dists[rdm_idx]) > 5e-6)"
   ]
  },
  {
   "cell_type": "code",
   "execution_count": null,
   "metadata": {},
   "outputs": [],
   "source": []
  },
  {
   "cell_type": "code",
   "execution_count": null,
   "metadata": {},
   "outputs": [],
   "source": [
    "plt.hist(dev_frm_on_mfld)\n",
    "plt.xlabel(\"L2 distance\")\n",
    "plt.ylabel(\"count\")\n",
    "plt.title(\"true vs approx. point of approach for k={},n={} (10k random samples)\".format(k, n))\n",
    "plt.show()"
   ]
  },
  {
   "cell_type": "code",
   "execution_count": null,
   "metadata": {},
   "outputs": [],
   "source": [
    "max(dev_frm_on_mfld)"
   ]
  },
  {
   "cell_type": "code",
   "execution_count": null,
   "metadata": {},
   "outputs": [],
   "source": [
    "np.argmin(np.linalg.norm(off_mfld_pts[0] - points_n[:N//2,:], ord=2, axis=1)), \\\n",
    "np.min(np.linalg.norm(off_mfld_pts[0] - points_n[:N//2,:], ord=2, axis=1))"
   ]
  },
  {
   "cell_type": "code",
   "execution_count": null,
   "metadata": {},
   "outputs": [],
   "source": [
    "np.linalg.norm(off_mfld_pts[0] - points_n[:N//2,:], ord=2, axis=1)"
   ]
  },
  {
   "cell_type": "code",
   "execution_count": null,
   "metadata": {},
   "outputs": [],
   "source": [
    "np.linalg.norm(points_n[141727] - points_n[0])"
   ]
  },
  {
   "cell_type": "code",
   "execution_count": null,
   "metadata": {},
   "outputs": [],
   "source": [
    "off_mfld_dists[0]"
   ]
  },
  {
   "cell_type": "code",
   "execution_count": null,
   "metadata": {},
   "outputs": [],
   "source": [
    "tmp = np.random.normal(0, 1, size=(50, 500))\n",
    "tmp_pca = PCA()\n",
    "tmp_pca.fit(tmp)\n"
   ]
  },
  {
   "cell_type": "code",
   "execution_count": null,
   "metadata": {},
   "outputs": [],
   "source": [
    "tmp_pca.components_.shape"
   ]
  },
  {
   "cell_type": "code",
   "execution_count": null,
   "metadata": {},
   "outputs": [],
   "source": [
    "tmp_pca.explained_variance_ratio_"
   ]
  },
  {
   "cell_type": "code",
   "execution_count": 6,
   "metadata": {},
   "outputs": [],
   "source": [
    "a = np.array(\n",
    "    [\n",
    "        [\n",
    "            [0, 1, 0],\n",
    "            [1, 0, 0]\n",
    "        ],\n",
    "        [\n",
    "            [0, 1, 0],\n",
    "            [0, 0, 1]\n",
    "        ]\n",
    "    ]\n",
    ")"
   ]
  },
  {
   "cell_type": "code",
   "execution_count": 14,
   "metadata": {},
   "outputs": [
    {
     "data": {
      "text/plain": [
       "[4, 5, 6, 7, 8, 9]"
      ]
     },
     "execution_count": 14,
     "metadata": {},
     "output_type": "execute_result"
    }
   ],
   "source": [
    "list(range(4, 10))"
   ]
  },
  {
   "cell_type": "code",
   "execution_count": null,
   "metadata": {},
   "outputs": [],
   "source": []
  }
 ],
 "metadata": {
  "kernelspec": {
   "display_name": "Python 3",
   "language": "python",
   "name": "python3"
  },
  "language_info": {
   "codemirror_mode": {
    "name": "ipython",
    "version": 3
   },
   "file_extension": ".py",
   "mimetype": "text/x-python",
   "name": "python",
   "nbconvert_exporter": "python",
   "pygments_lexer": "ipython3",
   "version": "3.7.6"
  }
 },
 "nbformat": 4,
 "nbformat_minor": 4
}
