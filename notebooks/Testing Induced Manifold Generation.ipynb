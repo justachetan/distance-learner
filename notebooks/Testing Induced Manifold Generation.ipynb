{
 "cells": [
  {
   "cell_type": "code",
   "execution_count": null,
   "metadata": {},
   "outputs": [],
   "source": [
    "import os\n",
    "import multiprocessing\n",
    "from functools import partial\n",
    "\n",
    "import faiss\n",
    "import numpy as np\n",
    "import torch\n",
    "\n",
    "from tqdm.notebook import tqdm\n",
    "from sklearn.decomposition import PCA\n",
    "\n",
    "import matplotlib.pyplot as plt"
   ]
  },
  {
   "cell_type": "code",
   "execution_count": 2,
   "metadata": {},
   "outputs": [],
   "source": [
    "class FaissKNeighbors:\n",
    "    def __init__(self, k=5):\n",
    "        self.index = None\n",
    "        self.y = None\n",
    "        self.k = k\n",
    "\n",
    "    def fit(self, X, y):\n",
    "        self.index = faiss.IndexFlatL2(X.shape[1])\n",
    "        self.index.add(X.astype(np.float32))\n",
    "        self.res = faiss.StandardGpuResources()\n",
    "\n",
    "        self.gpu_index = faiss.index_cpu_to_gpu(\n",
    "            self.res,\n",
    "            0,\n",
    "            self.index\n",
    "        )\n",
    "        self.y = y\n",
    "\n",
    "    def predict(self, X):\n",
    "        distances, indices = self.gpu_index.search(X.astype(np.float32), k=self.k)\n",
    "        votes = self.y[indices]\n",
    "        predictions = np.array([np.argmax(np.bincount(x)) for x in votes])\n",
    "        return indices, distances"
   ]
  },
  {
   "cell_type": "code",
   "execution_count": 3,
   "metadata": {},
   "outputs": [],
   "source": [
    "# basic params\n",
    "\n",
    "k = 2\n",
    "n = 2\n",
    "N = 1000000\n",
    "num_neg = 500000\n",
    "num_pos = N - num_neg\n",
    "r = 1.0\n",
    "max_norm = 0.1\n",
    "\n",
    "k_neighbors = 50\n",
    "\n",
    "# making the sphere\n",
    "\n",
    "points_k = np.random.normal(0, 1, size=(num_pos, k))\n",
    "points_k = r * (points_k / np.linalg.norm(points_k, ord=2, axis=1).reshape(-1, 1))\n",
    "\n",
    "points_n = np.zeros((N, n))\n",
    "points_n[num_neg:, :k] = points_k\n",
    "\n",
    "poca_idx = np.zeros(num_neg, dtype=np.int64) # point-of-closest-approach -- poca\n",
    "poca_idx[:num_pos] = np.arange(num_pos, dtype=np.int64)\n",
    "poca_idx[num_pos:] = np.random.choice(np.arange(num_pos), size=num_neg - num_pos, replace=True).astype(np.int64)\n",
    "poca = points_n[num_neg:][poca_idx] # points of closest approach\n",
    "\n",
    "\n",
    "knn = FaissKNeighbors(k=k_neighbors + 1)\n",
    "knn.fit(points_n[num_neg:], y=np.zeros(num_pos, dtype=np.int64))\n",
    "\n",
    "# nbhrs, dists = knn.predict()\n",
    "    \n",
    "var_thresh = 0.99 # threshold of explained variance for selecting normal directions\n"
   ]
  },
  {
   "cell_type": "code",
   "execution_count": null,
   "metadata": {},
   "outputs": [],
   "source": []
  },
  {
   "cell_type": "code",
   "execution_count": 4,
   "metadata": {},
   "outputs": [],
   "source": [
    "indices, dists = knn.predict(poca)\n",
    "\n"
   ]
  },
  {
   "cell_type": "code",
   "execution_count": 5,
   "metadata": {},
   "outputs": [
    {
     "data": {
      "text/plain": [
       "(array([64528, 29217, 29068, 28249, 83681, 43199, 38438, 64666, 45009,\n",
       "        97361, 31766, 17147, 96267, 75021, 80608, 57611,  5318, 30957,\n",
       "        72723,  5063, 74994, 75263, 37730, 40554, 44184, 75045, 20945,\n",
       "        12103, 36819, 32025, 75338, 98304, 40356, 41851,  5408, 61243,\n",
       "        79709, 60671,  9638, 93631, 49254, 14028, 15426, 15739, 99823,\n",
       "        79809, 26499, 31656, 16244,  1938, 85043]),\n",
       " array([0.0000000e+00, 0.0000000e+00, 0.0000000e+00, 0.0000000e+00,\n",
       "        0.0000000e+00, 5.9604645e-08, 5.9604645e-08, 5.9604645e-08,\n",
       "        5.9604645e-08, 5.9604645e-08, 5.9604645e-08, 5.9604645e-08,\n",
       "        1.1920929e-07, 1.1920929e-07, 1.1920929e-07, 1.1920929e-07,\n",
       "        1.7881393e-07, 1.7881393e-07, 1.7881393e-07, 2.3841858e-07,\n",
       "        2.3841858e-07, 2.3841858e-07, 2.3841858e-07, 2.9802322e-07,\n",
       "        2.9802322e-07, 3.5762787e-07, 4.1723251e-07, 4.1723251e-07,\n",
       "        4.1723251e-07, 4.7683716e-07, 5.9604645e-07, 6.5565109e-07,\n",
       "        6.5565109e-07, 7.7486038e-07, 8.9406967e-07, 8.9406967e-07,\n",
       "        8.9406967e-07, 8.9406967e-07, 8.9406967e-07, 1.0132790e-06,\n",
       "        1.0132790e-06, 1.0132790e-06, 1.0132790e-06, 1.1324883e-06,\n",
       "        1.2516975e-06, 1.2516975e-06, 1.4305115e-06, 1.6093254e-06,\n",
       "        1.7285347e-06, 1.8477440e-06, 1.8477440e-06], dtype=float32))"
      ]
     },
     "execution_count": 5,
     "metadata": {},
     "output_type": "execute_result"
    }
   ],
   "source": [
    "indices[-1], dists[-1]"
   ]
  },
  {
   "cell_type": "code",
   "execution_count": 6,
   "metadata": {},
   "outputs": [
    {
     "data": {
      "text/plain": [
       "1.973590232004103"
      ]
     },
     "execution_count": 6,
     "metadata": {},
     "output_type": "execute_result"
    }
   ],
   "source": [
    "np.linalg.norm(points_n[num_neg:][8454] - poca[-1]) ** 2"
   ]
  },
  {
   "cell_type": "code",
   "execution_count": 5,
   "metadata": {},
   "outputs": [
    {
     "name": "stdout",
     "output_type": "stream",
     "text": [
      "CPU times: user 3.69 s, sys: 4.19 s, total: 7.89 s\n",
      "Wall time: 18min 59s\n"
     ]
    }
   ],
   "source": [
    "%%time\n",
    "off_mfld_pts = np.zeros((num_neg, n))\n",
    "off_mfld_dists = np.zeros(num_neg)\n",
    "\n",
    "new_poca = np.zeros((num_neg, n))\n",
    "new_poca_prturb_sizes = np.zeros(num_neg)\n",
    "\n",
    "# def make_off_mfld_eg(idx, points_n, indices):\n",
    "\n",
    "def make_perturbed_poca(idx):\n",
    "    \n",
    "    global points_n\n",
    "    global poca\n",
    "    global indices\n",
    "    global dists\n",
    "    global num_neg\n",
    "    global num_pos\n",
    "    \n",
    "    prturb_size = 0\n",
    "    \n",
    "    if idx < num_pos:\n",
    "        # one copy of poca should be unperturbed\n",
    "        return (idx, poca[idx], prturb_size)\n",
    "    \n",
    "    on_mfld_pt = poca[idx]\n",
    "    nbhr_indices = indices[idx]\n",
    "    if idx in nbhr_indices:\n",
    "        nbhr_indices = nbhr_indices[nbhr_indices != idx]\n",
    "    else:\n",
    "        nbhr_indices = nbhr_indices[:-1]\n",
    "    nbhrs = points_n[num_neg:][nbhr_indices]\n",
    "    nbhr_local_coords = nbhrs - on_mfld_pt\n",
    "    nbhr_dists = dists[idx]\n",
    "    \n",
    "    pca = PCA()\n",
    "    pca.fit(nbhr_local_coords)\n",
    "    expl_var = pca.explained_variance_ratio_\n",
    "    cum_expl_var = np.cumsum(expl_var)\n",
    "    tmp = np.where(cum_expl_var > var_thresh)[0][0] + 1\n",
    "    normal_dirs = pca.components_[tmp:] # picking components that explain (1 - var_thresh)\n",
    "    tangential_dirs = pca.components_[:tmp]\n",
    "    \n",
    "    rdm_coeffs = np.random.normal(0, 1, size=tangential_dirs.shape[0])\n",
    "    delta = np.sum(rdm_coeffs.reshape(-1, 1) * tangential_dirs, axis=0)\n",
    "    \n",
    "    prturb_max = np.sqrt(max(nbhr_dists)) # faiss returns square of L2 norm of difference\n",
    "    prturb_size = np.random.uniform(0, 1) * prturb_max\n",
    "    delta = (prturb_size / np.linalg.norm(delta, ord=2)) * delta\n",
    "    \n",
    "    prturb_poca = on_mfld_pt + delta\n",
    "    return (idx, prturb_poca, prturb_size)\n",
    "    \n",
    "with multiprocessing.Pool(processes=24) as pool:\n",
    "    results = pool.map(make_perturbed_poca, range(num_neg))\n",
    "    \n",
    "for i in range(num_neg):\n",
    "    new_poca[i] = results[i][1]\n",
    "    new_poca_prturb_sizes[i] = results[i][2]"
   ]
  },
  {
   "cell_type": "code",
   "execution_count": 6,
   "metadata": {},
   "outputs": [
    {
     "ename": "NameError",
     "evalue": "name 'tangential_dirs' is not defined",
     "output_type": "error",
     "traceback": [
      "\u001b[0;31m---------------------------------------------------------------------------\u001b[0m",
      "\u001b[0;31mNameError\u001b[0m                                 Traceback (most recent call last)",
      "\u001b[0;32m<ipython-input-6-f3b9889ff9d3>\u001b[0m in \u001b[0;36m<module>\u001b[0;34m\u001b[0m\n\u001b[0;32m----> 1\u001b[0;31m \u001b[0mtangential_dirs\u001b[0m\u001b[0;34m\u001b[0m\u001b[0;34m\u001b[0m\u001b[0m\n\u001b[0m",
      "\u001b[0;31mNameError\u001b[0m: name 'tangential_dirs' is not defined"
     ]
    }
   ],
   "source": [
    "tangential_dirs"
   ]
  },
  {
   "cell_type": "code",
   "execution_count": 6,
   "metadata": {},
   "outputs": [
    {
     "name": "stdout",
     "output_type": "stream",
     "text": [
      "CPU times: user 3.1 s, sys: 2.07 s, total: 5.17 s\n",
      "Wall time: 5.16 s\n"
     ]
    }
   ],
   "source": [
    "%%time\n",
    "\n",
    "new_indices, new_dists = knn.predict(new_poca)     "
   ]
  },
  {
   "cell_type": "code",
   "execution_count": 7,
   "metadata": {},
   "outputs": [
    {
     "name": "stdout",
     "output_type": "stream",
     "text": [
      "CPU times: user 4.5 s, sys: 5.43 s, total: 9.93 s\n",
      "Wall time: 24min 48s\n"
     ]
    }
   ],
   "source": [
    "%%time\n",
    "\n",
    "def make_off_mfld_eg(idx):\n",
    "    \n",
    "    global new_poca\n",
    "    global points_n\n",
    "    global new_indices\n",
    "    global noise_perturbations\n",
    "    global num_neg\n",
    "    global num_pos   \n",
    "    \n",
    "    on_mfld_pt = new_poca[idx]\n",
    "    nbhr_indices = new_indices[idx]\n",
    "    if idx in nbhr_indices:\n",
    "        nbhr_indices = nbhr_indices[nbhr_indices != idx]\n",
    "    else:\n",
    "        nbhr_indices = nbhr_indices[:-1]\n",
    "        \n",
    "    nbhrs = points_n[num_neg:][nbhr_indices]\n",
    "    nbhr_local_coords = nbhrs - on_mfld_pt\n",
    "    \n",
    "    pca = PCA()\n",
    "    pca.fit(nbhr_local_coords)\n",
    "    expl_var = pca.explained_variance_ratio_\n",
    "    cum_expl_var = np.cumsum(expl_var)\n",
    "    tmp = np.where(cum_expl_var > var_thresh)[0][0] + 1\n",
    "    normal_dirs = pca.components_[tmp:] # picking components that explain (1 - var_thresh)\n",
    "        \n",
    "    \n",
    "    rdm_coeffs = np.random.normal(0, 1, size=normal_dirs.shape[0])\n",
    "    off_mfld_pt = np.sum(rdm_coeffs.reshape(-1, 1) * normal_dirs, axis=0)\n",
    "    rdm_norm = np.random.uniform(0, max_norm)\n",
    "    off_mfld_pt = off_mfld_pt * (rdm_norm / np.linalg.norm(off_mfld_pt))\n",
    "    off_mfld_pt += on_mfld_pt\n",
    "    \n",
    "    \n",
    "    return (idx, off_mfld_pt, rdm_norm)\n",
    "\n",
    "with multiprocessing.Pool(processes=24) as pool:\n",
    "    results = pool.map(make_off_mfld_eg, range(num_neg))\n",
    "\n",
    "\n",
    "    \n",
    "for i in range(len(results)):\n",
    "    off_mfld_pts[i] = results[i][1]\n",
    "    off_mfld_dists[i] = results[i][2]\n",
    "    \n",
    "\n",
    "    \n",
    "    \n",
    "    \n",
    "# for idx in tqdm(range(N // 2)):\n",
    "#     on_mfld_pt = points_n[idx]\n",
    "#     nbhr_indices = indices[idx]\n",
    "#     nbhr_indices = nbhr_indices[nbhr_indices != idx]\n",
    "#     nbhrs = points_n[nbhr_indices]\n",
    "#     nbhr_local_coords = nbhrs - on_mfld_pt\n",
    "    \n",
    "#     pca = PCA()\n",
    "#     pca.fit(nbhr_local_coords)\n",
    "#     expl_var = pca.explained_variance_ratio_\n",
    "#     cum_expl_var = np.cumsum(expl_var)\n",
    "#     tmp = np.where(cum_expl_var > var_thresh)[0][0] + 1\n",
    "#     normal_dirs = pca.components_[tmp:] # picking components that explain (1 - var_thresh)\n",
    "    \n",
    "#     rdm_coeffs = np.random.normal(0, 1, size=normal_dirs.shape[0])\n",
    "#     off_mfld_pt = np.sum(rdm_coeffs.reshape(-1, 1) * normal_dirs, axis=0)\n",
    "#     rdm_norm = np.random.uniform(0, max_norm)\n",
    "#     off_mfld_pt = off_mfld_pt * (rdm_norm / np.linalg.norm(off_mfld_pt))\n",
    "#     off_mfld_dists[idx] = rdm_norm\n",
    "#     off_mfld_pt += on_mfld_pt\n",
    "#     off_mfld_pts[idx] = off_mfld_pt\n",
    "#     break\n",
    "\n",
    "    \n",
    "    "
   ]
  },
  {
   "cell_type": "code",
   "execution_count": 16,
   "metadata": {
    "scrolled": true
   },
   "outputs": [
    {
     "data": {
      "text/plain": [
       "<matplotlib.collections.PathCollection at 0x7fb1e6a0a110>"
      ]
     },
     "execution_count": 16,
     "metadata": {},
     "output_type": "execute_result"
    },
    {
     "data": {
      "image/png": "[encoded data removed]",
      "text/plain": [
       "<Figure size 288x288 with 1 Axes>"
      ]
     },
     "metadata": {
      "needs_background": "light"
     },
     "output_type": "display_data"
    }
   ],
   "source": [
    "plt.figure(figsize=(4, 4))\n",
    "# plt.scatter(off_mfld_pts[:, 0], off_mfld_pts[:, 1], s=0.01, alpha=0.5)\n",
    "plt.scatter(points_n[num_neg:, 0], points_n[num_neg:, 1], s=0.01, alpha=0.5)\n",
    "idx = 5\n",
    "# plt.scatter(off_mfld_pts[:, 0], off_mfld_pts[:, 1], color=\"cyan\")\n",
    "\n",
    "plt.scatter(off_mfld_pts[idx, 0], off_mfld_pts[idx, 1], color=\"red\")\n",
    "plt.scatter(points_n[num_neg:][idx, 0], points_n[num_neg:][idx, 1], color=\"orange\")\n",
    "\n",
    "plt.scatter(points_n[num_neg:][indices[idx], 0], points_n[num_neg:][indices[idx], 1], s=0.1, c=\"blue\")\n",
    "# colors = [\"orange\", \"green\"]\n",
    "# labels = np.round(pca.explained_variance_ratio_, 3)\n",
    "# arrows = list()\n",
    "# for i in range(pca.components_.shape[0]):\n",
    "#     arr = plt.arrow(points_n[idx, 0], points_n[idx, 1], pca.components_[i, 0], pca.components_[i, 1], label=str(labels[i]), color=colors[i])\n",
    "#     arrows.append(arr)\n",
    "# plt.legend(arrows, [str(i) for i in labels])"
   ]
  },
  {
   "cell_type": "code",
   "execution_count": null,
   "metadata": {},
   "outputs": [],
   "source": []
  },
  {
   "cell_type": "code",
   "execution_count": null,
   "metadata": {},
   "outputs": [],
   "source": [
    "plt.figure(figsize=(4, 4))\n"
   ]
  },
  {
   "cell_type": "code",
   "execution_count": 19,
   "metadata": {},
   "outputs": [
    {
     "data": {
      "text/plain": [
       "-1.1622371549394984e-06"
      ]
     },
     "execution_count": 19,
     "metadata": {},
     "output_type": "execute_result"
    }
   ],
   "source": [
    "np.dot(off_mfld_pt - on_mfld_pt, nbhr_local_coords[2])"
   ]
  },
  {
   "cell_type": "code",
   "execution_count": 9,
   "metadata": {},
   "outputs": [
    {
     "data": {
      "application/vnd.jupyter.widget-view+json": {
       "model_id": "d854c22892cf465980c1c31d5aca7fab",
       "version_major": 2,
       "version_minor": 0
      },
      "text/plain": [
       "HBox(children=(FloatProgress(value=0.0, max=10000.0), HTML(value='')))"
      ]
     },
     "metadata": {},
     "output_type": "display_data"
    },
    {
     "name": "stdout",
     "output_type": "stream",
     "text": [
      "\n"
     ]
    }
   ],
   "source": [
    "rdm_idx = np.random.choice(np.arange(num_neg), 10000, replace=False)\n",
    "min_true_dists = np.zeros(rdm_idx.shape[0])\n",
    "dev_frm_on_mfld = np.zeros(rdm_idx.shape[0])\n",
    "for idx in tqdm(range(rdm_idx.shape[0])):\n",
    "    true_off_mfld_dists = np.linalg.norm(off_mfld_pts[rdm_idx[idx]] - points_n[num_neg:,:], ord=2, axis=1)\n",
    "    min_true_dist = np.min(true_off_mfld_dists)\n",
    "    min_true_dists[idx] = min_true_dist\n",
    "    min_true_dist_idx = np.argmin(true_off_mfld_dists)\n",
    "    dev_frm_on_mfld[idx] = np.linalg.norm(points_n[num_neg:][min_true_dist_idx] - new_poca[rdm_idx[idx]])\n",
    "    \n",
    "    "
   ]
  },
  {
   "cell_type": "code",
   "execution_count": 10,
   "metadata": {},
   "outputs": [
    {
     "data": {
      "text/plain": [
       "array([357232,  68514, 271061, ...,  46014, 228793,  74101])"
      ]
     },
     "execution_count": 10,
     "metadata": {},
     "output_type": "execute_result"
    }
   ],
   "source": [
    "rdm_idx"
   ]
  },
  {
   "cell_type": "code",
   "execution_count": 11,
   "metadata": {},
   "outputs": [
    {
     "data": {
      "image/png": "[encoded data removed]",
      "text/plain": [
       "<Figure size 432x288 with 1 Axes>"
      ]
     },
     "metadata": {
      "needs_background": "light"
     },
     "output_type": "display_data"
    }
   ],
   "source": [
    "plt.hist(min_true_dists - off_mfld_dists[rdm_idx])\n",
    "plt.xlabel(\"abs. error between true and approx. distance\")\n",
    "plt.ylabel(\"count\")\n",
    "plt.title(\"error in distance for k={},n={} (10k random samples)\".format(k, n))\n",
    "plt.show()"
   ]
  },
  {
   "cell_type": "code",
   "execution_count": 13,
   "metadata": {},
   "outputs": [
    {
     "data": {
      "text/plain": [
       "0.00013402127795230978"
      ]
     },
     "execution_count": 13,
     "metadata": {},
     "output_type": "execute_result"
    }
   ],
   "source": [
    "max(min_true_dists - off_mfld_dists[rdm_idx])"
   ]
  },
  {
   "cell_type": "code",
   "execution_count": 22,
   "metadata": {},
   "outputs": [
    {
     "data": {
      "text/plain": [
       "(array([1.5008e+05, 5.1246e+04, 5.1411e+04, 4.9785e+04, 4.8244e+04,\n",
       "        3.3959e+04, 1.2540e+04, 2.4400e+03, 2.7700e+02, 1.8000e+01]),\n",
       " array([0.        , 0.00025872, 0.00051743, 0.00077615, 0.00103487,\n",
       "        0.00129359, 0.0015523 , 0.00181102, 0.00206974, 0.00232845,\n",
       "        0.00258717]),\n",
       " <a list of 10 Patch objects>)"
      ]
     },
     "execution_count": 22,
     "metadata": {},
     "output_type": "execute_result"
    },
    {
     "data": {
      "image/png": "[encoded data removed]",
      "text/plain": [
       "<Figure size 432x288 with 1 Axes>"
      ]
     },
     "metadata": {
      "needs_background": "light"
     },
     "output_type": "display_data"
    }
   ],
   "source": [
    "plt.hist(new_poca_prturb_sizes)"
   ]
  },
  {
   "cell_type": "code",
   "execution_count": 17,
   "metadata": {},
   "outputs": [
    {
     "data": {
      "text/plain": [
       "(array([1147, 1478, 2172, 3001, 3246, 4166, 4503, 5556, 6701, 8643, 8798,\n",
       "        9352]),)"
      ]
     },
     "execution_count": 17,
     "metadata": {},
     "output_type": "execute_result"
    }
   ],
   "source": [
    "np.where(np.abs(min_true_dists - off_mfld_dists[rdm_idx]) > 5e-6)"
   ]
  },
  {
   "cell_type": "code",
   "execution_count": 21,
   "metadata": {},
   "outputs": [
    {
     "data": {
      "text/plain": [
       "(400000,)"
      ]
     },
     "execution_count": 21,
     "metadata": {},
     "output_type": "execute_result"
    }
   ],
   "source": []
  },
  {
   "cell_type": "code",
   "execution_count": 23,
   "metadata": {},
   "outputs": [
    {
     "data": {
      "image/png": "[encoded data removed]",
      "text/plain": [
       "<Figure size 432x288 with 1 Axes>"
      ]
     },
     "metadata": {
      "needs_background": "light"
     },
     "output_type": "display_data"
    }
   ],
   "source": [
    "plt.hist(dev_frm_on_mfld)\n",
    "plt.xlabel(\"L2 distance\")\n",
    "plt.ylabel(\"count\")\n",
    "plt.title(\"true vs approx. point of approach for k={},n={} (10k random samples)\".format(k, n))\n",
    "plt.show()"
   ]
  },
  {
   "cell_type": "code",
   "execution_count": 26,
   "metadata": {},
   "outputs": [
    {
     "data": {
      "text/plain": [
       "0.00031602736883790507"
      ]
     },
     "execution_count": 26,
     "metadata": {},
     "output_type": "execute_result"
    }
   ],
   "source": [
    "max(dev_frm_on_mfld)"
   ]
  },
  {
   "cell_type": "code",
   "execution_count": 22,
   "metadata": {},
   "outputs": [
    {
     "data": {
      "text/plain": [
       "(183969, 0.03786256990766121)"
      ]
     },
     "execution_count": 22,
     "metadata": {},
     "output_type": "execute_result"
    }
   ],
   "source": [
    "np.argmin(np.linalg.norm(off_mfld_pts[0] - points_n[:N//2,:], ord=2, axis=1)), \\\n",
    "np.min(np.linalg.norm(off_mfld_pts[0] - points_n[:N//2,:], ord=2, axis=1))"
   ]
  },
  {
   "cell_type": "code",
   "execution_count": 23,
   "metadata": {},
   "outputs": [
    {
     "data": {
      "text/plain": [
       "array([0.04658179, 1.71577159, 1.38675184, ..., 1.44299178, 1.79183774,\n",
       "       0.5097944 ])"
      ]
     },
     "execution_count": 23,
     "metadata": {},
     "output_type": "execute_result"
    }
   ],
   "source": [
    "np.linalg.norm(off_mfld_pts[0] - points_n[:N//2,:], ord=2, axis=1)"
   ]
  },
  {
   "cell_type": "code",
   "execution_count": 24,
   "metadata": {},
   "outputs": [
    {
     "data": {
      "text/plain": [
       "0.04689816673859133"
      ]
     },
     "execution_count": 24,
     "metadata": {},
     "output_type": "execute_result"
    }
   ],
   "source": [
    "np.linalg.norm(points_n[141727] - points_n[0])"
   ]
  },
  {
   "cell_type": "code",
   "execution_count": 25,
   "metadata": {},
   "outputs": [
    {
     "data": {
      "text/plain": [
       "0.04658178909987768"
      ]
     },
     "execution_count": 25,
     "metadata": {},
     "output_type": "execute_result"
    }
   ],
   "source": [
    "off_mfld_dists[0]"
   ]
  },
  {
   "cell_type": "code",
   "execution_count": 49,
   "metadata": {},
   "outputs": [
    {
     "data": {
      "text/plain": [
       "array([[ 0.02824323,  0.00235902,  0.01950889, ..., -0.03805938,\n",
       "        -0.01381973, -0.00307733],\n",
       "       [ 0.00770392, -0.07358862, -0.048848  , ..., -0.02004137,\n",
       "         0.00309767,  0.07561612],\n",
       "       [ 0.03270278,  0.06981782, -0.07356335, ...,  0.00973231,\n",
       "        -0.02722055,  0.02475773],\n",
       "       ...,\n",
       "       [ 0.08825714, -0.0063782 ,  0.04923243, ..., -0.05390884,\n",
       "         0.00651722,  0.07160276],\n",
       "       [-0.00234416,  0.00937723,  0.0077863 , ..., -0.04157526,\n",
       "        -0.01050973,  0.02776842],\n",
       "       [-0.24057345,  0.06831079, -0.11079424, ...,  0.0103417 ,\n",
       "        -0.02203047,  0.01865837]])"
      ]
     },
     "execution_count": 49,
     "metadata": {},
     "output_type": "execute_result"
    }
   ],
   "source": [
    "tmp = np.random.normal(0, 1, size=(50, 500))\n",
    "tmp_pca = PCA()\n",
    "tmp_pca.fit(tmp)\n"
   ]
  },
  {
   "cell_type": "code",
   "execution_count": 50,
   "metadata": {},
   "outputs": [
    {
     "data": {
      "text/plain": [
       "(50, 500)"
      ]
     },
     "execution_count": 50,
     "metadata": {},
     "output_type": "execute_result"
    }
   ],
   "source": [
    "tmp_pca.components_.shape"
   ]
  },
  {
   "cell_type": "code",
   "execution_count": 51,
   "metadata": {},
   "outputs": [
    {
     "data": {
      "text/plain": [
       "array([3.29956181e-02, 3.25079828e-02, 3.22565262e-02, 3.11799404e-02,\n",
       "       3.06632475e-02, 3.01812442e-02, 2.88631601e-02, 2.86225564e-02,\n",
       "       2.82011201e-02, 2.76663391e-02, 2.64148828e-02, 2.56271934e-02,\n",
       "       2.49715904e-02, 2.47920407e-02, 2.41121771e-02, 2.37524494e-02,\n",
       "       2.32314183e-02, 2.24774617e-02, 2.22923907e-02, 2.18679557e-02,\n",
       "       2.12356529e-02, 2.08215778e-02, 2.02357207e-02, 1.99912026e-02,\n",
       "       1.97705482e-02, 1.93732695e-02, 1.90554016e-02, 1.85600662e-02,\n",
       "       1.84403614e-02, 1.76812580e-02, 1.73093909e-02, 1.67078570e-02,\n",
       "       1.61468635e-02, 1.59964393e-02, 1.58146529e-02, 1.52381204e-02,\n",
       "       1.49448302e-02, 1.45239901e-02, 1.41972889e-02, 1.35859178e-02,\n",
       "       1.34444766e-02, 1.30615833e-02, 1.26759973e-02, 1.23808206e-02,\n",
       "       1.22690058e-02, 1.18452026e-02, 1.14014961e-02, 1.09030661e-02,\n",
       "       9.71064657e-03, 6.50614319e-33])"
      ]
     },
     "execution_count": 51,
     "metadata": {},
     "output_type": "execute_result"
    }
   ],
   "source": [
    "tmp_pca.explained_variance_ratio_"
   ]
  },
  {
   "cell_type": "code",
   "execution_count": null,
   "metadata": {},
   "outputs": [],
   "source": []
  }
 ],
 "metadata": {
  "kernelspec": {
   "display_name": "Python 3",
   "language": "python",
   "name": "python3"
  },
  "language_info": {
   "codemirror_mode": {
    "name": "ipython",
    "version": 3
   },
   "file_extension": ".py",
   "mimetype": "text/x-python",
   "name": "python",
   "nbconvert_exporter": "python",
   "pygments_lexer": "ipython3",
   "version": "3.7.6"
  }
 },
 "nbformat": 4,
 "nbformat_minor": 4
}
