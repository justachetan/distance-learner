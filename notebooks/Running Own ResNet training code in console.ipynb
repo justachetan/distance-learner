{
 "cells": [
  {
   "cell_type": "code",
   "execution_count": 2,
   "metadata": {},
   "outputs": [],
   "source": [
    "import os\n",
    "os.chdir(\"/data/adv_geom/src/expB/\")\n",
    "\n"
   ]
  },
  {
   "cell_type": "markdown",
   "metadata": {},
   "source": [
    "# Generate the dataset"
   ]
  },
  {
   "cell_type": "code",
   "execution_count": 2,
   "metadata": {},
   "outputs": [
    {
     "name": "stdout",
     "output_type": "stream",
     "text": [
      "center generated\n",
      "points generated\n",
      "pre-images generated\n",
      "[100. 100. 100. ... 100. 100. 100.]\n",
      "embedding done\n",
      "center generated\n",
      "points generated\n",
      "pre-images generated\n",
      "[100. 100. 100. ... 100. 100. 100.]\n",
      "embedding done\n",
      "center generated\n",
      "points generated\n",
      "pre-images generated\n",
      "[100. 100. 100. ... 100. 100. 100.]\n",
      "embedding done\n"
     ]
    }
   ],
   "source": [
    "%run -i spheres_v2.py --config ./data_configs/sphere_config.json --save_dir /azuredrive/datasets/expB/one_sphere/max_norm=1,D=0.5,n=2/\n",
    "\n"
   ]
  },
  {
   "cell_type": "code",
   "execution_count": 3,
   "metadata": {},
   "outputs": [
    {
     "name": "stderr",
     "output_type": "stream",
     "text": [
      " 42%|████▏     | 212/500 [07:08<09:42,  2.02s/it]\n"
     ]
    },
    {
     "ename": "KeyboardInterrupt",
     "evalue": "",
     "output_type": "error",
     "traceback": [
      "\u001b[0;31m---------------------------------------------------------------------------\u001b[0m",
      "\u001b[0;31mKeyboardInterrupt\u001b[0m                         Traceback (most recent call last)",
      "\u001b[0;32m/data/adv_geom/src/expB/learn_mfld_distance.py\u001b[0m in \u001b[0;36m<module>\u001b[0;34m\u001b[0m\n\u001b[1;32m    418\u001b[0m         model, optimizer, train_loss_matrix, val_loss_matrix = train(model=model, optimizer=optimizer, loss_func=loss_func, dataloaders=dataloaders,\\\n\u001b[1;32m    419\u001b[0m                          \u001b[0mdevice\u001b[0m\u001b[0;34m=\u001b[0m\u001b[0mdevice\u001b[0m\u001b[0;34m,\u001b[0m \u001b[0mtask\u001b[0m\u001b[0;34m=\u001b[0m\u001b[0margs\u001b[0m\u001b[0;34m.\u001b[0m\u001b[0mtask\u001b[0m\u001b[0;34m,\u001b[0m\u001b[0mnum_epochs\u001b[0m\u001b[0;34m=\u001b[0m\u001b[0mNUM_EPOCHS\u001b[0m\u001b[0;34m,\u001b[0m \u001b[0msave_dir\u001b[0m\u001b[0;34m=\u001b[0m\u001b[0mSAVE_DIR\u001b[0m\u001b[0;34m,\u001b[0m\u001b[0;31m\\\u001b[0m\u001b[0;34m\u001b[0m\u001b[0;34m\u001b[0m\u001b[0m\n\u001b[0;32m--> 420\u001b[0;31m                          name=NAME, scheduler=scheduler, scheduler_params=scheduler_params)\n\u001b[0m",
      "\u001b[0;32m/data/adv_geom/src/expB/learn_mfld_distance.py\u001b[0m in \u001b[0;36mtrain\u001b[0;34m(model, optimizer, loss_func, dataloaders, device, num_epochs, save_dir, scheduler, task, name, scheduler_params)\u001b[0m\n\u001b[1;32m    152\u001b[0m                 \u001b[0mprefix\u001b[0m \u001b[0;34m=\u001b[0m \u001b[0;34m\"val_\"\u001b[0m\u001b[0;34m\u001b[0m\u001b[0;34m\u001b[0m\u001b[0m\n\u001b[1;32m    153\u001b[0m \u001b[0;34m\u001b[0m\u001b[0m\n\u001b[0;32m--> 154\u001b[0;31m             \u001b[0;32mfor\u001b[0m \u001b[0;34m(\u001b[0m\u001b[0mi\u001b[0m\u001b[0;34m,\u001b[0m \u001b[0mbatch\u001b[0m\u001b[0;34m)\u001b[0m \u001b[0;32min\u001b[0m \u001b[0menumerate\u001b[0m\u001b[0;34m(\u001b[0m\u001b[0mdataloaders\u001b[0m\u001b[0;34m[\u001b[0m\u001b[0mphase\u001b[0m\u001b[0;34m]\u001b[0m\u001b[0;34m)\u001b[0m\u001b[0;34m:\u001b[0m\u001b[0;34m\u001b[0m\u001b[0;34m\u001b[0m\u001b[0m\n\u001b[0m\u001b[1;32m    155\u001b[0m \u001b[0;34m\u001b[0m\u001b[0m\n\u001b[1;32m    156\u001b[0m                 \u001b[0mpoints\u001b[0m \u001b[0;34m=\u001b[0m \u001b[0mbatch\u001b[0m\u001b[0;34m[\u001b[0m\u001b[0;36m0\u001b[0m\u001b[0;34m]\u001b[0m\u001b[0;34m.\u001b[0m\u001b[0mto\u001b[0m\u001b[0;34m(\u001b[0m\u001b[0mdevice\u001b[0m\u001b[0;34m)\u001b[0m\u001b[0;34m\u001b[0m\u001b[0;34m\u001b[0m\u001b[0m\n",
      "\u001b[0;32m/usr/local/lib/python3.6/dist-packages/torch/utils/data/dataloader.py\u001b[0m in \u001b[0;36m__iter__\u001b[0;34m(self)\u001b[0m\n\u001b[1;32m    357\u001b[0m             \u001b[0;32mreturn\u001b[0m \u001b[0mself\u001b[0m\u001b[0;34m.\u001b[0m\u001b[0m_iterator\u001b[0m\u001b[0;34m\u001b[0m\u001b[0;34m\u001b[0m\u001b[0m\n\u001b[1;32m    358\u001b[0m         \u001b[0;32melse\u001b[0m\u001b[0;34m:\u001b[0m\u001b[0;34m\u001b[0m\u001b[0;34m\u001b[0m\u001b[0m\n\u001b[0;32m--> 359\u001b[0;31m             \u001b[0;32mreturn\u001b[0m \u001b[0mself\u001b[0m\u001b[0;34m.\u001b[0m\u001b[0m_get_iterator\u001b[0m\u001b[0;34m(\u001b[0m\u001b[0;34m)\u001b[0m\u001b[0;34m\u001b[0m\u001b[0;34m\u001b[0m\u001b[0m\n\u001b[0m\u001b[1;32m    360\u001b[0m \u001b[0;34m\u001b[0m\u001b[0m\n\u001b[1;32m    361\u001b[0m     \u001b[0;34m@\u001b[0m\u001b[0mproperty\u001b[0m\u001b[0;34m\u001b[0m\u001b[0;34m\u001b[0m\u001b[0m\n",
      "\u001b[0;32m/usr/local/lib/python3.6/dist-packages/torch/utils/data/dataloader.py\u001b[0m in \u001b[0;36m_get_iterator\u001b[0;34m(self)\u001b[0m\n\u001b[1;32m    299\u001b[0m         \u001b[0;32melse\u001b[0m\u001b[0;34m:\u001b[0m\u001b[0;34m\u001b[0m\u001b[0;34m\u001b[0m\u001b[0m\n\u001b[1;32m    300\u001b[0m             \u001b[0mself\u001b[0m\u001b[0;34m.\u001b[0m\u001b[0mcheck_worker_number_rationality\u001b[0m\u001b[0;34m(\u001b[0m\u001b[0;34m)\u001b[0m\u001b[0;34m\u001b[0m\u001b[0;34m\u001b[0m\u001b[0m\n\u001b[0;32m--> 301\u001b[0;31m             \u001b[0;32mreturn\u001b[0m \u001b[0m_MultiProcessingDataLoaderIter\u001b[0m\u001b[0;34m(\u001b[0m\u001b[0mself\u001b[0m\u001b[0;34m)\u001b[0m\u001b[0;34m\u001b[0m\u001b[0;34m\u001b[0m\u001b[0m\n\u001b[0m\u001b[1;32m    302\u001b[0m \u001b[0;34m\u001b[0m\u001b[0m\n\u001b[1;32m    303\u001b[0m     \u001b[0;34m@\u001b[0m\u001b[0mproperty\u001b[0m\u001b[0;34m\u001b[0m\u001b[0;34m\u001b[0m\u001b[0m\n",
      "\u001b[0;32m/usr/local/lib/python3.6/dist-packages/torch/utils/data/dataloader.py\u001b[0m in \u001b[0;36m__init__\u001b[0;34m(self, loader)\u001b[0m\n\u001b[1;32m    898\u001b[0m         \u001b[0;32mfor\u001b[0m \u001b[0mi\u001b[0m \u001b[0;32min\u001b[0m \u001b[0mrange\u001b[0m\u001b[0;34m(\u001b[0m\u001b[0mself\u001b[0m\u001b[0;34m.\u001b[0m\u001b[0m_num_workers\u001b[0m\u001b[0;34m)\u001b[0m\u001b[0;34m:\u001b[0m\u001b[0;34m\u001b[0m\u001b[0;34m\u001b[0m\u001b[0m\n\u001b[1;32m    899\u001b[0m             \u001b[0;31m# No certainty which module multiprocessing_context is\u001b[0m\u001b[0;34m\u001b[0m\u001b[0;34m\u001b[0m\u001b[0;34m\u001b[0m\u001b[0m\n\u001b[0;32m--> 900\u001b[0;31m             \u001b[0mindex_queue\u001b[0m \u001b[0;34m=\u001b[0m \u001b[0mmultiprocessing_context\u001b[0m\u001b[0;34m.\u001b[0m\u001b[0mQueue\u001b[0m\u001b[0;34m(\u001b[0m\u001b[0;34m)\u001b[0m  \u001b[0;31m# type: ignore\u001b[0m\u001b[0;34m\u001b[0m\u001b[0;34m\u001b[0m\u001b[0m\n\u001b[0m\u001b[1;32m    901\u001b[0m             \u001b[0;31m# Need to `cancel_join_thread` here!\u001b[0m\u001b[0;34m\u001b[0m\u001b[0;34m\u001b[0m\u001b[0;34m\u001b[0m\u001b[0m\n\u001b[1;32m    902\u001b[0m             \u001b[0;31m# See sections (2) and (3b) above.\u001b[0m\u001b[0;34m\u001b[0m\u001b[0;34m\u001b[0m\u001b[0;34m\u001b[0m\u001b[0m\n",
      "\u001b[0;32m/usr/lib/python3.6/multiprocessing/context.py\u001b[0m in \u001b[0;36mQueue\u001b[0;34m(self, maxsize)\u001b[0m\n\u001b[1;32m    100\u001b[0m         \u001b[0;34m'''Returns a queue object'''\u001b[0m\u001b[0;34m\u001b[0m\u001b[0;34m\u001b[0m\u001b[0m\n\u001b[1;32m    101\u001b[0m         \u001b[0;32mfrom\u001b[0m \u001b[0;34m.\u001b[0m\u001b[0mqueues\u001b[0m \u001b[0;32mimport\u001b[0m \u001b[0mQueue\u001b[0m\u001b[0;34m\u001b[0m\u001b[0;34m\u001b[0m\u001b[0m\n\u001b[0;32m--> 102\u001b[0;31m         \u001b[0;32mreturn\u001b[0m \u001b[0mQueue\u001b[0m\u001b[0;34m(\u001b[0m\u001b[0mmaxsize\u001b[0m\u001b[0;34m,\u001b[0m \u001b[0mctx\u001b[0m\u001b[0;34m=\u001b[0m\u001b[0mself\u001b[0m\u001b[0;34m.\u001b[0m\u001b[0mget_context\u001b[0m\u001b[0;34m(\u001b[0m\u001b[0;34m)\u001b[0m\u001b[0;34m)\u001b[0m\u001b[0;34m\u001b[0m\u001b[0;34m\u001b[0m\u001b[0m\n\u001b[0m\u001b[1;32m    103\u001b[0m \u001b[0;34m\u001b[0m\u001b[0m\n\u001b[1;32m    104\u001b[0m     \u001b[0;32mdef\u001b[0m \u001b[0mJoinableQueue\u001b[0m\u001b[0;34m(\u001b[0m\u001b[0mself\u001b[0m\u001b[0;34m,\u001b[0m \u001b[0mmaxsize\u001b[0m\u001b[0;34m=\u001b[0m\u001b[0;36m0\u001b[0m\u001b[0;34m)\u001b[0m\u001b[0;34m:\u001b[0m\u001b[0;34m\u001b[0m\u001b[0;34m\u001b[0m\u001b[0m\n",
      "\u001b[0;32m/usr/lib/python3.6/multiprocessing/context.py\u001b[0m in \u001b[0;36mget_context\u001b[0;34m(self, method)\u001b[0m\n\u001b[1;32m    230\u001b[0m         \u001b[0mself\u001b[0m\u001b[0;34m.\u001b[0m\u001b[0m_actual_context\u001b[0m \u001b[0;34m=\u001b[0m \u001b[0;32mNone\u001b[0m\u001b[0;34m\u001b[0m\u001b[0;34m\u001b[0m\u001b[0m\n\u001b[1;32m    231\u001b[0m \u001b[0;34m\u001b[0m\u001b[0m\n\u001b[0;32m--> 232\u001b[0;31m     \u001b[0;32mdef\u001b[0m \u001b[0mget_context\u001b[0m\u001b[0;34m(\u001b[0m\u001b[0mself\u001b[0m\u001b[0;34m,\u001b[0m \u001b[0mmethod\u001b[0m\u001b[0;34m=\u001b[0m\u001b[0;32mNone\u001b[0m\u001b[0;34m)\u001b[0m\u001b[0;34m:\u001b[0m\u001b[0;34m\u001b[0m\u001b[0;34m\u001b[0m\u001b[0m\n\u001b[0m\u001b[1;32m    233\u001b[0m         \u001b[0;32mif\u001b[0m \u001b[0mmethod\u001b[0m \u001b[0;32mis\u001b[0m \u001b[0;32mNone\u001b[0m\u001b[0;34m:\u001b[0m\u001b[0;34m\u001b[0m\u001b[0;34m\u001b[0m\u001b[0m\n\u001b[1;32m    234\u001b[0m             \u001b[0;32mif\u001b[0m \u001b[0mself\u001b[0m\u001b[0;34m.\u001b[0m\u001b[0m_actual_context\u001b[0m \u001b[0;32mis\u001b[0m \u001b[0;32mNone\u001b[0m\u001b[0;34m:\u001b[0m\u001b[0;34m\u001b[0m\u001b[0;34m\u001b[0m\u001b[0m\n",
      "\u001b[0;31mKeyboardInterrupt\u001b[0m: "
     ]
    }
   ],
   "source": [
    "%run -i learn_mfld_distance.py \\\n",
    "--train --batch_size 512 --cuda --task regression --num_epochs 500\\\n",
    "--savedir /data/adv_geom/dumps/expB_learning_distance_from_mfld/ --name MLP_OneSphere_data{max_norm=1,D=0.5,n=2}_model{hidden_sizes=512x4}\\\n",
    "--warmup 10 --cooldown 300 --train_fn /azuredrive/datasets/expB/one_sphere/max_norm=1,D=0.5,n=2/train_set.pt \\\n",
    "--val_fn /azuredrive/datasets/expB/one_sphere/max_norm=1,D=0.5,n=2/val_set.pt \\\n",
    "--lr 1e-5 --num_classes 1 \n",
    "\n",
    "\n",
    "\n"
   ]
  },
  {
   "cell_type": "code",
   "execution_count": 3,
   "metadata": {},
   "outputs": [
    {
     "name": "stdout",
     "output_type": "stream",
     "text": [
      "usage: learn_mfld_distance.py [-h] [--train] [--batch_size BATCH_SIZE]\n",
      "                              [--cuda] [--task TASK] [--num_epochs NUM_EPOCHS]\n",
      "                              [--savedir SAVEDIR] [--name NAME]\n",
      "                              [--warmup WARMUP] [--cooldown COOLDOWN]\n",
      "                              [--lr LR] [--init_wts INIT_WTS]\n",
      "                              [--num_classes NUM_CLASSES]\n",
      "                              [--train_fn TRAIN_FN] [--val_fn VAL_FN]\n",
      "                              [--test_fn TEST_FN] [--generate]\n",
      "                              [--dataseed DATASEED]\n",
      "\n",
      "optional arguments:\n",
      "  -h, --help            show this help message and exit\n",
      "  --train               enable train mode\n",
      "  --batch_size BATCH_SIZE\n",
      "                        batch size\n",
      "  --cuda                use GPUs\n",
      "  --task TASK           'classification' or 'regression'\n",
      "  --num_epochs NUM_EPOCHS\n",
      "                        number of epochs\n",
      "  --savedir SAVEDIR     save directory path\n",
      "  --name NAME           name of experiment\n",
      "  --warmup WARMUP       number of warmup steps\n",
      "  --cooldown COOLDOWN   epoch after which to cooldown\n",
      "  --lr LR               learning rate\n",
      "  --init_wts INIT_WTS   path to initial weights\n",
      "  --num_classes NUM_CLASSES\n",
      "                        number of manifolds\n",
      "  --train_fn TRAIN_FN   path to train data\n",
      "  --val_fn VAL_FN       path to val data\n",
      "  --test_fn TEST_FN     path to test data\n",
      "  --generate            whether to generate data or not\n",
      "  --dataseed DATASEED   seed for random operations in data generation\n"
     ]
    }
   ],
   "source": [
    "%run -i learn_mfld_distance.py --help\n",
    "\n",
    "\n"
   ]
  },
  {
   "cell_type": "code",
   "execution_count": 10,
   "metadata": {},
   "outputs": [
    {
     "data": {
      "text/plain": [
       "tensor([2.0343e+02, 1.2789e+02, 1.2454e+02, 1.2308e+02, 1.2219e+02, 1.2159e+02,\n",
       "        1.2117e+02, 1.2086e+02, 1.2064e+02, 1.2050e+02, 1.2040e+02, 1.2034e+02,\n",
       "        1.2031e+02, 1.2029e+02, 1.2028e+02, 1.2027e+02, 1.2027e+02, 1.2027e+02,\n",
       "        1.2027e+02, 1.2027e+02, 1.2027e+02, 1.2027e+02, 1.2027e+02, 1.2027e+02,\n",
       "        1.2027e+02, 1.2027e+02, 1.2027e+02, 1.2027e+02, 1.2027e+02, 1.2026e+02,\n",
       "        1.2026e+02, 1.2026e+02, 1.2026e+02, 1.2027e+02, 1.2027e+02, 1.2026e+02,\n",
       "        1.2026e+02, 1.2027e+02, 1.2026e+02, 1.2026e+02, 1.2026e+02, 1.2026e+02,\n",
       "        1.2026e+02, 1.2026e+02, 1.2026e+02, 1.2026e+02, 1.2029e+02, 1.2027e+02,\n",
       "        1.2026e+02, 1.2026e+02, 1.2026e+02, 1.2026e+02, 1.2026e+02, 1.2026e+02,\n",
       "        1.2027e+02, 1.2030e+02, 1.2028e+02, 1.2025e+02, 1.2025e+02, 1.2027e+02,\n",
       "        1.2025e+02, 1.2042e+02, 1.2025e+02, 1.2024e+02, 1.2024e+02, 1.2028e+02,\n",
       "        1.2026e+02, 1.2036e+02, 1.2167e+02, 1.2047e+02, 1.2024e+02, 1.2237e+02,\n",
       "        1.2530e+02, 1.2042e+02, 1.2297e+02, 1.2341e+02, 1.2834e+02, 1.2718e+02,\n",
       "        1.4325e+02, 1.2315e+02, 5.2838e+02, 6.5812e+02, 1.1967e+02, 7.4835e+02,\n",
       "        5.8347e+02, 2.9980e+03, 1.6875e+02, 6.2281e+03, 4.7351e+03, 1.1933e+02,\n",
       "        4.0773e+02, 1.2189e+02, 5.5054e+02, 1.3714e+02, 6.9183e+03, 3.2370e+03,\n",
       "        4.1027e+03, 1.5045e+06, 4.7282e+04, 1.2769e+06, 8.3691e+05, 2.7404e+04,\n",
       "        4.6870e+04, 2.7210e+04, 1.6642e+04, 5.1391e+04, 7.2901e+04, 1.6593e+03,\n",
       "        1.3262e+04, 8.8337e+03, 7.7135e+03, 3.3538e+02, 3.9684e+05, 3.8951e+03,\n",
       "        1.5273e+04, 3.3667e+04, 1.0327e+05, 2.0625e+01, 5.1220e+03, 6.2096e+04,\n",
       "        1.1016e+05, 5.9078e+03, 2.9933e+04, 4.7647e+05, 6.1030e+03, 4.2283e+03,\n",
       "        1.9992e+04, 2.3403e+03, 1.3158e+05, 1.3606e+05, 1.1621e+04, 5.7235e+04,\n",
       "        4.3188e+03, 2.3688e+04, 1.7645e+04, 1.4069e+04, 1.3328e+03, 4.7274e+04,\n",
       "        8.9794e+04, 1.9894e+04, 4.4843e+04, 7.2127e+04, 2.0395e+05, 8.7358e+03,\n",
       "        4.2040e+03, 2.1296e+04, 1.9000e+05, 2.2303e+05, 4.0661e+04, 1.1918e+05,\n",
       "        1.0880e+05, 2.4193e+05, 2.8743e+02, 7.0670e+02, 6.7005e+04, 1.4446e+04,\n",
       "        1.6406e+03, 1.1698e+04, 1.0559e+06, 1.4895e+05, 3.1878e+02, 3.3208e+02,\n",
       "        2.4273e+04, 2.7063e+05, 7.4619e+01, 3.8758e+02, 2.4905e+04, 3.3763e+04,\n",
       "        6.2614e+04, 6.0239e+03, 6.7516e+04, 6.2190e+06, 4.2552e+04, 2.3464e+05,\n",
       "        1.3544e+03, 1.0992e+03, 1.7444e+05, 2.0481e+05, 3.0377e+03, 6.6363e+03,\n",
       "        5.3122e+04, 2.9814e+04, 2.0116e+05, 6.7012e+02, 3.7623e+04, 5.2574e+05,\n",
       "        1.5412e+02, 3.7154e+02, 4.7303e+03, 3.7137e+05, 6.9787e+03, 9.3528e+04,\n",
       "        1.6546e+05, 4.9005e+03, 1.3761e+04, 7.2307e+04, 3.5195e+05, 1.7861e+05,\n",
       "        2.1722e+04, 5.8954e+05, 3.0422e+04, 3.3830e+05, 3.7786e+05, 8.9706e+04,\n",
       "        5.7471e+03, 1.6284e+05, 2.9765e+04, 1.0869e+05, 2.0933e+03, 9.7028e+04,\n",
       "        5.1257e+04, 1.6401e+04, 7.3740e+04, 2.1904e+03, 8.2095e+05, 1.9378e+05,\n",
       "        5.3503e+05, 5.9429e+04, 3.2742e+02, 9.2799e+04, 1.6151e+05, 3.1743e+05,\n",
       "        2.0538e+04, 4.5372e+05, 5.9569e+05, 4.8167e+05, 5.7731e+02, 4.0281e+05,\n",
       "        3.8506e+04, 1.4474e+04, 5.7520e+05, 5.2304e+05, 7.2433e+05, 9.6255e+04,\n",
       "        5.0007e+05, 6.8172e+05, 1.3399e+03, 9.3323e+02, 7.5730e+02, 8.7152e+05,\n",
       "        4.8145e+03, 3.5495e+02, 7.3669e+04, 5.8891e+04, 4.5361e+05, 2.5405e+04,\n",
       "        3.1030e+02, 3.8648e+05, 1.0941e+04, 2.5785e+05, 2.3316e+05, 5.8131e+02,\n",
       "        1.7153e+04, 1.9884e+03, 5.4412e+05, 5.3939e+04, 2.5034e+05, 3.7807e+05,\n",
       "        6.5779e+05, 7.3557e+05, 1.2387e+05, 3.9295e+02, 8.2773e+02, 7.6645e+02,\n",
       "        5.9106e+05, 9.7616e+05, 4.0776e+03, 4.8326e+04, 2.6455e+04, 4.1186e+03,\n",
       "        4.1350e+05, 2.6304e+04, 1.6164e+05, 3.4514e+02, 2.2212e+05, 5.9047e+04,\n",
       "        1.5688e+06, 5.2294e+02, 1.1519e+06, 1.0370e+05, 1.0291e+02, 4.9293e+05,\n",
       "        5.3322e+05, 1.1396e+05, 1.5378e+03, 1.9473e+01, 1.5164e+03, 5.7896e+05,\n",
       "        3.4332e+05, 6.0488e+05, 2.1583e+05, 2.9820e+03, 6.2404e+03, 6.6359e+05,\n",
       "        4.6767e+06, 4.6291e+05, 5.9031e+03, 1.8139e+03, 1.7359e+05, 4.7455e+05,\n",
       "        6.8767e+02, 3.5341e+05, 1.0135e+03, 1.0796e+03, 1.2043e+05, 1.5567e+04,\n",
       "        1.5082e+04, 2.0456e+05, 3.6717e+04, 1.9374e+05, 5.7478e+05, 5.2099e+05,\n",
       "        6.0580e+04, 2.2270e+03, 6.1512e+04, 6.6613e+05, 6.9404e+05, 1.4475e+03,\n",
       "        1.3846e+06, 5.1096e+03, 7.2618e+04, 2.2010e+02, 9.0420e+05, 7.5300e+02,\n",
       "        3.1943e+05, 5.4717e+05, 3.7224e+02, 1.7452e+05, 5.9043e+05, 1.9056e+05,\n",
       "        3.2189e+01, 6.5841e+05, 6.6254e+05, 2.4427e+05, 2.1218e+05, 2.7461e+05,\n",
       "        5.0279e+05, 4.8718e+05, 3.1449e+04, 2.3175e+05, 4.0785e+02, 3.2680e+05,\n",
       "        5.3218e+04, 3.9806e+05, 4.9047e+05, 6.7252e+05, 1.0570e+05, 2.3238e+05,\n",
       "        1.8673e+05, 4.3321e+05, 8.4045e+05, 1.8476e+06, 1.0179e+03, 4.2876e+05,\n",
       "        7.4568e+04, 7.7130e+05, 5.5594e+02, 2.8352e+05, 3.6513e+05, 4.7225e+05,\n",
       "        2.4251e+05, 3.8477e+05, 3.3899e+05, 3.3140e+05, 3.4729e+02, 6.5999e+05,\n",
       "        5.9347e+05, 6.0753e+04, 4.7613e+02, 3.4695e+03, 1.6666e+05, 1.7986e+03,\n",
       "        2.8129e+01, 1.9172e+04, 2.4164e+04, 1.2882e+06, 9.3177e+05, 1.5298e+06,\n",
       "        2.7408e+03, 2.0280e+04, 3.7539e+05, 6.8135e+05, 3.4220e+05, 1.4673e+03,\n",
       "        4.4083e+02, 1.2213e+03, 7.3181e+05, 4.3079e+02, 4.5770e+02, 1.5663e+03,\n",
       "        5.0547e+02, 2.3665e+05, 1.8267e+05, 3.9915e+03, 4.2320e+05, 7.2574e+05,\n",
       "        1.3567e+03, 2.9582e+05, 9.9698e+05, 6.7799e+05, 1.3414e+06, 9.4724e+05,\n",
       "        1.1213e+03, 9.5205e+05, 2.1310e+03, 4.1147e+05, 2.2877e+03, 1.0518e+06,\n",
       "        1.9697e+05, 5.4576e+03, 2.1544e+05, 1.4925e+03, 1.3935e+03, 4.3208e+05,\n",
       "        5.8760e+02, 4.8365e+02, 9.8312e+02, 3.7620e+05, 1.0145e+03, 6.9325e+04,\n",
       "        2.1708e+03, 1.9885e+03, 5.4382e+03, 3.9042e+05, 6.9905e+02, 3.9561e+02,\n",
       "        1.0089e+03, 1.1376e+03, 1.4035e+04, 2.2158e+04, 5.2395e+02, 2.5778e+03,\n",
       "        3.4129e+05, 5.9052e+02, 2.3968e+04, 9.3979e+04, 1.4913e+03, 2.0118e+03,\n",
       "        1.2565e+03, 1.7206e+03, 8.2607e+03, 1.3101e+03, 7.0635e+02, 6.8429e+02,\n",
       "        7.2552e+02, 8.5561e+04, 4.8183e+05, 4.9901e+04, 2.0479e+03, 4.0889e+02,\n",
       "        4.1504e+02, 1.2120e+04, 4.6810e+01, 1.4592e+01, 4.3344e+02, 4.5514e+05,\n",
       "        1.3580e+03, 1.8464e+04, 1.6365e+03, 2.8988e+04, 1.6104e+03, 3.8499e+05,\n",
       "        1.3764e+03, 4.2022e+05, 4.2787e+05, 2.1052e+05, 5.2469e+05, 4.3890e+02,\n",
       "        1.5405e+03, 3.5439e+04, 3.2866e+02, 7.0240e+02, 5.0776e+04, 2.1657e+04,\n",
       "        2.3386e+05, 1.1008e+05, 7.0083e+04, 1.7351e+05, 3.6994e+02, 4.8948e+04,\n",
       "        2.3302e+04, 1.6364e+05, 4.1788e+04, 5.7878e+04, 1.0720e+01, 1.4501e+03,\n",
       "        1.5048e+02, 1.2022e+02, 2.6928e+03, 2.3254e+03, 5.4369e+03, 6.5342e+03,\n",
       "        7.1600e+03, 7.0350e+03, 8.5254e+03, 9.5014e+03, 1.1842e+04, 1.0557e+04,\n",
       "        5.6928e+03, 2.5946e+03])"
      ]
     },
     "execution_count": 10,
     "metadata": {},
     "output_type": "execute_result"
    }
   ],
   "source": [
    "torch.mean(val_loss_matrix, axis=1)"
   ]
  },
  {
   "cell_type": "code",
   "execution_count": 15,
   "metadata": {},
   "outputs": [],
   "source": [
    "train_perm_2 = torch.load(\"/azuredrive/dumps/train_perm.pt\")"
   ]
  },
  {
   "cell_type": "code",
   "execution_count": 16,
   "metadata": {},
   "outputs": [
    {
     "data": {
      "text/plain": [
       "tensor([37542, 44491,   216, 43688, 41558, 32245, 27206, 10863,  2190, 31849,\n",
       "        25408, 33504, 27102, 21934, 40181, 47682, 45747, 17004, 43777,  7433])"
      ]
     },
     "execution_count": 16,
     "metadata": {},
     "output_type": "execute_result"
    }
   ],
   "source": [
    "train_perm_2[:20]"
   ]
  },
  {
   "cell_type": "code",
   "execution_count": 4,
   "metadata": {},
   "outputs": [],
   "source": [
    "torch.save(val_loss_matrix, \"/data/adv_geom/dumps/expB_learning_distance_from_mfld/val_loss_matrix.pt\")\n",
    "\n",
    "\n"
   ]
  },
  {
   "cell_type": "code",
   "execution_count": 5,
   "metadata": {},
   "outputs": [
    {
     "name": "stdout",
     "output_type": "stream",
     "text": [
      "23042021-182541  CIFAR_ResNet18\t\t\t     CIFAR_ResNet18_clf_1e_5\r\n",
      "24042021-175508  CIFAR_ResNet18_1e_2_sgd_warmup      CIFAR_ResNet18_clf_1e_6\r\n",
      "25042021-142626  CIFAR_ResNet18_1e_5\t\t     train_loss_matrix.pt\r\n",
      "25042021-190755  CIFAR_ResNet18_1e_5_adam_no_warmup  val_loss_matrix.pt\r\n",
      "25042021-192549  CIFAR_ResNet18_1e_5_late_lr_toggle\r\n",
      "25042021-192916  CIFAR_ResNet18_clf\r\n"
     ]
    }
   ],
   "source": [
    "! ls /data/adv_geom/dumps/expB_learning_distance_from_mfld/\n",
    "\n"
   ]
  },
  {
   "cell_type": "code",
   "execution_count": 63,
   "metadata": {},
   "outputs": [],
   "source": [
    "from sklearn.linear_model import LinearRegression, Lasso\n",
    "from sklearn.preprocessing import StandardScaler"
   ]
  },
  {
   "cell_type": "code",
   "execution_count": 90,
   "metadata": {},
   "outputs": [],
   "source": [
    "train_points = train_set.points_n.numpy()[:25000]\n",
    "train_distances = train_set.actual_distances.numpy().reshape(-1)[:25000]\n",
    "\n",
    "\n",
    "\n",
    "scaler = StandardScaler()\n",
    "train_points = scaler.fit_transform(train_points)\n",
    "\n"
   ]
  },
  {
   "cell_type": "code",
   "execution_count": 91,
   "metadata": {},
   "outputs": [
    {
     "data": {
      "text/plain": [
       "Lasso()"
      ]
     },
     "execution_count": 91,
     "metadata": {},
     "output_type": "execute_result"
    }
   ],
   "source": [
    "regression_model = Lasso()\n",
    "regression_model.fit(train_points, train_distances)"
   ]
  },
  {
   "cell_type": "code",
   "execution_count": 92,
   "metadata": {},
   "outputs": [],
   "source": [
    "val_points = val_set.points_n.numpy()[:5000]\n",
    "val_distances = val_set.actual_distances.numpy().reshape(-1)[:5000]\n",
    "\n",
    "val_points = scaler.transform(val_points)"
   ]
  },
  {
   "cell_type": "code",
   "execution_count": 93,
   "metadata": {},
   "outputs": [],
   "source": [
    "val_distances_pred = regression_model.predict(val_points)"
   ]
  },
  {
   "cell_type": "code",
   "execution_count": 94,
   "metadata": {},
   "outputs": [],
   "source": [
    "from sklearn.metrics import mean_squared_error"
   ]
  },
  {
   "cell_type": "code",
   "execution_count": 95,
   "metadata": {},
   "outputs": [
    {
     "data": {
      "text/plain": [
       "13.089224"
      ]
     },
     "execution_count": 95,
     "metadata": {},
     "output_type": "execute_result"
    }
   ],
   "source": [
    "mean_squared_error(val_distances, val_distances_pred, squared=True)"
   ]
  },
  {
   "cell_type": "code",
   "execution_count": 97,
   "metadata": {},
   "outputs": [
    {
     "data": {
      "text/plain": [
       "(array([   0.,    0.,    0.,    0.,    0., 5000.,    0.,    0.,    0.,\n",
       "           0.]),\n",
       " array([5.743773, 5.843773, 5.943773, 6.043773, 6.143773, 6.243773,\n",
       "        6.343773, 6.443773, 6.543773, 6.643773, 6.743773], dtype=float32),\n",
       " <BarContainer object of 10 artists>)"
      ]
     },
     "execution_count": 97,
     "metadata": {},
     "output_type": "execute_result"
    },
    {
     "data": {
      "image/png": "[encoded data removed]",
      "text/plain": [
       "<Figure size 432x288 with 1 Axes>"
      ]
     },
     "metadata": {
      "needs_background": "light"
     },
     "output_type": "display_data"
    }
   ],
   "source": [
    "plt.hist(val_distances_pred)"
   ]
  },
  {
   "cell_type": "code",
   "execution_count": 98,
   "metadata": {},
   "outputs": [
    {
     "data": {
      "text/plain": [
       "(array([486., 500., 478., 498., 492., 502., 493., 488., 566., 497.]),\n",
       " array([9.8484452e-04, 1.2504337e+00, 2.4998825e+00, 3.7493312e+00,\n",
       "        4.9987803e+00, 6.2482290e+00, 7.4976778e+00, 8.7471266e+00,\n",
       "        9.9965754e+00, 1.1246024e+01, 1.2495473e+01], dtype=float32),\n",
       " <BarContainer object of 10 artists>)"
      ]
     },
     "execution_count": 98,
     "metadata": {},
     "output_type": "execute_result"
    },
    {
     "data": {
      "image/png": "[encoded data removed]",
      "text/plain": [
       "<Figure size 432x288 with 1 Axes>"
      ]
     },
     "metadata": {
      "needs_background": "light"
     },
     "output_type": "display_data"
    }
   ],
   "source": [
    "plt.hist(val_distances)"
   ]
  },
  {
   "cell_type": "code",
   "execution_count": 7,
   "metadata": {},
   "outputs": [],
   "source": [
    "\n",
    "\n"
   ]
  },
  {
   "cell_type": "code",
   "execution_count": null,
   "metadata": {},
   "outputs": [],
   "source": []
  }
 ],
 "metadata": {
  "kernelspec": {
   "display_name": "Python 3",
   "language": "python",
   "name": "python3"
  },
  "language_info": {
   "codemirror_mode": {
    "name": "ipython",
    "version": 3
   },
   "file_extension": ".py",
   "mimetype": "text/x-python",
   "name": "python",
   "nbconvert_exporter": "python",
   "pygments_lexer": "ipython3",
   "version": "3.6.9"
  }
 },
 "nbformat": 4,
 "nbformat_minor": 4
}
