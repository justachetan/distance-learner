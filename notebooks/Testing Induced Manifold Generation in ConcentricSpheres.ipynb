{
 "cells": [
  {
   "cell_type": "code",
   "execution_count": 1,
   "metadata": {},
   "outputs": [],
   "source": [
    "import os\n",
    "os.chdir(\"/data/t-achetan/adv_geom/src/\")\n",
    "import numpy as np\n",
    "import torch\n",
    "\n",
    "import matplotlib.pyplot as plt"
   ]
  },
  {
   "cell_type": "code",
   "execution_count": 2,
   "metadata": {},
   "outputs": [],
   "source": [
    "from datagen.synthetic.multiple.concentricspheres import ConcentricSpheres"
   ]
  },
  {
   "cell_type": "code",
   "execution_count": null,
   "metadata": {},
   "outputs": [],
   "source": [
    "config = {\n",
    "    \"k\": 2,\n",
    "    \"n\": 2,\n",
    "    \"g\": 0.3,\n",
    "    \"max_norm\": 0.1,\n",
    "    \"D\": 0.07,\n",
    "    \"inferred\": True,\n",
    "    \"N\": 20000,\n",
    "    \"num_neg\": 10000,\n",
    "    \"r\": 1.0,\n",
    "    \"augment\": False,\n",
    "    \"off_online\": False,\n",
    "    \"online\": False,\n",
    "    \"cache_dir\": \"./tmp\",\n",
    "    \"recomp_tn\": False,\n",
    "    \"use_new_knn\": False,\n",
    "    \"gamma\": 0,\n",
    "    \"norm_factor\": 1,\n",
    "    \"M\": 1.0\n",
    "    \n",
    "}"
   ]
  },
  {
   "cell_type": "code",
   "execution_count": null,
   "metadata": {},
   "outputs": [],
   "source": [
    "test_spheres = ConcentricSpheres(**config)"
   ]
  },
  {
   "cell_type": "code",
   "execution_count": null,
   "metadata": {},
   "outputs": [],
   "source": [
    "test_spheres.compute_points()"
   ]
  },
  {
   "cell_type": "code",
   "execution_count": null,
   "metadata": {},
   "outputs": [],
   "source": [
    "test_spheres.all_actual_distances"
   ]
  },
  {
   "cell_type": "code",
   "execution_count": null,
   "metadata": {},
   "outputs": [],
   "source": [
    "plt.hist(test_spheres.all_actual_distances.numpy())"
   ]
  },
  {
   "cell_type": "code",
   "execution_count": null,
   "metadata": {},
   "outputs": [],
   "source": [
    "plt.scatter(test_spheres.on_mfld_pts_trivial_[:, 0] + test_spheres.translation[0], test_spheres.on_mfld_pts_trivial_[:, 1] + test_spheres.translation[1], s=0.01)"
   ]
  },
  {
   "cell_type": "code",
   "execution_count": null,
   "metadata": {},
   "outputs": [],
   "source": [
    "plt.figure(figsize=(6, 6))\n",
    "plt.scatter(test_spheres.all_points_rot_[:, 0], test_spheres.all_points_rot_[:, 1], s=0.01)\n",
    "plt.scatter(test_spheres.all_points_rot_[2, 0], test_spheres.all_points_rot_[2, 1])\n",
    "plt.scatter(test_spheres.x_cn[0], test_spheres.x_cn[1])\n",
    "\n",
    "x = test_spheres.poca[100]\n",
    "\n",
    "# plt.scatter(test_spheres.poca[100, 0], test_spheres.poca[100, 1])\n",
    "# plt.scatter(test_spheres.poca[0, 0], test_spheres.normed_all_points[0, 1], s=0.01)"
   ]
  },
  {
   "cell_type": "code",
   "execution_count": null,
   "metadata": {},
   "outputs": [],
   "source": [
    "test_spheres.poca_idx"
   ]
  },
  {
   "cell_type": "code",
   "execution_count": null,
   "metadata": {},
   "outputs": [],
   "source": [
    "test_spheres.class_labels"
   ]
  },
  {
   "cell_type": "code",
   "execution_count": null,
   "metadata": {},
   "outputs": [],
   "source": [
    "np.linalg.norm(test_spheres.all_points_rot_[:100] - test_spheres.x_cn, axis=1) - 1."
   ]
  },
  {
   "cell_type": "code",
   "execution_count": null,
   "metadata": {},
   "outputs": [],
   "source": [
    "test_spheres.class_labels"
   ]
  },
  {
   "cell_type": "code",
   "execution_count": null,
   "metadata": {},
   "outputs": [],
   "source": [
    "np.linalg.norm(test_spheres.normed_all_points[10000:15000] - test_spheres.fix_center, ord=2, axis=1) - 1.3\n",
    "\n",
    "\n"
   ]
  },
  {
   "cell_type": "code",
   "execution_count": null,
   "metadata": {},
   "outputs": [],
   "source": [
    "test_spheres.normed_all_actual_distances[10000:15000]"
   ]
  },
  {
   "cell_type": "code",
   "execution_count": null,
   "metadata": {},
   "outputs": [],
   "source": [
    "np.where(test_spheres.normed_all_actual_distances[test_spheres.class_labels == 2][:, 0] > 0.1)[0].shape"
   ]
  },
  {
   "cell_type": "code",
   "execution_count": null,
   "metadata": {},
   "outputs": [],
   "source": [
    "plt.figure(figsize=(6,6))\n",
    "plt.scatter(test_spheres.on_mfld_pts_trivial_[:, 0], test_spheres.on_mfld_pts_trivial_[:, 1], s=0.01)\n",
    "idx = 2000\n",
    "plt.scatter(test_spheres.poca[idx][0], test_spheres.poca[idx][1])\n",
    "tan_dir_local = test_spheres.tang_dset[test_spheres.poca_idx[idx]][0]\n",
    "norm_dir_local = test_spheres.norm_dset[test_spheres.poca_idx[idx]][0]\n",
    "\n",
    "plt.arrow(test_spheres.poca[idx][0], test_spheres.poca[idx][1], tan_dir_local[0], tan_dir_local[1])\n",
    "plt.arrow(test_spheres.poca[idx][0], test_spheres.poca[idx][1], norm_dir_local[0], norm_dir_local[1])\n",
    "\n",
    "on_mfld_pt = test_spheres.poca[idx]\n",
    "norm_dir = test_spheres.norm_dset[test_spheres.poca_idx[idx]]\n",
    "rdm_coeffs = np.random.normal(0, 1, size=norm_dir.shape[0]).reshape(-1, 1)\n",
    "norm_delta = np.sum(rdm_coeffs * norm_dir, axis=0)\n",
    "off_mfld_pt = on_mfld_pt + norm_delta\n",
    "\n",
    "plt.scatter(test_spheres.new_poca_dset[idx][0], test_spheres.new_poca_dset[idx][1])\n",
    "# off_mfld_idx = idx if idx < test_spheres.S1.genattrs.num_neg else idx + (test_spheres.S1.genattrs.N - test_spheres.S1.genattrs.num_neg)\n",
    "# plt.scatter(test_spheres.all_points[idx][0], test_spheres.all_points[idx][1])\n",
    "plt.scatter(off_mfld_pt[0], off_mfld_pt[1])"
   ]
  },
  {
   "cell_type": "code",
   "execution_count": null,
   "metadata": {},
   "outputs": [],
   "source": [
    "test_spheres.gamma, test_spheres.anchor, test_spheres.fix_center"
   ]
  },
  {
   "cell_type": "code",
   "execution_count": null,
   "metadata": {},
   "outputs": [],
   "source": [
    "test_spheres.x_cn"
   ]
  },
  {
   "cell_type": "code",
   "execution_count": null,
   "metadata": {},
   "outputs": [],
   "source": [
    "np.random.choice([1, 2, 3, 4, 5, 6], size=4)"
   ]
  },
  {
   "cell_type": "code",
   "execution_count": null,
   "metadata": {},
   "outputs": [],
   "source": [
    "np.where(test_spheres == 2)[0].shape"
   ]
  },
  {
   "cell_type": "markdown",
   "metadata": {},
   "source": [
    "# Testing inferred manifold generation code on 06/05/2022"
   ]
  },
  {
   "cell_type": "code",
   "execution_count": 3,
   "metadata": {},
   "outputs": [
    {
     "name": "stderr",
     "output_type": "stream",
     "text": [
      "08-05-2022 21:13:27 -- [I] root >> [ConcentricSpheres]: data attribute (_x_ck) loaded from file: /data/t-achetan_2/dumps/expC_dist_learner_for_adv_ex/rdm_concspheres_test/rdm_concspheres_k2n2_noninfdist_bs4096_inferred_debug/data/train/_x_ck.pkl\n",
      "08-05-2022 21:13:27 -- [I] root >> [ConcentricSpheres]: data attribute (_x_cn) loaded from file: /data/t-achetan_2/dumps/expC_dist_learner_for_adv_ex/rdm_concspheres_test/rdm_concspheres_k2n2_noninfdist_bs4096_inferred_debug/data/train/_x_cn.pkl\n",
      "08-05-2022 21:13:27 -- [I] root >> [ConcentricSpheres]: data attribute (_rotation) loaded from file: /data/t-achetan_2/dumps/expC_dist_learner_for_adv_ex/rdm_concspheres_test/rdm_concspheres_k2n2_noninfdist_bs4096_inferred_debug/data/train/_rotation.pkl\n",
      "08-05-2022 21:13:27 -- [I] root >> [ConcentricSpheres]: data attribute (_translation) loaded from file: /data/t-achetan_2/dumps/expC_dist_learner_for_adv_ex/rdm_concspheres_test/rdm_concspheres_k2n2_noninfdist_bs4096_inferred_debug/data/train/_translation.pkl\n",
      "08-05-2022 21:13:27 -- [I] root >> [ConcentricSpheres]: data attribute (_anchor) loaded from file: /data/t-achetan_2/dumps/expC_dist_learner_for_adv_ex/rdm_concspheres_test/rdm_concspheres_k2n2_noninfdist_bs4096_inferred_debug/data/train/_anchor.pkl\n",
      "08-05-2022 21:13:27 -- [I] root >> [ConcentricSpheres]: data attribute (all_points) loaded from file: /data/t-achetan_2/dumps/expC_dist_learner_for_adv_ex/rdm_concspheres_test/rdm_concspheres_k2n2_noninfdist_bs4096_inferred_debug/data/train/all_points.pkl\n",
      "08-05-2022 21:13:27 -- [I] root >> [ConcentricSpheres]: data attribute (all_distances) loaded from file: /data/t-achetan_2/dumps/expC_dist_learner_for_adv_ex/rdm_concspheres_test/rdm_concspheres_k2n2_noninfdist_bs4096_inferred_debug/data/train/all_distances.pkl\n",
      "08-05-2022 21:13:27 -- [I] root >> [ConcentricSpheres]: data attribute (all_actual_distances) loaded from file: /data/t-achetan_2/dumps/expC_dist_learner_for_adv_ex/rdm_concspheres_test/rdm_concspheres_k2n2_noninfdist_bs4096_inferred_debug/data/train/all_actual_distances.pkl\n",
      "08-05-2022 21:13:27 -- [I] root >> [ConcentricSpheres]: data attribute (class_labels) loaded from file: /data/t-achetan_2/dumps/expC_dist_learner_for_adv_ex/rdm_concspheres_test/rdm_concspheres_k2n2_noninfdist_bs4096_inferred_debug/data/train/class_labels.pkl\n",
      "08-05-2022 21:13:27 -- [I] root >> [ConcentricSpheres]: data attribute (normed_all_points) loaded from file: /data/t-achetan_2/dumps/expC_dist_learner_for_adv_ex/rdm_concspheres_test/rdm_concspheres_k2n2_noninfdist_bs4096_inferred_debug/data/train/normed_all_points.pkl\n",
      "08-05-2022 21:13:27 -- [I] root >> [ConcentricSpheres]: data attribute (normed_all_distances) loaded from file: /data/t-achetan_2/dumps/expC_dist_learner_for_adv_ex/rdm_concspheres_test/rdm_concspheres_k2n2_noninfdist_bs4096_inferred_debug/data/train/normed_all_distances.pkl\n",
      "08-05-2022 21:13:27 -- [I] root >> [ConcentricSpheres]: data attribute (normed_all_actual_distances) loaded from file: /data/t-achetan_2/dumps/expC_dist_learner_for_adv_ex/rdm_concspheres_test/rdm_concspheres_k2n2_noninfdist_bs4096_inferred_debug/data/train/normed_all_actual_distances.pkl\n",
      "08-05-2022 21:13:27 -- [I] root >> [ConcentricSpheres]: data attribute (fix_center) loaded from file: /data/t-achetan_2/dumps/expC_dist_learner_for_adv_ex/rdm_concspheres_test/rdm_concspheres_k2n2_noninfdist_bs4096_inferred_debug/data/train/fix_center.pkl\n",
      "08-05-2022 21:13:27 -- [I] root >> [ConcentricSpheres]: data attribute (all_points_trivial_) loaded from file: /data/t-achetan_2/dumps/expC_dist_learner_for_adv_ex/rdm_concspheres_test/rdm_concspheres_k2n2_noninfdist_bs4096_inferred_debug/data/train/all_points_trivial_.pkl\n",
      "08-05-2022 21:13:27 -- [I] root >> [ConcentricSpheres]: data attribute (all_points_tr_) loaded from file: /data/t-achetan_2/dumps/expC_dist_learner_for_adv_ex/rdm_concspheres_test/rdm_concspheres_k2n2_noninfdist_bs4096_inferred_debug/data/train/all_points_tr_.pkl\n",
      "08-05-2022 21:13:27 -- [I] root >> [ConcentricSpheres]: data attribute (all_points_rot_) loaded from file: /data/t-achetan_2/dumps/expC_dist_learner_for_adv_ex/rdm_concspheres_test/rdm_concspheres_k2n2_noninfdist_bs4096_inferred_debug/data/train/all_points_rot_.pkl\n",
      "08-05-2022 21:13:27 -- [I] root >> [ConcentricSpheres]: data attribute (nn_indices) loaded from file: /data/t-achetan_2/dumps/expC_dist_learner_for_adv_ex/rdm_concspheres_test/rdm_concspheres_k2n2_noninfdist_bs4096_inferred_debug/data/train/nn_indices.pkl\n",
      "08-05-2022 21:13:27 -- [I] root >> [ConcentricSpheres]: data attribute (nn_distances) loaded from file: /data/t-achetan_2/dumps/expC_dist_learner_for_adv_ex/rdm_concspheres_test/rdm_concspheres_k2n2_noninfdist_bs4096_inferred_debug/data/train/nn_distances.pkl\n",
      "08-05-2022 21:13:27 -- [I] root >> [ConcentricSpheres]: data attribute (poca_idx) loaded from file: /data/t-achetan_2/dumps/expC_dist_learner_for_adv_ex/rdm_concspheres_test/rdm_concspheres_k2n2_noninfdist_bs4096_inferred_debug/data/train/poca_idx.pkl\n",
      "08-05-2022 21:13:27 -- [I] root >> [ConcentricSpheres]: data attribute (poca_idx_counts) loaded from file: /data/t-achetan_2/dumps/expC_dist_learner_for_adv_ex/rdm_concspheres_test/rdm_concspheres_k2n2_noninfdist_bs4096_inferred_debug/data/train/poca_idx_counts.pkl\n",
      "08-05-2022 21:13:27 -- [I] root >> [ConcentricSpheres]: data attribute (on_mfld_pts_k_) loaded from file: /data/t-achetan_2/dumps/expC_dist_learner_for_adv_ex/rdm_concspheres_test/rdm_concspheres_k2n2_noninfdist_bs4096_inferred_debug/data/train/on_mfld_pts_k_.pkl\n",
      "08-05-2022 21:13:27 -- [I] root >> [ConcentricSpheres]: data attribute (on_mfld_pts_trivial_) loaded from file: /data/t-achetan_2/dumps/expC_dist_learner_for_adv_ex/rdm_concspheres_test/rdm_concspheres_k2n2_noninfdist_bs4096_inferred_debug/data/train/on_mfld_pts_trivial_.pkl\n",
      "08-05-2022 21:13:27 -- [I] root >> [ConcentricSpheres]: data attribute (all_tang_and_norms) loaded from file: /data/t-achetan_2/dumps/expC_dist_learner_for_adv_ex/rdm_concspheres_test/rdm_concspheres_k2n2_noninfdist_bs4096_inferred_debug/data/train/all_tang_and_norms.pkl\n",
      "08-05-2022 21:13:27 -- [I] root >> [ConcentricSpheres]: data attribute (on_mfld_pb) loaded from file: /data/t-achetan_2/dumps/expC_dist_learner_for_adv_ex/rdm_concspheres_test/rdm_concspheres_k2n2_noninfdist_bs4096_inferred_debug/data/train/on_mfld_pb.pkl\n",
      "08-05-2022 21:13:27 -- [I] root >> [ConcentricSpheres]: data attribute (off_mfld_pb) loaded from file: /data/t-achetan_2/dumps/expC_dist_learner_for_adv_ex/rdm_concspheres_test/rdm_concspheres_k2n2_noninfdist_bs4096_inferred_debug/data/train/off_mfld_pb.pkl\n",
      "08-05-2022 21:13:27 -- [I] root >> [ConcentricSpheres]: data attribute (off_mfld_pts_for_chunk) loaded from file: /data/t-achetan_2/dumps/expC_dist_learner_for_adv_ex/rdm_concspheres_test/rdm_concspheres_k2n2_noninfdist_bs4096_inferred_debug/data/train/off_mfld_pts_for_chunk.pkl\n",
      "08-05-2022 21:13:27 -- [I] root >> [ConcentricSpheres]: data attribute (on_mfld_pb_sizes) loaded from file: /data/t-achetan_2/dumps/expC_dist_learner_for_adv_ex/rdm_concspheres_test/rdm_concspheres_k2n2_noninfdist_bs4096_inferred_debug/data/train/on_mfld_pb_sizes.pkl\n",
      "08-05-2022 21:13:27 -- [I] root >> [ConcentricSpheres]: data attribute (off_mfld_pb_sizes) loaded from file: /data/t-achetan_2/dumps/expC_dist_learner_for_adv_ex/rdm_concspheres_test/rdm_concspheres_k2n2_noninfdist_bs4096_inferred_debug/data/train/off_mfld_pb_sizes.pkl\n",
      "08-05-2022 21:13:28 -- [I] root >> [RandomSphere]: data attribute (_rotation) loaded from file: /data/t-achetan_2/dumps/expC_dist_learner_for_adv_ex/rdm_concspheres_test/rdm_concspheres_k2n2_noninfdist_bs4096_inferred_debug/data/train/S1_dump/_rotation.pkl\n",
      "08-05-2022 21:13:28 -- [I] root >> [RandomSphere]: data attribute (_translation) loaded from file: /data/t-achetan_2/dumps/expC_dist_learner_for_adv_ex/rdm_concspheres_test/rdm_concspheres_k2n2_noninfdist_bs4096_inferred_debug/data/train/S1_dump/_translation.pkl\n",
      "08-05-2022 21:13:28 -- [I] root >> [RandomSphere]: data attribute (points_k) loaded from file: /data/t-achetan_2/dumps/expC_dist_learner_for_adv_ex/rdm_concspheres_test/rdm_concspheres_k2n2_noninfdist_bs4096_inferred_debug/data/train/S1_dump/points_k.pkl\n",
      "08-05-2022 21:13:28 -- [I] root >> [RandomSphere]: data attribute (x_ck) loaded from file: /data/t-achetan_2/dumps/expC_dist_learner_for_adv_ex/rdm_concspheres_test/rdm_concspheres_k2n2_noninfdist_bs4096_inferred_debug/data/train/S1_dump/x_ck.pkl\n"
     ]
    },
    {
     "name": "stderr",
     "output_type": "stream",
     "text": [
      "08-05-2022 21:13:28 -- [I] root >> [RandomSphere]: data attribute (_rotation) loaded from file: /data/t-achetan_2/dumps/expC_dist_learner_for_adv_ex/rdm_concspheres_test/rdm_concspheres_k2n2_noninfdist_bs4096_inferred_debug/data/train/S2_dump/_rotation.pkl\n",
      "08-05-2022 21:13:28 -- [I] root >> [RandomSphere]: data attribute (_translation) loaded from file: /data/t-achetan_2/dumps/expC_dist_learner_for_adv_ex/rdm_concspheres_test/rdm_concspheres_k2n2_noninfdist_bs4096_inferred_debug/data/train/S2_dump/_translation.pkl\n",
      "08-05-2022 21:13:28 -- [I] root >> [RandomSphere]: data attribute (points_k) loaded from file: /data/t-achetan_2/dumps/expC_dist_learner_for_adv_ex/rdm_concspheres_test/rdm_concspheres_k2n2_noninfdist_bs4096_inferred_debug/data/train/S2_dump/points_k.pkl\n",
      "08-05-2022 21:13:28 -- [I] root >> [RandomSphere]: data attribute (x_ck) loaded from file: /data/t-achetan_2/dumps/expC_dist_learner_for_adv_ex/rdm_concspheres_test/rdm_concspheres_k2n2_noninfdist_bs4096_inferred_debug/data/train/S2_dump/x_ck.pkl\n",
      "08-05-2022 21:13:28 -- [I] root >> [ConcentricSpheres]: data attribute (_x_ck) loaded from file: /data/t-achetan_2/dumps/expC_dist_learner_for_adv_ex/rdm_concspheres_test/rdm_concspheres_k2n2_noninfdist_bs4096_inferred_debug/data/val/_x_ck.pkl\n",
      "08-05-2022 21:13:28 -- [I] root >> [ConcentricSpheres]: data attribute (_x_cn) loaded from file: /data/t-achetan_2/dumps/expC_dist_learner_for_adv_ex/rdm_concspheres_test/rdm_concspheres_k2n2_noninfdist_bs4096_inferred_debug/data/val/_x_cn.pkl\n",
      "08-05-2022 21:13:28 -- [I] root >> [ConcentricSpheres]: data attribute (_rotation) loaded from file: /data/t-achetan_2/dumps/expC_dist_learner_for_adv_ex/rdm_concspheres_test/rdm_concspheres_k2n2_noninfdist_bs4096_inferred_debug/data/val/_rotation.pkl\n",
      "08-05-2022 21:13:28 -- [I] root >> [ConcentricSpheres]: data attribute (_translation) loaded from file: /data/t-achetan_2/dumps/expC_dist_learner_for_adv_ex/rdm_concspheres_test/rdm_concspheres_k2n2_noninfdist_bs4096_inferred_debug/data/val/_translation.pkl\n",
      "08-05-2022 21:13:28 -- [I] root >> [ConcentricSpheres]: data attribute (_anchor) loaded from file: /data/t-achetan_2/dumps/expC_dist_learner_for_adv_ex/rdm_concspheres_test/rdm_concspheres_k2n2_noninfdist_bs4096_inferred_debug/data/val/_anchor.pkl\n",
      "08-05-2022 21:13:28 -- [I] root >> [ConcentricSpheres]: data attribute (all_points) loaded from file: /data/t-achetan_2/dumps/expC_dist_learner_for_adv_ex/rdm_concspheres_test/rdm_concspheres_k2n2_noninfdist_bs4096_inferred_debug/data/val/all_points.pkl\n",
      "08-05-2022 21:13:28 -- [I] root >> [ConcentricSpheres]: data attribute (all_distances) loaded from file: /data/t-achetan_2/dumps/expC_dist_learner_for_adv_ex/rdm_concspheres_test/rdm_concspheres_k2n2_noninfdist_bs4096_inferred_debug/data/val/all_distances.pkl\n",
      "08-05-2022 21:13:28 -- [I] root >> [ConcentricSpheres]: data attribute (all_actual_distances) loaded from file: /data/t-achetan_2/dumps/expC_dist_learner_for_adv_ex/rdm_concspheres_test/rdm_concspheres_k2n2_noninfdist_bs4096_inferred_debug/data/val/all_actual_distances.pkl\n",
      "08-05-2022 21:13:28 -- [I] root >> [ConcentricSpheres]: data attribute (all_smooth_distances) loaded from file: /data/t-achetan_2/dumps/expC_dist_learner_for_adv_ex/rdm_concspheres_test/rdm_concspheres_k2n2_noninfdist_bs4096_inferred_debug/data/val/all_smooth_distances.pkl\n",
      "08-05-2022 21:13:28 -- [I] root >> [ConcentricSpheres]: data attribute (class_labels) loaded from file: /data/t-achetan_2/dumps/expC_dist_learner_for_adv_ex/rdm_concspheres_test/rdm_concspheres_k2n2_noninfdist_bs4096_inferred_debug/data/val/class_labels.pkl\n",
      "08-05-2022 21:13:28 -- [I] root >> [ConcentricSpheres]: data attribute (pre_class_labels) loaded from file: /data/t-achetan_2/dumps/expC_dist_learner_for_adv_ex/rdm_concspheres_test/rdm_concspheres_k2n2_noninfdist_bs4096_inferred_debug/data/val/pre_class_labels.pkl\n",
      "08-05-2022 21:13:28 -- [I] root >> [ConcentricSpheres]: data attribute (normed_all_points) loaded from file: /data/t-achetan_2/dumps/expC_dist_learner_for_adv_ex/rdm_concspheres_test/rdm_concspheres_k2n2_noninfdist_bs4096_inferred_debug/data/val/normed_all_points.pkl\n",
      "08-05-2022 21:13:28 -- [I] root >> [ConcentricSpheres]: data attribute (normed_all_distances) loaded from file: /data/t-achetan_2/dumps/expC_dist_learner_for_adv_ex/rdm_concspheres_test/rdm_concspheres_k2n2_noninfdist_bs4096_inferred_debug/data/val/normed_all_distances.pkl\n",
      "08-05-2022 21:13:28 -- [I] root >> [ConcentricSpheres]: data attribute (normed_all_actual_distances) loaded from file: /data/t-achetan_2/dumps/expC_dist_learner_for_adv_ex/rdm_concspheres_test/rdm_concspheres_k2n2_noninfdist_bs4096_inferred_debug/data/val/normed_all_actual_distances.pkl\n",
      "08-05-2022 21:13:28 -- [I] root >> [ConcentricSpheres]: data attribute (normed_all_smooth_distances) loaded from file: /data/t-achetan_2/dumps/expC_dist_learner_for_adv_ex/rdm_concspheres_test/rdm_concspheres_k2n2_noninfdist_bs4096_inferred_debug/data/val/normed_all_smooth_distances.pkl\n",
      "08-05-2022 21:13:28 -- [I] root >> [ConcentricSpheres]: data attribute (fix_center) loaded from file: /data/t-achetan_2/dumps/expC_dist_learner_for_adv_ex/rdm_concspheres_test/rdm_concspheres_k2n2_noninfdist_bs4096_inferred_debug/data/val/fix_center.pkl\n",
      "08-05-2022 21:13:28 -- [I] root >> [RandomSphere]: data attribute (_rotation) loaded from file: /data/t-achetan_2/dumps/expC_dist_learner_for_adv_ex/rdm_concspheres_test/rdm_concspheres_k2n2_noninfdist_bs4096_inferred_debug/data/val/S1_dump/_rotation.pkl\n",
      "08-05-2022 21:13:28 -- [I] root >> [RandomSphere]: data attribute (_translation) loaded from file: /data/t-achetan_2/dumps/expC_dist_learner_for_adv_ex/rdm_concspheres_test/rdm_concspheres_k2n2_noninfdist_bs4096_inferred_debug/data/val/S1_dump/_translation.pkl\n",
      "08-05-2022 21:13:28 -- [I] root >> [RandomSphere]: data attribute (_anchor) loaded from file: /data/t-achetan_2/dumps/expC_dist_learner_for_adv_ex/rdm_concspheres_test/rdm_concspheres_k2n2_noninfdist_bs4096_inferred_debug/data/val/S1_dump/_anchor.pkl\n",
      "08-05-2022 21:13:28 -- [I] root >> [RandomSphere]: data attribute (points_k) loaded from file: /data/t-achetan_2/dumps/expC_dist_learner_for_adv_ex/rdm_concspheres_test/rdm_concspheres_k2n2_noninfdist_bs4096_inferred_debug/data/val/S1_dump/points_k.pkl\n",
      "08-05-2022 21:13:28 -- [I] root >> [RandomSphere]: data attribute (pre_images_k) loaded from file: /data/t-achetan_2/dumps/expC_dist_learner_for_adv_ex/rdm_concspheres_test/rdm_concspheres_k2n2_noninfdist_bs4096_inferred_debug/data/val/S1_dump/pre_images_k.pkl\n",
      "08-05-2022 21:13:28 -- [I] root >> [RandomSphere]: data attribute (points_n_trivial_) loaded from file: /data/t-achetan_2/dumps/expC_dist_learner_for_adv_ex/rdm_concspheres_test/rdm_concspheres_k2n2_noninfdist_bs4096_inferred_debug/data/val/S1_dump/points_n_trivial_.pkl\n",
      "08-05-2022 21:13:28 -- [I] root >> [RandomSphere]: data attribute (points_n_tr_) loaded from file: /data/t-achetan_2/dumps/expC_dist_learner_for_adv_ex/rdm_concspheres_test/rdm_concspheres_k2n2_noninfdist_bs4096_inferred_debug/data/val/S1_dump/points_n_tr_.pkl\n",
      "08-05-2022 21:13:28 -- [I] root >> [RandomSphere]: data attribute (points_n_rot_) loaded from file: /data/t-achetan_2/dumps/expC_dist_learner_for_adv_ex/rdm_concspheres_test/rdm_concspheres_k2n2_noninfdist_bs4096_inferred_debug/data/val/S1_dump/points_n_rot_.pkl\n",
      "08-05-2022 21:13:28 -- [I] root >> [RandomSphere]: data attribute (points_n) loaded from file: /data/t-achetan_2/dumps/expC_dist_learner_for_adv_ex/rdm_concspheres_test/rdm_concspheres_k2n2_noninfdist_bs4096_inferred_debug/data/val/S1_dump/points_n.pkl\n",
      "08-05-2022 21:13:28 -- [I] root >> [RandomSphere]: data attribute (actual_distances) loaded from file: /data/t-achetan_2/dumps/expC_dist_learner_for_adv_ex/rdm_concspheres_test/rdm_concspheres_k2n2_noninfdist_bs4096_inferred_debug/data/val/S1_dump/actual_distances.pkl\n",
      "08-05-2022 21:13:28 -- [I] root >> [RandomSphere]: data attribute (distances) loaded from file: /data/t-achetan_2/dumps/expC_dist_learner_for_adv_ex/rdm_concspheres_test/rdm_concspheres_k2n2_noninfdist_bs4096_inferred_debug/data/val/S1_dump/distances.pkl\n",
      "08-05-2022 21:13:28 -- [I] root >> [RandomSphere]: data attribute (fix_center) loaded from file: /data/t-achetan_2/dumps/expC_dist_learner_for_adv_ex/rdm_concspheres_test/rdm_concspheres_k2n2_noninfdist_bs4096_inferred_debug/data/val/S1_dump/fix_center.pkl\n"
     ]
    },
    {
     "name": "stderr",
     "output_type": "stream",
     "text": [
      "08-05-2022 21:13:28 -- [I] root >> [RandomSphere]: data attribute (normed_points_n) loaded from file: /data/t-achetan_2/dumps/expC_dist_learner_for_adv_ex/rdm_concspheres_test/rdm_concspheres_k2n2_noninfdist_bs4096_inferred_debug/data/val/S1_dump/normed_points_n.pkl\n",
      "08-05-2022 21:13:28 -- [I] root >> [RandomSphere]: data attribute (normed_distances) loaded from file: /data/t-achetan_2/dumps/expC_dist_learner_for_adv_ex/rdm_concspheres_test/rdm_concspheres_k2n2_noninfdist_bs4096_inferred_debug/data/val/S1_dump/normed_distances.pkl\n",
      "08-05-2022 21:13:28 -- [I] root >> [RandomSphere]: data attribute (normed_actual_distances) loaded from file: /data/t-achetan_2/dumps/expC_dist_learner_for_adv_ex/rdm_concspheres_test/rdm_concspheres_k2n2_noninfdist_bs4096_inferred_debug/data/val/S1_dump/normed_actual_distances.pkl\n",
      "08-05-2022 21:13:28 -- [I] root >> [RandomSphere]: data attribute (x_ck) loaded from file: /data/t-achetan_2/dumps/expC_dist_learner_for_adv_ex/rdm_concspheres_test/rdm_concspheres_k2n2_noninfdist_bs4096_inferred_debug/data/val/S1_dump/x_ck.pkl\n",
      "08-05-2022 21:13:28 -- [I] root >> [RandomSphere]: data attribute (x_cn_trivial_) loaded from file: /data/t-achetan_2/dumps/expC_dist_learner_for_adv_ex/rdm_concspheres_test/rdm_concspheres_k2n2_noninfdist_bs4096_inferred_debug/data/val/S1_dump/x_cn_trivial_.pkl\n",
      "08-05-2022 21:13:28 -- [I] root >> [RandomSphere]: data attribute (x_cn_tr_) loaded from file: /data/t-achetan_2/dumps/expC_dist_learner_for_adv_ex/rdm_concspheres_test/rdm_concspheres_k2n2_noninfdist_bs4096_inferred_debug/data/val/S1_dump/x_cn_tr_.pkl\n",
      "08-05-2022 21:13:28 -- [I] root >> [RandomSphere]: data attribute (x_cn_rot_) loaded from file: /data/t-achetan_2/dumps/expC_dist_learner_for_adv_ex/rdm_concspheres_test/rdm_concspheres_k2n2_noninfdist_bs4096_inferred_debug/data/val/S1_dump/x_cn_rot_.pkl\n",
      "08-05-2022 21:13:28 -- [I] root >> [RandomSphere]: data attribute (x_cn) loaded from file: /data/t-achetan_2/dumps/expC_dist_learner_for_adv_ex/rdm_concspheres_test/rdm_concspheres_k2n2_noninfdist_bs4096_inferred_debug/data/val/S1_dump/x_cn.pkl\n",
      "08-05-2022 21:13:28 -- [I] root >> [RandomSphere]: data attribute (normed_x_cn) loaded from file: /data/t-achetan_2/dumps/expC_dist_learner_for_adv_ex/rdm_concspheres_test/rdm_concspheres_k2n2_noninfdist_bs4096_inferred_debug/data/val/S1_dump/normed_x_cn.pkl\n",
      "08-05-2022 21:13:28 -- [I] root >> [RandomSphere]: data attribute (pre_images_k) loaded from file: /data/t-achetan_2/dumps/expC_dist_learner_for_adv_ex/rdm_concspheres_test/rdm_concspheres_k2n2_noninfdist_bs4096_inferred_debug/data/val/S1_dump/pre_images_k.pkl\n",
      "08-05-2022 21:13:28 -- [I] root >> [RandomSphere]: data attribute (_rotation) loaded from file: /data/t-achetan_2/dumps/expC_dist_learner_for_adv_ex/rdm_concspheres_test/rdm_concspheres_k2n2_noninfdist_bs4096_inferred_debug/data/val/S2_dump/_rotation.pkl\n",
      "08-05-2022 21:13:28 -- [I] root >> [RandomSphere]: data attribute (_translation) loaded from file: /data/t-achetan_2/dumps/expC_dist_learner_for_adv_ex/rdm_concspheres_test/rdm_concspheres_k2n2_noninfdist_bs4096_inferred_debug/data/val/S2_dump/_translation.pkl\n",
      "08-05-2022 21:13:28 -- [I] root >> [RandomSphere]: data attribute (_anchor) loaded from file: /data/t-achetan_2/dumps/expC_dist_learner_for_adv_ex/rdm_concspheres_test/rdm_concspheres_k2n2_noninfdist_bs4096_inferred_debug/data/val/S2_dump/_anchor.pkl\n",
      "08-05-2022 21:13:28 -- [I] root >> [RandomSphere]: data attribute (points_k) loaded from file: /data/t-achetan_2/dumps/expC_dist_learner_for_adv_ex/rdm_concspheres_test/rdm_concspheres_k2n2_noninfdist_bs4096_inferred_debug/data/val/S2_dump/points_k.pkl\n",
      "08-05-2022 21:13:28 -- [I] root >> [RandomSphere]: data attribute (pre_images_k) loaded from file: /data/t-achetan_2/dumps/expC_dist_learner_for_adv_ex/rdm_concspheres_test/rdm_concspheres_k2n2_noninfdist_bs4096_inferred_debug/data/val/S2_dump/pre_images_k.pkl\n",
      "08-05-2022 21:13:28 -- [I] root >> [RandomSphere]: data attribute (points_n_trivial_) loaded from file: /data/t-achetan_2/dumps/expC_dist_learner_for_adv_ex/rdm_concspheres_test/rdm_concspheres_k2n2_noninfdist_bs4096_inferred_debug/data/val/S2_dump/points_n_trivial_.pkl\n",
      "08-05-2022 21:13:28 -- [I] root >> [RandomSphere]: data attribute (points_n_tr_) loaded from file: /data/t-achetan_2/dumps/expC_dist_learner_for_adv_ex/rdm_concspheres_test/rdm_concspheres_k2n2_noninfdist_bs4096_inferred_debug/data/val/S2_dump/points_n_tr_.pkl\n",
      "08-05-2022 21:13:28 -- [I] root >> [RandomSphere]: data attribute (points_n_rot_) loaded from file: /data/t-achetan_2/dumps/expC_dist_learner_for_adv_ex/rdm_concspheres_test/rdm_concspheres_k2n2_noninfdist_bs4096_inferred_debug/data/val/S2_dump/points_n_rot_.pkl\n",
      "08-05-2022 21:13:28 -- [I] root >> [RandomSphere]: data attribute (points_n) loaded from file: /data/t-achetan_2/dumps/expC_dist_learner_for_adv_ex/rdm_concspheres_test/rdm_concspheres_k2n2_noninfdist_bs4096_inferred_debug/data/val/S2_dump/points_n.pkl\n",
      "08-05-2022 21:13:28 -- [I] root >> [RandomSphere]: data attribute (actual_distances) loaded from file: /data/t-achetan_2/dumps/expC_dist_learner_for_adv_ex/rdm_concspheres_test/rdm_concspheres_k2n2_noninfdist_bs4096_inferred_debug/data/val/S2_dump/actual_distances.pkl\n",
      "08-05-2022 21:13:28 -- [I] root >> [RandomSphere]: data attribute (distances) loaded from file: /data/t-achetan_2/dumps/expC_dist_learner_for_adv_ex/rdm_concspheres_test/rdm_concspheres_k2n2_noninfdist_bs4096_inferred_debug/data/val/S2_dump/distances.pkl\n",
      "08-05-2022 21:13:28 -- [I] root >> [RandomSphere]: data attribute (fix_center) loaded from file: /data/t-achetan_2/dumps/expC_dist_learner_for_adv_ex/rdm_concspheres_test/rdm_concspheres_k2n2_noninfdist_bs4096_inferred_debug/data/val/S2_dump/fix_center.pkl\n",
      "08-05-2022 21:13:28 -- [I] root >> [RandomSphere]: data attribute (normed_points_n) loaded from file: /data/t-achetan_2/dumps/expC_dist_learner_for_adv_ex/rdm_concspheres_test/rdm_concspheres_k2n2_noninfdist_bs4096_inferred_debug/data/val/S2_dump/normed_points_n.pkl\n",
      "08-05-2022 21:13:28 -- [I] root >> [RandomSphere]: data attribute (normed_distances) loaded from file: /data/t-achetan_2/dumps/expC_dist_learner_for_adv_ex/rdm_concspheres_test/rdm_concspheres_k2n2_noninfdist_bs4096_inferred_debug/data/val/S2_dump/normed_distances.pkl\n",
      "08-05-2022 21:13:28 -- [I] root >> [RandomSphere]: data attribute (normed_actual_distances) loaded from file: /data/t-achetan_2/dumps/expC_dist_learner_for_adv_ex/rdm_concspheres_test/rdm_concspheres_k2n2_noninfdist_bs4096_inferred_debug/data/val/S2_dump/normed_actual_distances.pkl\n",
      "08-05-2022 21:13:28 -- [I] root >> [RandomSphere]: data attribute (x_ck) loaded from file: /data/t-achetan_2/dumps/expC_dist_learner_for_adv_ex/rdm_concspheres_test/rdm_concspheres_k2n2_noninfdist_bs4096_inferred_debug/data/val/S2_dump/x_ck.pkl\n",
      "08-05-2022 21:13:28 -- [I] root >> [RandomSphere]: data attribute (x_cn_trivial_) loaded from file: /data/t-achetan_2/dumps/expC_dist_learner_for_adv_ex/rdm_concspheres_test/rdm_concspheres_k2n2_noninfdist_bs4096_inferred_debug/data/val/S2_dump/x_cn_trivial_.pkl\n",
      "08-05-2022 21:13:28 -- [I] root >> [RandomSphere]: data attribute (x_cn_tr_) loaded from file: /data/t-achetan_2/dumps/expC_dist_learner_for_adv_ex/rdm_concspheres_test/rdm_concspheres_k2n2_noninfdist_bs4096_inferred_debug/data/val/S2_dump/x_cn_tr_.pkl\n",
      "08-05-2022 21:13:28 -- [I] root >> [RandomSphere]: data attribute (x_cn_rot_) loaded from file: /data/t-achetan_2/dumps/expC_dist_learner_for_adv_ex/rdm_concspheres_test/rdm_concspheres_k2n2_noninfdist_bs4096_inferred_debug/data/val/S2_dump/x_cn_rot_.pkl\n",
      "08-05-2022 21:13:28 -- [I] root >> [RandomSphere]: data attribute (x_cn) loaded from file: /data/t-achetan_2/dumps/expC_dist_learner_for_adv_ex/rdm_concspheres_test/rdm_concspheres_k2n2_noninfdist_bs4096_inferred_debug/data/val/S2_dump/x_cn.pkl\n",
      "08-05-2022 21:13:28 -- [I] root >> [RandomSphere]: data attribute (normed_x_cn) loaded from file: /data/t-achetan_2/dumps/expC_dist_learner_for_adv_ex/rdm_concspheres_test/rdm_concspheres_k2n2_noninfdist_bs4096_inferred_debug/data/val/S2_dump/normed_x_cn.pkl\n",
      "08-05-2022 21:13:28 -- [I] root >> [RandomSphere]: data attribute (pre_images_k) loaded from file: /data/t-achetan_2/dumps/expC_dist_learner_for_adv_ex/rdm_concspheres_test/rdm_concspheres_k2n2_noninfdist_bs4096_inferred_debug/data/val/S2_dump/pre_images_k.pkl\n"
     ]
    },
    {
     "name": "stderr",
     "output_type": "stream",
     "text": [
      "08-05-2022 21:13:28 -- [I] root >> [ConcentricSpheres]: data attribute (_x_ck) loaded from file: /data/t-achetan_2/dumps/expC_dist_learner_for_adv_ex/rdm_concspheres_test/rdm_concspheres_k2n2_noninfdist_bs4096_inferred_debug/data/test/_x_ck.pkl\n",
      "08-05-2022 21:13:28 -- [I] root >> [ConcentricSpheres]: data attribute (_x_cn) loaded from file: /data/t-achetan_2/dumps/expC_dist_learner_for_adv_ex/rdm_concspheres_test/rdm_concspheres_k2n2_noninfdist_bs4096_inferred_debug/data/test/_x_cn.pkl\n",
      "08-05-2022 21:13:28 -- [I] root >> [ConcentricSpheres]: data attribute (_rotation) loaded from file: /data/t-achetan_2/dumps/expC_dist_learner_for_adv_ex/rdm_concspheres_test/rdm_concspheres_k2n2_noninfdist_bs4096_inferred_debug/data/test/_rotation.pkl\n",
      "08-05-2022 21:13:28 -- [I] root >> [ConcentricSpheres]: data attribute (_translation) loaded from file: /data/t-achetan_2/dumps/expC_dist_learner_for_adv_ex/rdm_concspheres_test/rdm_concspheres_k2n2_noninfdist_bs4096_inferred_debug/data/test/_translation.pkl\n",
      "08-05-2022 21:13:28 -- [I] root >> [ConcentricSpheres]: data attribute (_anchor) loaded from file: /data/t-achetan_2/dumps/expC_dist_learner_for_adv_ex/rdm_concspheres_test/rdm_concspheres_k2n2_noninfdist_bs4096_inferred_debug/data/test/_anchor.pkl\n",
      "08-05-2022 21:13:28 -- [I] root >> [ConcentricSpheres]: data attribute (all_points) loaded from file: /data/t-achetan_2/dumps/expC_dist_learner_for_adv_ex/rdm_concspheres_test/rdm_concspheres_k2n2_noninfdist_bs4096_inferred_debug/data/test/all_points.pkl\n",
      "08-05-2022 21:13:28 -- [I] root >> [ConcentricSpheres]: data attribute (all_distances) loaded from file: /data/t-achetan_2/dumps/expC_dist_learner_for_adv_ex/rdm_concspheres_test/rdm_concspheres_k2n2_noninfdist_bs4096_inferred_debug/data/test/all_distances.pkl\n",
      "08-05-2022 21:13:28 -- [I] root >> [ConcentricSpheres]: data attribute (all_actual_distances) loaded from file: /data/t-achetan_2/dumps/expC_dist_learner_for_adv_ex/rdm_concspheres_test/rdm_concspheres_k2n2_noninfdist_bs4096_inferred_debug/data/test/all_actual_distances.pkl\n",
      "08-05-2022 21:13:28 -- [I] root >> [ConcentricSpheres]: data attribute (all_smooth_distances) loaded from file: /data/t-achetan_2/dumps/expC_dist_learner_for_adv_ex/rdm_concspheres_test/rdm_concspheres_k2n2_noninfdist_bs4096_inferred_debug/data/test/all_smooth_distances.pkl\n",
      "08-05-2022 21:13:28 -- [I] root >> [ConcentricSpheres]: data attribute (class_labels) loaded from file: /data/t-achetan_2/dumps/expC_dist_learner_for_adv_ex/rdm_concspheres_test/rdm_concspheres_k2n2_noninfdist_bs4096_inferred_debug/data/test/class_labels.pkl\n",
      "08-05-2022 21:13:28 -- [I] root >> [ConcentricSpheres]: data attribute (pre_class_labels) loaded from file: /data/t-achetan_2/dumps/expC_dist_learner_for_adv_ex/rdm_concspheres_test/rdm_concspheres_k2n2_noninfdist_bs4096_inferred_debug/data/test/pre_class_labels.pkl\n",
      "08-05-2022 21:13:28 -- [I] root >> [ConcentricSpheres]: data attribute (normed_all_points) loaded from file: /data/t-achetan_2/dumps/expC_dist_learner_for_adv_ex/rdm_concspheres_test/rdm_concspheres_k2n2_noninfdist_bs4096_inferred_debug/data/test/normed_all_points.pkl\n",
      "08-05-2022 21:13:28 -- [I] root >> [ConcentricSpheres]: data attribute (normed_all_distances) loaded from file: /data/t-achetan_2/dumps/expC_dist_learner_for_adv_ex/rdm_concspheres_test/rdm_concspheres_k2n2_noninfdist_bs4096_inferred_debug/data/test/normed_all_distances.pkl\n",
      "08-05-2022 21:13:28 -- [I] root >> [ConcentricSpheres]: data attribute (normed_all_actual_distances) loaded from file: /data/t-achetan_2/dumps/expC_dist_learner_for_adv_ex/rdm_concspheres_test/rdm_concspheres_k2n2_noninfdist_bs4096_inferred_debug/data/test/normed_all_actual_distances.pkl\n",
      "08-05-2022 21:13:28 -- [I] root >> [ConcentricSpheres]: data attribute (normed_all_smooth_distances) loaded from file: /data/t-achetan_2/dumps/expC_dist_learner_for_adv_ex/rdm_concspheres_test/rdm_concspheres_k2n2_noninfdist_bs4096_inferred_debug/data/test/normed_all_smooth_distances.pkl\n",
      "08-05-2022 21:13:28 -- [I] root >> [ConcentricSpheres]: data attribute (fix_center) loaded from file: /data/t-achetan_2/dumps/expC_dist_learner_for_adv_ex/rdm_concspheres_test/rdm_concspheres_k2n2_noninfdist_bs4096_inferred_debug/data/test/fix_center.pkl\n",
      "08-05-2022 21:13:28 -- [I] root >> [RandomSphere]: data attribute (_rotation) loaded from file: /data/t-achetan_2/dumps/expC_dist_learner_for_adv_ex/rdm_concspheres_test/rdm_concspheres_k2n2_noninfdist_bs4096_inferred_debug/data/test/S1_dump/_rotation.pkl\n",
      "08-05-2022 21:13:28 -- [I] root >> [RandomSphere]: data attribute (_translation) loaded from file: /data/t-achetan_2/dumps/expC_dist_learner_for_adv_ex/rdm_concspheres_test/rdm_concspheres_k2n2_noninfdist_bs4096_inferred_debug/data/test/S1_dump/_translation.pkl\n",
      "08-05-2022 21:13:28 -- [I] root >> [RandomSphere]: data attribute (_anchor) loaded from file: /data/t-achetan_2/dumps/expC_dist_learner_for_adv_ex/rdm_concspheres_test/rdm_concspheres_k2n2_noninfdist_bs4096_inferred_debug/data/test/S1_dump/_anchor.pkl\n",
      "08-05-2022 21:13:28 -- [I] root >> [RandomSphere]: data attribute (points_k) loaded from file: /data/t-achetan_2/dumps/expC_dist_learner_for_adv_ex/rdm_concspheres_test/rdm_concspheres_k2n2_noninfdist_bs4096_inferred_debug/data/test/S1_dump/points_k.pkl\n",
      "08-05-2022 21:13:28 -- [I] root >> [RandomSphere]: data attribute (pre_images_k) loaded from file: /data/t-achetan_2/dumps/expC_dist_learner_for_adv_ex/rdm_concspheres_test/rdm_concspheres_k2n2_noninfdist_bs4096_inferred_debug/data/test/S1_dump/pre_images_k.pkl\n",
      "08-05-2022 21:13:28 -- [I] root >> [RandomSphere]: data attribute (points_n_trivial_) loaded from file: /data/t-achetan_2/dumps/expC_dist_learner_for_adv_ex/rdm_concspheres_test/rdm_concspheres_k2n2_noninfdist_bs4096_inferred_debug/data/test/S1_dump/points_n_trivial_.pkl\n",
      "08-05-2022 21:13:28 -- [I] root >> [RandomSphere]: data attribute (points_n_tr_) loaded from file: /data/t-achetan_2/dumps/expC_dist_learner_for_adv_ex/rdm_concspheres_test/rdm_concspheres_k2n2_noninfdist_bs4096_inferred_debug/data/test/S1_dump/points_n_tr_.pkl\n",
      "08-05-2022 21:13:28 -- [I] root >> [RandomSphere]: data attribute (points_n_rot_) loaded from file: /data/t-achetan_2/dumps/expC_dist_learner_for_adv_ex/rdm_concspheres_test/rdm_concspheres_k2n2_noninfdist_bs4096_inferred_debug/data/test/S1_dump/points_n_rot_.pkl\n",
      "08-05-2022 21:13:28 -- [I] root >> [RandomSphere]: data attribute (points_n) loaded from file: /data/t-achetan_2/dumps/expC_dist_learner_for_adv_ex/rdm_concspheres_test/rdm_concspheres_k2n2_noninfdist_bs4096_inferred_debug/data/test/S1_dump/points_n.pkl\n",
      "08-05-2022 21:13:28 -- [I] root >> [RandomSphere]: data attribute (actual_distances) loaded from file: /data/t-achetan_2/dumps/expC_dist_learner_for_adv_ex/rdm_concspheres_test/rdm_concspheres_k2n2_noninfdist_bs4096_inferred_debug/data/test/S1_dump/actual_distances.pkl\n",
      "08-05-2022 21:13:29 -- [I] root >> [RandomSphere]: data attribute (distances) loaded from file: /data/t-achetan_2/dumps/expC_dist_learner_for_adv_ex/rdm_concspheres_test/rdm_concspheres_k2n2_noninfdist_bs4096_inferred_debug/data/test/S1_dump/distances.pkl\n",
      "08-05-2022 21:13:29 -- [I] root >> [RandomSphere]: data attribute (fix_center) loaded from file: /data/t-achetan_2/dumps/expC_dist_learner_for_adv_ex/rdm_concspheres_test/rdm_concspheres_k2n2_noninfdist_bs4096_inferred_debug/data/test/S1_dump/fix_center.pkl\n",
      "08-05-2022 21:13:29 -- [I] root >> [RandomSphere]: data attribute (normed_points_n) loaded from file: /data/t-achetan_2/dumps/expC_dist_learner_for_adv_ex/rdm_concspheres_test/rdm_concspheres_k2n2_noninfdist_bs4096_inferred_debug/data/test/S1_dump/normed_points_n.pkl\n",
      "08-05-2022 21:13:29 -- [I] root >> [RandomSphere]: data attribute (normed_distances) loaded from file: /data/t-achetan_2/dumps/expC_dist_learner_for_adv_ex/rdm_concspheres_test/rdm_concspheres_k2n2_noninfdist_bs4096_inferred_debug/data/test/S1_dump/normed_distances.pkl\n",
      "08-05-2022 21:13:29 -- [I] root >> [RandomSphere]: data attribute (normed_actual_distances) loaded from file: /data/t-achetan_2/dumps/expC_dist_learner_for_adv_ex/rdm_concspheres_test/rdm_concspheres_k2n2_noninfdist_bs4096_inferred_debug/data/test/S1_dump/normed_actual_distances.pkl\n",
      "08-05-2022 21:13:29 -- [I] root >> [RandomSphere]: data attribute (x_ck) loaded from file: /data/t-achetan_2/dumps/expC_dist_learner_for_adv_ex/rdm_concspheres_test/rdm_concspheres_k2n2_noninfdist_bs4096_inferred_debug/data/test/S1_dump/x_ck.pkl\n"
     ]
    },
    {
     "name": "stderr",
     "output_type": "stream",
     "text": [
      "08-05-2022 21:13:29 -- [I] root >> [RandomSphere]: data attribute (x_cn_trivial_) loaded from file: /data/t-achetan_2/dumps/expC_dist_learner_for_adv_ex/rdm_concspheres_test/rdm_concspheres_k2n2_noninfdist_bs4096_inferred_debug/data/test/S1_dump/x_cn_trivial_.pkl\n",
      "08-05-2022 21:13:29 -- [I] root >> [RandomSphere]: data attribute (x_cn_tr_) loaded from file: /data/t-achetan_2/dumps/expC_dist_learner_for_adv_ex/rdm_concspheres_test/rdm_concspheres_k2n2_noninfdist_bs4096_inferred_debug/data/test/S1_dump/x_cn_tr_.pkl\n",
      "08-05-2022 21:13:29 -- [I] root >> [RandomSphere]: data attribute (x_cn_rot_) loaded from file: /data/t-achetan_2/dumps/expC_dist_learner_for_adv_ex/rdm_concspheres_test/rdm_concspheres_k2n2_noninfdist_bs4096_inferred_debug/data/test/S1_dump/x_cn_rot_.pkl\n",
      "08-05-2022 21:13:29 -- [I] root >> [RandomSphere]: data attribute (x_cn) loaded from file: /data/t-achetan_2/dumps/expC_dist_learner_for_adv_ex/rdm_concspheres_test/rdm_concspheres_k2n2_noninfdist_bs4096_inferred_debug/data/test/S1_dump/x_cn.pkl\n",
      "08-05-2022 21:13:29 -- [I] root >> [RandomSphere]: data attribute (normed_x_cn) loaded from file: /data/t-achetan_2/dumps/expC_dist_learner_for_adv_ex/rdm_concspheres_test/rdm_concspheres_k2n2_noninfdist_bs4096_inferred_debug/data/test/S1_dump/normed_x_cn.pkl\n",
      "08-05-2022 21:13:29 -- [I] root >> [RandomSphere]: data attribute (pre_images_k) loaded from file: /data/t-achetan_2/dumps/expC_dist_learner_for_adv_ex/rdm_concspheres_test/rdm_concspheres_k2n2_noninfdist_bs4096_inferred_debug/data/test/S1_dump/pre_images_k.pkl\n",
      "08-05-2022 21:13:29 -- [I] root >> [RandomSphere]: data attribute (_rotation) loaded from file: /data/t-achetan_2/dumps/expC_dist_learner_for_adv_ex/rdm_concspheres_test/rdm_concspheres_k2n2_noninfdist_bs4096_inferred_debug/data/test/S2_dump/_rotation.pkl\n",
      "08-05-2022 21:13:29 -- [I] root >> [RandomSphere]: data attribute (_translation) loaded from file: /data/t-achetan_2/dumps/expC_dist_learner_for_adv_ex/rdm_concspheres_test/rdm_concspheres_k2n2_noninfdist_bs4096_inferred_debug/data/test/S2_dump/_translation.pkl\n",
      "08-05-2022 21:13:29 -- [I] root >> [RandomSphere]: data attribute (_anchor) loaded from file: /data/t-achetan_2/dumps/expC_dist_learner_for_adv_ex/rdm_concspheres_test/rdm_concspheres_k2n2_noninfdist_bs4096_inferred_debug/data/test/S2_dump/_anchor.pkl\n",
      "08-05-2022 21:13:29 -- [I] root >> [RandomSphere]: data attribute (points_k) loaded from file: /data/t-achetan_2/dumps/expC_dist_learner_for_adv_ex/rdm_concspheres_test/rdm_concspheres_k2n2_noninfdist_bs4096_inferred_debug/data/test/S2_dump/points_k.pkl\n",
      "08-05-2022 21:13:29 -- [I] root >> [RandomSphere]: data attribute (pre_images_k) loaded from file: /data/t-achetan_2/dumps/expC_dist_learner_for_adv_ex/rdm_concspheres_test/rdm_concspheres_k2n2_noninfdist_bs4096_inferred_debug/data/test/S2_dump/pre_images_k.pkl\n",
      "08-05-2022 21:13:29 -- [I] root >> [RandomSphere]: data attribute (points_n_trivial_) loaded from file: /data/t-achetan_2/dumps/expC_dist_learner_for_adv_ex/rdm_concspheres_test/rdm_concspheres_k2n2_noninfdist_bs4096_inferred_debug/data/test/S2_dump/points_n_trivial_.pkl\n",
      "08-05-2022 21:13:29 -- [I] root >> [RandomSphere]: data attribute (points_n_tr_) loaded from file: /data/t-achetan_2/dumps/expC_dist_learner_for_adv_ex/rdm_concspheres_test/rdm_concspheres_k2n2_noninfdist_bs4096_inferred_debug/data/test/S2_dump/points_n_tr_.pkl\n",
      "08-05-2022 21:13:29 -- [I] root >> [RandomSphere]: data attribute (points_n_rot_) loaded from file: /data/t-achetan_2/dumps/expC_dist_learner_for_adv_ex/rdm_concspheres_test/rdm_concspheres_k2n2_noninfdist_bs4096_inferred_debug/data/test/S2_dump/points_n_rot_.pkl\n",
      "08-05-2022 21:13:29 -- [I] root >> [RandomSphere]: data attribute (points_n) loaded from file: /data/t-achetan_2/dumps/expC_dist_learner_for_adv_ex/rdm_concspheres_test/rdm_concspheres_k2n2_noninfdist_bs4096_inferred_debug/data/test/S2_dump/points_n.pkl\n",
      "08-05-2022 21:13:29 -- [I] root >> [RandomSphere]: data attribute (actual_distances) loaded from file: /data/t-achetan_2/dumps/expC_dist_learner_for_adv_ex/rdm_concspheres_test/rdm_concspheres_k2n2_noninfdist_bs4096_inferred_debug/data/test/S2_dump/actual_distances.pkl\n",
      "08-05-2022 21:13:29 -- [I] root >> [RandomSphere]: data attribute (distances) loaded from file: /data/t-achetan_2/dumps/expC_dist_learner_for_adv_ex/rdm_concspheres_test/rdm_concspheres_k2n2_noninfdist_bs4096_inferred_debug/data/test/S2_dump/distances.pkl\n",
      "08-05-2022 21:13:29 -- [I] root >> [RandomSphere]: data attribute (fix_center) loaded from file: /data/t-achetan_2/dumps/expC_dist_learner_for_adv_ex/rdm_concspheres_test/rdm_concspheres_k2n2_noninfdist_bs4096_inferred_debug/data/test/S2_dump/fix_center.pkl\n",
      "08-05-2022 21:13:29 -- [I] root >> [RandomSphere]: data attribute (normed_points_n) loaded from file: /data/t-achetan_2/dumps/expC_dist_learner_for_adv_ex/rdm_concspheres_test/rdm_concspheres_k2n2_noninfdist_bs4096_inferred_debug/data/test/S2_dump/normed_points_n.pkl\n",
      "08-05-2022 21:13:29 -- [I] root >> [RandomSphere]: data attribute (normed_distances) loaded from file: /data/t-achetan_2/dumps/expC_dist_learner_for_adv_ex/rdm_concspheres_test/rdm_concspheres_k2n2_noninfdist_bs4096_inferred_debug/data/test/S2_dump/normed_distances.pkl\n",
      "08-05-2022 21:13:29 -- [I] root >> [RandomSphere]: data attribute (normed_actual_distances) loaded from file: /data/t-achetan_2/dumps/expC_dist_learner_for_adv_ex/rdm_concspheres_test/rdm_concspheres_k2n2_noninfdist_bs4096_inferred_debug/data/test/S2_dump/normed_actual_distances.pkl\n",
      "08-05-2022 21:13:29 -- [I] root >> [RandomSphere]: data attribute (x_ck) loaded from file: /data/t-achetan_2/dumps/expC_dist_learner_for_adv_ex/rdm_concspheres_test/rdm_concspheres_k2n2_noninfdist_bs4096_inferred_debug/data/test/S2_dump/x_ck.pkl\n",
      "08-05-2022 21:13:29 -- [I] root >> [RandomSphere]: data attribute (x_cn_trivial_) loaded from file: /data/t-achetan_2/dumps/expC_dist_learner_for_adv_ex/rdm_concspheres_test/rdm_concspheres_k2n2_noninfdist_bs4096_inferred_debug/data/test/S2_dump/x_cn_trivial_.pkl\n",
      "08-05-2022 21:13:29 -- [I] root >> [RandomSphere]: data attribute (x_cn_tr_) loaded from file: /data/t-achetan_2/dumps/expC_dist_learner_for_adv_ex/rdm_concspheres_test/rdm_concspheres_k2n2_noninfdist_bs4096_inferred_debug/data/test/S2_dump/x_cn_tr_.pkl\n",
      "08-05-2022 21:13:29 -- [I] root >> [RandomSphere]: data attribute (x_cn_rot_) loaded from file: /data/t-achetan_2/dumps/expC_dist_learner_for_adv_ex/rdm_concspheres_test/rdm_concspheres_k2n2_noninfdist_bs4096_inferred_debug/data/test/S2_dump/x_cn_rot_.pkl\n",
      "08-05-2022 21:13:29 -- [I] root >> [RandomSphere]: data attribute (x_cn) loaded from file: /data/t-achetan_2/dumps/expC_dist_learner_for_adv_ex/rdm_concspheres_test/rdm_concspheres_k2n2_noninfdist_bs4096_inferred_debug/data/test/S2_dump/x_cn.pkl\n",
      "08-05-2022 21:13:29 -- [I] root >> [RandomSphere]: data attribute (normed_x_cn) loaded from file: /data/t-achetan_2/dumps/expC_dist_learner_for_adv_ex/rdm_concspheres_test/rdm_concspheres_k2n2_noninfdist_bs4096_inferred_debug/data/test/S2_dump/normed_x_cn.pkl\n",
      "08-05-2022 21:13:29 -- [I] root >> [RandomSphere]: data attribute (pre_images_k) loaded from file: /data/t-achetan_2/dumps/expC_dist_learner_for_adv_ex/rdm_concspheres_test/rdm_concspheres_k2n2_noninfdist_bs4096_inferred_debug/data/test/S2_dump/pre_images_k.pkl\n"
     ]
    }
   ],
   "source": [
    "dir_name = \"/data/t-achetan_2/dumps/expC_dist_learner_for_adv_ex/rdm_concspheres_test/rdm_concspheres_k2n2_noninfdist_bs4096_inferred_debug/data/\"\n",
    "train_set, val_set, test_set = ConcentricSpheres.load_splits(dir_name)\n",
    "\n"
   ]
  },
  {
   "cell_type": "code",
   "execution_count": 4,
   "metadata": {},
   "outputs": [
    {
     "data": {
      "text/plain": [
       "(5000, 2, 2)"
      ]
     },
     "execution_count": 4,
     "metadata": {},
     "output_type": "execute_result"
    }
   ],
   "source": [
    "train_set.all_tang_and_norms.shape"
   ]
  },
  {
   "cell_type": "code",
   "execution_count": 10,
   "metadata": {},
   "outputs": [
    {
     "data": {
      "text/plain": [
       "<matplotlib.collections.PathCollection at 0x7fab99e4d950>"
      ]
     },
     "execution_count": 10,
     "metadata": {},
     "output_type": "execute_result"
    },
    {
     "data": {
      "image/png": "[encoded data removed]",
      "text/plain": [
       "<Figure size 432x432 with 1 Axes>"
      ]
     },
     "metadata": {
      "needs_background": "light"
     },
     "output_type": "display_data"
    }
   ],
   "source": [
    "plt.figure(figsize=(6, 6))\n",
    "\n",
    "onmfld_idx = -200\n",
    "plt.scatter(train_set.on_mfld_pts_k_[:, 0], train_set.on_mfld_pts_k_[:, 1], s=0.01)\n",
    "plt.scatter(train_set.on_mfld_pts_k_[:, 0][onmfld_idx], train_set.on_mfld_pts_k_[:, 1][onmfld_idx], s=100)\n",
    "# plt.arrow(train_set.on_mfld_pts_k_[:, 0][onmfld_idx], train_set.on_mfld_pts_k_[:, 1][onmfld_idx], train_set.all_tang_and_norms[onmfld_idx][0][0], train_set.all_tang_and_norms[onmfld_idx][0][1])\n",
    "# plt.arrow(train_set.on_mfld_pts_k_[:, 0][onmfld_idx], train_set.on_mfld_pts_k_[:, 1][onmfld_idx], train_set.all_tang_and_norms[onmfld_idx][1][0], train_set.all_tang_and_norms[onmfld_idx][1][1])\n",
    "# plt.scatter(train_set.new_poca_dset[idx][0], train_set.new_poca_dset[idx][1])\n",
    "plt.arrow(train_set.on_mfld_pts_k_[:, 0][onmfld_idx], train_set.on_mfld_pts_k_[:, 1][onmfld_idx], train_set.on_mfld_pb[onmfld_idx][1][0], train_set.on_mfld_pb[onmfld_idx][1][1], linewidth=5)\n",
    "plt.arrow(train_set.on_mfld_pts_k_[:, 0][onmfld_idx], train_set.on_mfld_pts_k_[:, 1][onmfld_idx], train_set.off_mfld_pb[onmfld_idx][1][0], train_set.off_mfld_pb[onmfld_idx][1][1], linewidth=5)\n",
    "\n",
    "plt.scatter(train_set.all_points_trivial_[:, 0][onmfld_idx], train_set.all_points_trivial_[:, 1][onmfld_idx])\n",
    "plt.scatter(train_set.off_mfld_pts_for_chunk[onmfld_idx][:, 0], train_set.off_mfld_pts_for_chunk[onmfld_idx][:, 1])"
   ]
  },
  {
   "cell_type": "code",
   "execution_count": 8,
   "metadata": {},
   "outputs": [
    {
     "data": {
      "text/plain": [
       "torch.Size([5000, 7, 2])"
      ]
     },
     "execution_count": 8,
     "metadata": {},
     "output_type": "execute_result"
    }
   ],
   "source": [
    "train_set.off_mfld_pts_for_chunk.shape"
   ]
  },
  {
   "cell_type": "code",
   "execution_count": 1,
   "metadata": {},
   "outputs": [
    {
     "ename": "NameError",
     "evalue": "name 'plt' is not defined",
     "output_type": "error",
     "traceback": [
      "\u001b[0;31m---------------------------------------------------------------------------\u001b[0m",
      "\u001b[0;31mNameError\u001b[0m                                 Traceback (most recent call last)",
      "\u001b[0;32m<ipython-input-1-3b5a423b4dfc>\u001b[0m in \u001b[0;36m<module>\u001b[0;34m\u001b[0m\n\u001b[0;32m----> 1\u001b[0;31m \u001b[0mplt\u001b[0m\u001b[0;34m.\u001b[0m\u001b[0mscatter\u001b[0m\u001b[0;34m(\u001b[0m\u001b[0mtrain_set\u001b[0m\u001b[0;34m.\u001b[0m\u001b[0mnormed_all_points\u001b[0m\u001b[0;34m[\u001b[0m\u001b[0;34m:\u001b[0m\u001b[0;34m,\u001b[0m \u001b[0;36m0\u001b[0m\u001b[0;34m]\u001b[0m\u001b[0;34m,\u001b[0m \u001b[0mtrain_set\u001b[0m\u001b[0;34m.\u001b[0m\u001b[0mnormed_all_points\u001b[0m\u001b[0;34m[\u001b[0m\u001b[0;34m:\u001b[0m\u001b[0;34m,\u001b[0m \u001b[0;36m1\u001b[0m\u001b[0;34m]\u001b[0m\u001b[0;34m,\u001b[0m \u001b[0ms\u001b[0m\u001b[0;34m=\u001b[0m\u001b[0;36m0.01\u001b[0m\u001b[0;34m)\u001b[0m\u001b[0;34m\u001b[0m\u001b[0;34m\u001b[0m\u001b[0m\n\u001b[0m",
      "\u001b[0;31mNameError\u001b[0m: name 'plt' is not defined"
     ]
    }
   ],
   "source": [
    "plt.scatter(train_set.normed_all_points[:, 0], train_set.normed_all_points[:, 1], s=0.01)\n"
   ]
  },
  {
   "cell_type": "code",
   "execution_count": 7,
   "metadata": {},
   "outputs": [
    {
     "data": {
      "text/plain": [
       "<matplotlib.collections.PathCollection at 0x7fab9b99e690>"
      ]
     },
     "execution_count": 7,
     "metadata": {},
     "output_type": "execute_result"
    },
    {
     "data": {
      "image/png": "[encoded data removed]",
      "text/plain": [
       "<Figure size 432x288 with 1 Axes>"
      ]
     },
     "metadata": {
      "needs_background": "light"
     },
     "output_type": "display_data"
    }
   ],
   "source": [
    "plt.scatter(train_set.all_points_trivial_[:, 0][train_set.class_labels == 2], train_set.all_points_trivial_[:, 1][train_set.class_labels == 2], s=0.01)\n",
    "plt.scatter(train_set.on_mfld_pts_k_[train_set.poca_idx, 0], train_set.on_mfld_pts_k_[train_set.poca_idx, 1], s=0.01)\n"
   ]
  },
  {
   "cell_type": "code",
   "execution_count": 6,
   "metadata": {},
   "outputs": [
    {
     "data": {
      "text/plain": [
       "array([0, 2, 2, ..., 4, 0, 1])"
      ]
     },
     "execution_count": 6,
     "metadata": {},
     "output_type": "execute_result"
    }
   ],
   "source": [
    "train_set.poca_idx_counts"
   ]
  },
  {
   "cell_type": "code",
   "execution_count": 18,
   "metadata": {},
   "outputs": [
    {
     "data": {
      "text/plain": [
       "torch.Size([20000, 2])"
      ]
     },
     "execution_count": 18,
     "metadata": {},
     "output_type": "execute_result"
    }
   ],
   "source": [
    "train_set.all_points.shape"
   ]
  },
  {
   "cell_type": "code",
   "execution_count": 5,
   "metadata": {},
   "outputs": [
    {
     "data": {
      "text/plain": [
       "torch.Size([5000, 5000, 7, 2])"
      ]
     },
     "execution_count": 5,
     "metadata": {},
     "output_type": "execute_result"
    }
   ],
   "source": [
    "train_set.off_mfld_pts_for_chunk.shape"
   ]
  },
  {
   "cell_type": "code",
   "execution_count": 5,
   "metadata": {},
   "outputs": [
    {
     "data": {
      "text/plain": [
       "torch.Size([5000, 7, 2])"
      ]
     },
     "execution_count": 5,
     "metadata": {},
     "output_type": "execute_result"
    }
   ],
   "source": [
    "train_set.off_mfld_pts_for_chunk[:, 0].shape"
   ]
  },
  {
   "cell_type": "code",
   "execution_count": 12,
   "metadata": {},
   "outputs": [
    {
     "data": {
      "text/plain": [
       "torch.Size([5000, 7, 2])"
      ]
     },
     "execution_count": 12,
     "metadata": {},
     "output_type": "execute_result"
    }
   ],
   "source": [
    "train_set.on_mfld_pb.shape"
   ]
  },
  {
   "cell_type": "code",
   "execution_count": 18,
   "metadata": {},
   "outputs": [
    {
     "data": {
      "text/plain": [
       "array([[[1.71683938, 0.06261796],\n",
       "        [1.7470388 , 0.06150358],\n",
       "        [1.68384956, 0.0638353 ],\n",
       "        [1.66862334, 0.06439715],\n",
       "        [1.62422274, 0.06603555],\n",
       "        [1.57480822, 0.06785897],\n",
       "        [1.72582868, 0.06228625]]])"
      ]
     },
     "execution_count": 18,
     "metadata": {},
     "output_type": "execute_result"
    }
   ],
   "source": [
    "train_set.on_mfld_pts_k_[:1] + train_set.off_mfld_pb[:1].numpy()"
   ]
  },
  {
   "cell_type": "code",
   "execution_count": 19,
   "metadata": {},
   "outputs": [
    {
     "data": {
      "text/plain": [
       "array([[[ 5.05993629e-02, -1.86713907e-03],\n",
       "        [ 8.07987868e-02, -2.98151129e-03],\n",
       "        [ 1.76095499e-02, -6.49800251e-04],\n",
       "        [ 2.38332331e-03, -8.79456936e-05],\n",
       "        [-4.20172697e-02,  1.55045600e-03],\n",
       "        [-9.14317974e-02,  3.37387412e-03],\n",
       "        [ 5.95886650e-02, -2.19884833e-03]]])"
      ]
     },
     "execution_count": 19,
     "metadata": {},
     "output_type": "execute_result"
    }
   ],
   "source": [
    "train_set.off_mfld_pb[:1].numpy()"
   ]
  },
  {
   "cell_type": "code",
   "execution_count": 20,
   "metadata": {},
   "outputs": [
    {
     "data": {
      "text/plain": [
       "array([[1.66624001, 0.0644851 ]])"
      ]
     },
     "execution_count": 20,
     "metadata": {},
     "output_type": "execute_result"
    }
   ],
   "source": [
    "train_set.on_mfld_pts_k_[:1]"
   ]
  },
  {
   "cell_type": "code",
   "execution_count": 7,
   "metadata": {},
   "outputs": [
    {
     "data": {
      "text/plain": [
       "array([[1., 1., 1., ..., 1., 1., 1.],\n",
       "       [1., 1., 1., ..., 1., 1., 1.],\n",
       "       [1., 1., 1., ..., 1., 1., 1.],\n",
       "       ...,\n",
       "       [2., 2., 2., ..., 2., 2., 2.],\n",
       "       [2., 2., 2., ..., 2., 2., 2.],\n",
       "       [2., 2., 2., ..., 2., 2., 2.]])"
      ]
     },
     "execution_count": 7,
     "metadata": {},
     "output_type": "execute_result"
    }
   ],
   "source": [
    "a = np.zeros((2, 500))\n",
    "a[0, :] = 1\n",
    "a[1, :] = 2\n",
    "b = np.zeros((2, 7, 500))\n",
    "(np.expand_dims(a, 1) + b).reshape(-1, 500)"
   ]
  },
  {
   "cell_type": "code",
   "execution_count": 26,
   "metadata": {},
   "outputs": [
    {
     "data": {
      "text/plain": [
       "array([[[-0.58155689,  0.07109426],\n",
       "        [-0.55140557,  0.0686762 ],\n",
       "        [-0.61453667,  0.07258354],\n",
       "        ...,\n",
       "        [-0.67417293,  0.07452784],\n",
       "        [-0.72362425,  0.07535415],\n",
       "        [-0.57256796,  0.07075253]],\n",
       "\n",
       "       [[ 0.44433024,  1.24901148],\n",
       "        [ 0.43235911,  1.31888059],\n",
       "        [ 0.45160289,  1.21083028],\n",
       "        ...,\n",
       "        [ 0.4183873 ,  1.38904757],\n",
       "        [ 0.44465313,  1.24640954],\n",
       "        [ 0.4388355 ,  1.28155884]],\n",
       "\n",
       "       [[ 0.32582563, -1.27350549],\n",
       "        [ 0.34365983, -1.20511526],\n",
       "        [ 0.3216463 , -1.28653259],\n",
       "        ...,\n",
       "        [ 0.32458454, -1.27245372],\n",
       "        [ 0.35722993, -1.15548204],\n",
       "        [ 0.31183927, -1.32655276]],\n",
       "\n",
       "       ...,\n",
       "\n",
       "       [[-0.5439389 , -0.0168103 ],\n",
       "        [-0.6311866 , -0.02054023],\n",
       "        [-0.54738371, -0.01736266],\n",
       "        ...,\n",
       "        [-0.6826027 , -0.02339838],\n",
       "        [-0.60621412, -0.02074295],\n",
       "        [-0.68382392, -0.02374516]],\n",
       "\n",
       "       [[ 1.83799819, -0.39204391],\n",
       "        [ 1.97434672, -0.43989321],\n",
       "        [ 1.82121307, -0.38514946],\n",
       "        ...,\n",
       "        [ 1.9237399 , -0.42275985],\n",
       "        [ 1.95431295, -0.43410782],\n",
       "        [ 1.98286193, -0.44336972]],\n",
       "\n",
       "       [[ 2.00402634, -0.02461144],\n",
       "        [ 1.89443888, -0.0204307 ],\n",
       "        [ 1.91012891, -0.02119016],\n",
       "        ...,\n",
       "        [ 2.028806  , -0.02599474],\n",
       "        [ 1.91205841, -0.02128221],\n",
       "        [ 2.06567484, -0.02776367]]])"
      ]
     },
     "execution_count": 26,
     "metadata": {},
     "output_type": "execute_result"
    }
   ],
   "source": [
    "(np.expand_dims(train_set.on_mfld_pts_k_[5000:], 1) + (np.expand_dims(train_set.on_mfld_pb_sizes / np.linalg.norm(train_set.on_mfld_pb, axis=-1), axis=-1) * train_set.on_mfld_pb.numpy())) + train_set.off_mfld_pb.numpy()\n",
    "\n",
    "\n"
   ]
  },
  {
   "cell_type": "code",
   "execution_count": 18,
   "metadata": {},
   "outputs": [
    {
     "data": {
      "text/plain": [
       "torch.Size([5000, 7, 2])"
      ]
     },
     "execution_count": 18,
     "metadata": {},
     "output_type": "execute_result"
    }
   ],
   "source": [
    "train_set.on_mfld_pb.shape"
   ]
  },
  {
   "cell_type": "code",
   "execution_count": null,
   "metadata": {},
   "outputs": [],
   "source": []
  }
 ],
 "metadata": {
  "kernelspec": {
   "display_name": "Python 3",
   "language": "python",
   "name": "python3"
  },
  "language_info": {
   "codemirror_mode": {
    "name": "ipython",
    "version": 3
   },
   "file_extension": ".py",
   "mimetype": "text/x-python",
   "name": "python",
   "nbconvert_exporter": "python",
   "pygments_lexer": "ipython3",
   "version": "3.7.6"
  }
 },
 "nbformat": 4,
 "nbformat_minor": 4
}
