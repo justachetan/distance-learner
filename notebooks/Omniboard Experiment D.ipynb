{
 "cells": [
  {
   "cell_type": "code",
   "execution_count": 67,
   "metadata": {},
   "outputs": [],
   "source": [
    "import os\n",
    "import re\n",
    "import sys\n",
    "import json\n",
    "import copy\n",
    "\n",
    "import numpy as np\n",
    "import pandas as pd\n",
    "import matplotlib.pyplot as plt\n",
    "import matplotlib.image as mpimg\n",
    "import torch\n",
    "\n",
    "import seaborn as sns\n",
    "\n",
    "import IPython.display\n",
    "\n",
    "import ipywidgets as widgets"
   ]
  },
  {
   "cell_type": "markdown",
   "metadata": {},
   "source": [
    "# Contents <a name=\"contents\"></a>\n",
    "\n",
    "- [General Analysis](#general)\n",
    "- [Comparison across different number of off-manifold points](#cmpr_num_off_mfld_k2n500)"
   ]
  },
  {
   "cell_type": "markdown",
   "metadata": {},
   "source": [
    "## General Analysis <a name=\"general\"></a> [\\[top\\]](#contents)"
   ]
  },
  {
   "cell_type": "code",
   "execution_count": 2,
   "metadata": {},
   "outputs": [],
   "source": [
    "def disp_query_plot(query, response_df, style):\n",
    "    if query[\"task\"] == \"clf\":\n",
    "        if style == \"sct_plot\":\n",
    "            fig = plt.figure()\n",
    "            plt.title(\"sct plot not available for stdclf\")\n",
    "            plt.show()\n",
    "            \n",
    "        elif style == \"adv_pct_cm\" or style == \"pct_cm\":\n",
    "            f, axarr = plt.subplots(1, 2)\n",
    "            f.set_size_inches(10, 4)\n",
    "            img = pd.read_csv(response_df.pct_cm.tolist()[0], index_col=0)\n",
    "            sns.heatmap(img, ax=axarr[0], annot=True)\n",
    "            axarr[0].set_title(\"normal pct cm\")\n",
    "            img = pd.read_csv(response_df.adv_pct_cm.tolist()[0], index_col=0)\n",
    "            sns.heatmap(img, ax=axarr[1], annot=True)\n",
    "            axarr[1].set_title(\"adv pct cm\")\n",
    "            f.set_tight_layout(True)\n",
    "            plt.show()\n",
    "\n",
    "    elif query[\"task\"] == \"dist\":\n",
    "        clf_query = copy.deepcopy(query)\n",
    "        clf_query.pop(\"thresh\")\n",
    "        clf_query[\"task\"] = \"clf\"\n",
    "        clf_response_df = master_df[(master_df[list(clf_query.keys())] == pd.Series(clf_query)).all(1)]\n",
    "        \n",
    "        inf_query = copy.deepcopy(query)\n",
    "        inf_query[\"thresh\"] = np.inf\n",
    "        inf_response_df = master_df[(master_df[list(inf_query.keys())] == pd.Series(inf_query)).all(1)]\n",
    "        \n",
    "        if style == \"adv_pct_cm\":\n",
    "            fig = plt.figure(constrained_layout=True)\n",
    "            fig.set_size_inches(16, 4)\n",
    "            ax_dict = fig.subplot_mosaic(\n",
    "                [\n",
    "                    [\"dist_inf_adv_pct_cm\", \"dist_adv_pct_cm\", \"clf_adv_pct_cm\"],\n",
    "                ]\n",
    "            )\n",
    "            \n",
    "            dist_adv_pct_cm_inf = pd.read_csv(inf_response_df.adv_pct_cm.tolist()[0], index_col=0)\n",
    "            sns.heatmap(dist_adv_pct_cm_inf, ax=ax_dict[\"dist_inf_adv_pct_cm\"], annot=True)\n",
    "            ax_dict[\"dist_inf_adv_pct_cm\"].set_title(\"distlearn: adv pct cm (th=inf)\")\n",
    "            \n",
    "            dist_adv_pct_cm = pd.read_csv(response_df.adv_pct_cm.tolist()[0], index_col=0)\n",
    "            sns.heatmap(dist_adv_pct_cm, ax=ax_dict[\"dist_adv_pct_cm\"], annot=True)\n",
    "            ax_dict[\"dist_adv_pct_cm\"].set_title(\"distlearn: adv pct cm\")\n",
    "\n",
    "            clf_adv_pct_cm = pd.read_csv(clf_response_df.adv_pct_cm.tolist()[0], index_col=0)\n",
    "            sns.heatmap(clf_adv_pct_cm, ax=ax_dict[\"clf_adv_pct_cm\"], annot=True)\n",
    "            ax_dict[\"clf_adv_pct_cm\"].set_title(\"stdclf: adv pct cm\")\n",
    "\n",
    "        elif style == \"pct_cm\":\n",
    "            fig = plt.figure(constrained_layout=True)\n",
    "            fig.set_size_inches(10, 4)\n",
    "            ax_dict = fig.subplot_mosaic(\n",
    "                [\n",
    "                    [\"dist_pct_cm\", \"clf_pct_cm\"]\n",
    "                ]\n",
    "            )\n",
    "\n",
    "            dist_pct_cm = pd.read_csv(response_df.pct_cm.tolist()[0], index_col=0)\n",
    "            sns.heatmap(dist_pct_cm, ax=ax_dict[\"dist_pct_cm\"], annot=True)\n",
    "            ax_dict[\"dist_pct_cm\"].set_title(\"distlearn: pct cm\")\n",
    "\n",
    "            clf_pct_cm = pd.read_csv(clf_response_df.pct_cm.tolist()[0], index_col=0)\n",
    "            sns.heatmap(clf_pct_cm, ax=ax_dict[\"clf_pct_cm\"], annot=True)\n",
    "            ax_dict[\"clf_pct_cm\"].set_title(\"stdclf: pct cm\")\n",
    "            \n",
    "        elif style == \"sct_plot\":\n",
    "            fig = plt.figure(constrained_layout=True)\n",
    "            fig.set_size_inches(8, 6)\n",
    "            ax_dict = fig.subplot_mosaic(\n",
    "                [\n",
    "                    [\"sct_plot\"],\n",
    "\n",
    "                ]\n",
    "            )\n",
    "\n",
    "            img = mpimg.imread(response_df.distance_sct_plt.tolist()[0])\n",
    "            ax_dict[\"sct_plot\"].imshow(img)\n",
    "            ax_dict[\"sct_plot\"].set_title(\"distance sct plt\")\n",
    "        \n",
    "        plt.show()\n"
   ]
  },
  {
   "cell_type": "code",
   "execution_count": 3,
   "metadata": {},
   "outputs": [],
   "source": [
    "def make_interactive_query_system(master_df):\n",
    "    \n",
    "    INP_COLS = [\"atk_flavor\", \"atk_routine\", \"eps\", \"eps_iter\", \"norm\", \"restarts\", \"verbose\", \"k\", \"n\", \"max_norm\", \"task\", \"N\", \"thresh\"]\n",
    "\n",
    "    input_widgets = list()\n",
    "\n",
    "    for col in INP_COLS:\n",
    "\n",
    "        uniq_vals = master_df[col].fillna(value=-1).unique()\n",
    "\n",
    "        input_widgets.append(widgets.Dropdown(\n",
    "            options=uniq_vals,\n",
    "            value=uniq_vals[0],\n",
    "            description=col,\n",
    "            disabled=False\n",
    "        ))\n",
    "    \n",
    "    \n",
    "    output_style = widgets.Dropdown(\n",
    "            options=[\"adv_pct_cm\", \"sct_plot\", \"pct_cm\"],\n",
    "            value=\"adv_pct_cm\",\n",
    "            description=\"display style\",\n",
    "            disabled=False\n",
    "        )\n",
    "    \n",
    "    \n",
    "    \n",
    "    button = widgets.Button(\n",
    "        description='Submit',\n",
    "        disabled=False,\n",
    "        button_style='', # 'success', 'info', 'warning', 'danger' or ''\n",
    "        tooltip='Submit',\n",
    "        icon='check' # (FontAwesome names without the `fa-` prefix)\n",
    "    )\n",
    "    \n",
    "    \n",
    "    output = widgets.Output()\n",
    "    input_widgets.append(button)\n",
    "    display_for_inputs = widgets.GridBox(input_widgets[:-1] + [output_style] + [input_widgets[-1]], layout=widgets.Layout(grid_template_columns=\"repeat(3, 300px)\"))\n",
    "    display(display_for_inputs)\n",
    "    \n",
    "    def on_button_clicked(b):\n",
    "        with output:\n",
    "            IPython.display.clear_output(wait=True) \n",
    "            query = {i.description: i.value for i in input_widgets[:-1]}\n",
    "            if query[\"task\"] == \"clf\": query.pop(\"thresh\")\n",
    "\n",
    "            display_for_inputs = widgets.GridBox(input_widgets[:-1] + [output_style] + [input_widgets[-1]], layout=widgets.Layout(grid_template_columns=\"repeat(3, 300px)\"))\n",
    "            response_df = master_df[(master_df[list(query.keys())] == pd.Series(query)).all(1)]\n",
    "            style = output_style.value\n",
    "            disp_query_plot(query, response_df, style)\n",
    "        \n",
    "        display(display_for_inputs)  \n",
    "        display(output)\n",
    "        IPython.display.clear_output(wait=True) \n",
    "            \n",
    "    input_widgets[-1].on_click(on_button_clicked)\n",
    "    IPython.display.clear_output(wait=True)   "
   ]
  },
  {
   "cell_type": "code",
   "execution_count": 4,
   "metadata": {},
   "outputs": [
    {
     "name": "stdout",
     "output_type": "stream",
     "text": [
      "rdm_concspheres_k2n500_noninfdist_moreoffmfldv2-regression.json\n",
      "rdm_concspheres_k2n500_noninfdist_upmn-regression.json\n",
      "rdm_concspheres_k2n500_noninfdist-regression.json\n",
      "rdm_concspheres_k50n500_noninfdist-regression.json\n",
      "rdm_concspheres_k500n500_noninfdist-regression.json\n",
      ".ipynb_checkpoints\n"
     ]
    }
   ],
   "source": [
    "DUMP_DIR = \"../../dumps/expC_dist_learner_for_adv_ex/rdm_concspheres_test/attack_perfs_on_runs/all_attack_perfs_fixed_07022022/\"\n",
    "tag_match = [\"moreoffmfld\", \"clf\"]\n",
    "tag_not_match = [\"v2\", \"v3\"]\n",
    "master_df = None\n",
    "\n",
    "for file in os.listdir(DUMP_DIR):\n",
    "    if not file.endswith(\".json\"):\n",
    "        print(file)\n",
    "        continue\n",
    "    skip = False\n",
    "    for match in tag_match:\n",
    "        if match not in file:\n",
    "            skip=True\n",
    "        elif match in file:\n",
    "            skip=False\n",
    "            break\n",
    "    for match in tag_not_match:\n",
    "        if match in file:\n",
    "            skip=True\n",
    "    if skip:\n",
    "        print(file)\n",
    "        continue\n",
    "    if master_df is None:\n",
    "        master_df = pd.read_json(os.path.join(DUMP_DIR, file))\n",
    "    else:\n",
    "\n",
    "        tmp = pd.read_json(os.path.join(DUMP_DIR, file))\n",
    "        master_df = pd.concat([master_df, tmp], ignore_index=True)\n",
    "\n",
    "columns = master_df.columns.tolist()\n",
    "drop_dup_by_columns = [i for i in columns if \"clf_report\" not in i]\n",
    "master_df.drop_duplicates(drop_dup_by_columns, inplace=True)"
   ]
  },
  {
   "cell_type": "code",
   "execution_count": 5,
   "metadata": {
    "scrolled": false
   },
   "outputs": [
    {
     "data": {
      "application/vnd.jupyter.widget-view+json": {
       "model_id": "11d769408da148da882bfff342fee346",
       "version_major": 2,
       "version_minor": 0
      },
      "text/plain": [
       "GridBox(children=(Dropdown(description='atk_flavor', options=('std_pgd',), value='std_pgd'), Dropdown(descript…"
      ]
     },
     "metadata": {},
     "output_type": "display_data"
    }
   ],
   "source": [
    "make_interactive_query_system(master_df)"
   ]
  },
  {
   "cell_type": "markdown",
   "metadata": {},
   "source": [
    "# Comparing across different number of off-manifold points <a name=\"cmpr_num_off_mfld_k2n500\"></a> [\\[top\\]](#contents)\n",
    "\n",
    "- For k = 2, n = 500: load v2 and normal run separately\n",
    "- For k = 50, n = 500: load v3 and normal run separately"
   ]
  },
  {
   "cell_type": "code",
   "execution_count": 6,
   "metadata": {},
   "outputs": [],
   "source": [
    "DUMP_DIR = \"../../dumps/expC_dist_learner_for_adv_ex/rdm_concspheres_test/attack_perfs_on_runs/all_attack_perfs_fixed_07022022/\"\n",
    "\n",
    "\n",
    "k2n500_dl_v1 = os.path.join(DUMP_DIR, \"rdm_concspheres_k2n500_noninfdist_moreoffmfld-regression.json\")\n",
    "k2n500_dl_v2 = os.path.join(DUMP_DIR, \"rdm_concspheres_k2n500_noninfdist_moreoffmfldv2-regression.json\")\n",
    "k2n500_stdclf = os.path.join(DUMP_DIR, \"rdm_concspheres_k2n500_noninfdist-clf.json\")\n",
    "\n",
    "\n"
   ]
  },
  {
   "cell_type": "code",
   "execution_count": 7,
   "metadata": {},
   "outputs": [],
   "source": [
    "v1_list = [\n",
    "    k2n500_dl_v1,\n",
    "    k2n500_stdclf\n",
    "]\n",
    "master_df_v1 = None\n",
    "for file in v1_list:\n",
    "    if not file.endswith(\".json\"):\n",
    "        continue\n",
    "    if master_df_v1 is None:\n",
    "        master_df_v1 = pd.read_json(file)\n",
    "    else:\n",
    "        tmp = pd.read_json(file)\n",
    "        master_df_v1 = pd.concat([master_df_v1, tmp], ignore_index=True)\n",
    "\n",
    "columns_v1 = master_df_v1.columns.tolist()\n",
    "drop_dup_by_columns_v1 = [i for i in columns_v1 if \"clf_report\" not in i]\n",
    "master_df_v1.drop_duplicates(drop_dup_by_columns_v1, inplace=True)\n",
    "\n",
    "\n",
    "v2_list = [\n",
    "    k2n500_dl_v2,\n",
    "    k2n500_stdclf\n",
    "]\n",
    "master_df_v2 = None\n",
    "for file in v2_list:\n",
    "    if not file.endswith(\".json\"):\n",
    "        continue\n",
    "    if master_df_v2 is None:\n",
    "        master_df_v2 = pd.read_json(file)\n",
    "    else:\n",
    "        tmp = pd.read_json(file)\n",
    "        master_df_v2 = pd.concat([master_df_v2, tmp], ignore_index=True)\n",
    "\n",
    "columns_v2 = master_df_v2.columns.tolist()\n",
    "drop_dup_by_columns_v2 = [i for i in columns_v2 if \"clf_report\" not in i]\n",
    "master_df_v2.drop_duplicates(drop_dup_by_columns_v2, inplace=True)\n"
   ]
  },
  {
   "cell_type": "code",
   "execution_count": 8,
   "metadata": {},
   "outputs": [
    {
     "data": {
      "application/vnd.jupyter.widget-view+json": {
       "model_id": "6534d126fefd4e93ab3c3b780a998f40",
       "version_major": 2,
       "version_minor": 0
      },
      "text/plain": [
       "GridBox(children=(Dropdown(description='atk_flavor', options=('std_pgd',), value='std_pgd'), Dropdown(descript…"
      ]
     },
     "metadata": {},
     "output_type": "display_data"
    }
   ],
   "source": [
    "make_interactive_query_system(master_df_v1)"
   ]
  },
  {
   "cell_type": "code",
   "execution_count": 9,
   "metadata": {},
   "outputs": [
    {
     "data": {
      "application/vnd.jupyter.widget-view+json": {
       "model_id": "fc0936f7919c4caa8d2eedccece0e074",
       "version_major": 2,
       "version_minor": 0
      },
      "text/plain": [
       "GridBox(children=(Dropdown(description='atk_flavor', options=('std_pgd',), value='std_pgd'), Dropdown(descript…"
      ]
     },
     "metadata": {},
     "output_type": "display_data"
    }
   ],
   "source": [
    "make_interactive_query_system(master_df_v2)"
   ]
  },
  {
   "cell_type": "markdown",
   "metadata": {},
   "source": [
    "# Comparing performance by runs <a name=\"general\"></a> [\\[top\\]](#contents)"
   ]
  },
  {
   "cell_type": "code",
   "execution_count": 10,
   "metadata": {},
   "outputs": [
    {
     "data": {
      "application/vnd.jupyter.widget-view+json": {
       "model_id": "944706ab96df4331a71a6ce738fcdf2b",
       "version_major": 2,
       "version_minor": 0
      },
      "text/plain": [
       "SelectMultiple(description='Runs', layout=Layout(width='100%'), options=('rdm_concspheres_k2n500_noninfdist_mo…"
      ]
     },
     "metadata": {},
     "output_type": "display_data"
    }
   ],
   "source": [
    "RES_DIR = \"/data/dumps/expC_dist_learner_for_adv_ex/rdm_concspheres_test/attack_perfs_on_runs/all_attack_perfs/\"\n",
    "\n",
    "all_run_files = [i for i in os.listdir(RES_DIR) if i.endswith(\".json\")]\n",
    "checkbox_map = {i: widgets.Checkbox(\n",
    "        value=False,\n",
    "        description=i,\n",
    "        disabled=False,\n",
    "        indent=False,\n",
    "        layout=widgets.Layout(width='100%')\n",
    "    ) for i in all_run_files}\n",
    "\n",
    "multiselect = widgets.SelectMultiple(\n",
    "    options=all_run_files,\n",
    "    description='Runs',\n",
    "    disabled=False,\n",
    "    rows=10,\n",
    "    layout=widgets.Layout(width='100%')\n",
    ")\n",
    "# gridbox = widgets.GridBox(, layout=widgets.Layout(grid_template_columns=\"repeat(1, 800px)\"))\n",
    "display(multiselect)"
   ]
  },
  {
   "cell_type": "code",
   "execution_count": 11,
   "metadata": {},
   "outputs": [
    {
     "data": {
      "text/plain": [
       "('rdm_concspheres_k50n500_noninfdist_moreoffmfld_lrsweeps-regression.json',\n",
       " 'rdm_concspheres_k50n500_noninfdist_moreoffmfldv2-regression.json',\n",
       " 'rdm_concspheres_k2n500_noninfdist_upmn-clf.json',\n",
       " 'rdm_concspheres_k2n500_noninfdist_moreoffmfldv2-regression-Copy1.json')"
      ]
     },
     "execution_count": 11,
     "metadata": {},
     "output_type": "execute_result"
    }
   ],
   "source": [
    "multiselect.value"
   ]
  },
  {
   "cell_type": "code",
   "execution_count": 12,
   "metadata": {},
   "outputs": [],
   "source": [
    "master_df = None\n",
    "for f in multiselect.value:\n",
    "    res_file = os.path.join(RES_DIR, f)\n",
    "    if master_df is None:\n",
    "        master_df = pd.read_json(res_file)\n",
    "    else:\n",
    "        tmp = pd.read_json(res_file)\n",
    "        master_df = pd.concat([master_df, tmp], ignore_index=True)\n",
    "columns = master_df.columns.tolist()\n",
    "drop_dup_by_columns = [i for i in columns if \"clf_report\" not in i]\n",
    "master_df.drop_duplicates(drop_dup_by_columns, inplace=True)"
   ]
  },
  {
   "cell_type": "code",
   "execution_count": 13,
   "metadata": {},
   "outputs": [
    {
     "data": {
      "application/vnd.jupyter.widget-view+json": {
       "model_id": "f4c8840eef4340be905596023642a484",
       "version_major": 2,
       "version_minor": 0
      },
      "text/plain": [
       "GridBox(children=(Dropdown(description='atk_flavor', options=('std_pgd',), value='std_pgd'), Dropdown(descript…"
      ]
     },
     "metadata": {},
     "output_type": "display_data"
    }
   ],
   "source": [
    "make_interactive_query_system(master_df)"
   ]
  },
  {
   "cell_type": "markdown",
   "metadata": {},
   "source": [
    "# Effect of `eps_iter`\n",
    "\n",
    "for given runs, show how variation of eps_iter affects the performance across epsilons. (1 line for each `eps_iter`)"
   ]
  },
  {
   "cell_type": "code",
   "execution_count": 14,
   "metadata": {},
   "outputs": [
    {
     "data": {
      "application/vnd.jupyter.widget-view+json": {
       "model_id": "750bf73f04c847e8a2d8c4812299c9af",
       "version_major": 2,
       "version_minor": 0
      },
      "text/plain": [
       "Select(description='Runs', layout=Layout(width='100%'), options=('rdm_concspheres_k2n500_noninfdist_moreoffmfl…"
      ]
     },
     "metadata": {},
     "output_type": "display_data"
    }
   ],
   "source": [
    "RES_DIR = \"/data/dumps/expC_dist_learner_for_adv_ex/rdm_concspheres_test/attack_perfs_on_runs/all_attack_perfs/\"\n",
    "\n",
    "all_run_files = [i for i in os.listdir(RES_DIR) if i.endswith(\".json\")]\n",
    "\n",
    "select = widgets.Select(\n",
    "    options=all_run_files,\n",
    "    description='Runs',\n",
    "    disabled=False,\n",
    "    rows=10,\n",
    "    layout=widgets.Layout(width='100%')\n",
    ")\n",
    "# gridbox = widgets.GridBox(, layout=widgets.Layout(grid_template_columns=\"repeat(1, 800px)\"))\n",
    "display(select)"
   ]
  },
  {
   "cell_type": "code",
   "execution_count": 36,
   "metadata": {},
   "outputs": [],
   "source": [
    "####### specify threshold for this plot ########\n",
    "\n",
    "# can be any number between 0.1 t0 0.15 (both inclusive with 0.01 increments) or np.inf\n",
    "thresh = 0.14"
   ]
  },
  {
   "cell_type": "code",
   "execution_count": 33,
   "metadata": {},
   "outputs": [
    {
     "data": {
      "application/vnd.jupyter.widget-view+json": {
       "model_id": "13fa40b5e1be410da5ed3db21d0c8831",
       "version_major": 2,
       "version_minor": 0
      },
      "text/plain": [
       "Select(description='Runs', layout=Layout(width='100%'), options=('rdm_concspheres_k2n500_noninfdist_upmn-clf.j…"
      ]
     },
     "metadata": {},
     "output_type": "display_data"
    }
   ],
   "source": [
    "####### Other useful parameters #######\n",
    "also_show_clf = True\n",
    "if \"clf\" in select.value: also_show_clf = False\n",
    "if also_show_clf:\n",
    "    all_run_clf_files = [i for i in all_run_files if \"clf\" in i and i != select.value]\n",
    "    select_clf = widgets.Select(\n",
    "        options=all_run_clf_files,\n",
    "        description='Runs',\n",
    "        disabled=False,\n",
    "        rows=10,\n",
    "        layout=widgets.Layout(width='100%')\n",
    "    )\n",
    "    # gridbox = widgets.GridBox(, layout=widgets.Layout(grid_template_columns=\"repeat(1, 800px)\"))\n",
    "    display(select_clf)"
   ]
  },
  {
   "cell_type": "code",
   "execution_count": 37,
   "metadata": {},
   "outputs": [
    {
     "data": {
      "image/png": "[encoded data removed]",
      "text/plain": [
       "<Figure size 432x288 with 1 Axes>"
      ]
     },
     "metadata": {
      "needs_background": "light"
     },
     "output_type": "display_data"
    },
    {
     "data": {
      "image/png": "[encoded data removed]",
      "text/plain": [
       "<Figure size 432x288 with 1 Axes>"
      ]
     },
     "metadata": {
      "needs_background": "light"
     },
     "output_type": "display_data"
    }
   ],
   "source": [
    "files = [select.value]\n",
    "if also_show_clf: files.append(select_clf.value)\n",
    "for f in files:\n",
    "    df = pd.read_json(os.path.join(RES_DIR, f))\n",
    "    task = df.task.unique()[0]\n",
    "    eps_arr = df.eps.unique()\n",
    "    eps_iter_arr = df.eps_iter.unique()\n",
    "    plt.figure()\n",
    "    for eps_iter in eps_iter_arr:\n",
    "        perf_for_eps_iter = list()\n",
    "        for eps in eps_arr:\n",
    "            if task == \"clf\":\n",
    "                acc = np.trace(pd.read_csv(df[(df.eps == eps) & (df.eps_iter == eps_iter)].adv_pct_cm.tolist()[0], index_col=0).to_numpy())\n",
    "            else:\n",
    "                acc = np.trace(pd.read_csv(df[(np.round(df.thresh, 2) == thresh) & (df.eps == eps) & (df.eps_iter == eps_iter)].adv_pct_cm.tolist()[0], index_col=0).to_numpy())\n",
    "            perf_for_eps_iter.append(acc)\n",
    "\n",
    "        plt.plot(eps_arr, perf_for_eps_iter, label=np.round(eps_iter, 3), marker=\"o\")\n",
    "\n",
    "    plt.legend()\n",
    "    plt.xlabel(\"eps\")\n",
    "    plt.ylabel(\"acc\")\n",
    "    plt.title(\"run={}, thresh={}\".format(f, thresh if task != \"clf\" else np.nan))\n",
    "    plt.suptitle(\"effect of eps_iter\")\n",
    "    plt.show()\n",
    "\n",
    "\n"
   ]
  },
  {
   "cell_type": "markdown",
   "metadata": {},
   "source": [
    "# Effect of `k`"
   ]
  },
  {
   "cell_type": "code",
   "execution_count": 118,
   "metadata": {},
   "outputs": [
    {
     "data": {
      "application/vnd.jupyter.widget-view+json": {
       "model_id": "ef3393b4f2c84daba9fbef50f065abcb",
       "version_major": 2,
       "version_minor": 0
      },
      "text/plain": [
       "SelectMultiple(description='Select', index=(0, 1, 2), layout=Layout(width='100%'), options=('rdm_concspheres_k…"
      ]
     },
     "metadata": {},
     "output_type": "display_data"
    }
   ],
   "source": [
    "RES_DIR = \"/data/dumps/expC_dist_learner_for_adv_ex/rdm_concspheres_test/attack_perfs_on_runs/all_attack_perfs/\"\n",
    "\n",
    "all_run_files = [i for i in os.listdir(RES_DIR) if i.endswith(\"1-regression.json\")]\n",
    "\n",
    "multiselect = widgets.SelectMultiple(\n",
    "    options=all_run_files,\n",
    "    description='Select',\n",
    "    value=all_run_files,\n",
    "    disabled=False,\n",
    "    rows=10,\n",
    "    layout=widgets.Layout(width='100%')\n",
    ")\n",
    "# gridbox = widgets.GridBox(, layout=widgets.Layout(grid_template_columns=\"repeat(1, 800px)\"))\n",
    "display(multiselect)"
   ]
  },
  {
   "cell_type": "code",
   "execution_count": 126,
   "metadata": {},
   "outputs": [
    {
     "name": "stdout",
     "output_type": "stream",
     "text": [
      "selected files:\n",
      "rdm_concspheres_k500n500_noninfdist_moreoffmfld-1-regression.json\n",
      "rdm_concspheres_k10n500_noninfdist_moreoffmfld-1-regression.json\n",
      "rdm_concspheres_k2n500_noninfdist_moreoffmfld-1-regression.json\n"
     ]
    }
   ],
   "source": [
    "print(\"selected files:\")\n",
    "for i in multiselect.value:\n",
    "    print(i)"
   ]
  },
  {
   "cell_type": "code",
   "execution_count": 127,
   "metadata": {},
   "outputs": [
    {
     "data": {
      "application/vnd.jupyter.widget-view+json": {
       "model_id": "400c476096454625817ce5a0ad2b4a62",
       "version_major": 2,
       "version_minor": 0
      },
      "text/plain": [
       "SelectMultiple(description='Select', index=(0, 1), layout=Layout(width='100%'), options=('rdm_concspheres_k500…"
      ]
     },
     "metadata": {},
     "output_type": "display_data"
    }
   ],
   "source": [
    "#### Assuming here that only one clf file will be used corresponding to one distance learner\n",
    "\n",
    "dl_files = [os.path.join(RES_DIR, i) for i in copy.deepcopy(multiselect.value)]\n",
    "tmp = [i.replace(\"1-regression.json\", \"*-clf.json\") for i in multiselect.value]\n",
    "clf_files = list()\n",
    "for i in tmp:\n",
    "    clf_files.extend([os.path.basename(i) for i in glob.glob(os.path.join(RES_DIR, i))])\n",
    "    \n",
    "multiselect_clf = widgets.SelectMultiple(\n",
    "    options=clf_files,\n",
    "    description='Select',\n",
    "    value=clf_files,\n",
    "    disabled=False,\n",
    "    rows=10,\n",
    "    layout=widgets.Layout(width='100%')\n",
    ")\n",
    "# gridbox = widgets.GridBox(, layout=widgets.Layout(grid_template_columns=\"repeat(1, 800px)\"))\n",
    "display(multiselect_clf)\n"
   ]
  },
  {
   "cell_type": "code",
   "execution_count": 128,
   "metadata": {},
   "outputs": [
    {
     "name": "stdout",
     "output_type": "stream",
     "text": [
      "selected files:\n",
      "rdm_concspheres_k500n500_noninfdist_moreoffmfld-renamed-2-clf.json\n",
      "rdm_concspheres_k2n500_noninfdist_moreoffmfld-renamed-2-clf.json\n"
     ]
    }
   ],
   "source": [
    "print(\"selected files:\")\n",
    "for f in multiselect_clf.value:\n",
    "    print(f)\n",
    "\n",
    "clf_files = [os.path.join(RES_DIR, i) for i in multiselect_clf.value]"
   ]
  },
  {
   "cell_type": "code",
   "execution_count": 129,
   "metadata": {},
   "outputs": [
    {
     "name": "stdout",
     "output_type": "stream",
     "text": [
      "paired files:\n",
      "rdm_concspheres_k500n500_noninfdist_moreoffmfld-1-regression.json | rdm_concspheres_k500n500_noninfdist_moreoffmfld-renamed-2-clf.json\n",
      "rdm_concspheres_k10n500_noninfdist_moreoffmfld-1-regression.json | None\n",
      "rdm_concspheres_k2n500_noninfdist_moreoffmfld-1-regression.json | rdm_concspheres_k2n500_noninfdist_moreoffmfld-renamed-2-clf.json\n"
     ]
    }
   ],
   "source": [
    "pair_files = list()\n",
    "\n",
    "for i in range(len(dl_files)):\n",
    "    matched = False\n",
    "    for j in range(len(clf_files)):\n",
    "        file_common_prefix = re.sub(r\"\\-[0-9\\-]*(regression|clf).json\", \"\", dl_files[i])\n",
    "        match_obj = re.match(file_common_prefix, clf_files[j])\n",
    "        if match_obj is not None:\n",
    "            pair_files.append((dl_files[i], match_obj.string))\n",
    "            matched=True\n",
    "        \n",
    "    if not matched:\n",
    "        pair_files.append((dl_files[i], None))\n",
    "            \n",
    "print(\"paired files:\")\n",
    "for i in pair_files:\n",
    "    print(os.path.basename(i[0]), \"|\", os.path.basename(i[1]) if i[1] is not None else i[1])"
   ]
  },
  {
   "cell_type": "code",
   "execution_count": 141,
   "metadata": {},
   "outputs": [],
   "source": [
    "#### setting hyperparameters which will be fixed!!!\n",
    "\n",
    "thresh = 0.14\n",
    "eps_iter = 5e-03\n",
    "show_error_w_clf = False"
   ]
  },
  {
   "cell_type": "code",
   "execution_count": 142,
   "metadata": {},
   "outputs": [
    {
     "data": {
      "image/png": "[encoded data removed]",
      "text/plain": [
       "<Figure size 432x288 with 1 Axes>"
      ]
     },
     "metadata": {
      "needs_background": "light"
     },
     "output_type": "display_data"
    },
    {
     "data": {
      "image/png": "[encoded data removed]",
      "text/plain": [
       "<Figure size 432x288 with 1 Axes>"
      ]
     },
     "metadata": {
      "needs_background": "light"
     },
     "output_type": "display_data"
    }
   ],
   "source": [
    "dl_perf_all = list()\n",
    "clf_perf_all = list()\n",
    "k_all = list()\n",
    "\n",
    "plt.figure()\n",
    "for pair in pair_files:\n",
    "    dl_df = pd.read_json(pair[0])\n",
    "    clf_df = pd.read_json(pair[1]) if pair[1] is not None else None\n",
    "    \n",
    "    eps_arr = dl_df.eps.unique()\n",
    "    \n",
    "    dl_perf = np.zeros(eps_arr.shape)\n",
    "    clf_perf = np.zeros(eps_arr.shape)\n",
    "    \n",
    "    assert dl_df.k.unique().shape[0] == 1\n",
    "    if clf_df is not None:\n",
    "        assert clf_df.k.unique().shape[0] == 1\n",
    "    k = dl_df.k.unique()[0]\n",
    "    \n",
    "    for i in range(eps_arr.shape[0]):\n",
    "        eps = eps_arr[i]\n",
    "        \n",
    "        dl_perf[i] = np.trace(pd.read_csv(dl_df[(np.round(dl_df.thresh, 2) == thresh) & \\\n",
    "                                             (dl_df.eps == eps) & \\\n",
    "                                             (np.round(dl_df.eps_iter, 3) == eps_iter)].adv_pct_cm.tolist()[0], index_col=0).to_numpy())\n",
    "        if clf_df is not None:\n",
    "            clf_perf[i] = np.trace(pd.read_csv(clf_df[(clf_df.eps == eps) & \\\n",
    "                                             (np.round(clf_df.eps_iter, 3) == eps_iter)].adv_pct_cm.tolist()[0], index_col=0).to_numpy())\n",
    "    if clf_df is not None:\n",
    "        diff = dl_perf - clf_perf\n",
    "        lolim = diff < 0\n",
    "        uplim = diff >= 0\n",
    "\n",
    "        if show_error_w_clf:\n",
    "            plt.errorbar(eps_arr, dl_perf, yerr=diff, uplims=uplim, lolims=lolim, label=k, marker=\"o\", markersize=0.1)\n",
    "        else:\n",
    "            plt.errorbar(eps_arr, dl_perf, label=k, marker=\"o\")\n",
    "    else:\n",
    "        plt.plot(eps_arr, dl_perf, label=k, marker=\"o\")\n",
    "        \n",
    "    dl_perf_all.append(dl_perf)\n",
    "    clf_perf_all.append(clf_perf if clf_df is not None else None)\n",
    "    k_all.append(k)\n",
    "\n",
    "plt.legend(bbox_to_anchor =(1.25, 0.8))\n",
    "plt.title(\"th={}, eps_iter={}\".format(thresh, eps_iter))\n",
    "plt.suptitle(\"effect of k on robustness of dl (error with clf)\")\n",
    "plt.xlabel(\"eps\")\n",
    "plt.ylabel(\"acc\")\n",
    "plt.show()\n",
    "\n",
    "\n",
    "\n",
    "plt.figure()\n",
    "for i in range(len(clf_perf_all)):\n",
    "    if clf_perf_all[i] is None:\n",
    "        continue\n",
    "    plt.plot(eps_arr, clf_perf_all[i], label=k_all[i], marker=\"o\")\n",
    "\n",
    "plt.legend(bbox_to_anchor =(1.25, 0.8))\n",
    "plt.title(\"th={}, eps_iter={}\".format(thresh, eps_iter))\n",
    "plt.suptitle(\"effect of k on robustness of clf\")\n",
    "plt.xlabel(\"eps\")\n",
    "plt.ylabel(\"acc\")\n",
    "plt.show()\n",
    "\n",
    "\n",
    "        "
   ]
  },
  {
   "cell_type": "code",
   "execution_count": 125,
   "metadata": {},
   "outputs": [
    {
     "data": {
      "text/plain": [
       "6"
      ]
     },
     "execution_count": 125,
     "metadata": {},
     "output_type": "execute_result"
    }
   ],
   "source": []
  },
  {
   "cell_type": "code",
   "execution_count": null,
   "metadata": {},
   "outputs": [],
   "source": []
  }
 ],
 "metadata": {
  "kernelspec": {
   "display_name": "Python 3",
   "language": "python",
   "name": "python3"
  },
  "language_info": {
   "codemirror_mode": {
    "name": "ipython",
    "version": 3
   },
   "file_extension": ".py",
   "mimetype": "text/x-python",
   "name": "python",
   "nbconvert_exporter": "python",
   "pygments_lexer": "ipython3",
   "version": "3.6.9"
  }
 },
 "nbformat": 4,
 "nbformat_minor": 4
}
