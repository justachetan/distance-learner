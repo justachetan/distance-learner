{
 "cells": [
  {
   "cell_type": "code",
   "execution_count": 1,
   "metadata": {},
   "outputs": [],
   "source": [
    "import os\n",
    "import sys\n",
    "import json\n",
    "import copy\n",
    "\n",
    "import numpy as np\n",
    "import pandas as pd\n",
    "import matplotlib.pyplot as plt\n",
    "import matplotlib.image as mpimg\n",
    "import torch\n",
    "\n",
    "import seaborn as sns\n",
    "\n",
    "import IPython.display\n",
    "\n",
    "import ipywidgets as widgets"
   ]
  },
  {
   "cell_type": "markdown",
   "metadata": {},
   "source": [
    "# Contents <a name=\"contents\"></a>\n",
    "\n",
    "- [General Analysis](#general)\n",
    "- [Comparison across different number of off-manifold points](#cmpr_num_off_mfld_k2n500)"
   ]
  },
  {
   "cell_type": "markdown",
   "metadata": {},
   "source": [
    "## General Analysis <a name=\"general\"></a> [\\[top\\]](#contents)"
   ]
  },
  {
   "cell_type": "code",
   "execution_count": 2,
   "metadata": {},
   "outputs": [],
   "source": [
    "def disp_query_plot(query, response_df, style):\n",
    "    if query[\"task\"] == \"clf\":\n",
    "        if style == \"sct_plot\":\n",
    "            fig = plt.figure()\n",
    "            plt.title(\"sct plot not available for stdclf\")\n",
    "            plt.show()\n",
    "            \n",
    "        elif style == \"adv_pct_cm\" or style == \"pct_cm\":\n",
    "            f, axarr = plt.subplots(1, 2)\n",
    "            f.set_size_inches(10, 4)\n",
    "            img = pd.read_csv(response_df.pct_cm.tolist()[0], index_col=0)\n",
    "            sns.heatmap(img, ax=axarr[0], annot=True)\n",
    "            axarr[0].set_title(\"normal pct cm\")\n",
    "            img = pd.read_csv(response_df.adv_pct_cm.tolist()[0], index_col=0)\n",
    "            sns.heatmap(img, ax=axarr[1], annot=True)\n",
    "            axarr[1].set_title(\"adv pct cm\")\n",
    "            f.set_tight_layout(True)\n",
    "            plt.show()\n",
    "\n",
    "    elif query[\"task\"] == \"dist\":\n",
    "        clf_query = copy.deepcopy(query)\n",
    "        clf_query.pop(\"thresh\")\n",
    "        clf_query[\"task\"] = \"clf\"\n",
    "        clf_response_df = master_df[(master_df[list(clf_query.keys())] == pd.Series(clf_query)).all(1)]\n",
    "        \n",
    "        if style == \"adv_pct_cm\":\n",
    "            fig = plt.figure(constrained_layout=True)\n",
    "            fig.set_size_inches(10, 4)\n",
    "            ax_dict = fig.subplot_mosaic(\n",
    "                [\n",
    "                    [\"dist_adv_pct_cm\", \"clf_adv_pct_cm\"],\n",
    "                ]\n",
    "            )\n",
    "\n",
    "            dist_adv_pct_cm = pd.read_csv(response_df.adv_pct_cm.tolist()[0], index_col=0)\n",
    "            sns.heatmap(dist_adv_pct_cm, ax=ax_dict[\"dist_adv_pct_cm\"], annot=True)\n",
    "            ax_dict[\"dist_adv_pct_cm\"].set_title(\"distlearn: adv pct cm\")\n",
    "\n",
    "            clf_adv_pct_cm = pd.read_csv(clf_response_df.adv_pct_cm.tolist()[0], index_col=0)\n",
    "            sns.heatmap(clf_adv_pct_cm, ax=ax_dict[\"clf_adv_pct_cm\"], annot=True)\n",
    "            ax_dict[\"clf_adv_pct_cm\"].set_title(\"stdclf: adv pct cm\")\n",
    "\n",
    "        elif style == \"pct_cm\":\n",
    "            fig = plt.figure(constrained_layout=True)\n",
    "            fig.set_size_inches(10, 4)\n",
    "            ax_dict = fig.subplot_mosaic(\n",
    "                [\n",
    "                    [\"dist_pct_cm\", \"clf_pct_cm\"]\n",
    "                ]\n",
    "            )\n",
    "\n",
    "            dist_pct_cm = pd.read_csv(response_df.pct_cm.tolist()[0], index_col=0)\n",
    "            sns.heatmap(dist_pct_cm, ax=ax_dict[\"dist_pct_cm\"], annot=True)\n",
    "            ax_dict[\"dist_pct_cm\"].set_title(\"distlearn: pct cm\")\n",
    "\n",
    "            clf_pct_cm = pd.read_csv(clf_response_df.pct_cm.tolist()[0], index_col=0)\n",
    "            sns.heatmap(clf_pct_cm, ax=ax_dict[\"clf_pct_cm\"], annot=True)\n",
    "            ax_dict[\"clf_pct_cm\"].set_title(\"stdclf: pct cm\")\n",
    "            \n",
    "        elif style == \"sct_plot\":\n",
    "            fig = plt.figure(constrained_layout=True)\n",
    "            fig.set_size_inches(8, 6)\n",
    "            ax_dict = fig.subplot_mosaic(\n",
    "                [\n",
    "                    [\"sct_plot\"],\n",
    "\n",
    "                ]\n",
    "            )\n",
    "\n",
    "            img = mpimg.imread(response_df.distance_sct_plt.tolist()[0])\n",
    "            ax_dict[\"sct_plot\"].imshow(img)\n",
    "            ax_dict[\"sct_plot\"].set_title(\"distance sct plt\")\n",
    "        \n",
    "        plt.show()\n"
   ]
  },
  {
   "cell_type": "code",
   "execution_count": 3,
   "metadata": {},
   "outputs": [],
   "source": [
    "def make_interactive_query_system(master_df):\n",
    "    \n",
    "    INP_COLS = [\"atk_flavor\", \"atk_routine\", \"eps\", \"eps_iter\", \"norm\", \"restarts\", \"verbose\", \"k\", \"n\", \"max_norm\", \"task\", \"N\", \"thresh\"]\n",
    "\n",
    "    input_widgets = list()\n",
    "\n",
    "    for col in INP_COLS:\n",
    "\n",
    "        uniq_vals = master_df[col].fillna(value=-1).unique()\n",
    "\n",
    "        input_widgets.append(widgets.Dropdown(\n",
    "            options=uniq_vals,\n",
    "            value=uniq_vals[0],\n",
    "            description=col,\n",
    "            disabled=False\n",
    "        ))\n",
    "    \n",
    "    \n",
    "    output_style = widgets.Dropdown(\n",
    "            options=[\"adv_pct_cm\", \"sct_plot\", \"pct_cm\"],\n",
    "            value=\"adv_pct_cm\",\n",
    "            description=\"display style\",\n",
    "            disabled=False\n",
    "        )\n",
    "    \n",
    "    \n",
    "    \n",
    "    button = widgets.Button(\n",
    "        description='Submit',\n",
    "        disabled=False,\n",
    "        button_style='', # 'success', 'info', 'warning', 'danger' or ''\n",
    "        tooltip='Submit',\n",
    "        icon='check' # (FontAwesome names without the `fa-` prefix)\n",
    "    )\n",
    "    \n",
    "    \n",
    "    output = widgets.Output()\n",
    "    input_widgets.append(button)\n",
    "    display_for_inputs = widgets.GridBox(input_widgets[:-1] + [output_style] + [input_widgets[-1]], layout=widgets.Layout(grid_template_columns=\"repeat(3, 300px)\"))\n",
    "    display(display_for_inputs)\n",
    "    \n",
    "    def on_button_clicked(b):\n",
    "        with output:\n",
    "            IPython.display.clear_output(wait=True) \n",
    "            query = {i.description: i.value for i in input_widgets[:-1]}\n",
    "            if query[\"task\"] == \"clf\": query.pop(\"thresh\")\n",
    "\n",
    "            display_for_inputs = widgets.GridBox(input_widgets[:-1] + [output_style] + [input_widgets[-1]], layout=widgets.Layout(grid_template_columns=\"repeat(3, 300px)\"))\n",
    "            response_df = master_df[(master_df[list(query.keys())] == pd.Series(query)).all(1)]\n",
    "            style = output_style.value\n",
    "            disp_query_plot(query, response_df, style)\n",
    "        \n",
    "        display(display_for_inputs)  \n",
    "        display(output)\n",
    "        IPython.display.clear_output(wait=True) \n",
    "            \n",
    "    input_widgets[-1].on_click(on_button_clicked)\n",
    "    IPython.display.clear_output(wait=True)   "
   ]
  },
  {
   "cell_type": "code",
   "execution_count": 4,
   "metadata": {},
   "outputs": [
    {
     "name": "stdout",
     "output_type": "stream",
     "text": [
      "rdm_concspheres_k2n500_noninfdist_moreoffmfldv2-regression.json\n",
      "rdm_concspheres_k2n500_noninfdist_upmn-regression.json\n",
      "rdm_concspheres_k2n500_noninfdist-regression.json\n",
      "rdm_concspheres_k50n500_noninfdist-regression.json\n",
      "rdm_concspheres_k500n500_noninfdist-regression.json\n",
      ".ipynb_checkpoints\n"
     ]
    }
   ],
   "source": [
    "DUMP_DIR = \"../../dumps/expC_dist_learner_for_adv_ex/rdm_concspheres_test/attack_perfs_on_runs/all_attack_perfs_fixed_07022022/\"\n",
    "tag_match = [\"moreoffmfld\", \"clf\"]\n",
    "tag_not_match = [\"v2\", \"v3\"]\n",
    "master_df = None\n",
    "\n",
    "for file in os.listdir(DUMP_DIR):\n",
    "    if not file.endswith(\".json\"):\n",
    "        print(file)\n",
    "        continue\n",
    "    skip = False\n",
    "    for match in tag_match:\n",
    "        if match not in file:\n",
    "            skip=True\n",
    "        elif match in file:\n",
    "            skip=False\n",
    "            break\n",
    "    for match in tag_not_match:\n",
    "        if match in file:\n",
    "            skip=True\n",
    "    if skip:\n",
    "        print(file)\n",
    "        continue\n",
    "    if master_df is None:\n",
    "        master_df = pd.read_json(os.path.join(DUMP_DIR, file))\n",
    "    else:\n",
    "\n",
    "        tmp = pd.read_json(os.path.join(DUMP_DIR, file))\n",
    "        master_df = pd.concat([master_df, tmp], ignore_index=True)\n",
    "\n",
    "columns = master_df.columns.tolist()\n",
    "drop_dup_by_columns = [i for i in columns if \"clf_report\" not in i]\n",
    "master_df.drop_duplicates(drop_dup_by_columns, inplace=True)"
   ]
  },
  {
   "cell_type": "code",
   "execution_count": 5,
   "metadata": {
    "scrolled": false
   },
   "outputs": [
    {
     "data": {
      "application/vnd.jupyter.widget-view+json": {
       "model_id": "a4459a0a745e4d5f93e98008f99806c0",
       "version_major": 2,
       "version_minor": 0
      },
      "text/plain": [
       "GridBox(children=(Dropdown(description='atk_flavor', options=('std_pgd',), value='std_pgd'), Dropdown(descript…"
      ]
     },
     "metadata": {},
     "output_type": "display_data"
    },
    {
     "data": {
      "application/vnd.jupyter.widget-view+json": {
       "model_id": "e9bfd45a0d1f4d7fa7326ca9407d9445",
       "version_major": 2,
       "version_minor": 0
      },
      "text/plain": [
       "Output(outputs=({'output_type': 'display_data', 'data': {'text/plain': '<Figure size 720x288 with 4 Axes>', 'i…"
      ]
     },
     "metadata": {},
     "output_type": "display_data"
    }
   ],
   "source": [
    "make_interactive_query_system(master_df)"
   ]
  },
  {
   "cell_type": "markdown",
   "metadata": {},
   "source": [
    "# Comparing across different number of off-manifold points <a name=\"cmpr_num_off_mfld_k2n500\"></a> [\\[top\\]](#contents)\n",
    "\n",
    "- For k = 2, n = 500: load v2 and normal run separately\n",
    "- For k = 50, n = 500: load v3 and normal run separately"
   ]
  },
  {
   "cell_type": "code",
   "execution_count": 6,
   "metadata": {},
   "outputs": [],
   "source": [
    "DUMP_DIR = \"../../dumps/expC_dist_learner_for_adv_ex/rdm_concspheres_test/attack_perfs_on_runs/all_attack_perfs_fixed_07022022/\"\n",
    "\n",
    "\n",
    "k2n500_dl_v1 = os.path.join(DUMP_DIR, \"rdm_concspheres_k2n500_noninfdist_moreoffmfld-regression.json\")\n",
    "k2n500_dl_v2 = os.path.join(DUMP_DIR, \"rdm_concspheres_k2n500_noninfdist_moreoffmfldv2-regression.json\")\n",
    "k2n500_stdclf = os.path.join(DUMP_DIR, \"rdm_concspheres_k2n500_noninfdist-clf.json\")\n",
    "\n",
    "\n"
   ]
  },
  {
   "cell_type": "code",
   "execution_count": 7,
   "metadata": {},
   "outputs": [],
   "source": [
    "v1_list = [\n",
    "    k2n500_dl_v1,\n",
    "    k2n500_stdclf\n",
    "]\n",
    "master_df_v1 = None\n",
    "for file in v1_list:\n",
    "    if not file.endswith(\".json\"):\n",
    "        continue\n",
    "    if master_df_v1 is None:\n",
    "        master_df_v1 = pd.read_json(file)\n",
    "    else:\n",
    "        tmp = pd.read_json(file)\n",
    "        master_df_v1 = pd.concat([master_df_v1, tmp], ignore_index=True)\n",
    "\n",
    "columns_v1 = master_df_v1.columns.tolist()\n",
    "drop_dup_by_columns_v1 = [i for i in columns_v1 if \"clf_report\" not in i]\n",
    "master_df_v1.drop_duplicates(drop_dup_by_columns_v1, inplace=True)\n",
    "\n",
    "\n",
    "v2_list = [\n",
    "    k2n500_dl_v2,\n",
    "    k2n500_stdclf\n",
    "]\n",
    "master_df_v2 = None\n",
    "for file in v2_list:\n",
    "    if not file.endswith(\".json\"):\n",
    "        continue\n",
    "    if master_df_v2 is None:\n",
    "        master_df_v2 = pd.read_json(file)\n",
    "    else:\n",
    "        tmp = pd.read_json(file)\n",
    "        master_df_v2 = pd.concat([master_df_v2, tmp], ignore_index=True)\n",
    "\n",
    "columns_v2 = master_df_v2.columns.tolist()\n",
    "drop_dup_by_columns_v2 = [i for i in columns_v2 if \"clf_report\" not in i]\n",
    "master_df_v2.drop_duplicates(drop_dup_by_columns_v2, inplace=True)\n"
   ]
  },
  {
   "cell_type": "code",
   "execution_count": 8,
   "metadata": {},
   "outputs": [
    {
     "data": {
      "application/vnd.jupyter.widget-view+json": {
       "model_id": "a810b14fc04e4103b443873435f65920",
       "version_major": 2,
       "version_minor": 0
      },
      "text/plain": [
       "GridBox(children=(Dropdown(description='atk_flavor', options=('std_pgd',), value='std_pgd'), Dropdown(descript…"
      ]
     },
     "metadata": {},
     "output_type": "display_data"
    },
    {
     "data": {
      "application/vnd.jupyter.widget-view+json": {
       "model_id": "db5f62e7293c40f18767fe3f2ea65564",
       "version_major": 2,
       "version_minor": 0
      },
      "text/plain": [
       "Output(outputs=({'output_type': 'display_data', 'data': {'text/plain': '<Figure size 720x288 with 4 Axes>', 'i…"
      ]
     },
     "metadata": {},
     "output_type": "display_data"
    }
   ],
   "source": [
    "make_interactive_query_system(master_df_v1)"
   ]
  },
  {
   "cell_type": "code",
   "execution_count": 9,
   "metadata": {},
   "outputs": [
    {
     "data": {
      "application/vnd.jupyter.widget-view+json": {
       "model_id": "0def948010bc45d1bc900da4fc25bdb6",
       "version_major": 2,
       "version_minor": 0
      },
      "text/plain": [
       "GridBox(children=(Dropdown(description='atk_flavor', options=('std_pgd',), value='std_pgd'), Dropdown(descript…"
      ]
     },
     "metadata": {},
     "output_type": "display_data"
    },
    {
     "data": {
      "application/vnd.jupyter.widget-view+json": {
       "model_id": "ded8cc8ac4a04724ac1c700ddee84bde",
       "version_major": 2,
       "version_minor": 0
      },
      "text/plain": [
       "Output(outputs=({'output_type': 'display_data', 'data': {'text/plain': '<Figure size 720x288 with 4 Axes>', 'i…"
      ]
     },
     "metadata": {},
     "output_type": "display_data"
    }
   ],
   "source": [
    "make_interactive_query_system(master_df_v2)"
   ]
  },
  {
   "cell_type": "code",
   "execution_count": null,
   "metadata": {},
   "outputs": [],
   "source": []
  },
  {
   "cell_type": "code",
   "execution_count": null,
   "metadata": {},
   "outputs": [],
   "source": []
  },
  {
   "cell_type": "code",
   "execution_count": null,
   "metadata": {},
   "outputs": [],
   "source": []
  },
  {
   "cell_type": "code",
   "execution_count": null,
   "metadata": {},
   "outputs": [],
   "source": []
  },
  {
   "cell_type": "code",
   "execution_count": null,
   "metadata": {},
   "outputs": [],
   "source": []
  },
  {
   "cell_type": "code",
   "execution_count": null,
   "metadata": {},
   "outputs": [],
   "source": []
  },
  {
   "cell_type": "code",
   "execution_count": 4,
   "metadata": {},
   "outputs": [
    {
     "name": "stdout",
     "output_type": "stream",
     "text": [
      "atk_flavor ['std_pgd']\n",
      "atk_routine ['my' 'chans']\n",
      "eps [0.01 0.02 0.03 0.04 0.05 0.06 0.07 0.08 0.09 0.1 ]\n",
      "eps_iter [0.005 0.006 0.007 0.008 0.009]\n",
      "norm [2]\n",
      "restarts [1]\n",
      "verbose [False]\n",
      "k [ 50   2 500]\n",
      "n [500]\n",
      "max_norm [0.1]\n",
      "task ['clf' 'dist']\n",
      "N [200000]\n",
      "thresh [ nan  inf 0.01 0.02 0.03 0.04 0.05 0.06 0.07 0.08 0.09 0.1  0.11 0.12\n",
      " 0.13 0.14 0.15]\n"
     ]
    }
   ],
   "source": [
    "DUMP_DIR = \"../../dumps/expC_dist_learner_for_adv_ex/rdm_concspheres_test/attack_perfs_on_runs/all_attack_perfs_fixed_07022022/\"\n",
    "master_df = None\n",
    "for file in os.listdir(DUMP_DIR):\n",
    "    if not file.endswith(\".json\"):\n",
    "        continue\n",
    "    if master_df is None:\n",
    "        master_df = pd.read_json(os.path.join(DUMP_DIR, file))\n",
    "    else:\n",
    "\n",
    "        tmp = pd.read_json(os.path.join(DUMP_DIR, file))\n",
    "        master_df = pd.concat([master_df, tmp], ignore_index=True)\n",
    "\n",
    "columns = master_df.columns.tolist()\n",
    "drop_dup_by_columns = [i for i in columns if \"clf_report\" not in i]\n",
    "master_df.drop_duplicates(drop_dup_by_columns, inplace=True)\n",
    "\n",
    "INP_COLS = [\"atk_flavor\", \"atk_routine\", \"eps\", \"eps_iter\", \"norm\", \"restarts\", \"verbose\", \"k\", \"n\", \"max_norm\", \"task\", \"N\", \"thresh\"]\n",
    "\n",
    "input_widgets = list()\n",
    "\n",
    "for col in INP_COLS:\n",
    "    print(col, master_df[col].unique())\n",
    "    uniq_vals = master_df[col].fillna(value=-1).unique()\n",
    "    \n",
    "    input_widgets.append(widgets.Dropdown(\n",
    "        options=uniq_vals,\n",
    "        value=uniq_vals[0],\n",
    "        description=col,\n",
    "        disabled=False\n",
    "    ))"
   ]
  },
  {
   "cell_type": "code",
   "execution_count": 5,
   "metadata": {},
   "outputs": [
    {
     "data": {
      "text/plain": [
       "(2700, 25)"
      ]
     },
     "execution_count": 5,
     "metadata": {},
     "output_type": "execute_result"
    }
   ],
   "source": [
    "master_df.shape"
   ]
  },
  {
   "cell_type": "code",
   "execution_count": 38,
   "metadata": {},
   "outputs": [],
   "source": [
    "display_for_inputs = widgets.GridBox(input_widgets, layout=widgets.Layout(grid_template_columns=\"repeat(3, 300px)\"))"
   ]
  },
  {
   "cell_type": "code",
   "execution_count": 39,
   "metadata": {},
   "outputs": [
    {
     "data": {
      "application/vnd.jupyter.widget-view+json": {
       "model_id": "18202474aec94633a100f2be2b57be82",
       "version_major": 2,
       "version_minor": 0
      },
      "text/plain": [
       "GridBox(children=(Dropdown(description='atk_flavor', options=('std_pgd',), value='std_pgd'), Dropdown(descript…"
      ]
     },
     "metadata": {},
     "output_type": "display_data"
    }
   ],
   "source": [
    "display(display_for_inputs)"
   ]
  },
  {
   "cell_type": "code",
   "execution_count": null,
   "metadata": {},
   "outputs": [],
   "source": []
  },
  {
   "cell_type": "code",
   "execution_count": 79,
   "metadata": {},
   "outputs": [],
   "source": [
    "query = {i.description: i.value for i in input_widgets}\n",
    "if query[\"task\"] == \"clf\": query.pop(\"thresh\")\n"
   ]
  },
  {
   "cell_type": "code",
   "execution_count": 82,
   "metadata": {},
   "outputs": [
    {
     "data": {
      "text/plain": [
       "'dist'"
      ]
     },
     "execution_count": 82,
     "metadata": {},
     "output_type": "execute_result"
    }
   ],
   "source": [
    "query[\"task\"]"
   ]
  },
  {
   "cell_type": "code",
   "execution_count": 85,
   "metadata": {},
   "outputs": [
    {
     "data": {
      "text/html": [
       "<div>\n",
       "<style scoped>\n",
       "    .dataframe tbody tr th:only-of-type {\n",
       "        vertical-align: middle;\n",
       "    }\n",
       "\n",
       "    .dataframe tbody tr th {\n",
       "        vertical-align: top;\n",
       "    }\n",
       "\n",
       "    .dataframe thead th {\n",
       "        text-align: right;\n",
       "    }\n",
       "</style>\n",
       "<table border=\"1\" class=\"dataframe\">\n",
       "  <thead>\n",
       "    <tr style=\"text-align: right;\">\n",
       "      <th></th>\n",
       "      <th>atk_flavor</th>\n",
       "      <th>atk_routine</th>\n",
       "      <th>eps</th>\n",
       "      <th>eps_iter</th>\n",
       "      <th>nb_iter</th>\n",
       "      <th>norm</th>\n",
       "      <th>restarts</th>\n",
       "      <th>verbose</th>\n",
       "      <th>k</th>\n",
       "      <th>n</th>\n",
       "      <th>...</th>\n",
       "      <th>tgtname</th>\n",
       "      <th>thresh</th>\n",
       "      <th>adv_clf_report</th>\n",
       "      <th>adv_abs_cm</th>\n",
       "      <th>adv_pct_cm</th>\n",
       "      <th>clf_report</th>\n",
       "      <th>abs_cm</th>\n",
       "      <th>pct_cm</th>\n",
       "      <th>distance_sct_plt</th>\n",
       "      <th>result_dir</th>\n",
       "    </tr>\n",
       "  </thead>\n",
       "  <tbody>\n",
       "    <tr>\n",
       "      <th>12900</th>\n",
       "      <td>std_pgd</td>\n",
       "      <td>my</td>\n",
       "      <td>0.01</td>\n",
       "      <td>0.005</td>\n",
       "      <td>100</td>\n",
       "      <td>2</td>\n",
       "      <td>1</td>\n",
       "      <td>False</td>\n",
       "      <td>50</td>\n",
       "      <td>500</td>\n",
       "      <td>...</td>\n",
       "      <td>normed_actual_distances</td>\n",
       "      <td>inf</td>\n",
       "      <td>{'0': {'precision': 0.9998000359935211, 'recal...</td>\n",
       "      <td>/data/dumps/expC_dist_learner_for_adv_ex/rdm_c...</td>\n",
       "      <td>/data/dumps/expC_dist_learner_for_adv_ex/rdm_c...</td>\n",
       "      <td>{'0': {'precision': 1.0, 'recall': 1.0, 'f1-sc...</td>\n",
       "      <td>/data/dumps/expC_dist_learner_for_adv_ex/rdm_c...</td>\n",
       "      <td>/data/dumps/expC_dist_learner_for_adv_ex/rdm_c...</td>\n",
       "      <td>/data/dumps/expC_dist_learner_for_adv_ex/rdm_c...</td>\n",
       "      <td>/data/dumps/expC_dist_learner_for_adv_ex/rdm_c...</td>\n",
       "    </tr>\n",
       "  </tbody>\n",
       "</table>\n",
       "<p>1 rows × 25 columns</p>\n",
       "</div>"
      ],
      "text/plain": [
       "      atk_flavor atk_routine   eps  eps_iter  nb_iter  norm  restarts  \\\n",
       "12900    std_pgd          my  0.01     0.005      100     2         1   \n",
       "\n",
       "       verbose   k    n  ...                  tgtname  thresh  \\\n",
       "12900    False  50  500  ...  normed_actual_distances     inf   \n",
       "\n",
       "                                          adv_clf_report  \\\n",
       "12900  {'0': {'precision': 0.9998000359935211, 'recal...   \n",
       "\n",
       "                                              adv_abs_cm  \\\n",
       "12900  /data/dumps/expC_dist_learner_for_adv_ex/rdm_c...   \n",
       "\n",
       "                                              adv_pct_cm  \\\n",
       "12900  /data/dumps/expC_dist_learner_for_adv_ex/rdm_c...   \n",
       "\n",
       "                                              clf_report  \\\n",
       "12900  {'0': {'precision': 1.0, 'recall': 1.0, 'f1-sc...   \n",
       "\n",
       "                                                  abs_cm  \\\n",
       "12900  /data/dumps/expC_dist_learner_for_adv_ex/rdm_c...   \n",
       "\n",
       "                                                  pct_cm  \\\n",
       "12900  /data/dumps/expC_dist_learner_for_adv_ex/rdm_c...   \n",
       "\n",
       "                                        distance_sct_plt  \\\n",
       "12900  /data/dumps/expC_dist_learner_for_adv_ex/rdm_c...   \n",
       "\n",
       "                                              result_dir  \n",
       "12900  /data/dumps/expC_dist_learner_for_adv_ex/rdm_c...  \n",
       "\n",
       "[1 rows x 25 columns]"
      ]
     },
     "execution_count": 85,
     "metadata": {},
     "output_type": "execute_result"
    }
   ],
   "source": [
    "response_df = master_df[(master_df[list(query.keys())] == pd.Series(query)).all(1)]\n",
    "response_df"
   ]
  },
  {
   "cell_type": "code",
   "execution_count": 84,
   "metadata": {},
   "outputs": [
    {
     "data": {
      "image/png": "[encoded data removed]",
      "text/plain": [
       "<Figure size 864x1152 with 9 Axes>"
      ]
     },
     "metadata": {
      "needs_background": "light"
     },
     "output_type": "display_data"
    }
   ],
   "source": [
    "disp_query_plot(query, response_df)"
   ]
  },
  {
   "cell_type": "code",
   "execution_count": 66,
   "metadata": {},
   "outputs": [
    {
     "data": {
      "text/plain": [
       "'/data/dumps/expC_dist_learner_for_adv_ex/rdm_concspheres_test/rdm_concspheres_k50n500_noninfdist/1/attack_perf/atk_flavor=std_pgd,atk_routine=my,eps=0.01,eps_iter=0.005,nb_iter=100,norm=2,restarts=1,verbose=False,task=dist/pct_cm_plots_test/pct_cm_test_th=inf.csv'"
      ]
     },
     "execution_count": 66,
     "metadata": {},
     "output_type": "execute_result"
    }
   ],
   "source": [
    "response_df.pct_cm.tolist()[0]"
   ]
  },
  {
   "cell_type": "code",
   "execution_count": 29,
   "metadata": {},
   "outputs": [
    {
     "data": {
      "text/html": [
       "<div>\n",
       "<style scoped>\n",
       "    .dataframe tbody tr th:only-of-type {\n",
       "        vertical-align: middle;\n",
       "    }\n",
       "\n",
       "    .dataframe tbody tr th {\n",
       "        vertical-align: top;\n",
       "    }\n",
       "\n",
       "    .dataframe thead th {\n",
       "        text-align: right;\n",
       "    }\n",
       "</style>\n",
       "<table border=\"1\" class=\"dataframe\">\n",
       "  <thead>\n",
       "    <tr style=\"text-align: right;\">\n",
       "      <th></th>\n",
       "      <th>atk_flavor</th>\n",
       "      <th>atk_routine</th>\n",
       "      <th>eps</th>\n",
       "      <th>eps_iter</th>\n",
       "      <th>nb_iter</th>\n",
       "      <th>norm</th>\n",
       "      <th>restarts</th>\n",
       "      <th>verbose</th>\n",
       "      <th>k</th>\n",
       "      <th>n</th>\n",
       "      <th>...</th>\n",
       "      <th>tgtname</th>\n",
       "      <th>thresh</th>\n",
       "      <th>adv_clf_report</th>\n",
       "      <th>adv_abs_cm</th>\n",
       "      <th>adv_pct_cm</th>\n",
       "      <th>clf_report</th>\n",
       "      <th>abs_cm</th>\n",
       "      <th>pct_cm</th>\n",
       "      <th>distance_sct_plt</th>\n",
       "      <th>result_dir</th>\n",
       "    </tr>\n",
       "  </thead>\n",
       "  <tbody>\n",
       "    <tr>\n",
       "      <th>100</th>\n",
       "      <td>std_pgd</td>\n",
       "      <td>my</td>\n",
       "      <td>0.01</td>\n",
       "      <td>0.005</td>\n",
       "      <td>100</td>\n",
       "      <td>2</td>\n",
       "      <td>1</td>\n",
       "      <td>False</td>\n",
       "      <td>2</td>\n",
       "      <td>500</td>\n",
       "      <td>...</td>\n",
       "      <td>normed_actual_distances</td>\n",
       "      <td>inf</td>\n",
       "      <td>{'0': {'precision': 1.0, 'recall': 1.0, 'f1-sc...</td>\n",
       "      <td>/data/dumps/expC_dist_learner_for_adv_ex/rdm_c...</td>\n",
       "      <td>/data/dumps/expC_dist_learner_for_adv_ex/rdm_c...</td>\n",
       "      <td>{'0': {'precision': 1.0, 'recall': 1.0, 'f1-sc...</td>\n",
       "      <td>/data/dumps/expC_dist_learner_for_adv_ex/rdm_c...</td>\n",
       "      <td>/data/dumps/expC_dist_learner_for_adv_ex/rdm_c...</td>\n",
       "      <td>/data/dumps/expC_dist_learner_for_adv_ex/rdm_c...</td>\n",
       "      <td>/data/dumps/expC_dist_learner_for_adv_ex/rdm_c...</td>\n",
       "    </tr>\n",
       "    <tr>\n",
       "      <th>101</th>\n",
       "      <td>std_pgd</td>\n",
       "      <td>my</td>\n",
       "      <td>0.01</td>\n",
       "      <td>0.005</td>\n",
       "      <td>100</td>\n",
       "      <td>2</td>\n",
       "      <td>1</td>\n",
       "      <td>False</td>\n",
       "      <td>2</td>\n",
       "      <td>500</td>\n",
       "      <td>...</td>\n",
       "      <td>normed_actual_distances</td>\n",
       "      <td>inf</td>\n",
       "      <td>{'0': {'precision': 1.0, 'recall': 1.0, 'f1-sc...</td>\n",
       "      <td>/data/dumps/expC_dist_learner_for_adv_ex/rdm_c...</td>\n",
       "      <td>/data/dumps/expC_dist_learner_for_adv_ex/rdm_c...</td>\n",
       "      <td>{'0': {'precision': 1.0, 'recall': 1.0, 'f1-sc...</td>\n",
       "      <td>/data/dumps/expC_dist_learner_for_adv_ex/rdm_c...</td>\n",
       "      <td>/data/dumps/expC_dist_learner_for_adv_ex/rdm_c...</td>\n",
       "      <td>/data/dumps/expC_dist_learner_for_adv_ex/rdm_c...</td>\n",
       "      <td>/data/dumps/expC_dist_learner_for_adv_ex/rdm_c...</td>\n",
       "    </tr>\n",
       "    <tr>\n",
       "      <th>102</th>\n",
       "      <td>std_pgd</td>\n",
       "      <td>my</td>\n",
       "      <td>0.01</td>\n",
       "      <td>0.005</td>\n",
       "      <td>100</td>\n",
       "      <td>2</td>\n",
       "      <td>1</td>\n",
       "      <td>False</td>\n",
       "      <td>2</td>\n",
       "      <td>500</td>\n",
       "      <td>...</td>\n",
       "      <td>normed_actual_distances</td>\n",
       "      <td>inf</td>\n",
       "      <td>{'0': {'precision': 1.0, 'recall': 1.0, 'f1-sc...</td>\n",
       "      <td>/data/dumps/expC_dist_learner_for_adv_ex/rdm_c...</td>\n",
       "      <td>/data/dumps/expC_dist_learner_for_adv_ex/rdm_c...</td>\n",
       "      <td>{'0': {'precision': 1.0, 'recall': 1.0, 'f1-sc...</td>\n",
       "      <td>/data/dumps/expC_dist_learner_for_adv_ex/rdm_c...</td>\n",
       "      <td>/data/dumps/expC_dist_learner_for_adv_ex/rdm_c...</td>\n",
       "      <td>/data/dumps/expC_dist_learner_for_adv_ex/rdm_c...</td>\n",
       "      <td>/data/dumps/expC_dist_learner_for_adv_ex/rdm_c...</td>\n",
       "    </tr>\n",
       "    <tr>\n",
       "      <th>103</th>\n",
       "      <td>std_pgd</td>\n",
       "      <td>my</td>\n",
       "      <td>0.01</td>\n",
       "      <td>0.005</td>\n",
       "      <td>100</td>\n",
       "      <td>2</td>\n",
       "      <td>1</td>\n",
       "      <td>False</td>\n",
       "      <td>2</td>\n",
       "      <td>500</td>\n",
       "      <td>...</td>\n",
       "      <td>normed_actual_distances</td>\n",
       "      <td>inf</td>\n",
       "      <td>{'0': {'precision': 1.0, 'recall': 1.0, 'f1-sc...</td>\n",
       "      <td>/data/dumps/expC_dist_learner_for_adv_ex/rdm_c...</td>\n",
       "      <td>/data/dumps/expC_dist_learner_for_adv_ex/rdm_c...</td>\n",
       "      <td>{'0': {'precision': 1.0, 'recall': 1.0, 'f1-sc...</td>\n",
       "      <td>/data/dumps/expC_dist_learner_for_adv_ex/rdm_c...</td>\n",
       "      <td>/data/dumps/expC_dist_learner_for_adv_ex/rdm_c...</td>\n",
       "      <td>/data/dumps/expC_dist_learner_for_adv_ex/rdm_c...</td>\n",
       "      <td>/data/dumps/expC_dist_learner_for_adv_ex/rdm_c...</td>\n",
       "    </tr>\n",
       "    <tr>\n",
       "      <th>104</th>\n",
       "      <td>std_pgd</td>\n",
       "      <td>my</td>\n",
       "      <td>0.01</td>\n",
       "      <td>0.005</td>\n",
       "      <td>100</td>\n",
       "      <td>2</td>\n",
       "      <td>1</td>\n",
       "      <td>False</td>\n",
       "      <td>2</td>\n",
       "      <td>500</td>\n",
       "      <td>...</td>\n",
       "      <td>normed_actual_distances</td>\n",
       "      <td>inf</td>\n",
       "      <td>{'0': {'precision': 1.0, 'recall': 1.0, 'f1-sc...</td>\n",
       "      <td>/data/dumps/expC_dist_learner_for_adv_ex/rdm_c...</td>\n",
       "      <td>/data/dumps/expC_dist_learner_for_adv_ex/rdm_c...</td>\n",
       "      <td>{'0': {'precision': 1.0, 'recall': 1.0, 'f1-sc...</td>\n",
       "      <td>/data/dumps/expC_dist_learner_for_adv_ex/rdm_c...</td>\n",
       "      <td>/data/dumps/expC_dist_learner_for_adv_ex/rdm_c...</td>\n",
       "      <td>/data/dumps/expC_dist_learner_for_adv_ex/rdm_c...</td>\n",
       "      <td>/data/dumps/expC_dist_learner_for_adv_ex/rdm_c...</td>\n",
       "    </tr>\n",
       "    <tr>\n",
       "      <th>...</th>\n",
       "      <td>...</td>\n",
       "      <td>...</td>\n",
       "      <td>...</td>\n",
       "      <td>...</td>\n",
       "      <td>...</td>\n",
       "      <td>...</td>\n",
       "      <td>...</td>\n",
       "      <td>...</td>\n",
       "      <td>...</td>\n",
       "      <td>...</td>\n",
       "      <td>...</td>\n",
       "      <td>...</td>\n",
       "      <td>...</td>\n",
       "      <td>...</td>\n",
       "      <td>...</td>\n",
       "      <td>...</td>\n",
       "      <td>...</td>\n",
       "      <td>...</td>\n",
       "      <td>...</td>\n",
       "      <td>...</td>\n",
       "      <td>...</td>\n",
       "    </tr>\n",
       "    <tr>\n",
       "      <th>38539</th>\n",
       "      <td>std_pgd</td>\n",
       "      <td>my</td>\n",
       "      <td>0.10</td>\n",
       "      <td>0.009</td>\n",
       "      <td>100</td>\n",
       "      <td>2</td>\n",
       "      <td>1</td>\n",
       "      <td>False</td>\n",
       "      <td>500</td>\n",
       "      <td>500</td>\n",
       "      <td>...</td>\n",
       "      <td>normed_actual_distances</td>\n",
       "      <td>0.15</td>\n",
       "      <td>{'0': {'precision': 0.9626609020339981, 'recal...</td>\n",
       "      <td>/data/dumps/expC_dist_learner_for_adv_ex/rdm_c...</td>\n",
       "      <td>/data/dumps/expC_dist_learner_for_adv_ex/rdm_c...</td>\n",
       "      <td>None</td>\n",
       "      <td>/data/dumps/expC_dist_learner_for_adv_ex/rdm_c...</td>\n",
       "      <td>/data/dumps/expC_dist_learner_for_adv_ex/rdm_c...</td>\n",
       "      <td>/data/dumps/expC_dist_learner_for_adv_ex/rdm_c...</td>\n",
       "      <td>/data/dumps/expC_dist_learner_for_adv_ex/rdm_c...</td>\n",
       "    </tr>\n",
       "    <tr>\n",
       "      <th>38554</th>\n",
       "      <td>std_pgd</td>\n",
       "      <td>my</td>\n",
       "      <td>0.10</td>\n",
       "      <td>0.009</td>\n",
       "      <td>100</td>\n",
       "      <td>2</td>\n",
       "      <td>1</td>\n",
       "      <td>False</td>\n",
       "      <td>500</td>\n",
       "      <td>500</td>\n",
       "      <td>...</td>\n",
       "      <td>normed_actual_distances</td>\n",
       "      <td>0.15</td>\n",
       "      <td>{'0': {'precision': 0.9626609020339981, 'recal...</td>\n",
       "      <td>/data/dumps/expC_dist_learner_for_adv_ex/rdm_c...</td>\n",
       "      <td>/data/dumps/expC_dist_learner_for_adv_ex/rdm_c...</td>\n",
       "      <td>None</td>\n",
       "      <td>/data/dumps/expC_dist_learner_for_adv_ex/rdm_c...</td>\n",
       "      <td>/data/dumps/expC_dist_learner_for_adv_ex/rdm_c...</td>\n",
       "      <td>/data/dumps/expC_dist_learner_for_adv_ex/rdm_c...</td>\n",
       "      <td>/data/dumps/expC_dist_learner_for_adv_ex/rdm_c...</td>\n",
       "    </tr>\n",
       "    <tr>\n",
       "      <th>38569</th>\n",
       "      <td>std_pgd</td>\n",
       "      <td>my</td>\n",
       "      <td>0.10</td>\n",
       "      <td>0.009</td>\n",
       "      <td>100</td>\n",
       "      <td>2</td>\n",
       "      <td>1</td>\n",
       "      <td>False</td>\n",
       "      <td>500</td>\n",
       "      <td>500</td>\n",
       "      <td>...</td>\n",
       "      <td>normed_actual_distances</td>\n",
       "      <td>0.15</td>\n",
       "      <td>{'0': {'precision': 0.9626609020339981, 'recal...</td>\n",
       "      <td>/data/dumps/expC_dist_learner_for_adv_ex/rdm_c...</td>\n",
       "      <td>/data/dumps/expC_dist_learner_for_adv_ex/rdm_c...</td>\n",
       "      <td>None</td>\n",
       "      <td>/data/dumps/expC_dist_learner_for_adv_ex/rdm_c...</td>\n",
       "      <td>/data/dumps/expC_dist_learner_for_adv_ex/rdm_c...</td>\n",
       "      <td>/data/dumps/expC_dist_learner_for_adv_ex/rdm_c...</td>\n",
       "      <td>/data/dumps/expC_dist_learner_for_adv_ex/rdm_c...</td>\n",
       "    </tr>\n",
       "    <tr>\n",
       "      <th>38584</th>\n",
       "      <td>std_pgd</td>\n",
       "      <td>my</td>\n",
       "      <td>0.10</td>\n",
       "      <td>0.009</td>\n",
       "      <td>100</td>\n",
       "      <td>2</td>\n",
       "      <td>1</td>\n",
       "      <td>False</td>\n",
       "      <td>500</td>\n",
       "      <td>500</td>\n",
       "      <td>...</td>\n",
       "      <td>normed_actual_distances</td>\n",
       "      <td>0.15</td>\n",
       "      <td>{'0': {'precision': 0.9626609020339981, 'recal...</td>\n",
       "      <td>/data/dumps/expC_dist_learner_for_adv_ex/rdm_c...</td>\n",
       "      <td>/data/dumps/expC_dist_learner_for_adv_ex/rdm_c...</td>\n",
       "      <td>None</td>\n",
       "      <td>/data/dumps/expC_dist_learner_for_adv_ex/rdm_c...</td>\n",
       "      <td>/data/dumps/expC_dist_learner_for_adv_ex/rdm_c...</td>\n",
       "      <td>/data/dumps/expC_dist_learner_for_adv_ex/rdm_c...</td>\n",
       "      <td>/data/dumps/expC_dist_learner_for_adv_ex/rdm_c...</td>\n",
       "    </tr>\n",
       "    <tr>\n",
       "      <th>38599</th>\n",
       "      <td>std_pgd</td>\n",
       "      <td>my</td>\n",
       "      <td>0.10</td>\n",
       "      <td>0.009</td>\n",
       "      <td>100</td>\n",
       "      <td>2</td>\n",
       "      <td>1</td>\n",
       "      <td>False</td>\n",
       "      <td>500</td>\n",
       "      <td>500</td>\n",
       "      <td>...</td>\n",
       "      <td>normed_actual_distances</td>\n",
       "      <td>0.15</td>\n",
       "      <td>{'0': {'precision': 0.9626609020339981, 'recal...</td>\n",
       "      <td>/data/dumps/expC_dist_learner_for_adv_ex/rdm_c...</td>\n",
       "      <td>/data/dumps/expC_dist_learner_for_adv_ex/rdm_c...</td>\n",
       "      <td>None</td>\n",
       "      <td>/data/dumps/expC_dist_learner_for_adv_ex/rdm_c...</td>\n",
       "      <td>/data/dumps/expC_dist_learner_for_adv_ex/rdm_c...</td>\n",
       "      <td>/data/dumps/expC_dist_learner_for_adv_ex/rdm_c...</td>\n",
       "      <td>/data/dumps/expC_dist_learner_for_adv_ex/rdm_c...</td>\n",
       "    </tr>\n",
       "  </tbody>\n",
       "</table>\n",
       "<p>4800 rows × 25 columns</p>\n",
       "</div>"
      ],
      "text/plain": [
       "      atk_flavor atk_routine   eps  eps_iter  nb_iter  norm  restarts  \\\n",
       "100      std_pgd          my  0.01     0.005      100     2         1   \n",
       "101      std_pgd          my  0.01     0.005      100     2         1   \n",
       "102      std_pgd          my  0.01     0.005      100     2         1   \n",
       "103      std_pgd          my  0.01     0.005      100     2         1   \n",
       "104      std_pgd          my  0.01     0.005      100     2         1   \n",
       "...          ...         ...   ...       ...      ...   ...       ...   \n",
       "38539    std_pgd          my  0.10     0.009      100     2         1   \n",
       "38554    std_pgd          my  0.10     0.009      100     2         1   \n",
       "38569    std_pgd          my  0.10     0.009      100     2         1   \n",
       "38584    std_pgd          my  0.10     0.009      100     2         1   \n",
       "38599    std_pgd          my  0.10     0.009      100     2         1   \n",
       "\n",
       "       verbose    k    n  ...                  tgtname  thresh  \\\n",
       "100      False    2  500  ...  normed_actual_distances     inf   \n",
       "101      False    2  500  ...  normed_actual_distances     inf   \n",
       "102      False    2  500  ...  normed_actual_distances     inf   \n",
       "103      False    2  500  ...  normed_actual_distances     inf   \n",
       "104      False    2  500  ...  normed_actual_distances     inf   \n",
       "...        ...  ...  ...  ...                      ...     ...   \n",
       "38539    False  500  500  ...  normed_actual_distances    0.15   \n",
       "38554    False  500  500  ...  normed_actual_distances    0.15   \n",
       "38569    False  500  500  ...  normed_actual_distances    0.15   \n",
       "38584    False  500  500  ...  normed_actual_distances    0.15   \n",
       "38599    False  500  500  ...  normed_actual_distances    0.15   \n",
       "\n",
       "                                          adv_clf_report  \\\n",
       "100    {'0': {'precision': 1.0, 'recall': 1.0, 'f1-sc...   \n",
       "101    {'0': {'precision': 1.0, 'recall': 1.0, 'f1-sc...   \n",
       "102    {'0': {'precision': 1.0, 'recall': 1.0, 'f1-sc...   \n",
       "103    {'0': {'precision': 1.0, 'recall': 1.0, 'f1-sc...   \n",
       "104    {'0': {'precision': 1.0, 'recall': 1.0, 'f1-sc...   \n",
       "...                                                  ...   \n",
       "38539  {'0': {'precision': 0.9626609020339981, 'recal...   \n",
       "38554  {'0': {'precision': 0.9626609020339981, 'recal...   \n",
       "38569  {'0': {'precision': 0.9626609020339981, 'recal...   \n",
       "38584  {'0': {'precision': 0.9626609020339981, 'recal...   \n",
       "38599  {'0': {'precision': 0.9626609020339981, 'recal...   \n",
       "\n",
       "                                              adv_abs_cm  \\\n",
       "100    /data/dumps/expC_dist_learner_for_adv_ex/rdm_c...   \n",
       "101    /data/dumps/expC_dist_learner_for_adv_ex/rdm_c...   \n",
       "102    /data/dumps/expC_dist_learner_for_adv_ex/rdm_c...   \n",
       "103    /data/dumps/expC_dist_learner_for_adv_ex/rdm_c...   \n",
       "104    /data/dumps/expC_dist_learner_for_adv_ex/rdm_c...   \n",
       "...                                                  ...   \n",
       "38539  /data/dumps/expC_dist_learner_for_adv_ex/rdm_c...   \n",
       "38554  /data/dumps/expC_dist_learner_for_adv_ex/rdm_c...   \n",
       "38569  /data/dumps/expC_dist_learner_for_adv_ex/rdm_c...   \n",
       "38584  /data/dumps/expC_dist_learner_for_adv_ex/rdm_c...   \n",
       "38599  /data/dumps/expC_dist_learner_for_adv_ex/rdm_c...   \n",
       "\n",
       "                                              adv_pct_cm  \\\n",
       "100    /data/dumps/expC_dist_learner_for_adv_ex/rdm_c...   \n",
       "101    /data/dumps/expC_dist_learner_for_adv_ex/rdm_c...   \n",
       "102    /data/dumps/expC_dist_learner_for_adv_ex/rdm_c...   \n",
       "103    /data/dumps/expC_dist_learner_for_adv_ex/rdm_c...   \n",
       "104    /data/dumps/expC_dist_learner_for_adv_ex/rdm_c...   \n",
       "...                                                  ...   \n",
       "38539  /data/dumps/expC_dist_learner_for_adv_ex/rdm_c...   \n",
       "38554  /data/dumps/expC_dist_learner_for_adv_ex/rdm_c...   \n",
       "38569  /data/dumps/expC_dist_learner_for_adv_ex/rdm_c...   \n",
       "38584  /data/dumps/expC_dist_learner_for_adv_ex/rdm_c...   \n",
       "38599  /data/dumps/expC_dist_learner_for_adv_ex/rdm_c...   \n",
       "\n",
       "                                              clf_report  \\\n",
       "100    {'0': {'precision': 1.0, 'recall': 1.0, 'f1-sc...   \n",
       "101    {'0': {'precision': 1.0, 'recall': 1.0, 'f1-sc...   \n",
       "102    {'0': {'precision': 1.0, 'recall': 1.0, 'f1-sc...   \n",
       "103    {'0': {'precision': 1.0, 'recall': 1.0, 'f1-sc...   \n",
       "104    {'0': {'precision': 1.0, 'recall': 1.0, 'f1-sc...   \n",
       "...                                                  ...   \n",
       "38539                                               None   \n",
       "38554                                               None   \n",
       "38569                                               None   \n",
       "38584                                               None   \n",
       "38599                                               None   \n",
       "\n",
       "                                                  abs_cm  \\\n",
       "100    /data/dumps/expC_dist_learner_for_adv_ex/rdm_c...   \n",
       "101    /data/dumps/expC_dist_learner_for_adv_ex/rdm_c...   \n",
       "102    /data/dumps/expC_dist_learner_for_adv_ex/rdm_c...   \n",
       "103    /data/dumps/expC_dist_learner_for_adv_ex/rdm_c...   \n",
       "104    /data/dumps/expC_dist_learner_for_adv_ex/rdm_c...   \n",
       "...                                                  ...   \n",
       "38539  /data/dumps/expC_dist_learner_for_adv_ex/rdm_c...   \n",
       "38554  /data/dumps/expC_dist_learner_for_adv_ex/rdm_c...   \n",
       "38569  /data/dumps/expC_dist_learner_for_adv_ex/rdm_c...   \n",
       "38584  /data/dumps/expC_dist_learner_for_adv_ex/rdm_c...   \n",
       "38599  /data/dumps/expC_dist_learner_for_adv_ex/rdm_c...   \n",
       "\n",
       "                                                  pct_cm  \\\n",
       "100    /data/dumps/expC_dist_learner_for_adv_ex/rdm_c...   \n",
       "101    /data/dumps/expC_dist_learner_for_adv_ex/rdm_c...   \n",
       "102    /data/dumps/expC_dist_learner_for_adv_ex/rdm_c...   \n",
       "103    /data/dumps/expC_dist_learner_for_adv_ex/rdm_c...   \n",
       "104    /data/dumps/expC_dist_learner_for_adv_ex/rdm_c...   \n",
       "...                                                  ...   \n",
       "38539  /data/dumps/expC_dist_learner_for_adv_ex/rdm_c...   \n",
       "38554  /data/dumps/expC_dist_learner_for_adv_ex/rdm_c...   \n",
       "38569  /data/dumps/expC_dist_learner_for_adv_ex/rdm_c...   \n",
       "38584  /data/dumps/expC_dist_learner_for_adv_ex/rdm_c...   \n",
       "38599  /data/dumps/expC_dist_learner_for_adv_ex/rdm_c...   \n",
       "\n",
       "                                        distance_sct_plt  \\\n",
       "100    /data/dumps/expC_dist_learner_for_adv_ex/rdm_c...   \n",
       "101    /data/dumps/expC_dist_learner_for_adv_ex/rdm_c...   \n",
       "102    /data/dumps/expC_dist_learner_for_adv_ex/rdm_c...   \n",
       "103    /data/dumps/expC_dist_learner_for_adv_ex/rdm_c...   \n",
       "104    /data/dumps/expC_dist_learner_for_adv_ex/rdm_c...   \n",
       "...                                                  ...   \n",
       "38539  /data/dumps/expC_dist_learner_for_adv_ex/rdm_c...   \n",
       "38554  /data/dumps/expC_dist_learner_for_adv_ex/rdm_c...   \n",
       "38569  /data/dumps/expC_dist_learner_for_adv_ex/rdm_c...   \n",
       "38584  /data/dumps/expC_dist_learner_for_adv_ex/rdm_c...   \n",
       "38599  /data/dumps/expC_dist_learner_for_adv_ex/rdm_c...   \n",
       "\n",
       "                                              result_dir  \n",
       "100    /data/dumps/expC_dist_learner_for_adv_ex/rdm_c...  \n",
       "101    /data/dumps/expC_dist_learner_for_adv_ex/rdm_c...  \n",
       "102    /data/dumps/expC_dist_learner_for_adv_ex/rdm_c...  \n",
       "103    /data/dumps/expC_dist_learner_for_adv_ex/rdm_c...  \n",
       "104    /data/dumps/expC_dist_learner_for_adv_ex/rdm_c...  \n",
       "...                                                  ...  \n",
       "38539  /data/dumps/expC_dist_learner_for_adv_ex/rdm_c...  \n",
       "38554  /data/dumps/expC_dist_learner_for_adv_ex/rdm_c...  \n",
       "38569  /data/dumps/expC_dist_learner_for_adv_ex/rdm_c...  \n",
       "38584  /data/dumps/expC_dist_learner_for_adv_ex/rdm_c...  \n",
       "38599  /data/dumps/expC_dist_learner_for_adv_ex/rdm_c...  \n",
       "\n",
       "[4800 rows x 25 columns]"
      ]
     },
     "execution_count": 29,
     "metadata": {},
     "output_type": "execute_result"
    }
   ],
   "source": [
    "master_df[master_df[\"thresh\"] >= 0.15]"
   ]
  },
  {
   "cell_type": "code",
   "execution_count": 10,
   "metadata": {},
   "outputs": [
    {
     "data": {
      "image/png": "[encoded data removed]",
      "text/plain": [
       "<Figure size 432x288 with 1 Axes>"
      ]
     },
     "metadata": {
      "needs_background": "light"
     },
     "output_type": "display_data"
    }
   ],
   "source": [
    "fig = plt.figure()\n",
    "plt.title(\"no fig possible\")\n",
    "fig.show()"
   ]
  },
  {
   "cell_type": "code",
   "execution_count": null,
   "metadata": {},
   "outputs": [],
   "source": []
  }
 ],
 "metadata": {
  "kernelspec": {
   "display_name": "Python 3",
   "language": "python",
   "name": "python3"
  },
  "language_info": {
   "codemirror_mode": {
    "name": "ipython",
    "version": 3
   },
   "file_extension": ".py",
   "mimetype": "text/x-python",
   "name": "python",
   "nbconvert_exporter": "python",
   "pygments_lexer": "ipython3",
   "version": "3.6.9"
  }
 },
 "nbformat": 4,
 "nbformat_minor": 4
}
