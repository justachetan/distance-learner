{
 "cells": [
  {
   "cell_type": "code",
   "execution_count": 1,
   "metadata": {},
   "outputs": [],
   "source": [
    "import os\n",
    "import json\n",
    "import pickle\n",
    "\n",
    "import numpy as np\n",
    "import pandas as pd\n",
    "import torch\n",
    "\n",
    "import matplotlib.pyplot as plt\n",
    "import seaborn as sns"
   ]
  },
  {
   "cell_type": "code",
   "execution_count": 26,
   "metadata": {},
   "outputs": [],
   "source": [
    "DUMP_DIR_1 = \"/data/dumps/expC_dist_learner_for_adv_ex/rdm_concspheres_test/rdm_concspheres_k50n500_noninfdist_moreoffmfldv2/1/\"\n",
    "DUMP_DIR_2 = \"/data/dumps/expC_dist_learner_for_adv_ex/rdm_concspheres_test/rdm_concspheres_k50n500_noninfdist_moreoffmfldv2_bs2048/1/\"\n",
    "\n",
    "use_split = \"val\"\n",
    "\n",
    "logits_1_fn = os.path.join(DUMP_DIR_1, \"logits\", use_split, \"logits.pt\")\n",
    "targets_1_fn = os.path.join(DUMP_DIR_1, \"logits\", use_split, \"targets.pt\")\n",
    "config_1_fn = os.path.join(DUMP_DIR_1, \"config.json\")\n",
    "\n",
    "logits_2_fn = os.path.join(DUMP_DIR_2, \"logits\", use_split, \"logits.pt\")\n",
    "targets_2_fn = os.path.join(DUMP_DIR_2, \"logits\", use_split, \"targets.pt\")\n",
    "config_2_fn = os.path.join(DUMP_DIR_2, \"config.json\")\n"
   ]
  },
  {
   "cell_type": "code",
   "execution_count": 27,
   "metadata": {},
   "outputs": [],
   "source": [
    "logits_1 = torch.load(logits_1_fn)\n",
    "targets_1 = torch.load(targets_1_fn)\n",
    "with open(config_1_fn) as f:\n",
    "    config_1 = json.load(f)\n",
    "dt_1 = config_1[\"data\"][\"data_tag\"]\n",
    "    \n",
    "    \n",
    "logits_2 = torch.load(logits_2_fn)\n",
    "targets_2 = torch.load(targets_2_fn)\n",
    "with open(config_2_fn) as f:\n",
    "    config_2 = json.load(f)\n",
    "dt_2 = config_2[\"data\"][\"data_tag\"]\n",
    "\n"
   ]
  },
  {
   "cell_type": "code",
   "execution_count": 28,
   "metadata": {},
   "outputs": [],
   "source": [
    "settings = {\n",
    "    dt_1: {\n",
    "        \"logits\": logits_1,\n",
    "        \"targets\": targets_1,\n",
    "        \"label\": \"v2\"\n",
    "    },\n",
    "    dt_2: {\n",
    "        \"logits\": logits_2,\n",
    "        \"targets\": targets_2,\n",
    "        \"label\": \"v2-2048\"\n",
    "    }\n",
    "}"
   ]
  },
  {
   "cell_type": "code",
   "execution_count": null,
   "metadata": {},
   "outputs": [],
   "source": [
    "\n"
   ]
  },
  {
   "cell_type": "code",
   "execution_count": 29,
   "metadata": {},
   "outputs": [
    {
     "data": {
      "image/png": "[encoded data removed]",
      "text/plain": [
       "<Figure size 432x288 with 1 Axes>"
      ]
     },
     "metadata": {
      "needs_background": "light"
     },
     "output_type": "display_data"
    }
   ],
   "source": [
    "plt.figure()\n",
    "\n",
    "bincenters = np.round(np.arange(0.01, 0.11, 0.01), 2)\n",
    "w=0.35\n",
    "si = 0\n",
    "\n",
    "data = list()\n",
    "\n",
    "for sett in settings:\n",
    "    setting = settings[sett]\n",
    "    logits = setting[\"logits\"]\n",
    "    targets = setting[\"targets\"]\n",
    "    diff = np.linalg.norm(logits - targets, axis=1, ord=2)\n",
    "    gt_distances = torch.min(targets, dim=1)[0]\n",
    "    \n",
    "    \n",
    "\n",
    "    x_ticks = np.round(np.arange(0.01, 0.11, 0.01), 2)\n",
    "    \n",
    "    y_vals = np.zeros(x_ticks.shape[0])\n",
    "    y_err = np.zeros(x_ticks.shape[0])\n",
    "    for i in range(x_ticks.shape[0]):\n",
    "        lvalue = x_ticks[i - 1]\n",
    "        rvalue = x_ticks[i]\n",
    "        if i == 0:\n",
    "            lvalue = 0\n",
    "        in_range_diffs = diff[(gt_distances > lvalue) & (gt_distances < rvalue)]\n",
    "        for j in range(in_range_diffs.shape[0]):\n",
    "            data.append([x_ticks[i], in_range_diffs[j], settings[sett][\"label\"]])\n",
    "        \n",
    "        y_vals[i] = np.mean(in_range_diffs)\n",
    "        y_err[i] = np.std(in_range_diffs)\n",
    "    \n",
    "    \n",
    "    plt.bar(x=np.arange(x_ticks.shape[0]) + (si * w), height=y_vals.tolist(), yerr=y_err, width=w, label=settings[sett][\"label\"])\n",
    "    \n",
    "    si+=1\n",
    "    \n",
    "plt.xticks(ticks=np.arange(x_ticks.shape[0]), labels=x_ticks)\n",
    "plt.legend()\n",
    "plt.show()\n",
    "#     plt.bar()\n",
    "    "
   ]
  },
  {
   "cell_type": "code",
   "execution_count": 25,
   "metadata": {},
   "outputs": [
    {
     "data": {
      "text/html": [
       "<div>\n",
       "<style scoped>\n",
       "    .dataframe tbody tr th:only-of-type {\n",
       "        vertical-align: middle;\n",
       "    }\n",
       "\n",
       "    .dataframe tbody tr th {\n",
       "        vertical-align: top;\n",
       "    }\n",
       "\n",
       "    .dataframe thead th {\n",
       "        text-align: right;\n",
       "    }\n",
       "</style>\n",
       "<table border=\"1\" class=\"dataframe\">\n",
       "  <thead>\n",
       "    <tr style=\"text-align: right;\">\n",
       "      <th></th>\n",
       "      <th>eps</th>\n",
       "      <th>diff</th>\n",
       "      <th>run</th>\n",
       "    </tr>\n",
       "  </thead>\n",
       "  <tbody>\n",
       "    <tr>\n",
       "      <th>0</th>\n",
       "      <td>0.01</td>\n",
       "      <td>0.000663</td>\n",
       "      <td>v3-2048</td>\n",
       "    </tr>\n",
       "    <tr>\n",
       "      <th>1</th>\n",
       "      <td>0.01</td>\n",
       "      <td>0.000205</td>\n",
       "      <td>v3-2048</td>\n",
       "    </tr>\n",
       "    <tr>\n",
       "      <th>2</th>\n",
       "      <td>0.01</td>\n",
       "      <td>0.000216</td>\n",
       "      <td>v3-2048</td>\n",
       "    </tr>\n",
       "    <tr>\n",
       "      <th>3</th>\n",
       "      <td>0.01</td>\n",
       "      <td>0.000617</td>\n",
       "      <td>v3-2048</td>\n",
       "    </tr>\n",
       "    <tr>\n",
       "      <th>4</th>\n",
       "      <td>0.01</td>\n",
       "      <td>0.000010</td>\n",
       "      <td>v3-2048</td>\n",
       "    </tr>\n",
       "    <tr>\n",
       "      <th>...</th>\n",
       "      <td>...</td>\n",
       "      <td>...</td>\n",
       "      <td>...</td>\n",
       "    </tr>\n",
       "    <tr>\n",
       "      <th>137571</th>\n",
       "      <td>0.10</td>\n",
       "      <td>0.004360</td>\n",
       "      <td>v3-2048</td>\n",
       "    </tr>\n",
       "    <tr>\n",
       "      <th>137572</th>\n",
       "      <td>0.10</td>\n",
       "      <td>0.000028</td>\n",
       "      <td>v3-2048</td>\n",
       "    </tr>\n",
       "    <tr>\n",
       "      <th>137573</th>\n",
       "      <td>0.10</td>\n",
       "      <td>0.001265</td>\n",
       "      <td>v3-2048</td>\n",
       "    </tr>\n",
       "    <tr>\n",
       "      <th>137574</th>\n",
       "      <td>0.10</td>\n",
       "      <td>0.002793</td>\n",
       "      <td>v3-2048</td>\n",
       "    </tr>\n",
       "    <tr>\n",
       "      <th>137575</th>\n",
       "      <td>0.10</td>\n",
       "      <td>0.001929</td>\n",
       "      <td>v3-2048</td>\n",
       "    </tr>\n",
       "  </tbody>\n",
       "</table>\n",
       "<p>137576 rows × 3 columns</p>\n",
       "</div>"
      ],
      "text/plain": [
       "         eps      diff      run\n",
       "0       0.01  0.000663  v3-2048\n",
       "1       0.01  0.000205  v3-2048\n",
       "2       0.01  0.000216  v3-2048\n",
       "3       0.01  0.000617  v3-2048\n",
       "4       0.01  0.000010  v3-2048\n",
       "...      ...       ...      ...\n",
       "137571  0.10  0.004360  v3-2048\n",
       "137572  0.10  0.000028  v3-2048\n",
       "137573  0.10  0.001265  v3-2048\n",
       "137574  0.10  0.002793  v3-2048\n",
       "137575  0.10  0.001929  v3-2048\n",
       "\n",
       "[137576 rows x 3 columns]"
      ]
     },
     "execution_count": 25,
     "metadata": {},
     "output_type": "execute_result"
    }
   ],
   "source": [
    "df.boxplot(columns[\"diff\"], by=[\"eps\"])"
   ]
  },
  {
   "cell_type": "code",
   "execution_count": 39,
   "metadata": {},
   "outputs": [
    {
     "name": "stdout",
     "output_type": "stream",
     "text": [
      "9 [ 2.25  4.25  6.25  8.25 10.25 12.25 14.25 16.25 18.25 20.25]\n",
      "9 [ 2.25  4.25  6.25  8.25 10.25 12.25 14.25 16.25 18.25 20.25]\n",
      "9 [ 2.25  4.25  6.25  8.25 10.25 12.25 14.25 16.25 18.25 20.25]\n",
      "9 [ 2.25  4.25  6.25  8.25 10.25 12.25 14.25 16.25 18.25 20.25]\n"
     ]
    },
    {
     "data": {
      "image/png": "[encoded data removed]",
      "text/plain": [
       "<Figure size 432x288 with 1 Axes>"
      ]
     },
     "metadata": {
      "needs_background": "light"
     },
     "output_type": "display_data"
    }
   ],
   "source": [
    "DUMP_DIR = \"/data/dumps/expC_dist_learner_for_adv_ex/rdm_concspheres_test/rdm_concspheres_k2n500_noninfdist_moreoffmfld_bs2048_lr_tuning/\"\n",
    "use_split = \"test\"\n",
    "plt.figure()\n",
    "runs = [\"1\", \"5\", \"6\", \"7\"]\n",
    "\n",
    "w = 1.0 / len(runs)\n",
    "mid = len(runs) // 2\n",
    "\n",
    "for j in range(len(runs)):\n",
    "    \n",
    "    run = runs[j]\n",
    "    run_dir = os.path.join(DUMP_DIR, run)\n",
    "    \n",
    "    logits_fn = os.path.join(run_dir, \"logits\", use_split, \"logits.pt\")\n",
    "    targets_fn = os.path.join(run_dir, \"logits\", use_split, \"targets.pt\")\n",
    "    config_fn = os.path.join(run_dir, \"config.json\")\n",
    "    \n",
    "    logits = torch.load(logits_fn)\n",
    "    targets = torch.load(targets_fn)\n",
    "    with open(config_fn) as f:\n",
    "        config = json.load(f)\n",
    "    dt = config[\"data\"][\"data_tag\"]\n",
    "    \n",
    "    settings = {\n",
    "        dt: {\n",
    "            \"logits\": logits,\n",
    "            \"targets\": targets,\n",
    "            \"label\": run\n",
    "        }\n",
    "    }\n",
    "    \n",
    "    \n",
    "    diff = np.linalg.norm(logits - targets, axis=1, ord=2)\n",
    "    gt_distances = torch.min(targets, dim=1)[0]\n",
    "    \n",
    "    print(i, np.arange(0, x_ticks.shape[0]*2, 2) + (i*w))\n",
    "\n",
    "    x_ticks = np.round(np.arange(0.01, 0.11, 0.01), 2)\n",
    "    \n",
    "    y_vals = np.zeros(x_ticks.shape[0])\n",
    "    y_err = np.zeros(x_ticks.shape[0])\n",
    "    for i in range(x_ticks.shape[0]):\n",
    "        lvalue = x_ticks[i - 1]\n",
    "        rvalue = x_ticks[i]\n",
    "        if i == 0:\n",
    "            lvalue = 0\n",
    "        in_range_diffs = diff[(gt_distances > lvalue) & (gt_distances < rvalue)]\n",
    "        \n",
    "        y_vals[i] = np.mean(in_range_diffs)\n",
    "        y_err[i] = np.std(in_range_diffs)\n",
    "    \n",
    "    plt.bar(x=np.arange(0, x_ticks.shape[0]*2, 2) + (j * w) , height=y_vals.tolist(), width=w, label=settings[dt][\"label\"])\n",
    "    \n",
    "plt.xticks(ticks=np.arange(0, x_ticks.shape[0]*2, 2) + (mid*w), labels=x_ticks)\n",
    "plt.legend()\n",
    "plt.show()"
   ]
  },
  {
   "cell_type": "code",
   "execution_count": 21,
   "metadata": {},
   "outputs": [
    {
     "data": {
      "text/plain": [
       "0.25"
      ]
     },
     "execution_count": 21,
     "metadata": {},
     "output_type": "execute_result"
    }
   ],
   "source": []
  },
  {
   "cell_type": "code",
   "execution_count": 11,
   "metadata": {},
   "outputs": [
    {
     "data": {
      "text/plain": [
       "array([ 0,  2,  4,  6,  8, 10, 12, 14, 16, 18])"
      ]
     },
     "execution_count": 11,
     "metadata": {},
     "output_type": "execute_result"
    }
   ],
   "source": [
    "np.arange(0, x_ticks.shape[0]*2, 2)"
   ]
  },
  {
   "cell_type": "code",
   "execution_count": null,
   "metadata": {},
   "outputs": [],
   "source": []
  }
 ],
 "metadata": {
  "kernelspec": {
   "display_name": "Python 3",
   "language": "python",
   "name": "python3"
  },
  "language_info": {
   "codemirror_mode": {
    "name": "ipython",
    "version": 3
   },
   "file_extension": ".py",
   "mimetype": "text/x-python",
   "name": "python",
   "nbconvert_exporter": "python",
   "pygments_lexer": "ipython3",
   "version": "3.6.9"
  }
 },
 "nbformat": 4,
 "nbformat_minor": 4
}
